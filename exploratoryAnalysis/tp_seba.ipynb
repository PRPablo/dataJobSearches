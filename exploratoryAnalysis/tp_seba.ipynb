{
 "cells": [
  {
   "cell_type": "code",
   "execution_count": 1,
   "metadata": {},
   "outputs": [],
   "source": [
    "import pandas as pd"
   ]
  },
  {
   "cell_type": "code",
   "execution_count": 2,
   "metadata": {},
   "outputs": [],
   "source": [
    "avisos_detalles      = pd.read_csv('../data/fiuba_6_avisos_detalle.csv')\n",
    "avisos_visitas       = pd.read_csv('../data/fiuba_3_vistas.csv')\n",
    "avisos_postulaciones = pd.read_csv('../data/fiuba_4_postulaciones.csv')"
   ]
  },
  {
   "cell_type": "code",
   "execution_count": null,
   "metadata": {},
   "outputs": [],
   "source": [
    "# Cambiar el tipo de dato de la fecha de postulacion.\n",
    "avisos_postulaciones['fechapostulacion'] = avisos_postulaciones['fechapostulacion'].apply(pd.to_datetime)"
   ]
  },
  {
   "cell_type": "code",
   "execution_count": null,
   "metadata": {},
   "outputs": [],
   "source": [
    "avisos_detalles.head(20)"
   ]
  },
  {
   "cell_type": "code",
   "execution_count": null,
   "metadata": {},
   "outputs": [],
   "source": [
    "avisos_detalles.groupby('nivel_laboral')['nivel_laboral'].count()"
   ]
  },
  {
   "cell_type": "code",
   "execution_count": null,
   "metadata": {},
   "outputs": [],
   "source": [
    "# Cuales son los niveles laborales mas requeridos?\n",
    "avisos_detalles.groupby('nivel_laboral')['nivel_laboral'].count().sort_values(ascending=True).plot(kind='bar');"
   ]
  },
  {
   "cell_type": "code",
   "execution_count": null,
   "metadata": {},
   "outputs": [],
   "source": [
    "# Cuales son las areas laborales con mayor oferta?\n",
    "avisos_detalles.groupby('nombre_area')['nombre_area'].count().sort_values(ascending=False).head(30).plot(kind='bar', figsize=(15,8));"
   ]
  },
  {
   "cell_type": "code",
   "execution_count": null,
   "metadata": {},
   "outputs": [],
   "source": [
    "# Cuales son las areas laborales con menor oferta?\n",
    "avisos_detalles.groupby('nombre_area')['nombre_area'].count().sort_values(ascending=True).head(70).plot(kind='bar', figsize=(15,8));"
   ]
  },
  {
   "cell_type": "code",
   "execution_count": null,
   "metadata": {},
   "outputs": [],
   "source": [
    "avisos_postulaciones_with_detail = pd.merge(avisos_postulaciones, avisos_detalles,  how='inner', left_on='idaviso', right_on='idaviso')"
   ]
  },
  {
   "cell_type": "code",
   "execution_count": null,
   "metadata": {},
   "outputs": [],
   "source": [
    "# Cuales son las areas laborales con mayor cantidad de postulaciones?\n",
    "avisos_postulaciones_with_detail.groupby('nombre_area')['nombre_area'].count().sort_values(ascending=False).head(30).plot(kind='bar', figsize=(15,8));"
   ]
  },
  {
   "cell_type": "code",
   "execution_count": null,
   "metadata": {},
   "outputs": [],
   "source": [
    "# Cuales son las areas laborales con menor cantidad de postulaciones?\n",
    "avisos_postulaciones_with_detail.groupby('nombre_area')['nombre_area'].count().sort_values(ascending=True).head(50).plot(kind='bar', figsize=(15,8));"
   ]
  },
  {
   "cell_type": "code",
   "execution_count": null,
   "metadata": {},
   "outputs": [],
   "source": []
  },
  {
   "cell_type": "code",
   "execution_count": null,
   "metadata": {},
   "outputs": [],
   "source": []
  },
  {
   "cell_type": "code",
   "execution_count": null,
   "metadata": {},
   "outputs": [],
   "source": []
  },
  {
   "cell_type": "code",
   "execution_count": null,
   "metadata": {},
   "outputs": [],
   "source": []
  },
  {
   "cell_type": "code",
   "execution_count": null,
   "metadata": {},
   "outputs": [],
   "source": []
  }
 ],
 "metadata": {
  "kernelspec": {
   "display_name": "Python 3",
   "language": "python",
   "name": "python3"
  },
  "language_info": {
   "codemirror_mode": {
    "name": "ipython",
    "version": 3
   },
   "file_extension": ".py",
   "mimetype": "text/x-python",
   "name": "python",
   "nbconvert_exporter": "python",
   "pygments_lexer": "ipython3",
   "version": "3.6.5"
  }
 },
 "nbformat": 4,
 "nbformat_minor": 2
}
