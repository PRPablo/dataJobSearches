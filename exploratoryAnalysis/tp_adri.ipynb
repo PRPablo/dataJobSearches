{
 "cells": [
  {
   "cell_type": "markdown",
   "metadata": {},
   "source": [
    "# TP 1: Analisis Exploratorio\n",
    "### Arrancando con Jupyter"
   ]
  },
  {
   "cell_type": "code",
   "execution_count": 1,
   "metadata": {
    "scrolled": true
   },
   "outputs": [
    {
     "data": {
      "text/html": [
       "<style>.container { width:90% !important; }</style>"
      ],
      "text/plain": [
       "<IPython.core.display.HTML object>"
      ]
     },
     "metadata": {},
     "output_type": "display_data"
    }
   ],
   "source": [
    "#from IPython.core.display import display, HTML\n",
    "#display(HTML(\"<style>.container { width:90% !important; }</style>\"))\n",
    "from IPython.core.display import display, HTML\n",
    "display(HTML(\"<style>.container { width:90% !important; }</style>\"))"
   ]
  },
  {
   "cell_type": "code",
   "execution_count": 2,
   "metadata": {},
   "outputs": [],
   "source": [
    "import pandas as pd\n",
    "import numpy as np\n",
    "import matplotlib.pyplot as plt\n",
    "%matplotlib inline"
   ]
  },
  {
   "cell_type": "code",
   "execution_count": 30,
   "metadata": {},
   "outputs": [],
   "source": [
    "# Carga de archivos\n",
    "post_educacion = pd.read_csv('../data/fiuba_1_postulantes_educacion.csv', dtype = {\n",
    "    'nombre': 'category',\n",
    "    'estado': 'category'\n",
    "})\n",
    "post_gen_edad = pd.read_csv('../data/fiuba_2_postulantes_genero_y_edad.csv', dtype = {\n",
    "    'sexo': 'category'    \n",
    "})\n",
    "\n",
    "vistas = pd.read_csv('../data/fiuba_3_vistas.csv', parse_dates=['timestamp'])\n",
    "postulaciones = pd.read_csv('../data/fiuba_4_postulaciones.csv', parse_dates=['fechapostulacion'])\n",
    "avisos_online = pd.read_csv('../data/fiuba_5_avisos_online.csv')\n",
    "\n",
    "avisos_detalles = pd.read_csv('../data/fiuba_6_avisos_detalle.csv', dtype= {\n",
    "    'nombre_zona': 'category',\n",
    "    'ciudad': 'category',\n",
    "    'tipo_de_trabajo': 'category',\n",
    "    'nivel_laboral': 'category',\n",
    "})"
   ]
  },
  {
   "cell_type": "markdown",
   "metadata": {},
   "source": [
    "# Ajustes en los archivos antes de procesar"
   ]
  },
  {
   "cell_type": "code",
   "execution_count": 31,
   "metadata": {},
   "outputs": [],
   "source": [
    "# Recorto la columna idpais ya que no es necesaria.\n",
    "avisos_detalles.drop('idpais', axis=1, inplace=True)"
   ]
  },
  {
   "cell_type": "code",
   "execution_count": 32,
   "metadata": {},
   "outputs": [],
   "source": [
    "areas_agrupadas = pd.read_csv('../extraData/areas_agrupadas.csv')"
   ]
  },
  {
   "cell_type": "code",
   "execution_count": 35,
   "metadata": {},
   "outputs": [],
   "source": [
    "# Agrupo las áreas parecidas.\n",
    "avisos_detalles = pd.merge(avisos_detalles, areas_agrupadas, how='inner', on='nombre_area')\n",
    "avisos_detalles['nombre_area'] = avisos_detalles['nuevo_nombre_area']\n",
    "avisos_detalles.drop('nuevo_nombre_area', axis=1, inplace=True)"
   ]
  },
  {
   "cell_type": "code",
   "execution_count": 9,
   "metadata": {},
   "outputs": [],
   "source": [
    "# Convierto el nombre del area a category.\n",
    "avisos_detalles['nombre_area'] = avisos_detalles['nombre_area'].astype('category')"
   ]
  },
  {
   "cell_type": "code",
   "execution_count": 10,
   "metadata": {},
   "outputs": [],
   "source": [
    "# Agrego tipo categorico y modifico el tipo de dato de la fecha.\n",
    "post_gen_edad.fechanacimiento = post_gen_edad.fechanacimiento.apply(pd.to_datetime, errors='coerce')"
   ]
  },
  {
   "cell_type": "code",
   "execution_count": 11,
   "metadata": {},
   "outputs": [],
   "source": [
    "# Calculo el uso de memoria previamente para comparar despues.\n",
    "# postulaciones.info(memory_usage='deep')"
   ]
  },
  {
   "cell_type": "code",
   "execution_count": 12,
   "metadata": {},
   "outputs": [],
   "source": [
    "# Verifico cuanto cambio el consumo de memoria.\n",
    "# postulaciones.info(memory_usage='deep')"
   ]
  },
  {
   "cell_type": "markdown",
   "metadata": {},
   "source": [
    "# Empieza el analisis"
   ]
  },
  {
   "cell_type": "code",
   "execution_count": 13,
   "metadata": {
    "scrolled": false
   },
   "outputs": [],
   "source": [
    "# Asigno puntajes a los diferentes niveles educativos encontrados para poder \n",
    "# obtener asi la educacion mas valiosa de cada postulante.\n",
    "valores_educacion = pd.DataFrame({\n",
    "    'nombre': ['Otro',  'Otro',  'Otro',  'Secundario',  'Secundario',  'Secundario',  'Terciario/Técnico', 'Universitario',  \\\n",
    "              'Terciario/Técnico', 'Universitario',  'Terciario/Técnico', 'Universitario',  'Posgrado', 'Master','Posgrado', \\\n",
    "              'Master','Posgrado', 'Master','Doctorado','Doctorado','Doctorado'],\n",
    "    'estado': ['Abandonado', 'En Curso','Graduado','Abandonado', 'En Curso','Graduado','Abandonado', 'Abandonado', 'En Curso',\\\n",
    "              'En Curso','Graduado','Graduado','Abandonado', 'Abandonado', 'En Curso','En Curso','Graduado','Graduado',\\\n",
    "              'Abandonado', 'En Curso','Graduado'],\n",
    "    'valor_educacion': [1 , 2 , 3 , 4, 5,6 ,7 ,8 ,9,10, 11, 12, 13, 14, 15, 16, 17, 18, 19, 20, 21]})\n",
    "\n",
    "# Y le pongo las mismas categorias que ya habia encontrado previamente.\n",
    "valores_educacion.nombre = valores_educacion.nombre.astype((pd.api.types.CategoricalDtype(post_educacion.nombre.cat.categories)))\n",
    "valores_educacion.estado = valores_educacion.estado.astype((pd.api.types.CategoricalDtype(post_educacion.estado.cat.categories)))\n",
    "\n",
    "# Cuento cuantos registros tengo actualmente, para comprobar que no hay errores mas adelante.\n",
    "# post_educacion.count()"
   ]
  },
  {
   "cell_type": "code",
   "execution_count": 14,
   "metadata": {},
   "outputs": [],
   "source": [
    "# Hago el join para aplicar puntajes a las educaciones de los postulantes.\n",
    "post_educacion = pd.merge(post_educacion, valores_educacion, how='inner', \\\n",
    "                          left_on=['nombre','estado'], right_on = ['nombre','estado'])\n",
    "\n",
    "# Cuento cuantos registros tengo actualmente, para comprobar que no hay errores mas adelante.\n",
    "# post_educacion.count()"
   ]
  },
  {
   "cell_type": "code",
   "execution_count": 15,
   "metadata": {},
   "outputs": [
    {
     "data": {
      "text/plain": [
       "idpostulante       188752\n",
       "valor_educacion    188752\n",
       "dtype: int64"
      ]
     },
     "execution_count": 15,
     "metadata": {},
     "output_type": "execute_result"
    }
   ],
   "source": [
    "# Busco la maxima educacion que tiene cada postulante.\n",
    "max_post_educacion = post_educacion.groupby(['idpostulante'])['valor_educacion'].max().reset_index()\n",
    "\n",
    "# Controlo cuantas lineas me devolvio.\n",
    "max_post_educacion.count()"
   ]
  },
  {
   "cell_type": "code",
   "execution_count": 16,
   "metadata": {},
   "outputs": [],
   "source": [
    "# Hago el join para filtrar todas las educaciones que no me interesan, dejando solo la maxima educacion.\n",
    "post_educacion = pd.merge(post_educacion, max_post_educacion,  how='inner', \\\n",
    "                          left_on=['idpostulante','valor_educacion'], \\\n",
    "                          right_on = ['idpostulante','valor_educacion'])\n",
    "\n",
    "# post_educacion.count()"
   ]
  },
  {
   "cell_type": "code",
   "execution_count": 17,
   "metadata": {},
   "outputs": [
    {
     "data": {
      "text/html": [
       "<div>\n",
       "<style scoped>\n",
       "    .dataframe tbody tr th:only-of-type {\n",
       "        vertical-align: middle;\n",
       "    }\n",
       "\n",
       "    .dataframe tbody tr th {\n",
       "        vertical-align: top;\n",
       "    }\n",
       "\n",
       "    .dataframe thead th {\n",
       "        text-align: right;\n",
       "    }\n",
       "</style>\n",
       "<table border=\"1\" class=\"dataframe\">\n",
       "  <thead>\n",
       "    <tr style=\"text-align: right;\">\n",
       "      <th></th>\n",
       "      <th>Cantidad de Postulantes</th>\n",
       "      <th>resumen</th>\n",
       "    </tr>\n",
       "  </thead>\n",
       "  <tbody>\n",
       "    <tr>\n",
       "      <th>6</th>\n",
       "      <td>219</td>\n",
       "      <td>Otro Abandonado</td>\n",
       "    </tr>\n",
       "    <tr>\n",
       "      <th>7</th>\n",
       "      <td>186</td>\n",
       "      <td>Otro En Curso</td>\n",
       "    </tr>\n",
       "    <tr>\n",
       "      <th>8</th>\n",
       "      <td>933</td>\n",
       "      <td>Otro Graduado</td>\n",
       "    </tr>\n",
       "    <tr>\n",
       "      <th>12</th>\n",
       "      <td>2681</td>\n",
       "      <td>Secundario Abandonado</td>\n",
       "    </tr>\n",
       "    <tr>\n",
       "      <th>13</th>\n",
       "      <td>3397</td>\n",
       "      <td>Secundario En Curso</td>\n",
       "    </tr>\n",
       "    <tr>\n",
       "      <th>14</th>\n",
       "      <td>56333</td>\n",
       "      <td>Secundario Graduado</td>\n",
       "    </tr>\n",
       "    <tr>\n",
       "      <th>15</th>\n",
       "      <td>3034</td>\n",
       "      <td>Terciario/Técnico Abandonado</td>\n",
       "    </tr>\n",
       "    <tr>\n",
       "      <th>18</th>\n",
       "      <td>7122</td>\n",
       "      <td>Universitario Abandonado</td>\n",
       "    </tr>\n",
       "    <tr>\n",
       "      <th>16</th>\n",
       "      <td>10690</td>\n",
       "      <td>Terciario/Técnico En Curso</td>\n",
       "    </tr>\n",
       "    <tr>\n",
       "      <th>19</th>\n",
       "      <td>41097</td>\n",
       "      <td>Universitario En Curso</td>\n",
       "    </tr>\n",
       "    <tr>\n",
       "      <th>17</th>\n",
       "      <td>22066</td>\n",
       "      <td>Terciario/Técnico Graduado</td>\n",
       "    </tr>\n",
       "    <tr>\n",
       "      <th>20</th>\n",
       "      <td>31258</td>\n",
       "      <td>Universitario Graduado</td>\n",
       "    </tr>\n",
       "    <tr>\n",
       "      <th>9</th>\n",
       "      <td>248</td>\n",
       "      <td>Posgrado Abandonado</td>\n",
       "    </tr>\n",
       "    <tr>\n",
       "      <th>3</th>\n",
       "      <td>97</td>\n",
       "      <td>Master Abandonado</td>\n",
       "    </tr>\n",
       "    <tr>\n",
       "      <th>10</th>\n",
       "      <td>1737</td>\n",
       "      <td>Posgrado En Curso</td>\n",
       "    </tr>\n",
       "    <tr>\n",
       "      <th>4</th>\n",
       "      <td>1176</td>\n",
       "      <td>Master En Curso</td>\n",
       "    </tr>\n",
       "    <tr>\n",
       "      <th>11</th>\n",
       "      <td>4372</td>\n",
       "      <td>Posgrado Graduado</td>\n",
       "    </tr>\n",
       "    <tr>\n",
       "      <th>5</th>\n",
       "      <td>1895</td>\n",
       "      <td>Master Graduado</td>\n",
       "    </tr>\n",
       "    <tr>\n",
       "      <th>0</th>\n",
       "      <td>15</td>\n",
       "      <td>Doctorado Abandonado</td>\n",
       "    </tr>\n",
       "    <tr>\n",
       "      <th>1</th>\n",
       "      <td>91</td>\n",
       "      <td>Doctorado En Curso</td>\n",
       "    </tr>\n",
       "    <tr>\n",
       "      <th>2</th>\n",
       "      <td>105</td>\n",
       "      <td>Doctorado Graduado</td>\n",
       "    </tr>\n",
       "  </tbody>\n",
       "</table>\n",
       "</div>"
      ],
      "text/plain": [
       "    Cantidad de Postulantes                       resumen\n",
       "6                       219               Otro Abandonado\n",
       "7                       186                 Otro En Curso\n",
       "8                       933                 Otro Graduado\n",
       "12                     2681         Secundario Abandonado\n",
       "13                     3397           Secundario En Curso\n",
       "14                    56333           Secundario Graduado\n",
       "15                     3034  Terciario/Técnico Abandonado\n",
       "18                     7122      Universitario Abandonado\n",
       "16                    10690    Terciario/Técnico En Curso\n",
       "19                    41097        Universitario En Curso\n",
       "17                    22066    Terciario/Técnico Graduado\n",
       "20                    31258        Universitario Graduado\n",
       "9                       248           Posgrado Abandonado\n",
       "3                        97             Master Abandonado\n",
       "10                     1737             Posgrado En Curso\n",
       "4                      1176               Master En Curso\n",
       "11                     4372             Posgrado Graduado\n",
       "5                      1895               Master Graduado\n",
       "0                        15          Doctorado Abandonado\n",
       "1                        91            Doctorado En Curso\n",
       "2                       105            Doctorado Graduado"
      ]
     },
     "execution_count": 17,
     "metadata": {},
     "output_type": "execute_result"
    }
   ],
   "source": [
    "post_educacion_graph = post_educacion.groupby(['nombre', 'estado', 'valor_educacion'])['idpostulante'].count().reset_index()\n",
    "post_educacion_graph['resumen'] = post_educacion_graph.nombre.astype('object') + ' ' + post_educacion_graph.estado.astype('object')\n",
    "post_educacion_graph.sort_values('valor_educacion', inplace=True)\n",
    "post_educacion_graph.reset_index()\n",
    "post_educacion_graph.drop(['nombre', 'estado', 'valor_educacion'], axis=1, inplace=True)\n",
    "post_educacion_graph.rename(columns= {'idpostulante' : 'Cantidad de Postulantes'}, inplace=True)\n",
    "\n",
    "post_educacion_graph.head(22)"
   ]
  },
  {
   "cell_type": "code",
   "execution_count": 18,
   "metadata": {
    "scrolled": true
   },
   "outputs": [
    {
     "data": {
      "image/png": "[encoded data removed]",
      "text/plain": [
       "<matplotlib.figure.Figure at 0x20c833a4dd8>"
      ]
     },
     "metadata": {},
     "output_type": "display_data"
    }
   ],
   "source": [
    "post_educacion_graph2 = post_educacion_graph[['resumen','Cantidad de Postulantes']].plot(kind='bar', x = 'resumen',                                                           \n",
    "                                                           title =\"Cantidad de Personas s/ Nivel Educativo\", \n",
    "                                                           figsize=(15, 10), legend=True, fontsize=12)\n",
    "post_educacion_graph2.set_xlabel(\"\", fontsize=12)\n",
    "post_educacion_graph2.set_ylabel(\"Cantidad de Postulantes\", fontsize=12)\n",
    "plt.show()"
   ]
  },
  {
   "cell_type": "markdown",
   "metadata": {},
   "source": [
    "# Busco los avisos mas populares"
   ]
  },
  {
   "cell_type": "code",
   "execution_count": 19,
   "metadata": {},
   "outputs": [
    {
     "data": {
      "text/html": [
       "<div>\n",
       "<style scoped>\n",
       "    .dataframe tbody tr th:only-of-type {\n",
       "        vertical-align: middle;\n",
       "    }\n",
       "\n",
       "    .dataframe tbody tr th {\n",
       "        vertical-align: top;\n",
       "    }\n",
       "\n",
       "    .dataframe thead th {\n",
       "        text-align: right;\n",
       "    }\n",
       "</style>\n",
       "<table border=\"1\" class=\"dataframe\">\n",
       "  <thead>\n",
       "    <tr style=\"text-align: right;\">\n",
       "      <th></th>\n",
       "      <th>idaviso</th>\n",
       "      <th>popularidad</th>\n",
       "    </tr>\n",
       "  </thead>\n",
       "  <tbody>\n",
       "    <tr>\n",
       "      <th>12635</th>\n",
       "      <td>1112369306</td>\n",
       "      <td>2450.0</td>\n",
       "    </tr>\n",
       "    <tr>\n",
       "      <th>12447</th>\n",
       "      <td>1112366909</td>\n",
       "      <td>1442.5</td>\n",
       "    </tr>\n",
       "    <tr>\n",
       "      <th>12449</th>\n",
       "      <td>1112366913</td>\n",
       "      <td>1171.5</td>\n",
       "    </tr>\n",
       "    <tr>\n",
       "      <th>12519</th>\n",
       "      <td>1112368053</td>\n",
       "      <td>1055.0</td>\n",
       "    </tr>\n",
       "    <tr>\n",
       "      <th>12479</th>\n",
       "      <td>1112367832</td>\n",
       "      <td>1033.0</td>\n",
       "    </tr>\n",
       "  </tbody>\n",
       "</table>\n",
       "</div>"
      ],
      "text/plain": [
       "          idaviso  popularidad\n",
       "12635  1112369306       2450.0\n",
       "12447  1112366909       1442.5\n",
       "12449  1112366913       1171.5\n",
       "12519  1112368053       1055.0\n",
       "12479  1112367832       1033.0"
      ]
     },
     "execution_count": 19,
     "metadata": {},
     "output_type": "execute_result"
    }
   ],
   "source": [
    "# Busco cuales son los avisos mas populares, basandome en la cantidad de postulaciones sobre la cantidad de dias que lleva online.\n",
    "avisos_popularidad = postulaciones.groupby(['idaviso'])['fechapostulacion'].agg(['min', 'max', 'count']).reset_index()\n",
    "avisos_popularidad['cantidad_dias'] = (avisos_popularidad['max'] - \\\n",
    "                                       avisos_popularidad['min']).apply(lambda x: x.days).astype(int) + 1\n",
    "avisos_popularidad.drop(['min', 'max'], axis=1, inplace=True)\n",
    "\n",
    "avisos_popularidad['popularidad'] = avisos_popularidad['count'] / avisos_popularidad['cantidad_dias']\n",
    "avisos_popularidad.drop(['count', 'cantidad_dias'], axis=1, inplace=True)\n",
    "avisos_popularidad.sort_values('popularidad', ascending=False, inplace=True)\n",
    "\n",
    "avisos_popularidad.head()"
   ]
  },
  {
   "cell_type": "code",
   "execution_count": 20,
   "metadata": {},
   "outputs": [],
   "source": [
    "avisos_detalles = pd.merge(avisos_detalles, avisos_popularidad, how='inner', \\\n",
    "                          left_on='idaviso', right_on='idaviso')"
   ]
  },
  {
   "cell_type": "code",
   "execution_count": 21,
   "metadata": {},
   "outputs": [
    {
     "data": {
      "text/html": [
       "<div>\n",
       "<style scoped>\n",
       "    .dataframe tbody tr th:only-of-type {\n",
       "        vertical-align: middle;\n",
       "    }\n",
       "\n",
       "    .dataframe tbody tr th {\n",
       "        vertical-align: top;\n",
       "    }\n",
       "\n",
       "    .dataframe thead th {\n",
       "        text-align: right;\n",
       "    }\n",
       "</style>\n",
       "<table border=\"1\" class=\"dataframe\">\n",
       "  <thead>\n",
       "    <tr style=\"text-align: right;\">\n",
       "      <th></th>\n",
       "      <th>idaviso</th>\n",
       "      <th>titulo</th>\n",
       "      <th>descripcion</th>\n",
       "      <th>nombre_zona</th>\n",
       "      <th>ciudad</th>\n",
       "      <th>mapacalle</th>\n",
       "      <th>tipo_de_trabajo</th>\n",
       "      <th>nivel_laboral</th>\n",
       "      <th>nombre_area</th>\n",
       "      <th>denominacion_empresa</th>\n",
       "      <th>popularidad</th>\n",
       "    </tr>\n",
       "  </thead>\n",
       "  <tbody>\n",
       "    <tr>\n",
       "      <th>0</th>\n",
       "      <td>8725750</td>\n",
       "      <td>VENDEDOR/A PROVINCIA DE SANTA FE</td>\n",
       "      <td>&lt;p&gt;&lt;strong&gt;&lt;strong&gt;Empresa:&lt;/strong&gt;&lt;/strong&gt; ...</td>\n",
       "      <td>Gran Buenos Aires</td>\n",
       "      <td>NaN</td>\n",
       "      <td>NaN</td>\n",
       "      <td>Full-time</td>\n",
       "      <td>Senior / Semi-Senior</td>\n",
       "      <td>Comercial y Ventas</td>\n",
       "      <td>VENTOR</td>\n",
       "      <td>4.333333</td>\n",
       "    </tr>\n",
       "    <tr>\n",
       "      <th>1</th>\n",
       "      <td>1002448818</td>\n",
       "      <td>Ejecutivo de Cuentas Sr.</td>\n",
       "      <td>&lt;p&gt;Importante empresa del Mercado Asegurador A...</td>\n",
       "      <td>Gran Buenos Aires</td>\n",
       "      <td>Capital Federal</td>\n",
       "      <td>NaN</td>\n",
       "      <td>Full-time</td>\n",
       "      <td>Senior / Semi-Senior</td>\n",
       "      <td>Comercial y Ventas</td>\n",
       "      <td>Romasanta y Asociados SA</td>\n",
       "      <td>2.000000</td>\n",
       "    </tr>\n",
       "    <tr>\n",
       "      <th>2</th>\n",
       "      <td>1110640622</td>\n",
       "      <td>Agente Inmobiliario para Oficinas RE/MAX en Zo...</td>\n",
       "      <td>&lt;p&gt;Si te gusta deleitar a tus clientes, brinda...</td>\n",
       "      <td>Capital Federal</td>\n",
       "      <td>NaN</td>\n",
       "      <td>Gobernador Irigoyen 56</td>\n",
       "      <td>Full-time</td>\n",
       "      <td>Senior / Semi-Senior</td>\n",
       "      <td>Comercial y Ventas</td>\n",
       "      <td>RE/MAX TITANIUM</td>\n",
       "      <td>3.363636</td>\n",
       "    </tr>\n",
       "    <tr>\n",
       "      <th>3</th>\n",
       "      <td>1110843329</td>\n",
       "      <td>Chofer para Reparto</td>\n",
       "      <td>&lt;p&gt;Nos encontramos en la busqueda de chofer  d...</td>\n",
       "      <td>Gran Buenos Aires</td>\n",
       "      <td>NaN</td>\n",
       "      <td>NaN</td>\n",
       "      <td>Full-time</td>\n",
       "      <td>Senior / Semi-Senior</td>\n",
       "      <td>Comercial y Ventas</td>\n",
       "      <td>Nini Centro de Compras Mayorista</td>\n",
       "      <td>5.974359</td>\n",
       "    </tr>\n",
       "    <tr>\n",
       "      <th>4</th>\n",
       "      <td>1111034663</td>\n",
       "      <td>Operador con exp. en RETENCION DE CLIENTES</td>\n",
       "      <td>&lt;p&gt;Para importante Empresa de seguros, se inco...</td>\n",
       "      <td>Gran Buenos Aires</td>\n",
       "      <td>NaN</td>\n",
       "      <td>NaN</td>\n",
       "      <td>Part-time</td>\n",
       "      <td>Senior / Semi-Senior</td>\n",
       "      <td>Comercial y Ventas</td>\n",
       "      <td>RANDSTAD</td>\n",
       "      <td>26.100000</td>\n",
       "    </tr>\n",
       "  </tbody>\n",
       "</table>\n",
       "</div>"
      ],
      "text/plain": [
       "      idaviso                                             titulo  \\\n",
       "0     8725750                   VENDEDOR/A PROVINCIA DE SANTA FE   \n",
       "1  1002448818                           Ejecutivo de Cuentas Sr.   \n",
       "2  1110640622  Agente Inmobiliario para Oficinas RE/MAX en Zo...   \n",
       "3  1110843329                                Chofer para Reparto   \n",
       "4  1111034663        Operador con exp. en RETENCION DE CLIENTES    \n",
       "\n",
       "                                         descripcion        nombre_zona  \\\n",
       "0  <p><strong><strong>Empresa:</strong></strong> ...  Gran Buenos Aires   \n",
       "1  <p>Importante empresa del Mercado Asegurador A...  Gran Buenos Aires   \n",
       "2  <p>Si te gusta deleitar a tus clientes, brinda...    Capital Federal   \n",
       "3  <p>Nos encontramos en la busqueda de chofer  d...  Gran Buenos Aires   \n",
       "4  <p>Para importante Empresa de seguros, se inco...  Gran Buenos Aires   \n",
       "\n",
       "            ciudad               mapacalle tipo_de_trabajo  \\\n",
       "0              NaN                     NaN       Full-time   \n",
       "1  Capital Federal                     NaN       Full-time   \n",
       "2              NaN  Gobernador Irigoyen 56       Full-time   \n",
       "3              NaN                     NaN       Full-time   \n",
       "4              NaN                     NaN       Part-time   \n",
       "\n",
       "          nivel_laboral         nombre_area              denominacion_empresa  \\\n",
       "0  Senior / Semi-Senior  Comercial y Ventas                            VENTOR   \n",
       "1  Senior / Semi-Senior  Comercial y Ventas          Romasanta y Asociados SA   \n",
       "2  Senior / Semi-Senior  Comercial y Ventas                   RE/MAX TITANIUM   \n",
       "3  Senior / Semi-Senior  Comercial y Ventas  Nini Centro de Compras Mayorista   \n",
       "4  Senior / Semi-Senior  Comercial y Ventas                          RANDSTAD   \n",
       "\n",
       "   popularidad  \n",
       "0     4.333333  \n",
       "1     2.000000  \n",
       "2     3.363636  \n",
       "3     5.974359  \n",
       "4    26.100000  "
      ]
     },
     "execution_count": 21,
     "metadata": {},
     "output_type": "execute_result"
    }
   ],
   "source": [
    "avisos_detalles.sort_values('popularidad', ascending=False, )\n",
    "avisos_detalles.head()"
   ]
  },
  {
   "cell_type": "code",
   "execution_count": 22,
   "metadata": {},
   "outputs": [
    {
     "data": {
      "text/html": [
       "<div>\n",
       "<style scoped>\n",
       "    .dataframe tbody tr th:only-of-type {\n",
       "        vertical-align: middle;\n",
       "    }\n",
       "\n",
       "    .dataframe tbody tr th {\n",
       "        vertical-align: top;\n",
       "    }\n",
       "\n",
       "    .dataframe thead th {\n",
       "        text-align: right;\n",
       "    }\n",
       "</style>\n",
       "<table border=\"1\" class=\"dataframe\">\n",
       "  <thead>\n",
       "    <tr style=\"text-align: right;\">\n",
       "      <th></th>\n",
       "      <th>lugar_de_trabajo</th>\n",
       "      <th>idaviso</th>\n",
       "    </tr>\n",
       "  </thead>\n",
       "  <tbody>\n",
       "    <tr>\n",
       "      <th>0</th>\n",
       "      <td></td>\n",
       "      <td>116</td>\n",
       "    </tr>\n",
       "    <tr>\n",
       "      <th>44</th>\n",
       "      <td>caba</td>\n",
       "      <td>87</td>\n",
       "    </tr>\n",
       "    <tr>\n",
       "      <th>181</th>\n",
       "      <td>microcentro</td>\n",
       "      <td>57</td>\n",
       "    </tr>\n",
       "    <tr>\n",
       "      <th>63</th>\n",
       "      <td>capital federal</td>\n",
       "      <td>47</td>\n",
       "    </tr>\n",
       "    <tr>\n",
       "      <th>208</th>\n",
       "      <td>palermo, caba</td>\n",
       "      <td>27</td>\n",
       "    </tr>\n",
       "  </tbody>\n",
       "</table>\n",
       "</div>"
      ],
      "text/plain": [
       "    lugar_de_trabajo  idaviso\n",
       "0                         116\n",
       "44              caba       87\n",
       "181      microcentro       57\n",
       "63   capital federal       47\n",
       "208    palermo, caba       27"
      ]
     },
     "execution_count": 22,
     "metadata": {},
     "output_type": "execute_result"
    }
   ],
   "source": [
    "avisos_detalles['lugar_de_trabajo'] = \\\n",
    "    avisos_detalles.descripcion.str.extract(r'Lugar de trabajo:(\\s*Av\\. [^<\\(-]*|[^<.\\(-]*)', expand=False)\n",
    "avisos_detalles.lugar_de_trabajo = avisos_detalles.lugar_de_trabajo.str.replace('\\x96|\\xa0|\\s+', ' ').str.strip().str.lower()\n",
    "avisos_detalles.lugar_de_trabajo = avisos_detalles.lugar_de_trabajo.str.replace('ü', 'u').str.replace('á', 'a').str.replace('é', 'e')\n",
    "avisos_detalles.lugar_de_trabajo = avisos_detalles.lugar_de_trabajo.str.replace('í', 'i').str.replace('ó', 'o').str.replace('ú', 'u')\n",
    "avisos_detalles.lugar_de_trabajo.fillna(value='')\n",
    "     \n",
    "avisos_por_lugar_de_trabajo = avisos_detalles.groupby('lugar_de_trabajo')['idaviso'].count().reset_index()\n",
    "avisos_por_lugar_de_trabajo.sort_values('idaviso', ascending=False, inplace=True)\n",
    "\n",
    "avisos_por_lugar_de_trabajo.head()"
   ]
  },
  {
   "cell_type": "code",
   "execution_count": 23,
   "metadata": {},
   "outputs": [],
   "source": [
    "\n",
    "pd.options.display.max_rows = 60\n",
    "#avisos_detalles[avisos_detalles['lugar_de_trabajo'].notnull()].head()"
   ]
  },
  {
   "cell_type": "code",
   "execution_count": null,
   "metadata": {},
   "outputs": [],
   "source": []
  },
  {
   "cell_type": "code",
   "execution_count": null,
   "metadata": {},
   "outputs": [],
   "source": []
  },
  {
   "cell_type": "code",
   "execution_count": null,
   "metadata": {},
   "outputs": [],
   "source": []
  },
  {
   "cell_type": "code",
   "execution_count": null,
   "metadata": {},
   "outputs": [],
   "source": []
  }
 ],
 "metadata": {
  "kernelspec": {
   "display_name": "Python 3",
   "language": "python",
   "name": "python3"
  },
  "language_info": {
   "codemirror_mode": {
    "name": "ipython",
    "version": 3
   },
   "file_extension": ".py",
   "mimetype": "text/x-python",
   "name": "python",
   "nbconvert_exporter": "python",
   "pygments_lexer": "ipython3",
   "version": "3.6.4"
  }
 },
 "nbformat": 4,
 "nbformat_minor": 1
}
