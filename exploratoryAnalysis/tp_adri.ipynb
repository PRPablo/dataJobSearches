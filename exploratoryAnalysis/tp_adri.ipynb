{
 "cells": [
  {
   "cell_type": "markdown",
   "metadata": {},
   "source": [
    "# TP 1: Analisis Exploratorio\n",
    "### Arrancando con Jupyter"
   ]
  },
  {
   "cell_type": "code",
   "execution_count": 1,
   "metadata": {
    "scrolled": true
   },
   "outputs": [
    {
     "data": {
      "text/html": [
       "<style>.container { width:90% !important; }</style>"
      ],
      "text/plain": [
       "<IPython.core.display.HTML object>"
      ]
     },
     "metadata": {},
     "output_type": "display_data"
    }
   ],
   "source": [
    "#from IPython.core.display import display, HTML\n",
    "#display(HTML(\"<style>.container { width:90% !important; }</style>\"))\n",
    "from IPython.core.display import display, HTML\n",
    "display(HTML(\"<style>.container { width:90% !important; }</style>\"))"
   ]
  },
  {
   "cell_type": "code",
   "execution_count": 2,
   "metadata": {},
   "outputs": [],
   "source": [
    "import pandas as pd\n",
    "import numpy as np\n",
    "import seaborn as sns\n",
    "import matplotlib.pyplot as plt\n",
    "%matplotlib inline"
   ]
  },
  {
   "cell_type": "code",
   "execution_count": 3,
   "metadata": {},
   "outputs": [],
   "source": [
    "# Carga de archivos\n",
    "post_educacion = pd.read_csv('../data/fiuba_1_postulantes_educacion.csv')\n",
    "post_gen_edad = pd.read_csv('../data/fiuba_2_postulantes_genero_y_edad.csv')\n",
    "vistas = pd.read_csv('../data/fiuba_3_vistas.csv')\n",
    "postulaciones = pd.read_csv('../data/fiuba_4_postulaciones.csv')\n",
    "avisos = pd.read_csv('../data/fiuba_5_avisos_online.csv')\n",
    "avisos_detalles = pd.read_csv('../data/fiuba_6_avisos_detalle.csv')\n",
    "\n",
    "# Cambiar el tipo de dato de la fecha de postulacion.\n",
    "postulaciones[['fechapostulacion']] = postulaciones[['fechapostulacion']].apply(pd.to_datetime)"
   ]
  },
  {
   "cell_type": "code",
   "execution_count": 4,
   "metadata": {
    "scrolled": false
   },
   "outputs": [
    {
     "data": {
      "text/plain": [
       "idpostulante    298231\n",
       "nombre          298231\n",
       "estado          298231\n",
       "dtype: int64"
      ]
     },
     "execution_count": 4,
     "metadata": {},
     "output_type": "execute_result"
    }
   ],
   "source": [
    "# Asigno puntajes a los diferentes niveles educativos encontrados para poder \n",
    "# obtener asi la educacion mas valiosa de cada postulante.\n",
    "valores_educacion = [{'nombre': 'Otro', 'estado': 'Abandonado',    'valor_educacion': 1    },\n",
    "    {'nombre': 'Otro',                  'estado': 'En Curso',    'valor_educacion': 2    },\n",
    "    {'nombre': 'Otro',                  'estado': 'Graduado',    'valor_educacion': 3    },\n",
    "    {'nombre': 'Secundario',            'estado': 'Abandonado',    'valor_educacion': 4    },\n",
    "    {'nombre': 'Secundario',            'estado': 'En Curso',    'valor_educacion': 5    },\n",
    "    {'nombre': 'Secundario',        'estado': 'Graduado',    'valor_educacion': 6    },\n",
    "    {'nombre': 'Terciario/Técnico', 'estado': 'Abandonado',    'valor_educacion': 7    },\n",
    "    {'nombre': 'Universitario',     'estado': 'Abandonado',    'valor_educacion': 8    },\n",
    "    {'nombre': 'Terciario/Técnico', 'estado': 'En Curso',    'valor_educacion': 9    },\n",
    "    {'nombre': 'Universitario',     'estado': 'En Curso',    'valor_educacion': 10    },\n",
    "    {'nombre': 'Terciario/Técnico', 'estado': 'Graduado',    'valor_educacion': 11    },\n",
    "    {'nombre': 'Universitario',     'estado': 'Graduado',    'valor_educacion': 12    },\n",
    "    {'nombre': 'Posgrado',          'estado': 'Abandonado',    'valor_educacion': 13    },\n",
    "    {'nombre': 'Master',            'estado': 'Abandonado',    'valor_educacion': 14    },\n",
    "    {'nombre': 'Posgrado',          'estado': 'En Curso',    'valor_educacion': 15    },\n",
    "    {'nombre': 'Master',            'estado': 'En Curso',    'valor_educacion': 16    },\n",
    "    {'nombre': 'Posgrado',          'estado': 'Graduado',    'valor_educacion': 17    },\n",
    "    {'nombre': 'Master',            'estado': 'Graduado',    'valor_educacion': 18    },\n",
    "    {'nombre': 'Doctorado',         'estado': 'Abandonado',    'valor_educacion': 19    },\n",
    "    {'nombre': 'Doctorado',         'estado': 'En Curso',    'valor_educacion': 20    },\n",
    "    {'nombre': 'Doctorado',         'estado': 'Graduado',    'valor_educacion': 21 }]\n",
    "valores_educacion = pd.DataFrame(valores_educacion)\n",
    "\n",
    "# Cuento cuantos registros tengo actualmente, para comprobar que no hay errores mas adelante.\n",
    "post_educacion.count()"
   ]
  },
  {
   "cell_type": "code",
   "execution_count": 5,
   "metadata": {},
   "outputs": [
    {
     "data": {
      "text/plain": [
       "idpostulante       298231\n",
       "nombre             298231\n",
       "estado             298231\n",
       "valor_educacion    298231\n",
       "dtype: int64"
      ]
     },
     "execution_count": 5,
     "metadata": {},
     "output_type": "execute_result"
    }
   ],
   "source": [
    "# Hago el join para aplicar puntajes a las educaciones de los postulantes.\n",
    "post_educacion = pd.merge(post_educacion, valores_educacion,  how='inner', \\\n",
    "                          left_on=['nombre','estado'], right_on = ['nombre','estado'])\n",
    "\n",
    "# Cuento cuantos registros tengo actualmente, para comprobar que no hay errores mas adelante.\n",
    "# post_educacion.count()"
   ]
  },
  {
   "cell_type": "code",
   "execution_count": 21,
   "metadata": {},
   "outputs": [
    {
     "data": {
      "text/plain": [
       "idpostulante       188752\n",
       "nombre             188752\n",
       "estado             188752\n",
       "valor_educacion    188752\n",
       "dtype: int64"
      ]
     },
     "execution_count": 21,
     "metadata": {},
     "output_type": "execute_result"
    }
   ],
   "source": [
    "# Busco la maxima educacion que tiene cada postulante.\n",
    "max_post_educacion = post_educacion.groupby(['idpostulante'])['valor_educacion'].max().reset_index()\n",
    "max_post_educacion.count()"
   ]
  },
  {
   "cell_type": "code",
   "execution_count": 24,
   "metadata": {},
   "outputs": [
    {
     "data": {
      "text/plain": [
       "idpostulante       188752\n",
       "nombre             188752\n",
       "estado             188752\n",
       "valor_educacion    188752\n",
       "dtype: int64"
      ]
     },
     "execution_count": 24,
     "metadata": {},
     "output_type": "execute_result"
    }
   ],
   "source": [
    "# Hago el join para filtrar todas las educaciones que no me interesan, dejando solo la maxima educacion.\n",
    "post_educacion = pd.merge(post_educacion, max_post_educacion,  how='inner', \\\n",
    "                          left_on=['idpostulante','valor_educacion'], right_on = ['idpostulante','valor_educacion'])\n",
    "\n",
    "post_educacion.count()"
   ]
  },
  {
   "cell_type": "code",
   "execution_count": null,
   "metadata": {},
   "outputs": [],
   "source": []
  }
 ],
 "metadata": {
  "kernelspec": {
   "display_name": "Python 3",
   "language": "python",
   "name": "python3"
  },
  "language_info": {
   "codemirror_mode": {
    "name": "ipython",
    "version": 3
   },
   "file_extension": ".py",
   "mimetype": "text/x-python",
   "name": "python",
   "nbconvert_exporter": "python",
   "pygments_lexer": "ipython3",
   "version": "3.6.4"
  }
 },
 "nbformat": 4,
 "nbformat_minor": 1
}
