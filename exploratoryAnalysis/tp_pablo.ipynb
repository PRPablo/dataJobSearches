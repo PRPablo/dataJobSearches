{
 "cells": [
  {
   "cell_type": "code",
   "execution_count": 1,
   "metadata": {
    "collapsed": false
   },
   "outputs": [],
   "source": [
    "import matplotlib.pyplot as plt\n",
    "%matplotlib inline\n",
    "import pandas as pd\n",
    "from dateutil.parser import parse\n",
    "import numpy as np\n",
    "import seaborn as sns\n",
    "import warnings\n",
    "import datetime as dt\n",
    "warnings.filterwarnings('ignore')"
   ]
  },
  {
   "cell_type": "code",
   "execution_count": 2,
   "metadata": {
    "collapsed": true
   },
   "outputs": [],
   "source": [
    "# Carga de archivos\n",
    "post_educacion = pd.read_csv('../data/fiuba_1_postulantes_educacion.csv', dtype = {\n",
    "    'nombre': 'category',\n",
    "    'estado': 'category'\n",
    "})\n",
    "post_gen_edad = pd.read_csv('../data/fiuba_2_postulantes_genero_y_edad.csv', dtype = {\n",
    "    'sexo': 'category'    \n",
    "})\n",
    "\n",
    "vistas = pd.read_csv('../data/fiuba_3_vistas.csv', parse_dates=['timestamp'])\n",
    "postulaciones = pd.read_csv('../data/fiuba_4_postulaciones.csv', parse_dates=['fechapostulacion'])\n",
    "avisos_online = pd.read_csv('../data/fiuba_5_avisos_online.csv')\n",
    "\n",
    "avisos_detalles = pd.read_csv('../data/fiuba_6_avisos_detalle.csv', dtype= {\n",
    "    'nombre_zona': 'category',\n",
    "    'ciudad': 'category',\n",
    "    'tipo_de_trabajo': 'category',\n",
    "    'nivel_laboral': 'category',\n",
    "    'nombre_area': 'category'\n",
    "})"
   ]
  },
  {
   "cell_type": "markdown",
   "metadata": {},
   "source": [
    "# Ajustes en los archivos antes de procesar"
   ]
  },
  {
   "cell_type": "code",
   "execution_count": 3,
   "metadata": {
    "collapsed": false
   },
   "outputs": [
    {
     "data": {
      "text/plain": [
       "Timestamp('2018-04-14 16:45:39.118768')"
      ]
     },
     "execution_count": 3,
     "metadata": {},
     "output_type": "execute_result"
    }
   ],
   "source": [
    "vistas.rename(columns={\"idAviso\":\"idaviso\"}, inplace=True)\n",
    "vistas.rename(columns={\"timestamp\":\"fechavista\"}, inplace=True)\n",
    "\n",
    "# Cambiar el tipo de dato de la fecha de vista.\n",
    "vistas[['fechavista']] = vistas[['fechavista']].apply(pd.to_datetime)\n",
    "now = pd.Timestamp(dt.datetime.now())\n",
    "pd.to_datetime(now)"
   ]
  },
  {
   "cell_type": "code",
   "execution_count": 4,
   "metadata": {
    "collapsed": false
   },
   "outputs": [
    {
     "data": {
      "text/plain": [
       "Timestamp('2018-04-14 16:46:03.735739')"
      ]
     },
     "execution_count": 4,
     "metadata": {},
     "output_type": "execute_result"
    }
   ],
   "source": [
    "# Recorto la columna idpais ya que no es necesaria.\n",
    "avisos_detalles.drop('idpais', axis=1, inplace=True)\n",
    "# Agrego tipo categorico y modifico el tipo de dato de la fecha.\n",
    "post_gen_edad.fechanacimiento = post_gen_edad.fechanacimiento.apply(pd.to_datetime, errors='coerce')\n",
    "\n",
    "# Cambiar el tipo de dato de la fecha de postulacion.\n",
    "postulaciones[['fechapostulacion']] = postulaciones[['fechapostulacion']].apply(pd.to_datetime)\n",
    "now = pd.Timestamp(dt.datetime.now())\n",
    "pd.to_datetime(now)"
   ]
  },
  {
   "cell_type": "code",
   "execution_count": 5,
   "metadata": {
    "collapsed": true
   },
   "outputs": [],
   "source": [
    "# Agrupo las áreas parecidas.\n",
    "areas_agrupadas = pd.read_csv('../extraData/areas_agrupadas.csv')\n",
    "avisos_detalles = pd.merge(avisos_detalles, areas_agrupadas, how='inner', on='nombre_area')\n",
    "avisos_detalles['nombre_area'] = avisos_detalles['nuevo_nombre_area']\n",
    "avisos_detalles.drop('nuevo_nombre_area', axis=1, inplace=True)"
   ]
  },
  {
   "cell_type": "markdown",
   "metadata": {},
   "source": [
    "# Empieza el analisis"
   ]
  },
  {
   "cell_type": "code",
   "execution_count": 6,
   "metadata": {
    "collapsed": true
   },
   "outputs": [],
   "source": [
    "# Asigno puntajes a los diferentes niveles educativos encontrados para poder \n",
    "# obtener asi la educacion mas valiosa de cada postulante.\n",
    "valores_educacion = [{'nombre': 'Otro', 'estado': 'Abandonado',    'valor_educacion': 1    },\n",
    "    {'nombre': 'Otro',                  'estado': 'En Curso',    'valor_educacion': 2    },\n",
    "    {'nombre': 'Otro',                  'estado': 'Graduado',    'valor_educacion': 3    },\n",
    "    {'nombre': 'Secundario',            'estado': 'Abandonado',    'valor_educacion': 4    },\n",
    "    {'nombre': 'Secundario',            'estado': 'En Curso',    'valor_educacion': 5    },\n",
    "    {'nombre': 'Secundario',        'estado': 'Graduado',    'valor_educacion': 6    },\n",
    "    {'nombre': 'Terciario/Técnico', 'estado': 'Abandonado',    'valor_educacion': 7    },\n",
    "    {'nombre': 'Universitario',     'estado': 'Abandonado',    'valor_educacion': 8    },\n",
    "    {'nombre': 'Terciario/Técnico', 'estado': 'En Curso',    'valor_educacion': 9    },\n",
    "    {'nombre': 'Universitario',     'estado': 'En Curso',    'valor_educacion': 10    },\n",
    "    {'nombre': 'Terciario/Técnico', 'estado': 'Graduado',    'valor_educacion': 11    },\n",
    "    {'nombre': 'Universitario',     'estado': 'Graduado',    'valor_educacion': 12    },\n",
    "    {'nombre': 'Posgrado',          'estado': 'Abandonado',    'valor_educacion': 13    },\n",
    "    {'nombre': 'Master',            'estado': 'Abandonado',    'valor_educacion': 14    },\n",
    "    {'nombre': 'Posgrado',          'estado': 'En Curso',    'valor_educacion': 15    },\n",
    "    {'nombre': 'Master',            'estado': 'En Curso',    'valor_educacion': 16    },\n",
    "    {'nombre': 'Posgrado',          'estado': 'Graduado',    'valor_educacion': 17    },\n",
    "    {'nombre': 'Master',            'estado': 'Graduado',    'valor_educacion': 18    },\n",
    "    {'nombre': 'Doctorado',         'estado': 'Abandonado',    'valor_educacion': 19    },\n",
    "    {'nombre': 'Doctorado',         'estado': 'En Curso',    'valor_educacion': 20    },\n",
    "    {'nombre': 'Doctorado',         'estado': 'Graduado',    'valor_educacion': 21 }]\n",
    "valores_educacion = pd.DataFrame(valores_educacion)"
   ]
  },
  {
   "cell_type": "code",
   "execution_count": 7,
   "metadata": {
    "collapsed": false
   },
   "outputs": [
    {
     "data": {
      "text/plain": [
       "Index                80\n",
       "estado             1379\n",
       "nombre              850\n",
       "valor_educacion     168\n",
       "dtype: int64"
      ]
     },
     "execution_count": 7,
     "metadata": {},
     "output_type": "execute_result"
    }
   ],
   "source": [
    "valores_educacion.nombre = valores_educacion.nombre.astype('category', categories=post_educacion.nombre.cat.categories)\n",
    "valores_educacion.memory_usage(deep=True)"
   ]
  },
  {
   "cell_type": "code",
   "execution_count": 8,
   "metadata": {
    "collapsed": true
   },
   "outputs": [],
   "source": [
    "# Hago el join para aplicar puntajes a las educaciones de los postulantes.\n",
    "post_educacion = pd.merge(post_educacion, valores_educacion,  how='inner', \\\n",
    "                          left_on=['nombre','estado'], right_on = ['nombre','estado'])"
   ]
  },
  {
   "cell_type": "code",
   "execution_count": 9,
   "metadata": {
    "collapsed": false
   },
   "outputs": [
    {
     "data": {
      "text/plain": [
       "idpostulante       188752\n",
       "valor_educacion    188752\n",
       "dtype: int64"
      ]
     },
     "execution_count": 9,
     "metadata": {},
     "output_type": "execute_result"
    }
   ],
   "source": [
    "# Busco la maxima educacion que tiene cada postulante.\n",
    "max_post_educacion = post_educacion.groupby(['idpostulante'])['valor_educacion'].max().reset_index()\n",
    "max_post_educacion.count()"
   ]
  },
  {
   "cell_type": "code",
   "execution_count": 10,
   "metadata": {
    "collapsed": false
   },
   "outputs": [
    {
     "data": {
      "text/html": [
       "<div>\n",
       "<style scoped>\n",
       "    .dataframe tbody tr th:only-of-type {\n",
       "        vertical-align: middle;\n",
       "    }\n",
       "\n",
       "    .dataframe tbody tr th {\n",
       "        vertical-align: top;\n",
       "    }\n",
       "\n",
       "    .dataframe thead th {\n",
       "        text-align: right;\n",
       "    }\n",
       "</style>\n",
       "<table border=\"1\" class=\"dataframe\">\n",
       "  <thead>\n",
       "    <tr style=\"text-align: right;\">\n",
       "      <th></th>\n",
       "      <th>idpostulante</th>\n",
       "      <th>nombre</th>\n",
       "      <th>estado</th>\n",
       "      <th>valor_educacion</th>\n",
       "    </tr>\n",
       "  </thead>\n",
       "  <tbody>\n",
       "    <tr>\n",
       "      <th>0</th>\n",
       "      <td>NdJl</td>\n",
       "      <td>Posgrado</td>\n",
       "      <td>En Curso</td>\n",
       "      <td>15</td>\n",
       "    </tr>\n",
       "    <tr>\n",
       "      <th>1</th>\n",
       "      <td>axaPJ</td>\n",
       "      <td>Posgrado</td>\n",
       "      <td>En Curso</td>\n",
       "      <td>15</td>\n",
       "    </tr>\n",
       "    <tr>\n",
       "      <th>2</th>\n",
       "      <td>Z48mz</td>\n",
       "      <td>Posgrado</td>\n",
       "      <td>En Curso</td>\n",
       "      <td>15</td>\n",
       "    </tr>\n",
       "    <tr>\n",
       "      <th>3</th>\n",
       "      <td>a4zEZ</td>\n",
       "      <td>Posgrado</td>\n",
       "      <td>En Curso</td>\n",
       "      <td>15</td>\n",
       "    </tr>\n",
       "    <tr>\n",
       "      <th>4</th>\n",
       "      <td>6AWqO</td>\n",
       "      <td>Posgrado</td>\n",
       "      <td>En Curso</td>\n",
       "      <td>15</td>\n",
       "    </tr>\n",
       "  </tbody>\n",
       "</table>\n",
       "</div>"
      ],
      "text/plain": [
       "  idpostulante    nombre    estado  valor_educacion\n",
       "0         NdJl  Posgrado  En Curso               15\n",
       "1        axaPJ  Posgrado  En Curso               15\n",
       "2        Z48mz  Posgrado  En Curso               15\n",
       "3        a4zEZ  Posgrado  En Curso               15\n",
       "4        6AWqO  Posgrado  En Curso               15"
      ]
     },
     "execution_count": 10,
     "metadata": {},
     "output_type": "execute_result"
    }
   ],
   "source": [
    "# Hago el join para filtrar todas las educaciones que no me interesan, dejando solo la maxima educacion.\n",
    "post_educacion = pd.merge(post_educacion, max_post_educacion,  how='inner', \\\n",
    "                          left_on=['idpostulante','valor_educacion'], right_on = ['idpostulante','valor_educacion'])\n",
    "\n",
    "post_educacion.head()"
   ]
  },
  {
   "cell_type": "code",
   "execution_count": 11,
   "metadata": {
    "collapsed": false
   },
   "outputs": [
    {
     "data": {
      "text/html": [
       "<div>\n",
       "<style scoped>\n",
       "    .dataframe tbody tr th:only-of-type {\n",
       "        vertical-align: middle;\n",
       "    }\n",
       "\n",
       "    .dataframe tbody tr th {\n",
       "        vertical-align: top;\n",
       "    }\n",
       "\n",
       "    .dataframe thead th {\n",
       "        text-align: right;\n",
       "    }\n",
       "</style>\n",
       "<table border=\"1\" class=\"dataframe\">\n",
       "  <thead>\n",
       "    <tr style=\"text-align: right;\">\n",
       "      <th></th>\n",
       "      <th>idpostulante</th>\n",
       "      <th>nombre</th>\n",
       "      <th>estado</th>\n",
       "      <th>valor_educacion</th>\n",
       "      <th>fechanacimiento</th>\n",
       "      <th>sexo</th>\n",
       "      <th>edad</th>\n",
       "    </tr>\n",
       "  </thead>\n",
       "  <tbody>\n",
       "    <tr>\n",
       "      <th>0</th>\n",
       "      <td>NdJl</td>\n",
       "      <td>Posgrado</td>\n",
       "      <td>En Curso</td>\n",
       "      <td>15</td>\n",
       "      <td>1969-05-09</td>\n",
       "      <td>MASC</td>\n",
       "      <td>48.0</td>\n",
       "    </tr>\n",
       "    <tr>\n",
       "      <th>1</th>\n",
       "      <td>axaPJ</td>\n",
       "      <td>Posgrado</td>\n",
       "      <td>En Curso</td>\n",
       "      <td>15</td>\n",
       "      <td>1970-01-06</td>\n",
       "      <td>MASC</td>\n",
       "      <td>48.0</td>\n",
       "    </tr>\n",
       "    <tr>\n",
       "      <th>2</th>\n",
       "      <td>Z48mz</td>\n",
       "      <td>Posgrado</td>\n",
       "      <td>En Curso</td>\n",
       "      <td>15</td>\n",
       "      <td>1967-05-16</td>\n",
       "      <td>MASC</td>\n",
       "      <td>50.0</td>\n",
       "    </tr>\n",
       "    <tr>\n",
       "      <th>3</th>\n",
       "      <td>a4zEZ</td>\n",
       "      <td>Posgrado</td>\n",
       "      <td>En Curso</td>\n",
       "      <td>15</td>\n",
       "      <td>1976-04-10</td>\n",
       "      <td>MASC</td>\n",
       "      <td>42.0</td>\n",
       "    </tr>\n",
       "    <tr>\n",
       "      <th>4</th>\n",
       "      <td>6AWqO</td>\n",
       "      <td>Posgrado</td>\n",
       "      <td>En Curso</td>\n",
       "      <td>15</td>\n",
       "      <td>1970-05-21</td>\n",
       "      <td>MASC</td>\n",
       "      <td>47.0</td>\n",
       "    </tr>\n",
       "  </tbody>\n",
       "</table>\n",
       "</div>"
      ],
      "text/plain": [
       "  idpostulante    nombre    estado  valor_educacion fechanacimiento  sexo  \\\n",
       "0         NdJl  Posgrado  En Curso               15      1969-05-09  MASC   \n",
       "1        axaPJ  Posgrado  En Curso               15      1970-01-06  MASC   \n",
       "2        Z48mz  Posgrado  En Curso               15      1967-05-16  MASC   \n",
       "3        a4zEZ  Posgrado  En Curso               15      1976-04-10  MASC   \n",
       "4        6AWqO  Posgrado  En Curso               15      1970-05-21  MASC   \n",
       "\n",
       "   edad  \n",
       "0  48.0  \n",
       "1  48.0  \n",
       "2  50.0  \n",
       "3  42.0  \n",
       "4  47.0  "
      ]
     },
     "execution_count": 11,
     "metadata": {},
     "output_type": "execute_result"
    }
   ],
   "source": [
    "postulantes = pd.merge(post_educacion, post_gen_edad)\n",
    "pd.to_datetime(postulantes['fechanacimiento'])\n",
    "postulantes['edad'] = (now - pd.to_datetime(postulantes['fechanacimiento'])).astype('<m8[Y]')\n",
    "postulantes.head()"
   ]
  },
  {
   "cell_type": "markdown",
   "metadata": {},
   "source": [
    "# Relacion entre cantidad de postulaciones y vistas por aviso"
   ]
  },
  {
   "cell_type": "code",
   "execution_count": 12,
   "metadata": {
    "collapsed": false
   },
   "outputs": [
    {
     "data": {
      "image/png": "[encoded data removed]",
      "text/plain": [
       "<Figure size 1008x288 with 1 Axes>"
      ]
     },
     "metadata": {},
     "output_type": "display_data"
    }
   ],
   "source": [
    "#cantidad de postulaciones por dia de semana\n",
    "post_weekday = postulaciones\n",
    "post_weekday['weekday'] = post_weekday['fechapostulacion'].dt.weekday_name\n",
    "post_weekday['dayofweek'] = post_weekday['fechapostulacion'].dt.dayofweek\n",
    "post_weekday_groupby = post_weekday.groupby(['dayofweek','weekday']).count()['fechapostulacion']\n",
    "post_weekday_groupby.plot(title = \"Cantidad de postulaciones por dia de semana\",kind='bar',figsize=(14,4))\n",
    "plt.xlabel('dia de la semana')\n",
    "plt.ylabel('cantidad de postulaciones')\n",
    "plt.show()"
   ]
  },
  {
   "cell_type": "code",
   "execution_count": 13,
   "metadata": {
    "collapsed": false
   },
   "outputs": [
    {
     "data": {
      "image/png": "[encoded data removed]",
      "text/plain": [
       "<Figure size 1008x288 with 1 Axes>"
      ]
     },
     "metadata": {},
     "output_type": "display_data"
    }
   ],
   "source": [
    "#cantidad de vistas por dia de semana\n",
    "# se llego a la conclusion de que la cantidad de vistas totales son los registros del \n",
    "# archivo vistas + archivo postulaciones\n",
    "vistas_weekday = postulaciones\n",
    "vistas_weekday.rename(columns={\"fechapostulacion\":\"fechavista\"}, inplace=True)\n",
    "vistas_weekday = pd.concat([vistas, vistas_weekday])\n",
    "vistas_weekday['weekday'] = vistas_weekday['fechavista'].dt.weekday_name\n",
    "vistas_weekday['dayofweek'] = vistas_weekday['fechavista'].dt.dayofweek\n",
    "vistas_weekday_groupby = vistas_weekday.groupby(['dayofweek','weekday']).count()['fechavista']\n",
    "vistas_weekday_groupby.plot(title = \"Cantidad de vistas por dia de semana\",kind='bar',figsize=(14,4))\n",
    "plt.xlabel('dia de la semana')\n",
    "plt.ylabel('cantidad de vistas')\n",
    "plt.show()"
   ]
  },
  {
   "cell_type": "code",
   "execution_count": 14,
   "metadata": {
    "collapsed": false
   },
   "outputs": [
    {
     "data": {
      "text/html": [
       "<div>\n",
       "<style scoped>\n",
       "    .dataframe tbody tr th:only-of-type {\n",
       "        vertical-align: middle;\n",
       "    }\n",
       "\n",
       "    .dataframe tbody tr th {\n",
       "        vertical-align: top;\n",
       "    }\n",
       "\n",
       "    .dataframe thead th {\n",
       "        text-align: right;\n",
       "    }\n",
       "</style>\n",
       "<table border=\"1\" class=\"dataframe\">\n",
       "  <thead>\n",
       "    <tr style=\"text-align: right;\">\n",
       "      <th></th>\n",
       "      <th>idaviso</th>\n",
       "      <th>cant_post</th>\n",
       "    </tr>\n",
       "  </thead>\n",
       "  <tbody>\n",
       "    <tr>\n",
       "      <th>0</th>\n",
       "      <td>1112033906</td>\n",
       "      <td>9932</td>\n",
       "    </tr>\n",
       "    <tr>\n",
       "      <th>1</th>\n",
       "      <td>1112334791</td>\n",
       "      <td>9787</td>\n",
       "    </tr>\n",
       "    <tr>\n",
       "      <th>2</th>\n",
       "      <td>1112204682</td>\n",
       "      <td>9244</td>\n",
       "    </tr>\n",
       "    <tr>\n",
       "      <th>3</th>\n",
       "      <td>1112094756</td>\n",
       "      <td>8763</td>\n",
       "    </tr>\n",
       "    <tr>\n",
       "      <th>4</th>\n",
       "      <td>1112345900</td>\n",
       "      <td>8304</td>\n",
       "    </tr>\n",
       "  </tbody>\n",
       "</table>\n",
       "</div>"
      ],
      "text/plain": [
       "      idaviso  cant_post\n",
       "0  1112033906       9932\n",
       "1  1112334791       9787\n",
       "2  1112204682       9244\n",
       "3  1112094756       8763\n",
       "4  1112345900       8304"
      ]
     },
     "execution_count": 14,
     "metadata": {},
     "output_type": "execute_result"
    }
   ],
   "source": [
    "#cantidad de postulaciones\n",
    "avisos_cant_post = postulaciones.loc[:,['idaviso']]\n",
    "avisos_cant_post = avisos_cant_post.groupby(['idaviso']).size()\n",
    "avisos_cant_post = avisos_cant_post.sort_values(ascending=False)\n",
    "avisos_cant_post = pd.DataFrame(avisos_cant_post).reset_index()\n",
    "avisos_cant_post[[\"idaviso\", \"cant_post\"]] = avisos_cant_post[[\"idaviso\", 0]]\n",
    "avisos_cant_post = avisos_cant_post[[\"idaviso\", \"cant_post\"]]  \n",
    "avisos_cant_post.head()"
   ]
  },
  {
   "cell_type": "code",
   "execution_count": 15,
   "metadata": {
    "collapsed": false
   },
   "outputs": [
    {
     "data": {
      "text/html": [
       "<div>\n",
       "<style scoped>\n",
       "    .dataframe tbody tr th:only-of-type {\n",
       "        vertical-align: middle;\n",
       "    }\n",
       "\n",
       "    .dataframe tbody tr th {\n",
       "        vertical-align: top;\n",
       "    }\n",
       "\n",
       "    .dataframe thead th {\n",
       "        text-align: right;\n",
       "    }\n",
       "</style>\n",
       "<table border=\"1\" class=\"dataframe\">\n",
       "  <thead>\n",
       "    <tr style=\"text-align: right;\">\n",
       "      <th></th>\n",
       "      <th>idaviso</th>\n",
       "      <th>cant_post</th>\n",
       "    </tr>\n",
       "  </thead>\n",
       "  <tbody>\n",
       "    <tr>\n",
       "      <th>count</th>\n",
       "      <td>1.269200e+04</td>\n",
       "      <td>12692.000000</td>\n",
       "    </tr>\n",
       "    <tr>\n",
       "      <th>mean</th>\n",
       "      <td>1.111419e+09</td>\n",
       "      <td>268.013158</td>\n",
       "    </tr>\n",
       "    <tr>\n",
       "      <th>std</th>\n",
       "      <td>2.084300e+07</td>\n",
       "      <td>542.269598</td>\n",
       "    </tr>\n",
       "    <tr>\n",
       "      <th>min</th>\n",
       "      <td>8.725750e+06</td>\n",
       "      <td>1.000000</td>\n",
       "    </tr>\n",
       "    <tr>\n",
       "      <th>25%</th>\n",
       "      <td>1.112229e+09</td>\n",
       "      <td>33.000000</td>\n",
       "    </tr>\n",
       "    <tr>\n",
       "      <th>50%</th>\n",
       "      <td>1.112276e+09</td>\n",
       "      <td>100.000000</td>\n",
       "    </tr>\n",
       "    <tr>\n",
       "      <th>75%</th>\n",
       "      <td>1.112321e+09</td>\n",
       "      <td>269.250000</td>\n",
       "    </tr>\n",
       "    <tr>\n",
       "      <th>max</th>\n",
       "      <td>1.112370e+09</td>\n",
       "      <td>9932.000000</td>\n",
       "    </tr>\n",
       "  </tbody>\n",
       "</table>\n",
       "</div>"
      ],
      "text/plain": [
       "            idaviso     cant_post\n",
       "count  1.269200e+04  12692.000000\n",
       "mean   1.111419e+09    268.013158\n",
       "std    2.084300e+07    542.269598\n",
       "min    8.725750e+06      1.000000\n",
       "25%    1.112229e+09     33.000000\n",
       "50%    1.112276e+09    100.000000\n",
       "75%    1.112321e+09    269.250000\n",
       "max    1.112370e+09   9932.000000"
      ]
     },
     "execution_count": 15,
     "metadata": {},
     "output_type": "execute_result"
    }
   ],
   "source": [
    "avisos_cant_post.describe()"
   ]
  },
  {
   "cell_type": "code",
   "execution_count": 16,
   "metadata": {
    "collapsed": false
   },
   "outputs": [
    {
     "data": {
      "text/html": [
       "<div>\n",
       "<style scoped>\n",
       "    .dataframe tbody tr th:only-of-type {\n",
       "        vertical-align: middle;\n",
       "    }\n",
       "\n",
       "    .dataframe tbody tr th {\n",
       "        vertical-align: top;\n",
       "    }\n",
       "\n",
       "    .dataframe thead th {\n",
       "        text-align: right;\n",
       "    }\n",
       "</style>\n",
       "<table border=\"1\" class=\"dataframe\">\n",
       "  <thead>\n",
       "    <tr style=\"text-align: right;\">\n",
       "      <th></th>\n",
       "      <th>idaviso</th>\n",
       "      <th>cant_vistas</th>\n",
       "    </tr>\n",
       "  </thead>\n",
       "  <tbody>\n",
       "    <tr>\n",
       "      <th>0</th>\n",
       "      <td>1112363488</td>\n",
       "      <td>4169</td>\n",
       "    </tr>\n",
       "    <tr>\n",
       "      <th>1</th>\n",
       "      <td>1112359836</td>\n",
       "      <td>4120</td>\n",
       "    </tr>\n",
       "    <tr>\n",
       "      <th>2</th>\n",
       "      <td>1112352317</td>\n",
       "      <td>4003</td>\n",
       "    </tr>\n",
       "    <tr>\n",
       "      <th>3</th>\n",
       "      <td>1112366909</td>\n",
       "      <td>3669</td>\n",
       "    </tr>\n",
       "    <tr>\n",
       "      <th>4</th>\n",
       "      <td>1112355872</td>\n",
       "      <td>3472</td>\n",
       "    </tr>\n",
       "  </tbody>\n",
       "</table>\n",
       "</div>"
      ],
      "text/plain": [
       "      idaviso  cant_vistas\n",
       "0  1112363488         4169\n",
       "1  1112359836         4120\n",
       "2  1112352317         4003\n",
       "3  1112366909         3669\n",
       "4  1112355872         3472"
      ]
     },
     "execution_count": 16,
     "metadata": {},
     "output_type": "execute_result"
    }
   ],
   "source": [
    "#cantidad de vistas\n",
    "avisos_cant_vistas = vistas.loc[:,['idaviso']]\n",
    "avisos_cant_vistas = avisos_cant_vistas.groupby(['idaviso']).size()\n",
    "avisos_cant_vistas = avisos_cant_vistas.sort_values(ascending=False)\n",
    "avisos_cant_vistas = pd.DataFrame(avisos_cant_vistas).reset_index()\n",
    "avisos_cant_vistas[[\"idaviso\", \"cant_vistas\"]] = avisos_cant_vistas[[\"idaviso\", 0]]\n",
    "avisos_cant_vistas = avisos_cant_vistas[[\"idaviso\", \"cant_vistas\"]]  \n",
    "avisos_cant_vistas.head()"
   ]
  },
  {
   "cell_type": "code",
   "execution_count": 17,
   "metadata": {
    "collapsed": false
   },
   "outputs": [
    {
     "data": {
      "text/html": [
       "<div>\n",
       "<style scoped>\n",
       "    .dataframe tbody tr th:only-of-type {\n",
       "        vertical-align: middle;\n",
       "    }\n",
       "\n",
       "    .dataframe tbody tr th {\n",
       "        vertical-align: top;\n",
       "    }\n",
       "\n",
       "    .dataframe thead th {\n",
       "        text-align: right;\n",
       "    }\n",
       "</style>\n",
       "<table border=\"1\" class=\"dataframe\">\n",
       "  <thead>\n",
       "    <tr style=\"text-align: right;\">\n",
       "      <th></th>\n",
       "      <th>idaviso</th>\n",
       "      <th>cant_post</th>\n",
       "      <th>cant_vistas</th>\n",
       "    </tr>\n",
       "  </thead>\n",
       "  <tbody>\n",
       "    <tr>\n",
       "      <th>0</th>\n",
       "      <td>1112033906</td>\n",
       "      <td>9932</td>\n",
       "      <td>22</td>\n",
       "    </tr>\n",
       "    <tr>\n",
       "      <th>1</th>\n",
       "      <td>1112334791</td>\n",
       "      <td>9787</td>\n",
       "      <td>2817</td>\n",
       "    </tr>\n",
       "    <tr>\n",
       "      <th>2</th>\n",
       "      <td>1112204682</td>\n",
       "      <td>9244</td>\n",
       "      <td>18</td>\n",
       "    </tr>\n",
       "    <tr>\n",
       "      <th>3</th>\n",
       "      <td>1112094756</td>\n",
       "      <td>8763</td>\n",
       "      <td>6</td>\n",
       "    </tr>\n",
       "    <tr>\n",
       "      <th>4</th>\n",
       "      <td>1112345900</td>\n",
       "      <td>8304</td>\n",
       "      <td>2841</td>\n",
       "    </tr>\n",
       "  </tbody>\n",
       "</table>\n",
       "</div>"
      ],
      "text/plain": [
       "      idaviso  cant_post  cant_vistas\n",
       "0  1112033906       9932           22\n",
       "1  1112334791       9787         2817\n",
       "2  1112204682       9244           18\n",
       "3  1112094756       8763            6\n",
       "4  1112345900       8304         2841"
      ]
     },
     "execution_count": 17,
     "metadata": {},
     "output_type": "execute_result"
    }
   ],
   "source": [
    "#relacion post vs vistas\n",
    "post_vs_vistas =  pd.merge(avisos_cant_post, avisos_cant_vistas, on=\"idaviso\", how='inner')\n",
    "post_vs_vistas = post_vs_vistas[[\"idaviso\", \"cant_post\", \"cant_vistas\"]] \n",
    "post_vs_vistas.head()"
   ]
  },
  {
   "cell_type": "code",
   "execution_count": 18,
   "metadata": {
    "collapsed": false
   },
   "outputs": [
    {
     "data": {
      "text/html": [
       "<div>\n",
       "<style scoped>\n",
       "    .dataframe tbody tr th:only-of-type {\n",
       "        vertical-align: middle;\n",
       "    }\n",
       "\n",
       "    .dataframe tbody tr th {\n",
       "        vertical-align: top;\n",
       "    }\n",
       "\n",
       "    .dataframe thead th {\n",
       "        text-align: right;\n",
       "    }\n",
       "</style>\n",
       "<table border=\"1\" class=\"dataframe\">\n",
       "  <thead>\n",
       "    <tr style=\"text-align: right;\">\n",
       "      <th></th>\n",
       "      <th>idaviso</th>\n",
       "      <th>cant_post</th>\n",
       "      <th>cant_vistas</th>\n",
       "    </tr>\n",
       "  </thead>\n",
       "  <tbody>\n",
       "    <tr>\n",
       "      <th>0</th>\n",
       "      <td>1112033906</td>\n",
       "      <td>9932</td>\n",
       "      <td>9954</td>\n",
       "    </tr>\n",
       "    <tr>\n",
       "      <th>1</th>\n",
       "      <td>1112334791</td>\n",
       "      <td>9787</td>\n",
       "      <td>12604</td>\n",
       "    </tr>\n",
       "    <tr>\n",
       "      <th>2</th>\n",
       "      <td>1112204682</td>\n",
       "      <td>9244</td>\n",
       "      <td>9262</td>\n",
       "    </tr>\n",
       "    <tr>\n",
       "      <th>3</th>\n",
       "      <td>1112094756</td>\n",
       "      <td>8763</td>\n",
       "      <td>8769</td>\n",
       "    </tr>\n",
       "    <tr>\n",
       "      <th>4</th>\n",
       "      <td>1112345900</td>\n",
       "      <td>8304</td>\n",
       "      <td>11145</td>\n",
       "    </tr>\n",
       "  </tbody>\n",
       "</table>\n",
       "</div>"
      ],
      "text/plain": [
       "      idaviso  cant_post  cant_vistas\n",
       "0  1112033906       9932         9954\n",
       "1  1112334791       9787        12604\n",
       "2  1112204682       9244         9262\n",
       "3  1112094756       8763         8769\n",
       "4  1112345900       8304        11145"
      ]
     },
     "execution_count": 18,
     "metadata": {},
     "output_type": "execute_result"
    }
   ],
   "source": [
    "#cantidad vistas = cantidad de vistas + cantidad de postulaciones\n",
    "post_vs_vistas['cant_vistas'] = post_vs_vistas.cant_vistas + post_vs_vistas.cant_post\n",
    "post_vs_vistas.head()"
   ]
  },
  {
   "cell_type": "code",
   "execution_count": 19,
   "metadata": {
    "collapsed": false
   },
   "outputs": [
    {
     "data": {
      "text/html": [
       "<div>\n",
       "<style scoped>\n",
       "    .dataframe tbody tr th:only-of-type {\n",
       "        vertical-align: middle;\n",
       "    }\n",
       "\n",
       "    .dataframe tbody tr th {\n",
       "        vertical-align: top;\n",
       "    }\n",
       "\n",
       "    .dataframe thead th {\n",
       "        text-align: right;\n",
       "    }\n",
       "</style>\n",
       "<table border=\"1\" class=\"dataframe\">\n",
       "  <thead>\n",
       "    <tr style=\"text-align: right;\">\n",
       "      <th></th>\n",
       "      <th>idaviso</th>\n",
       "      <th>cant_post</th>\n",
       "      <th>cant_vistas</th>\n",
       "      <th>prob_post</th>\n",
       "    </tr>\n",
       "  </thead>\n",
       "  <tbody>\n",
       "    <tr>\n",
       "      <th>6509</th>\n",
       "      <td>1112359511</td>\n",
       "      <td>2</td>\n",
       "      <td>133</td>\n",
       "      <td>0.015038</td>\n",
       "    </tr>\n",
       "    <tr>\n",
       "      <th>6508</th>\n",
       "      <td>1112361790</td>\n",
       "      <td>2</td>\n",
       "      <td>112</td>\n",
       "      <td>0.017857</td>\n",
       "    </tr>\n",
       "    <tr>\n",
       "      <th>6517</th>\n",
       "      <td>1112361607</td>\n",
       "      <td>1</td>\n",
       "      <td>32</td>\n",
       "      <td>0.031250</td>\n",
       "    </tr>\n",
       "    <tr>\n",
       "      <th>6515</th>\n",
       "      <td>1112361795</td>\n",
       "      <td>1</td>\n",
       "      <td>26</td>\n",
       "      <td>0.038462</td>\n",
       "    </tr>\n",
       "    <tr>\n",
       "      <th>6524</th>\n",
       "      <td>1111873421</td>\n",
       "      <td>1</td>\n",
       "      <td>16</td>\n",
       "      <td>0.062500</td>\n",
       "    </tr>\n",
       "  </tbody>\n",
       "</table>\n",
       "</div>"
      ],
      "text/plain": [
       "         idaviso  cant_post  cant_vistas  prob_post\n",
       "6509  1112359511          2          133   0.015038\n",
       "6508  1112361790          2          112   0.017857\n",
       "6517  1112361607          1           32   0.031250\n",
       "6515  1112361795          1           26   0.038462\n",
       "6524  1111873421          1           16   0.062500"
      ]
     },
     "execution_count": 19,
     "metadata": {},
     "output_type": "execute_result"
    }
   ],
   "source": [
    "#calculo la probabilidad de que alguien se postule\n",
    "post_vs_vistas['prob_post'] = post_vs_vistas.cant_post / post_vs_vistas.cant_vistas\n",
    "post_vs_vistas = post_vs_vistas.sort_values(by='prob_post', ascending=True)\n",
    "post_vs_vistas.head()"
   ]
  },
  {
   "cell_type": "code",
   "execution_count": 20,
   "metadata": {
    "collapsed": false
   },
   "outputs": [
    {
     "data": {
      "text/html": [
       "<div>\n",
       "<style scoped>\n",
       "    .dataframe tbody tr th:only-of-type {\n",
       "        vertical-align: middle;\n",
       "    }\n",
       "\n",
       "    .dataframe tbody tr th {\n",
       "        vertical-align: top;\n",
       "    }\n",
       "\n",
       "    .dataframe thead th {\n",
       "        text-align: right;\n",
       "    }\n",
       "</style>\n",
       "<table border=\"1\" class=\"dataframe\">\n",
       "  <thead>\n",
       "    <tr style=\"text-align: right;\">\n",
       "      <th></th>\n",
       "      <th>idaviso</th>\n",
       "      <th>cant_post</th>\n",
       "      <th>cant_vistas</th>\n",
       "      <th>prob_post</th>\n",
       "    </tr>\n",
       "  </thead>\n",
       "  <tbody>\n",
       "    <tr>\n",
       "      <th>count</th>\n",
       "      <td>6.525000e+03</td>\n",
       "      <td>6525.000000</td>\n",
       "      <td>6525.000000</td>\n",
       "      <td>6525.000000</td>\n",
       "    </tr>\n",
       "    <tr>\n",
       "      <th>mean</th>\n",
       "      <td>1.111442e+09</td>\n",
       "      <td>390.143602</td>\n",
       "      <td>537.327816</td>\n",
       "      <td>0.710026</td>\n",
       "    </tr>\n",
       "    <tr>\n",
       "      <th>std</th>\n",
       "      <td>2.060750e+07</td>\n",
       "      <td>679.338244</td>\n",
       "      <td>875.420193</td>\n",
       "      <td>0.228538</td>\n",
       "    </tr>\n",
       "    <tr>\n",
       "      <th>min</th>\n",
       "      <td>1.254376e+07</td>\n",
       "      <td>1.000000</td>\n",
       "      <td>2.000000</td>\n",
       "      <td>0.015038</td>\n",
       "    </tr>\n",
       "    <tr>\n",
       "      <th>25%</th>\n",
       "      <td>1.112281e+09</td>\n",
       "      <td>71.000000</td>\n",
       "      <td>113.000000</td>\n",
       "      <td>0.564885</td>\n",
       "    </tr>\n",
       "    <tr>\n",
       "      <th>50%</th>\n",
       "      <td>1.112314e+09</td>\n",
       "      <td>173.000000</td>\n",
       "      <td>257.000000</td>\n",
       "      <td>0.754850</td>\n",
       "    </tr>\n",
       "    <tr>\n",
       "      <th>75%</th>\n",
       "      <td>1.112347e+09</td>\n",
       "      <td>414.000000</td>\n",
       "      <td>589.000000</td>\n",
       "      <td>0.891544</td>\n",
       "    </tr>\n",
       "    <tr>\n",
       "      <th>max</th>\n",
       "      <td>1.112370e+09</td>\n",
       "      <td>9932.000000</td>\n",
       "      <td>12604.000000</td>\n",
       "      <td>0.999836</td>\n",
       "    </tr>\n",
       "  </tbody>\n",
       "</table>\n",
       "</div>"
      ],
      "text/plain": [
       "            idaviso    cant_post   cant_vistas    prob_post\n",
       "count  6.525000e+03  6525.000000   6525.000000  6525.000000\n",
       "mean   1.111442e+09   390.143602    537.327816     0.710026\n",
       "std    2.060750e+07   679.338244    875.420193     0.228538\n",
       "min    1.254376e+07     1.000000      2.000000     0.015038\n",
       "25%    1.112281e+09    71.000000    113.000000     0.564885\n",
       "50%    1.112314e+09   173.000000    257.000000     0.754850\n",
       "75%    1.112347e+09   414.000000    589.000000     0.891544\n",
       "max    1.112370e+09  9932.000000  12604.000000     0.999836"
      ]
     },
     "execution_count": 20,
     "metadata": {},
     "output_type": "execute_result"
    }
   ],
   "source": [
    "post_vs_vistas.describe()"
   ]
  },
  {
   "cell_type": "code",
   "execution_count": 21,
   "metadata": {
    "collapsed": false
   },
   "outputs": [
    {
     "data": {
      "text/html": [
       "<div>\n",
       "<style scoped>\n",
       "    .dataframe tbody tr th:only-of-type {\n",
       "        vertical-align: middle;\n",
       "    }\n",
       "\n",
       "    .dataframe tbody tr th {\n",
       "        vertical-align: top;\n",
       "    }\n",
       "\n",
       "    .dataframe thead th {\n",
       "        text-align: right;\n",
       "    }\n",
       "</style>\n",
       "<table border=\"1\" class=\"dataframe\">\n",
       "  <thead>\n",
       "    <tr style=\"text-align: right;\">\n",
       "      <th></th>\n",
       "      <th>idaviso</th>\n",
       "      <th>cant_post</th>\n",
       "      <th>cant_vistas</th>\n",
       "      <th>prob_post</th>\n",
       "    </tr>\n",
       "  </thead>\n",
       "  <tbody>\n",
       "    <tr>\n",
       "      <th>count</th>\n",
       "      <td>4.621000e+03</td>\n",
       "      <td>4621.000000</td>\n",
       "      <td>4621.000000</td>\n",
       "      <td>4621.000000</td>\n",
       "    </tr>\n",
       "    <tr>\n",
       "      <th>mean</th>\n",
       "      <td>1.111483e+09</td>\n",
       "      <td>531.049556</td>\n",
       "      <td>730.914953</td>\n",
       "      <td>0.712489</td>\n",
       "    </tr>\n",
       "    <tr>\n",
       "      <th>std</th>\n",
       "      <td>2.360670e+07</td>\n",
       "      <td>763.683039</td>\n",
       "      <td>976.313386</td>\n",
       "      <td>0.224880</td>\n",
       "    </tr>\n",
       "    <tr>\n",
       "      <th>min</th>\n",
       "      <td>1.254376e+07</td>\n",
       "      <td>2.000000</td>\n",
       "      <td>133.000000</td>\n",
       "      <td>0.015038</td>\n",
       "    </tr>\n",
       "    <tr>\n",
       "      <th>25%</th>\n",
       "      <td>1.112281e+09</td>\n",
       "      <td>156.000000</td>\n",
       "      <td>234.000000</td>\n",
       "      <td>0.567867</td>\n",
       "    </tr>\n",
       "    <tr>\n",
       "      <th>50%</th>\n",
       "      <td>1.112314e+09</td>\n",
       "      <td>278.000000</td>\n",
       "      <td>406.000000</td>\n",
       "      <td>0.754417</td>\n",
       "    </tr>\n",
       "    <tr>\n",
       "      <th>75%</th>\n",
       "      <td>1.112348e+09</td>\n",
       "      <td>576.000000</td>\n",
       "      <td>791.000000</td>\n",
       "      <td>0.886929</td>\n",
       "    </tr>\n",
       "    <tr>\n",
       "      <th>max</th>\n",
       "      <td>1.112370e+09</td>\n",
       "      <td>9932.000000</td>\n",
       "      <td>12604.000000</td>\n",
       "      <td>0.999836</td>\n",
       "    </tr>\n",
       "  </tbody>\n",
       "</table>\n",
       "</div>"
      ],
      "text/plain": [
       "            idaviso    cant_post   cant_vistas    prob_post\n",
       "count  4.621000e+03  4621.000000   4621.000000  4621.000000\n",
       "mean   1.111483e+09   531.049556    730.914953     0.712489\n",
       "std    2.360670e+07   763.683039    976.313386     0.224880\n",
       "min    1.254376e+07     2.000000    133.000000     0.015038\n",
       "25%    1.112281e+09   156.000000    234.000000     0.567867\n",
       "50%    1.112314e+09   278.000000    406.000000     0.754417\n",
       "75%    1.112348e+09   576.000000    791.000000     0.886929\n",
       "max    1.112370e+09  9932.000000  12604.000000     0.999836"
      ]
     },
     "execution_count": 21,
     "metadata": {},
     "output_type": "execute_result"
    }
   ],
   "source": [
    "#Para que los datos sean consistentes, filtro la cantidad de vistas menor al 25%, de cantidad 133 ya que el min es 2 y max 12604  \n",
    "post_vs_vistas = post_vs_vistas[post_vs_vistas['cant_vistas'] >= 133]\n",
    "post_vs_vistas.describe()"
   ]
  },
  {
   "cell_type": "code",
   "execution_count": 22,
   "metadata": {
    "collapsed": false
   },
   "outputs": [
    {
     "data": {
      "image/png": "[encoded data removed]",
      "text/plain": [
       "<Figure size 1080x576 with 1 Axes>"
      ]
     },
     "metadata": {},
     "output_type": "display_data"
    }
   ],
   "source": [
    "post_vs_vistas.plot.scatter('cant_post','cant_vistas',alpha=1,title = \"Relacion cantidad de vistas vs postulaciones\",figsize=(15,8));"
   ]
  },
  {
   "cell_type": "code",
   "execution_count": 23,
   "metadata": {
    "collapsed": false
   },
   "outputs": [
    {
     "data": {
      "image/png": "[encoded data removed]",
      "text/plain": [
       "<Figure size 1080x576 with 1 Axes>"
      ]
     },
     "metadata": {},
     "output_type": "display_data"
    }
   ],
   "source": [
    "post_vs_vistas.plot.scatter('prob_post','cant_vistas',alpha=1,title = \"Relacion cantidad de vistas y probabilidad de postulacion\",figsize=(15,8));"
   ]
  },
  {
   "cell_type": "code",
   "execution_count": 24,
   "metadata": {
    "collapsed": false
   },
   "outputs": [
    {
     "data": {
      "image/png": "[encoded data removed]",
      "text/plain": [
       "<Figure size 1080x360 with 1 Axes>"
      ]
     },
     "metadata": {},
     "output_type": "display_data"
    }
   ],
   "source": [
    "#relacion de cantidad de vistas con la probabilidad de postulacion\n",
    "#separo en 3 partes, del min al mean y del mean al std y del std al max, donde el promedio de visitas es 731  y desviacion standard 977 aprox.\n",
    "post_vs_vistas_box_min = post_vs_vistas[post_vs_vistas['cant_vistas'] <= 731]\n",
    "post_vs_vistas_box_min['cant_vistas_rg'] = np.floor( post_vs_vistas_box_min['cant_vistas'].apply(lambda x: x /20) )\n",
    "post_vs_vistas_box_min['cant_vistas_rg'] = post_vs_vistas_box_min['cant_vistas_rg'].apply(lambda x: x*20)\n",
    "post_vs_vistas_box_min = post_vs_vistas_box_min.loc[:,['cant_vistas_rg','prob_post']]\n",
    "post_vs_vistas_box_min['subindex'] = post_vs_vistas_box_min.groupby('cant_vistas_rg').cumcount() + 1\n",
    "post_vs_vistas_box_min = pd.pivot_table(post_vs_vistas_box_min,index='subindex',columns='cant_vistas_rg',values='prob_post')\n",
    "post_vs_vistas_box_min.plot.box(title = \"Relacion cantidad de vistas y probabilidad de postulacion [min - mean]\", figsize=(15,5));\n",
    "plt.xlabel('cantidad de vistas (rango de 20)')\n",
    "plt.ylabel('probabilidad de postulacion')\n",
    "plt.show()"
   ]
  },
  {
   "cell_type": "code",
   "execution_count": 25,
   "metadata": {
    "collapsed": false
   },
   "outputs": [
    {
     "data": {
      "image/png": "[encoded data removed]",
      "text/plain": [
       "<Figure size 1080x360 with 1 Axes>"
      ]
     },
     "metadata": {},
     "output_type": "display_data"
    }
   ],
   "source": [
    "post_vs_vistas_box_75 = post_vs_vistas[post_vs_vistas['cant_vistas'] > 731]\n",
    "post_vs_vistas_box_75 = post_vs_vistas_box_75[post_vs_vistas_box_75['cant_vistas'] <= 977]\n",
    "post_vs_vistas_box_75['cant_vistas_rg'] = np.floor( post_vs_vistas_box_75['cant_vistas'].apply(lambda x: x /10) )\n",
    "post_vs_vistas_box_75['cant_vistas_rg'] = post_vs_vistas_box_75['cant_vistas_rg'].apply(lambda x: x*10)\n",
    "post_vs_vistas_box_75 = post_vs_vistas_box_75.loc[:,['cant_vistas_rg','prob_post']]\n",
    "post_vs_vistas_box_75['subindex'] = post_vs_vistas_box_75.groupby('cant_vistas_rg').cumcount() + 1\n",
    "post_vs_vistas_box_75 = pd.pivot_table(post_vs_vistas_box_75,index='subindex',columns='cant_vistas_rg',values='prob_post')\n",
    "post_vs_vistas_box_75.plot.box(title = \"Relacion cantidad de vistas y probabilidad de postulacion [mean - stad]\", figsize=(15,5));\n",
    "plt.xlabel('cantidad de vistas (rango de 10)')\n",
    "plt.ylabel('probabilidad de postulacion')\n",
    "plt.show()"
   ]
  },
  {
   "cell_type": "code",
   "execution_count": 26,
   "metadata": {
    "collapsed": false
   },
   "outputs": [
    {
     "data": {
      "image/png": "[encoded data removed]",
      "text/plain": [
       "<Figure size 1080x360 with 1 Axes>"
      ]
     },
     "metadata": {},
     "output_type": "display_data"
    }
   ],
   "source": [
    "post_vs_vistas_box_max = post_vs_vistas[post_vs_vistas['cant_vistas'] > 977]\n",
    "post_vs_vistas_box_max['cant_vistas_rg'] = np.floor( post_vs_vistas_box_max['cant_vistas'].apply(lambda x: x /500) )\n",
    "post_vs_vistas_box_max['cant_vistas_rg'] = post_vs_vistas_box_max['cant_vistas_rg'].apply(lambda x: x*500)\n",
    "post_vs_vistas_box_max = post_vs_vistas_box_max.loc[:,['cant_vistas_rg','prob_post']]\n",
    "post_vs_vistas_box_max['subindex'] = post_vs_vistas_box_max.groupby('cant_vistas_rg').cumcount() + 1\n",
    "post_vs_vistas_box_max = pd.pivot_table(post_vs_vistas_box_max,index='subindex',columns='cant_vistas_rg',values='prob_post')\n",
    "post_vs_vistas_box_max.plot.box(title = \"Relacion cantidad de vistas y probabilidad de postulacion [std - max]\", figsize=(15,5));\n",
    "plt.xlabel('cantidad de vistas (rango de 500)')\n",
    "plt.ylabel('probabilidad de postulacion')\n",
    "plt.show()"
   ]
  },
  {
   "cell_type": "code",
   "execution_count": 27,
   "metadata": {
    "collapsed": false
   },
   "outputs": [
    {
     "data": {
      "image/png": "[encoded data removed]",
      "text/plain": [
       "<Figure size 432x288 with 1 Axes>"
      ]
     },
     "metadata": {},
     "output_type": "display_data"
    }
   ],
   "source": [
    "#cantidad de postulaciones por dia y hora de semana\n",
    "post_weekday_hour = post_weekday\n",
    "post_weekday_hour['hour'] = post_weekday_hour['fechavista'].dt.hour\n",
    "post_weekday_hour = post_weekday_hour.loc[:,['idaviso','weekday','hour']]\n",
    "\n",
    "#separo por dia\n",
    "post_Monday = post_weekday_hour[post_weekday_hour.weekday == 'Monday']\n",
    "post_Tuesday = post_weekday_hour[post_weekday_hour.weekday == 'Tuesday']\n",
    "post_Wednesday = post_weekday_hour[post_weekday_hour.weekday == 'Wednesday']\n",
    "post_Thursday = post_weekday_hour[post_weekday_hour.weekday == 'Thursday']\n",
    "post_Friday = post_weekday_hour[post_weekday_hour.weekday == 'Friday']\n",
    "post_Saturday = post_weekday_hour[post_weekday_hour.weekday == 'Saturday']\n",
    "post_Sunday = post_weekday_hour[post_weekday_hour.weekday == 'Sunday']\n",
    "\n",
    "#agrupo por hora por cada dia con la cantidad de postulaciones\n",
    "post_Monday = post_Monday.groupby('hour', as_index=False)['idaviso'].count()\n",
    "post_Monday.columns = ['hour', 'Lunes']\n",
    "post_Tuesday = post_Tuesday.groupby('hour', as_index=False)['idaviso'].count()\n",
    "post_Tuesday.columns = ['hour', 'Martes']\n",
    "post_Wednesday = post_Wednesday.groupby('hour', as_index=False)['idaviso'].count()\n",
    "post_Wednesday.columns = ['hour', 'Miercoles']\n",
    "post_Thursday = post_Thursday.groupby('hour', as_index=False)['idaviso'].count()\n",
    "post_Thursday.columns = ['hour', 'Jurves']\n",
    "post_Friday = post_Friday.groupby('hour', as_index=False)['idaviso'].count()\n",
    "post_Friday.columns = ['hour', 'Viernes']\n",
    "post_Saturday = post_Saturday.groupby('hour', as_index=False)['idaviso'].count()\n",
    "post_Saturday.columns = ['hour', 'Sabado']\n",
    "post_Sunday = post_Sunday.groupby('hour', as_index=False)['idaviso'].count()\n",
    "post_Sunday.columns = ['hour', 'Domingo']\n",
    "\n",
    "#junto los dias\n",
    "post_weekday_hour = pd.merge(post_Monday, post_Tuesday, on='hour')\n",
    "post_weekday_hour = pd.merge(post_weekday_hour, post_Wednesday, on='hour')\n",
    "post_weekday_hour = pd.merge(post_weekday_hour, post_Thursday, on='hour')\n",
    "post_weekday_hour = pd.merge(post_weekday_hour, post_Friday, on='hour')\n",
    "post_weekday_hour = pd.merge(post_weekday_hour, post_Saturday, on='hour')\n",
    "post_weekday_hour = pd.merge(post_weekday_hour, post_Sunday, on='hour')\n",
    "post_weekday_hour.head()\n",
    "\n",
    "post_weekday_hour.plot(x='hour', title=\"Cantidad de postulaciones por dia y hora de semana\",\n",
    "            color=['#3336FF','#33FF49','#FF3333','#F3FF33','#55F1F1','#000000','#93881A'])\n",
    "plt.xlabel('hora del dia de la semana')\n",
    "plt.ylabel('cantidad de postulaciones')\n",
    "plt.show()"
   ]
  },
  {
   "cell_type": "code",
   "execution_count": 28,
   "metadata": {
    "collapsed": false
   },
   "outputs": [
    {
     "data": {
      "text/html": [
       "<div>\n",
       "<style scoped>\n",
       "    .dataframe tbody tr th:only-of-type {\n",
       "        vertical-align: middle;\n",
       "    }\n",
       "\n",
       "    .dataframe tbody tr th {\n",
       "        vertical-align: top;\n",
       "    }\n",
       "\n",
       "    .dataframe thead th {\n",
       "        text-align: right;\n",
       "    }\n",
       "</style>\n",
       "<table border=\"1\" class=\"dataframe\">\n",
       "  <thead>\n",
       "    <tr style=\"text-align: right;\">\n",
       "      <th></th>\n",
       "      <th>idaviso</th>\n",
       "      <th>cant_post</th>\n",
       "      <th>cant_vistas</th>\n",
       "      <th>prob_post</th>\n",
       "      <th>titulo</th>\n",
       "      <th>descripcion</th>\n",
       "      <th>nombre_zona</th>\n",
       "      <th>ciudad</th>\n",
       "      <th>mapacalle</th>\n",
       "      <th>tipo_de_trabajo</th>\n",
       "      <th>nivel_laboral</th>\n",
       "      <th>nombre_area</th>\n",
       "      <th>denominacion_empresa</th>\n",
       "    </tr>\n",
       "  </thead>\n",
       "  <tbody>\n",
       "    <tr>\n",
       "      <th>0</th>\n",
       "      <td>1112359511</td>\n",
       "      <td>2</td>\n",
       "      <td>133</td>\n",
       "      <td>0.015038</td>\n",
       "      <td>Docentes</td>\n",
       "      <td>&lt;p&gt;Nos encontramos en la bùsqueda de docentes ...</td>\n",
       "      <td>Gran Buenos Aires</td>\n",
       "      <td>NaN</td>\n",
       "      <td>NaN</td>\n",
       "      <td>Full-time</td>\n",
       "      <td>Senior / Semi-Senior</td>\n",
       "      <td>Educación</td>\n",
       "      <td>Neo-Biz Consultores</td>\n",
       "    </tr>\n",
       "    <tr>\n",
       "      <th>1</th>\n",
       "      <td>1112360257</td>\n",
       "      <td>17</td>\n",
       "      <td>219</td>\n",
       "      <td>0.077626</td>\n",
       "      <td>Analista de Compensaciones (Eventual)</td>\n",
       "      <td>&lt;p&gt;Tiene por objetivo liquidar sueldos y carga...</td>\n",
       "      <td>Gran Buenos Aires</td>\n",
       "      <td>NaN</td>\n",
       "      <td>NaN</td>\n",
       "      <td>Full-time</td>\n",
       "      <td>Senior / Semi-Senior</td>\n",
       "      <td>RRHH</td>\n",
       "      <td>ARENA MAIPU</td>\n",
       "    </tr>\n",
       "    <tr>\n",
       "      <th>2</th>\n",
       "      <td>1112363426</td>\n",
       "      <td>16</td>\n",
       "      <td>181</td>\n",
       "      <td>0.088398</td>\n",
       "      <td>Ingeniero Civil - Proyectista (Bíos para Impor...</td>\n",
       "      <td>&lt;p align=\"center\"&gt;&lt;strong&gt;Ingeniero Civil - Pr...</td>\n",
       "      <td>Gran Buenos Aires</td>\n",
       "      <td>NaN</td>\n",
       "      <td>NaN</td>\n",
       "      <td>Full-time</td>\n",
       "      <td>Senior / Semi-Senior</td>\n",
       "      <td>Arquitectura y Diseño</td>\n",
       "      <td>Bios - Recursos Humanos</td>\n",
       "    </tr>\n",
       "    <tr>\n",
       "      <th>3</th>\n",
       "      <td>1112362228</td>\n",
       "      <td>18</td>\n",
       "      <td>199</td>\n",
       "      <td>0.090452</td>\n",
       "      <td>PRODUCTOR ASESOR DE SEGUROS</td>\n",
       "      <td>Nos encontramos en la búsqueda de productores ...</td>\n",
       "      <td>Gran Buenos Aires</td>\n",
       "      <td>NaN</td>\n",
       "      <td>NaN</td>\n",
       "      <td>Full-time</td>\n",
       "      <td>Otro</td>\n",
       "      <td>Seguros</td>\n",
       "      <td>GABRIELA TOTARO</td>\n",
       "    </tr>\n",
       "    <tr>\n",
       "      <th>4</th>\n",
       "      <td>1112360818</td>\n",
       "      <td>15</td>\n",
       "      <td>164</td>\n",
       "      <td>0.091463</td>\n",
       "      <td>enfermera para institucion de discapacitados</td>\n",
       "      <td>&lt;p&gt;&lt;span style=\"text-decoration: underline;\"&gt;A...</td>\n",
       "      <td>Capital Federal</td>\n",
       "      <td>NaN</td>\n",
       "      <td>Bahía Blanca</td>\n",
       "      <td>Full-time</td>\n",
       "      <td>Junior</td>\n",
       "      <td>Salud</td>\n",
       "      <td>incudi</td>\n",
       "    </tr>\n",
       "  </tbody>\n",
       "</table>\n",
       "</div>"
      ],
      "text/plain": [
       "      idaviso  cant_post  cant_vistas  prob_post  \\\n",
       "0  1112359511          2          133   0.015038   \n",
       "1  1112360257         17          219   0.077626   \n",
       "2  1112363426         16          181   0.088398   \n",
       "3  1112362228         18          199   0.090452   \n",
       "4  1112360818         15          164   0.091463   \n",
       "\n",
       "                                              titulo  \\\n",
       "0                                          Docentes    \n",
       "1              Analista de Compensaciones (Eventual)   \n",
       "2  Ingeniero Civil - Proyectista (Bíos para Impor...   \n",
       "3                       PRODUCTOR ASESOR DE SEGUROS    \n",
       "4       enfermera para institucion de discapacitados   \n",
       "\n",
       "                                         descripcion        nombre_zona  \\\n",
       "0  <p>Nos encontramos en la bùsqueda de docentes ...  Gran Buenos Aires   \n",
       "1  <p>Tiene por objetivo liquidar sueldos y carga...  Gran Buenos Aires   \n",
       "2  <p align=\"center\"><strong>Ingeniero Civil - Pr...  Gran Buenos Aires   \n",
       "3  Nos encontramos en la búsqueda de productores ...  Gran Buenos Aires   \n",
       "4  <p><span style=\"text-decoration: underline;\">A...    Capital Federal   \n",
       "\n",
       "  ciudad     mapacalle tipo_de_trabajo         nivel_laboral  \\\n",
       "0    NaN           NaN       Full-time  Senior / Semi-Senior   \n",
       "1    NaN           NaN       Full-time  Senior / Semi-Senior   \n",
       "2    NaN           NaN       Full-time  Senior / Semi-Senior   \n",
       "3    NaN           NaN       Full-time                  Otro   \n",
       "4    NaN  Bahía Blanca       Full-time                Junior   \n",
       "\n",
       "             nombre_area     denominacion_empresa  \n",
       "0              Educación      Neo-Biz Consultores  \n",
       "1                   RRHH              ARENA MAIPU  \n",
       "2  Arquitectura y Diseño  Bios - Recursos Humanos  \n",
       "3                Seguros          GABRIELA TOTARO  \n",
       "4                  Salud                   incudi  "
      ]
     },
     "execution_count": 28,
     "metadata": {},
     "output_type": "execute_result"
    }
   ],
   "source": [
    "post_vs_vistas_detalle = post_vs_vistas.merge(avisos_detalles, on=\"idaviso\")\n",
    "post_vs_vistas_detalle.head()"
   ]
  },
  {
   "cell_type": "code",
   "execution_count": 29,
   "metadata": {
    "collapsed": false
   },
   "outputs": [
    {
     "data": {
      "text/html": [
       "<div>\n",
       "<style scoped>\n",
       "    .dataframe tbody tr th:only-of-type {\n",
       "        vertical-align: middle;\n",
       "    }\n",
       "\n",
       "    .dataframe tbody tr th {\n",
       "        vertical-align: top;\n",
       "    }\n",
       "\n",
       "    .dataframe thead th {\n",
       "        text-align: right;\n",
       "    }\n",
       "</style>\n",
       "<table border=\"1\" class=\"dataframe\">\n",
       "  <thead>\n",
       "    <tr style=\"text-align: right;\">\n",
       "      <th></th>\n",
       "      <th>idaviso</th>\n",
       "      <th>cant_post</th>\n",
       "      <th>cant_vistas</th>\n",
       "      <th>prob_post</th>\n",
       "      <th>tipo_de_trabajo</th>\n",
       "      <th>nivel_laboral</th>\n",
       "      <th>nombre_area</th>\n",
       "      <th>denominacion_empresa</th>\n",
       "    </tr>\n",
       "  </thead>\n",
       "  <tbody>\n",
       "    <tr>\n",
       "      <th>0</th>\n",
       "      <td>1112359511</td>\n",
       "      <td>2</td>\n",
       "      <td>133</td>\n",
       "      <td>0.015038</td>\n",
       "      <td>Full-time</td>\n",
       "      <td>Senior / Semi-Senior</td>\n",
       "      <td>Educación</td>\n",
       "      <td>Neo-Biz Consultores</td>\n",
       "    </tr>\n",
       "    <tr>\n",
       "      <th>1</th>\n",
       "      <td>1112360257</td>\n",
       "      <td>17</td>\n",
       "      <td>219</td>\n",
       "      <td>0.077626</td>\n",
       "      <td>Full-time</td>\n",
       "      <td>Senior / Semi-Senior</td>\n",
       "      <td>RRHH</td>\n",
       "      <td>ARENA MAIPU</td>\n",
       "    </tr>\n",
       "    <tr>\n",
       "      <th>2</th>\n",
       "      <td>1112363426</td>\n",
       "      <td>16</td>\n",
       "      <td>181</td>\n",
       "      <td>0.088398</td>\n",
       "      <td>Full-time</td>\n",
       "      <td>Senior / Semi-Senior</td>\n",
       "      <td>Arquitectura y Diseño</td>\n",
       "      <td>Bios - Recursos Humanos</td>\n",
       "    </tr>\n",
       "    <tr>\n",
       "      <th>3</th>\n",
       "      <td>1112362228</td>\n",
       "      <td>18</td>\n",
       "      <td>199</td>\n",
       "      <td>0.090452</td>\n",
       "      <td>Full-time</td>\n",
       "      <td>Otro</td>\n",
       "      <td>Seguros</td>\n",
       "      <td>GABRIELA TOTARO</td>\n",
       "    </tr>\n",
       "    <tr>\n",
       "      <th>4</th>\n",
       "      <td>1112360818</td>\n",
       "      <td>15</td>\n",
       "      <td>164</td>\n",
       "      <td>0.091463</td>\n",
       "      <td>Full-time</td>\n",
       "      <td>Junior</td>\n",
       "      <td>Salud</td>\n",
       "      <td>incudi</td>\n",
       "    </tr>\n",
       "  </tbody>\n",
       "</table>\n",
       "</div>"
      ],
      "text/plain": [
       "      idaviso  cant_post  cant_vistas  prob_post tipo_de_trabajo  \\\n",
       "0  1112359511          2          133   0.015038       Full-time   \n",
       "1  1112360257         17          219   0.077626       Full-time   \n",
       "2  1112363426         16          181   0.088398       Full-time   \n",
       "3  1112362228         18          199   0.090452       Full-time   \n",
       "4  1112360818         15          164   0.091463       Full-time   \n",
       "\n",
       "          nivel_laboral            nombre_area     denominacion_empresa  \n",
       "0  Senior / Semi-Senior              Educación      Neo-Biz Consultores  \n",
       "1  Senior / Semi-Senior                   RRHH              ARENA MAIPU  \n",
       "2  Senior / Semi-Senior  Arquitectura y Diseño  Bios - Recursos Humanos  \n",
       "3                  Otro                Seguros          GABRIELA TOTARO  \n",
       "4                Junior                  Salud                   incudi  "
      ]
     },
     "execution_count": 29,
     "metadata": {},
     "output_type": "execute_result"
    }
   ],
   "source": [
    "#filtro campos importantes\n",
    "post_vs_vistas_detalle = post_vs_vistas_detalle.loc[:, ['idaviso','cant_post','cant_vistas','prob_post','tipo_de_trabajo','nivel_laboral','nombre_area','denominacion_empresa']]\n",
    "post_vs_vistas_detalle.head()"
   ]
  },
  {
   "cell_type": "code",
   "execution_count": null,
   "metadata": {
    "collapsed": true
   },
   "outputs": [],
   "source": []
  }
 ],
 "metadata": {
  "kernelspec": {
   "display_name": "Python 3",
   "language": "python",
   "name": "python3"
  },
  "language_info": {
   "codemirror_mode": {
    "name": "ipython",
    "version": 3
   },
   "file_extension": ".py",
   "mimetype": "text/x-python",
   "name": "python",
   "nbconvert_exporter": "python",
   "pygments_lexer": "ipython3",
   "version": "3.6.3"
  }
 },
 "nbformat": 4,
 "nbformat_minor": 2
}
