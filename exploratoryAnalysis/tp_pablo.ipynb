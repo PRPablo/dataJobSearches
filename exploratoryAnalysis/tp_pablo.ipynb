{
 "cells": [
  {
   "cell_type": "code",
   "execution_count": 44,
   "metadata": {
    "collapsed": false
   },
   "outputs": [],
   "source": [
    "import matplotlib.pyplot as plt\n",
    "%matplotlib inline\n",
    "import pandas as pd\n",
    "from dateutil.parser import parse\n",
    "import numpy as np\n",
    "import seaborn as sns\n",
    "import warnings\n",
    "import datetime as dt\n",
    "warnings.filterwarnings('ignore')"
   ]
  },
  {
   "cell_type": "code",
   "execution_count": 45,
   "metadata": {
    "collapsed": true
   },
   "outputs": [],
   "source": [
    "# Carga de archivos\n",
    "post_educacion = pd.read_csv('../data/fiuba_1_postulantes_educacion.csv', dtype = {\n",
    "    'nombre': 'category',\n",
    "    'estado': 'category'\n",
    "})\n",
    "post_gen_edad = pd.read_csv('../data/fiuba_2_postulantes_genero_y_edad.csv', dtype = {\n",
    "    'sexo': 'category'    \n",
    "})\n",
    "\n",
    "vistas = pd.read_csv('../data/fiuba_3_vistas.csv', parse_dates=['timestamp'])\n",
    "postulaciones = pd.read_csv('../data/fiuba_4_postulaciones.csv', parse_dates=['fechapostulacion'])\n",
    "avisos_online = pd.read_csv('../data/fiuba_5_avisos_online.csv')\n",
    "\n",
    "avisos_detalles = pd.read_csv('../data/fiuba_6_avisos_detalle.csv', dtype= {\n",
    "    'nombre_zona': 'category',\n",
    "    'ciudad': 'category',\n",
    "    'tipo_de_trabajo': 'category',\n",
    "    'nivel_laboral': 'category',\n",
    "    'nombre_area': 'category'\n",
    "})"
   ]
  },
  {
   "cell_type": "markdown",
   "metadata": {},
   "source": [
    "# Ajustes en los archivos antes de procesar"
   ]
  },
  {
   "cell_type": "code",
   "execution_count": 46,
   "metadata": {
    "collapsed": false
   },
   "outputs": [
    {
     "data": {
      "text/plain": [
       "Timestamp('2018-04-16 02:12:22.644726')"
      ]
     },
     "execution_count": 46,
     "metadata": {},
     "output_type": "execute_result"
    }
   ],
   "source": [
    "vistas.rename(columns={\"idAviso\":\"idaviso\"}, inplace=True)\n",
    "vistas.rename(columns={\"timestamp\":\"fechavista\"}, inplace=True)\n",
    "\n",
    "# Cambiar el tipo de dato de la fecha de vista.\n",
    "vistas[['fechavista']] = vistas[['fechavista']].apply(pd.to_datetime)\n",
    "now = pd.Timestamp(dt.datetime.now())\n",
    "pd.to_datetime(now)"
   ]
  },
  {
   "cell_type": "code",
   "execution_count": 47,
   "metadata": {
    "collapsed": false
   },
   "outputs": [
    {
     "data": {
      "text/plain": [
       "Timestamp('2018-04-16 02:12:52.127086')"
      ]
     },
     "execution_count": 47,
     "metadata": {},
     "output_type": "execute_result"
    }
   ],
   "source": [
    "# Recorto la columna idpais ya que no es necesaria.\n",
    "avisos_detalles.drop('idpais', axis=1, inplace=True)\n",
    "# Agrego tipo categorico y modifico el tipo de dato de la fecha.\n",
    "post_gen_edad.fechanacimiento = post_gen_edad.fechanacimiento.apply(pd.to_datetime, errors='coerce')\n",
    "\n",
    "# Cambiar el tipo de dato de la fecha de postulacion.\n",
    "postulaciones[['fechapostulacion']] = postulaciones[['fechapostulacion']].apply(pd.to_datetime)\n",
    "now = pd.Timestamp(dt.datetime.now())\n",
    "pd.to_datetime(now)"
   ]
  },
  {
   "cell_type": "code",
   "execution_count": 48,
   "metadata": {
    "collapsed": true
   },
   "outputs": [],
   "source": [
    "# Agrupo las áreas parecidas.\n",
    "areas_agrupadas = pd.read_csv('../extraData/areas_agrupadas.csv')\n",
    "avisos_detalles = pd.merge(avisos_detalles, areas_agrupadas, how='inner', on='nombre_area')\n",
    "avisos_detalles['nombre_area'] = avisos_detalles['nuevo_nombre_area']\n",
    "avisos_detalles.drop('nuevo_nombre_area', axis=1, inplace=True)"
   ]
  },
  {
   "cell_type": "markdown",
   "metadata": {},
   "source": [
    "# Empieza el analisis"
   ]
  },
  {
   "cell_type": "code",
   "execution_count": 49,
   "metadata": {
    "collapsed": true
   },
   "outputs": [],
   "source": [
    "# Asigno puntajes a los diferentes niveles educativos encontrados para poder \n",
    "# obtener asi la educacion mas valiosa de cada postulante.\n",
    "valores_educacion = [{'nombre': 'Otro', 'estado': 'Abandonado',    'valor_educacion': 1    },\n",
    "    {'nombre': 'Otro',                  'estado': 'En Curso',    'valor_educacion': 2    },\n",
    "    {'nombre': 'Otro',                  'estado': 'Graduado',    'valor_educacion': 3    },\n",
    "    {'nombre': 'Secundario',            'estado': 'Abandonado',    'valor_educacion': 4    },\n",
    "    {'nombre': 'Secundario',            'estado': 'En Curso',    'valor_educacion': 5    },\n",
    "    {'nombre': 'Secundario',        'estado': 'Graduado',    'valor_educacion': 6    },\n",
    "    {'nombre': 'Terciario/Técnico', 'estado': 'Abandonado',    'valor_educacion': 7    },\n",
    "    {'nombre': 'Universitario',     'estado': 'Abandonado',    'valor_educacion': 8    },\n",
    "    {'nombre': 'Terciario/Técnico', 'estado': 'En Curso',    'valor_educacion': 9    },\n",
    "    {'nombre': 'Universitario',     'estado': 'En Curso',    'valor_educacion': 10    },\n",
    "    {'nombre': 'Terciario/Técnico', 'estado': 'Graduado',    'valor_educacion': 11    },\n",
    "    {'nombre': 'Universitario',     'estado': 'Graduado',    'valor_educacion': 12    },\n",
    "    {'nombre': 'Posgrado',          'estado': 'Abandonado',    'valor_educacion': 13    },\n",
    "    {'nombre': 'Master',            'estado': 'Abandonado',    'valor_educacion': 14    },\n",
    "    {'nombre': 'Posgrado',          'estado': 'En Curso',    'valor_educacion': 15    },\n",
    "    {'nombre': 'Master',            'estado': 'En Curso',    'valor_educacion': 16    },\n",
    "    {'nombre': 'Posgrado',          'estado': 'Graduado',    'valor_educacion': 17    },\n",
    "    {'nombre': 'Master',            'estado': 'Graduado',    'valor_educacion': 18    },\n",
    "    {'nombre': 'Doctorado',         'estado': 'Abandonado',    'valor_educacion': 19    },\n",
    "    {'nombre': 'Doctorado',         'estado': 'En Curso',    'valor_educacion': 20    },\n",
    "    {'nombre': 'Doctorado',         'estado': 'Graduado',    'valor_educacion': 21 }]\n",
    "valores_educacion = pd.DataFrame(valores_educacion)"
   ]
  },
  {
   "cell_type": "code",
   "execution_count": 50,
   "metadata": {
    "collapsed": false
   },
   "outputs": [
    {
     "data": {
      "text/plain": [
       "Index                80\n",
       "estado             1379\n",
       "nombre              850\n",
       "valor_educacion     168\n",
       "dtype: int64"
      ]
     },
     "execution_count": 50,
     "metadata": {},
     "output_type": "execute_result"
    }
   ],
   "source": [
    "valores_educacion.nombre = valores_educacion.nombre.astype('category', categories=post_educacion.nombre.cat.categories)\n",
    "valores_educacion.memory_usage(deep=True)"
   ]
  },
  {
   "cell_type": "code",
   "execution_count": 51,
   "metadata": {
    "collapsed": true
   },
   "outputs": [],
   "source": [
    "# Hago el join para aplicar puntajes a las educaciones de los postulantes.\n",
    "post_educacion = pd.merge(post_educacion, valores_educacion,  how='inner', \\\n",
    "                          left_on=['nombre','estado'], right_on = ['nombre','estado'])"
   ]
  },
  {
   "cell_type": "code",
   "execution_count": 52,
   "metadata": {
    "collapsed": false
   },
   "outputs": [
    {
     "data": {
      "text/plain": [
       "idpostulante       188752\n",
       "valor_educacion    188752\n",
       "dtype: int64"
      ]
     },
     "execution_count": 52,
     "metadata": {},
     "output_type": "execute_result"
    }
   ],
   "source": [
    "# Busco la maxima educacion que tiene cada postulante.\n",
    "max_post_educacion = post_educacion.groupby(['idpostulante'])['valor_educacion'].max().reset_index()\n",
    "max_post_educacion.count()"
   ]
  },
  {
   "cell_type": "code",
   "execution_count": 53,
   "metadata": {
    "collapsed": false
   },
   "outputs": [
    {
     "data": {
      "text/html": [
       "<div>\n",
       "<style scoped>\n",
       "    .dataframe tbody tr th:only-of-type {\n",
       "        vertical-align: middle;\n",
       "    }\n",
       "\n",
       "    .dataframe tbody tr th {\n",
       "        vertical-align: top;\n",
       "    }\n",
       "\n",
       "    .dataframe thead th {\n",
       "        text-align: right;\n",
       "    }\n",
       "</style>\n",
       "<table border=\"1\" class=\"dataframe\">\n",
       "  <thead>\n",
       "    <tr style=\"text-align: right;\">\n",
       "      <th></th>\n",
       "      <th>idpostulante</th>\n",
       "      <th>nombre</th>\n",
       "      <th>estado</th>\n",
       "      <th>valor_educacion</th>\n",
       "    </tr>\n",
       "  </thead>\n",
       "  <tbody>\n",
       "    <tr>\n",
       "      <th>0</th>\n",
       "      <td>NdJl</td>\n",
       "      <td>Posgrado</td>\n",
       "      <td>En Curso</td>\n",
       "      <td>15</td>\n",
       "    </tr>\n",
       "    <tr>\n",
       "      <th>1</th>\n",
       "      <td>axaPJ</td>\n",
       "      <td>Posgrado</td>\n",
       "      <td>En Curso</td>\n",
       "      <td>15</td>\n",
       "    </tr>\n",
       "    <tr>\n",
       "      <th>2</th>\n",
       "      <td>Z48mz</td>\n",
       "      <td>Posgrado</td>\n",
       "      <td>En Curso</td>\n",
       "      <td>15</td>\n",
       "    </tr>\n",
       "    <tr>\n",
       "      <th>3</th>\n",
       "      <td>a4zEZ</td>\n",
       "      <td>Posgrado</td>\n",
       "      <td>En Curso</td>\n",
       "      <td>15</td>\n",
       "    </tr>\n",
       "    <tr>\n",
       "      <th>4</th>\n",
       "      <td>6AWqO</td>\n",
       "      <td>Posgrado</td>\n",
       "      <td>En Curso</td>\n",
       "      <td>15</td>\n",
       "    </tr>\n",
       "  </tbody>\n",
       "</table>\n",
       "</div>"
      ],
      "text/plain": [
       "  idpostulante    nombre    estado  valor_educacion\n",
       "0         NdJl  Posgrado  En Curso               15\n",
       "1        axaPJ  Posgrado  En Curso               15\n",
       "2        Z48mz  Posgrado  En Curso               15\n",
       "3        a4zEZ  Posgrado  En Curso               15\n",
       "4        6AWqO  Posgrado  En Curso               15"
      ]
     },
     "execution_count": 53,
     "metadata": {},
     "output_type": "execute_result"
    }
   ],
   "source": [
    "# Hago el join para filtrar todas las educaciones que no me interesan, dejando solo la maxima educacion.\n",
    "post_educacion = pd.merge(post_educacion, max_post_educacion,  how='inner', \\\n",
    "                          left_on=['idpostulante','valor_educacion'], right_on = ['idpostulante','valor_educacion'])\n",
    "\n",
    "post_educacion.head()"
   ]
  },
  {
   "cell_type": "code",
   "execution_count": 54,
   "metadata": {
    "collapsed": false
   },
   "outputs": [
    {
     "data": {
      "text/html": [
       "<div>\n",
       "<style scoped>\n",
       "    .dataframe tbody tr th:only-of-type {\n",
       "        vertical-align: middle;\n",
       "    }\n",
       "\n",
       "    .dataframe tbody tr th {\n",
       "        vertical-align: top;\n",
       "    }\n",
       "\n",
       "    .dataframe thead th {\n",
       "        text-align: right;\n",
       "    }\n",
       "</style>\n",
       "<table border=\"1\" class=\"dataframe\">\n",
       "  <thead>\n",
       "    <tr style=\"text-align: right;\">\n",
       "      <th></th>\n",
       "      <th>idpostulante</th>\n",
       "      <th>nombre</th>\n",
       "      <th>estado</th>\n",
       "      <th>valor_educacion</th>\n",
       "      <th>fechanacimiento</th>\n",
       "      <th>sexo</th>\n",
       "      <th>edad</th>\n",
       "    </tr>\n",
       "  </thead>\n",
       "  <tbody>\n",
       "    <tr>\n",
       "      <th>0</th>\n",
       "      <td>NdJl</td>\n",
       "      <td>Posgrado</td>\n",
       "      <td>En Curso</td>\n",
       "      <td>15</td>\n",
       "      <td>1969-05-09</td>\n",
       "      <td>MASC</td>\n",
       "      <td>48.0</td>\n",
       "    </tr>\n",
       "    <tr>\n",
       "      <th>1</th>\n",
       "      <td>axaPJ</td>\n",
       "      <td>Posgrado</td>\n",
       "      <td>En Curso</td>\n",
       "      <td>15</td>\n",
       "      <td>1970-01-06</td>\n",
       "      <td>MASC</td>\n",
       "      <td>48.0</td>\n",
       "    </tr>\n",
       "    <tr>\n",
       "      <th>2</th>\n",
       "      <td>Z48mz</td>\n",
       "      <td>Posgrado</td>\n",
       "      <td>En Curso</td>\n",
       "      <td>15</td>\n",
       "      <td>1967-05-16</td>\n",
       "      <td>MASC</td>\n",
       "      <td>50.0</td>\n",
       "    </tr>\n",
       "    <tr>\n",
       "      <th>3</th>\n",
       "      <td>a4zEZ</td>\n",
       "      <td>Posgrado</td>\n",
       "      <td>En Curso</td>\n",
       "      <td>15</td>\n",
       "      <td>1976-04-10</td>\n",
       "      <td>MASC</td>\n",
       "      <td>42.0</td>\n",
       "    </tr>\n",
       "    <tr>\n",
       "      <th>4</th>\n",
       "      <td>6AWqO</td>\n",
       "      <td>Posgrado</td>\n",
       "      <td>En Curso</td>\n",
       "      <td>15</td>\n",
       "      <td>1970-05-21</td>\n",
       "      <td>MASC</td>\n",
       "      <td>47.0</td>\n",
       "    </tr>\n",
       "  </tbody>\n",
       "</table>\n",
       "</div>"
      ],
      "text/plain": [
       "  idpostulante    nombre    estado  valor_educacion fechanacimiento  sexo  \\\n",
       "0         NdJl  Posgrado  En Curso               15      1969-05-09  MASC   \n",
       "1        axaPJ  Posgrado  En Curso               15      1970-01-06  MASC   \n",
       "2        Z48mz  Posgrado  En Curso               15      1967-05-16  MASC   \n",
       "3        a4zEZ  Posgrado  En Curso               15      1976-04-10  MASC   \n",
       "4        6AWqO  Posgrado  En Curso               15      1970-05-21  MASC   \n",
       "\n",
       "   edad  \n",
       "0  48.0  \n",
       "1  48.0  \n",
       "2  50.0  \n",
       "3  42.0  \n",
       "4  47.0  "
      ]
     },
     "execution_count": 54,
     "metadata": {},
     "output_type": "execute_result"
    }
   ],
   "source": [
    "postulantes = pd.merge(post_educacion, post_gen_edad)\n",
    "pd.to_datetime(postulantes['fechanacimiento'])\n",
    "postulantes['edad'] = (now - pd.to_datetime(postulantes['fechanacimiento'])).astype('<m8[Y]')\n",
    "postulantes.head()"
   ]
  },
  {
   "cell_type": "markdown",
   "metadata": {},
   "source": [
    "# Relacion entre cantidad de postulaciones y vistas por aviso"
   ]
  },
  {
   "cell_type": "code",
   "execution_count": 55,
   "metadata": {
    "collapsed": false
   },
   "outputs": [
    {
     "data": {
      "image/png": "[encoded data removed]",
      "text/plain": [
       "<Figure size 1008x288 with 1 Axes>"
      ]
     },
     "metadata": {},
     "output_type": "display_data"
    }
   ],
   "source": [
    "#cantidad de postulaciones por dia de semana\n",
    "post_weekday = postulaciones\n",
    "post_weekday['weekday'] = post_weekday['fechapostulacion'].dt.weekday_name\n",
    "post_weekday['dayofweek'] = post_weekday['fechapostulacion'].dt.dayofweek\n",
    "post_weekday_groupby = post_weekday.groupby(['dayofweek','weekday']).count()['fechapostulacion']\n",
    "post_weekday_groupby.plot(title = \"Cantidad de postulaciones por dia de semana\",kind='bar',figsize=(14,4))\n",
    "plt.xlabel('dia de la semana')\n",
    "plt.ylabel('cantidad de postulaciones')\n",
    "plt.show()"
   ]
  },
  {
   "cell_type": "code",
   "execution_count": 56,
   "metadata": {
    "collapsed": false
   },
   "outputs": [
    {
     "data": {
      "image/png": "[encoded data removed]",
      "text/plain": [
       "<Figure size 1008x288 with 1 Axes>"
      ]
     },
     "metadata": {},
     "output_type": "display_data"
    }
   ],
   "source": [
    "# Cantidad de Vistas por dia de semana\n",
    "\n",
    "# Se llego a la conclusion de que la cantidad de vistas totales son los registros del \n",
    "# archivo vistas + archivo postulaciones\n",
    "\n",
    "# Tomo la fecha minima de las vistas, para filtrar las postulaciones y asegurarme que tengo los mismos rangos de tiempo\n",
    "# (ultimos 7 dias) para comparar.\n",
    "min_vista_fecha = vistas['fechavista'].sort_values().loc[0]\n",
    "\n",
    "ax = plt.gca()\n",
    "\n",
    "vistas_weekday = postulaciones[postulaciones[\"fechapostulacion\"] >= min_vista_fecha]\n",
    "vistas_weekday.rename(columns={\"fechapostulacion\":\"fechavista\"}, inplace=True)\n",
    "vistas_weekday = pd.concat([vistas, vistas_weekday])\n",
    "vistas_weekday['weekday'] = vistas_weekday['fechavista'].dt.weekday_name\n",
    "vistas_weekday['dayofweek'] = vistas_weekday['fechavista'].dt.dayofweek\n",
    "vistas_weekday_groupby = vistas_weekday.groupby(['dayofweek','weekday']).count()['fechavista'].reset_index()\n",
    "vistas_weekday_groupby.set_index('weekday', inplace=True)\n",
    "vistas_weekday_groupby.drop('dayofweek', inplace=True, axis=1)\n",
    "vistas_weekday_groupby.index.name = None\n",
    "vistas_weekday_groupby.rename({'fechavista': 'Cantidad de Vistas'}, inplace=True, axis=1)\n",
    "\n",
    "vistas_weekday_groupby.rename({\n",
    "    'Monday' : 'Lunes',\n",
    "    'Tuesday' : 'Martes',\n",
    "    'Wednesday' : 'Miercoles',\n",
    "    'Thursday' : 'Jueves',\n",
    "    'Friday' : 'Viernes',\n",
    "    'Saturday' : 'Sabado',\n",
    "    'Sunday' : 'Domingo'\n",
    "}, axis=0, inplace=True)\n",
    "\n",
    "\n",
    "vistas_weekday_groupby.plot(ax = ax, title = \"Cantidad de vistas por dia de semana\",kind='bar',figsize=(14,4))\n",
    "# vistas_weekday_groupby.plot(ax = ax, title = \"Cantidad de vistas por dia de semana\",kind='line',figsize=(14,4), secondary_y=True)\n",
    "\n",
    "plt.xlabel('Dia de la Semana')\n",
    "plt.ylabel('Cantidad de Vistas');"
   ]
  },
  {
   "cell_type": "code",
   "execution_count": 57,
   "metadata": {
    "collapsed": false
   },
   "outputs": [
    {
     "data": {
      "text/html": [
       "<div>\n",
       "<style scoped>\n",
       "    .dataframe tbody tr th:only-of-type {\n",
       "        vertical-align: middle;\n",
       "    }\n",
       "\n",
       "    .dataframe tbody tr th {\n",
       "        vertical-align: top;\n",
       "    }\n",
       "\n",
       "    .dataframe thead th {\n",
       "        text-align: right;\n",
       "    }\n",
       "</style>\n",
       "<table border=\"1\" class=\"dataframe\">\n",
       "  <thead>\n",
       "    <tr style=\"text-align: right;\">\n",
       "      <th></th>\n",
       "      <th>idaviso</th>\n",
       "      <th>cant_post</th>\n",
       "    </tr>\n",
       "  </thead>\n",
       "  <tbody>\n",
       "    <tr>\n",
       "      <th>0</th>\n",
       "      <td>1112359836</td>\n",
       "      <td>4059</td>\n",
       "    </tr>\n",
       "    <tr>\n",
       "      <th>1</th>\n",
       "      <td>1112366909</td>\n",
       "      <td>2885</td>\n",
       "    </tr>\n",
       "    <tr>\n",
       "      <th>2</th>\n",
       "      <td>1112369306</td>\n",
       "      <td>2450</td>\n",
       "    </tr>\n",
       "    <tr>\n",
       "      <th>3</th>\n",
       "      <td>1112366913</td>\n",
       "      <td>2343</td>\n",
       "    </tr>\n",
       "    <tr>\n",
       "      <th>4</th>\n",
       "      <td>1112334791</td>\n",
       "      <td>2305</td>\n",
       "    </tr>\n",
       "  </tbody>\n",
       "</table>\n",
       "</div>"
      ],
      "text/plain": [
       "      idaviso  cant_post\n",
       "0  1112359836       4059\n",
       "1  1112366909       2885\n",
       "2  1112369306       2450\n",
       "3  1112366913       2343\n",
       "4  1112334791       2305"
      ]
     },
     "execution_count": 57,
     "metadata": {},
     "output_type": "execute_result"
    }
   ],
   "source": [
    "#cantidad de postulaciones\n",
    "# Tomo la fecha minima de las vistas, para filtrar las postulaciones y asegurarme que tengo los mismos rangos de tiempo\n",
    "# (ultimos 7 dias) para comparar.\n",
    "min_vista_fecha = vistas['fechavista'].sort_values().loc[0]\n",
    "avisos_cant_post = postulaciones[postulaciones[\"fechapostulacion\"] >= min_vista_fecha]\n",
    "avisos_cant_post = avisos_cant_post.loc[:,['idaviso']]\n",
    "avisos_cant_post = avisos_cant_post.groupby(['idaviso']).size()\n",
    "avisos_cant_post = avisos_cant_post.sort_values(ascending=False)\n",
    "avisos_cant_post = pd.DataFrame(avisos_cant_post).reset_index()\n",
    "avisos_cant_post[[\"idaviso\", \"cant_post\"]] = avisos_cant_post[[\"idaviso\", 0]]\n",
    "avisos_cant_post = avisos_cant_post[[\"idaviso\", \"cant_post\"]]  \n",
    "avisos_cant_post.head()"
   ]
  },
  {
   "cell_type": "code",
   "execution_count": 58,
   "metadata": {
    "collapsed": false
   },
   "outputs": [
    {
     "data": {
      "text/html": [
       "<div>\n",
       "<style scoped>\n",
       "    .dataframe tbody tr th:only-of-type {\n",
       "        vertical-align: middle;\n",
       "    }\n",
       "\n",
       "    .dataframe tbody tr th {\n",
       "        vertical-align: top;\n",
       "    }\n",
       "\n",
       "    .dataframe thead th {\n",
       "        text-align: right;\n",
       "    }\n",
       "</style>\n",
       "<table border=\"1\" class=\"dataframe\">\n",
       "  <thead>\n",
       "    <tr style=\"text-align: right;\">\n",
       "      <th></th>\n",
       "      <th>idaviso</th>\n",
       "      <th>cant_post</th>\n",
       "    </tr>\n",
       "  </thead>\n",
       "  <tbody>\n",
       "    <tr>\n",
       "      <th>count</th>\n",
       "      <td>5.708000e+03</td>\n",
       "      <td>5708.000000</td>\n",
       "    </tr>\n",
       "    <tr>\n",
       "      <th>mean</th>\n",
       "      <td>1.111371e+09</td>\n",
       "      <td>81.860371</td>\n",
       "    </tr>\n",
       "    <tr>\n",
       "      <th>std</th>\n",
       "      <td>2.193517e+07</td>\n",
       "      <td>183.039775</td>\n",
       "    </tr>\n",
       "    <tr>\n",
       "      <th>min</th>\n",
       "      <td>1.254376e+07</td>\n",
       "      <td>1.000000</td>\n",
       "    </tr>\n",
       "    <tr>\n",
       "      <th>25%</th>\n",
       "      <td>1.112299e+09</td>\n",
       "      <td>10.000000</td>\n",
       "    </tr>\n",
       "    <tr>\n",
       "      <th>50%</th>\n",
       "      <td>1.112323e+09</td>\n",
       "      <td>27.000000</td>\n",
       "    </tr>\n",
       "    <tr>\n",
       "      <th>75%</th>\n",
       "      <td>1.112350e+09</td>\n",
       "      <td>74.000000</td>\n",
       "    </tr>\n",
       "    <tr>\n",
       "      <th>max</th>\n",
       "      <td>1.112370e+09</td>\n",
       "      <td>4059.000000</td>\n",
       "    </tr>\n",
       "  </tbody>\n",
       "</table>\n",
       "</div>"
      ],
      "text/plain": [
       "            idaviso    cant_post\n",
       "count  5.708000e+03  5708.000000\n",
       "mean   1.111371e+09    81.860371\n",
       "std    2.193517e+07   183.039775\n",
       "min    1.254376e+07     1.000000\n",
       "25%    1.112299e+09    10.000000\n",
       "50%    1.112323e+09    27.000000\n",
       "75%    1.112350e+09    74.000000\n",
       "max    1.112370e+09  4059.000000"
      ]
     },
     "execution_count": 58,
     "metadata": {},
     "output_type": "execute_result"
    }
   ],
   "source": [
    "avisos_cant_post.describe()"
   ]
  },
  {
   "cell_type": "code",
   "execution_count": 59,
   "metadata": {
    "collapsed": false
   },
   "outputs": [
    {
     "data": {
      "text/html": [
       "<div>\n",
       "<style scoped>\n",
       "    .dataframe tbody tr th:only-of-type {\n",
       "        vertical-align: middle;\n",
       "    }\n",
       "\n",
       "    .dataframe tbody tr th {\n",
       "        vertical-align: top;\n",
       "    }\n",
       "\n",
       "    .dataframe thead th {\n",
       "        text-align: right;\n",
       "    }\n",
       "</style>\n",
       "<table border=\"1\" class=\"dataframe\">\n",
       "  <thead>\n",
       "    <tr style=\"text-align: right;\">\n",
       "      <th></th>\n",
       "      <th>idaviso</th>\n",
       "      <th>cant_vistas</th>\n",
       "    </tr>\n",
       "  </thead>\n",
       "  <tbody>\n",
       "    <tr>\n",
       "      <th>0</th>\n",
       "      <td>1112359836</td>\n",
       "      <td>8179</td>\n",
       "    </tr>\n",
       "    <tr>\n",
       "      <th>1</th>\n",
       "      <td>1112366909</td>\n",
       "      <td>6554</td>\n",
       "    </tr>\n",
       "    <tr>\n",
       "      <th>2</th>\n",
       "      <td>1112369306</td>\n",
       "      <td>5686</td>\n",
       "    </tr>\n",
       "    <tr>\n",
       "      <th>3</th>\n",
       "      <td>1112352317</td>\n",
       "      <td>5639</td>\n",
       "    </tr>\n",
       "    <tr>\n",
       "      <th>4</th>\n",
       "      <td>1112363488</td>\n",
       "      <td>5413</td>\n",
       "    </tr>\n",
       "  </tbody>\n",
       "</table>\n",
       "</div>"
      ],
      "text/plain": [
       "      idaviso  cant_vistas\n",
       "0  1112359836         8179\n",
       "1  1112366909         6554\n",
       "2  1112369306         5686\n",
       "3  1112352317         5639\n",
       "4  1112363488         5413"
      ]
     },
     "execution_count": 59,
     "metadata": {},
     "output_type": "execute_result"
    }
   ],
   "source": [
    "#cantidad de vistas\n",
    "#relacion post vs vistas\n",
    "# Tomo la fecha minima de las vistas, para filtrar las postulaciones y asegurarme que tengo los mismos rangos de tiempo\n",
    "# (ultimos 7 dias) para comparar.\n",
    "min_vista_fecha = vistas['fechavista'].sort_values().loc[0]\n",
    "avisos_cant_vistas = postulaciones[postulaciones[\"fechapostulacion\"] >= min_vista_fecha]\n",
    "avisos_cant_vistas.rename(columns={\"fechapostulacion\":\"fechavista\"}, inplace=True)\n",
    "avisos_cant_vistas = pd.concat([vistas, avisos_cant_vistas])\n",
    "avisos_cant_vistas = avisos_cant_vistas.loc[:,['idaviso']]\n",
    "avisos_cant_vistas = avisos_cant_vistas.groupby(['idaviso']).size()\n",
    "avisos_cant_vistas = avisos_cant_vistas.sort_values(ascending=False)\n",
    "avisos_cant_vistas = pd.DataFrame(avisos_cant_vistas).reset_index()\n",
    "avisos_cant_vistas[[\"idaviso\", \"cant_vistas\"]] = avisos_cant_vistas[[\"idaviso\", 0]]\n",
    "avisos_cant_vistas = avisos_cant_vistas[[\"idaviso\", \"cant_vistas\"]]  \n",
    "avisos_cant_vistas.head()"
   ]
  },
  {
   "cell_type": "code",
   "execution_count": 60,
   "metadata": {
    "collapsed": false
   },
   "outputs": [
    {
     "data": {
      "text/html": [
       "<div>\n",
       "<style scoped>\n",
       "    .dataframe tbody tr th:only-of-type {\n",
       "        vertical-align: middle;\n",
       "    }\n",
       "\n",
       "    .dataframe tbody tr th {\n",
       "        vertical-align: top;\n",
       "    }\n",
       "\n",
       "    .dataframe thead th {\n",
       "        text-align: right;\n",
       "    }\n",
       "</style>\n",
       "<table border=\"1\" class=\"dataframe\">\n",
       "  <thead>\n",
       "    <tr style=\"text-align: right;\">\n",
       "      <th></th>\n",
       "      <th>idaviso</th>\n",
       "      <th>cant_post</th>\n",
       "      <th>cant_vistas</th>\n",
       "    </tr>\n",
       "  </thead>\n",
       "  <tbody>\n",
       "    <tr>\n",
       "      <th>0</th>\n",
       "      <td>1112359836</td>\n",
       "      <td>4059</td>\n",
       "      <td>8179</td>\n",
       "    </tr>\n",
       "    <tr>\n",
       "      <th>1</th>\n",
       "      <td>1112366909</td>\n",
       "      <td>2885</td>\n",
       "      <td>6554</td>\n",
       "    </tr>\n",
       "    <tr>\n",
       "      <th>2</th>\n",
       "      <td>1112369306</td>\n",
       "      <td>2450</td>\n",
       "      <td>5686</td>\n",
       "    </tr>\n",
       "    <tr>\n",
       "      <th>3</th>\n",
       "      <td>1112366913</td>\n",
       "      <td>2343</td>\n",
       "      <td>4593</td>\n",
       "    </tr>\n",
       "    <tr>\n",
       "      <th>4</th>\n",
       "      <td>1112334791</td>\n",
       "      <td>2305</td>\n",
       "      <td>5122</td>\n",
       "    </tr>\n",
       "  </tbody>\n",
       "</table>\n",
       "</div>"
      ],
      "text/plain": [
       "      idaviso  cant_post  cant_vistas\n",
       "0  1112359836       4059         8179\n",
       "1  1112366909       2885         6554\n",
       "2  1112369306       2450         5686\n",
       "3  1112366913       2343         4593\n",
       "4  1112334791       2305         5122"
      ]
     },
     "execution_count": 60,
     "metadata": {},
     "output_type": "execute_result"
    }
   ],
   "source": [
    "#relacion post vs vistas\n",
    "post_vs_vistas =  pd.merge(avisos_cant_post, avisos_cant_vistas, on=\"idaviso\", how='inner')\n",
    "post_vs_vistas = post_vs_vistas[[\"idaviso\", \"cant_post\", \"cant_vistas\"]] \n",
    "post_vs_vistas.head()"
   ]
  },
  {
   "cell_type": "code",
   "execution_count": 61,
   "metadata": {
    "collapsed": false
   },
   "outputs": [
    {
     "data": {
      "text/html": [
       "<div>\n",
       "<style scoped>\n",
       "    .dataframe tbody tr th:only-of-type {\n",
       "        vertical-align: middle;\n",
       "    }\n",
       "\n",
       "    .dataframe tbody tr th {\n",
       "        vertical-align: top;\n",
       "    }\n",
       "\n",
       "    .dataframe thead th {\n",
       "        text-align: right;\n",
       "    }\n",
       "</style>\n",
       "<table border=\"1\" class=\"dataframe\">\n",
       "  <thead>\n",
       "    <tr style=\"text-align: right;\">\n",
       "      <th></th>\n",
       "      <th>idaviso</th>\n",
       "      <th>cant_post</th>\n",
       "      <th>cant_vistas</th>\n",
       "      <th>prob_post</th>\n",
       "    </tr>\n",
       "  </thead>\n",
       "  <tbody>\n",
       "    <tr>\n",
       "      <th>5461</th>\n",
       "      <td>1112359511</td>\n",
       "      <td>2</td>\n",
       "      <td>133</td>\n",
       "      <td>0.015038</td>\n",
       "    </tr>\n",
       "    <tr>\n",
       "      <th>5672</th>\n",
       "      <td>1112289757</td>\n",
       "      <td>1</td>\n",
       "      <td>62</td>\n",
       "      <td>0.016129</td>\n",
       "    </tr>\n",
       "    <tr>\n",
       "      <th>5292</th>\n",
       "      <td>1112361790</td>\n",
       "      <td>2</td>\n",
       "      <td>112</td>\n",
       "      <td>0.017857</td>\n",
       "    </tr>\n",
       "    <tr>\n",
       "      <th>5706</th>\n",
       "      <td>1112288001</td>\n",
       "      <td>1</td>\n",
       "      <td>49</td>\n",
       "      <td>0.020408</td>\n",
       "    </tr>\n",
       "    <tr>\n",
       "      <th>5666</th>\n",
       "      <td>1112289245</td>\n",
       "      <td>1</td>\n",
       "      <td>41</td>\n",
       "      <td>0.024390</td>\n",
       "    </tr>\n",
       "  </tbody>\n",
       "</table>\n",
       "</div>"
      ],
      "text/plain": [
       "         idaviso  cant_post  cant_vistas  prob_post\n",
       "5461  1112359511          2          133   0.015038\n",
       "5672  1112289757          1           62   0.016129\n",
       "5292  1112361790          2          112   0.017857\n",
       "5706  1112288001          1           49   0.020408\n",
       "5666  1112289245          1           41   0.024390"
      ]
     },
     "execution_count": 61,
     "metadata": {},
     "output_type": "execute_result"
    }
   ],
   "source": [
    "#calculo la probabilidad de que alguien se postule\n",
    "# post_vs_vistas.dropna()\n",
    "post_vs_vistas['prob_post'] = post_vs_vistas.cant_post / post_vs_vistas.cant_vistas\n",
    "post_vs_vistas = post_vs_vistas.sort_values(by='prob_post', ascending=True)\n",
    "post_vs_vistas.head()"
   ]
  },
  {
   "cell_type": "code",
   "execution_count": 62,
   "metadata": {
    "collapsed": false
   },
   "outputs": [
    {
     "data": {
      "text/html": [
       "<div>\n",
       "<style scoped>\n",
       "    .dataframe tbody tr th:only-of-type {\n",
       "        vertical-align: middle;\n",
       "    }\n",
       "\n",
       "    .dataframe tbody tr th {\n",
       "        vertical-align: top;\n",
       "    }\n",
       "\n",
       "    .dataframe thead th {\n",
       "        text-align: right;\n",
       "    }\n",
       "</style>\n",
       "<table border=\"1\" class=\"dataframe\">\n",
       "  <thead>\n",
       "    <tr style=\"text-align: right;\">\n",
       "      <th></th>\n",
       "      <th>idaviso</th>\n",
       "      <th>cant_post</th>\n",
       "      <th>cant_vistas</th>\n",
       "      <th>prob_post</th>\n",
       "    </tr>\n",
       "  </thead>\n",
       "  <tbody>\n",
       "    <tr>\n",
       "      <th>count</th>\n",
       "      <td>5.708000e+03</td>\n",
       "      <td>5708.000000</td>\n",
       "      <td>5708.000000</td>\n",
       "      <td>5708.000000</td>\n",
       "    </tr>\n",
       "    <tr>\n",
       "      <th>mean</th>\n",
       "      <td>1.111371e+09</td>\n",
       "      <td>81.860371</td>\n",
       "      <td>249.240189</td>\n",
       "      <td>0.332769</td>\n",
       "    </tr>\n",
       "    <tr>\n",
       "      <th>std</th>\n",
       "      <td>2.193517e+07</td>\n",
       "      <td>183.039775</td>\n",
       "      <td>481.651671</td>\n",
       "      <td>0.215301</td>\n",
       "    </tr>\n",
       "    <tr>\n",
       "      <th>min</th>\n",
       "      <td>1.254376e+07</td>\n",
       "      <td>1.000000</td>\n",
       "      <td>1.000000</td>\n",
       "      <td>0.015038</td>\n",
       "    </tr>\n",
       "    <tr>\n",
       "      <th>25%</th>\n",
       "      <td>1.112299e+09</td>\n",
       "      <td>10.000000</td>\n",
       "      <td>36.000000</td>\n",
       "      <td>0.221279</td>\n",
       "    </tr>\n",
       "    <tr>\n",
       "      <th>50%</th>\n",
       "      <td>1.112323e+09</td>\n",
       "      <td>27.000000</td>\n",
       "      <td>96.000000</td>\n",
       "      <td>0.280561</td>\n",
       "    </tr>\n",
       "    <tr>\n",
       "      <th>75%</th>\n",
       "      <td>1.112350e+09</td>\n",
       "      <td>74.000000</td>\n",
       "      <td>246.000000</td>\n",
       "      <td>0.354580</td>\n",
       "    </tr>\n",
       "    <tr>\n",
       "      <th>max</th>\n",
       "      <td>1.112370e+09</td>\n",
       "      <td>4059.000000</td>\n",
       "      <td>8179.000000</td>\n",
       "      <td>1.000000</td>\n",
       "    </tr>\n",
       "  </tbody>\n",
       "</table>\n",
       "</div>"
      ],
      "text/plain": [
       "            idaviso    cant_post  cant_vistas    prob_post\n",
       "count  5.708000e+03  5708.000000  5708.000000  5708.000000\n",
       "mean   1.111371e+09    81.860371   249.240189     0.332769\n",
       "std    2.193517e+07   183.039775   481.651671     0.215301\n",
       "min    1.254376e+07     1.000000     1.000000     0.015038\n",
       "25%    1.112299e+09    10.000000    36.000000     0.221279\n",
       "50%    1.112323e+09    27.000000    96.000000     0.280561\n",
       "75%    1.112350e+09    74.000000   246.000000     0.354580\n",
       "max    1.112370e+09  4059.000000  8179.000000     1.000000"
      ]
     },
     "execution_count": 62,
     "metadata": {},
     "output_type": "execute_result"
    }
   ],
   "source": [
    "post_vs_vistas.describe()"
   ]
  },
  {
   "cell_type": "code",
   "execution_count": 63,
   "metadata": {
    "collapsed": false
   },
   "outputs": [
    {
     "data": {
      "text/html": [
       "<div>\n",
       "<style scoped>\n",
       "    .dataframe tbody tr th:only-of-type {\n",
       "        vertical-align: middle;\n",
       "    }\n",
       "\n",
       "    .dataframe tbody tr th {\n",
       "        vertical-align: top;\n",
       "    }\n",
       "\n",
       "    .dataframe thead th {\n",
       "        text-align: right;\n",
       "    }\n",
       "</style>\n",
       "<table border=\"1\" class=\"dataframe\">\n",
       "  <thead>\n",
       "    <tr style=\"text-align: right;\">\n",
       "      <th></th>\n",
       "      <th>idaviso</th>\n",
       "      <th>cant_post</th>\n",
       "      <th>cant_vistas</th>\n",
       "      <th>prob_post</th>\n",
       "    </tr>\n",
       "  </thead>\n",
       "  <tbody>\n",
       "    <tr>\n",
       "      <th>count</th>\n",
       "      <td>4.305000e+03</td>\n",
       "      <td>4305.000000</td>\n",
       "      <td>4305.000000</td>\n",
       "      <td>4305.000000</td>\n",
       "    </tr>\n",
       "    <tr>\n",
       "      <th>mean</th>\n",
       "      <td>1.111257e+09</td>\n",
       "      <td>106.608595</td>\n",
       "      <td>324.859698</td>\n",
       "      <td>0.310431</td>\n",
       "    </tr>\n",
       "    <tr>\n",
       "      <th>std</th>\n",
       "      <td>2.485967e+07</td>\n",
       "      <td>204.750543</td>\n",
       "      <td>533.207089</td>\n",
       "      <td>0.165957</td>\n",
       "    </tr>\n",
       "    <tr>\n",
       "      <th>min</th>\n",
       "      <td>1.254376e+07</td>\n",
       "      <td>1.000000</td>\n",
       "      <td>36.000000</td>\n",
       "      <td>0.015038</td>\n",
       "    </tr>\n",
       "    <tr>\n",
       "      <th>25%</th>\n",
       "      <td>1.112303e+09</td>\n",
       "      <td>20.000000</td>\n",
       "      <td>74.000000</td>\n",
       "      <td>0.226829</td>\n",
       "    </tr>\n",
       "    <tr>\n",
       "      <th>50%</th>\n",
       "      <td>1.112335e+09</td>\n",
       "      <td>42.000000</td>\n",
       "      <td>147.000000</td>\n",
       "      <td>0.280702</td>\n",
       "    </tr>\n",
       "    <tr>\n",
       "      <th>75%</th>\n",
       "      <td>1.112354e+09</td>\n",
       "      <td>103.000000</td>\n",
       "      <td>334.000000</td>\n",
       "      <td>0.344423</td>\n",
       "    </tr>\n",
       "    <tr>\n",
       "      <th>max</th>\n",
       "      <td>1.112370e+09</td>\n",
       "      <td>4059.000000</td>\n",
       "      <td>8179.000000</td>\n",
       "      <td>1.000000</td>\n",
       "    </tr>\n",
       "  </tbody>\n",
       "</table>\n",
       "</div>"
      ],
      "text/plain": [
       "            idaviso    cant_post  cant_vistas    prob_post\n",
       "count  4.305000e+03  4305.000000  4305.000000  4305.000000\n",
       "mean   1.111257e+09   106.608595   324.859698     0.310431\n",
       "std    2.485967e+07   204.750543   533.207089     0.165957\n",
       "min    1.254376e+07     1.000000    36.000000     0.015038\n",
       "25%    1.112303e+09    20.000000    74.000000     0.226829\n",
       "50%    1.112335e+09    42.000000   147.000000     0.280702\n",
       "75%    1.112354e+09   103.000000   334.000000     0.344423\n",
       "max    1.112370e+09  4059.000000  8179.000000     1.000000"
      ]
     },
     "execution_count": 63,
     "metadata": {},
     "output_type": "execute_result"
    }
   ],
   "source": [
    "#Para que los datos sean consistentes, filtro la cantidad de vistas menor al 25%, de cantidad 36 ya que el min es 1 y max 8179  \n",
    "post_vs_vistas = post_vs_vistas[post_vs_vistas['cant_vistas'] >= 36]\n",
    "post_vs_vistas.describe()"
   ]
  },
  {
   "cell_type": "code",
   "execution_count": 64,
   "metadata": {
    "collapsed": false
   },
   "outputs": [
    {
     "data": {
      "image/png": "[encoded data removed]",
      "text/plain": [
       "<Figure size 1080x576 with 1 Axes>"
      ]
     },
     "metadata": {},
     "output_type": "display_data"
    }
   ],
   "source": [
    "post_vs_vistas.plot.scatter('cant_post','cant_vistas',alpha=1,title = \"Relacion cantidad de vistas vs postulaciones\",figsize=(15,8));\n",
    "plt.xlabel('Cantidad de Postulaciones')\n",
    "plt.ylabel('cantidad de Vistas')\n",
    "plt.show()"
   ]
  },
  {
   "cell_type": "code",
   "execution_count": 65,
   "metadata": {
    "collapsed": false
   },
   "outputs": [
    {
     "data": {
      "image/png": "[encoded data removed]",
      "text/plain": [
       "<Figure size 1080x576 with 1 Axes>"
      ]
     },
     "metadata": {},
     "output_type": "display_data"
    }
   ],
   "source": [
    "post_vs_vistas.plot.scatter('prob_post','cant_vistas',alpha=1,title = \"Relacion cantidad de vistas y probabilidad de postulacion\",figsize=(15,8));"
   ]
  },
  {
   "cell_type": "code",
   "execution_count": 66,
   "metadata": {
    "collapsed": false
   },
   "outputs": [
    {
     "data": {
      "image/png": "[encoded data removed]",
      "text/plain": [
       "<Figure size 1080x360 with 1 Axes>"
      ]
     },
     "metadata": {},
     "output_type": "display_data"
    }
   ],
   "source": [
    "#relacion de cantidad de vistas con la probabilidad de postulacion\n",
    "#separo en 3 partes, del min al mean y del mean al std y del std al max, donde el promedio de visitas es 325  y desviacion standard 534 aprox.\n",
    "# post_vs_vistas_box_min = post_vs_vistas[post_vs_vistas['cant_vistas'] <= 325]\n",
    "post_vs_vistas_box_min = post_vs_vistas.copy()\n",
    "post_vs_vistas_box_min['cant_vistas_rg'] = np.floor( post_vs_vistas_box_min['cant_vistas'].apply(lambda x: x /500) )\n",
    "post_vs_vistas_box_min['cant_vistas_rg'] = post_vs_vistas_box_min['cant_vistas_rg'].apply(lambda x: x*500)\n",
    "post_vs_vistas_box_min = post_vs_vistas_box_min.loc[:,['cant_vistas_rg','prob_post']]\n",
    "post_vs_vistas_box_min['subindex'] = post_vs_vistas_box_min.groupby('cant_vistas_rg').cumcount() + 1\n",
    "post_vs_vistas_box_min = pd.pivot_table(post_vs_vistas_box_min,index='subindex',columns='cant_vistas_rg',values='prob_post')\n",
    "post_vs_vistas_box_min.plot.box(title = \"Relacion cantidad de vistas y probabilidad de postulacion [min - mean]\", figsize=(15,5));\n",
    "plt.xlabel('cantidad de vistas (rango de 20)')\n",
    "plt.ylabel('probabilidad de postulacion')\n",
    "plt.show()"
   ]
  },
  {
   "cell_type": "code",
   "execution_count": 67,
   "metadata": {
    "collapsed": false
   },
   "outputs": [
    {
     "data": {
      "image/png": "[encoded data removed]",
      "text/plain": [
       "<Figure size 1080x360 with 1 Axes>"
      ]
     },
     "metadata": {},
     "output_type": "display_data"
    }
   ],
   "source": [
    "post_vs_vistas_box_75 = post_vs_vistas[post_vs_vistas['cant_vistas'] > 325]\n",
    "post_vs_vistas_box_75 = post_vs_vistas_box_75[post_vs_vistas_box_75['cant_vistas'] <= 534]\n",
    "post_vs_vistas_box_75['cant_vistas_rg'] = np.floor( post_vs_vistas_box_75['cant_vistas'].apply(lambda x: x /10) )\n",
    "post_vs_vistas_box_75['cant_vistas_rg'] = post_vs_vistas_box_75['cant_vistas_rg'].apply(lambda x: x*10)\n",
    "post_vs_vistas_box_75 = post_vs_vistas_box_75.loc[:,['cant_vistas_rg','prob_post']]\n",
    "post_vs_vistas_box_75['subindex'] = post_vs_vistas_box_75.groupby('cant_vistas_rg').cumcount() + 1\n",
    "post_vs_vistas_box_75 = pd.pivot_table(post_vs_vistas_box_75,index='subindex',columns='cant_vistas_rg',values='prob_post')\n",
    "post_vs_vistas_box_75.plot.box(title = \"Relacion cantidad de vistas y probabilidad de postulacion [mean - std]\", figsize=(15,5));\n",
    "plt.xlabel('cantidad de vistas (rango de 10)')\n",
    "plt.ylabel('probabilidad de postulacion')\n",
    "plt.show()"
   ]
  },
  {
   "cell_type": "code",
   "execution_count": 68,
   "metadata": {
    "collapsed": false
   },
   "outputs": [
    {
     "data": {
      "image/png": "[encoded data removed]",
      "text/plain": [
       "<Figure size 1080x360 with 1 Axes>"
      ]
     },
     "metadata": {},
     "output_type": "display_data"
    }
   ],
   "source": [
    "post_vs_vistas_box_max = post_vs_vistas[post_vs_vistas['cant_vistas'] > 534]\n",
    "post_vs_vistas_box_max['cant_vistas_rg'] = np.floor( post_vs_vistas_box_max['cant_vistas'].apply(lambda x: x /500) )\n",
    "post_vs_vistas_box_max['cant_vistas_rg'] = post_vs_vistas_box_max['cant_vistas_rg'].apply(lambda x: x*500)\n",
    "post_vs_vistas_box_max = post_vs_vistas_box_max.loc[:,['cant_vistas_rg','prob_post']]\n",
    "post_vs_vistas_box_max['subindex'] = post_vs_vistas_box_max.groupby('cant_vistas_rg').cumcount() + 1\n",
    "post_vs_vistas_box_max = pd.pivot_table(post_vs_vistas_box_max,index='subindex',columns='cant_vistas_rg',values='prob_post')\n",
    "post_vs_vistas_box_max.plot.box(title = \"Relacion cantidad de vistas y probabilidad de postulacion [std - max]\", figsize=(15,5));\n",
    "plt.xlabel('cantidad de vistas (rango de 500)')\n",
    "plt.ylabel('probabilidad de postulacion')\n",
    "plt.show()"
   ]
  },
  {
   "cell_type": "code",
   "execution_count": 71,
   "metadata": {
    "collapsed": false
   },
   "outputs": [
    {
     "data": {
      "image/png": "[encoded data removed]",
      "text/plain": [
       "<Figure size 1080x360 with 1 Axes>"
      ]
     },
     "metadata": {},
     "output_type": "display_data"
    }
   ],
   "source": [
    "post_vs_vistas_box_min = post_vs_vistas.copy()\n",
    "post_vs_vistas_box_min['cant_vistas_rg'] = np.floor( post_vs_vistas_box_min['cant_vistas'].apply(lambda x: x /200) )\n",
    "post_vs_vistas_box_min['cant_vistas_rg'] = post_vs_vistas_box_min['cant_vistas_rg'].apply(lambda x: x*200)\n",
    "post_vs_vistas_box_min = post_vs_vistas_box_min.loc[:,['cant_vistas_rg','cant_post']]\n",
    "post_vs_vistas_box_min['subindex'] = post_vs_vistas_box_min.groupby('cant_vistas_rg').cumcount() + 1\n",
    "post_vs_vistas_box_min = pd.pivot_table(post_vs_vistas_box_min,index='subindex',columns='cant_vistas_rg',values='cant_post')\n",
    "post_vs_vistas_box_min.plot.box(title = \"Relacion cantidad de vistas y cantidad de postulacion\", figsize=(15,5));\n",
    "plt.xlabel('cantidad de vistas (rango de 20)')\n",
    "plt.ylabel('cantidad de postulacion')\n",
    "plt.show()"
   ]
  },
  {
   "cell_type": "code",
   "execution_count": 69,
   "metadata": {
    "collapsed": false
   },
   "outputs": [
    {
     "ename": "KeyError",
     "evalue": "'fechavista'",
     "output_type": "error",
     "traceback": [
      "\u001b[0;31m---------------------------------------------------------------------------\u001b[0m",
      "\u001b[0;31mKeyError\u001b[0m                                  Traceback (most recent call last)",
      "\u001b[0;32m/home/prp-admin/anaconda3/lib/python3.6/site-packages/pandas/core/indexes/base.py\u001b[0m in \u001b[0;36mget_loc\u001b[0;34m(self, key, method, tolerance)\u001b[0m\n\u001b[1;32m   2524\u001b[0m             \u001b[0;32mtry\u001b[0m\u001b[0;34m:\u001b[0m\u001b[0;34m\u001b[0m\u001b[0m\n\u001b[0;32m-> 2525\u001b[0;31m                 \u001b[0;32mreturn\u001b[0m \u001b[0mself\u001b[0m\u001b[0;34m.\u001b[0m\u001b[0m_engine\u001b[0m\u001b[0;34m.\u001b[0m\u001b[0mget_loc\u001b[0m\u001b[0;34m(\u001b[0m\u001b[0mkey\u001b[0m\u001b[0;34m)\u001b[0m\u001b[0;34m\u001b[0m\u001b[0m\n\u001b[0m\u001b[1;32m   2526\u001b[0m             \u001b[0;32mexcept\u001b[0m \u001b[0mKeyError\u001b[0m\u001b[0;34m:\u001b[0m\u001b[0;34m\u001b[0m\u001b[0m\n",
      "\u001b[0;32mpandas/_libs/index.pyx\u001b[0m in \u001b[0;36mpandas._libs.index.IndexEngine.get_loc\u001b[0;34m()\u001b[0m\n",
      "\u001b[0;32mpandas/_libs/index.pyx\u001b[0m in \u001b[0;36mpandas._libs.index.IndexEngine.get_loc\u001b[0;34m()\u001b[0m\n",
      "\u001b[0;32mpandas/_libs/hashtable_class_helper.pxi\u001b[0m in \u001b[0;36mpandas._libs.hashtable.PyObjectHashTable.get_item\u001b[0;34m()\u001b[0m\n",
      "\u001b[0;32mpandas/_libs/hashtable_class_helper.pxi\u001b[0m in \u001b[0;36mpandas._libs.hashtable.PyObjectHashTable.get_item\u001b[0;34m()\u001b[0m\n",
      "\u001b[0;31mKeyError\u001b[0m: 'fechavista'",
      "\nDuring handling of the above exception, another exception occurred:\n",
      "\u001b[0;31mKeyError\u001b[0m                                  Traceback (most recent call last)",
      "\u001b[0;32m<ipython-input-69-cf25bfcce376>\u001b[0m in \u001b[0;36m<module>\u001b[0;34m()\u001b[0m\n\u001b[1;32m      1\u001b[0m \u001b[0;31m#cantidad de postulaciones por dia y hora de semana\u001b[0m\u001b[0;34m\u001b[0m\u001b[0;34m\u001b[0m\u001b[0m\n\u001b[1;32m      2\u001b[0m \u001b[0mpost_weekday_hour\u001b[0m \u001b[0;34m=\u001b[0m \u001b[0mpost_weekday\u001b[0m\u001b[0;34m\u001b[0m\u001b[0m\n\u001b[0;32m----> 3\u001b[0;31m \u001b[0mpost_weekday_hour\u001b[0m\u001b[0;34m[\u001b[0m\u001b[0;34m'hour'\u001b[0m\u001b[0;34m]\u001b[0m \u001b[0;34m=\u001b[0m \u001b[0mpost_weekday_hour\u001b[0m\u001b[0;34m[\u001b[0m\u001b[0;34m'fechavista'\u001b[0m\u001b[0;34m]\u001b[0m\u001b[0;34m.\u001b[0m\u001b[0mdt\u001b[0m\u001b[0;34m.\u001b[0m\u001b[0mhour\u001b[0m\u001b[0;34m\u001b[0m\u001b[0m\n\u001b[0m\u001b[1;32m      4\u001b[0m \u001b[0mpost_weekday_hour\u001b[0m \u001b[0;34m=\u001b[0m \u001b[0mpost_weekday_hour\u001b[0m\u001b[0;34m.\u001b[0m\u001b[0mloc\u001b[0m\u001b[0;34m[\u001b[0m\u001b[0;34m:\u001b[0m\u001b[0;34m,\u001b[0m\u001b[0;34m[\u001b[0m\u001b[0;34m'idaviso'\u001b[0m\u001b[0;34m,\u001b[0m\u001b[0;34m'weekday'\u001b[0m\u001b[0;34m,\u001b[0m\u001b[0;34m'hour'\u001b[0m\u001b[0;34m]\u001b[0m\u001b[0;34m]\u001b[0m\u001b[0;34m\u001b[0m\u001b[0m\n\u001b[1;32m      5\u001b[0m \u001b[0;34m\u001b[0m\u001b[0m\n",
      "\u001b[0;32m/home/prp-admin/anaconda3/lib/python3.6/site-packages/pandas/core/frame.py\u001b[0m in \u001b[0;36m__getitem__\u001b[0;34m(self, key)\u001b[0m\n\u001b[1;32m   2137\u001b[0m             \u001b[0;32mreturn\u001b[0m \u001b[0mself\u001b[0m\u001b[0;34m.\u001b[0m\u001b[0m_getitem_multilevel\u001b[0m\u001b[0;34m(\u001b[0m\u001b[0mkey\u001b[0m\u001b[0;34m)\u001b[0m\u001b[0;34m\u001b[0m\u001b[0m\n\u001b[1;32m   2138\u001b[0m         \u001b[0;32melse\u001b[0m\u001b[0;34m:\u001b[0m\u001b[0;34m\u001b[0m\u001b[0m\n\u001b[0;32m-> 2139\u001b[0;31m             \u001b[0;32mreturn\u001b[0m \u001b[0mself\u001b[0m\u001b[0;34m.\u001b[0m\u001b[0m_getitem_column\u001b[0m\u001b[0;34m(\u001b[0m\u001b[0mkey\u001b[0m\u001b[0;34m)\u001b[0m\u001b[0;34m\u001b[0m\u001b[0m\n\u001b[0m\u001b[1;32m   2140\u001b[0m \u001b[0;34m\u001b[0m\u001b[0m\n\u001b[1;32m   2141\u001b[0m     \u001b[0;32mdef\u001b[0m \u001b[0m_getitem_column\u001b[0m\u001b[0;34m(\u001b[0m\u001b[0mself\u001b[0m\u001b[0;34m,\u001b[0m \u001b[0mkey\u001b[0m\u001b[0;34m)\u001b[0m\u001b[0;34m:\u001b[0m\u001b[0;34m\u001b[0m\u001b[0m\n",
      "\u001b[0;32m/home/prp-admin/anaconda3/lib/python3.6/site-packages/pandas/core/frame.py\u001b[0m in \u001b[0;36m_getitem_column\u001b[0;34m(self, key)\u001b[0m\n\u001b[1;32m   2144\u001b[0m         \u001b[0;31m# get column\u001b[0m\u001b[0;34m\u001b[0m\u001b[0;34m\u001b[0m\u001b[0m\n\u001b[1;32m   2145\u001b[0m         \u001b[0;32mif\u001b[0m \u001b[0mself\u001b[0m\u001b[0;34m.\u001b[0m\u001b[0mcolumns\u001b[0m\u001b[0;34m.\u001b[0m\u001b[0mis_unique\u001b[0m\u001b[0;34m:\u001b[0m\u001b[0;34m\u001b[0m\u001b[0m\n\u001b[0;32m-> 2146\u001b[0;31m             \u001b[0;32mreturn\u001b[0m \u001b[0mself\u001b[0m\u001b[0;34m.\u001b[0m\u001b[0m_get_item_cache\u001b[0m\u001b[0;34m(\u001b[0m\u001b[0mkey\u001b[0m\u001b[0;34m)\u001b[0m\u001b[0;34m\u001b[0m\u001b[0m\n\u001b[0m\u001b[1;32m   2147\u001b[0m \u001b[0;34m\u001b[0m\u001b[0m\n\u001b[1;32m   2148\u001b[0m         \u001b[0;31m# duplicate columns & possible reduce dimensionality\u001b[0m\u001b[0;34m\u001b[0m\u001b[0;34m\u001b[0m\u001b[0m\n",
      "\u001b[0;32m/home/prp-admin/anaconda3/lib/python3.6/site-packages/pandas/core/generic.py\u001b[0m in \u001b[0;36m_get_item_cache\u001b[0;34m(self, item)\u001b[0m\n\u001b[1;32m   1840\u001b[0m         \u001b[0mres\u001b[0m \u001b[0;34m=\u001b[0m \u001b[0mcache\u001b[0m\u001b[0;34m.\u001b[0m\u001b[0mget\u001b[0m\u001b[0;34m(\u001b[0m\u001b[0mitem\u001b[0m\u001b[0;34m)\u001b[0m\u001b[0;34m\u001b[0m\u001b[0m\n\u001b[1;32m   1841\u001b[0m         \u001b[0;32mif\u001b[0m \u001b[0mres\u001b[0m \u001b[0;32mis\u001b[0m \u001b[0;32mNone\u001b[0m\u001b[0;34m:\u001b[0m\u001b[0;34m\u001b[0m\u001b[0m\n\u001b[0;32m-> 1842\u001b[0;31m             \u001b[0mvalues\u001b[0m \u001b[0;34m=\u001b[0m \u001b[0mself\u001b[0m\u001b[0;34m.\u001b[0m\u001b[0m_data\u001b[0m\u001b[0;34m.\u001b[0m\u001b[0mget\u001b[0m\u001b[0;34m(\u001b[0m\u001b[0mitem\u001b[0m\u001b[0;34m)\u001b[0m\u001b[0;34m\u001b[0m\u001b[0m\n\u001b[0m\u001b[1;32m   1843\u001b[0m             \u001b[0mres\u001b[0m \u001b[0;34m=\u001b[0m \u001b[0mself\u001b[0m\u001b[0;34m.\u001b[0m\u001b[0m_box_item_values\u001b[0m\u001b[0;34m(\u001b[0m\u001b[0mitem\u001b[0m\u001b[0;34m,\u001b[0m \u001b[0mvalues\u001b[0m\u001b[0;34m)\u001b[0m\u001b[0;34m\u001b[0m\u001b[0m\n\u001b[1;32m   1844\u001b[0m             \u001b[0mcache\u001b[0m\u001b[0;34m[\u001b[0m\u001b[0mitem\u001b[0m\u001b[0;34m]\u001b[0m \u001b[0;34m=\u001b[0m \u001b[0mres\u001b[0m\u001b[0;34m\u001b[0m\u001b[0m\n",
      "\u001b[0;32m/home/prp-admin/anaconda3/lib/python3.6/site-packages/pandas/core/internals.py\u001b[0m in \u001b[0;36mget\u001b[0;34m(self, item, fastpath)\u001b[0m\n\u001b[1;32m   3841\u001b[0m \u001b[0;34m\u001b[0m\u001b[0m\n\u001b[1;32m   3842\u001b[0m             \u001b[0;32mif\u001b[0m \u001b[0;32mnot\u001b[0m \u001b[0misna\u001b[0m\u001b[0;34m(\u001b[0m\u001b[0mitem\u001b[0m\u001b[0;34m)\u001b[0m\u001b[0;34m:\u001b[0m\u001b[0;34m\u001b[0m\u001b[0m\n\u001b[0;32m-> 3843\u001b[0;31m                 \u001b[0mloc\u001b[0m \u001b[0;34m=\u001b[0m \u001b[0mself\u001b[0m\u001b[0;34m.\u001b[0m\u001b[0mitems\u001b[0m\u001b[0;34m.\u001b[0m\u001b[0mget_loc\u001b[0m\u001b[0;34m(\u001b[0m\u001b[0mitem\u001b[0m\u001b[0;34m)\u001b[0m\u001b[0;34m\u001b[0m\u001b[0m\n\u001b[0m\u001b[1;32m   3844\u001b[0m             \u001b[0;32melse\u001b[0m\u001b[0;34m:\u001b[0m\u001b[0;34m\u001b[0m\u001b[0m\n\u001b[1;32m   3845\u001b[0m                 \u001b[0mindexer\u001b[0m \u001b[0;34m=\u001b[0m \u001b[0mnp\u001b[0m\u001b[0;34m.\u001b[0m\u001b[0marange\u001b[0m\u001b[0;34m(\u001b[0m\u001b[0mlen\u001b[0m\u001b[0;34m(\u001b[0m\u001b[0mself\u001b[0m\u001b[0;34m.\u001b[0m\u001b[0mitems\u001b[0m\u001b[0;34m)\u001b[0m\u001b[0;34m)\u001b[0m\u001b[0;34m[\u001b[0m\u001b[0misna\u001b[0m\u001b[0;34m(\u001b[0m\u001b[0mself\u001b[0m\u001b[0;34m.\u001b[0m\u001b[0mitems\u001b[0m\u001b[0;34m)\u001b[0m\u001b[0;34m]\u001b[0m\u001b[0;34m\u001b[0m\u001b[0m\n",
      "\u001b[0;32m/home/prp-admin/anaconda3/lib/python3.6/site-packages/pandas/core/indexes/base.py\u001b[0m in \u001b[0;36mget_loc\u001b[0;34m(self, key, method, tolerance)\u001b[0m\n\u001b[1;32m   2525\u001b[0m                 \u001b[0;32mreturn\u001b[0m \u001b[0mself\u001b[0m\u001b[0;34m.\u001b[0m\u001b[0m_engine\u001b[0m\u001b[0;34m.\u001b[0m\u001b[0mget_loc\u001b[0m\u001b[0;34m(\u001b[0m\u001b[0mkey\u001b[0m\u001b[0;34m)\u001b[0m\u001b[0;34m\u001b[0m\u001b[0m\n\u001b[1;32m   2526\u001b[0m             \u001b[0;32mexcept\u001b[0m \u001b[0mKeyError\u001b[0m\u001b[0;34m:\u001b[0m\u001b[0;34m\u001b[0m\u001b[0m\n\u001b[0;32m-> 2527\u001b[0;31m                 \u001b[0;32mreturn\u001b[0m \u001b[0mself\u001b[0m\u001b[0;34m.\u001b[0m\u001b[0m_engine\u001b[0m\u001b[0;34m.\u001b[0m\u001b[0mget_loc\u001b[0m\u001b[0;34m(\u001b[0m\u001b[0mself\u001b[0m\u001b[0;34m.\u001b[0m\u001b[0m_maybe_cast_indexer\u001b[0m\u001b[0;34m(\u001b[0m\u001b[0mkey\u001b[0m\u001b[0;34m)\u001b[0m\u001b[0;34m)\u001b[0m\u001b[0;34m\u001b[0m\u001b[0m\n\u001b[0m\u001b[1;32m   2528\u001b[0m \u001b[0;34m\u001b[0m\u001b[0m\n\u001b[1;32m   2529\u001b[0m         \u001b[0mindexer\u001b[0m \u001b[0;34m=\u001b[0m \u001b[0mself\u001b[0m\u001b[0;34m.\u001b[0m\u001b[0mget_indexer\u001b[0m\u001b[0;34m(\u001b[0m\u001b[0;34m[\u001b[0m\u001b[0mkey\u001b[0m\u001b[0;34m]\u001b[0m\u001b[0;34m,\u001b[0m \u001b[0mmethod\u001b[0m\u001b[0;34m=\u001b[0m\u001b[0mmethod\u001b[0m\u001b[0;34m,\u001b[0m \u001b[0mtolerance\u001b[0m\u001b[0;34m=\u001b[0m\u001b[0mtolerance\u001b[0m\u001b[0;34m)\u001b[0m\u001b[0;34m\u001b[0m\u001b[0m\n",
      "\u001b[0;32mpandas/_libs/index.pyx\u001b[0m in \u001b[0;36mpandas._libs.index.IndexEngine.get_loc\u001b[0;34m()\u001b[0m\n",
      "\u001b[0;32mpandas/_libs/index.pyx\u001b[0m in \u001b[0;36mpandas._libs.index.IndexEngine.get_loc\u001b[0;34m()\u001b[0m\n",
      "\u001b[0;32mpandas/_libs/hashtable_class_helper.pxi\u001b[0m in \u001b[0;36mpandas._libs.hashtable.PyObjectHashTable.get_item\u001b[0;34m()\u001b[0m\n",
      "\u001b[0;32mpandas/_libs/hashtable_class_helper.pxi\u001b[0m in \u001b[0;36mpandas._libs.hashtable.PyObjectHashTable.get_item\u001b[0;34m()\u001b[0m\n",
      "\u001b[0;31mKeyError\u001b[0m: 'fechavista'"
     ]
    }
   ],
   "source": [
    "#cantidad de postulaciones por dia y hora de semana\n",
    "post_weekday_hour = post_weekday\n",
    "post_weekday_hour['hour'] = post_weekday_hour['fechavista'].dt.hour\n",
    "post_weekday_hour = post_weekday_hour.loc[:,['idaviso','weekday','hour']]\n",
    "\n",
    "#separo por dia\n",
    "post_Monday = post_weekday_hour[post_weekday_hour.weekday == 'Monday']\n",
    "post_Tuesday = post_weekday_hour[post_weekday_hour.weekday == 'Tuesday']\n",
    "post_Wednesday = post_weekday_hour[post_weekday_hour.weekday == 'Wednesday']\n",
    "post_Thursday = post_weekday_hour[post_weekday_hour.weekday == 'Thursday']\n",
    "post_Friday = post_weekday_hour[post_weekday_hour.weekday == 'Friday']\n",
    "post_Saturday = post_weekday_hour[post_weekday_hour.weekday == 'Saturday']\n",
    "post_Sunday = post_weekday_hour[post_weekday_hour.weekday == 'Sunday']\n",
    "\n",
    "#agrupo por hora por cada dia con la cantidad de postulaciones\n",
    "post_Monday = post_Monday.groupby('hour', as_index=False)['idaviso'].count()\n",
    "post_Monday.columns = ['hour', 'Lunes']\n",
    "post_Tuesday = post_Tuesday.groupby('hour', as_index=False)['idaviso'].count()\n",
    "post_Tuesday.columns = ['hour', 'Martes']\n",
    "post_Wednesday = post_Wednesday.groupby('hour', as_index=False)['idaviso'].count()\n",
    "post_Wednesday.columns = ['hour', 'Miercoles']\n",
    "post_Thursday = post_Thursday.groupby('hour', as_index=False)['idaviso'].count()\n",
    "post_Thursday.columns = ['hour', 'Jurves']\n",
    "post_Friday = post_Friday.groupby('hour', as_index=False)['idaviso'].count()\n",
    "post_Friday.columns = ['hour', 'Viernes']\n",
    "post_Saturday = post_Saturday.groupby('hour', as_index=False)['idaviso'].count()\n",
    "post_Saturday.columns = ['hour', 'Sabado']\n",
    "post_Sunday = post_Sunday.groupby('hour', as_index=False)['idaviso'].count()\n",
    "post_Sunday.columns = ['hour', 'Domingo']\n",
    "\n",
    "#junto los dias\n",
    "post_weekday_hour = pd.merge(post_Monday, post_Tuesday, on='hour')\n",
    "post_weekday_hour = pd.merge(post_weekday_hour, post_Wednesday, on='hour')\n",
    "post_weekday_hour = pd.merge(post_weekday_hour, post_Thursday, on='hour')\n",
    "post_weekday_hour = pd.merge(post_weekday_hour, post_Friday, on='hour')\n",
    "post_weekday_hour = pd.merge(post_weekday_hour, post_Saturday, on='hour')\n",
    "post_weekday_hour = pd.merge(post_weekday_hour, post_Sunday, on='hour')\n",
    "post_weekday_hour.head()\n",
    "\n",
    "post_weekday_hour.plot(x='hour', title=\"Cantidad de postulaciones por dia y hora de semana\",\n",
    "            color=['#3336FF','#33FF49','#FF3333','#F3FF33','#55F1F1','#000000','#93881A'])\n",
    "plt.xlabel('hora del dia de la semana')\n",
    "plt.ylabel('cantidad de postulaciones')\n",
    "plt.show()"
   ]
  },
  {
   "cell_type": "code",
   "execution_count": 28,
   "metadata": {
    "collapsed": false
   },
   "outputs": [
    {
     "data": {
      "text/html": [
       "<div>\n",
       "<style scoped>\n",
       "    .dataframe tbody tr th:only-of-type {\n",
       "        vertical-align: middle;\n",
       "    }\n",
       "\n",
       "    .dataframe tbody tr th {\n",
       "        vertical-align: top;\n",
       "    }\n",
       "\n",
       "    .dataframe thead th {\n",
       "        text-align: right;\n",
       "    }\n",
       "</style>\n",
       "<table border=\"1\" class=\"dataframe\">\n",
       "  <thead>\n",
       "    <tr style=\"text-align: right;\">\n",
       "      <th></th>\n",
       "      <th>idaviso</th>\n",
       "      <th>cant_post</th>\n",
       "      <th>cant_vistas</th>\n",
       "      <th>prob_post</th>\n",
       "      <th>titulo</th>\n",
       "      <th>descripcion</th>\n",
       "      <th>nombre_zona</th>\n",
       "      <th>ciudad</th>\n",
       "      <th>mapacalle</th>\n",
       "      <th>tipo_de_trabajo</th>\n",
       "      <th>nivel_laboral</th>\n",
       "      <th>nombre_area</th>\n",
       "      <th>denominacion_empresa</th>\n",
       "    </tr>\n",
       "  </thead>\n",
       "  <tbody>\n",
       "    <tr>\n",
       "      <th>0</th>\n",
       "      <td>1112359511</td>\n",
       "      <td>2</td>\n",
       "      <td>133</td>\n",
       "      <td>0.015038</td>\n",
       "      <td>Docentes</td>\n",
       "      <td>&lt;p&gt;Nos encontramos en la bùsqueda de docentes ...</td>\n",
       "      <td>Gran Buenos Aires</td>\n",
       "      <td>NaN</td>\n",
       "      <td>NaN</td>\n",
       "      <td>Full-time</td>\n",
       "      <td>Senior / Semi-Senior</td>\n",
       "      <td>Educación</td>\n",
       "      <td>Neo-Biz Consultores</td>\n",
       "    </tr>\n",
       "    <tr>\n",
       "      <th>1</th>\n",
       "      <td>1112360257</td>\n",
       "      <td>17</td>\n",
       "      <td>219</td>\n",
       "      <td>0.077626</td>\n",
       "      <td>Analista de Compensaciones (Eventual)</td>\n",
       "      <td>&lt;p&gt;Tiene por objetivo liquidar sueldos y carga...</td>\n",
       "      <td>Gran Buenos Aires</td>\n",
       "      <td>NaN</td>\n",
       "      <td>NaN</td>\n",
       "      <td>Full-time</td>\n",
       "      <td>Senior / Semi-Senior</td>\n",
       "      <td>RRHH</td>\n",
       "      <td>ARENA MAIPU</td>\n",
       "    </tr>\n",
       "    <tr>\n",
       "      <th>2</th>\n",
       "      <td>1112363426</td>\n",
       "      <td>16</td>\n",
       "      <td>181</td>\n",
       "      <td>0.088398</td>\n",
       "      <td>Ingeniero Civil - Proyectista (Bíos para Impor...</td>\n",
       "      <td>&lt;p align=\"center\"&gt;&lt;strong&gt;Ingeniero Civil - Pr...</td>\n",
       "      <td>Gran Buenos Aires</td>\n",
       "      <td>NaN</td>\n",
       "      <td>NaN</td>\n",
       "      <td>Full-time</td>\n",
       "      <td>Senior / Semi-Senior</td>\n",
       "      <td>Arquitectura y Diseño</td>\n",
       "      <td>Bios - Recursos Humanos</td>\n",
       "    </tr>\n",
       "    <tr>\n",
       "      <th>3</th>\n",
       "      <td>1112362228</td>\n",
       "      <td>18</td>\n",
       "      <td>199</td>\n",
       "      <td>0.090452</td>\n",
       "      <td>PRODUCTOR ASESOR DE SEGUROS</td>\n",
       "      <td>Nos encontramos en la búsqueda de productores ...</td>\n",
       "      <td>Gran Buenos Aires</td>\n",
       "      <td>NaN</td>\n",
       "      <td>NaN</td>\n",
       "      <td>Full-time</td>\n",
       "      <td>Otro</td>\n",
       "      <td>Seguros</td>\n",
       "      <td>GABRIELA TOTARO</td>\n",
       "    </tr>\n",
       "    <tr>\n",
       "      <th>4</th>\n",
       "      <td>1112360818</td>\n",
       "      <td>15</td>\n",
       "      <td>164</td>\n",
       "      <td>0.091463</td>\n",
       "      <td>enfermera para institucion de discapacitados</td>\n",
       "      <td>&lt;p&gt;&lt;span style=\"text-decoration: underline;\"&gt;A...</td>\n",
       "      <td>Capital Federal</td>\n",
       "      <td>NaN</td>\n",
       "      <td>Bahía Blanca</td>\n",
       "      <td>Full-time</td>\n",
       "      <td>Junior</td>\n",
       "      <td>Salud</td>\n",
       "      <td>incudi</td>\n",
       "    </tr>\n",
       "  </tbody>\n",
       "</table>\n",
       "</div>"
      ],
      "text/plain": [
       "      idaviso  cant_post  cant_vistas  prob_post  \\\n",
       "0  1112359511          2          133   0.015038   \n",
       "1  1112360257         17          219   0.077626   \n",
       "2  1112363426         16          181   0.088398   \n",
       "3  1112362228         18          199   0.090452   \n",
       "4  1112360818         15          164   0.091463   \n",
       "\n",
       "                                              titulo  \\\n",
       "0                                          Docentes    \n",
       "1              Analista de Compensaciones (Eventual)   \n",
       "2  Ingeniero Civil - Proyectista (Bíos para Impor...   \n",
       "3                       PRODUCTOR ASESOR DE SEGUROS    \n",
       "4       enfermera para institucion de discapacitados   \n",
       "\n",
       "                                         descripcion        nombre_zona  \\\n",
       "0  <p>Nos encontramos en la bùsqueda de docentes ...  Gran Buenos Aires   \n",
       "1  <p>Tiene por objetivo liquidar sueldos y carga...  Gran Buenos Aires   \n",
       "2  <p align=\"center\"><strong>Ingeniero Civil - Pr...  Gran Buenos Aires   \n",
       "3  Nos encontramos en la búsqueda de productores ...  Gran Buenos Aires   \n",
       "4  <p><span style=\"text-decoration: underline;\">A...    Capital Federal   \n",
       "\n",
       "  ciudad     mapacalle tipo_de_trabajo         nivel_laboral  \\\n",
       "0    NaN           NaN       Full-time  Senior / Semi-Senior   \n",
       "1    NaN           NaN       Full-time  Senior / Semi-Senior   \n",
       "2    NaN           NaN       Full-time  Senior / Semi-Senior   \n",
       "3    NaN           NaN       Full-time                  Otro   \n",
       "4    NaN  Bahía Blanca       Full-time                Junior   \n",
       "\n",
       "             nombre_area     denominacion_empresa  \n",
       "0              Educación      Neo-Biz Consultores  \n",
       "1                   RRHH              ARENA MAIPU  \n",
       "2  Arquitectura y Diseño  Bios - Recursos Humanos  \n",
       "3                Seguros          GABRIELA TOTARO  \n",
       "4                  Salud                   incudi  "
      ]
     },
     "execution_count": 28,
     "metadata": {},
     "output_type": "execute_result"
    }
   ],
   "source": [
    "post_vs_vistas_detalle = post_vs_vistas.merge(avisos_detalles, on=\"idaviso\")\n",
    "post_vs_vistas_detalle.head()"
   ]
  },
  {
   "cell_type": "code",
   "execution_count": 29,
   "metadata": {
    "collapsed": false
   },
   "outputs": [
    {
     "data": {
      "text/html": [
       "<div>\n",
       "<style scoped>\n",
       "    .dataframe tbody tr th:only-of-type {\n",
       "        vertical-align: middle;\n",
       "    }\n",
       "\n",
       "    .dataframe tbody tr th {\n",
       "        vertical-align: top;\n",
       "    }\n",
       "\n",
       "    .dataframe thead th {\n",
       "        text-align: right;\n",
       "    }\n",
       "</style>\n",
       "<table border=\"1\" class=\"dataframe\">\n",
       "  <thead>\n",
       "    <tr style=\"text-align: right;\">\n",
       "      <th></th>\n",
       "      <th>idaviso</th>\n",
       "      <th>cant_post</th>\n",
       "      <th>cant_vistas</th>\n",
       "      <th>prob_post</th>\n",
       "      <th>tipo_de_trabajo</th>\n",
       "      <th>nivel_laboral</th>\n",
       "      <th>nombre_area</th>\n",
       "      <th>denominacion_empresa</th>\n",
       "    </tr>\n",
       "  </thead>\n",
       "  <tbody>\n",
       "    <tr>\n",
       "      <th>0</th>\n",
       "      <td>1112359511</td>\n",
       "      <td>2</td>\n",
       "      <td>133</td>\n",
       "      <td>0.015038</td>\n",
       "      <td>Full-time</td>\n",
       "      <td>Senior / Semi-Senior</td>\n",
       "      <td>Educación</td>\n",
       "      <td>Neo-Biz Consultores</td>\n",
       "    </tr>\n",
       "    <tr>\n",
       "      <th>1</th>\n",
       "      <td>1112360257</td>\n",
       "      <td>17</td>\n",
       "      <td>219</td>\n",
       "      <td>0.077626</td>\n",
       "      <td>Full-time</td>\n",
       "      <td>Senior / Semi-Senior</td>\n",
       "      <td>RRHH</td>\n",
       "      <td>ARENA MAIPU</td>\n",
       "    </tr>\n",
       "    <tr>\n",
       "      <th>2</th>\n",
       "      <td>1112363426</td>\n",
       "      <td>16</td>\n",
       "      <td>181</td>\n",
       "      <td>0.088398</td>\n",
       "      <td>Full-time</td>\n",
       "      <td>Senior / Semi-Senior</td>\n",
       "      <td>Arquitectura y Diseño</td>\n",
       "      <td>Bios - Recursos Humanos</td>\n",
       "    </tr>\n",
       "    <tr>\n",
       "      <th>3</th>\n",
       "      <td>1112362228</td>\n",
       "      <td>18</td>\n",
       "      <td>199</td>\n",
       "      <td>0.090452</td>\n",
       "      <td>Full-time</td>\n",
       "      <td>Otro</td>\n",
       "      <td>Seguros</td>\n",
       "      <td>GABRIELA TOTARO</td>\n",
       "    </tr>\n",
       "    <tr>\n",
       "      <th>4</th>\n",
       "      <td>1112360818</td>\n",
       "      <td>15</td>\n",
       "      <td>164</td>\n",
       "      <td>0.091463</td>\n",
       "      <td>Full-time</td>\n",
       "      <td>Junior</td>\n",
       "      <td>Salud</td>\n",
       "      <td>incudi</td>\n",
       "    </tr>\n",
       "  </tbody>\n",
       "</table>\n",
       "</div>"
      ],
      "text/plain": [
       "      idaviso  cant_post  cant_vistas  prob_post tipo_de_trabajo  \\\n",
       "0  1112359511          2          133   0.015038       Full-time   \n",
       "1  1112360257         17          219   0.077626       Full-time   \n",
       "2  1112363426         16          181   0.088398       Full-time   \n",
       "3  1112362228         18          199   0.090452       Full-time   \n",
       "4  1112360818         15          164   0.091463       Full-time   \n",
       "\n",
       "          nivel_laboral            nombre_area     denominacion_empresa  \n",
       "0  Senior / Semi-Senior              Educación      Neo-Biz Consultores  \n",
       "1  Senior / Semi-Senior                   RRHH              ARENA MAIPU  \n",
       "2  Senior / Semi-Senior  Arquitectura y Diseño  Bios - Recursos Humanos  \n",
       "3                  Otro                Seguros          GABRIELA TOTARO  \n",
       "4                Junior                  Salud                   incudi  "
      ]
     },
     "execution_count": 29,
     "metadata": {},
     "output_type": "execute_result"
    }
   ],
   "source": [
    "#filtro campos importantes\n",
    "post_vs_vistas_detalle = post_vs_vistas_detalle.loc[:, ['idaviso','cant_post','cant_vistas','prob_post','tipo_de_trabajo','nivel_laboral','nombre_area','denominacion_empresa']]\n",
    "post_vs_vistas_detalle.head()"
   ]
  },
  {
   "cell_type": "code",
   "execution_count": null,
   "metadata": {
    "collapsed": true
   },
   "outputs": [],
   "source": []
  }
 ],
 "metadata": {
  "kernelspec": {
   "display_name": "Python 3",
   "language": "python",
   "name": "python3"
  },
  "language_info": {
   "codemirror_mode": {
    "name": "ipython",
    "version": 3
   },
   "file_extension": ".py",
   "mimetype": "text/x-python",
   "name": "python",
   "nbconvert_exporter": "python",
   "pygments_lexer": "ipython3",
   "version": "3.6.3"
  }
 },
 "nbformat": 4,
 "nbformat_minor": 2
}
