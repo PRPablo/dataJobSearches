{
 "cells": [
  {
   "cell_type": "code",
   "execution_count": 1,
   "metadata": {
    "collapsed": false
   },
   "outputs": [],
   "source": [
    "import matplotlib.pyplot as plt\n",
    "%matplotlib inline\n",
    "import pandas as pd\n",
    "from dateutil.parser import parse\n",
    "import numpy as np\n",
    "import seaborn as sns\n",
    "import warnings\n",
    "import datetime as dt\n",
    "warnings.filterwarnings('ignore')"
   ]
  },
  {
   "cell_type": "code",
   "execution_count": 2,
   "metadata": {
    "collapsed": true
   },
   "outputs": [],
   "source": [
    "# Carga de archivos\n",
    "post_educacion = pd.read_csv('../data/fiuba_1_postulantes_educacion.csv', dtype = {\n",
    "    'nombre': 'category',\n",
    "    'estado': 'category'\n",
    "})\n",
    "post_gen_edad = pd.read_csv('../data/fiuba_2_postulantes_genero_y_edad.csv', dtype = {\n",
    "    'sexo': 'category'    \n",
    "})\n",
    "\n",
    "vistas = pd.read_csv('../data/fiuba_3_vistas.csv', parse_dates=['timestamp'])\n",
    "postulaciones = pd.read_csv('../data/fiuba_4_postulaciones.csv', parse_dates=['fechapostulacion'])\n",
    "avisos_online = pd.read_csv('../data/fiuba_5_avisos_online.csv')\n",
    "\n",
    "avisos_detalles = pd.read_csv('../data/fiuba_6_avisos_detalle.csv', dtype= {\n",
    "    'nombre_zona': 'category',\n",
    "    'ciudad': 'category',\n",
    "    'tipo_de_trabajo': 'category',\n",
    "    'nivel_laboral': 'category',\n",
    "    'nombre_area': 'category'\n",
    "})"
   ]
  },
  {
   "cell_type": "markdown",
   "metadata": {},
   "source": [
    "# Ajustes en los archivos antes de procesar"
   ]
  },
  {
   "cell_type": "code",
   "execution_count": 3,
   "metadata": {
    "collapsed": false
   },
   "outputs": [
    {
     "data": {
      "text/plain": [
       "Timestamp('2018-04-12 23:58:28.258806')"
      ]
     },
     "execution_count": 3,
     "metadata": {},
     "output_type": "execute_result"
    }
   ],
   "source": [
    "vistas.rename(columns={\"idAviso\":\"idaviso\"}, inplace=True)\n",
    "vistas.rename(columns={\"timestamp\":\"fechavista\"}, inplace=True)\n",
    "\n",
    "# Cambiar el tipo de dato de la fecha de vista.\n",
    "vistas[['fechavista']] = vistas[['fechavista']].apply(pd.to_datetime)\n",
    "now = pd.Timestamp(dt.datetime.now())\n",
    "pd.to_datetime(now)"
   ]
  },
  {
   "cell_type": "code",
   "execution_count": 4,
   "metadata": {
    "collapsed": false
   },
   "outputs": [
    {
     "data": {
      "text/plain": [
       "Timestamp('2018-04-12 23:58:54.062677')"
      ]
     },
     "execution_count": 4,
     "metadata": {},
     "output_type": "execute_result"
    }
   ],
   "source": [
    "# Recorto la columna idpais ya que no es necesaria.\n",
    "avisos_detalles.drop('idpais', axis=1, inplace=True)\n",
    "# Agrego tipo categorico y modifico el tipo de dato de la fecha.\n",
    "post_gen_edad.fechanacimiento = post_gen_edad.fechanacimiento.apply(pd.to_datetime, errors='coerce')\n",
    "\n",
    "# Cambiar el tipo de dato de la fecha de postulacion.\n",
    "postulaciones[['fechapostulacion']] = postulaciones[['fechapostulacion']].apply(pd.to_datetime)\n",
    "now = pd.Timestamp(dt.datetime.now())\n",
    "pd.to_datetime(now)"
   ]
  },
  {
   "cell_type": "code",
   "execution_count": 5,
   "metadata": {
    "collapsed": true
   },
   "outputs": [],
   "source": [
    "# Agrupo las áreas parecidas.\n",
    "areas_agrupadas = pd.read_csv('../extraData/areas_agrupadas.csv')\n",
    "avisos_detalles = pd.merge(avisos_detalles, areas_agrupadas, how='inner', on='nombre_area')\n",
    "avisos_detalles['nombre_area'] = avisos_detalles['nuevo_nombre_area']\n",
    "avisos_detalles.drop('nuevo_nombre_area', axis=1, inplace=True)"
   ]
  },
  {
   "cell_type": "markdown",
   "metadata": {},
   "source": [
    "# Empieza el analisis"
   ]
  },
  {
   "cell_type": "code",
   "execution_count": 6,
   "metadata": {
    "collapsed": true
   },
   "outputs": [],
   "source": [
    "# Asigno puntajes a los diferentes niveles educativos encontrados para poder \n",
    "# obtener asi la educacion mas valiosa de cada postulante.\n",
    "valores_educacion = [{'nombre': 'Otro', 'estado': 'Abandonado',    'valor_educacion': 1    },\n",
    "    {'nombre': 'Otro',                  'estado': 'En Curso',    'valor_educacion': 2    },\n",
    "    {'nombre': 'Otro',                  'estado': 'Graduado',    'valor_educacion': 3    },\n",
    "    {'nombre': 'Secundario',            'estado': 'Abandonado',    'valor_educacion': 4    },\n",
    "    {'nombre': 'Secundario',            'estado': 'En Curso',    'valor_educacion': 5    },\n",
    "    {'nombre': 'Secundario',        'estado': 'Graduado',    'valor_educacion': 6    },\n",
    "    {'nombre': 'Terciario/Técnico', 'estado': 'Abandonado',    'valor_educacion': 7    },\n",
    "    {'nombre': 'Universitario',     'estado': 'Abandonado',    'valor_educacion': 8    },\n",
    "    {'nombre': 'Terciario/Técnico', 'estado': 'En Curso',    'valor_educacion': 9    },\n",
    "    {'nombre': 'Universitario',     'estado': 'En Curso',    'valor_educacion': 10    },\n",
    "    {'nombre': 'Terciario/Técnico', 'estado': 'Graduado',    'valor_educacion': 11    },\n",
    "    {'nombre': 'Universitario',     'estado': 'Graduado',    'valor_educacion': 12    },\n",
    "    {'nombre': 'Posgrado',          'estado': 'Abandonado',    'valor_educacion': 13    },\n",
    "    {'nombre': 'Master',            'estado': 'Abandonado',    'valor_educacion': 14    },\n",
    "    {'nombre': 'Posgrado',          'estado': 'En Curso',    'valor_educacion': 15    },\n",
    "    {'nombre': 'Master',            'estado': 'En Curso',    'valor_educacion': 16    },\n",
    "    {'nombre': 'Posgrado',          'estado': 'Graduado',    'valor_educacion': 17    },\n",
    "    {'nombre': 'Master',            'estado': 'Graduado',    'valor_educacion': 18    },\n",
    "    {'nombre': 'Doctorado',         'estado': 'Abandonado',    'valor_educacion': 19    },\n",
    "    {'nombre': 'Doctorado',         'estado': 'En Curso',    'valor_educacion': 20    },\n",
    "    {'nombre': 'Doctorado',         'estado': 'Graduado',    'valor_educacion': 21 }]\n",
    "valores_educacion = pd.DataFrame(valores_educacion)"
   ]
  },
  {
   "cell_type": "code",
   "execution_count": 7,
   "metadata": {
    "collapsed": false
   },
   "outputs": [
    {
     "data": {
      "text/plain": [
       "Index                80\n",
       "estado             1379\n",
       "nombre              850\n",
       "valor_educacion     168\n",
       "dtype: int64"
      ]
     },
     "execution_count": 7,
     "metadata": {},
     "output_type": "execute_result"
    }
   ],
   "source": [
    "valores_educacion.nombre = valores_educacion.nombre.astype('category', categories=post_educacion.nombre.cat.categories)\n",
    "valores_educacion.memory_usage(deep=True)"
   ]
  },
  {
   "cell_type": "code",
   "execution_count": 8,
   "metadata": {
    "collapsed": true
   },
   "outputs": [],
   "source": [
    "# Hago el join para aplicar puntajes a las educaciones de los postulantes.\n",
    "post_educacion = pd.merge(post_educacion, valores_educacion,  how='inner', \\\n",
    "                          left_on=['nombre','estado'], right_on = ['nombre','estado'])"
   ]
  },
  {
   "cell_type": "code",
   "execution_count": 9,
   "metadata": {
    "collapsed": false
   },
   "outputs": [
    {
     "data": {
      "text/plain": [
       "idpostulante       188752\n",
       "valor_educacion    188752\n",
       "dtype: int64"
      ]
     },
     "execution_count": 9,
     "metadata": {},
     "output_type": "execute_result"
    }
   ],
   "source": [
    "# Busco la maxima educacion que tiene cada postulante.\n",
    "max_post_educacion = post_educacion.groupby(['idpostulante'])['valor_educacion'].max().reset_index()\n",
    "max_post_educacion.count()"
   ]
  },
  {
   "cell_type": "code",
   "execution_count": 10,
   "metadata": {
    "collapsed": false
   },
   "outputs": [
    {
     "data": {
      "text/html": [
       "<div>\n",
       "<style scoped>\n",
       "    .dataframe tbody tr th:only-of-type {\n",
       "        vertical-align: middle;\n",
       "    }\n",
       "\n",
       "    .dataframe tbody tr th {\n",
       "        vertical-align: top;\n",
       "    }\n",
       "\n",
       "    .dataframe thead th {\n",
       "        text-align: right;\n",
       "    }\n",
       "</style>\n",
       "<table border=\"1\" class=\"dataframe\">\n",
       "  <thead>\n",
       "    <tr style=\"text-align: right;\">\n",
       "      <th></th>\n",
       "      <th>idpostulante</th>\n",
       "      <th>nombre</th>\n",
       "      <th>estado</th>\n",
       "      <th>valor_educacion</th>\n",
       "    </tr>\n",
       "  </thead>\n",
       "  <tbody>\n",
       "    <tr>\n",
       "      <th>0</th>\n",
       "      <td>NdJl</td>\n",
       "      <td>Posgrado</td>\n",
       "      <td>En Curso</td>\n",
       "      <td>15</td>\n",
       "    </tr>\n",
       "    <tr>\n",
       "      <th>1</th>\n",
       "      <td>axaPJ</td>\n",
       "      <td>Posgrado</td>\n",
       "      <td>En Curso</td>\n",
       "      <td>15</td>\n",
       "    </tr>\n",
       "    <tr>\n",
       "      <th>2</th>\n",
       "      <td>Z48mz</td>\n",
       "      <td>Posgrado</td>\n",
       "      <td>En Curso</td>\n",
       "      <td>15</td>\n",
       "    </tr>\n",
       "    <tr>\n",
       "      <th>3</th>\n",
       "      <td>a4zEZ</td>\n",
       "      <td>Posgrado</td>\n",
       "      <td>En Curso</td>\n",
       "      <td>15</td>\n",
       "    </tr>\n",
       "    <tr>\n",
       "      <th>4</th>\n",
       "      <td>6AWqO</td>\n",
       "      <td>Posgrado</td>\n",
       "      <td>En Curso</td>\n",
       "      <td>15</td>\n",
       "    </tr>\n",
       "  </tbody>\n",
       "</table>\n",
       "</div>"
      ],
      "text/plain": [
       "  idpostulante    nombre    estado  valor_educacion\n",
       "0         NdJl  Posgrado  En Curso               15\n",
       "1        axaPJ  Posgrado  En Curso               15\n",
       "2        Z48mz  Posgrado  En Curso               15\n",
       "3        a4zEZ  Posgrado  En Curso               15\n",
       "4        6AWqO  Posgrado  En Curso               15"
      ]
     },
     "execution_count": 10,
     "metadata": {},
     "output_type": "execute_result"
    }
   ],
   "source": [
    "# Hago el join para filtrar todas las educaciones que no me interesan, dejando solo la maxima educacion.\n",
    "post_educacion = pd.merge(post_educacion, max_post_educacion,  how='inner', \\\n",
    "                          left_on=['idpostulante','valor_educacion'], right_on = ['idpostulante','valor_educacion'])\n",
    "\n",
    "post_educacion.head()"
   ]
  },
  {
   "cell_type": "code",
   "execution_count": 11,
   "metadata": {
    "collapsed": false
   },
   "outputs": [
    {
     "data": {
      "text/html": [
       "<div>\n",
       "<style scoped>\n",
       "    .dataframe tbody tr th:only-of-type {\n",
       "        vertical-align: middle;\n",
       "    }\n",
       "\n",
       "    .dataframe tbody tr th {\n",
       "        vertical-align: top;\n",
       "    }\n",
       "\n",
       "    .dataframe thead th {\n",
       "        text-align: right;\n",
       "    }\n",
       "</style>\n",
       "<table border=\"1\" class=\"dataframe\">\n",
       "  <thead>\n",
       "    <tr style=\"text-align: right;\">\n",
       "      <th></th>\n",
       "      <th>idpostulante</th>\n",
       "      <th>nombre</th>\n",
       "      <th>estado</th>\n",
       "      <th>valor_educacion</th>\n",
       "      <th>fechanacimiento</th>\n",
       "      <th>sexo</th>\n",
       "      <th>edad</th>\n",
       "    </tr>\n",
       "  </thead>\n",
       "  <tbody>\n",
       "    <tr>\n",
       "      <th>0</th>\n",
       "      <td>NdJl</td>\n",
       "      <td>Posgrado</td>\n",
       "      <td>En Curso</td>\n",
       "      <td>15</td>\n",
       "      <td>1969-05-09</td>\n",
       "      <td>MASC</td>\n",
       "      <td>48.0</td>\n",
       "    </tr>\n",
       "    <tr>\n",
       "      <th>1</th>\n",
       "      <td>axaPJ</td>\n",
       "      <td>Posgrado</td>\n",
       "      <td>En Curso</td>\n",
       "      <td>15</td>\n",
       "      <td>1970-01-06</td>\n",
       "      <td>MASC</td>\n",
       "      <td>48.0</td>\n",
       "    </tr>\n",
       "    <tr>\n",
       "      <th>2</th>\n",
       "      <td>Z48mz</td>\n",
       "      <td>Posgrado</td>\n",
       "      <td>En Curso</td>\n",
       "      <td>15</td>\n",
       "      <td>1967-05-16</td>\n",
       "      <td>MASC</td>\n",
       "      <td>50.0</td>\n",
       "    </tr>\n",
       "    <tr>\n",
       "      <th>3</th>\n",
       "      <td>a4zEZ</td>\n",
       "      <td>Posgrado</td>\n",
       "      <td>En Curso</td>\n",
       "      <td>15</td>\n",
       "      <td>1976-04-10</td>\n",
       "      <td>MASC</td>\n",
       "      <td>42.0</td>\n",
       "    </tr>\n",
       "    <tr>\n",
       "      <th>4</th>\n",
       "      <td>6AWqO</td>\n",
       "      <td>Posgrado</td>\n",
       "      <td>En Curso</td>\n",
       "      <td>15</td>\n",
       "      <td>1970-05-21</td>\n",
       "      <td>MASC</td>\n",
       "      <td>47.0</td>\n",
       "    </tr>\n",
       "  </tbody>\n",
       "</table>\n",
       "</div>"
      ],
      "text/plain": [
       "  idpostulante    nombre    estado  valor_educacion fechanacimiento  sexo  \\\n",
       "0         NdJl  Posgrado  En Curso               15      1969-05-09  MASC   \n",
       "1        axaPJ  Posgrado  En Curso               15      1970-01-06  MASC   \n",
       "2        Z48mz  Posgrado  En Curso               15      1967-05-16  MASC   \n",
       "3        a4zEZ  Posgrado  En Curso               15      1976-04-10  MASC   \n",
       "4        6AWqO  Posgrado  En Curso               15      1970-05-21  MASC   \n",
       "\n",
       "   edad  \n",
       "0  48.0  \n",
       "1  48.0  \n",
       "2  50.0  \n",
       "3  42.0  \n",
       "4  47.0  "
      ]
     },
     "execution_count": 11,
     "metadata": {},
     "output_type": "execute_result"
    }
   ],
   "source": [
    "postulantes = pd.merge(post_educacion, post_gen_edad)\n",
    "pd.to_datetime(postulantes['fechanacimiento'])\n",
    "postulantes['edad'] = (now - pd.to_datetime(postulantes['fechanacimiento'])).astype('<m8[Y]')\n",
    "postulantes.head()"
   ]
  },
  {
   "cell_type": "markdown",
   "metadata": {},
   "source": [
    "# Relacion entre cantidad de postulaciones y vistas por aviso"
   ]
  },
  {
   "cell_type": "code",
   "execution_count": 12,
   "metadata": {
    "collapsed": false
   },
   "outputs": [
    {
     "data": {
      "image/png": "[encoded data removed]",
      "text/plain": [
       "<Figure size 1008x288 with 1 Axes>"
      ]
     },
     "metadata": {},
     "output_type": "display_data"
    }
   ],
   "source": [
    "#cantidad de postulaciones por dia de semana\n",
    "post_weekday = postulaciones\n",
    "post_weekday['weekday'] = post_weekday['fechapostulacion'].dt.weekday_name\n",
    "post_weekday['dayofweek'] = post_weekday['fechapostulacion'].dt.dayofweek\n",
    "post_weekday_groupby = post_weekday.groupby(['dayofweek','weekday']).count()['fechapostulacion']\n",
    "post_weekday_groupby.plot(title = \"Cantidad de postulaciones por dia de semana\",kind='bar',figsize=(14,4))\n",
    "plt.xlabel('dia de la semana')\n",
    "plt.ylabel('cantidad de postulaciones')\n",
    "plt.show()"
   ]
  },
  {
   "cell_type": "code",
   "execution_count": 13,
   "metadata": {
    "collapsed": false
   },
   "outputs": [
    {
     "data": {
      "image/png": "[encoded data removed]",
      "text/plain": [
       "<Figure size 1008x288 with 1 Axes>"
      ]
     },
     "metadata": {},
     "output_type": "display_data"
    }
   ],
   "source": [
    "#cantidad de vistas por dia de semana\n",
    "# se llego a la conclusion de que la cantidad de vistas totales son los registros del \n",
    "# archivo vistas + archivo postulaciones\n",
    "vistas_weekday = postulaciones\n",
    "vistas_weekday.rename(columns={\"fechapostulacion\":\"fechavista\"}, inplace=True)\n",
    "vistas_weekday = pd.concat([vistas, vistas_weekday])\n",
    "vistas_weekday['weekday'] = vistas_weekday['fechavista'].dt.weekday_name\n",
    "vistas_weekday['dayofweek'] = vistas_weekday['fechavista'].dt.dayofweek\n",
    "vistas_weekday_groupby = vistas_weekday.groupby(['dayofweek','weekday']).count()['fechavista']\n",
    "vistas_weekday_groupby.plot(title = \"Cantidad de vistas por dia de semana\",kind='bar',figsize=(14,4))\n",
    "plt.xlabel('dia de la semana')\n",
    "plt.ylabel('cantidad de vistas')\n",
    "plt.show()"
   ]
  },
  {
   "cell_type": "code",
   "execution_count": 14,
   "metadata": {
    "collapsed": false
   },
   "outputs": [
    {
     "data": {
      "text/html": [
       "<div>\n",
       "<style scoped>\n",
       "    .dataframe tbody tr th:only-of-type {\n",
       "        vertical-align: middle;\n",
       "    }\n",
       "\n",
       "    .dataframe tbody tr th {\n",
       "        vertical-align: top;\n",
       "    }\n",
       "\n",
       "    .dataframe thead th {\n",
       "        text-align: right;\n",
       "    }\n",
       "</style>\n",
       "<table border=\"1\" class=\"dataframe\">\n",
       "  <thead>\n",
       "    <tr style=\"text-align: right;\">\n",
       "      <th></th>\n",
       "      <th>idaviso</th>\n",
       "      <th>cant_post</th>\n",
       "    </tr>\n",
       "  </thead>\n",
       "  <tbody>\n",
       "    <tr>\n",
       "      <th>0</th>\n",
       "      <td>1112033906</td>\n",
       "      <td>9932</td>\n",
       "    </tr>\n",
       "    <tr>\n",
       "      <th>1</th>\n",
       "      <td>1112334791</td>\n",
       "      <td>9787</td>\n",
       "    </tr>\n",
       "    <tr>\n",
       "      <th>2</th>\n",
       "      <td>1112204682</td>\n",
       "      <td>9244</td>\n",
       "    </tr>\n",
       "    <tr>\n",
       "      <th>3</th>\n",
       "      <td>1112094756</td>\n",
       "      <td>8763</td>\n",
       "    </tr>\n",
       "    <tr>\n",
       "      <th>4</th>\n",
       "      <td>1112345900</td>\n",
       "      <td>8304</td>\n",
       "    </tr>\n",
       "  </tbody>\n",
       "</table>\n",
       "</div>"
      ],
      "text/plain": [
       "      idaviso  cant_post\n",
       "0  1112033906       9932\n",
       "1  1112334791       9787\n",
       "2  1112204682       9244\n",
       "3  1112094756       8763\n",
       "4  1112345900       8304"
      ]
     },
     "execution_count": 14,
     "metadata": {},
     "output_type": "execute_result"
    }
   ],
   "source": [
    "#cantidad de postulaciones\n",
    "avisos_cant_post = postulaciones.loc[:,['idaviso']]\n",
    "avisos_cant_post = avisos_cant_post.groupby(['idaviso']).size()\n",
    "avisos_cant_post = avisos_cant_post.sort_values(ascending=False)\n",
    "avisos_cant_post = pd.DataFrame(avisos_cant_post).reset_index()\n",
    "avisos_cant_post[[\"idaviso\", \"cant_post\"]] = avisos_cant_post[[\"idaviso\", 0]]\n",
    "avisos_cant_post = avisos_cant_post[[\"idaviso\", \"cant_post\"]]  \n",
    "avisos_cant_post.head()"
   ]
  },
  {
   "cell_type": "code",
   "execution_count": 15,
   "metadata": {
    "collapsed": false
   },
   "outputs": [
    {
     "data": {
      "text/html": [
       "<div>\n",
       "<style scoped>\n",
       "    .dataframe tbody tr th:only-of-type {\n",
       "        vertical-align: middle;\n",
       "    }\n",
       "\n",
       "    .dataframe tbody tr th {\n",
       "        vertical-align: top;\n",
       "    }\n",
       "\n",
       "    .dataframe thead th {\n",
       "        text-align: right;\n",
       "    }\n",
       "</style>\n",
       "<table border=\"1\" class=\"dataframe\">\n",
       "  <thead>\n",
       "    <tr style=\"text-align: right;\">\n",
       "      <th></th>\n",
       "      <th>idaviso</th>\n",
       "      <th>cant_post</th>\n",
       "    </tr>\n",
       "  </thead>\n",
       "  <tbody>\n",
       "    <tr>\n",
       "      <th>count</th>\n",
       "      <td>1.269200e+04</td>\n",
       "      <td>12692.000000</td>\n",
       "    </tr>\n",
       "    <tr>\n",
       "      <th>mean</th>\n",
       "      <td>1.111419e+09</td>\n",
       "      <td>268.013158</td>\n",
       "    </tr>\n",
       "    <tr>\n",
       "      <th>std</th>\n",
       "      <td>2.084300e+07</td>\n",
       "      <td>542.269598</td>\n",
       "    </tr>\n",
       "    <tr>\n",
       "      <th>min</th>\n",
       "      <td>8.725750e+06</td>\n",
       "      <td>1.000000</td>\n",
       "    </tr>\n",
       "    <tr>\n",
       "      <th>25%</th>\n",
       "      <td>1.112229e+09</td>\n",
       "      <td>33.000000</td>\n",
       "    </tr>\n",
       "    <tr>\n",
       "      <th>50%</th>\n",
       "      <td>1.112276e+09</td>\n",
       "      <td>100.000000</td>\n",
       "    </tr>\n",
       "    <tr>\n",
       "      <th>75%</th>\n",
       "      <td>1.112321e+09</td>\n",
       "      <td>269.250000</td>\n",
       "    </tr>\n",
       "    <tr>\n",
       "      <th>max</th>\n",
       "      <td>1.112370e+09</td>\n",
       "      <td>9932.000000</td>\n",
       "    </tr>\n",
       "  </tbody>\n",
       "</table>\n",
       "</div>"
      ],
      "text/plain": [
       "            idaviso     cant_post\n",
       "count  1.269200e+04  12692.000000\n",
       "mean   1.111419e+09    268.013158\n",
       "std    2.084300e+07    542.269598\n",
       "min    8.725750e+06      1.000000\n",
       "25%    1.112229e+09     33.000000\n",
       "50%    1.112276e+09    100.000000\n",
       "75%    1.112321e+09    269.250000\n",
       "max    1.112370e+09   9932.000000"
      ]
     },
     "execution_count": 15,
     "metadata": {},
     "output_type": "execute_result"
    }
   ],
   "source": [
    "avisos_cant_post.describe()"
   ]
  },
  {
   "cell_type": "code",
   "execution_count": 16,
   "metadata": {
    "collapsed": false
   },
   "outputs": [
    {
     "data": {
      "text/html": [
       "<div>\n",
       "<style scoped>\n",
       "    .dataframe tbody tr th:only-of-type {\n",
       "        vertical-align: middle;\n",
       "    }\n",
       "\n",
       "    .dataframe tbody tr th {\n",
       "        vertical-align: top;\n",
       "    }\n",
       "\n",
       "    .dataframe thead th {\n",
       "        text-align: right;\n",
       "    }\n",
       "</style>\n",
       "<table border=\"1\" class=\"dataframe\">\n",
       "  <thead>\n",
       "    <tr style=\"text-align: right;\">\n",
       "      <th></th>\n",
       "      <th>idaviso</th>\n",
       "      <th>cant_post</th>\n",
       "    </tr>\n",
       "  </thead>\n",
       "  <tbody>\n",
       "    <tr>\n",
       "      <th>count</th>\n",
       "      <td>9.550000e+03</td>\n",
       "      <td>9550.000000</td>\n",
       "    </tr>\n",
       "    <tr>\n",
       "      <th>mean</th>\n",
       "      <td>1.111534e+09</td>\n",
       "      <td>351.517382</td>\n",
       "    </tr>\n",
       "    <tr>\n",
       "      <th>std</th>\n",
       "      <td>2.052751e+07</td>\n",
       "      <td>602.175329</td>\n",
       "    </tr>\n",
       "    <tr>\n",
       "      <th>min</th>\n",
       "      <td>8.725750e+06</td>\n",
       "      <td>33.000000</td>\n",
       "    </tr>\n",
       "    <tr>\n",
       "      <th>25%</th>\n",
       "      <td>1.112247e+09</td>\n",
       "      <td>79.000000</td>\n",
       "    </tr>\n",
       "    <tr>\n",
       "      <th>50%</th>\n",
       "      <td>1.112286e+09</td>\n",
       "      <td>161.000000</td>\n",
       "    </tr>\n",
       "    <tr>\n",
       "      <th>75%</th>\n",
       "      <td>1.112325e+09</td>\n",
       "      <td>367.000000</td>\n",
       "    </tr>\n",
       "    <tr>\n",
       "      <th>max</th>\n",
       "      <td>1.112370e+09</td>\n",
       "      <td>9932.000000</td>\n",
       "    </tr>\n",
       "  </tbody>\n",
       "</table>\n",
       "</div>"
      ],
      "text/plain": [
       "            idaviso    cant_post\n",
       "count  9.550000e+03  9550.000000\n",
       "mean   1.111534e+09   351.517382\n",
       "std    2.052751e+07   602.175329\n",
       "min    8.725750e+06    33.000000\n",
       "25%    1.112247e+09    79.000000\n",
       "50%    1.112286e+09   161.000000\n",
       "75%    1.112325e+09   367.000000\n",
       "max    1.112370e+09  9932.000000"
      ]
     },
     "execution_count": 16,
     "metadata": {},
     "output_type": "execute_result"
    }
   ],
   "source": [
    "# Para que los datos sean consistentes, filtro los datos menor al 25%, de cantidad 33 ya que el min es 1 y max 9932\n",
    "avisos_cant_post = avisos_cant_post.loc[avisos_cant_post['cant_post']>=33,:]\n",
    "avisos_cant_post.describe()"
   ]
  },
  {
   "cell_type": "code",
   "execution_count": 17,
   "metadata": {
    "collapsed": false
   },
   "outputs": [
    {
     "data": {
      "text/html": [
       "<div>\n",
       "<style scoped>\n",
       "    .dataframe tbody tr th:only-of-type {\n",
       "        vertical-align: middle;\n",
       "    }\n",
       "\n",
       "    .dataframe tbody tr th {\n",
       "        vertical-align: top;\n",
       "    }\n",
       "\n",
       "    .dataframe thead th {\n",
       "        text-align: right;\n",
       "    }\n",
       "</style>\n",
       "<table border=\"1\" class=\"dataframe\">\n",
       "  <thead>\n",
       "    <tr style=\"text-align: right;\">\n",
       "      <th></th>\n",
       "      <th>idaviso</th>\n",
       "      <th>cant_vistas</th>\n",
       "    </tr>\n",
       "  </thead>\n",
       "  <tbody>\n",
       "    <tr>\n",
       "      <th>0</th>\n",
       "      <td>1112363488</td>\n",
       "      <td>4169</td>\n",
       "    </tr>\n",
       "    <tr>\n",
       "      <th>1</th>\n",
       "      <td>1112359836</td>\n",
       "      <td>4120</td>\n",
       "    </tr>\n",
       "    <tr>\n",
       "      <th>2</th>\n",
       "      <td>1112352317</td>\n",
       "      <td>4003</td>\n",
       "    </tr>\n",
       "    <tr>\n",
       "      <th>3</th>\n",
       "      <td>1112366909</td>\n",
       "      <td>3669</td>\n",
       "    </tr>\n",
       "    <tr>\n",
       "      <th>4</th>\n",
       "      <td>1112355872</td>\n",
       "      <td>3472</td>\n",
       "    </tr>\n",
       "  </tbody>\n",
       "</table>\n",
       "</div>"
      ],
      "text/plain": [
       "      idaviso  cant_vistas\n",
       "0  1112363488         4169\n",
       "1  1112359836         4120\n",
       "2  1112352317         4003\n",
       "3  1112366909         3669\n",
       "4  1112355872         3472"
      ]
     },
     "execution_count": 17,
     "metadata": {},
     "output_type": "execute_result"
    }
   ],
   "source": [
    "#cantidad de vistas\n",
    "avisos_cant_vistas = vistas.loc[:,['idaviso']]\n",
    "avisos_cant_vistas = avisos_cant_vistas.groupby(['idaviso']).size()\n",
    "avisos_cant_vistas = avisos_cant_vistas.sort_values(ascending=False)\n",
    "avisos_cant_vistas = pd.DataFrame(avisos_cant_vistas).reset_index()\n",
    "avisos_cant_vistas[[\"idaviso\", \"cant_vistas\"]] = avisos_cant_vistas[[\"idaviso\", 0]]\n",
    "avisos_cant_vistas = avisos_cant_vistas[[\"idaviso\", \"cant_vistas\"]]  \n",
    "avisos_cant_vistas.head()"
   ]
  },
  {
   "cell_type": "code",
   "execution_count": 18,
   "metadata": {
    "collapsed": false
   },
   "outputs": [
    {
     "data": {
      "text/html": [
       "<div>\n",
       "<style scoped>\n",
       "    .dataframe tbody tr th:only-of-type {\n",
       "        vertical-align: middle;\n",
       "    }\n",
       "\n",
       "    .dataframe tbody tr th {\n",
       "        vertical-align: top;\n",
       "    }\n",
       "\n",
       "    .dataframe thead th {\n",
       "        text-align: right;\n",
       "    }\n",
       "</style>\n",
       "<table border=\"1\" class=\"dataframe\">\n",
       "  <thead>\n",
       "    <tr style=\"text-align: right;\">\n",
       "      <th></th>\n",
       "      <th>idaviso</th>\n",
       "      <th>cant_post</th>\n",
       "      <th>cant_vistas</th>\n",
       "    </tr>\n",
       "  </thead>\n",
       "  <tbody>\n",
       "    <tr>\n",
       "      <th>0</th>\n",
       "      <td>1112033906</td>\n",
       "      <td>9932</td>\n",
       "      <td>22</td>\n",
       "    </tr>\n",
       "    <tr>\n",
       "      <th>1</th>\n",
       "      <td>1112334791</td>\n",
       "      <td>9787</td>\n",
       "      <td>2817</td>\n",
       "    </tr>\n",
       "    <tr>\n",
       "      <th>2</th>\n",
       "      <td>1112204682</td>\n",
       "      <td>9244</td>\n",
       "      <td>18</td>\n",
       "    </tr>\n",
       "    <tr>\n",
       "      <th>3</th>\n",
       "      <td>1112094756</td>\n",
       "      <td>8763</td>\n",
       "      <td>6</td>\n",
       "    </tr>\n",
       "    <tr>\n",
       "      <th>4</th>\n",
       "      <td>1112345900</td>\n",
       "      <td>8304</td>\n",
       "      <td>2841</td>\n",
       "    </tr>\n",
       "  </tbody>\n",
       "</table>\n",
       "</div>"
      ],
      "text/plain": [
       "      idaviso  cant_post  cant_vistas\n",
       "0  1112033906       9932           22\n",
       "1  1112334791       9787         2817\n",
       "2  1112204682       9244           18\n",
       "3  1112094756       8763            6\n",
       "4  1112345900       8304         2841"
      ]
     },
     "execution_count": 18,
     "metadata": {},
     "output_type": "execute_result"
    }
   ],
   "source": [
    "#relacion post vs vistas\n",
    "post_vs_vistas =  pd.merge(avisos_cant_post, avisos_cant_vistas, on=\"idaviso\", how='inner')\n",
    "post_vs_vistas = post_vs_vistas[[\"idaviso\", \"cant_post\", \"cant_vistas\"]] \n",
    "post_vs_vistas.head()"
   ]
  },
  {
   "cell_type": "code",
   "execution_count": 19,
   "metadata": {
    "collapsed": false
   },
   "outputs": [
    {
     "data": {
      "text/html": [
       "<div>\n",
       "<style scoped>\n",
       "    .dataframe tbody tr th:only-of-type {\n",
       "        vertical-align: middle;\n",
       "    }\n",
       "\n",
       "    .dataframe tbody tr th {\n",
       "        vertical-align: top;\n",
       "    }\n",
       "\n",
       "    .dataframe thead th {\n",
       "        text-align: right;\n",
       "    }\n",
       "</style>\n",
       "<table border=\"1\" class=\"dataframe\">\n",
       "  <thead>\n",
       "    <tr style=\"text-align: right;\">\n",
       "      <th></th>\n",
       "      <th>idaviso</th>\n",
       "      <th>cant_post</th>\n",
       "      <th>cant_vistas</th>\n",
       "    </tr>\n",
       "  </thead>\n",
       "  <tbody>\n",
       "    <tr>\n",
       "      <th>0</th>\n",
       "      <td>1112033906</td>\n",
       "      <td>9932</td>\n",
       "      <td>9954</td>\n",
       "    </tr>\n",
       "    <tr>\n",
       "      <th>1</th>\n",
       "      <td>1112334791</td>\n",
       "      <td>9787</td>\n",
       "      <td>12604</td>\n",
       "    </tr>\n",
       "    <tr>\n",
       "      <th>2</th>\n",
       "      <td>1112204682</td>\n",
       "      <td>9244</td>\n",
       "      <td>9262</td>\n",
       "    </tr>\n",
       "    <tr>\n",
       "      <th>3</th>\n",
       "      <td>1112094756</td>\n",
       "      <td>8763</td>\n",
       "      <td>8769</td>\n",
       "    </tr>\n",
       "    <tr>\n",
       "      <th>4</th>\n",
       "      <td>1112345900</td>\n",
       "      <td>8304</td>\n",
       "      <td>11145</td>\n",
       "    </tr>\n",
       "  </tbody>\n",
       "</table>\n",
       "</div>"
      ],
      "text/plain": [
       "      idaviso  cant_post  cant_vistas\n",
       "0  1112033906       9932         9954\n",
       "1  1112334791       9787        12604\n",
       "2  1112204682       9244         9262\n",
       "3  1112094756       8763         8769\n",
       "4  1112345900       8304        11145"
      ]
     },
     "execution_count": 19,
     "metadata": {},
     "output_type": "execute_result"
    }
   ],
   "source": [
    "#cantidad vistas = cantidad de vistas + cantidad de postulaciones\n",
    "post_vs_vistas['cant_vistas'] = post_vs_vistas.cant_vistas + post_vs_vistas.cant_post\n",
    "post_vs_vistas.head()"
   ]
  },
  {
   "cell_type": "code",
   "execution_count": 20,
   "metadata": {
    "collapsed": false
   },
   "outputs": [
    {
     "data": {
      "text/html": [
       "<div>\n",
       "<style scoped>\n",
       "    .dataframe tbody tr th:only-of-type {\n",
       "        vertical-align: middle;\n",
       "    }\n",
       "\n",
       "    .dataframe tbody tr th {\n",
       "        vertical-align: top;\n",
       "    }\n",
       "\n",
       "    .dataframe thead th {\n",
       "        text-align: right;\n",
       "    }\n",
       "</style>\n",
       "<table border=\"1\" class=\"dataframe\">\n",
       "  <thead>\n",
       "    <tr style=\"text-align: right;\">\n",
       "      <th></th>\n",
       "      <th>idaviso</th>\n",
       "      <th>cant_post</th>\n",
       "      <th>cant_vistas</th>\n",
       "      <th>prob_post</th>\n",
       "    </tr>\n",
       "  </thead>\n",
       "  <tbody>\n",
       "    <tr>\n",
       "      <th>5723</th>\n",
       "      <td>1112358876</td>\n",
       "      <td>33</td>\n",
       "      <td>308</td>\n",
       "      <td>0.107143</td>\n",
       "    </tr>\n",
       "    <tr>\n",
       "      <th>5404</th>\n",
       "      <td>1112366915</td>\n",
       "      <td>48</td>\n",
       "      <td>391</td>\n",
       "      <td>0.122762</td>\n",
       "    </tr>\n",
       "    <tr>\n",
       "      <th>5678</th>\n",
       "      <td>1112357526</td>\n",
       "      <td>36</td>\n",
       "      <td>291</td>\n",
       "      <td>0.123711</td>\n",
       "    </tr>\n",
       "    <tr>\n",
       "      <th>4747</th>\n",
       "      <td>1112364980</td>\n",
       "      <td>78</td>\n",
       "      <td>621</td>\n",
       "      <td>0.125604</td>\n",
       "    </tr>\n",
       "    <tr>\n",
       "      <th>4825</th>\n",
       "      <td>1112361132</td>\n",
       "      <td>74</td>\n",
       "      <td>564</td>\n",
       "      <td>0.131206</td>\n",
       "    </tr>\n",
       "  </tbody>\n",
       "</table>\n",
       "</div>"
      ],
      "text/plain": [
       "         idaviso  cant_post  cant_vistas  prob_post\n",
       "5723  1112358876         33          308   0.107143\n",
       "5404  1112366915         48          391   0.122762\n",
       "5678  1112357526         36          291   0.123711\n",
       "4747  1112364980         78          621   0.125604\n",
       "4825  1112361132         74          564   0.131206"
      ]
     },
     "execution_count": 20,
     "metadata": {},
     "output_type": "execute_result"
    }
   ],
   "source": [
    "#calculo la probabilidad de que alguien se postule\n",
    "post_vs_vistas['prob_post'] = post_vs_vistas.cant_post / post_vs_vistas.cant_vistas\n",
    "post_vs_vistas = post_vs_vistas.sort_values(by='prob_post', ascending=True)\n",
    "post_vs_vistas.head()"
   ]
  },
  {
   "cell_type": "code",
   "execution_count": 21,
   "metadata": {
    "collapsed": false
   },
   "outputs": [
    {
     "data": {
      "text/html": [
       "<div>\n",
       "<style scoped>\n",
       "    .dataframe tbody tr th:only-of-type {\n",
       "        vertical-align: middle;\n",
       "    }\n",
       "\n",
       "    .dataframe tbody tr th {\n",
       "        vertical-align: top;\n",
       "    }\n",
       "\n",
       "    .dataframe thead th {\n",
       "        text-align: right;\n",
       "    }\n",
       "</style>\n",
       "<table border=\"1\" class=\"dataframe\">\n",
       "  <thead>\n",
       "    <tr style=\"text-align: right;\">\n",
       "      <th></th>\n",
       "      <th>idaviso</th>\n",
       "      <th>cant_post</th>\n",
       "      <th>cant_vistas</th>\n",
       "      <th>prob_post</th>\n",
       "    </tr>\n",
       "  </thead>\n",
       "  <tbody>\n",
       "    <tr>\n",
       "      <th>count</th>\n",
       "      <td>5.739000e+03</td>\n",
       "      <td>5739.000000</td>\n",
       "      <td>5739.000000</td>\n",
       "      <td>5739.000000</td>\n",
       "    </tr>\n",
       "    <tr>\n",
       "      <th>mean</th>\n",
       "      <td>1.111480e+09</td>\n",
       "      <td>441.203868</td>\n",
       "      <td>605.517860</td>\n",
       "      <td>0.729963</td>\n",
       "    </tr>\n",
       "    <tr>\n",
       "      <th>std</th>\n",
       "      <td>2.158131e+07</td>\n",
       "      <td>709.267394</td>\n",
       "      <td>912.459924</td>\n",
       "      <td>0.214954</td>\n",
       "    </tr>\n",
       "    <tr>\n",
       "      <th>min</th>\n",
       "      <td>1.254376e+07</td>\n",
       "      <td>33.000000</td>\n",
       "      <td>34.000000</td>\n",
       "      <td>0.107143</td>\n",
       "    </tr>\n",
       "    <tr>\n",
       "      <th>25%</th>\n",
       "      <td>1.112279e+09</td>\n",
       "      <td>101.000000</td>\n",
       "      <td>155.000000</td>\n",
       "      <td>0.601140</td>\n",
       "    </tr>\n",
       "    <tr>\n",
       "      <th>50%</th>\n",
       "      <td>1.112312e+09</td>\n",
       "      <td>208.000000</td>\n",
       "      <td>307.000000</td>\n",
       "      <td>0.766764</td>\n",
       "    </tr>\n",
       "    <tr>\n",
       "      <th>75%</th>\n",
       "      <td>1.112345e+09</td>\n",
       "      <td>466.000000</td>\n",
       "      <td>653.500000</td>\n",
       "      <td>0.904856</td>\n",
       "    </tr>\n",
       "    <tr>\n",
       "      <th>max</th>\n",
       "      <td>1.112370e+09</td>\n",
       "      <td>9932.000000</td>\n",
       "      <td>12604.000000</td>\n",
       "      <td>0.999836</td>\n",
       "    </tr>\n",
       "  </tbody>\n",
       "</table>\n",
       "</div>"
      ],
      "text/plain": [
       "            idaviso    cant_post   cant_vistas    prob_post\n",
       "count  5.739000e+03  5739.000000   5739.000000  5739.000000\n",
       "mean   1.111480e+09   441.203868    605.517860     0.729963\n",
       "std    2.158131e+07   709.267394    912.459924     0.214954\n",
       "min    1.254376e+07    33.000000     34.000000     0.107143\n",
       "25%    1.112279e+09   101.000000    155.000000     0.601140\n",
       "50%    1.112312e+09   208.000000    307.000000     0.766764\n",
       "75%    1.112345e+09   466.000000    653.500000     0.904856\n",
       "max    1.112370e+09  9932.000000  12604.000000     0.999836"
      ]
     },
     "execution_count": 21,
     "metadata": {},
     "output_type": "execute_result"
    }
   ],
   "source": [
    "post_vs_vistas.describe()"
   ]
  },
  {
   "cell_type": "code",
   "execution_count": 22,
   "metadata": {
    "collapsed": false
   },
   "outputs": [
    {
     "data": {
      "text/html": [
       "<div>\n",
       "<style scoped>\n",
       "    .dataframe tbody tr th:only-of-type {\n",
       "        vertical-align: middle;\n",
       "    }\n",
       "\n",
       "    .dataframe tbody tr th {\n",
       "        vertical-align: top;\n",
       "    }\n",
       "\n",
       "    .dataframe thead th {\n",
       "        text-align: right;\n",
       "    }\n",
       "</style>\n",
       "<table border=\"1\" class=\"dataframe\">\n",
       "  <thead>\n",
       "    <tr style=\"text-align: right;\">\n",
       "      <th></th>\n",
       "      <th>idaviso</th>\n",
       "      <th>cant_post</th>\n",
       "      <th>cant_vistas</th>\n",
       "      <th>prob_post</th>\n",
       "    </tr>\n",
       "  </thead>\n",
       "  <tbody>\n",
       "    <tr>\n",
       "      <th>count</th>\n",
       "      <td>5.095000e+03</td>\n",
       "      <td>5095.000000</td>\n",
       "      <td>5095.000000</td>\n",
       "      <td>5095.000000</td>\n",
       "    </tr>\n",
       "    <tr>\n",
       "      <th>mean</th>\n",
       "      <td>1.111439e+09</td>\n",
       "      <td>474.040824</td>\n",
       "      <td>609.567223</td>\n",
       "      <td>0.783122</td>\n",
       "    </tr>\n",
       "    <tr>\n",
       "      <th>std</th>\n",
       "      <td>2.274434e+07</td>\n",
       "      <td>742.757691</td>\n",
       "      <td>943.878570</td>\n",
       "      <td>0.162572</td>\n",
       "    </tr>\n",
       "    <tr>\n",
       "      <th>min</th>\n",
       "      <td>1.254376e+07</td>\n",
       "      <td>33.000000</td>\n",
       "      <td>34.000000</td>\n",
       "      <td>0.400000</td>\n",
       "    </tr>\n",
       "    <tr>\n",
       "      <th>25%</th>\n",
       "      <td>1.112275e+09</td>\n",
       "      <td>111.000000</td>\n",
       "      <td>146.000000</td>\n",
       "      <td>0.673172</td>\n",
       "    </tr>\n",
       "    <tr>\n",
       "      <th>50%</th>\n",
       "      <td>1.112307e+09</td>\n",
       "      <td>226.000000</td>\n",
       "      <td>295.000000</td>\n",
       "      <td>0.794326</td>\n",
       "    </tr>\n",
       "    <tr>\n",
       "      <th>75%</th>\n",
       "      <td>1.112337e+09</td>\n",
       "      <td>511.500000</td>\n",
       "      <td>650.500000</td>\n",
       "      <td>0.930348</td>\n",
       "    </tr>\n",
       "    <tr>\n",
       "      <th>max</th>\n",
       "      <td>1.112370e+09</td>\n",
       "      <td>9932.000000</td>\n",
       "      <td>12604.000000</td>\n",
       "      <td>0.999836</td>\n",
       "    </tr>\n",
       "  </tbody>\n",
       "</table>\n",
       "</div>"
      ],
      "text/plain": [
       "            idaviso    cant_post   cant_vistas    prob_post\n",
       "count  5.095000e+03  5095.000000   5095.000000  5095.000000\n",
       "mean   1.111439e+09   474.040824    609.567223     0.783122\n",
       "std    2.274434e+07   742.757691    943.878570     0.162572\n",
       "min    1.254376e+07    33.000000     34.000000     0.400000\n",
       "25%    1.112275e+09   111.000000    146.000000     0.673172\n",
       "50%    1.112307e+09   226.000000    295.000000     0.794326\n",
       "75%    1.112337e+09   511.500000    650.500000     0.930348\n",
       "max    1.112370e+09  9932.000000  12604.000000     0.999836"
      ]
     },
     "execution_count": 22,
     "metadata": {},
     "output_type": "execute_result"
    }
   ],
   "source": [
    "# Para que los datos sean consistentes, filtro las probabilidades menor a 0.4 ya que el 25% es de cantidad 0.6 y el min es 0.1\n",
    "post_vs_vistas = post_vs_vistas.loc[post_vs_vistas['prob_post']>=0.4,:]\n",
    "post_vs_vistas.describe()"
   ]
  },
  {
   "cell_type": "code",
   "execution_count": 23,
   "metadata": {
    "collapsed": false
   },
   "outputs": [
    {
     "data": {
      "image/png": "[encoded data removed]",
      "text/plain": [
       "<Figure size 1080x576 with 1 Axes>"
      ]
     },
     "metadata": {},
     "output_type": "display_data"
    }
   ],
   "source": [
    "post_vs_vistas.plot.scatter('cant_post','cant_vistas',alpha=1,title = \"Relacion cantidad de vistas vs postulaciones\",figsize=(15,8));"
   ]
  },
  {
   "cell_type": "code",
   "execution_count": 24,
   "metadata": {
    "collapsed": false
   },
   "outputs": [
    {
     "data": {
      "image/png": "[encoded data removed]",
      "text/plain": [
       "<Figure size 1080x576 with 1 Axes>"
      ]
     },
     "metadata": {},
     "output_type": "display_data"
    }
   ],
   "source": [
    "post_vs_vistas.plot.scatter('prob_post','cant_vistas',alpha=1,title = \"Relacion cantidad de vistas y probabilidad de postulacion\",figsize=(15,8));"
   ]
  },
  {
   "cell_type": "code",
   "execution_count": 25,
   "metadata": {
    "collapsed": false
   },
   "outputs": [
    {
     "data": {
      "image/png": "[encoded data removed]",
      "text/plain": [
       "<Figure size 1080x360 with 1 Axes>"
      ]
     },
     "metadata": {},
     "output_type": "display_data"
    }
   ],
   "source": [
    "#relacion de cantidad de vistas con la probabilidad de postulacion\n",
    "post_vs_vistas_box = post_vs_vistas\n",
    "post_vs_vistas_box['cant_vistas_rg_mil'] = np.floor( post_vs_vistas['cant_vistas'].apply(lambda x: x /300) )\n",
    "post_vs_vistas_box['cant_vistas_rg_mil'] = post_vs_vistas_box['cant_vistas_rg_mil'].apply(lambda x: x*300)\n",
    "post_vs_vistas_box = post_vs_vistas_box.loc[:,['cant_vistas_rg_mil','prob_post']]\n",
    "post_vs_vistas_box['subindex'] = post_vs_vistas_box.groupby('cant_vistas_rg_mil').cumcount() + 1\n",
    "post_vs_vistas_box = pd.pivot_table(post_vs_vistas_box,index='subindex',columns='cant_vistas_rg_mil',values='prob_post')\n",
    "post_vs_vistas_box.plot.box(title = \"Relacion cantidad de vistas y probabilidad de postulacion\", figsize=(15,5));\n",
    "plt.xlabel('cantidad de vistas (rango de 1000)')\n",
    "plt.ylabel('probabilidad de postulacion')\n",
    "plt.show()"
   ]
  },
  {
   "cell_type": "code",
   "execution_count": 26,
   "metadata": {
    "collapsed": false
   },
   "outputs": [
    {
     "data": {
      "text/html": [
       "<div>\n",
       "<style scoped>\n",
       "    .dataframe tbody tr th:only-of-type {\n",
       "        vertical-align: middle;\n",
       "    }\n",
       "\n",
       "    .dataframe tbody tr th {\n",
       "        vertical-align: top;\n",
       "    }\n",
       "\n",
       "    .dataframe thead th {\n",
       "        text-align: right;\n",
       "    }\n",
       "</style>\n",
       "<table border=\"1\" class=\"dataframe\">\n",
       "  <thead>\n",
       "    <tr style=\"text-align: right;\">\n",
       "      <th></th>\n",
       "      <th>idaviso</th>\n",
       "      <th>cant_post</th>\n",
       "      <th>cant_vistas</th>\n",
       "      <th>prob_post</th>\n",
       "      <th>cant_vistas_rg_mil</th>\n",
       "      <th>titulo</th>\n",
       "      <th>descripcion</th>\n",
       "      <th>nombre_zona</th>\n",
       "      <th>ciudad</th>\n",
       "      <th>mapacalle</th>\n",
       "      <th>tipo_de_trabajo</th>\n",
       "      <th>nivel_laboral</th>\n",
       "      <th>nombre_area</th>\n",
       "      <th>denominacion_empresa</th>\n",
       "    </tr>\n",
       "  </thead>\n",
       "  <tbody>\n",
       "    <tr>\n",
       "      <th>0</th>\n",
       "      <td>1112356141</td>\n",
       "      <td>78</td>\n",
       "      <td>195</td>\n",
       "      <td>0.400000</td>\n",
       "      <td>0.0</td>\n",
       "      <td>SOLDADOR-HERRERO Planta Gastronómica Mataderos...</td>\n",
       "      <td>&lt;p style=\"\"&gt;Food Service es una empresa 100% a...</td>\n",
       "      <td>Gran Buenos Aires</td>\n",
       "      <td>NaN</td>\n",
       "      <td>NaN</td>\n",
       "      <td>Full-time</td>\n",
       "      <td>Senior / Semi-Senior</td>\n",
       "      <td>Oficios y Profesiones</td>\n",
       "      <td>Food Service</td>\n",
       "    </tr>\n",
       "    <tr>\n",
       "      <th>1</th>\n",
       "      <td>1112357707</td>\n",
       "      <td>54</td>\n",
       "      <td>135</td>\n",
       "      <td>0.400000</td>\n",
       "      <td>0.0</td>\n",
       "      <td>Jefe de Ventas, empresa química GBA</td>\n",
       "      <td>&lt;p&gt;&lt;strong&gt;Spring Professional&lt;/strong&gt;, headh...</td>\n",
       "      <td>Gran Buenos Aires</td>\n",
       "      <td>NaN</td>\n",
       "      <td>NaN</td>\n",
       "      <td>Full-time</td>\n",
       "      <td>Senior / Semi-Senior</td>\n",
       "      <td>Comercial y Ventas</td>\n",
       "      <td>Adecco - Spring Professional</td>\n",
       "    </tr>\n",
       "    <tr>\n",
       "      <th>2</th>\n",
       "      <td>1112358080</td>\n",
       "      <td>462</td>\n",
       "      <td>1154</td>\n",
       "      <td>0.400347</td>\n",
       "      <td>900.0</td>\n",
       "      <td>Administrativo Comercio Exterior Jr.</td>\n",
       "      <td>&lt;p&gt;Nos encontramos en la búsqueda de un admini...</td>\n",
       "      <td>Gran Buenos Aires</td>\n",
       "      <td>NaN</td>\n",
       "      <td>NaN</td>\n",
       "      <td>Full-time</td>\n",
       "      <td>Junior</td>\n",
       "      <td>Asesoría Legal y Comercio Internacional</td>\n",
       "      <td>Manpower</td>\n",
       "    </tr>\n",
       "    <tr>\n",
       "      <th>3</th>\n",
       "      <td>1111753347</td>\n",
       "      <td>593</td>\n",
       "      <td>1480</td>\n",
       "      <td>0.400676</td>\n",
       "      <td>1200.0</td>\n",
       "      <td>Oficiales Comerciales (Call Center)</td>\n",
       "      <td>&lt;p&gt;Reconocida concesionaria Renault se encuent...</td>\n",
       "      <td>Gran Buenos Aires</td>\n",
       "      <td>NaN</td>\n",
       "      <td>NaN</td>\n",
       "      <td>Full-time</td>\n",
       "      <td>Senior / Semi-Senior</td>\n",
       "      <td>Comercial y Ventas</td>\n",
       "      <td>Galante D'Antonio SA</td>\n",
       "    </tr>\n",
       "    <tr>\n",
       "      <th>4</th>\n",
       "      <td>1112363817</td>\n",
       "      <td>170</td>\n",
       "      <td>424</td>\n",
       "      <td>0.400943</td>\n",
       "      <td>300.0</td>\n",
       "      <td>CONFECCIÓN DE FACTURAS EN SISTEMA, SEGUIMIENTO...</td>\n",
       "      <td>&lt;ul style=\"\"&gt;&lt;li style=\"\"&gt;RECEPCIÓN, CONMUTADO...</td>\n",
       "      <td>Gran Buenos Aires</td>\n",
       "      <td>NaN</td>\n",
       "      <td>NaN</td>\n",
       "      <td>Full-time</td>\n",
       "      <td>Junior</td>\n",
       "      <td>Contabilidad y Administración</td>\n",
       "      <td>BZB ELECTROMECANICA SOCIEDAD RESPONSABILIDAD L...</td>\n",
       "    </tr>\n",
       "  </tbody>\n",
       "</table>\n",
       "</div>"
      ],
      "text/plain": [
       "      idaviso  cant_post  cant_vistas  prob_post  cant_vistas_rg_mil  \\\n",
       "0  1112356141         78          195   0.400000                 0.0   \n",
       "1  1112357707         54          135   0.400000                 0.0   \n",
       "2  1112358080        462         1154   0.400347               900.0   \n",
       "3  1111753347        593         1480   0.400676              1200.0   \n",
       "4  1112363817        170          424   0.400943               300.0   \n",
       "\n",
       "                                              titulo  \\\n",
       "0  SOLDADOR-HERRERO Planta Gastronómica Mataderos...   \n",
       "1                Jefe de Ventas, empresa química GBA   \n",
       "2              Administrativo Comercio Exterior Jr.    \n",
       "3                Oficiales Comerciales (Call Center)   \n",
       "4  CONFECCIÓN DE FACTURAS EN SISTEMA, SEGUIMIENTO...   \n",
       "\n",
       "                                         descripcion        nombre_zona  \\\n",
       "0  <p style=\"\">Food Service es una empresa 100% a...  Gran Buenos Aires   \n",
       "1  <p><strong>Spring Professional</strong>, headh...  Gran Buenos Aires   \n",
       "2  <p>Nos encontramos en la búsqueda de un admini...  Gran Buenos Aires   \n",
       "3  <p>Reconocida concesionaria Renault se encuent...  Gran Buenos Aires   \n",
       "4  <ul style=\"\"><li style=\"\">RECEPCIÓN, CONMUTADO...  Gran Buenos Aires   \n",
       "\n",
       "  ciudad mapacalle tipo_de_trabajo         nivel_laboral  \\\n",
       "0    NaN       NaN       Full-time  Senior / Semi-Senior   \n",
       "1    NaN       NaN       Full-time  Senior / Semi-Senior   \n",
       "2    NaN       NaN       Full-time                Junior   \n",
       "3    NaN       NaN       Full-time  Senior / Semi-Senior   \n",
       "4    NaN       NaN       Full-time                Junior   \n",
       "\n",
       "                               nombre_area  \\\n",
       "0                    Oficios y Profesiones   \n",
       "1                       Comercial y Ventas   \n",
       "2  Asesoría Legal y Comercio Internacional   \n",
       "3                       Comercial y Ventas   \n",
       "4            Contabilidad y Administración   \n",
       "\n",
       "                                denominacion_empresa  \n",
       "0                                       Food Service  \n",
       "1                       Adecco - Spring Professional  \n",
       "2                                           Manpower  \n",
       "3                               Galante D'Antonio SA  \n",
       "4  BZB ELECTROMECANICA SOCIEDAD RESPONSABILIDAD L...  "
      ]
     },
     "execution_count": 26,
     "metadata": {},
     "output_type": "execute_result"
    }
   ],
   "source": [
    "post_vs_vistas_detalle = post_vs_vistas.merge(avisos_detalles, on=\"idaviso\")\n",
    "post_vs_vistas_detalle.head()"
   ]
  },
  {
   "cell_type": "code",
   "execution_count": 27,
   "metadata": {
    "collapsed": false
   },
   "outputs": [
    {
     "data": {
      "text/html": [
       "<div>\n",
       "<style scoped>\n",
       "    .dataframe tbody tr th:only-of-type {\n",
       "        vertical-align: middle;\n",
       "    }\n",
       "\n",
       "    .dataframe tbody tr th {\n",
       "        vertical-align: top;\n",
       "    }\n",
       "\n",
       "    .dataframe thead th {\n",
       "        text-align: right;\n",
       "    }\n",
       "</style>\n",
       "<table border=\"1\" class=\"dataframe\">\n",
       "  <thead>\n",
       "    <tr style=\"text-align: right;\">\n",
       "      <th></th>\n",
       "      <th>idaviso</th>\n",
       "      <th>cant_post</th>\n",
       "      <th>cant_vistas</th>\n",
       "      <th>prob_post</th>\n",
       "      <th>tipo_de_trabajo</th>\n",
       "      <th>nivel_laboral</th>\n",
       "      <th>nombre_area</th>\n",
       "      <th>denominacion_empresa</th>\n",
       "    </tr>\n",
       "  </thead>\n",
       "  <tbody>\n",
       "    <tr>\n",
       "      <th>0</th>\n",
       "      <td>1112356141</td>\n",
       "      <td>78</td>\n",
       "      <td>195</td>\n",
       "      <td>0.400000</td>\n",
       "      <td>Full-time</td>\n",
       "      <td>Senior / Semi-Senior</td>\n",
       "      <td>Oficios y Profesiones</td>\n",
       "      <td>Food Service</td>\n",
       "    </tr>\n",
       "    <tr>\n",
       "      <th>1</th>\n",
       "      <td>1112357707</td>\n",
       "      <td>54</td>\n",
       "      <td>135</td>\n",
       "      <td>0.400000</td>\n",
       "      <td>Full-time</td>\n",
       "      <td>Senior / Semi-Senior</td>\n",
       "      <td>Comercial y Ventas</td>\n",
       "      <td>Adecco - Spring Professional</td>\n",
       "    </tr>\n",
       "    <tr>\n",
       "      <th>2</th>\n",
       "      <td>1112358080</td>\n",
       "      <td>462</td>\n",
       "      <td>1154</td>\n",
       "      <td>0.400347</td>\n",
       "      <td>Full-time</td>\n",
       "      <td>Junior</td>\n",
       "      <td>Asesoría Legal y Comercio Internacional</td>\n",
       "      <td>Manpower</td>\n",
       "    </tr>\n",
       "    <tr>\n",
       "      <th>3</th>\n",
       "      <td>1111753347</td>\n",
       "      <td>593</td>\n",
       "      <td>1480</td>\n",
       "      <td>0.400676</td>\n",
       "      <td>Full-time</td>\n",
       "      <td>Senior / Semi-Senior</td>\n",
       "      <td>Comercial y Ventas</td>\n",
       "      <td>Galante D'Antonio SA</td>\n",
       "    </tr>\n",
       "    <tr>\n",
       "      <th>4</th>\n",
       "      <td>1112363817</td>\n",
       "      <td>170</td>\n",
       "      <td>424</td>\n",
       "      <td>0.400943</td>\n",
       "      <td>Full-time</td>\n",
       "      <td>Junior</td>\n",
       "      <td>Contabilidad y Administración</td>\n",
       "      <td>BZB ELECTROMECANICA SOCIEDAD RESPONSABILIDAD L...</td>\n",
       "    </tr>\n",
       "  </tbody>\n",
       "</table>\n",
       "</div>"
      ],
      "text/plain": [
       "      idaviso  cant_post  cant_vistas  prob_post tipo_de_trabajo  \\\n",
       "0  1112356141         78          195   0.400000       Full-time   \n",
       "1  1112357707         54          135   0.400000       Full-time   \n",
       "2  1112358080        462         1154   0.400347       Full-time   \n",
       "3  1111753347        593         1480   0.400676       Full-time   \n",
       "4  1112363817        170          424   0.400943       Full-time   \n",
       "\n",
       "          nivel_laboral                              nombre_area  \\\n",
       "0  Senior / Semi-Senior                    Oficios y Profesiones   \n",
       "1  Senior / Semi-Senior                       Comercial y Ventas   \n",
       "2                Junior  Asesoría Legal y Comercio Internacional   \n",
       "3  Senior / Semi-Senior                       Comercial y Ventas   \n",
       "4                Junior            Contabilidad y Administración   \n",
       "\n",
       "                                denominacion_empresa  \n",
       "0                                       Food Service  \n",
       "1                       Adecco - Spring Professional  \n",
       "2                                           Manpower  \n",
       "3                               Galante D'Antonio SA  \n",
       "4  BZB ELECTROMECANICA SOCIEDAD RESPONSABILIDAD L...  "
      ]
     },
     "execution_count": 27,
     "metadata": {},
     "output_type": "execute_result"
    }
   ],
   "source": [
    "#filtro campos importantes\n",
    "post_vs_vistas_detalle = post_vs_vistas_detalle.loc[:, ['idaviso','cant_post','cant_vistas','prob_post','tipo_de_trabajo','nivel_laboral','nombre_area','denominacion_empresa']]\n",
    "post_vs_vistas_detalle.head()"
   ]
  }
 ],
 "metadata": {
  "kernelspec": {
   "display_name": "Python 3",
   "language": "python",
   "name": "python3"
  },
  "language_info": {
   "codemirror_mode": {
    "name": "ipython",
    "version": 3
   },
   "file_extension": ".py",
   "mimetype": "text/x-python",
   "name": "python",
   "nbconvert_exporter": "python",
   "pygments_lexer": "ipython3",
   "version": "3.6.3"
  }
 },
 "nbformat": 4,
 "nbformat_minor": 2
}
