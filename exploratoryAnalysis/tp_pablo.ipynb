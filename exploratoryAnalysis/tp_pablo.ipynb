{
 "cells": [
  {
   "cell_type": "code",
   "execution_count": 1,
   "metadata": {
    "collapsed": false
   },
   "outputs": [],
   "source": [
    "import matplotlib.pyplot as plt\n",
    "%matplotlib inline\n",
    "import pandas as pd\n",
    "from dateutil.parser import parse\n",
    "import numpy as np\n",
    "import seaborn as sns\n",
    "import warnings\n",
    "import datetime as dt\n",
    "warnings.filterwarnings('ignore')"
   ]
  },
  {
   "cell_type": "code",
   "execution_count": 2,
   "metadata": {
    "collapsed": true
   },
   "outputs": [],
   "source": [
    "# Carga de archivos\n",
    "post_educacion = pd.read_csv('../data/fiuba_1_postulantes_educacion.csv', dtype = {\n",
    "    'nombre': 'category',\n",
    "    'estado': 'category'\n",
    "})\n",
    "post_gen_edad = pd.read_csv('../data/fiuba_2_postulantes_genero_y_edad.csv', dtype = {\n",
    "    'sexo': 'category'    \n",
    "})\n",
    "\n",
    "vistas = pd.read_csv('../data/fiuba_3_vistas.csv', parse_dates=['timestamp'])\n",
    "postulaciones = pd.read_csv('../data/fiuba_4_postulaciones.csv', parse_dates=['fechapostulacion'])\n",
    "avisos_online = pd.read_csv('../data/fiuba_5_avisos_online.csv')\n",
    "\n",
    "avisos_detalles = pd.read_csv('../data/fiuba_6_avisos_detalle.csv', dtype= {\n",
    "    'nombre_zona': 'category',\n",
    "    'ciudad': 'category',\n",
    "    'tipo_de_trabajo': 'category',\n",
    "    'nivel_laboral': 'category',\n",
    "    'nombre_area': 'category'\n",
    "})\n"
   ]
  },
  {
   "cell_type": "markdown",
   "metadata": {},
   "source": [
    "# Ajustes en los archivos antes de procesar"
   ]
  },
  {
   "cell_type": "code",
   "execution_count": 3,
   "metadata": {
    "collapsed": false
   },
   "outputs": [
    {
     "data": {
      "text/plain": [
       "Timestamp('2018-04-07 19:23:05.413085')"
      ]
     },
     "execution_count": 3,
     "metadata": {},
     "output_type": "execute_result"
    }
   ],
   "source": [
    "vistas.rename(columns={\"idAviso\":\"idaviso\"}, inplace=True)\n",
    "vistas.rename(columns={\"timestamp\":\"fechavista\"}, inplace=True)\n",
    "\n",
    "# Cambiar el tipo de dato de la fecha de vista.\n",
    "vistas[['fechavista']] = vistas[['fechavista']].apply(pd.to_datetime)\n",
    "now = pd.Timestamp(dt.datetime.now())\n",
    "pd.to_datetime(now)"
   ]
  },
  {
   "cell_type": "code",
   "execution_count": 4,
   "metadata": {
    "collapsed": false
   },
   "outputs": [
    {
     "data": {
      "text/plain": [
       "Timestamp('2018-04-07 19:23:30.966816')"
      ]
     },
     "execution_count": 4,
     "metadata": {},
     "output_type": "execute_result"
    }
   ],
   "source": [
    "# Recorto la columna idpais ya que no es necesaria.\n",
    "avisos_detalles.drop('idpais', axis=1, inplace=True)\n",
    "# Agrego tipo categorico y modifico el tipo de dato de la fecha.\n",
    "post_gen_edad.fechanacimiento = post_gen_edad.fechanacimiento.apply(pd.to_datetime, errors='coerce')\n",
    "\n",
    "# Cambiar el tipo de dato de la fecha de postulacion.\n",
    "postulaciones[['fechapostulacion']] = postulaciones[['fechapostulacion']].apply(pd.to_datetime)\n",
    "now = pd.Timestamp(dt.datetime.now())\n",
    "pd.to_datetime(now)"
   ]
  },
  {
   "cell_type": "markdown",
   "metadata": {},
   "source": [
    "# Empieza el analisis"
   ]
  },
  {
   "cell_type": "code",
   "execution_count": 5,
   "metadata": {
    "collapsed": true
   },
   "outputs": [],
   "source": [
    "# Asigno puntajes a los diferentes niveles educativos encontrados para poder \n",
    "# obtener asi la educacion mas valiosa de cada postulante.\n",
    "valores_educacion = [{'nombre': 'Otro', 'estado': 'Abandonado',    'valor_educacion': 1    },\n",
    "    {'nombre': 'Otro',                  'estado': 'En Curso',    'valor_educacion': 2    },\n",
    "    {'nombre': 'Otro',                  'estado': 'Graduado',    'valor_educacion': 3    },\n",
    "    {'nombre': 'Secundario',            'estado': 'Abandonado',    'valor_educacion': 4    },\n",
    "    {'nombre': 'Secundario',            'estado': 'En Curso',    'valor_educacion': 5    },\n",
    "    {'nombre': 'Secundario',        'estado': 'Graduado',    'valor_educacion': 6    },\n",
    "    {'nombre': 'Terciario/Técnico', 'estado': 'Abandonado',    'valor_educacion': 7    },\n",
    "    {'nombre': 'Universitario',     'estado': 'Abandonado',    'valor_educacion': 8    },\n",
    "    {'nombre': 'Terciario/Técnico', 'estado': 'En Curso',    'valor_educacion': 9    },\n",
    "    {'nombre': 'Universitario',     'estado': 'En Curso',    'valor_educacion': 10    },\n",
    "    {'nombre': 'Terciario/Técnico', 'estado': 'Graduado',    'valor_educacion': 11    },\n",
    "    {'nombre': 'Universitario',     'estado': 'Graduado',    'valor_educacion': 12    },\n",
    "    {'nombre': 'Posgrado',          'estado': 'Abandonado',    'valor_educacion': 13    },\n",
    "    {'nombre': 'Master',            'estado': 'Abandonado',    'valor_educacion': 14    },\n",
    "    {'nombre': 'Posgrado',          'estado': 'En Curso',    'valor_educacion': 15    },\n",
    "    {'nombre': 'Master',            'estado': 'En Curso',    'valor_educacion': 16    },\n",
    "    {'nombre': 'Posgrado',          'estado': 'Graduado',    'valor_educacion': 17    },\n",
    "    {'nombre': 'Master',            'estado': 'Graduado',    'valor_educacion': 18    },\n",
    "    {'nombre': 'Doctorado',         'estado': 'Abandonado',    'valor_educacion': 19    },\n",
    "    {'nombre': 'Doctorado',         'estado': 'En Curso',    'valor_educacion': 20    },\n",
    "    {'nombre': 'Doctorado',         'estado': 'Graduado',    'valor_educacion': 21 }]\n",
    "valores_educacion = pd.DataFrame(valores_educacion)"
   ]
  },
  {
   "cell_type": "code",
   "execution_count": 6,
   "metadata": {
    "collapsed": false
   },
   "outputs": [
    {
     "data": {
      "text/plain": [
       "Index                80\n",
       "estado             1379\n",
       "nombre              850\n",
       "valor_educacion     168\n",
       "dtype: int64"
      ]
     },
     "execution_count": 6,
     "metadata": {},
     "output_type": "execute_result"
    }
   ],
   "source": [
    "valores_educacion.nombre = valores_educacion.nombre.astype('category', categories=post_educacion.nombre.cat.categories)\n",
    "valores_educacion.memory_usage(deep=True)"
   ]
  },
  {
   "cell_type": "code",
   "execution_count": 7,
   "metadata": {
    "collapsed": true
   },
   "outputs": [],
   "source": [
    "# Hago el join para aplicar puntajes a las educaciones de los postulantes.\n",
    "post_educacion = pd.merge(post_educacion, valores_educacion,  how='inner', \\\n",
    "                          left_on=['nombre','estado'], right_on = ['nombre','estado'])"
   ]
  },
  {
   "cell_type": "code",
   "execution_count": 8,
   "metadata": {
    "collapsed": false
   },
   "outputs": [
    {
     "data": {
      "text/plain": [
       "idpostulante       188752\n",
       "valor_educacion    188752\n",
       "dtype: int64"
      ]
     },
     "execution_count": 8,
     "metadata": {},
     "output_type": "execute_result"
    }
   ],
   "source": [
    "# Busco la maxima educacion que tiene cada postulante.\n",
    "max_post_educacion = post_educacion.groupby(['idpostulante'])['valor_educacion'].max().reset_index()\n",
    "max_post_educacion.count()"
   ]
  },
  {
   "cell_type": "code",
   "execution_count": 9,
   "metadata": {
    "collapsed": false
   },
   "outputs": [
    {
     "data": {
      "text/html": [
       "<div>\n",
       "<style scoped>\n",
       "    .dataframe tbody tr th:only-of-type {\n",
       "        vertical-align: middle;\n",
       "    }\n",
       "\n",
       "    .dataframe tbody tr th {\n",
       "        vertical-align: top;\n",
       "    }\n",
       "\n",
       "    .dataframe thead th {\n",
       "        text-align: right;\n",
       "    }\n",
       "</style>\n",
       "<table border=\"1\" class=\"dataframe\">\n",
       "  <thead>\n",
       "    <tr style=\"text-align: right;\">\n",
       "      <th></th>\n",
       "      <th>idpostulante</th>\n",
       "      <th>nombre</th>\n",
       "      <th>estado</th>\n",
       "      <th>valor_educacion</th>\n",
       "    </tr>\n",
       "  </thead>\n",
       "  <tbody>\n",
       "    <tr>\n",
       "      <th>0</th>\n",
       "      <td>NdJl</td>\n",
       "      <td>Posgrado</td>\n",
       "      <td>En Curso</td>\n",
       "      <td>15</td>\n",
       "    </tr>\n",
       "    <tr>\n",
       "      <th>1</th>\n",
       "      <td>axaPJ</td>\n",
       "      <td>Posgrado</td>\n",
       "      <td>En Curso</td>\n",
       "      <td>15</td>\n",
       "    </tr>\n",
       "    <tr>\n",
       "      <th>2</th>\n",
       "      <td>Z48mz</td>\n",
       "      <td>Posgrado</td>\n",
       "      <td>En Curso</td>\n",
       "      <td>15</td>\n",
       "    </tr>\n",
       "    <tr>\n",
       "      <th>3</th>\n",
       "      <td>a4zEZ</td>\n",
       "      <td>Posgrado</td>\n",
       "      <td>En Curso</td>\n",
       "      <td>15</td>\n",
       "    </tr>\n",
       "    <tr>\n",
       "      <th>4</th>\n",
       "      <td>6AWqO</td>\n",
       "      <td>Posgrado</td>\n",
       "      <td>En Curso</td>\n",
       "      <td>15</td>\n",
       "    </tr>\n",
       "  </tbody>\n",
       "</table>\n",
       "</div>"
      ],
      "text/plain": [
       "  idpostulante    nombre    estado  valor_educacion\n",
       "0         NdJl  Posgrado  En Curso               15\n",
       "1        axaPJ  Posgrado  En Curso               15\n",
       "2        Z48mz  Posgrado  En Curso               15\n",
       "3        a4zEZ  Posgrado  En Curso               15\n",
       "4        6AWqO  Posgrado  En Curso               15"
      ]
     },
     "execution_count": 9,
     "metadata": {},
     "output_type": "execute_result"
    }
   ],
   "source": [
    "# Hago el join para filtrar todas las educaciones que no me interesan, dejando solo la maxima educacion.\n",
    "post_educacion = pd.merge(post_educacion, max_post_educacion,  how='inner', \\\n",
    "                          left_on=['idpostulante','valor_educacion'], right_on = ['idpostulante','valor_educacion'])\n",
    "\n",
    "post_educacion.head()"
   ]
  },
  {
   "cell_type": "code",
   "execution_count": 10,
   "metadata": {
    "collapsed": false
   },
   "outputs": [
    {
     "data": {
      "text/html": [
       "<div>\n",
       "<style scoped>\n",
       "    .dataframe tbody tr th:only-of-type {\n",
       "        vertical-align: middle;\n",
       "    }\n",
       "\n",
       "    .dataframe tbody tr th {\n",
       "        vertical-align: top;\n",
       "    }\n",
       "\n",
       "    .dataframe thead th {\n",
       "        text-align: right;\n",
       "    }\n",
       "</style>\n",
       "<table border=\"1\" class=\"dataframe\">\n",
       "  <thead>\n",
       "    <tr style=\"text-align: right;\">\n",
       "      <th></th>\n",
       "      <th>idpostulante</th>\n",
       "      <th>nombre</th>\n",
       "      <th>estado</th>\n",
       "      <th>valor_educacion</th>\n",
       "      <th>fechanacimiento</th>\n",
       "      <th>sexo</th>\n",
       "      <th>edad</th>\n",
       "    </tr>\n",
       "  </thead>\n",
       "  <tbody>\n",
       "    <tr>\n",
       "      <th>0</th>\n",
       "      <td>NdJl</td>\n",
       "      <td>Posgrado</td>\n",
       "      <td>En Curso</td>\n",
       "      <td>15</td>\n",
       "      <td>1969-05-09</td>\n",
       "      <td>MASC</td>\n",
       "      <td>48.0</td>\n",
       "    </tr>\n",
       "    <tr>\n",
       "      <th>1</th>\n",
       "      <td>axaPJ</td>\n",
       "      <td>Posgrado</td>\n",
       "      <td>En Curso</td>\n",
       "      <td>15</td>\n",
       "      <td>1970-01-06</td>\n",
       "      <td>MASC</td>\n",
       "      <td>48.0</td>\n",
       "    </tr>\n",
       "    <tr>\n",
       "      <th>2</th>\n",
       "      <td>Z48mz</td>\n",
       "      <td>Posgrado</td>\n",
       "      <td>En Curso</td>\n",
       "      <td>15</td>\n",
       "      <td>1967-05-16</td>\n",
       "      <td>MASC</td>\n",
       "      <td>50.0</td>\n",
       "    </tr>\n",
       "    <tr>\n",
       "      <th>3</th>\n",
       "      <td>a4zEZ</td>\n",
       "      <td>Posgrado</td>\n",
       "      <td>En Curso</td>\n",
       "      <td>15</td>\n",
       "      <td>1976-04-10</td>\n",
       "      <td>MASC</td>\n",
       "      <td>41.0</td>\n",
       "    </tr>\n",
       "    <tr>\n",
       "      <th>4</th>\n",
       "      <td>6AWqO</td>\n",
       "      <td>Posgrado</td>\n",
       "      <td>En Curso</td>\n",
       "      <td>15</td>\n",
       "      <td>1970-05-21</td>\n",
       "      <td>MASC</td>\n",
       "      <td>47.0</td>\n",
       "    </tr>\n",
       "  </tbody>\n",
       "</table>\n",
       "</div>"
      ],
      "text/plain": [
       "  idpostulante    nombre    estado  valor_educacion fechanacimiento  sexo  \\\n",
       "0         NdJl  Posgrado  En Curso               15      1969-05-09  MASC   \n",
       "1        axaPJ  Posgrado  En Curso               15      1970-01-06  MASC   \n",
       "2        Z48mz  Posgrado  En Curso               15      1967-05-16  MASC   \n",
       "3        a4zEZ  Posgrado  En Curso               15      1976-04-10  MASC   \n",
       "4        6AWqO  Posgrado  En Curso               15      1970-05-21  MASC   \n",
       "\n",
       "   edad  \n",
       "0  48.0  \n",
       "1  48.0  \n",
       "2  50.0  \n",
       "3  41.0  \n",
       "4  47.0  "
      ]
     },
     "execution_count": 10,
     "metadata": {},
     "output_type": "execute_result"
    }
   ],
   "source": [
    "postulantes = pd.merge(post_educacion, post_gen_edad)\n",
    "pd.to_datetime(postulantes['fechanacimiento'])\n",
    "postulantes['edad'] = (now - pd.to_datetime(postulantes['fechanacimiento'])).astype('<m8[Y]')\n",
    "postulantes.head()"
   ]
  },
  {
   "cell_type": "markdown",
   "metadata": {},
   "source": [
    "# Relacion entre cantidad de postulaciones y vistas por aviso"
   ]
  },
  {
   "cell_type": "code",
   "execution_count": 12,
   "metadata": {
    "collapsed": false
   },
   "outputs": [
    {
     "data": {
      "image/png": "[encoded data removed]",
      "text/plain": [
       "<Figure size 1008x288 with 1 Axes>"
      ]
     },
     "metadata": {},
     "output_type": "display_data"
    }
   ],
   "source": [
    "#cantidad de postulaciones por dia de semana\n",
    "post_weekday = postulaciones\n",
    "post_weekday['weekday'] =  post_weekday['fechapostulacion'].dt.weekday_name\n",
    "post_weekday.groupby('weekday').count()['fechapostulacion'].sort_values(ascending=False)[0:19].plot(kind='bar',figsize=(14,4));"
   ]
  },
  {
   "cell_type": "code",
   "execution_count": 13,
   "metadata": {
    "collapsed": false
   },
   "outputs": [
    {
     "data": {
      "image/png": "[encoded data removed]",
      "text/plain": [
       "<Figure size 1008x288 with 1 Axes>"
      ]
     },
     "metadata": {},
     "output_type": "display_data"
    }
   ],
   "source": [
    "#cantidad de vistas por dia de semana\n",
    "vistas_weekday = vistas\n",
    "vistas_weekday['weekday'] =  vistas_weekday['fechavista'].dt.weekday_name\n",
    "vistas_weekday.groupby('weekday').count()['fechavista'].sort_values(ascending=False)[0:19].plot(kind='bar',figsize=(14,4));"
   ]
  },
  {
   "cell_type": "code",
   "execution_count": 14,
   "metadata": {
    "collapsed": false
   },
   "outputs": [
    {
     "data": {
      "text/html": [
       "<div>\n",
       "<style scoped>\n",
       "    .dataframe tbody tr th:only-of-type {\n",
       "        vertical-align: middle;\n",
       "    }\n",
       "\n",
       "    .dataframe tbody tr th {\n",
       "        vertical-align: top;\n",
       "    }\n",
       "\n",
       "    .dataframe thead th {\n",
       "        text-align: right;\n",
       "    }\n",
       "</style>\n",
       "<table border=\"1\" class=\"dataframe\">\n",
       "  <thead>\n",
       "    <tr style=\"text-align: right;\">\n",
       "      <th></th>\n",
       "      <th>idaviso</th>\n",
       "      <th>cant_post</th>\n",
       "    </tr>\n",
       "  </thead>\n",
       "  <tbody>\n",
       "    <tr>\n",
       "      <th>0</th>\n",
       "      <td>1112033906</td>\n",
       "      <td>9932</td>\n",
       "    </tr>\n",
       "    <tr>\n",
       "      <th>1</th>\n",
       "      <td>1112334791</td>\n",
       "      <td>9787</td>\n",
       "    </tr>\n",
       "    <tr>\n",
       "      <th>2</th>\n",
       "      <td>1112204682</td>\n",
       "      <td>9244</td>\n",
       "    </tr>\n",
       "    <tr>\n",
       "      <th>3</th>\n",
       "      <td>1112094756</td>\n",
       "      <td>8763</td>\n",
       "    </tr>\n",
       "    <tr>\n",
       "      <th>4</th>\n",
       "      <td>1112345900</td>\n",
       "      <td>8304</td>\n",
       "    </tr>\n",
       "  </tbody>\n",
       "</table>\n",
       "</div>"
      ],
      "text/plain": [
       "      idaviso  cant_post\n",
       "0  1112033906       9932\n",
       "1  1112334791       9787\n",
       "2  1112204682       9244\n",
       "3  1112094756       8763\n",
       "4  1112345900       8304"
      ]
     },
     "execution_count": 14,
     "metadata": {},
     "output_type": "execute_result"
    }
   ],
   "source": [
    "#cantidad de postulaciones\n",
    "avisos_cant_post = postulaciones.loc[:,['idaviso']]\n",
    "avisos_cant_post = avisos_cant_post.groupby(['idaviso']).size()\n",
    "avisos_cant_post = avisos_cant_post.sort_values(ascending=False)\n",
    "avisos_cant_post = pd.DataFrame(avisos_cant_post).reset_index()\n",
    "avisos_cant_post[[\"idaviso\", \"cant_post\"]] = avisos_cant_post[[\"idaviso\", 0]]\n",
    "avisos_cant_post = avisos_cant_post[[\"idaviso\", \"cant_post\"]]  \n",
    "avisos_cant_post.head()"
   ]
  },
  {
   "cell_type": "code",
   "execution_count": 15,
   "metadata": {
    "collapsed": false
   },
   "outputs": [
    {
     "data": {
      "text/html": [
       "<div>\n",
       "<style scoped>\n",
       "    .dataframe tbody tr th:only-of-type {\n",
       "        vertical-align: middle;\n",
       "    }\n",
       "\n",
       "    .dataframe tbody tr th {\n",
       "        vertical-align: top;\n",
       "    }\n",
       "\n",
       "    .dataframe thead th {\n",
       "        text-align: right;\n",
       "    }\n",
       "</style>\n",
       "<table border=\"1\" class=\"dataframe\">\n",
       "  <thead>\n",
       "    <tr style=\"text-align: right;\">\n",
       "      <th></th>\n",
       "      <th>idaviso</th>\n",
       "      <th>cant_vistas</th>\n",
       "    </tr>\n",
       "  </thead>\n",
       "  <tbody>\n",
       "    <tr>\n",
       "      <th>0</th>\n",
       "      <td>1112363488</td>\n",
       "      <td>4169</td>\n",
       "    </tr>\n",
       "    <tr>\n",
       "      <th>1</th>\n",
       "      <td>1112359836</td>\n",
       "      <td>4120</td>\n",
       "    </tr>\n",
       "    <tr>\n",
       "      <th>2</th>\n",
       "      <td>1112352317</td>\n",
       "      <td>4003</td>\n",
       "    </tr>\n",
       "    <tr>\n",
       "      <th>3</th>\n",
       "      <td>1112366909</td>\n",
       "      <td>3669</td>\n",
       "    </tr>\n",
       "    <tr>\n",
       "      <th>4</th>\n",
       "      <td>1112355872</td>\n",
       "      <td>3472</td>\n",
       "    </tr>\n",
       "  </tbody>\n",
       "</table>\n",
       "</div>"
      ],
      "text/plain": [
       "      idaviso  cant_vistas\n",
       "0  1112363488         4169\n",
       "1  1112359836         4120\n",
       "2  1112352317         4003\n",
       "3  1112366909         3669\n",
       "4  1112355872         3472"
      ]
     },
     "execution_count": 15,
     "metadata": {},
     "output_type": "execute_result"
    }
   ],
   "source": [
    "#cantidad de vistas\n",
    "avisos_cant_vistas = vistas.loc[:,['idaviso']]\n",
    "avisos_cant_vistas = avisos_cant_vistas.groupby(['idaviso']).size()\n",
    "avisos_cant_vistas = avisos_cant_vistas.sort_values(ascending=False)\n",
    "avisos_cant_vistas = pd.DataFrame(avisos_cant_vistas).reset_index()\n",
    "avisos_cant_vistas[[\"idaviso\", \"cant_vistas\"]] = avisos_cant_vistas[[\"idaviso\", 0]]\n",
    "avisos_cant_vistas = avisos_cant_vistas[[\"idaviso\", \"cant_vistas\"]]  \n",
    "avisos_cant_vistas.head()"
   ]
  },
  {
   "cell_type": "code",
   "execution_count": 16,
   "metadata": {
    "collapsed": false
   },
   "outputs": [
    {
     "data": {
      "text/html": [
       "<div>\n",
       "<style scoped>\n",
       "    .dataframe tbody tr th:only-of-type {\n",
       "        vertical-align: middle;\n",
       "    }\n",
       "\n",
       "    .dataframe tbody tr th {\n",
       "        vertical-align: top;\n",
       "    }\n",
       "\n",
       "    .dataframe thead th {\n",
       "        text-align: right;\n",
       "    }\n",
       "</style>\n",
       "<table border=\"1\" class=\"dataframe\">\n",
       "  <thead>\n",
       "    <tr style=\"text-align: right;\">\n",
       "      <th></th>\n",
       "      <th>idaviso</th>\n",
       "      <th>cant_post</th>\n",
       "      <th>cant_vistas</th>\n",
       "    </tr>\n",
       "  </thead>\n",
       "  <tbody>\n",
       "    <tr>\n",
       "      <th>0</th>\n",
       "      <td>1112033906</td>\n",
       "      <td>9932</td>\n",
       "      <td>22</td>\n",
       "    </tr>\n",
       "    <tr>\n",
       "      <th>1</th>\n",
       "      <td>1112334791</td>\n",
       "      <td>9787</td>\n",
       "      <td>2817</td>\n",
       "    </tr>\n",
       "    <tr>\n",
       "      <th>2</th>\n",
       "      <td>1112204682</td>\n",
       "      <td>9244</td>\n",
       "      <td>18</td>\n",
       "    </tr>\n",
       "    <tr>\n",
       "      <th>3</th>\n",
       "      <td>1112094756</td>\n",
       "      <td>8763</td>\n",
       "      <td>6</td>\n",
       "    </tr>\n",
       "    <tr>\n",
       "      <th>4</th>\n",
       "      <td>1112345900</td>\n",
       "      <td>8304</td>\n",
       "      <td>2841</td>\n",
       "    </tr>\n",
       "  </tbody>\n",
       "</table>\n",
       "</div>"
      ],
      "text/plain": [
       "      idaviso  cant_post  cant_vistas\n",
       "0  1112033906       9932           22\n",
       "1  1112334791       9787         2817\n",
       "2  1112204682       9244           18\n",
       "3  1112094756       8763            6\n",
       "4  1112345900       8304         2841"
      ]
     },
     "execution_count": 16,
     "metadata": {},
     "output_type": "execute_result"
    }
   ],
   "source": [
    "#relacion\n",
    "post_vs_vistas =  pd.merge(avisos_cant_post, avisos_cant_vistas, on=\"idaviso\", how='inner')\n",
    "post_vs_vistas = post_vs_vistas[[\"idaviso\", \"cant_post\", \"cant_vistas\"]] \n",
    "post_vs_vistas.head()"
   ]
  },
  {
   "cell_type": "code",
   "execution_count": 17,
   "metadata": {
    "collapsed": false
   },
   "outputs": [
    {
     "data": {
      "text/html": [
       "<div>\n",
       "<style scoped>\n",
       "    .dataframe tbody tr th:only-of-type {\n",
       "        vertical-align: middle;\n",
       "    }\n",
       "\n",
       "    .dataframe tbody tr th {\n",
       "        vertical-align: top;\n",
       "    }\n",
       "\n",
       "    .dataframe thead th {\n",
       "        text-align: right;\n",
       "    }\n",
       "</style>\n",
       "<table border=\"1\" class=\"dataframe\">\n",
       "  <thead>\n",
       "    <tr style=\"text-align: right;\">\n",
       "      <th></th>\n",
       "      <th>idaviso</th>\n",
       "      <th>cant_post</th>\n",
       "      <th>cant_vistas</th>\n",
       "    </tr>\n",
       "  </thead>\n",
       "  <tbody>\n",
       "    <tr>\n",
       "      <th>0</th>\n",
       "      <td>1112033906</td>\n",
       "      <td>9932</td>\n",
       "      <td>9954</td>\n",
       "    </tr>\n",
       "    <tr>\n",
       "      <th>1</th>\n",
       "      <td>1112334791</td>\n",
       "      <td>9787</td>\n",
       "      <td>12604</td>\n",
       "    </tr>\n",
       "    <tr>\n",
       "      <th>2</th>\n",
       "      <td>1112204682</td>\n",
       "      <td>9244</td>\n",
       "      <td>9262</td>\n",
       "    </tr>\n",
       "    <tr>\n",
       "      <th>3</th>\n",
       "      <td>1112094756</td>\n",
       "      <td>8763</td>\n",
       "      <td>8769</td>\n",
       "    </tr>\n",
       "    <tr>\n",
       "      <th>4</th>\n",
       "      <td>1112345900</td>\n",
       "      <td>8304</td>\n",
       "      <td>11145</td>\n",
       "    </tr>\n",
       "  </tbody>\n",
       "</table>\n",
       "</div>"
      ],
      "text/plain": [
       "      idaviso  cant_post  cant_vistas\n",
       "0  1112033906       9932         9954\n",
       "1  1112334791       9787        12604\n",
       "2  1112204682       9244         9262\n",
       "3  1112094756       8763         8769\n",
       "4  1112345900       8304        11145"
      ]
     },
     "execution_count": 17,
     "metadata": {},
     "output_type": "execute_result"
    }
   ],
   "source": [
    "#cantidad vistas = cantidad de vistas + cantidad de postulaciones\n",
    "post_vs_vistas['cant_vistas'] = post_vs_vistas.cant_vistas + post_vs_vistas.cant_post\n",
    "post_vs_vistas.head()"
   ]
  },
  {
   "cell_type": "code",
   "execution_count": 18,
   "metadata": {
    "collapsed": false
   },
   "outputs": [
    {
     "data": {
      "image/png": "[encoded data removed]",
      "text/plain": [
       "<Figure size 1080x576 with 1 Axes>"
      ]
     },
     "metadata": {},
     "output_type": "display_data"
    }
   ],
   "source": [
    "post_vs_vistas.plot.scatter('cant_post','cant_vistas',alpha=1,title = \"Relacion cantidad de vistas vs postulaciones\",figsize=(15,8));"
   ]
  },
  {
   "cell_type": "code",
   "execution_count": 19,
   "metadata": {
    "collapsed": false
   },
   "outputs": [
    {
     "data": {
      "text/html": [
       "<div>\n",
       "<style scoped>\n",
       "    .dataframe tbody tr th:only-of-type {\n",
       "        vertical-align: middle;\n",
       "    }\n",
       "\n",
       "    .dataframe tbody tr th {\n",
       "        vertical-align: top;\n",
       "    }\n",
       "\n",
       "    .dataframe thead th {\n",
       "        text-align: right;\n",
       "    }\n",
       "</style>\n",
       "<table border=\"1\" class=\"dataframe\">\n",
       "  <thead>\n",
       "    <tr style=\"text-align: right;\">\n",
       "      <th></th>\n",
       "      <th>idaviso</th>\n",
       "      <th>cant_post</th>\n",
       "      <th>cant_vistas</th>\n",
       "      <th>prob_post</th>\n",
       "    </tr>\n",
       "  </thead>\n",
       "  <tbody>\n",
       "    <tr>\n",
       "      <th>6509</th>\n",
       "      <td>1112359511</td>\n",
       "      <td>2</td>\n",
       "      <td>133</td>\n",
       "      <td>0.015038</td>\n",
       "    </tr>\n",
       "    <tr>\n",
       "      <th>6508</th>\n",
       "      <td>1112361790</td>\n",
       "      <td>2</td>\n",
       "      <td>112</td>\n",
       "      <td>0.017857</td>\n",
       "    </tr>\n",
       "    <tr>\n",
       "      <th>6517</th>\n",
       "      <td>1112361607</td>\n",
       "      <td>1</td>\n",
       "      <td>32</td>\n",
       "      <td>0.031250</td>\n",
       "    </tr>\n",
       "    <tr>\n",
       "      <th>6515</th>\n",
       "      <td>1112361795</td>\n",
       "      <td>1</td>\n",
       "      <td>26</td>\n",
       "      <td>0.038462</td>\n",
       "    </tr>\n",
       "    <tr>\n",
       "      <th>6524</th>\n",
       "      <td>1111873421</td>\n",
       "      <td>1</td>\n",
       "      <td>16</td>\n",
       "      <td>0.062500</td>\n",
       "    </tr>\n",
       "  </tbody>\n",
       "</table>\n",
       "</div>"
      ],
      "text/plain": [
       "         idaviso  cant_post  cant_vistas  prob_post\n",
       "6509  1112359511          2          133   0.015038\n",
       "6508  1112361790          2          112   0.017857\n",
       "6517  1112361607          1           32   0.031250\n",
       "6515  1112361795          1           26   0.038462\n",
       "6524  1111873421          1           16   0.062500"
      ]
     },
     "execution_count": 19,
     "metadata": {},
     "output_type": "execute_result"
    }
   ],
   "source": [
    "#calculo la probabilidad de que alguien se postule\n",
    "post_vs_vistas['prob_post'] = post_vs_vistas.cant_post / post_vs_vistas.cant_vistas\n",
    "post_vs_vistas = post_vs_vistas.sort_values(by='prob_post', ascending=True)\n",
    "post_vs_vistas.head()"
   ]
  },
  {
   "cell_type": "code",
   "execution_count": 20,
   "metadata": {
    "collapsed": false
   },
   "outputs": [
    {
     "data": {
      "image/png": "[encoded data removed]",
      "text/plain": [
       "<Figure size 1080x576 with 1 Axes>"
      ]
     },
     "metadata": {},
     "output_type": "display_data"
    }
   ],
   "source": [
    "post_vs_vistas.plot.scatter('prob_post','cant_vistas',alpha=1,title = \"Relacion cantidad de vistas y probabilidad de postulacion\",figsize=(15,8));"
   ]
  },
  {
   "cell_type": "code",
   "execution_count": 21,
   "metadata": {
    "collapsed": false
   },
   "outputs": [
    {
     "data": {
      "text/html": [
       "<div>\n",
       "<style scoped>\n",
       "    .dataframe tbody tr th:only-of-type {\n",
       "        vertical-align: middle;\n",
       "    }\n",
       "\n",
       "    .dataframe tbody tr th {\n",
       "        vertical-align: top;\n",
       "    }\n",
       "\n",
       "    .dataframe thead th {\n",
       "        text-align: right;\n",
       "    }\n",
       "</style>\n",
       "<table border=\"1\" class=\"dataframe\">\n",
       "  <thead>\n",
       "    <tr style=\"text-align: right;\">\n",
       "      <th></th>\n",
       "      <th>idaviso</th>\n",
       "      <th>cant_post</th>\n",
       "      <th>cant_vistas</th>\n",
       "      <th>prob_post</th>\n",
       "      <th>titulo</th>\n",
       "      <th>descripcion</th>\n",
       "      <th>nombre_zona</th>\n",
       "      <th>ciudad</th>\n",
       "      <th>mapacalle</th>\n",
       "      <th>tipo_de_trabajo</th>\n",
       "      <th>nivel_laboral</th>\n",
       "      <th>nombre_area</th>\n",
       "      <th>denominacion_empresa</th>\n",
       "    </tr>\n",
       "  </thead>\n",
       "  <tbody>\n",
       "    <tr>\n",
       "      <th>0</th>\n",
       "      <td>1112359511</td>\n",
       "      <td>2</td>\n",
       "      <td>133</td>\n",
       "      <td>0.015038</td>\n",
       "      <td>Docentes</td>\n",
       "      <td>&lt;p&gt;Nos encontramos en la bùsqueda de docentes ...</td>\n",
       "      <td>Gran Buenos Aires</td>\n",
       "      <td>NaN</td>\n",
       "      <td>NaN</td>\n",
       "      <td>Full-time</td>\n",
       "      <td>Senior / Semi-Senior</td>\n",
       "      <td>Educación/ Docentes</td>\n",
       "      <td>Neo-Biz Consultores</td>\n",
       "    </tr>\n",
       "    <tr>\n",
       "      <th>1</th>\n",
       "      <td>1112361790</td>\n",
       "      <td>2</td>\n",
       "      <td>112</td>\n",
       "      <td>0.017857</td>\n",
       "      <td>Esto es un aviso de prueba</td>\n",
       "      <td>&lt;p&gt;TesttestestTesttestestTesttestestTesttestes...</td>\n",
       "      <td>Capital Federal</td>\n",
       "      <td>NaN</td>\n",
       "      <td>rondeau 2664</td>\n",
       "      <td>Full-time</td>\n",
       "      <td>Senior / Semi-Senior</td>\n",
       "      <td>Tecnologia / Sistemas</td>\n",
       "      <td>TEST MDAN2</td>\n",
       "    </tr>\n",
       "    <tr>\n",
       "      <th>2</th>\n",
       "      <td>1112361607</td>\n",
       "      <td>1</td>\n",
       "      <td>32</td>\n",
       "      <td>0.031250</td>\n",
       "      <td>Desarrollador Back End - Senior</td>\n",
       "      <td>&lt;p&gt;Importante empresa de Software especializad...</td>\n",
       "      <td>Gran Buenos Aires</td>\n",
       "      <td>NaN</td>\n",
       "      <td>NaN</td>\n",
       "      <td>Full-time</td>\n",
       "      <td>Senior / Semi-Senior</td>\n",
       "      <td>Programación</td>\n",
       "      <td>NG Empleos</td>\n",
       "    </tr>\n",
       "    <tr>\n",
       "      <th>3</th>\n",
       "      <td>1112361795</td>\n",
       "      <td>1</td>\n",
       "      <td>26</td>\n",
       "      <td>0.038462</td>\n",
       "      <td>Looking for Automotive, Telematics and Connect...</td>\n",
       "      <td>&lt;p style=\"\"&gt;On behalf of our customer Telescop...</td>\n",
       "      <td>Gran Buenos Aires</td>\n",
       "      <td>NaN</td>\n",
       "      <td>NaN</td>\n",
       "      <td>Full-time</td>\n",
       "      <td>Senior / Semi-Senior</td>\n",
       "      <td>Programación</td>\n",
       "      <td>Telescope Services</td>\n",
       "    </tr>\n",
       "    <tr>\n",
       "      <th>4</th>\n",
       "      <td>1111873421</td>\n",
       "      <td>1</td>\n",
       "      <td>16</td>\n",
       "      <td>0.062500</td>\n",
       "      <td>Traductor/a interprete chino</td>\n",
       "      <td>&lt;p style=\"\"&gt;&lt;strong&gt;Adecco Office&lt;/strong&gt; est...</td>\n",
       "      <td>Gran Buenos Aires</td>\n",
       "      <td>NaN</td>\n",
       "      <td>NaN</td>\n",
       "      <td>Full-time</td>\n",
       "      <td>Senior / Semi-Senior</td>\n",
       "      <td>Traduccion</td>\n",
       "      <td>Adecco - Región Centro Norte y Agro.</td>\n",
       "    </tr>\n",
       "  </tbody>\n",
       "</table>\n",
       "</div>"
      ],
      "text/plain": [
       "      idaviso  cant_post  cant_vistas  prob_post  \\\n",
       "0  1112359511          2          133   0.015038   \n",
       "1  1112361790          2          112   0.017857   \n",
       "2  1112361607          1           32   0.031250   \n",
       "3  1112361795          1           26   0.038462   \n",
       "4  1111873421          1           16   0.062500   \n",
       "\n",
       "                                              titulo  \\\n",
       "0                                          Docentes    \n",
       "1                         Esto es un aviso de prueba   \n",
       "2                    Desarrollador Back End - Senior   \n",
       "3  Looking for Automotive, Telematics and Connect...   \n",
       "4                      Traductor/a interprete chino    \n",
       "\n",
       "                                         descripcion        nombre_zona  \\\n",
       "0  <p>Nos encontramos en la bùsqueda de docentes ...  Gran Buenos Aires   \n",
       "1  <p>TesttestestTesttestestTesttestestTesttestes...    Capital Federal   \n",
       "2  <p>Importante empresa de Software especializad...  Gran Buenos Aires   \n",
       "3  <p style=\"\">On behalf of our customer Telescop...  Gran Buenos Aires   \n",
       "4  <p style=\"\"><strong>Adecco Office</strong> est...  Gran Buenos Aires   \n",
       "\n",
       "  ciudad     mapacalle tipo_de_trabajo         nivel_laboral  \\\n",
       "0    NaN           NaN       Full-time  Senior / Semi-Senior   \n",
       "1    NaN  rondeau 2664       Full-time  Senior / Semi-Senior   \n",
       "2    NaN           NaN       Full-time  Senior / Semi-Senior   \n",
       "3    NaN           NaN       Full-time  Senior / Semi-Senior   \n",
       "4    NaN           NaN       Full-time  Senior / Semi-Senior   \n",
       "\n",
       "             nombre_area                  denominacion_empresa  \n",
       "0    Educación/ Docentes                   Neo-Biz Consultores  \n",
       "1  Tecnologia / Sistemas                            TEST MDAN2  \n",
       "2           Programación                            NG Empleos  \n",
       "3           Programación                    Telescope Services  \n",
       "4             Traduccion  Adecco - Región Centro Norte y Agro.  "
      ]
     },
     "execution_count": 21,
     "metadata": {},
     "output_type": "execute_result"
    }
   ],
   "source": [
    "post_vs_vistas_detalle = post_vs_vistas.merge(avisos_detalles, on=\"idaviso\")\n",
    "post_vs_vistas_detalle.head()"
   ]
  },
  {
   "cell_type": "code",
   "execution_count": 22,
   "metadata": {
    "collapsed": false
   },
   "outputs": [
    {
     "data": {
      "text/html": [
       "<div>\n",
       "<style scoped>\n",
       "    .dataframe tbody tr th:only-of-type {\n",
       "        vertical-align: middle;\n",
       "    }\n",
       "\n",
       "    .dataframe tbody tr th {\n",
       "        vertical-align: top;\n",
       "    }\n",
       "\n",
       "    .dataframe thead th {\n",
       "        text-align: right;\n",
       "    }\n",
       "</style>\n",
       "<table border=\"1\" class=\"dataframe\">\n",
       "  <thead>\n",
       "    <tr style=\"text-align: right;\">\n",
       "      <th></th>\n",
       "      <th>idaviso</th>\n",
       "      <th>cant_post</th>\n",
       "      <th>cant_vistas</th>\n",
       "      <th>prob_post</th>\n",
       "      <th>tipo_de_trabajo</th>\n",
       "      <th>nivel_laboral</th>\n",
       "      <th>nombre_area</th>\n",
       "      <th>denominacion_empresa</th>\n",
       "    </tr>\n",
       "  </thead>\n",
       "  <tbody>\n",
       "    <tr>\n",
       "      <th>0</th>\n",
       "      <td>1112359511</td>\n",
       "      <td>2</td>\n",
       "      <td>133</td>\n",
       "      <td>0.015038</td>\n",
       "      <td>Full-time</td>\n",
       "      <td>Senior / Semi-Senior</td>\n",
       "      <td>Educación/ Docentes</td>\n",
       "      <td>Neo-Biz Consultores</td>\n",
       "    </tr>\n",
       "    <tr>\n",
       "      <th>1</th>\n",
       "      <td>1112361790</td>\n",
       "      <td>2</td>\n",
       "      <td>112</td>\n",
       "      <td>0.017857</td>\n",
       "      <td>Full-time</td>\n",
       "      <td>Senior / Semi-Senior</td>\n",
       "      <td>Tecnologia / Sistemas</td>\n",
       "      <td>TEST MDAN2</td>\n",
       "    </tr>\n",
       "    <tr>\n",
       "      <th>2</th>\n",
       "      <td>1112361607</td>\n",
       "      <td>1</td>\n",
       "      <td>32</td>\n",
       "      <td>0.031250</td>\n",
       "      <td>Full-time</td>\n",
       "      <td>Senior / Semi-Senior</td>\n",
       "      <td>Programación</td>\n",
       "      <td>NG Empleos</td>\n",
       "    </tr>\n",
       "    <tr>\n",
       "      <th>3</th>\n",
       "      <td>1112361795</td>\n",
       "      <td>1</td>\n",
       "      <td>26</td>\n",
       "      <td>0.038462</td>\n",
       "      <td>Full-time</td>\n",
       "      <td>Senior / Semi-Senior</td>\n",
       "      <td>Programación</td>\n",
       "      <td>Telescope Services</td>\n",
       "    </tr>\n",
       "    <tr>\n",
       "      <th>4</th>\n",
       "      <td>1111873421</td>\n",
       "      <td>1</td>\n",
       "      <td>16</td>\n",
       "      <td>0.062500</td>\n",
       "      <td>Full-time</td>\n",
       "      <td>Senior / Semi-Senior</td>\n",
       "      <td>Traduccion</td>\n",
       "      <td>Adecco - Región Centro Norte y Agro.</td>\n",
       "    </tr>\n",
       "  </tbody>\n",
       "</table>\n",
       "</div>"
      ],
      "text/plain": [
       "      idaviso  cant_post  cant_vistas  prob_post tipo_de_trabajo  \\\n",
       "0  1112359511          2          133   0.015038       Full-time   \n",
       "1  1112361790          2          112   0.017857       Full-time   \n",
       "2  1112361607          1           32   0.031250       Full-time   \n",
       "3  1112361795          1           26   0.038462       Full-time   \n",
       "4  1111873421          1           16   0.062500       Full-time   \n",
       "\n",
       "          nivel_laboral            nombre_area  \\\n",
       "0  Senior / Semi-Senior    Educación/ Docentes   \n",
       "1  Senior / Semi-Senior  Tecnologia / Sistemas   \n",
       "2  Senior / Semi-Senior           Programación   \n",
       "3  Senior / Semi-Senior           Programación   \n",
       "4  Senior / Semi-Senior             Traduccion   \n",
       "\n",
       "                   denominacion_empresa  \n",
       "0                   Neo-Biz Consultores  \n",
       "1                            TEST MDAN2  \n",
       "2                            NG Empleos  \n",
       "3                    Telescope Services  \n",
       "4  Adecco - Región Centro Norte y Agro.  "
      ]
     },
     "execution_count": 22,
     "metadata": {},
     "output_type": "execute_result"
    }
   ],
   "source": [
    "#filtro campos importantes\n",
    "post_vs_vistas_detalle = post_vs_vistas_detalle.loc[:, ['idaviso','cant_post','cant_vistas','prob_post','tipo_de_trabajo','nivel_laboral','nombre_area','denominacion_empresa']]\n",
    "post_vs_vistas_detalle.head()"
   ]
  },
  {
   "cell_type": "code",
   "execution_count": 23,
   "metadata": {
    "collapsed": false
   },
   "outputs": [
    {
     "data": {
      "text/html": [
       "<div>\n",
       "<style scoped>\n",
       "    .dataframe tbody tr th:only-of-type {\n",
       "        vertical-align: middle;\n",
       "    }\n",
       "\n",
       "    .dataframe tbody tr th {\n",
       "        vertical-align: top;\n",
       "    }\n",
       "\n",
       "    .dataframe thead th {\n",
       "        text-align: right;\n",
       "    }\n",
       "</style>\n",
       "<table border=\"1\" class=\"dataframe\">\n",
       "  <thead>\n",
       "    <tr style=\"text-align: right;\">\n",
       "      <th></th>\n",
       "      <th>idaviso</th>\n",
       "      <th>cant_post</th>\n",
       "      <th>cant_vistas</th>\n",
       "      <th>prob_post</th>\n",
       "      <th>idpostulante</th>\n",
       "      <th>fechapostulacion</th>\n",
       "      <th>weekday</th>\n",
       "    </tr>\n",
       "  </thead>\n",
       "  <tbody>\n",
       "    <tr>\n",
       "      <th>0</th>\n",
       "      <td>1112359511</td>\n",
       "      <td>2</td>\n",
       "      <td>133</td>\n",
       "      <td>0.015038</td>\n",
       "      <td>QNLVQaV</td>\n",
       "      <td>2018-02-26 20:35:10</td>\n",
       "      <td>Monday</td>\n",
       "    </tr>\n",
       "    <tr>\n",
       "      <th>1</th>\n",
       "      <td>1112359511</td>\n",
       "      <td>2</td>\n",
       "      <td>133</td>\n",
       "      <td>0.015038</td>\n",
       "      <td>BmaW2ZE</td>\n",
       "      <td>2018-02-28 08:35:54</td>\n",
       "      <td>Wednesday</td>\n",
       "    </tr>\n",
       "    <tr>\n",
       "      <th>2</th>\n",
       "      <td>1112361790</td>\n",
       "      <td>2</td>\n",
       "      <td>112</td>\n",
       "      <td>0.017857</td>\n",
       "      <td>12OGdj</td>\n",
       "      <td>2018-02-26 09:46:39</td>\n",
       "      <td>Monday</td>\n",
       "    </tr>\n",
       "    <tr>\n",
       "      <th>3</th>\n",
       "      <td>1112361790</td>\n",
       "      <td>2</td>\n",
       "      <td>112</td>\n",
       "      <td>0.017857</td>\n",
       "      <td>Yj53ppD</td>\n",
       "      <td>2018-02-27 14:58:38</td>\n",
       "      <td>Tuesday</td>\n",
       "    </tr>\n",
       "    <tr>\n",
       "      <th>4</th>\n",
       "      <td>1112361607</td>\n",
       "      <td>1</td>\n",
       "      <td>32</td>\n",
       "      <td>0.031250</td>\n",
       "      <td>bOZkaeV</td>\n",
       "      <td>2018-02-26 09:15:16</td>\n",
       "      <td>Monday</td>\n",
       "    </tr>\n",
       "  </tbody>\n",
       "</table>\n",
       "</div>"
      ],
      "text/plain": [
       "      idaviso  cant_post  cant_vistas  prob_post idpostulante  \\\n",
       "0  1112359511          2          133   0.015038      QNLVQaV   \n",
       "1  1112359511          2          133   0.015038      BmaW2ZE   \n",
       "2  1112361790          2          112   0.017857       12OGdj   \n",
       "3  1112361790          2          112   0.017857      Yj53ppD   \n",
       "4  1112361607          1           32   0.031250      bOZkaeV   \n",
       "\n",
       "     fechapostulacion    weekday  \n",
       "0 2018-02-26 20:35:10     Monday  \n",
       "1 2018-02-28 08:35:54  Wednesday  \n",
       "2 2018-02-26 09:46:39     Monday  \n",
       "3 2018-02-27 14:58:38    Tuesday  \n",
       "4 2018-02-26 09:15:16     Monday  "
      ]
     },
     "execution_count": 23,
     "metadata": {},
     "output_type": "execute_result"
    }
   ],
   "source": [
    "avisos_vs_post = post_vs_vistas.merge(postulaciones, on=\"idaviso\")\n",
    "avisos_vs_post.head()"
   ]
  },
  {
   "cell_type": "code",
   "execution_count": null,
   "metadata": {
    "collapsed": true
   },
   "outputs": [],
   "source": []
  }
 ],
 "metadata": {
  "kernelspec": {
   "display_name": "Python 3",
   "language": "python",
   "name": "python3"
  },
  "language_info": {
   "codemirror_mode": {
    "name": "ipython",
    "version": 3
   },
   "file_extension": ".py",
   "mimetype": "text/x-python",
   "name": "python",
   "nbconvert_exporter": "python",
   "pygments_lexer": "ipython3",
   "version": "3.6.3"
  }
 },
 "nbformat": 4,
 "nbformat_minor": 2
}
