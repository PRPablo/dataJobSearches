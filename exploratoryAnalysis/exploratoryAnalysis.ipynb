{
 "cells": [
  {
   "cell_type": "markdown",
   "metadata": {},
   "source": [
    "<img src=\"zona_jobs.png\">"
   ]
  },
  {
   "cell_type": "markdown",
   "metadata": {},
   "source": [
    "# Trabajo Práctico N° 1: Análisis Exploratorio\n"
   ]
  },
  {
   "cell_type": "markdown",
   "metadata": {},
   "source": [
    "## 1. Preparación de los datos"
   ]
  },
  {
   "cell_type": "markdown",
   "metadata": {},
   "source": [
    "### 1.1. Importación de Librerías"
   ]
  },
  {
   "cell_type": "code",
   "execution_count": 1,
   "metadata": {},
   "outputs": [],
   "source": [
    "import matplotlib.pyplot as plt\n",
    "%matplotlib inline\n",
    "import pandas as pd\n",
    "from dateutil.parser import parse\n",
    "import numpy as np\n",
    "import warnings\n",
    "import datetime as dt\n",
    "import cufflinks as cf\n",
    "import plotly.plotly as py\n",
    "warnings.filterwarnings('ignore')\n",
    "import plotly\n",
    "plotly.tools.set_credentials_file(username='soyarielruiz', api_key='Io0U7KvMLYpCw01a1vNJ')\n",
    "cf.set_config_file(offline=False, world_readable=True, theme='pearl')"
   ]
  },
  {
   "cell_type": "markdown",
   "metadata": {},
   "source": [
    "### 1.2. Carga de Archivos"
   ]
  },
  {
   "cell_type": "code",
   "execution_count": 2,
   "metadata": {},
   "outputs": [],
   "source": [
    "# Carga de archivos\n",
    "post_educacion = pd.read_csv('../data/fiuba_1_postulantes_educacion.csv', dtype = {\n",
    "    'nombre': 'category',\n",
    "    'estado': 'category'\n",
    "})\n",
    "post_gen_edad = pd.read_csv('../data/fiuba_2_postulantes_genero_y_edad.csv', dtype = {\n",
    "    'sexo': 'category'    \n",
    "})\n",
    "\n",
    "vistas = pd.read_csv('../data/fiuba_3_vistas.csv', parse_dates=['timestamp'])\n",
    "postulaciones = pd.read_csv('../data/fiuba_4_postulaciones.csv', parse_dates=['fechapostulacion'])\n",
    "avisos_online = pd.read_csv('../data/fiuba_5_avisos_online.csv')\n",
    "\n",
    "avisos_detalles = pd.read_csv('../data/fiuba_6_avisos_detalle.csv', dtype= {\n",
    "    'nombre_zona': 'category',\n",
    "    'ciudad': 'category',\n",
    "    'tipo_de_trabajo': 'category',\n",
    "    'nivel_laboral': 'category',\n",
    "})"
   ]
  },
  {
   "cell_type": "markdown",
   "metadata": {},
   "source": [
    "### 1.3. Ajustes de los Archivos antes de procesar"
   ]
  },
  {
   "cell_type": "code",
   "execution_count": 3,
   "metadata": {},
   "outputs": [],
   "source": [
    "# Recorto la columna idpais ya que no es necesaria.\n",
    "avisos_detalles.drop('idpais', axis=1, inplace=True)"
   ]
  },
  {
   "cell_type": "code",
   "execution_count": 4,
   "metadata": {},
   "outputs": [],
   "source": [
    "# Agrupo las áreas parecidas.\n",
    "areas_agrupadas = pd.read_csv('../extraData/areas_agrupadas.csv')\n",
    "avisos_detalles = pd.merge(avisos_detalles, areas_agrupadas, how='inner', on='nombre_area')\n",
    "avisos_detalles['nombre_area'] = avisos_detalles['nuevo_nombre_area']\n",
    "avisos_detalles.drop('nuevo_nombre_area', axis=1, inplace=True)"
   ]
  },
  {
   "cell_type": "code",
   "execution_count": 5,
   "metadata": {},
   "outputs": [],
   "source": [
    "# Convierto el nombre del area a category.\n",
    "avisos_detalles['nombre_area'] = avisos_detalles['nombre_area'].astype('category')"
   ]
  },
  {
   "cell_type": "code",
   "execution_count": 6,
   "metadata": {},
   "outputs": [],
   "source": [
    "# Agrego tipo categorico y modifico el tipo de dato de la fecha.\n",
    "post_gen_edad.fechanacimiento = post_gen_edad.fechanacimiento.apply(pd.to_datetime, errors='coerce')\n",
    "\n",
    "now = pd.Timestamp(dt.datetime.now())\n",
    "pd.to_datetime(now)\n",
    "post_gen_edad['edad'] = (now - pd.to_datetime(post_gen_edad['fechanacimiento'])).astype('<m8[Y]')"
   ]
  },
  {
   "cell_type": "code",
   "execution_count": 7,
   "metadata": {},
   "outputs": [],
   "source": [
    "# Renombramos algunas columnas para unificar criterios.\n",
    "vistas.rename(columns={\"idAviso\":\"idaviso\"}, inplace=True)\n",
    "vistas.rename(columns={\"timestamp\":\"fechavista\"}, inplace=True)\n",
    "\n",
    "# Cambiar el tipo de dato de la fecha de vista.\n",
    "vistas[['fechavista']] = vistas[['fechavista']].apply(pd.to_datetime)"
   ]
  },
  {
   "cell_type": "markdown",
   "metadata": {},
   "source": [
    "### 1.4. Ajustes de los Archivos antes de procesar"
   ]
  },
  {
   "cell_type": "markdown",
   "metadata": {},
   "source": [
    "#### 1.4.1 Merges necesarios"
   ]
  },
  {
   "cell_type": "code",
   "execution_count": 124,
   "metadata": {},
   "outputs": [],
   "source": [
    "usuarios_detalle                             = pd.merge(post_educacion, post_gen_edad, how='inner', left_on='idpostulante', right_on='idpostulante')\n",
    "postulaciones_con_detalle_de_aviso           = pd.merge(postulaciones, avisos_detalles, how='inner', left_on='idaviso', right_on='idaviso')\n",
    "postulaciones_con_detalle_de_aviso_y_usuario = pd.merge(postulaciones_con_detalle_de_aviso, usuarios_detalle, how='inner', left_on='idpostulante', right_on='idpostulante')\n",
    "visitas_con_detalle_de_aviso                 = pd.merge(vistas, avisos_detalles, how='inner', left_on='idaviso', right_on='idaviso')\n",
    "visitas_con_detalle_de_aviso_y_usuario       = pd.merge(visitas_con_detalle_de_aviso, usuarios_detalle, how='inner', left_on='idpostulante', right_on='idpostulante')"
   ]
  },
  {
   "cell_type": "markdown",
   "metadata": {},
   "source": [
    "#### 1.4.2 Busqueda de Maxima Educación"
   ]
  },
  {
   "cell_type": "code",
   "execution_count": 8,
   "metadata": {},
   "outputs": [],
   "source": [
    "# Asigno puntajes a los diferentes niveles educativos encontrados para poder \n",
    "# obtener asi la educacion mas valiosa (la de nivel academico mas alto) de cada postulante.\n",
    "valores_educacion = pd.DataFrame({\n",
    "    'nombre': ['Otro',  'Otro',  'Otro',  'Secundario',  'Secundario',  'Secundario',  'Terciario/Técnico', 'Universitario',  \\\n",
    "              'Terciario/Técnico', 'Universitario',  'Terciario/Técnico', 'Universitario',  'Posgrado', 'Master','Posgrado', \\\n",
    "              'Master','Posgrado', 'Master','Doctorado','Doctorado','Doctorado'],\n",
    "    'estado': ['Abandonado', 'En Curso','Graduado','Abandonado', 'En Curso','Graduado','Abandonado', 'Abandonado', 'En Curso',\\\n",
    "              'En Curso','Graduado','Graduado','Abandonado', 'Abandonado', 'En Curso','En Curso','Graduado','Graduado',\\\n",
    "              'Abandonado', 'En Curso','Graduado'],\n",
    "    'valor_educacion': [1 , 2 , 3 , 4, 5,6 ,7 ,8 ,9,10, 11, 12, 13, 14, 15, 16, 17, 18, 19, 20, 21]})\n",
    "\n",
    "# Y le pongo las mismas categorias que ya habia encontrado previamente.\n",
    "valores_educacion.nombre = valores_educacion.nombre.astype((pd.api.types.CategoricalDtype(post_educacion.nombre.cat.categories)))\n",
    "valores_educacion.estado = valores_educacion.estado.astype((pd.api.types.CategoricalDtype(post_educacion.estado.cat.categories)))"
   ]
  },
  {
   "cell_type": "code",
   "execution_count": 9,
   "metadata": {},
   "outputs": [],
   "source": [
    "# Hago el join para aplicar puntajes a las educaciones de los postulantes.\n",
    "post_educacion = pd.merge(post_educacion, valores_educacion, how='inner', \\\n",
    "                          left_on=['nombre','estado'], right_on = ['nombre','estado'])\n",
    "\n",
    "# Cuento cuantos registros tengo actualmente, para comprobar que no hay errores mas adelante.\n",
    "# post_educacion.count()"
   ]
  },
  {
   "cell_type": "code",
   "execution_count": 10,
   "metadata": {},
   "outputs": [],
   "source": [
    "# Busco la maxima educacion que tiene cada postulante.\n",
    "max_post_educacion = post_educacion.groupby(['idpostulante'])['valor_educacion'].max().reset_index()\n",
    "\n",
    "# Controlo cuantas lineas me devolvio.\n",
    "# max_post_educacion.count()"
   ]
  },
  {
   "cell_type": "code",
   "execution_count": 11,
   "metadata": {},
   "outputs": [],
   "source": [
    "# Hago el join para filtrar todas las educaciones que no me interesan, dejando solo la maxima educacion.\n",
    "post_educacion = pd.merge(post_educacion, max_post_educacion,  how='inner', \\\n",
    "                          left_on=['idpostulante','valor_educacion'], \\\n",
    "                          right_on = ['idpostulante','valor_educacion'])\n",
    "\n",
    "# post_educacion.count()"
   ]
  },
  {
   "cell_type": "code",
   "execution_count": 19,
   "metadata": {},
   "outputs": [],
   "source": [
    "post_educacion_graph = post_educacion.groupby(['nombre', 'estado', 'valor_educacion'])['idpostulante'].count().reset_index()\n",
    "post_educacion_graph['resumen'] = post_educacion_graph.nombre.astype('object') + ' ' + post_educacion_graph.estado.astype('object')\n",
    "post_educacion_graph.sort_values('valor_educacion', inplace=True)\n",
    "post_educacion_graph.reset_index()\n",
    "post_educacion_graph.drop(['nombre', 'estado', 'valor_educacion'], axis=1, inplace=True)\n",
    "post_educacion_graph.rename(columns= {'idpostulante' : 'Cantidad de Postulantes'}, inplace=True)\n",
    "\n",
    "# post_educacion_graph.head(22)"
   ]
  },
  {
   "cell_type": "code",
   "execution_count": 20,
   "metadata": {},
   "outputs": [
    {
     "data": {
      "image/png": "[encoded data removed]",
      "text/plain": [
       "<matplotlib.figure.Figure at 0x2313a772cc0>"
      ]
     },
     "metadata": {},
     "output_type": "display_data"
    }
   ],
   "source": [
    "post_educacion_graph = post_educacion_graph[['resumen','Cantidad de Postulantes']].plot(kind='bar', x = 'resumen',                                                           \n",
    "                                                           title =\"Cantidad de Postulantes segun Nivel Educativo\", \n",
    "                                                           figsize=(15, 5), legend=True, fontsize=12)\n",
    "post_educacion_graph.set_xlabel(\"\", fontsize=12)\n",
    "post_educacion_graph.set_ylabel(\"Cantidad de Postulantes\", fontsize=12)\n",
    "plt.show()"
   ]
  },
  {
   "cell_type": "markdown",
   "metadata": {},
   "source": [
    "## 2.1. Perfil de Postulantes"
   ]
  },
  {
   "cell_type": "code",
   "execution_count": 100,
   "metadata": {},
   "outputs": [
    {
     "data": {
      "text/html": [
       "<div>\n",
       "<style scoped>\n",
       "    .dataframe tbody tr th:only-of-type {\n",
       "        vertical-align: middle;\n",
       "    }\n",
       "\n",
       "    .dataframe tbody tr th {\n",
       "        vertical-align: top;\n",
       "    }\n",
       "\n",
       "    .dataframe thead th {\n",
       "        text-align: right;\n",
       "    }\n",
       "</style>\n",
       "<table border=\"1\" class=\"dataframe\">\n",
       "  <thead>\n",
       "    <tr style=\"text-align: right;\">\n",
       "      <th></th>\n",
       "      <th>idpostulante</th>\n",
       "      <th>valor_educacion</th>\n",
       "      <th>fechanacimiento</th>\n",
       "      <th>sexo</th>\n",
       "      <th>edad</th>\n",
       "    </tr>\n",
       "  </thead>\n",
       "  <tbody>\n",
       "    <tr>\n",
       "      <th>0</th>\n",
       "      <td>0z5VvGv</td>\n",
       "      <td>6</td>\n",
       "      <td>1987-10-18</td>\n",
       "      <td>MASC</td>\n",
       "      <td>30.0</td>\n",
       "    </tr>\n",
       "    <tr>\n",
       "      <th>1</th>\n",
       "      <td>0zB026d</td>\n",
       "      <td>11</td>\n",
       "      <td>1978-02-23</td>\n",
       "      <td>FEM</td>\n",
       "      <td>40.0</td>\n",
       "    </tr>\n",
       "    <tr>\n",
       "      <th>2</th>\n",
       "      <td>0zB03O9</td>\n",
       "      <td>9</td>\n",
       "      <td>1987-07-04</td>\n",
       "      <td>FEM</td>\n",
       "      <td>30.0</td>\n",
       "    </tr>\n",
       "    <tr>\n",
       "      <th>3</th>\n",
       "      <td>0zB08lq</td>\n",
       "      <td>6</td>\n",
       "      <td>1972-06-09</td>\n",
       "      <td>MASC</td>\n",
       "      <td>45.0</td>\n",
       "    </tr>\n",
       "    <tr>\n",
       "      <th>4</th>\n",
       "      <td>0zB0NWY</td>\n",
       "      <td>12</td>\n",
       "      <td>1987-09-20</td>\n",
       "      <td>FEM</td>\n",
       "      <td>30.0</td>\n",
       "    </tr>\n",
       "  </tbody>\n",
       "</table>\n",
       "</div>"
      ],
      "text/plain": [
       "  idpostulante  valor_educacion fechanacimiento  sexo  edad\n",
       "0      0z5VvGv                6      1987-10-18  MASC  30.0\n",
       "1      0zB026d               11      1978-02-23   FEM  40.0\n",
       "2      0zB03O9                9      1987-07-04   FEM  30.0\n",
       "3      0zB08lq                6      1972-06-09  MASC  45.0\n",
       "4      0zB0NWY               12      1987-09-20   FEM  30.0"
      ]
     },
     "execution_count": 100,
     "metadata": {},
     "output_type": "execute_result"
    }
   ],
   "source": [
    "# Generamos un perfil sobre el postulante en base a los datos que tenemos, educacion, edad.\n",
    "postulantes = pd.merge(max_post_educacion, post_gen_edad)\n",
    "pd.to_datetime(postulantes['fechanacimiento'])\n",
    "postulantes['edad'] = (now - pd.to_datetime(postulantes['fechanacimiento'])).astype('<m8[Y]')\n",
    "pd.to_numeric(postulantes['edad'])\n",
    "\n",
    "# Dejo solo los mayores de edad y menores a la edad de jubilacion\n",
    "postulantes_filtrados_por_edad = postulantes.loc[(postulantes['edad'] >= 18) & (postulantes['edad'] <= 65)].reset_index()\n",
    "postulantes_filtrados_por_edad.drop('index', inplace=True, axis=1)\n",
    "\n",
    "postulantes_filtrados_por_edad.head()"
   ]
  },
  {
   "cell_type": "code",
   "execution_count": 101,
   "metadata": {},
   "outputs": [],
   "source": [
    "# Creo un nuevo DataFrame de los postulantes y el area para el cual se postulan con mas frecuencia.\n",
    "postulantes_areas = pd.merge(postulaciones, avisos_detalles, how='inner', on='idaviso')\n",
    "postulantes_areas = pd.DataFrame(postulantes_areas.groupby(['idpostulante', 'nombre_area'])['idaviso'].count()).reset_index()\n",
    "postulantes_areas = pd.DataFrame(postulantes_areas.sort_values(['idpostulante','idaviso'], ascending=False))\n",
    "postulantes_areas = postulantes_areas.groupby(['idpostulante']).first()\n",
    "postulantes_areas.drop('idaviso', inplace=True, axis=1)\n",
    "postulantes_areas = postulantes_areas.reset_index()"
   ]
  },
  {
   "cell_type": "code",
   "execution_count": 102,
   "metadata": {},
   "outputs": [],
   "source": [
    "postulantes_filtrados_por_edad.set_index('idpostulante', inplace=True)\n",
    "postulantes_areas.set_index('idpostulante', inplace=True)\n",
    "\n",
    "postulantes_filtrados_por_edad.index.name = None\n",
    "postulantes_areas.index.name = None"
   ]
  },
  {
   "cell_type": "code",
   "execution_count": 103,
   "metadata": {},
   "outputs": [],
   "source": [
    "postulantes_filtrados_por_edad = pd.concat([postulantes_filtrados_por_edad, postulantes_areas], axis=1)"
   ]
  },
  {
   "cell_type": "code",
   "execution_count": 104,
   "metadata": {},
   "outputs": [
    {
     "data": {
      "text/html": [
       "<div>\n",
       "<style scoped>\n",
       "    .dataframe tbody tr th:only-of-type {\n",
       "        vertical-align: middle;\n",
       "    }\n",
       "\n",
       "    .dataframe tbody tr th {\n",
       "        vertical-align: top;\n",
       "    }\n",
       "\n",
       "    .dataframe thead tr th {\n",
       "        text-align: left;\n",
       "    }\n",
       "\n",
       "    .dataframe thead tr:last-of-type th {\n",
       "        text-align: right;\n",
       "    }\n",
       "</style>\n",
       "<table border=\"1\" class=\"dataframe\">\n",
       "  <thead>\n",
       "    <tr>\n",
       "      <th></th>\n",
       "      <th colspan=\"3\" halign=\"left\">edad</th>\n",
       "    </tr>\n",
       "    <tr>\n",
       "      <th></th>\n",
       "      <th>min</th>\n",
       "      <th>max</th>\n",
       "      <th>mean</th>\n",
       "    </tr>\n",
       "    <tr>\n",
       "      <th>nombre_area</th>\n",
       "      <th></th>\n",
       "      <th></th>\n",
       "      <th></th>\n",
       "    </tr>\n",
       "  </thead>\n",
       "  <tbody>\n",
       "    <tr>\n",
       "      <th>Farmacéutica</th>\n",
       "      <td>18.0</td>\n",
       "      <td>63.0</td>\n",
       "      <td>40.177778</td>\n",
       "    </tr>\n",
       "    <tr>\n",
       "      <th>Seguridad e Higiene</th>\n",
       "      <td>18.0</td>\n",
       "      <td>64.0</td>\n",
       "      <td>40.066667</td>\n",
       "    </tr>\n",
       "    <tr>\n",
       "      <th>Salud</th>\n",
       "      <td>18.0</td>\n",
       "      <td>65.0</td>\n",
       "      <td>41.978723</td>\n",
       "    </tr>\n",
       "    <tr>\n",
       "      <th>Redes, Servidores y Soporte Técnico</th>\n",
       "      <td>18.0</td>\n",
       "      <td>61.0</td>\n",
       "      <td>39.500000</td>\n",
       "    </tr>\n",
       "    <tr>\n",
       "      <th>Recepcionista / Secretaria</th>\n",
       "      <td>18.0</td>\n",
       "      <td>65.0</td>\n",
       "      <td>41.500000</td>\n",
       "    </tr>\n",
       "    <tr>\n",
       "      <th>RRHH</th>\n",
       "      <td>18.0</td>\n",
       "      <td>65.0</td>\n",
       "      <td>41.500000</td>\n",
       "    </tr>\n",
       "    <tr>\n",
       "      <th>Química y Laboratorio</th>\n",
       "      <td>18.0</td>\n",
       "      <td>63.0</td>\n",
       "      <td>38.690476</td>\n",
       "    </tr>\n",
       "    <tr>\n",
       "      <th>Seguros</th>\n",
       "      <td>18.0</td>\n",
       "      <td>64.0</td>\n",
       "      <td>37.850000</td>\n",
       "    </tr>\n",
       "    <tr>\n",
       "      <th>Promotoras/es</th>\n",
       "      <td>18.0</td>\n",
       "      <td>48.0</td>\n",
       "      <td>27.000000</td>\n",
       "    </tr>\n",
       "    <tr>\n",
       "      <th>Planeamiento</th>\n",
       "      <td>18.0</td>\n",
       "      <td>59.0</td>\n",
       "      <td>35.428571</td>\n",
       "    </tr>\n",
       "    <tr>\n",
       "      <th>Turismo y Hotelería</th>\n",
       "      <td>18.0</td>\n",
       "      <td>54.0</td>\n",
       "      <td>34.393939</td>\n",
       "    </tr>\n",
       "    <tr>\n",
       "      <th>Pasantía / Trainee</th>\n",
       "      <td>18.0</td>\n",
       "      <td>61.0</td>\n",
       "      <td>31.181818</td>\n",
       "    </tr>\n",
       "    <tr>\n",
       "      <th>Logística</th>\n",
       "      <td>18.0</td>\n",
       "      <td>64.0</td>\n",
       "      <td>41.000000</td>\n",
       "    </tr>\n",
       "    <tr>\n",
       "      <th>Mantenimiento y Limpieza</th>\n",
       "      <td>18.0</td>\n",
       "      <td>65.0</td>\n",
       "      <td>41.500000</td>\n",
       "    </tr>\n",
       "    <tr>\n",
       "      <th>Marketing</th>\n",
       "      <td>18.0</td>\n",
       "      <td>60.0</td>\n",
       "      <td>38.292683</td>\n",
       "    </tr>\n",
       "    <tr>\n",
       "      <th>Producción</th>\n",
       "      <td>18.0</td>\n",
       "      <td>64.0</td>\n",
       "      <td>41.000000</td>\n",
       "    </tr>\n",
       "    <tr>\n",
       "      <th>Gastronomía</th>\n",
       "      <td>18.0</td>\n",
       "      <td>61.0</td>\n",
       "      <td>39.500000</td>\n",
       "    </tr>\n",
       "    <tr>\n",
       "      <th>Oficios y Profesiones</th>\n",
       "      <td>18.0</td>\n",
       "      <td>59.0</td>\n",
       "      <td>37.600000</td>\n",
       "    </tr>\n",
       "    <tr>\n",
       "      <th>Servicios</th>\n",
       "      <td>18.0</td>\n",
       "      <td>63.0</td>\n",
       "      <td>36.222222</td>\n",
       "    </tr>\n",
       "    <tr>\n",
       "      <th>Arquitectura y Diseño</th>\n",
       "      <td>18.0</td>\n",
       "      <td>64.0</td>\n",
       "      <td>40.543478</td>\n",
       "    </tr>\n",
       "    <tr>\n",
       "      <th>Asesoría Legal y Comercio Internacional</th>\n",
       "      <td>18.0</td>\n",
       "      <td>65.0</td>\n",
       "      <td>40.111111</td>\n",
       "    </tr>\n",
       "    <tr>\n",
       "      <th>Asistente</th>\n",
       "      <td>18.0</td>\n",
       "      <td>57.0</td>\n",
       "      <td>36.108108</td>\n",
       "    </tr>\n",
       "    <tr>\n",
       "      <th>Auditoría y Legal</th>\n",
       "      <td>18.0</td>\n",
       "      <td>65.0</td>\n",
       "      <td>39.659091</td>\n",
       "    </tr>\n",
       "    <tr>\n",
       "      <th>Back Office</th>\n",
       "      <td>18.0</td>\n",
       "      <td>61.0</td>\n",
       "      <td>36.216216</td>\n",
       "    </tr>\n",
       "    <tr>\n",
       "      <th>Comercial y Ventas</th>\n",
       "      <td>18.0</td>\n",
       "      <td>65.0</td>\n",
       "      <td>41.500000</td>\n",
       "    </tr>\n",
       "    <tr>\n",
       "      <th>Comunicación</th>\n",
       "      <td>18.0</td>\n",
       "      <td>60.0</td>\n",
       "      <td>38.121951</td>\n",
       "    </tr>\n",
       "    <tr>\n",
       "      <th>Construcción</th>\n",
       "      <td>18.0</td>\n",
       "      <td>63.0</td>\n",
       "      <td>40.977778</td>\n",
       "    </tr>\n",
       "    <tr>\n",
       "      <th>Consultoria</th>\n",
       "      <td>18.0</td>\n",
       "      <td>63.0</td>\n",
       "      <td>40.500000</td>\n",
       "    </tr>\n",
       "    <tr>\n",
       "      <th>Contabilidad y Administración</th>\n",
       "      <td>18.0</td>\n",
       "      <td>65.0</td>\n",
       "      <td>41.500000</td>\n",
       "    </tr>\n",
       "    <tr>\n",
       "      <th>Control y Calidad</th>\n",
       "      <td>18.0</td>\n",
       "      <td>61.0</td>\n",
       "      <td>38.268293</td>\n",
       "    </tr>\n",
       "    <tr>\n",
       "      <th>Telecomunicaciones</th>\n",
       "      <td>18.0</td>\n",
       "      <td>56.0</td>\n",
       "      <td>35.303030</td>\n",
       "    </tr>\n",
       "    <tr>\n",
       "      <th>Tecnología y Sistemas</th>\n",
       "      <td>18.0</td>\n",
       "      <td>63.0</td>\n",
       "      <td>40.500000</td>\n",
       "    </tr>\n",
       "    <tr>\n",
       "      <th>Dirección y Liderazgo</th>\n",
       "      <td>18.0</td>\n",
       "      <td>64.0</td>\n",
       "      <td>41.456522</td>\n",
       "    </tr>\n",
       "    <tr>\n",
       "      <th>Educación</th>\n",
       "      <td>18.0</td>\n",
       "      <td>65.0</td>\n",
       "      <td>39.704545</td>\n",
       "    </tr>\n",
       "    <tr>\n",
       "      <th>Otros</th>\n",
       "      <td>18.0</td>\n",
       "      <td>62.0</td>\n",
       "      <td>39.863636</td>\n",
       "    </tr>\n",
       "    <tr>\n",
       "      <th>Análisis Funcional</th>\n",
       "      <td>19.0</td>\n",
       "      <td>61.0</td>\n",
       "      <td>40.000000</td>\n",
       "    </tr>\n",
       "    <tr>\n",
       "      <th>Ingeniería en Alimentos</th>\n",
       "      <td>19.0</td>\n",
       "      <td>59.0</td>\n",
       "      <td>37.483871</td>\n",
       "    </tr>\n",
       "    <tr>\n",
       "      <th>Corporate Finance / Banca Inversión</th>\n",
       "      <td>19.0</td>\n",
       "      <td>56.0</td>\n",
       "      <td>36.000000</td>\n",
       "    </tr>\n",
       "    <tr>\n",
       "      <th>Desarrollo de Negocios</th>\n",
       "      <td>19.0</td>\n",
       "      <td>61.0</td>\n",
       "      <td>38.538462</td>\n",
       "    </tr>\n",
       "    <tr>\n",
       "      <th>Jóvenes Profesionales</th>\n",
       "      <td>19.0</td>\n",
       "      <td>52.0</td>\n",
       "      <td>32.538462</td>\n",
       "    </tr>\n",
       "    <tr>\n",
       "      <th>Ingeniería de Procesos</th>\n",
       "      <td>19.0</td>\n",
       "      <td>55.0</td>\n",
       "      <td>35.606061</td>\n",
       "    </tr>\n",
       "    <tr>\n",
       "      <th>Ingeniería Oficina Técnica / Proyecto</th>\n",
       "      <td>19.0</td>\n",
       "      <td>62.0</td>\n",
       "      <td>40.675000</td>\n",
       "    </tr>\n",
       "    <tr>\n",
       "      <th>Mineria/Petroleo/Gas</th>\n",
       "      <td>19.0</td>\n",
       "      <td>65.0</td>\n",
       "      <td>41.111111</td>\n",
       "    </tr>\n",
       "    <tr>\n",
       "      <th>Ingeniería Electromecánica</th>\n",
       "      <td>21.0</td>\n",
       "      <td>65.0</td>\n",
       "      <td>42.292683</td>\n",
       "    </tr>\n",
       "    <tr>\n",
       "      <th>Organización y Métodos</th>\n",
       "      <td>21.0</td>\n",
       "      <td>57.0</td>\n",
       "      <td>36.560000</td>\n",
       "    </tr>\n",
       "    <tr>\n",
       "      <th>Ingeniería Civil</th>\n",
       "      <td>21.0</td>\n",
       "      <td>65.0</td>\n",
       "      <td>42.046512</td>\n",
       "    </tr>\n",
       "    <tr>\n",
       "      <th>Infraestructura</th>\n",
       "      <td>21.0</td>\n",
       "      <td>58.0</td>\n",
       "      <td>36.892857</td>\n",
       "    </tr>\n",
       "    <tr>\n",
       "      <th>Ingeniería Agrónoma</th>\n",
       "      <td>22.0</td>\n",
       "      <td>62.0</td>\n",
       "      <td>36.964286</td>\n",
       "    </tr>\n",
       "    <tr>\n",
       "      <th>Media Planning</th>\n",
       "      <td>23.0</td>\n",
       "      <td>50.0</td>\n",
       "      <td>34.200000</td>\n",
       "    </tr>\n",
       "    <tr>\n",
       "      <th>Evaluación Económica</th>\n",
       "      <td>23.0</td>\n",
       "      <td>44.0</td>\n",
       "      <td>33.230769</td>\n",
       "    </tr>\n",
       "    <tr>\n",
       "      <th>Independientes</th>\n",
       "      <td>25.0</td>\n",
       "      <td>56.0</td>\n",
       "      <td>37.642857</td>\n",
       "    </tr>\n",
       "    <tr>\n",
       "      <th>Ingeniería de Ventas</th>\n",
       "      <td>26.0</td>\n",
       "      <td>63.0</td>\n",
       "      <td>40.277778</td>\n",
       "    </tr>\n",
       "    <tr>\n",
       "      <th>Operaciones</th>\n",
       "      <td>27.0</td>\n",
       "      <td>55.0</td>\n",
       "      <td>42.428571</td>\n",
       "    </tr>\n",
       "    <tr>\n",
       "      <th>Medio Ambiente</th>\n",
       "      <td>27.0</td>\n",
       "      <td>56.0</td>\n",
       "      <td>38.857143</td>\n",
       "    </tr>\n",
       "  </tbody>\n",
       "</table>\n",
       "</div>"
      ],
      "text/plain": [
       "                                         edad                 \n",
       "                                          min   max       mean\n",
       "nombre_area                                                   \n",
       "Farmacéutica                             18.0  63.0  40.177778\n",
       "Seguridad e Higiene                      18.0  64.0  40.066667\n",
       "Salud                                    18.0  65.0  41.978723\n",
       "Redes, Servidores y Soporte Técnico      18.0  61.0  39.500000\n",
       "Recepcionista / Secretaria               18.0  65.0  41.500000\n",
       "RRHH                                     18.0  65.0  41.500000\n",
       "Química y Laboratorio                    18.0  63.0  38.690476\n",
       "Seguros                                  18.0  64.0  37.850000\n",
       "Promotoras/es                            18.0  48.0  27.000000\n",
       "Planeamiento                             18.0  59.0  35.428571\n",
       "Turismo y Hotelería                      18.0  54.0  34.393939\n",
       "Pasantía / Trainee                       18.0  61.0  31.181818\n",
       "Logística                                18.0  64.0  41.000000\n",
       "Mantenimiento y Limpieza                 18.0  65.0  41.500000\n",
       "Marketing                                18.0  60.0  38.292683\n",
       "Producción                               18.0  64.0  41.000000\n",
       "Gastronomía                              18.0  61.0  39.500000\n",
       "Oficios y Profesiones                    18.0  59.0  37.600000\n",
       "Servicios                                18.0  63.0  36.222222\n",
       "Arquitectura y Diseño                    18.0  64.0  40.543478\n",
       "Asesoría Legal y Comercio Internacional  18.0  65.0  40.111111\n",
       "Asistente                                18.0  57.0  36.108108\n",
       "Auditoría y Legal                        18.0  65.0  39.659091\n",
       "Back Office                              18.0  61.0  36.216216\n",
       "Comercial y Ventas                       18.0  65.0  41.500000\n",
       "Comunicación                             18.0  60.0  38.121951\n",
       "Construcción                             18.0  63.0  40.977778\n",
       "Consultoria                              18.0  63.0  40.500000\n",
       "Contabilidad y Administración            18.0  65.0  41.500000\n",
       "Control y Calidad                        18.0  61.0  38.268293\n",
       "Telecomunicaciones                       18.0  56.0  35.303030\n",
       "Tecnología y Sistemas                    18.0  63.0  40.500000\n",
       "Dirección y Liderazgo                    18.0  64.0  41.456522\n",
       "Educación                                18.0  65.0  39.704545\n",
       "Otros                                    18.0  62.0  39.863636\n",
       "Análisis Funcional                       19.0  61.0  40.000000\n",
       "Ingeniería en Alimentos                  19.0  59.0  37.483871\n",
       "Corporate Finance / Banca Inversión      19.0  56.0  36.000000\n",
       "Desarrollo de Negocios                   19.0  61.0  38.538462\n",
       "Jóvenes Profesionales                    19.0  52.0  32.538462\n",
       "Ingeniería de Procesos                   19.0  55.0  35.606061\n",
       "Ingeniería Oficina Técnica / Proyecto    19.0  62.0  40.675000\n",
       "Mineria/Petroleo/Gas                     19.0  65.0  41.111111\n",
       "Ingeniería Electromecánica               21.0  65.0  42.292683\n",
       "Organización y Métodos                   21.0  57.0  36.560000\n",
       "Ingeniería Civil                         21.0  65.0  42.046512\n",
       "Infraestructura                          21.0  58.0  36.892857\n",
       "Ingeniería Agrónoma                      22.0  62.0  36.964286\n",
       "Media Planning                           23.0  50.0  34.200000\n",
       "Evaluación Económica                     23.0  44.0  33.230769\n",
       "Independientes                           25.0  56.0  37.642857\n",
       "Ingeniería de Ventas                     26.0  63.0  40.277778\n",
       "Operaciones                              27.0  55.0  42.428571\n",
       "Medio Ambiente                           27.0  56.0  38.857143"
      ]
     },
     "execution_count": 104,
     "metadata": {},
     "output_type": "execute_result"
    }
   ],
   "source": [
    "postulantes_area_edad = postulantes_filtrados_por_edad.groupby(['nombre_area', 'edad']).count().reset_index()\n",
    "postulantes_area_edad.drop(['valor_educacion', 'fechanacimiento', 'sexo'], inplace=True, axis=1)\n",
    "postulantes_area_edad = postulantes_area_edad.groupby('nombre_area').agg(['min', 'max', 'mean'])\n",
    "postulantes_area_edad.sort_values([('edad', 'min')], inplace=True)\n",
    "postulantes_area_edad = postulantes_area_edad[postulantes_area_edad[('edad', 'min')] != postulantes_area_edad[('edad', 'max')]]\n",
    "postulantes_area_edad"
   ]
  },
  {
   "cell_type": "markdown",
   "metadata": {},
   "source": [
    "### 2.2. Analisis de los Avisos"
   ]
  },
  {
   "cell_type": "markdown",
   "metadata": {},
   "source": [
    "#### 2.2.1 Cantidad de avisos en los diferentes niveles laborales\n"
   ]
  },
  {
   "cell_type": "code",
   "execution_count": 106,
   "metadata": {},
   "outputs": [
    {
     "data": {
      "image/png": "[encoded data removed]",
      "text/plain": [
       "<matplotlib.figure.Figure at 0x2313b8b80f0>"
      ]
     },
     "metadata": {},
     "output_type": "display_data"
    }
   ],
   "source": [
    "ax = plt.gca()\n",
    "avisos_detalles.groupby('nivel_laboral')['nivel_laboral'].count().sort_values(ascending=False)\\\n",
    "               .plot(kind='barh', color=\"orange\", title=\"Cantidad de avisos por nivel laboral\");\n",
    "ax.set_xlabel('Cantidad de avisos')\n",
    "ax.set_ylabel('Nivel laboral');"
   ]
  },
  {
   "cell_type": "markdown",
   "metadata": {},
   "source": [
    "#### 2.2.2 Cuales son las areas laborales con mayor cantidad de avisos?\n"
   ]
  },
  {
   "cell_type": "code",
   "execution_count": 112,
   "metadata": {},
   "outputs": [
    {
     "data": {
      "image/png": "[encoded data removed]",
      "text/plain": [
       "<matplotlib.figure.Figure at 0x23102fb45c0>"
      ]
     },
     "metadata": {},
     "output_type": "display_data"
    }
   ],
   "source": [
    "ax = plt.gca()\n",
    "avisos_detalles.groupby('nombre_area')['nombre_area'].count().sort_values(ascending=False).head(15) \\\n",
    "               .plot(kind='barh', color='orange',figsize=(14,5), title=\"Areas laborales con mayor cantidad de avisos\");\n",
    "ax.set_xlabel('Cantidad de avisos');\n",
    "ax.set_ylabel('Nombre del area');"
   ]
  },
  {
   "cell_type": "markdown",
   "metadata": {},
   "source": [
    "#### 2.2.3 Areas Laborales con Menor Cantidad de Avisos"
   ]
  },
  {
   "cell_type": "code",
   "execution_count": 117,
   "metadata": {},
   "outputs": [
    {
     "data": {
      "image/png": "[encoded data removed]",
      "text/plain": [
       "<matplotlib.figure.Figure at 0x231039096a0>"
      ]
     },
     "metadata": {},
     "output_type": "display_data"
    }
   ],
   "source": [
    "ax = plt.gca()\n",
    "avisos_detalles.groupby('nombre_area')['nombre_area'].count().sort_values(ascending=True).head(15).sort_values(ascending=False)\\\n",
    "               .plot(kind='barh', figsize=(14,5), color='orange', title='Areas laborales con menor cantidad de avisos');\n",
    "ax.set_xlabel('Cantidad de avisos');\n",
    "ax.set_ylabel('Nombre del area');"
   ]
  },
  {
   "cell_type": "markdown",
   "metadata": {},
   "source": [
    "#### 2.2.4 Cuales son las Areas Laborales con Mayor Cantidad de Postulaciones"
   ]
  },
  {
   "cell_type": "code",
   "execution_count": null,
   "metadata": {},
   "outputs": [],
   "source": [
    "ax = plt.gca()\n",
    "postulaciones_con_detalle_de_aviso.groupby('nombre_area')['nombre_area'].count().sort_values(ascending=False).head(30)\\\n",
    "                                     .plot(kind='barh', figsize=(15,12), color='orange', title='Areas laborales con la mayor cantidad de postulaciones');\n",
    "ax.set_xlabel('Cantidad de postulaciones');\n",
    "ax.set_ylabel('Nombre del area');"
   ]
  },
  {
   "cell_type": "code",
   "execution_count": null,
   "metadata": {},
   "outputs": [],
   "source": []
  },
  {
   "cell_type": "code",
   "execution_count": null,
   "metadata": {},
   "outputs": [],
   "source": []
  },
  {
   "cell_type": "code",
   "execution_count": null,
   "metadata": {},
   "outputs": [],
   "source": []
  },
  {
   "cell_type": "code",
   "execution_count": null,
   "metadata": {},
   "outputs": [],
   "source": []
  },
  {
   "cell_type": "code",
   "execution_count": null,
   "metadata": {},
   "outputs": [],
   "source": []
  },
  {
   "cell_type": "code",
   "execution_count": null,
   "metadata": {},
   "outputs": [],
   "source": []
  },
  {
   "cell_type": "code",
   "execution_count": null,
   "metadata": {},
   "outputs": [],
   "source": []
  },
  {
   "cell_type": "code",
   "execution_count": null,
   "metadata": {},
   "outputs": [],
   "source": []
  },
  {
   "cell_type": "code",
   "execution_count": 14,
   "metadata": {},
   "outputs": [
    {
     "data": {
      "text/html": [
       "<div>\n",
       "<style scoped>\n",
       "    .dataframe tbody tr th:only-of-type {\n",
       "        vertical-align: middle;\n",
       "    }\n",
       "\n",
       "    .dataframe tbody tr th {\n",
       "        vertical-align: top;\n",
       "    }\n",
       "\n",
       "    .dataframe thead th {\n",
       "        text-align: right;\n",
       "    }\n",
       "</style>\n",
       "<table border=\"1\" class=\"dataframe\">\n",
       "  <thead>\n",
       "    <tr style=\"text-align: right;\">\n",
       "      <th></th>\n",
       "      <th>idpostulante</th>\n",
       "      <th>nombre</th>\n",
       "      <th>estado</th>\n",
       "      <th>valor_educacion</th>\n",
       "    </tr>\n",
       "  </thead>\n",
       "  <tbody>\n",
       "    <tr>\n",
       "      <th>0</th>\n",
       "      <td>NdJl</td>\n",
       "      <td>Posgrado</td>\n",
       "      <td>En Curso</td>\n",
       "      <td>15</td>\n",
       "    </tr>\n",
       "    <tr>\n",
       "      <th>1</th>\n",
       "      <td>axaPJ</td>\n",
       "      <td>Posgrado</td>\n",
       "      <td>En Curso</td>\n",
       "      <td>15</td>\n",
       "    </tr>\n",
       "    <tr>\n",
       "      <th>2</th>\n",
       "      <td>Z48mz</td>\n",
       "      <td>Posgrado</td>\n",
       "      <td>En Curso</td>\n",
       "      <td>15</td>\n",
       "    </tr>\n",
       "    <tr>\n",
       "      <th>3</th>\n",
       "      <td>a4zEZ</td>\n",
       "      <td>Posgrado</td>\n",
       "      <td>En Curso</td>\n",
       "      <td>15</td>\n",
       "    </tr>\n",
       "    <tr>\n",
       "      <th>4</th>\n",
       "      <td>6AWqO</td>\n",
       "      <td>Posgrado</td>\n",
       "      <td>En Curso</td>\n",
       "      <td>15</td>\n",
       "    </tr>\n",
       "  </tbody>\n",
       "</table>\n",
       "</div>"
      ],
      "text/plain": [
       "  idpostulante    nombre    estado  valor_educacion\n",
       "0         NdJl  Posgrado  En Curso               15\n",
       "1        axaPJ  Posgrado  En Curso               15\n",
       "2        Z48mz  Posgrado  En Curso               15\n",
       "3        a4zEZ  Posgrado  En Curso               15\n",
       "4        6AWqO  Posgrado  En Curso               15"
      ]
     },
     "execution_count": 14,
     "metadata": {},
     "output_type": "execute_result"
    }
   ],
   "source": [
    "post_educacion.head()"
   ]
  },
  {
   "cell_type": "code",
   "execution_count": 15,
   "metadata": {},
   "outputs": [
    {
     "data": {
      "text/html": [
       "<div>\n",
       "<style scoped>\n",
       "    .dataframe tbody tr th:only-of-type {\n",
       "        vertical-align: middle;\n",
       "    }\n",
       "\n",
       "    .dataframe tbody tr th {\n",
       "        vertical-align: top;\n",
       "    }\n",
       "\n",
       "    .dataframe thead th {\n",
       "        text-align: right;\n",
       "    }\n",
       "</style>\n",
       "<table border=\"1\" class=\"dataframe\">\n",
       "  <thead>\n",
       "    <tr style=\"text-align: right;\">\n",
       "      <th></th>\n",
       "      <th>idpostulante</th>\n",
       "      <th>fechanacimiento</th>\n",
       "      <th>sexo</th>\n",
       "      <th>edad</th>\n",
       "    </tr>\n",
       "  </thead>\n",
       "  <tbody>\n",
       "    <tr>\n",
       "      <th>0</th>\n",
       "      <td>NM5M</td>\n",
       "      <td>1970-12-03</td>\n",
       "      <td>FEM</td>\n",
       "      <td>47.0</td>\n",
       "    </tr>\n",
       "    <tr>\n",
       "      <th>1</th>\n",
       "      <td>5awk</td>\n",
       "      <td>1962-12-04</td>\n",
       "      <td>FEM</td>\n",
       "      <td>55.0</td>\n",
       "    </tr>\n",
       "    <tr>\n",
       "      <th>2</th>\n",
       "      <td>ZaO5</td>\n",
       "      <td>1978-08-10</td>\n",
       "      <td>FEM</td>\n",
       "      <td>39.0</td>\n",
       "    </tr>\n",
       "    <tr>\n",
       "      <th>3</th>\n",
       "      <td>NdJl</td>\n",
       "      <td>1969-05-09</td>\n",
       "      <td>MASC</td>\n",
       "      <td>48.0</td>\n",
       "    </tr>\n",
       "    <tr>\n",
       "      <th>4</th>\n",
       "      <td>eo2p</td>\n",
       "      <td>1981-02-16</td>\n",
       "      <td>MASC</td>\n",
       "      <td>37.0</td>\n",
       "    </tr>\n",
       "  </tbody>\n",
       "</table>\n",
       "</div>"
      ],
      "text/plain": [
       "  idpostulante fechanacimiento  sexo  edad\n",
       "0         NM5M      1970-12-03   FEM  47.0\n",
       "1         5awk      1962-12-04   FEM  55.0\n",
       "2         ZaO5      1978-08-10   FEM  39.0\n",
       "3         NdJl      1969-05-09  MASC  48.0\n",
       "4         eo2p      1981-02-16  MASC  37.0"
      ]
     },
     "execution_count": 15,
     "metadata": {},
     "output_type": "execute_result"
    }
   ],
   "source": [
    "post_gen_edad.head()"
   ]
  },
  {
   "cell_type": "code",
   "execution_count": 16,
   "metadata": {},
   "outputs": [
    {
     "data": {
      "text/html": [
       "<div>\n",
       "<style scoped>\n",
       "    .dataframe tbody tr th:only-of-type {\n",
       "        vertical-align: middle;\n",
       "    }\n",
       "\n",
       "    .dataframe tbody tr th {\n",
       "        vertical-align: top;\n",
       "    }\n",
       "\n",
       "    .dataframe thead th {\n",
       "        text-align: right;\n",
       "    }\n",
       "</style>\n",
       "<table border=\"1\" class=\"dataframe\">\n",
       "  <thead>\n",
       "    <tr style=\"text-align: right;\">\n",
       "      <th></th>\n",
       "      <th>idaviso</th>\n",
       "      <th>fechavista</th>\n",
       "      <th>idpostulante</th>\n",
       "    </tr>\n",
       "  </thead>\n",
       "  <tbody>\n",
       "    <tr>\n",
       "      <th>0</th>\n",
       "      <td>1111780242</td>\n",
       "      <td>2018-02-23 18:38:13.187</td>\n",
       "      <td>YjVJQ6Z</td>\n",
       "    </tr>\n",
       "    <tr>\n",
       "      <th>1</th>\n",
       "      <td>1112263876</td>\n",
       "      <td>2018-02-23 18:38:14.296</td>\n",
       "      <td>BmVpYoR</td>\n",
       "    </tr>\n",
       "    <tr>\n",
       "      <th>2</th>\n",
       "      <td>1112327963</td>\n",
       "      <td>2018-02-23 18:38:14.329</td>\n",
       "      <td>wVkBzZd</td>\n",
       "    </tr>\n",
       "    <tr>\n",
       "      <th>3</th>\n",
       "      <td>1112318643</td>\n",
       "      <td>2018-02-23 18:38:17.921</td>\n",
       "      <td>OqmP9pv</td>\n",
       "    </tr>\n",
       "    <tr>\n",
       "      <th>4</th>\n",
       "      <td>1111903673</td>\n",
       "      <td>2018-02-23 18:38:18.973</td>\n",
       "      <td>DrpbXDP</td>\n",
       "    </tr>\n",
       "  </tbody>\n",
       "</table>\n",
       "</div>"
      ],
      "text/plain": [
       "      idaviso              fechavista idpostulante\n",
       "0  1111780242 2018-02-23 18:38:13.187      YjVJQ6Z\n",
       "1  1112263876 2018-02-23 18:38:14.296      BmVpYoR\n",
       "2  1112327963 2018-02-23 18:38:14.329      wVkBzZd\n",
       "3  1112318643 2018-02-23 18:38:17.921      OqmP9pv\n",
       "4  1111903673 2018-02-23 18:38:18.973      DrpbXDP"
      ]
     },
     "execution_count": 16,
     "metadata": {},
     "output_type": "execute_result"
    }
   ],
   "source": [
    "vistas.head()"
   ]
  },
  {
   "cell_type": "code",
   "execution_count": 17,
   "metadata": {},
   "outputs": [
    {
     "data": {
      "text/html": [
       "<div>\n",
       "<style scoped>\n",
       "    .dataframe tbody tr th:only-of-type {\n",
       "        vertical-align: middle;\n",
       "    }\n",
       "\n",
       "    .dataframe tbody tr th {\n",
       "        vertical-align: top;\n",
       "    }\n",
       "\n",
       "    .dataframe thead th {\n",
       "        text-align: right;\n",
       "    }\n",
       "</style>\n",
       "<table border=\"1\" class=\"dataframe\">\n",
       "  <thead>\n",
       "    <tr style=\"text-align: right;\">\n",
       "      <th></th>\n",
       "      <th>idaviso</th>\n",
       "      <th>idpostulante</th>\n",
       "      <th>fechapostulacion</th>\n",
       "    </tr>\n",
       "  </thead>\n",
       "  <tbody>\n",
       "    <tr>\n",
       "      <th>0</th>\n",
       "      <td>1112257047</td>\n",
       "      <td>NM5M</td>\n",
       "      <td>2018-01-15 16:22:34</td>\n",
       "    </tr>\n",
       "    <tr>\n",
       "      <th>1</th>\n",
       "      <td>1111920714</td>\n",
       "      <td>NM5M</td>\n",
       "      <td>2018-02-06 09:04:50</td>\n",
       "    </tr>\n",
       "    <tr>\n",
       "      <th>2</th>\n",
       "      <td>1112346945</td>\n",
       "      <td>NM5M</td>\n",
       "      <td>2018-02-22 09:04:47</td>\n",
       "    </tr>\n",
       "    <tr>\n",
       "      <th>3</th>\n",
       "      <td>1112345547</td>\n",
       "      <td>NM5M</td>\n",
       "      <td>2018-02-22 09:04:59</td>\n",
       "    </tr>\n",
       "    <tr>\n",
       "      <th>4</th>\n",
       "      <td>1112237522</td>\n",
       "      <td>5awk</td>\n",
       "      <td>2018-01-25 18:55:03</td>\n",
       "    </tr>\n",
       "  </tbody>\n",
       "</table>\n",
       "</div>"
      ],
      "text/plain": [
       "      idaviso idpostulante    fechapostulacion\n",
       "0  1112257047         NM5M 2018-01-15 16:22:34\n",
       "1  1111920714         NM5M 2018-02-06 09:04:50\n",
       "2  1112346945         NM5M 2018-02-22 09:04:47\n",
       "3  1112345547         NM5M 2018-02-22 09:04:59\n",
       "4  1112237522         5awk 2018-01-25 18:55:03"
      ]
     },
     "execution_count": 17,
     "metadata": {},
     "output_type": "execute_result"
    }
   ],
   "source": [
    "postulaciones.head()"
   ]
  },
  {
   "cell_type": "code",
   "execution_count": 18,
   "metadata": {},
   "outputs": [
    {
     "ename": "NameError",
     "evalue": "name 'avisos' is not defined",
     "output_type": "error",
     "traceback": [
      "\u001b[1;31m---------------------------------------------------------------------------\u001b[0m",
      "\u001b[1;31mNameError\u001b[0m                                 Traceback (most recent call last)",
      "\u001b[1;32m<ipython-input-18-e2bf3b7dd545>\u001b[0m in \u001b[0;36m<module>\u001b[1;34m()\u001b[0m\n\u001b[1;32m----> 1\u001b[1;33m \u001b[0mavisos\u001b[0m\u001b[1;33m.\u001b[0m\u001b[0mhead\u001b[0m\u001b[1;33m(\u001b[0m\u001b[1;33m)\u001b[0m\u001b[1;33m\u001b[0m\u001b[0m\n\u001b[0m",
      "\u001b[1;31mNameError\u001b[0m: name 'avisos' is not defined"
     ]
    }
   ],
   "source": [
    "avisos.head()"
   ]
  },
  {
   "cell_type": "code",
   "execution_count": null,
   "metadata": {},
   "outputs": [],
   "source": [
    "avisos_detalles.head()"
   ]
  },
  {
   "cell_type": "code",
   "execution_count": null,
   "metadata": {},
   "outputs": [],
   "source": [
    "avisos_detalles.columns.values"
   ]
  },
  {
   "cell_type": "code",
   "execution_count": null,
   "metadata": {},
   "outputs": [],
   "source": [
    "avisos_detalles.describe()"
   ]
  },
  {
   "cell_type": "code",
   "execution_count": null,
   "metadata": {},
   "outputs": [],
   "source": [
    "#relacion avisos vs postulantes\n",
    "post_avisos = pd.merge(avisos_detalles, postulaciones, on='idaviso', how='inner')\n",
    "post_avisos.count()"
   ]
  },
  {
   "cell_type": "code",
   "execution_count": null,
   "metadata": {},
   "outputs": [],
   "source": [
    "#avisos que no tienen postulantes\n",
    "avisos_sin_post = pd.merge(avisos_detalles, postulaciones, on='idaviso', how='left')\n",
    "avisos_sin_post = avisos_sin_post[avisos_sin_post['idpostulante'].isnull()]\n",
    "avisos_sin_post.count()"
   ]
  },
  {
   "cell_type": "code",
   "execution_count": null,
   "metadata": {},
   "outputs": [],
   "source": [
    "#avisos que tienen postulantes\n",
    "avisos_con_post = avisos_detalles.merge(avisos_sin_post, how='left', on='idaviso')\n",
    "avisos_con_post = avisos_con_post[avisos_con_post['titulo_y'].isnull()]\n",
    "avisos_con_post.count()"
   ]
  },
  {
   "cell_type": "code",
   "execution_count": null,
   "metadata": {},
   "outputs": [],
   "source": [
    "#avisos totales\n",
    "avisos_detalles.count()"
   ]
  },
  {
   "cell_type": "code",
   "execution_count": null,
   "metadata": {},
   "outputs": [],
   "source": [
    "avisos.count()"
   ]
  },
  {
   "cell_type": "code",
   "execution_count": null,
   "metadata": {},
   "outputs": [],
   "source": [
    "postulaciones.count()"
   ]
  },
  {
   "cell_type": "code",
   "execution_count": null,
   "metadata": {},
   "outputs": [],
   "source": [
    "#cantidad de postulaciones por postulante\n",
    "cant_post = postulaciones.loc[:,['idpostulante']]\n",
    "cant_post = cant_post.merge(post_gen_edad,how='inner',on='idpostulante')\n",
    "cant_post.head()"
   ]
  },
  {
   "cell_type": "code",
   "execution_count": null,
   "metadata": {},
   "outputs": [],
   "source": [
    "cant_post = cant_post.loc[:,['idpostulante']]\n",
    "cant_post_group = cant_post.groupby(['idpostulante']).size()\n",
    "cant_post_group.head()"
   ]
  },
  {
   "cell_type": "code",
   "execution_count": null,
   "metadata": {},
   "outputs": [],
   "source": [
    "cant_post_group_sort = cant_post_group.sort_values(ascending=False)\n",
    "cant_post_group_sort.head()"
   ]
  },
  {
   "cell_type": "code",
   "execution_count": null,
   "metadata": {},
   "outputs": [],
   "source": [
    "#agrego el sexo y fechanacimiento\n",
    "cant_post_sexo = pd.DataFrame(cant_post_group_sort).reset_index()\n",
    "cant_post_sexo = cant_post_sexo.merge(post_gen_edad, how='inner', on='idpostulante')\n",
    "cant_post_sexo[[\"idpostulante\", \"cantidad_postulaciones\", \"fechanacimiento\", \"sexo\"]] = \\\n",
    "    cant_post_sexo[[\"idpostulante\", 0, \"fechanacimiento\", \"sexo\"]]\n",
    "\n",
    "cant_post_sexo= cant_post_sexo[[\"idpostulante\", \"cantidad_postulaciones\", \"fechanacimiento\", \"sexo\"]]  \n",
    "cant_post_sexo.head(15)"
   ]
  },
  {
   "cell_type": "code",
   "execution_count": null,
   "metadata": {},
   "outputs": [],
   "source": []
  }
 ],
 "metadata": {
  "kernelspec": {
   "display_name": "Python 3",
   "language": "python",
   "name": "python3"
  },
  "language_info": {
   "codemirror_mode": {
    "name": "ipython",
    "version": 3
   },
   "file_extension": ".py",
   "mimetype": "text/x-python",
   "name": "python",
   "nbconvert_exporter": "python",
   "pygments_lexer": "ipython3",
   "version": "3.6.4"
  }
 },
 "nbformat": 4,
 "nbformat_minor": 2
}
