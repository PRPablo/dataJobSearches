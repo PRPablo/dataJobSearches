{
 "cells": [
  {
   "cell_type": "code",
   "execution_count": 3,
   "metadata": {},
   "outputs": [],
   "source": [
    "import matplotlib.pyplot as plt\n",
    "%matplotlib inline\n",
    "import pandas as pd\n",
    "from dateutil.parser import parse\n",
    "import numpy as np\n",
    "import warnings\n",
    "import datetime as dt\n",
    "import cufflinks as cf\n",
    "import plotly.plotly as py\n",
    "warnings.filterwarnings('ignore')\n",
    "import plotly\n",
    "import os\n",
    "os.path\n",
    "from wordcloud.wordcloud import WordCloud\n",
    "plotly.tools.set_credentials_file(username='soyarielruiz', api_key='Io0U7KvMLYpCw01a1vNJ')\n",
    "cf.set_config_file(offline=False, world_readable=True, theme='pearl')"
   ]
  },
  {
   "cell_type": "code",
   "execution_count": 4,
   "metadata": {
    "collapsed": true
   },
   "outputs": [],
   "source": [
    "# Carga de archivos\n",
    "post_educacion = pd.read_csv('../data/fiuba_1_postulantes_educacion.csv', dtype = {\n",
    "    'nombre': 'category',\n",
    "    'estado': 'category'\n",
    "})\n",
    "post_gen_edad = pd.read_csv('../data/fiuba_2_postulantes_genero_y_edad.csv', dtype = {\n",
    "    'sexo': 'category'    \n",
    "})\n",
    "\n",
    "vistas = pd.read_csv('../data/fiuba_3_vistas.csv', parse_dates=['timestamp'])\n",
    "postulaciones = pd.read_csv('../data/fiuba_4_postulaciones.csv', parse_dates=['fechapostulacion'])\n",
    "avisos_online = pd.read_csv('../data/fiuba_5_avisos_online.csv')\n",
    "\n",
    "avisos_detalles = pd.read_csv('../data/fiuba_6_avisos_detalle.csv', dtype= {\n",
    "    'nombre_zona': 'category',\n",
    "    'ciudad': 'category',\n",
    "    'tipo_de_trabajo': 'category',\n",
    "    'nivel_laboral': 'category',\n",
    "    'nombre_area': 'category'\n",
    "})\n"
   ]
  },
  {
   "cell_type": "markdown",
   "metadata": {},
   "source": [
    "# Ajustes en los archivos antes de procesar"
   ]
  },
  {
   "cell_type": "code",
   "execution_count": 5,
   "metadata": {
    "collapsed": true
   },
   "outputs": [],
   "source": [
    "areas_agrupadas = pd.read_csv('../extraData/areas_agrupadas.csv')"
   ]
  },
  {
   "cell_type": "code",
   "execution_count": 6,
   "metadata": {
    "collapsed": true
   },
   "outputs": [],
   "source": [
    "# Agrupo las áreas parecidas.\n",
    "avisos_detalles = pd.merge(avisos_detalles, areas_agrupadas, how='inner', on='nombre_area')\n",
    "avisos_detalles['nombre_area'] = avisos_detalles['nuevo_nombre_area']\n",
    "avisos_detalles.drop('nuevo_nombre_area', axis=1, inplace=True)"
   ]
  },
  {
   "cell_type": "code",
   "execution_count": 7,
   "metadata": {
    "collapsed": true
   },
   "outputs": [],
   "source": [
    "# Convierto el nombre del area a category.\n",
    "avisos_detalles['nombre_area'] = avisos_detalles['nombre_area'].astype('category')"
   ]
  },
  {
   "cell_type": "code",
   "execution_count": 8,
   "metadata": {
    "collapsed": true
   },
   "outputs": [],
   "source": [
    "# Recorto la columna idpais ya que no es necesaria.\n",
    "#avisos_detalles.drop('idpais', axis=1, inplace=True)\n",
    "# Agrego tipo categorico y modifico el tipo de dato de la fecha.\n",
    "post_gen_edad.fechanacimiento = post_gen_edad.fechanacimiento.apply(pd.to_datetime, errors='coerce')"
   ]
  },
  {
   "cell_type": "code",
   "execution_count": 9,
   "metadata": {},
   "outputs": [
    {
     "data": {
      "text/plain": [
       "Timestamp('2018-04-15 17:32:24.959565')"
      ]
     },
     "execution_count": 9,
     "metadata": {},
     "output_type": "execute_result"
    }
   ],
   "source": [
    "# Cambiar el tipo de dato de la fecha de postulacion.\n",
    "postulaciones[['fechapostulacion']] = postulaciones[['fechapostulacion']].apply(pd.to_datetime)\n",
    "now = pd.Timestamp(dt.datetime.now())\n",
    "pd.to_datetime(now)\n"
   ]
  },
  {
   "cell_type": "code",
   "execution_count": 10,
   "metadata": {
    "collapsed": true
   },
   "outputs": [],
   "source": [
    "# Recorto la columna idpais ya que no es necesaria.\n",
    "avisos_detalles.drop('idpais', axis=1, inplace=True)"
   ]
  },
  {
   "cell_type": "markdown",
   "metadata": {},
   "source": [
    "# Merges necesarios "
   ]
  },
  {
   "cell_type": "code",
   "execution_count": 11,
   "metadata": {
    "collapsed": true
   },
   "outputs": [],
   "source": [
    "usuarios_detalle = pd.merge(post_educacion, post_gen_edad, how='inner', left_on='idpostulante', right_on='idpostulante')\n",
    "postulaciones_con_detalle_de_aviso = pd.merge(postulaciones, avisos_detalles, how='inner', left_on='idaviso', right_on='idaviso')\n",
    "postulaciones_con_detalle_de_aviso_y_usuario = pd.merge(postulaciones_con_detalle_de_aviso, usuarios_detalle    , how='inner', left_on='idpostulante', right_on='idpostulante')\n",
    "visitas_con_detalle_de_aviso = pd.merge(vistas, avisos_detalles     , how='inner', left_on='idAviso'     , right_on='idaviso')\n",
    "visitas_con_detalle_de_aviso_y_usuario = pd.merge(visitas_con_detalle_de_aviso      , usuarios_detalle    , how='inner', left_on='idpostulante', right_on='idpostulante')"
   ]
  },
  {
   "cell_type": "markdown",
   "metadata": {},
   "source": [
    "# Empieza el analisis"
   ]
  },
  {
   "cell_type": "code",
   "execution_count": 12,
   "metadata": {
    "collapsed": true
   },
   "outputs": [],
   "source": [
    "# Asigno puntajes a los diferentes niveles educativos encontrados para poder \n",
    "# obtener asi la educacion mas valiosa de cada postulante.\n",
    "valores_educacion = [{'nombre': 'Otro', 'estado': 'Abandonado',    'valor_educacion': 1    },\n",
    "    {'nombre': 'Otro',                  'estado': 'En Curso',    'valor_educacion': 2    },\n",
    "    {'nombre': 'Otro',                  'estado': 'Graduado',    'valor_educacion': 3    },\n",
    "    {'nombre': 'Secundario',            'estado': 'Abandonado',    'valor_educacion': 4    },\n",
    "    {'nombre': 'Secundario',            'estado': 'En Curso',    'valor_educacion': 5    },\n",
    "    {'nombre': 'Secundario',        'estado': 'Graduado',    'valor_educacion': 6    },\n",
    "    {'nombre': 'Terciario/Técnico', 'estado': 'Abandonado',    'valor_educacion': 7    },\n",
    "    {'nombre': 'Universitario',     'estado': 'Abandonado',    'valor_educacion': 8    },\n",
    "    {'nombre': 'Terciario/Técnico', 'estado': 'En Curso',    'valor_educacion': 9    },\n",
    "    {'nombre': 'Universitario',     'estado': 'En Curso',    'valor_educacion': 10    },\n",
    "    {'nombre': 'Terciario/Técnico', 'estado': 'Graduado',    'valor_educacion': 11    },\n",
    "    {'nombre': 'Universitario',     'estado': 'Graduado',    'valor_educacion': 12    },\n",
    "    {'nombre': 'Posgrado',          'estado': 'Abandonado',    'valor_educacion': 13    },\n",
    "    {'nombre': 'Master',            'estado': 'Abandonado',    'valor_educacion': 14    },\n",
    "    {'nombre': 'Posgrado',          'estado': 'En Curso',    'valor_educacion': 15    },\n",
    "    {'nombre': 'Master',            'estado': 'En Curso',    'valor_educacion': 16    },\n",
    "    {'nombre': 'Posgrado',          'estado': 'Graduado',    'valor_educacion': 17    },\n",
    "    {'nombre': 'Master',            'estado': 'Graduado',    'valor_educacion': 18    },\n",
    "    {'nombre': 'Doctorado',         'estado': 'Abandonado',    'valor_educacion': 19    },\n",
    "    {'nombre': 'Doctorado',         'estado': 'En Curso',    'valor_educacion': 20    },\n",
    "    {'nombre': 'Doctorado',         'estado': 'Graduado',    'valor_educacion': 21 }]\n",
    "valores_educacion = pd.DataFrame(valores_educacion)"
   ]
  },
  {
   "cell_type": "code",
   "execution_count": 13,
   "metadata": {},
   "outputs": [
    {
     "data": {
      "text/plain": [
       "Index                80\n",
       "estado             1379\n",
       "nombre              850\n",
       "valor_educacion     168\n",
       "dtype: int64"
      ]
     },
     "execution_count": 13,
     "metadata": {},
     "output_type": "execute_result"
    }
   ],
   "source": [
    "valores_educacion.nombre = valores_educacion.nombre.astype('category', categories=post_educacion.nombre.cat.categories)\n",
    "valores_educacion.memory_usage(deep=True)"
   ]
  },
  {
   "cell_type": "code",
   "execution_count": 14,
   "metadata": {
    "collapsed": true
   },
   "outputs": [],
   "source": [
    "# Hago el join para aplicar puntajes a las educaciones de los postulantes.\n",
    "post_educacion = pd.merge(post_educacion, valores_educacion,  how='inner', \\\n",
    "                          left_on=['nombre','estado'], right_on = ['nombre','estado'])"
   ]
  },
  {
   "cell_type": "code",
   "execution_count": 15,
   "metadata": {},
   "outputs": [
    {
     "data": {
      "text/plain": [
       "idpostulante       188752\n",
       "valor_educacion    188752\n",
       "dtype: int64"
      ]
     },
     "execution_count": 15,
     "metadata": {},
     "output_type": "execute_result"
    }
   ],
   "source": [
    "# Busco la maxima educacion que tiene cada postulante.\n",
    "max_post_educacion = post_educacion.groupby(['idpostulante'])['valor_educacion'].max().reset_index()\n",
    "max_post_educacion.count()"
   ]
  },
  {
   "cell_type": "code",
   "execution_count": 16,
   "metadata": {},
   "outputs": [
    {
     "data": {
      "text/html": [
       "<div>\n",
       "<style scoped>\n",
       "    .dataframe tbody tr th:only-of-type {\n",
       "        vertical-align: middle;\n",
       "    }\n",
       "\n",
       "    .dataframe tbody tr th {\n",
       "        vertical-align: top;\n",
       "    }\n",
       "\n",
       "    .dataframe thead th {\n",
       "        text-align: right;\n",
       "    }\n",
       "</style>\n",
       "<table border=\"1\" class=\"dataframe\">\n",
       "  <thead>\n",
       "    <tr style=\"text-align: right;\">\n",
       "      <th></th>\n",
       "      <th>idpostulante</th>\n",
       "      <th>nombre</th>\n",
       "      <th>estado</th>\n",
       "      <th>valor_educacion</th>\n",
       "    </tr>\n",
       "  </thead>\n",
       "  <tbody>\n",
       "    <tr>\n",
       "      <th>0</th>\n",
       "      <td>NdJl</td>\n",
       "      <td>Posgrado</td>\n",
       "      <td>En Curso</td>\n",
       "      <td>15</td>\n",
       "    </tr>\n",
       "    <tr>\n",
       "      <th>1</th>\n",
       "      <td>axaPJ</td>\n",
       "      <td>Posgrado</td>\n",
       "      <td>En Curso</td>\n",
       "      <td>15</td>\n",
       "    </tr>\n",
       "    <tr>\n",
       "      <th>2</th>\n",
       "      <td>Z48mz</td>\n",
       "      <td>Posgrado</td>\n",
       "      <td>En Curso</td>\n",
       "      <td>15</td>\n",
       "    </tr>\n",
       "    <tr>\n",
       "      <th>3</th>\n",
       "      <td>a4zEZ</td>\n",
       "      <td>Posgrado</td>\n",
       "      <td>En Curso</td>\n",
       "      <td>15</td>\n",
       "    </tr>\n",
       "    <tr>\n",
       "      <th>4</th>\n",
       "      <td>6AWqO</td>\n",
       "      <td>Posgrado</td>\n",
       "      <td>En Curso</td>\n",
       "      <td>15</td>\n",
       "    </tr>\n",
       "  </tbody>\n",
       "</table>\n",
       "</div>"
      ],
      "text/plain": [
       "  idpostulante    nombre    estado  valor_educacion\n",
       "0         NdJl  Posgrado  En Curso               15\n",
       "1        axaPJ  Posgrado  En Curso               15\n",
       "2        Z48mz  Posgrado  En Curso               15\n",
       "3        a4zEZ  Posgrado  En Curso               15\n",
       "4        6AWqO  Posgrado  En Curso               15"
      ]
     },
     "execution_count": 16,
     "metadata": {},
     "output_type": "execute_result"
    }
   ],
   "source": [
    "# Hago el join para filtrar todas las educaciones que no me interesan, dejando solo la maxima educacion.\n",
    "post_educacion = pd.merge(post_educacion, max_post_educacion,  how='inner', \\\n",
    "                          left_on=['idpostulante','valor_educacion'], right_on = ['idpostulante','valor_educacion'])\n",
    "\n",
    "post_educacion.head()"
   ]
  },
  {
   "cell_type": "code",
   "execution_count": 17,
   "metadata": {},
   "outputs": [
    {
     "data": {
      "text/html": [
       "<div>\n",
       "<style scoped>\n",
       "    .dataframe tbody tr th:only-of-type {\n",
       "        vertical-align: middle;\n",
       "    }\n",
       "\n",
       "    .dataframe tbody tr th {\n",
       "        vertical-align: top;\n",
       "    }\n",
       "\n",
       "    .dataframe thead th {\n",
       "        text-align: right;\n",
       "    }\n",
       "</style>\n",
       "<table border=\"1\" class=\"dataframe\">\n",
       "  <thead>\n",
       "    <tr style=\"text-align: right;\">\n",
       "      <th></th>\n",
       "      <th>idpostulante</th>\n",
       "      <th>nombre</th>\n",
       "      <th>estado</th>\n",
       "      <th>valor_educacion</th>\n",
       "      <th>fechanacimiento</th>\n",
       "      <th>sexo</th>\n",
       "      <th>edad</th>\n",
       "    </tr>\n",
       "  </thead>\n",
       "  <tbody>\n",
       "    <tr>\n",
       "      <th>0</th>\n",
       "      <td>NdJl</td>\n",
       "      <td>Posgrado</td>\n",
       "      <td>En Curso</td>\n",
       "      <td>15</td>\n",
       "      <td>1969-05-09</td>\n",
       "      <td>MASC</td>\n",
       "      <td>48.0</td>\n",
       "    </tr>\n",
       "    <tr>\n",
       "      <th>1</th>\n",
       "      <td>axaPJ</td>\n",
       "      <td>Posgrado</td>\n",
       "      <td>En Curso</td>\n",
       "      <td>15</td>\n",
       "      <td>1970-01-06</td>\n",
       "      <td>MASC</td>\n",
       "      <td>48.0</td>\n",
       "    </tr>\n",
       "    <tr>\n",
       "      <th>2</th>\n",
       "      <td>Z48mz</td>\n",
       "      <td>Posgrado</td>\n",
       "      <td>En Curso</td>\n",
       "      <td>15</td>\n",
       "      <td>1967-05-16</td>\n",
       "      <td>MASC</td>\n",
       "      <td>50.0</td>\n",
       "    </tr>\n",
       "    <tr>\n",
       "      <th>3</th>\n",
       "      <td>a4zEZ</td>\n",
       "      <td>Posgrado</td>\n",
       "      <td>En Curso</td>\n",
       "      <td>15</td>\n",
       "      <td>1976-04-10</td>\n",
       "      <td>MASC</td>\n",
       "      <td>42.0</td>\n",
       "    </tr>\n",
       "    <tr>\n",
       "      <th>4</th>\n",
       "      <td>6AWqO</td>\n",
       "      <td>Posgrado</td>\n",
       "      <td>En Curso</td>\n",
       "      <td>15</td>\n",
       "      <td>1970-05-21</td>\n",
       "      <td>MASC</td>\n",
       "      <td>47.0</td>\n",
       "    </tr>\n",
       "  </tbody>\n",
       "</table>\n",
       "</div>"
      ],
      "text/plain": [
       "  idpostulante    nombre    estado  valor_educacion fechanacimiento  sexo  \\\n",
       "0         NdJl  Posgrado  En Curso               15      1969-05-09  MASC   \n",
       "1        axaPJ  Posgrado  En Curso               15      1970-01-06  MASC   \n",
       "2        Z48mz  Posgrado  En Curso               15      1967-05-16  MASC   \n",
       "3        a4zEZ  Posgrado  En Curso               15      1976-04-10  MASC   \n",
       "4        6AWqO  Posgrado  En Curso               15      1970-05-21  MASC   \n",
       "\n",
       "   edad  \n",
       "0  48.0  \n",
       "1  48.0  \n",
       "2  50.0  \n",
       "3  42.0  \n",
       "4  47.0  "
      ]
     },
     "execution_count": 17,
     "metadata": {},
     "output_type": "execute_result"
    }
   ],
   "source": [
    "postulantes = pd.merge(post_educacion, post_gen_edad)\n",
    "pd.to_datetime(postulantes['fechanacimiento'])\n",
    "postulantes['edad'] = (now - pd.to_datetime(postulantes['fechanacimiento'])).astype('<m8[Y]')\n",
    "postulantes.head()"
   ]
  },
  {
   "cell_type": "markdown",
   "metadata": {},
   "source": [
    "## Ver postulaciones de secundario en curso y vistas hechas al respecto (vistas, postulaciones, área de trabajo).\n"
   ]
  },
  {
   "cell_type": "code",
   "execution_count": 18,
   "metadata": {},
   "outputs": [
    {
     "data": {
      "text/html": [
       "<div>\n",
       "<style scoped>\n",
       "    .dataframe tbody tr th:only-of-type {\n",
       "        vertical-align: middle;\n",
       "    }\n",
       "\n",
       "    .dataframe tbody tr th {\n",
       "        vertical-align: top;\n",
       "    }\n",
       "\n",
       "    .dataframe thead th {\n",
       "        text-align: right;\n",
       "    }\n",
       "</style>\n",
       "<table border=\"1\" class=\"dataframe\">\n",
       "  <thead>\n",
       "    <tr style=\"text-align: right;\">\n",
       "      <th></th>\n",
       "      <th>idpostulante</th>\n",
       "      <th>nombre</th>\n",
       "      <th>estado</th>\n",
       "      <th>valor_educacion</th>\n",
       "      <th>fechanacimiento</th>\n",
       "      <th>sexo</th>\n",
       "      <th>edad</th>\n",
       "    </tr>\n",
       "  </thead>\n",
       "  <tbody>\n",
       "    <tr>\n",
       "      <th>54977</th>\n",
       "      <td>1qkm9z</td>\n",
       "      <td>Secundario</td>\n",
       "      <td>En Curso</td>\n",
       "      <td>5</td>\n",
       "      <td>1976-09-18</td>\n",
       "      <td>MASC</td>\n",
       "      <td>41.0</td>\n",
       "    </tr>\n",
       "    <tr>\n",
       "      <th>54978</th>\n",
       "      <td>YvjkMV</td>\n",
       "      <td>Secundario</td>\n",
       "      <td>En Curso</td>\n",
       "      <td>5</td>\n",
       "      <td>1975-06-18</td>\n",
       "      <td>FEM</td>\n",
       "      <td>42.0</td>\n",
       "    </tr>\n",
       "    <tr>\n",
       "      <th>54979</th>\n",
       "      <td>Y4oJ9w</td>\n",
       "      <td>Secundario</td>\n",
       "      <td>En Curso</td>\n",
       "      <td>5</td>\n",
       "      <td>1985-09-24</td>\n",
       "      <td>MASC</td>\n",
       "      <td>32.0</td>\n",
       "    </tr>\n",
       "    <tr>\n",
       "      <th>54980</th>\n",
       "      <td>5L5akv</td>\n",
       "      <td>Secundario</td>\n",
       "      <td>En Curso</td>\n",
       "      <td>5</td>\n",
       "      <td>1985-10-12</td>\n",
       "      <td>MASC</td>\n",
       "      <td>32.0</td>\n",
       "    </tr>\n",
       "    <tr>\n",
       "      <th>54981</th>\n",
       "      <td>6ZkmJR</td>\n",
       "      <td>Secundario</td>\n",
       "      <td>En Curso</td>\n",
       "      <td>5</td>\n",
       "      <td>1984-01-08</td>\n",
       "      <td>MASC</td>\n",
       "      <td>34.0</td>\n",
       "    </tr>\n",
       "  </tbody>\n",
       "</table>\n",
       "</div>"
      ],
      "text/plain": [
       "      idpostulante      nombre    estado  valor_educacion fechanacimiento  \\\n",
       "54977       1qkm9z  Secundario  En Curso                5      1976-09-18   \n",
       "54978       YvjkMV  Secundario  En Curso                5      1975-06-18   \n",
       "54979       Y4oJ9w  Secundario  En Curso                5      1985-09-24   \n",
       "54980       5L5akv  Secundario  En Curso                5      1985-10-12   \n",
       "54981       6ZkmJR  Secundario  En Curso                5      1984-01-08   \n",
       "\n",
       "       sexo  edad  \n",
       "54977  MASC  41.0  \n",
       "54978   FEM  42.0  \n",
       "54979  MASC  32.0  \n",
       "54980  MASC  32.0  \n",
       "54981  MASC  34.0  "
      ]
     },
     "execution_count": 18,
     "metadata": {},
     "output_type": "execute_result"
    }
   ],
   "source": [
    "postulantes_sec = postulantes.loc[(postulantes['nombre'] == 'Secundario') & (postulantes['estado'] == 'En Curso')]\n",
    "postulantes_sec.head()"
   ]
  },
  {
   "cell_type": "code",
   "execution_count": 19,
   "metadata": {
    "collapsed": true
   },
   "outputs": [],
   "source": [
    "#postulantes_1 = postulantes_sec[postulantes_sec.isna().any(axis=1)]\n",
    "#null_columns=postulantes_sec.columns[postulantes_sec.isnull().any()]\n",
    "#print(postulantes_sec[postulantes_sec.isnull().any(axis=1)][null_columns].head())\n",
    "#aa = postulantes_sec.dropna(axis=0)"
   ]
  },
  {
   "cell_type": "code",
   "execution_count": 20,
   "metadata": {},
   "outputs": [
    {
     "data": {
      "text/plain": [
       "54977    41.0\n",
       "54978    42.0\n",
       "54979    32.0\n",
       "54980    32.0\n",
       "54981    34.0\n",
       "54982    42.0\n",
       "54983    35.0\n",
       "54984    37.0\n",
       "54985    36.0\n",
       "54986    42.0\n",
       "54987    33.0\n",
       "54988    34.0\n",
       "54989    42.0\n",
       "54990    30.0\n",
       "54991    40.0\n",
       "54992    56.0\n",
       "54993    31.0\n",
       "54994    47.0\n",
       "54995    31.0\n",
       "54996    31.0\n",
       "54997    33.0\n",
       "54998    32.0\n",
       "54999    30.0\n",
       "55000    49.0\n",
       "55001    37.0\n",
       "55002    38.0\n",
       "55003    28.0\n",
       "55004    37.0\n",
       "55005    33.0\n",
       "55006    28.0\n",
       "         ... \n",
       "58341    18.0\n",
       "58342    30.0\n",
       "58344    19.0\n",
       "58345    18.0\n",
       "58346    19.0\n",
       "58347    21.0\n",
       "58348    22.0\n",
       "58349    36.0\n",
       "58350    22.0\n",
       "58351    37.0\n",
       "58352    19.0\n",
       "58353    19.0\n",
       "58354    19.0\n",
       "58355    19.0\n",
       "58356    22.0\n",
       "58357    18.0\n",
       "58358    21.0\n",
       "58360    21.0\n",
       "58361    19.0\n",
       "58362    18.0\n",
       "58363    27.0\n",
       "58364    18.0\n",
       "58365    20.0\n",
       "58366    19.0\n",
       "58367    27.0\n",
       "58368    18.0\n",
       "58369    18.0\n",
       "58370    22.0\n",
       "58371    18.0\n",
       "58372    19.0\n",
       "Name: edad, Length: 3255, dtype: float64"
      ]
     },
     "execution_count": 20,
     "metadata": {},
     "output_type": "execute_result"
    }
   ],
   "source": [
    "#pd.to_datetime(postulantes_sec['fechapostulacion'])\n",
    "#postulantes_sec['edad'] = (now - pd.to_datetime(postulantes_sec['fechanacimiento'])).astype('<m8[Y]')\n",
    "#dejo solo los mayores de edad y menores a la edad de jubilacion\n",
    "postulantes_sec = postulantes_sec.loc[(postulantes_sec['edad'] >= 18) & (postulantes_sec['edad'] <= 65)]\n",
    "#postulantes_sec.sort_values('age')\n",
    "#veo el promedio de edad que utilizan la pagina y poseen secundario en curso\n",
    "pd.to_numeric(postulantes_sec['edad'])"
   ]
  },
  {
   "cell_type": "code",
   "execution_count": 21,
   "metadata": {},
   "outputs": [
    {
     "data": {
      "text/html": [
       "<div>\n",
       "<style scoped>\n",
       "    .dataframe tbody tr th:only-of-type {\n",
       "        vertical-align: middle;\n",
       "    }\n",
       "\n",
       "    .dataframe tbody tr th {\n",
       "        vertical-align: top;\n",
       "    }\n",
       "\n",
       "    .dataframe thead th {\n",
       "        text-align: right;\n",
       "    }\n",
       "</style>\n",
       "<table border=\"1\" class=\"dataframe\">\n",
       "  <thead>\n",
       "    <tr style=\"text-align: right;\">\n",
       "      <th></th>\n",
       "      <th>idpostulante</th>\n",
       "      <th>nombre</th>\n",
       "      <th>estado</th>\n",
       "      <th>valor_educacion</th>\n",
       "      <th>fechanacimiento</th>\n",
       "      <th>sexo</th>\n",
       "      <th>edad</th>\n",
       "      <th>decil</th>\n",
       "    </tr>\n",
       "  </thead>\n",
       "  <tbody>\n",
       "    <tr>\n",
       "      <th>54977</th>\n",
       "      <td>1qkm9z</td>\n",
       "      <td>Secundario</td>\n",
       "      <td>En Curso</td>\n",
       "      <td>5</td>\n",
       "      <td>1976-09-18</td>\n",
       "      <td>MASC</td>\n",
       "      <td>41.0</td>\n",
       "      <td>40.0</td>\n",
       "    </tr>\n",
       "    <tr>\n",
       "      <th>54978</th>\n",
       "      <td>YvjkMV</td>\n",
       "      <td>Secundario</td>\n",
       "      <td>En Curso</td>\n",
       "      <td>5</td>\n",
       "      <td>1975-06-18</td>\n",
       "      <td>FEM</td>\n",
       "      <td>42.0</td>\n",
       "      <td>40.0</td>\n",
       "    </tr>\n",
       "    <tr>\n",
       "      <th>54979</th>\n",
       "      <td>Y4oJ9w</td>\n",
       "      <td>Secundario</td>\n",
       "      <td>En Curso</td>\n",
       "      <td>5</td>\n",
       "      <td>1985-09-24</td>\n",
       "      <td>MASC</td>\n",
       "      <td>32.0</td>\n",
       "      <td>30.0</td>\n",
       "    </tr>\n",
       "    <tr>\n",
       "      <th>54980</th>\n",
       "      <td>5L5akv</td>\n",
       "      <td>Secundario</td>\n",
       "      <td>En Curso</td>\n",
       "      <td>5</td>\n",
       "      <td>1985-10-12</td>\n",
       "      <td>MASC</td>\n",
       "      <td>32.0</td>\n",
       "      <td>30.0</td>\n",
       "    </tr>\n",
       "    <tr>\n",
       "      <th>54981</th>\n",
       "      <td>6ZkmJR</td>\n",
       "      <td>Secundario</td>\n",
       "      <td>En Curso</td>\n",
       "      <td>5</td>\n",
       "      <td>1984-01-08</td>\n",
       "      <td>MASC</td>\n",
       "      <td>34.0</td>\n",
       "      <td>30.0</td>\n",
       "    </tr>\n",
       "  </tbody>\n",
       "</table>\n",
       "</div>"
      ],
      "text/plain": [
       "      idpostulante      nombre    estado  valor_educacion fechanacimiento  \\\n",
       "54977       1qkm9z  Secundario  En Curso                5      1976-09-18   \n",
       "54978       YvjkMV  Secundario  En Curso                5      1975-06-18   \n",
       "54979       Y4oJ9w  Secundario  En Curso                5      1985-09-24   \n",
       "54980       5L5akv  Secundario  En Curso                5      1985-10-12   \n",
       "54981       6ZkmJR  Secundario  En Curso                5      1984-01-08   \n",
       "\n",
       "       sexo  edad  decil  \n",
       "54977  MASC  41.0   40.0  \n",
       "54978   FEM  42.0   40.0  \n",
       "54979  MASC  32.0   30.0  \n",
       "54980  MASC  32.0   30.0  \n",
       "54981  MASC  34.0   30.0  "
      ]
     },
     "execution_count": 21,
     "metadata": {},
     "output_type": "execute_result"
    }
   ],
   "source": [
    "#obtengo las decadas correspondientes para agrupar\n",
    "postulantes_sec['decil'] = np.floor( postulantes_sec['edad'].apply(lambda x: x /10) )\n",
    "postulantes_sec['decil'] = postulantes_sec['decil'].apply(lambda x: x*10)\n",
    "postulantes_sec.head()"
   ]
  },
  {
   "cell_type": "code",
   "execution_count": 22,
   "metadata": {},
   "outputs": [
    {
     "data": {
      "text/plain": [
       "<matplotlib.legend.Legend at 0x7f5670f9de10>"
      ]
     },
     "execution_count": 22,
     "metadata": {},
     "output_type": "execute_result"
    },
    {
     "data": {
      "image/png": "[encoded data removed]",
      "text/plain": [
       "<matplotlib.figure.Figure at 0x7f567207fda0>"
      ]
     },
     "metadata": {},
     "output_type": "display_data"
    }
   ],
   "source": [
    "#diferencio entre mujeres y hombres\n",
    "sec_fem = postulantes_sec.loc[postulantes_sec['sexo'] == 'FEM']\n",
    "sec_masc = postulantes_sec.loc[postulantes_sec['sexo'] == 'MASC']\n",
    "plt.xlabel('Edades en decadas')\n",
    "plt.ylabel('# de postulantes')\n",
    "plt.title('Postulantes sin Secundario completo por Sexo y Edades')\n",
    "plt.hist([sec_fem['decil'],sec_masc['decil']], bins=5, color=['red', 'blue'], label=['fem','masc'])\n",
    "plt.legend()"
   ]
  },
  {
   "cell_type": "code",
   "execution_count": 23,
   "metadata": {},
   "outputs": [
    {
     "data": {
      "text/html": [
       "<iframe id=\"igraph\" scrolling=\"no\" style=\"border:none;\" seamless=\"seamless\" src=\"https://plot.ly/~soyarielruiz/1.embed\" height=\"525px\" width=\"100%\"></iframe>"
      ],
      "text/plain": [
       "<plotly.tools.PlotlyDisplay object>"
      ]
     },
     "execution_count": 23,
     "metadata": {},
     "output_type": "execute_result"
    }
   ],
   "source": [
    "#veo las postulaciones que han hecho los que no poseen secundario completo\n",
    "#ejemplo usado https://plot.ly/pandas/bubble-charts/\n",
    "mergeo_sec = pd.merge(postulantes_sec, postulaciones)\n",
    "agrup_sec = mergeo_sec.groupby(['idaviso']).size().to_frame(name='count').reset_index()\n",
    "secs = pd.merge(avisos_detalles, agrup_sec, on='idaviso')\n",
    "secs.drop(['mapacalle','titulo','ciudad','nombre_zona','descripcion'],1,inplace=True)\n",
    "#secs.sort_values(by='count',ascending=False)\n",
    "secs_emp = secs[secs['count'] > 100]\n",
    "secs_emp.sort_values(by='count',ascending=True)\n",
    "secs_emp.iplot(kind='bubble', size='count', text='count', y='nombre_area', x='denominacion_empresa', mode='markers',\n",
    "color=['rgb(93, 164, 214)', 'rgb(255, 144, 14)', 'rgb(44, 160, 101)', 'rgb(255, 65, 54)'], \n",
    "     opacity=[1, 0.8, 0.6, 0.4],filename='simple-bubble-chart',title='Postulaciones Secundario Incompleto')"
   ]
  },
  {
   "cell_type": "markdown",
   "metadata": {
    "collapsed": true
   },
   "source": [
    "### Por ello suponemos que una persona con secundario en curso se postula principalmente en mantenimiento y limpieza, ventas y en menor medida en produccion. "
   ]
  },
  {
   "cell_type": "markdown",
   "metadata": {},
   "source": [
    "# Ahora comparo con las vistas que hizo"
   ]
  },
  {
   "cell_type": "code",
   "execution_count": 24,
   "metadata": {},
   "outputs": [
    {
     "data": {
      "text/html": [
       "<iframe id=\"igraph\" scrolling=\"no\" style=\"border:none;\" seamless=\"seamless\" src=\"https://plot.ly/~soyarielruiz/1.embed\" height=\"525px\" width=\"100%\"></iframe>"
      ],
      "text/plain": [
       "<plotly.tools.PlotlyDisplay object>"
      ]
     },
     "execution_count": 24,
     "metadata": {},
     "output_type": "execute_result"
    }
   ],
   "source": [
    "sec_vistas = pd.merge(postulantes_sec, vistas)\n",
    "sec_vistas = sec_vistas.rename(columns={\"idAviso\": \"idaviso\"})\n",
    "secus_views = sec_vistas.groupby(['idaviso']).size().to_frame(name='count_vistas').reset_index()\n",
    "secus_views_avisos = pd.merge(avisos_detalles, secus_views)\n",
    "secus_views_avisos.drop(['mapacalle','titulo','ciudad','nombre_zona','descripcion'],1,inplace=True)\n",
    "sec_max = secus_views_avisos[secus_views_avisos['count_vistas'] > 40]\n",
    "sec_max.sort_values(by='count_vistas', ascending=True, inplace=True)\n",
    "sec_max.iplot(kind='bubble', size='count_vistas', text='count_vistas', y='nombre_area', x='denominacion_empresa', filename='simple-bubble-chart', title='Vistas postulantes Secundario Incompleto')"
   ]
  },
  {
   "cell_type": "markdown",
   "metadata": {},
   "source": [
    "### En este ejemplo visualizamos que las vistas corresponden mayormente a Mantenimiento y Limpieza siguiendo muy de lejos el rubro ventas."
   ]
  },
  {
   "cell_type": "code",
   "execution_count": 25,
   "metadata": {
    "collapsed": true
   },
   "outputs": [],
   "source": [
    "#Ahora veo como distinguir las vistas de las postulaciones\n",
    "#df_secs = pd.DataFrame({'post':secs_emp, 'view': sec_max})\n",
    "#secs_emp.head()\n",
    "#merged = pd.merge(secs_emp, sec_max, on=['idaviso', 'idpais', 'tipo_de_trabajo', 'nivel_laboral', 'nombre_area', 'denominacion_empresa'], how='inner')\n",
    "#merged.head()\n",
    "#merged.iplot(kind='bubble', size='count_vistas', text='count_vistas', y='nombre_area', x='denominacion_empresa', filename='simple-bubble-chart', title='Vistas vs Postulaciones Secundario Incompleto', dimensions=)"
   ]
  },
  {
   "cell_type": "markdown",
   "metadata": {
    "collapsed": true
   },
   "source": [
    "# Voy a ver comparativamente con postulantes que poseen otros niveles de estudio."
   ]
  },
  {
   "cell_type": "code",
   "execution_count": 26,
   "metadata": {},
   "outputs": [
    {
     "data": {
      "text/html": [
       "<iframe id=\"igraph\" scrolling=\"no\" style=\"border:none;\" seamless=\"seamless\" src=\"https://plot.ly/~soyarielruiz/1.embed\" height=\"525px\" width=\"100%\"></iframe>"
      ],
      "text/plain": [
       "<plotly.tools.PlotlyDisplay object>"
      ]
     },
     "execution_count": 26,
     "metadata": {},
     "output_type": "execute_result"
    }
   ],
   "source": [
    "#postulantes.head()\n",
    "#postulaciones.head()\n",
    "post_all = pd.merge(postulaciones, postulantes)\n",
    "total_post = post_all.groupby(['idaviso']).size().to_frame(name='count_post').reset_index()\n",
    "total_views_avisos = pd.merge(avisos_detalles, total_post)\n",
    "total_views_avisos.drop(['mapacalle','titulo','ciudad','nombre_zona','descripcion'],1,inplace=True)\n",
    "total_views_avisos_min = total_views_avisos[total_views_avisos['count_post'] > 500]\n",
    "total_views_avisos_min.iplot(kind='bubble', size='count_post', text='count_post', y='nivel_laboral', x='nombre_area', filename='simple-bubble-chart', title='Postulaciones totales por area y nivel laboral')"
   ]
  },
  {
   "cell_type": "markdown",
   "metadata": {
    "collapsed": true
   },
   "source": [
    "# Visualizo con graduados de posgrado"
   ]
  },
  {
   "cell_type": "code",
   "execution_count": 27,
   "metadata": {},
   "outputs": [
    {
     "data": {
      "image/png": "[encoded data removed]",
      "text/plain": [
       "<matplotlib.figure.Figure at 0x7f5669b31128>"
      ]
     },
     "metadata": {},
     "output_type": "display_data"
    }
   ],
   "source": [
    "#post_all = pd.merge(postulaciones, postulantes)\n",
    "#\n",
    "postulantes_postgrado = postulantes[postulantes.valor_educacion > 15]\n",
    "#obtengo las decadas correspondientes para agrupar\n",
    "postulantes_postgrado['decil'] = np.floor( postulantes_postgrado['edad'].apply(lambda x: x /10) )\n",
    "postulantes_postgrado['decil'] = postulantes_postgrado['decil'].apply(lambda x: x*10)\n",
    "post_fem = postulantes_postgrado.loc[postulantes_postgrado['sexo'] == 'FEM']\n",
    "post_masc = postulantes_postgrado.loc[postulantes_postgrado['sexo'] == 'MASC']\n",
    "#post_fem = post_fem[post_fem['edad'] < 21]\n",
    "#post_fem.head(50)\n",
    "#post_fem[post_fem.edad < 24]\n",
    "plt.xlabel('Edades en decadas')\n",
    "plt.ylabel('# de postulantes')\n",
    "plt.title('Postulantes con Posgrado completo por Sexo y Edades')\n",
    "plt.hist([post_fem['decil'].dropna(),post_masc['decil'].dropna()], bins=7, color=['red', 'blue'], label=['fem','masc'])\n",
    "plt.legend()\n",
    "plt.show()"
   ]
  },
  {
   "cell_type": "markdown",
   "metadata": {},
   "source": [
    "### Me parece raro que menores de 20 años tengan posgrado en curso, o master, etc."
   ]
  },
  {
   "cell_type": "code",
   "execution_count": 28,
   "metadata": {},
   "outputs": [
    {
     "data": {
      "text/html": [
       "<div>\n",
       "<style scoped>\n",
       "    .dataframe tbody tr th:only-of-type {\n",
       "        vertical-align: middle;\n",
       "    }\n",
       "\n",
       "    .dataframe tbody tr th {\n",
       "        vertical-align: top;\n",
       "    }\n",
       "\n",
       "    .dataframe thead th {\n",
       "        text-align: right;\n",
       "    }\n",
       "</style>\n",
       "<table border=\"1\" class=\"dataframe\">\n",
       "  <thead>\n",
       "    <tr style=\"text-align: right;\">\n",
       "      <th></th>\n",
       "      <th></th>\n",
       "      <th>idaviso</th>\n",
       "      <th>titulo</th>\n",
       "      <th>descripcion</th>\n",
       "      <th>nombre_zona</th>\n",
       "      <th>ciudad</th>\n",
       "      <th>mapacalle</th>\n",
       "      <th>tipo_de_trabajo</th>\n",
       "      <th>nivel_laboral</th>\n",
       "      <th>denominacion_empresa</th>\n",
       "    </tr>\n",
       "    <tr>\n",
       "      <th>nombre_area</th>\n",
       "      <th>sexo</th>\n",
       "      <th></th>\n",
       "      <th></th>\n",
       "      <th></th>\n",
       "      <th></th>\n",
       "      <th></th>\n",
       "      <th></th>\n",
       "      <th></th>\n",
       "      <th></th>\n",
       "      <th></th>\n",
       "    </tr>\n",
       "  </thead>\n",
       "  <tbody>\n",
       "    <tr>\n",
       "      <th>Análisis Funcional</th>\n",
       "      <th>mujer</th>\n",
       "      <td>1.0</td>\n",
       "      <td>1.0</td>\n",
       "      <td>1.0</td>\n",
       "      <td>1.0</td>\n",
       "      <td>0.0</td>\n",
       "      <td>0.0</td>\n",
       "      <td>1.0</td>\n",
       "      <td>1.0</td>\n",
       "      <td>1.0</td>\n",
       "    </tr>\n",
       "    <tr>\n",
       "      <th rowspan=\"3\" valign=\"top\">Arquitectura y Diseño</th>\n",
       "      <th>femenino</th>\n",
       "      <td>2.0</td>\n",
       "      <td>2.0</td>\n",
       "      <td>2.0</td>\n",
       "      <td>2.0</td>\n",
       "      <td>0.0</td>\n",
       "      <td>1.0</td>\n",
       "      <td>2.0</td>\n",
       "      <td>2.0</td>\n",
       "      <td>2.0</td>\n",
       "    </tr>\n",
       "    <tr>\n",
       "      <th>hombre</th>\n",
       "      <td>2.0</td>\n",
       "      <td>2.0</td>\n",
       "      <td>2.0</td>\n",
       "      <td>2.0</td>\n",
       "      <td>0.0</td>\n",
       "      <td>0.0</td>\n",
       "      <td>2.0</td>\n",
       "      <td>2.0</td>\n",
       "      <td>2.0</td>\n",
       "    </tr>\n",
       "    <tr>\n",
       "      <th>masculino</th>\n",
       "      <td>4.0</td>\n",
       "      <td>4.0</td>\n",
       "      <td>4.0</td>\n",
       "      <td>4.0</td>\n",
       "      <td>0.0</td>\n",
       "      <td>0.0</td>\n",
       "      <td>4.0</td>\n",
       "      <td>4.0</td>\n",
       "      <td>4.0</td>\n",
       "    </tr>\n",
       "    <tr>\n",
       "      <th>Asesoría Legal y Comercio Internacional</th>\n",
       "      <th>femenino</th>\n",
       "      <td>1.0</td>\n",
       "      <td>1.0</td>\n",
       "      <td>1.0</td>\n",
       "      <td>1.0</td>\n",
       "      <td>0.0</td>\n",
       "      <td>0.0</td>\n",
       "      <td>1.0</td>\n",
       "      <td>1.0</td>\n",
       "      <td>1.0</td>\n",
       "    </tr>\n",
       "  </tbody>\n",
       "</table>\n",
       "</div>"
      ],
      "text/plain": [
       "                                                   idaviso  titulo  \\\n",
       "nombre_area                             sexo                         \n",
       "Análisis Funcional                      mujer          1.0     1.0   \n",
       "Arquitectura y Diseño                   femenino       2.0     2.0   \n",
       "                                        hombre         2.0     2.0   \n",
       "                                        masculino      4.0     4.0   \n",
       "Asesoría Legal y Comercio Internacional femenino       1.0     1.0   \n",
       "\n",
       "                                                   descripcion  nombre_zona  \\\n",
       "nombre_area                             sexo                                  \n",
       "Análisis Funcional                      mujer              1.0          1.0   \n",
       "Arquitectura y Diseño                   femenino           2.0          2.0   \n",
       "                                        hombre             2.0          2.0   \n",
       "                                        masculino          4.0          4.0   \n",
       "Asesoría Legal y Comercio Internacional femenino           1.0          1.0   \n",
       "\n",
       "                                                   ciudad  mapacalle  \\\n",
       "nombre_area                             sexo                           \n",
       "Análisis Funcional                      mujer         0.0        0.0   \n",
       "Arquitectura y Diseño                   femenino      0.0        1.0   \n",
       "                                        hombre        0.0        0.0   \n",
       "                                        masculino     0.0        0.0   \n",
       "Asesoría Legal y Comercio Internacional femenino      0.0        0.0   \n",
       "\n",
       "                                                   tipo_de_trabajo  \\\n",
       "nombre_area                             sexo                         \n",
       "Análisis Funcional                      mujer                  1.0   \n",
       "Arquitectura y Diseño                   femenino               2.0   \n",
       "                                        hombre                 2.0   \n",
       "                                        masculino              4.0   \n",
       "Asesoría Legal y Comercio Internacional femenino               1.0   \n",
       "\n",
       "                                                   nivel_laboral  \\\n",
       "nombre_area                             sexo                       \n",
       "Análisis Funcional                      mujer                1.0   \n",
       "Arquitectura y Diseño                   femenino             2.0   \n",
       "                                        hombre               2.0   \n",
       "                                        masculino            4.0   \n",
       "Asesoría Legal y Comercio Internacional femenino             1.0   \n",
       "\n",
       "                                                   denominacion_empresa  \n",
       "nombre_area                             sexo                             \n",
       "Análisis Funcional                      mujer                       1.0  \n",
       "Arquitectura y Diseño                   femenino                    2.0  \n",
       "                                        hombre                      2.0  \n",
       "                                        masculino                   4.0  \n",
       "Asesoría Legal y Comercio Internacional femenino                    1.0  "
      ]
     },
     "execution_count": 28,
     "metadata": {},
     "output_type": "execute_result"
    }
   ],
   "source": [
    "# Recorto la columna idpais ya que no es necesaria. --- ,import re flags = re.IGNORECASE\n",
    "#avisos_detalles.drop(['mapacalle','ciudad','nombre_zona'], axis=1, inplace=True)\n",
    "avisos_detalles['sexo'] = avisos_detalles.descripcion.str.lower().str.extract(r'(masculino|hombre|femenino|mujer)')\n",
    "# avisos_detalles = avisos_detalles[avisos_detalles['nombre_area'] == 'Dirección y Liderazgo']\n",
    "#pd.options.display.max_rows = None\n",
    "df = pd.DataFrame(avisos_detalles.groupby(['nombre_area', 'sexo']).count())\n",
    "df = df.dropna()\n",
    "df.head()"
   ]
  },
  {
   "cell_type": "markdown",
   "metadata": {
    "collapsed": true
   },
   "source": [
    "### mujeres mas en consultorio pero piden mas hombres"
   ]
  },
  {
   "cell_type": "code",
   "execution_count": 29,
   "metadata": {},
   "outputs": [
    {
     "data": {
      "text/html": [
       "<div>\n",
       "<style scoped>\n",
       "    .dataframe tbody tr th:only-of-type {\n",
       "        vertical-align: middle;\n",
       "    }\n",
       "\n",
       "    .dataframe tbody tr th {\n",
       "        vertical-align: top;\n",
       "    }\n",
       "\n",
       "    .dataframe thead th {\n",
       "        text-align: right;\n",
       "    }\n",
       "</style>\n",
       "<table border=\"1\" class=\"dataframe\">\n",
       "  <thead>\n",
       "    <tr style=\"text-align: right;\">\n",
       "      <th></th>\n",
       "      <th>idaviso</th>\n",
       "    </tr>\n",
       "  </thead>\n",
       "  <tbody>\n",
       "    <tr>\n",
       "      <th>count</th>\n",
       "      <td>1.288600e+04</td>\n",
       "    </tr>\n",
       "    <tr>\n",
       "      <th>mean</th>\n",
       "      <td>1.110856e+09</td>\n",
       "    </tr>\n",
       "    <tr>\n",
       "      <th>std</th>\n",
       "      <td>3.164357e+07</td>\n",
       "    </tr>\n",
       "    <tr>\n",
       "      <th>min</th>\n",
       "      <td>1.672250e+06</td>\n",
       "    </tr>\n",
       "    <tr>\n",
       "      <th>25%</th>\n",
       "      <td>1.112222e+09</td>\n",
       "    </tr>\n",
       "    <tr>\n",
       "      <th>50%</th>\n",
       "      <td>1.112278e+09</td>\n",
       "    </tr>\n",
       "    <tr>\n",
       "      <th>75%</th>\n",
       "      <td>1.112339e+09</td>\n",
       "    </tr>\n",
       "    <tr>\n",
       "      <th>max</th>\n",
       "      <td>1.112389e+09</td>\n",
       "    </tr>\n",
       "  </tbody>\n",
       "</table>\n",
       "</div>"
      ],
      "text/plain": [
       "            idaviso\n",
       "count  1.288600e+04\n",
       "mean   1.110856e+09\n",
       "std    3.164357e+07\n",
       "min    1.672250e+06\n",
       "25%    1.112222e+09\n",
       "50%    1.112278e+09\n",
       "75%    1.112339e+09\n",
       "max    1.112389e+09"
      ]
     },
     "execution_count": 29,
     "metadata": {},
     "output_type": "execute_result"
    }
   ],
   "source": [
    "avisos_detalles.describe()"
   ]
  },
  {
   "cell_type": "code",
   "execution_count": 30,
   "metadata": {},
   "outputs": [
    {
     "data": {
      "image/png": "[encoded data removed]",
      "text/plain": [
       "<matplotlib.figure.Figure at 0x7f567728add8>"
      ]
     },
     "metadata": {},
     "output_type": "display_data"
    }
   ],
   "source": [
    "ax = plt.gca()\n",
    "\n",
    "dataFrame = pd.DataFrame()\n",
    "\n",
    "dataFrame['Visitas'] = (visitas_con_detalle_de_aviso_y_usuario[\\\n",
    "    (visitas_con_detalle_de_aviso_y_usuario.nombre == 'Universitario') &           \n",
    "    (visitas_con_detalle_de_aviso_y_usuario.estado == 'Graduado')             \n",
    "]).groupby(['tipo_de_trabajo'])['idaviso'].count()\n",
    "\n",
    "dataFrame['Postulaciones'] = (postulaciones_con_detalle_de_aviso_y_usuario[\\\n",
    "    (postulaciones_con_detalle_de_aviso_y_usuario.nombre == 'Universitario') &                                                                   \n",
    "    (postulaciones_con_detalle_de_aviso_y_usuario.estado == 'Graduado'     )                    \n",
    "]).groupby(['tipo_de_trabajo'])['idaviso'].count() \n",
    "\n",
    "# Esta operacion es porque las visitas que provienen de CSV, solo cuentan las visitas que no terminaron en postulacion\n",
    "dataFrame['Visitas'] = dataFrame['Visitas'] + dataFrame['Postulaciones']\n",
    "                               \n",
    "dataFrame.plot(kind='barh', figsize=(14,6), logx=True, ax=ax, title='Visitas y postulaciones de los estudiantes universitarios a los diferentes tipos de trabajo ');\n",
    "ax.set_xlabel('Cantidad de postulaciones');\n",
    "ax.set_ylabel('Nombre del area');"
   ]
  },
  {
   "cell_type": "markdown",
   "metadata": {},
   "source": [
    "### En comparacion con los no graduados vemos una caida de los puestos laborales en forma de pasantia y vemos un aumento de los trabajos por contrato"
   ]
  },
  {
   "cell_type": "markdown",
   "metadata": {},
   "source": [
    "### Vemos cosas interesantes en esta comparacion, primeramente que se intercambia el area de comercial y ventas con el area de contabilidad(podemos inferir que al recibirse pasan de ser vendedores a la contaduria o administrativos), ademas que el 3er puesto mas solicitado siendo universitario en curso es recepcionista/Secretaria siendo que no posee una carrera universitaria para ello, lo cual nos indica que se usa como medio para poder seguir estudiando.(esto se puede mejorar)"
   ]
  },
  {
   "cell_type": "code",
   "execution_count": 31,
   "metadata": {},
   "outputs": [
    {
     "data": {
      "text/html": [
       "<div>\n",
       "<style scoped>\n",
       "    .dataframe tbody tr th:only-of-type {\n",
       "        vertical-align: middle;\n",
       "    }\n",
       "\n",
       "    .dataframe tbody tr th {\n",
       "        vertical-align: top;\n",
       "    }\n",
       "\n",
       "    .dataframe thead th {\n",
       "        text-align: right;\n",
       "    }\n",
       "</style>\n",
       "<table border=\"1\" class=\"dataframe\">\n",
       "  <thead>\n",
       "    <tr style=\"text-align: right;\">\n",
       "      <th></th>\n",
       "      <th>idaviso</th>\n",
       "      <th>cant_postulaciones</th>\n",
       "      <th>titulo</th>\n",
       "      <th>descripcion</th>\n",
       "      <th>nombre_zona</th>\n",
       "      <th>ciudad</th>\n",
       "      <th>mapacalle</th>\n",
       "      <th>tipo_de_trabajo</th>\n",
       "      <th>nivel_laboral</th>\n",
       "      <th>nombre_area</th>\n",
       "      <th>denominacion_empresa</th>\n",
       "      <th>sexo</th>\n",
       "    </tr>\n",
       "  </thead>\n",
       "  <tbody>\n",
       "    <tr>\n",
       "      <th>0</th>\n",
       "      <td>1112033906</td>\n",
       "      <td>9932</td>\n",
       "      <td>Cajero/a-Repositor/a (Capital Federal)</td>\n",
       "      <td>&lt;p&gt;Te estamos buscando para formar parte de nu...</td>\n",
       "      <td>Gran Buenos Aires</td>\n",
       "      <td>NaN</td>\n",
       "      <td>NaN</td>\n",
       "      <td>Full-time</td>\n",
       "      <td>Senior / Semi-Senior</td>\n",
       "      <td>Comercial y Ventas</td>\n",
       "      <td>Farmacity</td>\n",
       "      <td>NaN</td>\n",
       "    </tr>\n",
       "    <tr>\n",
       "      <th>1</th>\n",
       "      <td>1112334791</td>\n",
       "      <td>9787</td>\n",
       "      <td>Cajero/a - Part Time</td>\n",
       "      <td>&lt;p&gt;Te estamos buscando para formar parte de un...</td>\n",
       "      <td>Gran Buenos Aires</td>\n",
       "      <td>NaN</td>\n",
       "      <td>NaN</td>\n",
       "      <td>Full-time</td>\n",
       "      <td>Senior / Semi-Senior</td>\n",
       "      <td>Comercial y Ventas</td>\n",
       "      <td>Farmacity</td>\n",
       "      <td>NaN</td>\n",
       "    </tr>\n",
       "    <tr>\n",
       "      <th>2</th>\n",
       "      <td>1112204682</td>\n",
       "      <td>9244</td>\n",
       "      <td>Cajero/a - Part Time</td>\n",
       "      <td>&lt;p&gt;Te estamos buscando para formar parte de un...</td>\n",
       "      <td>Gran Buenos Aires</td>\n",
       "      <td>NaN</td>\n",
       "      <td>NaN</td>\n",
       "      <td>Full-time</td>\n",
       "      <td>Senior / Semi-Senior</td>\n",
       "      <td>Comercial y Ventas</td>\n",
       "      <td>Farmacity</td>\n",
       "      <td>NaN</td>\n",
       "    </tr>\n",
       "    <tr>\n",
       "      <th>3</th>\n",
       "      <td>1112094756</td>\n",
       "      <td>8763</td>\n",
       "      <td>Representante de Atencion al Cliente/ Banco</td>\n",
       "      <td>&lt;p&gt;Seleccionaremos para Importante Entidad Ban...</td>\n",
       "      <td>Gran Buenos Aires</td>\n",
       "      <td>NaN</td>\n",
       "      <td>NaN</td>\n",
       "      <td>Part-time</td>\n",
       "      <td>Senior / Semi-Senior</td>\n",
       "      <td>Comercial y Ventas</td>\n",
       "      <td>RANDSTAD</td>\n",
       "      <td>NaN</td>\n",
       "    </tr>\n",
       "    <tr>\n",
       "      <th>4</th>\n",
       "      <td>1112345900</td>\n",
       "      <td>8304</td>\n",
       "      <td>Asesores de Atención al Público - Part time</td>\n",
       "      <td>&lt;p&gt;&lt;em&gt;&lt;strong&gt;¡Sumate al equipo UP!&lt;/strong&gt;&lt;...</td>\n",
       "      <td>Capital Federal</td>\n",
       "      <td>NaN</td>\n",
       "      <td>Palermo</td>\n",
       "      <td>Part-time</td>\n",
       "      <td>Junior</td>\n",
       "      <td>Consultoria</td>\n",
       "      <td>Universidad de Palermo</td>\n",
       "      <td>NaN</td>\n",
       "    </tr>\n",
       "  </tbody>\n",
       "</table>\n",
       "</div>"
      ],
      "text/plain": [
       "      idaviso  cant_postulaciones  \\\n",
       "0  1112033906                9932   \n",
       "1  1112334791                9787   \n",
       "2  1112204682                9244   \n",
       "3  1112094756                8763   \n",
       "4  1112345900                8304   \n",
       "\n",
       "                                        titulo  \\\n",
       "0       Cajero/a-Repositor/a (Capital Federal)   \n",
       "1                        Cajero/a - Part Time    \n",
       "2                        Cajero/a - Part Time    \n",
       "3  Representante de Atencion al Cliente/ Banco   \n",
       "4  Asesores de Atención al Público - Part time   \n",
       "\n",
       "                                         descripcion        nombre_zona  \\\n",
       "0  <p>Te estamos buscando para formar parte de nu...  Gran Buenos Aires   \n",
       "1  <p>Te estamos buscando para formar parte de un...  Gran Buenos Aires   \n",
       "2  <p>Te estamos buscando para formar parte de un...  Gran Buenos Aires   \n",
       "3  <p>Seleccionaremos para Importante Entidad Ban...  Gran Buenos Aires   \n",
       "4  <p><em><strong>¡Sumate al equipo UP!</strong><...    Capital Federal   \n",
       "\n",
       "  ciudad mapacalle tipo_de_trabajo         nivel_laboral         nombre_area  \\\n",
       "0    NaN       NaN       Full-time  Senior / Semi-Senior  Comercial y Ventas   \n",
       "1    NaN       NaN       Full-time  Senior / Semi-Senior  Comercial y Ventas   \n",
       "2    NaN       NaN       Full-time  Senior / Semi-Senior  Comercial y Ventas   \n",
       "3    NaN       NaN       Part-time  Senior / Semi-Senior  Comercial y Ventas   \n",
       "4    NaN  Palermo        Part-time                Junior         Consultoria   \n",
       "\n",
       "     denominacion_empresa sexo  \n",
       "0               Farmacity  NaN  \n",
       "1               Farmacity  NaN  \n",
       "2               Farmacity  NaN  \n",
       "3                RANDSTAD  NaN  \n",
       "4  Universidad de Palermo  NaN  "
      ]
     },
     "execution_count": 31,
     "metadata": {},
     "output_type": "execute_result"
    }
   ],
   "source": [
    "#avisos_detalles.head()\n",
    "#postulaciones.head()\n",
    "#post_max = pd.merge(postulaciones, postul, on='idaviso')\n",
    "post_group =postulaciones.groupby('idaviso')['idpostulante'].count().reset_index()\n",
    "post_group.rename(columns={'idpostulante':'cant_postulaciones'},inplace=True)\n",
    "post_group.sort_values(by='cant_postulaciones',ascending=False,inplace=True)\n",
    "post_group = pd.merge(post_group, avisos_detalles, on='idaviso')\n",
    "post_group.head()"
   ]
  },
  {
   "cell_type": "code",
   "execution_count": 32,
   "metadata": {},
   "outputs": [
    {
     "data": {
      "text/html": [
       "<div>\n",
       "<style scoped>\n",
       "    .dataframe tbody tr th:only-of-type {\n",
       "        vertical-align: middle;\n",
       "    }\n",
       "\n",
       "    .dataframe tbody tr th {\n",
       "        vertical-align: top;\n",
       "    }\n",
       "\n",
       "    .dataframe thead th {\n",
       "        text-align: right;\n",
       "    }\n",
       "</style>\n",
       "<table border=\"1\" class=\"dataframe\">\n",
       "  <thead>\n",
       "    <tr style=\"text-align: right;\">\n",
       "      <th></th>\n",
       "      <th>idaviso</th>\n",
       "      <th>cant_postulaciones</th>\n",
       "      <th>titulo</th>\n",
       "      <th>descripcion</th>\n",
       "      <th>nivel_laboral</th>\n",
       "      <th>nombre_area</th>\n",
       "      <th>denominacion_empresa</th>\n",
       "    </tr>\n",
       "  </thead>\n",
       "  <tbody>\n",
       "    <tr>\n",
       "      <th>0</th>\n",
       "      <td>1112033906</td>\n",
       "      <td>9932</td>\n",
       "      <td>Cajero/a-Repositor/a (Capital Federal)</td>\n",
       "      <td>&lt;p&gt;Te estamos buscando para formar parte de nu...</td>\n",
       "      <td>Senior / Semi-Senior</td>\n",
       "      <td>Comercial y Ventas</td>\n",
       "      <td>Farmacity</td>\n",
       "    </tr>\n",
       "    <tr>\n",
       "      <th>1</th>\n",
       "      <td>1112334791</td>\n",
       "      <td>9787</td>\n",
       "      <td>Cajero/a - Part Time</td>\n",
       "      <td>&lt;p&gt;Te estamos buscando para formar parte de un...</td>\n",
       "      <td>Senior / Semi-Senior</td>\n",
       "      <td>Comercial y Ventas</td>\n",
       "      <td>Farmacity</td>\n",
       "    </tr>\n",
       "    <tr>\n",
       "      <th>2</th>\n",
       "      <td>1112204682</td>\n",
       "      <td>9244</td>\n",
       "      <td>Cajero/a - Part Time</td>\n",
       "      <td>&lt;p&gt;Te estamos buscando para formar parte de un...</td>\n",
       "      <td>Senior / Semi-Senior</td>\n",
       "      <td>Comercial y Ventas</td>\n",
       "      <td>Farmacity</td>\n",
       "    </tr>\n",
       "    <tr>\n",
       "      <th>3</th>\n",
       "      <td>1112094756</td>\n",
       "      <td>8763</td>\n",
       "      <td>Representante de Atencion al Cliente/ Banco</td>\n",
       "      <td>&lt;p&gt;Seleccionaremos para Importante Entidad Ban...</td>\n",
       "      <td>Senior / Semi-Senior</td>\n",
       "      <td>Comercial y Ventas</td>\n",
       "      <td>RANDSTAD</td>\n",
       "    </tr>\n",
       "    <tr>\n",
       "      <th>4</th>\n",
       "      <td>1112345900</td>\n",
       "      <td>8304</td>\n",
       "      <td>Asesores de Atención al Público - Part time</td>\n",
       "      <td>&lt;p&gt;&lt;em&gt;&lt;strong&gt;¡Sumate al equipo UP!&lt;/strong&gt;&lt;...</td>\n",
       "      <td>Junior</td>\n",
       "      <td>Consultoria</td>\n",
       "      <td>Universidad de Palermo</td>\n",
       "    </tr>\n",
       "    <tr>\n",
       "      <th>5</th>\n",
       "      <td>1112319451</td>\n",
       "      <td>8025</td>\n",
       "      <td>Cajera/o (Capital Federal / Zona Norte)</td>\n",
       "      <td>&lt;p&gt;&lt;strong&gt;¡En FRÁVEGA tenemos nuevas OPORTUNI...</td>\n",
       "      <td>Senior / Semi-Senior</td>\n",
       "      <td>Contabilidad y Administración</td>\n",
       "      <td>Frávega</td>\n",
       "    </tr>\n",
       "    <tr>\n",
       "      <th>6</th>\n",
       "      <td>1112298966</td>\n",
       "      <td>7637</td>\n",
       "      <td>Representante de Atención al Cliente  - Call C...</td>\n",
       "      <td>&lt;p&gt;&lt;span lang=\"ES\" style=\"\"&gt;Incorporaremos a n...</td>\n",
       "      <td>Junior</td>\n",
       "      <td>Comercial y Ventas</td>\n",
       "      <td>Fundación Favaloro</td>\n",
       "    </tr>\n",
       "    <tr>\n",
       "      <th>7</th>\n",
       "      <td>1112262494</td>\n",
       "      <td>7541</td>\n",
       "      <td>OPERADORES TELEFÓNICOS DE ATENCIÓN AL CLIENTE</td>\n",
       "      <td>&lt;p style=\"\"&gt;Buscamos Operadores Telefónicos pa...</td>\n",
       "      <td>Senior / Semi-Senior</td>\n",
       "      <td>Consultoria</td>\n",
       "      <td>BBVA Francés</td>\n",
       "    </tr>\n",
       "    <tr>\n",
       "      <th>8</th>\n",
       "      <td>1112305277</td>\n",
       "      <td>7153</td>\n",
       "      <td>CAJERO/A PART TIME - CABA</td>\n",
       "      <td>&lt;p&gt;Orientamos nuestra búsqueda a estudiantes  ...</td>\n",
       "      <td>Junior</td>\n",
       "      <td>Contabilidad y Administración</td>\n",
       "      <td>BBVA Francés</td>\n",
       "    </tr>\n",
       "    <tr>\n",
       "      <th>9</th>\n",
       "      <td>1112296264</td>\n",
       "      <td>6968</td>\n",
       "      <td>Recepcionista Administrativa - Part Time</td>\n",
       "      <td>&lt;p&gt;Entre sus tareas mas importantes se encuent...</td>\n",
       "      <td>Junior</td>\n",
       "      <td>Recepcionista / Secretaria</td>\n",
       "      <td>Roilands Real Estate</td>\n",
       "    </tr>\n",
       "    <tr>\n",
       "      <th>10</th>\n",
       "      <td>1112334788</td>\n",
       "      <td>6797</td>\n",
       "      <td>Cajero/a-Repositor/a (Capital Federal)</td>\n",
       "      <td>&lt;p&gt;Te estamos buscando para formar parte de nu...</td>\n",
       "      <td>Senior / Semi-Senior</td>\n",
       "      <td>Comercial y Ventas</td>\n",
       "      <td>Farmacity</td>\n",
       "    </tr>\n",
       "    <tr>\n",
       "      <th>11</th>\n",
       "      <td>1112280937</td>\n",
       "      <td>6187</td>\n",
       "      <td>Empleados/as Para Limpieza (contratación efect...</td>\n",
       "      <td>&lt;p style=\"\"&gt;&lt;span style=\"\"&gt;Importante empresa ...</td>\n",
       "      <td>Senior / Semi-Senior</td>\n",
       "      <td>Mantenimiento y Limpieza</td>\n",
       "      <td>HuCap</td>\n",
       "    </tr>\n",
       "    <tr>\n",
       "      <th>12</th>\n",
       "      <td>1112260584</td>\n",
       "      <td>6113</td>\n",
       "      <td>Recepción Part Time</td>\n",
       "      <td>&lt;p&gt;&lt;strong&gt;Adecco Office&lt;/strong&gt; está especia...</td>\n",
       "      <td>Senior / Semi-Senior</td>\n",
       "      <td>Recepcionista / Secretaria</td>\n",
       "      <td>Adecco -Región Office</td>\n",
       "    </tr>\n",
       "    <tr>\n",
       "      <th>13</th>\n",
       "      <td>1112316288</td>\n",
       "      <td>5932</td>\n",
       "      <td>CAJERAS Y VENDEDORAS</td>\n",
       "      <td>&lt;p&gt;47 STREET seleccionará personal para cubrir...</td>\n",
       "      <td>Senior / Semi-Senior</td>\n",
       "      <td>Comercial y Ventas</td>\n",
       "      <td>47 street</td>\n",
       "    </tr>\n",
       "    <tr>\n",
       "      <th>14</th>\n",
       "      <td>1112344973</td>\n",
       "      <td>5924</td>\n",
       "      <td>Operador Telefónico Atención al Cliente - Turn...</td>\n",
       "      <td>&lt;p&gt;En Red Link creemos en el trabajo en equipo...</td>\n",
       "      <td>Senior / Semi-Senior</td>\n",
       "      <td>Comercial y Ventas</td>\n",
       "      <td>RED LINK SA</td>\n",
       "    </tr>\n",
       "    <tr>\n",
       "      <th>15</th>\n",
       "      <td>1111753681</td>\n",
       "      <td>5887</td>\n",
       "      <td>Cajero/a Administrativo/a- Full Time</td>\n",
       "      <td>&lt;p&gt;&lt;strong&gt;Incorporamos a nuestro equipo de tr...</td>\n",
       "      <td>Senior / Semi-Senior</td>\n",
       "      <td>Contabilidad y Administración</td>\n",
       "      <td>DISTRIBUIDORA ELECTRO SUR</td>\n",
       "    </tr>\n",
       "    <tr>\n",
       "      <th>16</th>\n",
       "      <td>1112349037</td>\n",
       "      <td>5665</td>\n",
       "      <td>Representante de Atención al Cliente</td>\n",
       "      <td>&lt;p align=\"center\"&gt;EN &lt;strong&gt;MO&amp;amp;PC&lt;/strong...</td>\n",
       "      <td>Senior / Semi-Senior</td>\n",
       "      <td>Consultoria</td>\n",
       "      <td>MO&amp;PC Collections Argentina S.R.L</td>\n",
       "    </tr>\n",
       "    <tr>\n",
       "      <th>17</th>\n",
       "      <td>1112196813</td>\n",
       "      <td>5602</td>\n",
       "      <td>CAJERO/A - CABA</td>\n",
       "      <td>&lt;p&gt;Orientamos nuestra búsqueda a estudiantes  ...</td>\n",
       "      <td>Junior</td>\n",
       "      <td>Contabilidad y Administración</td>\n",
       "      <td>BBVA Francés</td>\n",
       "    </tr>\n",
       "    <tr>\n",
       "      <th>18</th>\n",
       "      <td>1112206678</td>\n",
       "      <td>5432</td>\n",
       "      <td>Programa Jóvenes Emprendedores 2018</td>\n",
       "      <td>&lt;p&gt;Formá parte de la empresa de alimentos núme...</td>\n",
       "      <td>Senior / Semi-Senior</td>\n",
       "      <td>Producción</td>\n",
       "      <td>Grupo Arcor</td>\n",
       "    </tr>\n",
       "    <tr>\n",
       "      <th>19</th>\n",
       "      <td>1112299531</td>\n",
       "      <td>5321</td>\n",
       "      <td>Representante de Atención al cliente</td>\n",
       "      <td>&lt;p&gt;&lt;strong&gt;Somos un call center multinacional ...</td>\n",
       "      <td>Junior</td>\n",
       "      <td>Comercial y Ventas</td>\n",
       "      <td>Aegis Argentina S.A</td>\n",
       "    </tr>\n",
       "  </tbody>\n",
       "</table>\n",
       "</div>"
      ],
      "text/plain": [
       "       idaviso  cant_postulaciones  \\\n",
       "0   1112033906                9932   \n",
       "1   1112334791                9787   \n",
       "2   1112204682                9244   \n",
       "3   1112094756                8763   \n",
       "4   1112345900                8304   \n",
       "5   1112319451                8025   \n",
       "6   1112298966                7637   \n",
       "7   1112262494                7541   \n",
       "8   1112305277                7153   \n",
       "9   1112296264                6968   \n",
       "10  1112334788                6797   \n",
       "11  1112280937                6187   \n",
       "12  1112260584                6113   \n",
       "13  1112316288                5932   \n",
       "14  1112344973                5924   \n",
       "15  1111753681                5887   \n",
       "16  1112349037                5665   \n",
       "17  1112196813                5602   \n",
       "18  1112206678                5432   \n",
       "19  1112299531                5321   \n",
       "\n",
       "                                               titulo  \\\n",
       "0              Cajero/a-Repositor/a (Capital Federal)   \n",
       "1                               Cajero/a - Part Time    \n",
       "2                               Cajero/a - Part Time    \n",
       "3         Representante de Atencion al Cliente/ Banco   \n",
       "4         Asesores de Atención al Público - Part time   \n",
       "5             Cajera/o (Capital Federal / Zona Norte)   \n",
       "6   Representante de Atención al Cliente  - Call C...   \n",
       "7       OPERADORES TELEFÓNICOS DE ATENCIÓN AL CLIENTE   \n",
       "8                           CAJERO/A PART TIME - CABA   \n",
       "9            Recepcionista Administrativa - Part Time   \n",
       "10             Cajero/a-Repositor/a (Capital Federal)   \n",
       "11  Empleados/as Para Limpieza (contratación efect...   \n",
       "12                                Recepción Part Time   \n",
       "13                               CAJERAS Y VENDEDORAS   \n",
       "14  Operador Telefónico Atención al Cliente - Turn...   \n",
       "15               Cajero/a Administrativo/a- Full Time   \n",
       "16               Representante de Atención al Cliente   \n",
       "17                                    CAJERO/A - CABA   \n",
       "18                Programa Jóvenes Emprendedores 2018   \n",
       "19              Representante de Atención al cliente    \n",
       "\n",
       "                                          descripcion         nivel_laboral  \\\n",
       "0   <p>Te estamos buscando para formar parte de nu...  Senior / Semi-Senior   \n",
       "1   <p>Te estamos buscando para formar parte de un...  Senior / Semi-Senior   \n",
       "2   <p>Te estamos buscando para formar parte de un...  Senior / Semi-Senior   \n",
       "3   <p>Seleccionaremos para Importante Entidad Ban...  Senior / Semi-Senior   \n",
       "4   <p><em><strong>¡Sumate al equipo UP!</strong><...                Junior   \n",
       "5   <p><strong>¡En FRÁVEGA tenemos nuevas OPORTUNI...  Senior / Semi-Senior   \n",
       "6   <p><span lang=\"ES\" style=\"\">Incorporaremos a n...                Junior   \n",
       "7   <p style=\"\">Buscamos Operadores Telefónicos pa...  Senior / Semi-Senior   \n",
       "8   <p>Orientamos nuestra búsqueda a estudiantes  ...                Junior   \n",
       "9   <p>Entre sus tareas mas importantes se encuent...                Junior   \n",
       "10  <p>Te estamos buscando para formar parte de nu...  Senior / Semi-Senior   \n",
       "11  <p style=\"\"><span style=\"\">Importante empresa ...  Senior / Semi-Senior   \n",
       "12  <p><strong>Adecco Office</strong> está especia...  Senior / Semi-Senior   \n",
       "13  <p>47 STREET seleccionará personal para cubrir...  Senior / Semi-Senior   \n",
       "14  <p>En Red Link creemos en el trabajo en equipo...  Senior / Semi-Senior   \n",
       "15  <p><strong>Incorporamos a nuestro equipo de tr...  Senior / Semi-Senior   \n",
       "16  <p align=\"center\">EN <strong>MO&amp;PC</strong...  Senior / Semi-Senior   \n",
       "17  <p>Orientamos nuestra búsqueda a estudiantes  ...                Junior   \n",
       "18  <p>Formá parte de la empresa de alimentos núme...  Senior / Semi-Senior   \n",
       "19  <p><strong>Somos un call center multinacional ...                Junior   \n",
       "\n",
       "                      nombre_area               denominacion_empresa  \n",
       "0              Comercial y Ventas                          Farmacity  \n",
       "1              Comercial y Ventas                          Farmacity  \n",
       "2              Comercial y Ventas                          Farmacity  \n",
       "3              Comercial y Ventas                           RANDSTAD  \n",
       "4                     Consultoria             Universidad de Palermo  \n",
       "5   Contabilidad y Administración                            Frávega  \n",
       "6              Comercial y Ventas                 Fundación Favaloro  \n",
       "7                     Consultoria                       BBVA Francés  \n",
       "8   Contabilidad y Administración                       BBVA Francés  \n",
       "9      Recepcionista / Secretaria               Roilands Real Estate  \n",
       "10             Comercial y Ventas                          Farmacity  \n",
       "11       Mantenimiento y Limpieza                              HuCap  \n",
       "12     Recepcionista / Secretaria              Adecco -Región Office  \n",
       "13             Comercial y Ventas                          47 street  \n",
       "14             Comercial y Ventas                        RED LINK SA  \n",
       "15  Contabilidad y Administración          DISTRIBUIDORA ELECTRO SUR  \n",
       "16                    Consultoria  MO&PC Collections Argentina S.R.L  \n",
       "17  Contabilidad y Administración                       BBVA Francés  \n",
       "18                     Producción                        Grupo Arcor  \n",
       "19             Comercial y Ventas                Aegis Argentina S.A  "
      ]
     },
     "execution_count": 32,
     "metadata": {},
     "output_type": "execute_result"
    }
   ],
   "source": [
    "post_group.drop(['mapacalle','ciudad','nombre_zona','sexo','tipo_de_trabajo'],1,inplace=True)\n",
    "post_max = post_group.head(20)\n",
    "post_max"
   ]
  },
  {
   "cell_type": "code",
   "execution_count": 33,
   "metadata": {
    "collapsed": true
   },
   "outputs": [],
   "source": [
    "post_max['descripcion'] = post_max['descripcion'].str.replace('<p>','')\n",
    "post_max['descripcion'] = post_max['descripcion'].str.replace('<br />',' ')\n",
    "post_max['descripcion'] = post_max['descripcion'].str.replace('</p>',' ')\n",
    "post_max['descripcion'] = post_max['descripcion'].str.replace('<em>','')\n",
    "post_max['descripcion'] = post_max['descripcion'].str.replace('</em>',' ')\n",
    "post_max['descripcion'] = post_max['descripcion'].str.replace('<strong>','')\n",
    "post_max['descripcion'] = post_max['descripcion'].str.replace('</strong>',' ')\n"
   ]
  },
  {
   "cell_type": "code",
   "execution_count": 34,
   "metadata": {},
   "outputs": [
    {
     "data": {
      "text/html": [
       "<div>\n",
       "<style scoped>\n",
       "    .dataframe tbody tr th:only-of-type {\n",
       "        vertical-align: middle;\n",
       "    }\n",
       "\n",
       "    .dataframe tbody tr th {\n",
       "        vertical-align: top;\n",
       "    }\n",
       "\n",
       "    .dataframe thead th {\n",
       "        text-align: right;\n",
       "    }\n",
       "</style>\n",
       "<table border=\"1\" class=\"dataframe\">\n",
       "  <thead>\n",
       "    <tr style=\"text-align: right;\">\n",
       "      <th></th>\n",
       "      <th>idaviso</th>\n",
       "      <th>cant_postulaciones</th>\n",
       "      <th>titulo</th>\n",
       "      <th>descripcion</th>\n",
       "      <th>nivel_laboral</th>\n",
       "      <th>nombre_area</th>\n",
       "      <th>denominacion_empresa</th>\n",
       "    </tr>\n",
       "  </thead>\n",
       "  <tbody>\n",
       "    <tr>\n",
       "      <th>0</th>\n",
       "      <td>1112033906</td>\n",
       "      <td>9932</td>\n",
       "      <td>Cajero/a-Repositor/a (Capital Federal)</td>\n",
       "      <td>Te estamos buscando para formar parte de nuestro equipo de trabajo para nuestras sucursales de Farmacity.  ¿Querés sumarte?  Si tenes perfil comercial, terminaste tus estudios secundarios, te gusta trabajar y relacionarte con personas, este es tu lugar.  ¿Qué buscamos?  Personas con vocación de servicio para la atención de nuestros pacientes/clientes, dinámicas y proactivas, para las distintas sucursales de Capital federal, que posean disponibilidad para trabajar 6 días a la semana, 8hs por día (turno tarde-noche).  ¿Qué ofrecemos?  Excelentes condiciones laborales, posibilidades de desarrollo en un ambiente de trabajo que promueve la capacitación y un buen clima laboral. ¡Súmate a nuestro equipo!  Para que podamos tener en cuenta tu CV, postulate haciendo clic en este link: https://career4.successfactors.com/sfcareer/jobreqcareer?jobId=4185&amp;amp;company=farmacitysP&amp;amp;username= Incentivamos  a que se postulen perfiles de todas las edades</td>\n",
       "      <td>Senior / Semi-Senior</td>\n",
       "      <td>Comercial y Ventas</td>\n",
       "      <td>Farmacity</td>\n",
       "    </tr>\n",
       "    <tr>\n",
       "      <th>1</th>\n",
       "      <td>1112334791</td>\n",
       "      <td>9787</td>\n",
       "      <td>Cajero/a - Part Time</td>\n",
       "      <td>Te estamos buscando para formar parte de un proyecto novedoso e innovador, para ocupar la posición de Cajero/a. Estaremos realizando la apertura de Simplicity, un nuevo formato de tiendas en la zona de Capital federal.  ¿Queres formar parte de nuestro equipo? Si tenes perfil comercial, terminaste tus estudios secundarios, tenes ganas de enfrentar nuevos desafíos, te gusta trabajar en equipo y el relacionarte con personas, ¡súmate a nuestro equipo!  ¿Que buscamos?  Personas proactivas, con vocación de servicio y disponibilidad horaria para la atención de nuestros clientes.  ¿Que ofrecemos?  Excelentes condiciones laborales y posibilidades de desarrollo en un ambiente de trabajo que promueve la capacitación, un buen clima laboral y el trabajo en equipo. ¡Queremos que seas parte de este desafío!  Para que podamos tener en cuenta tu CV, postulate haciendo clic en este link: https://career4.successfactors.com/sfcareer/jobreqcareer?jobId=4188&amp;amp;company=farmacitysP&amp;amp;username= Incentivamos  a que se postulen perfiles de todas las edades</td>\n",
       "      <td>Senior / Semi-Senior</td>\n",
       "      <td>Comercial y Ventas</td>\n",
       "      <td>Farmacity</td>\n",
       "    </tr>\n",
       "    <tr>\n",
       "      <th>2</th>\n",
       "      <td>1112204682</td>\n",
       "      <td>9244</td>\n",
       "      <td>Cajero/a - Part Time</td>\n",
       "      <td>Te estamos buscando para formar parte de un proyecto novedoso e innovador, para ocupar la posición de Cajero/a. Estaremos realizando la apertura de Simplicity, un nuevo formato de tiendas en la zona de Capital federal.  ¿Queres formar parte de nuestro equipo? Si tenes perfil comercial, terminaste tus estudios secundarios, tenes ganas de enfrentar nuevos desafíos, te gusta trabajar en equipo y el relacionarte con personas, ¡súmate a nuestro equipo!  ¿Que buscamos?  Personas proactivas, con vocación de servicio y disponibilidad horaria para la atención de nuestros clientes.  ¿Que ofrecemos?  Excelentes condiciones laborales y posibilidades de desarrollo en un ambiente de trabajo que promueve la capacitación, un buen clima laboral y el trabajo en equipo. ¡Queremos que seas parte de este desafío!  Para que podamos tener en cuenta tu CV, postulate haciendo clic en este link: https://career4.successfactors.com/sfcareer/jobreqcareer?jobId=4188&amp;amp;company=farmacitysP&amp;amp;username= Incentivamos  a que se postulen perfiles de todas las edades</td>\n",
       "      <td>Senior / Semi-Senior</td>\n",
       "      <td>Comercial y Ventas</td>\n",
       "      <td>Farmacity</td>\n",
       "    </tr>\n",
       "    <tr>\n",
       "      <th>3</th>\n",
       "      <td>1112094756</td>\n",
       "      <td>8763</td>\n",
       "      <td>Representante de Atencion al Cliente/ Banco</td>\n",
       "      <td>Seleccionaremos para Importante Entidad Bancaria, representantes de atencion al cliente para su centro de servicios en Capital Federal. Gestionaran consultas, reclamos y asesoraran a clientes y potenciales. Jornada laboral: 6 hs // 8 a 14 hs o de 14 a 20 hs Deberan contar con experiencia previa en posiciones afines. Estudios Universitarios en curso (excluyente). Sueldo de convenio Indicar pretensiones</td>\n",
       "      <td>Senior / Semi-Senior</td>\n",
       "      <td>Comercial y Ventas</td>\n",
       "      <td>RANDSTAD</td>\n",
       "    </tr>\n",
       "    <tr>\n",
       "      <th>4</th>\n",
       "      <td>1112345900</td>\n",
       "      <td>8304</td>\n",
       "      <td>Asesores de Atención al Público - Part time</td>\n",
       "      <td>¡Sumate al equipo UP!     Buscamos asesores de atención al público Part Time con ganas de crecer y desarrollarse profesionalmente       Requisitos:   - Estudiantes universitarios - Residencia en C.A.B.A. - Experiencia previa en puestos de atención al cliente, call center o similares.    Incorporate a un equipo dinámico, joven y con muy buen clima. Te ofrecemos un atractivo plan de beneficios corporativos y posibilidades de crecimiento.   Indicar remuneración bruta pretendida.</td>\n",
       "      <td>Junior</td>\n",
       "      <td>Consultoria</td>\n",
       "      <td>Universidad de Palermo</td>\n",
       "    </tr>\n",
       "  </tbody>\n",
       "</table>\n",
       "</div>"
      ],
      "text/plain": [
       "      idaviso  cant_postulaciones  \\\n",
       "0  1112033906                9932   \n",
       "1  1112334791                9787   \n",
       "2  1112204682                9244   \n",
       "3  1112094756                8763   \n",
       "4  1112345900                8304   \n",
       "\n",
       "                                        titulo  \\\n",
       "0       Cajero/a-Repositor/a (Capital Federal)   \n",
       "1                        Cajero/a - Part Time    \n",
       "2                        Cajero/a - Part Time    \n",
       "3  Representante de Atencion al Cliente/ Banco   \n",
       "4  Asesores de Atención al Público - Part time   \n",
       "\n",
       "                                                                                                                                                                                                                                                                                                                                                                                                                                                                                                                                                                                                                                                                                                                                                                                                                                                                                                                                                                                                                                                                                   descripcion  \\\n",
       "0                                                                                                   Te estamos buscando para formar parte de nuestro equipo de trabajo para nuestras sucursales de Farmacity.  ¿Querés sumarte?  Si tenes perfil comercial, terminaste tus estudios secundarios, te gusta trabajar y relacionarte con personas, este es tu lugar.  ¿Qué buscamos?  Personas con vocación de servicio para la atención de nuestros pacientes/clientes, dinámicas y proactivas, para las distintas sucursales de Capital federal, que posean disponibilidad para trabajar 6 días a la semana, 8hs por día (turno tarde-noche).  ¿Qué ofrecemos?  Excelentes condiciones laborales, posibilidades de desarrollo en un ambiente de trabajo que promueve la capacitación y un buen clima laboral. ¡Súmate a nuestro equipo!  Para que podamos tener en cuenta tu CV, postulate haciendo clic en este link: https://career4.successfactors.com/sfcareer/jobreqcareer?jobId=4185&amp;company=farmacitysP&amp;username= Incentivamos  a que se postulen perfiles de todas las edades     \n",
       "1  Te estamos buscando para formar parte de un proyecto novedoso e innovador, para ocupar la posición de Cajero/a. Estaremos realizando la apertura de Simplicity, un nuevo formato de tiendas en la zona de Capital federal.  ¿Queres formar parte de nuestro equipo? Si tenes perfil comercial, terminaste tus estudios secundarios, tenes ganas de enfrentar nuevos desafíos, te gusta trabajar en equipo y el relacionarte con personas, ¡súmate a nuestro equipo!  ¿Que buscamos?  Personas proactivas, con vocación de servicio y disponibilidad horaria para la atención de nuestros clientes.  ¿Que ofrecemos?  Excelentes condiciones laborales y posibilidades de desarrollo en un ambiente de trabajo que promueve la capacitación, un buen clima laboral y el trabajo en equipo. ¡Queremos que seas parte de este desafío!  Para que podamos tener en cuenta tu CV, postulate haciendo clic en este link: https://career4.successfactors.com/sfcareer/jobreqcareer?jobId=4188&amp;company=farmacitysP&amp;username= Incentivamos  a que se postulen perfiles de todas las edades     \n",
       "2  Te estamos buscando para formar parte de un proyecto novedoso e innovador, para ocupar la posición de Cajero/a. Estaremos realizando la apertura de Simplicity, un nuevo formato de tiendas en la zona de Capital federal.  ¿Queres formar parte de nuestro equipo? Si tenes perfil comercial, terminaste tus estudios secundarios, tenes ganas de enfrentar nuevos desafíos, te gusta trabajar en equipo y el relacionarte con personas, ¡súmate a nuestro equipo!  ¿Que buscamos?  Personas proactivas, con vocación de servicio y disponibilidad horaria para la atención de nuestros clientes.  ¿Que ofrecemos?  Excelentes condiciones laborales y posibilidades de desarrollo en un ambiente de trabajo que promueve la capacitación, un buen clima laboral y el trabajo en equipo. ¡Queremos que seas parte de este desafío!  Para que podamos tener en cuenta tu CV, postulate haciendo clic en este link: https://career4.successfactors.com/sfcareer/jobreqcareer?jobId=4188&amp;company=farmacitysP&amp;username= Incentivamos  a que se postulen perfiles de todas las edades     \n",
       "3                                                                                                                                                                                                                                                                                                                                                                                                                                                                                                                                                                                                                                                                        Seleccionaremos para Importante Entidad Bancaria, representantes de atencion al cliente para su centro de servicios en Capital Federal. Gestionaran consultas, reclamos y asesoraran a clientes y potenciales. Jornada laboral: 6 hs // 8 a 14 hs o de 14 a 20 hs Deberan contar con experiencia previa en posiciones afines. Estudios Universitarios en curso (excluyente). Sueldo de convenio Indicar pretensiones    \n",
       "4                                                                                                                                                                                                                                                                                                                                                                                                                                                                                                                                                                                           ¡Sumate al equipo UP!     Buscamos asesores de atención al público Part Time con ganas de crecer y desarrollarse profesionalmente       Requisitos:   - Estudiantes universitarios - Residencia en C.A.B.A. - Experiencia previa en puestos de atención al cliente, call center o similares.    Incorporate a un equipo dinámico, joven y con muy buen clima. Te ofrecemos un atractivo plan de beneficios corporativos y posibilidades de crecimiento.   Indicar remuneración bruta pretendida.     \n",
       "\n",
       "          nivel_laboral         nombre_area    denominacion_empresa  \n",
       "0  Senior / Semi-Senior  Comercial y Ventas               Farmacity  \n",
       "1  Senior / Semi-Senior  Comercial y Ventas               Farmacity  \n",
       "2  Senior / Semi-Senior  Comercial y Ventas               Farmacity  \n",
       "3  Senior / Semi-Senior  Comercial y Ventas                RANDSTAD  \n",
       "4                Junior         Consultoria  Universidad de Palermo  "
      ]
     },
     "execution_count": 34,
     "metadata": {},
     "output_type": "execute_result"
    }
   ],
   "source": [
    "pd.set_option('max_colwidth', 1500)\n",
    "post_max.head()"
   ]
  },
  {
   "cell_type": "code",
   "execution_count": 36,
   "metadata": {},
   "outputs": [
    {
     "data": {
      "image/png": "[encoded data removed]",
      "text/plain": [
       "<matplotlib.figure.Figure at 0x7f5677226c50>"
      ]
     },
     "metadata": {},
     "output_type": "display_data"
    }
   ],
   "source": [
    "wordcloud2 = WordCloud().generate(' '.join(post_max['descripcion'])) #.generate(post_max['descripcion'])\n",
    "plt.imshow(wordcloud2)\n",
    "plt.axis(\"off\")\n",
    "plt.show()"
   ]
  },
  {
   "cell_type": "code",
   "execution_count": null,
   "metadata": {
    "collapsed": true
   },
   "outputs": [],
   "source": []
  }
 ],
 "metadata": {
  "kernelspec": {
   "display_name": "Python 3",
   "language": "python",
   "name": "python3"
  },
  "language_info": {
   "codemirror_mode": {
    "name": "ipython",
    "version": 3
   },
   "file_extension": ".py",
   "mimetype": "text/x-python",
   "name": "python",
   "nbconvert_exporter": "python",
   "pygments_lexer": "ipython3",
   "version": "3.5.2"
  }
 },
 "nbformat": 4,
 "nbformat_minor": 2
}
