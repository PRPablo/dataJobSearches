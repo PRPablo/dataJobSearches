{
 "cells": [
  {
   "cell_type": "code",
   "execution_count": 88,
   "metadata": {
    "collapsed": true
   },
   "outputs": [],
   "source": [
    "import matplotlib.pyplot as plt\n",
    "%matplotlib inline\n",
    "import pandas as pd\n",
    "import datetime as datetime\n",
    "from dateutil.parser import parse\n",
    "import numpy as np\n",
    "import warnings\n",
    "import datetime as dt\n",
    "warnings.filterwarnings('ignore')"
   ]
  },
  {
   "cell_type": "code",
   "execution_count": 2,
   "metadata": {
    "collapsed": true
   },
   "outputs": [],
   "source": [
    "# Carga de archivos\n",
    "post_educacion = pd.read_csv('../data/fiuba_1_postulantes_educacion.csv', dtype = {\n",
    "    'nombre': 'category',\n",
    "    'estado': 'category'\n",
    "})\n",
    "post_gen_edad = pd.read_csv('../data/fiuba_2_postulantes_genero_y_edad.csv', dtype = {\n",
    "    'sexo': 'category'    \n",
    "})\n",
    "\n",
    "vistas = pd.read_csv('../data/fiuba_3_vistas.csv', parse_dates=['timestamp'])\n",
    "postulaciones = pd.read_csv('../data/fiuba_4_postulaciones.csv', parse_dates=['fechapostulacion'])\n",
    "avisos_online = pd.read_csv('../data/fiuba_5_avisos_online.csv')\n",
    "\n",
    "avisos_detalles = pd.read_csv('../data/fiuba_6_avisos_detalle.csv', dtype= {\n",
    "    'nombre_zona': 'category',\n",
    "    'ciudad': 'category',\n",
    "    'tipo_de_trabajo': 'category',\n",
    "    'nivel_laboral': 'category',\n",
    "    'nombre_area': 'category'\n",
    "})\n"
   ]
  },
  {
   "cell_type": "markdown",
   "metadata": {},
   "source": [
    "# Ajustes en los archivos antes de procesar"
   ]
  },
  {
   "cell_type": "code",
   "execution_count": 3,
   "metadata": {
    "collapsed": true
   },
   "outputs": [],
   "source": [
    "# Recorto la columna idpais ya que no es necesaria.\n",
    "avisos_detalles.drop('idpais', axis=1, inplace=True)\n",
    "# Agrego tipo categorico y modifico el tipo de dato de la fecha.\n",
    "post_gen_edad.fechanacimiento = post_gen_edad.fechanacimiento.apply(pd.to_datetime, errors='coerce')"
   ]
  },
  {
   "cell_type": "code",
   "execution_count": 4,
   "metadata": {},
   "outputs": [
    {
     "data": {
      "text/plain": [
       "Timestamp('2018-04-02 20:43:21.574816')"
      ]
     },
     "execution_count": 4,
     "metadata": {},
     "output_type": "execute_result"
    }
   ],
   "source": [
    "# Cambiar el tipo de dato de la fecha de postulacion.\n",
    "postulaciones[['fechapostulacion']] = postulaciones[['fechapostulacion']].apply(pd.to_datetime)\n",
    "now = pd.Timestamp(dt.datetime.now())\n",
    "pd.to_datetime(now)\n"
   ]
  },
  {
   "cell_type": "markdown",
   "metadata": {},
   "source": [
    "# Empieza el analisis"
   ]
  },
  {
   "cell_type": "code",
   "execution_count": 5,
   "metadata": {
    "collapsed": true
   },
   "outputs": [],
   "source": [
    "# Asigno puntajes a los diferentes niveles educativos encontrados para poder \n",
    "# obtener asi la educacion mas valiosa de cada postulante.\n",
    "valores_educacion = [{'nombre': 'Otro', 'estado': 'Abandonado',    'valor_educacion': 1    },\n",
    "    {'nombre': 'Otro',                  'estado': 'En Curso',    'valor_educacion': 2    },\n",
    "    {'nombre': 'Otro',                  'estado': 'Graduado',    'valor_educacion': 3    },\n",
    "    {'nombre': 'Secundario',            'estado': 'Abandonado',    'valor_educacion': 4    },\n",
    "    {'nombre': 'Secundario',            'estado': 'En Curso',    'valor_educacion': 5    },\n",
    "    {'nombre': 'Secundario',        'estado': 'Graduado',    'valor_educacion': 6    },\n",
    "    {'nombre': 'Terciario/Técnico', 'estado': 'Abandonado',    'valor_educacion': 7    },\n",
    "    {'nombre': 'Universitario',     'estado': 'Abandonado',    'valor_educacion': 8    },\n",
    "    {'nombre': 'Terciario/Técnico', 'estado': 'En Curso',    'valor_educacion': 9    },\n",
    "    {'nombre': 'Universitario',     'estado': 'En Curso',    'valor_educacion': 10    },\n",
    "    {'nombre': 'Terciario/Técnico', 'estado': 'Graduado',    'valor_educacion': 11    },\n",
    "    {'nombre': 'Universitario',     'estado': 'Graduado',    'valor_educacion': 12    },\n",
    "    {'nombre': 'Posgrado',          'estado': 'Abandonado',    'valor_educacion': 13    },\n",
    "    {'nombre': 'Master',            'estado': 'Abandonado',    'valor_educacion': 14    },\n",
    "    {'nombre': 'Posgrado',          'estado': 'En Curso',    'valor_educacion': 15    },\n",
    "    {'nombre': 'Master',            'estado': 'En Curso',    'valor_educacion': 16    },\n",
    "    {'nombre': 'Posgrado',          'estado': 'Graduado',    'valor_educacion': 17    },\n",
    "    {'nombre': 'Master',            'estado': 'Graduado',    'valor_educacion': 18    },\n",
    "    {'nombre': 'Doctorado',         'estado': 'Abandonado',    'valor_educacion': 19    },\n",
    "    {'nombre': 'Doctorado',         'estado': 'En Curso',    'valor_educacion': 20    },\n",
    "    {'nombre': 'Doctorado',         'estado': 'Graduado',    'valor_educacion': 21 }]\n",
    "valores_educacion = pd.DataFrame(valores_educacion)"
   ]
  },
  {
   "cell_type": "code",
   "execution_count": 6,
   "metadata": {},
   "outputs": [
    {
     "data": {
      "text/plain": [
       "Index                80\n",
       "estado             1379\n",
       "nombre              850\n",
       "valor_educacion     168\n",
       "dtype: int64"
      ]
     },
     "execution_count": 6,
     "metadata": {},
     "output_type": "execute_result"
    }
   ],
   "source": [
    "valores_educacion.nombre = valores_educacion.nombre.astype('category', categories=post_educacion.nombre.cat.categories)\n",
    "valores_educacion.memory_usage(deep=True)"
   ]
  },
  {
   "cell_type": "code",
   "execution_count": 7,
   "metadata": {
    "collapsed": true
   },
   "outputs": [],
   "source": [
    "# Hago el join para aplicar puntajes a las educaciones de los postulantes.\n",
    "post_educacion = pd.merge(post_educacion, valores_educacion,  how='inner', \\\n",
    "                          left_on=['nombre','estado'], right_on = ['nombre','estado'])"
   ]
  },
  {
   "cell_type": "code",
   "execution_count": 8,
   "metadata": {},
   "outputs": [
    {
     "data": {
      "text/plain": [
       "idpostulante       188752\n",
       "valor_educacion    188752\n",
       "dtype: int64"
      ]
     },
     "execution_count": 8,
     "metadata": {},
     "output_type": "execute_result"
    }
   ],
   "source": [
    "# Busco la maxima educacion que tiene cada postulante.\n",
    "max_post_educacion = post_educacion.groupby(['idpostulante'])['valor_educacion'].max().reset_index()\n",
    "max_post_educacion.count()"
   ]
  },
  {
   "cell_type": "code",
   "execution_count": 9,
   "metadata": {},
   "outputs": [
    {
     "data": {
      "text/html": [
       "<div>\n",
       "<style scoped>\n",
       "    .dataframe tbody tr th:only-of-type {\n",
       "        vertical-align: middle;\n",
       "    }\n",
       "\n",
       "    .dataframe tbody tr th {\n",
       "        vertical-align: top;\n",
       "    }\n",
       "\n",
       "    .dataframe thead th {\n",
       "        text-align: right;\n",
       "    }\n",
       "</style>\n",
       "<table border=\"1\" class=\"dataframe\">\n",
       "  <thead>\n",
       "    <tr style=\"text-align: right;\">\n",
       "      <th></th>\n",
       "      <th>idpostulante</th>\n",
       "      <th>nombre</th>\n",
       "      <th>estado</th>\n",
       "      <th>valor_educacion</th>\n",
       "    </tr>\n",
       "  </thead>\n",
       "  <tbody>\n",
       "    <tr>\n",
       "      <th>0</th>\n",
       "      <td>NdJl</td>\n",
       "      <td>Posgrado</td>\n",
       "      <td>En Curso</td>\n",
       "      <td>15</td>\n",
       "    </tr>\n",
       "    <tr>\n",
       "      <th>1</th>\n",
       "      <td>axaPJ</td>\n",
       "      <td>Posgrado</td>\n",
       "      <td>En Curso</td>\n",
       "      <td>15</td>\n",
       "    </tr>\n",
       "    <tr>\n",
       "      <th>2</th>\n",
       "      <td>Z48mz</td>\n",
       "      <td>Posgrado</td>\n",
       "      <td>En Curso</td>\n",
       "      <td>15</td>\n",
       "    </tr>\n",
       "    <tr>\n",
       "      <th>3</th>\n",
       "      <td>a4zEZ</td>\n",
       "      <td>Posgrado</td>\n",
       "      <td>En Curso</td>\n",
       "      <td>15</td>\n",
       "    </tr>\n",
       "    <tr>\n",
       "      <th>4</th>\n",
       "      <td>6AWqO</td>\n",
       "      <td>Posgrado</td>\n",
       "      <td>En Curso</td>\n",
       "      <td>15</td>\n",
       "    </tr>\n",
       "  </tbody>\n",
       "</table>\n",
       "</div>"
      ],
      "text/plain": [
       "  idpostulante    nombre    estado  valor_educacion\n",
       "0         NdJl  Posgrado  En Curso               15\n",
       "1        axaPJ  Posgrado  En Curso               15\n",
       "2        Z48mz  Posgrado  En Curso               15\n",
       "3        a4zEZ  Posgrado  En Curso               15\n",
       "4        6AWqO  Posgrado  En Curso               15"
      ]
     },
     "execution_count": 9,
     "metadata": {},
     "output_type": "execute_result"
    }
   ],
   "source": [
    "# Hago el join para filtrar todas las educaciones que no me interesan, dejando solo la maxima educacion.\n",
    "post_educacion = pd.merge(post_educacion, max_post_educacion,  how='inner', \\\n",
    "                          left_on=['idpostulante','valor_educacion'], right_on = ['idpostulante','valor_educacion'])\n",
    "\n",
    "post_educacion.head()"
   ]
  },
  {
   "cell_type": "code",
   "execution_count": 10,
   "metadata": {},
   "outputs": [
    {
     "data": {
      "text/html": [
       "<div>\n",
       "<style scoped>\n",
       "    .dataframe tbody tr th:only-of-type {\n",
       "        vertical-align: middle;\n",
       "    }\n",
       "\n",
       "    .dataframe tbody tr th {\n",
       "        vertical-align: top;\n",
       "    }\n",
       "\n",
       "    .dataframe thead th {\n",
       "        text-align: right;\n",
       "    }\n",
       "</style>\n",
       "<table border=\"1\" class=\"dataframe\">\n",
       "  <thead>\n",
       "    <tr style=\"text-align: right;\">\n",
       "      <th></th>\n",
       "      <th>idpostulante</th>\n",
       "      <th>nombre</th>\n",
       "      <th>estado</th>\n",
       "      <th>valor_educacion</th>\n",
       "      <th>fechanacimiento</th>\n",
       "      <th>sexo</th>\n",
       "      <th>edad</th>\n",
       "    </tr>\n",
       "  </thead>\n",
       "  <tbody>\n",
       "    <tr>\n",
       "      <th>0</th>\n",
       "      <td>NdJl</td>\n",
       "      <td>Posgrado</td>\n",
       "      <td>En Curso</td>\n",
       "      <td>15</td>\n",
       "      <td>1969-05-09</td>\n",
       "      <td>MASC</td>\n",
       "      <td>48.0</td>\n",
       "    </tr>\n",
       "    <tr>\n",
       "      <th>1</th>\n",
       "      <td>axaPJ</td>\n",
       "      <td>Posgrado</td>\n",
       "      <td>En Curso</td>\n",
       "      <td>15</td>\n",
       "      <td>1970-01-06</td>\n",
       "      <td>MASC</td>\n",
       "      <td>48.0</td>\n",
       "    </tr>\n",
       "    <tr>\n",
       "      <th>2</th>\n",
       "      <td>Z48mz</td>\n",
       "      <td>Posgrado</td>\n",
       "      <td>En Curso</td>\n",
       "      <td>15</td>\n",
       "      <td>1967-05-16</td>\n",
       "      <td>MASC</td>\n",
       "      <td>50.0</td>\n",
       "    </tr>\n",
       "    <tr>\n",
       "      <th>3</th>\n",
       "      <td>a4zEZ</td>\n",
       "      <td>Posgrado</td>\n",
       "      <td>En Curso</td>\n",
       "      <td>15</td>\n",
       "      <td>1976-04-10</td>\n",
       "      <td>MASC</td>\n",
       "      <td>41.0</td>\n",
       "    </tr>\n",
       "    <tr>\n",
       "      <th>4</th>\n",
       "      <td>6AWqO</td>\n",
       "      <td>Posgrado</td>\n",
       "      <td>En Curso</td>\n",
       "      <td>15</td>\n",
       "      <td>1970-05-21</td>\n",
       "      <td>MASC</td>\n",
       "      <td>47.0</td>\n",
       "    </tr>\n",
       "  </tbody>\n",
       "</table>\n",
       "</div>"
      ],
      "text/plain": [
       "  idpostulante    nombre    estado  valor_educacion fechanacimiento  sexo  \\\n",
       "0         NdJl  Posgrado  En Curso               15      1969-05-09  MASC   \n",
       "1        axaPJ  Posgrado  En Curso               15      1970-01-06  MASC   \n",
       "2        Z48mz  Posgrado  En Curso               15      1967-05-16  MASC   \n",
       "3        a4zEZ  Posgrado  En Curso               15      1976-04-10  MASC   \n",
       "4        6AWqO  Posgrado  En Curso               15      1970-05-21  MASC   \n",
       "\n",
       "   edad  \n",
       "0  48.0  \n",
       "1  48.0  \n",
       "2  50.0  \n",
       "3  41.0  \n",
       "4  47.0  "
      ]
     },
     "execution_count": 10,
     "metadata": {},
     "output_type": "execute_result"
    }
   ],
   "source": [
    "postulantes = pd.merge(post_educacion, post_gen_edad)\n",
    "pd.to_datetime(postulantes['fechanacimiento'])\n",
    "postulantes['edad'] = (now - pd.to_datetime(postulantes['fechanacimiento'])).astype('<m8[Y]')\n",
    "postulantes.head()"
   ]
  },
  {
   "cell_type": "markdown",
   "metadata": {},
   "source": [
    "## Ver postulaciones de secundario en curso y vistas hechas al respecto (vistas, postulaciones, área de trabajo).\n"
   ]
  },
  {
   "cell_type": "code",
   "execution_count": 41,
   "metadata": {},
   "outputs": [
    {
     "data": {
      "text/html": [
       "<div>\n",
       "<style scoped>\n",
       "    .dataframe tbody tr th:only-of-type {\n",
       "        vertical-align: middle;\n",
       "    }\n",
       "\n",
       "    .dataframe tbody tr th {\n",
       "        vertical-align: top;\n",
       "    }\n",
       "\n",
       "    .dataframe thead th {\n",
       "        text-align: right;\n",
       "    }\n",
       "</style>\n",
       "<table border=\"1\" class=\"dataframe\">\n",
       "  <thead>\n",
       "    <tr style=\"text-align: right;\">\n",
       "      <th></th>\n",
       "      <th>idpostulante</th>\n",
       "      <th>nombre</th>\n",
       "      <th>estado</th>\n",
       "      <th>valor_educacion</th>\n",
       "      <th>fechanacimiento</th>\n",
       "      <th>sexo</th>\n",
       "      <th>edad</th>\n",
       "    </tr>\n",
       "  </thead>\n",
       "  <tbody>\n",
       "    <tr>\n",
       "      <th>54977</th>\n",
       "      <td>1qkm9z</td>\n",
       "      <td>Secundario</td>\n",
       "      <td>En Curso</td>\n",
       "      <td>5</td>\n",
       "      <td>1976-09-18</td>\n",
       "      <td>MASC</td>\n",
       "      <td>41.0</td>\n",
       "    </tr>\n",
       "    <tr>\n",
       "      <th>54978</th>\n",
       "      <td>YvjkMV</td>\n",
       "      <td>Secundario</td>\n",
       "      <td>En Curso</td>\n",
       "      <td>5</td>\n",
       "      <td>1975-06-18</td>\n",
       "      <td>FEM</td>\n",
       "      <td>42.0</td>\n",
       "    </tr>\n",
       "    <tr>\n",
       "      <th>54979</th>\n",
       "      <td>Y4oJ9w</td>\n",
       "      <td>Secundario</td>\n",
       "      <td>En Curso</td>\n",
       "      <td>5</td>\n",
       "      <td>1985-09-24</td>\n",
       "      <td>MASC</td>\n",
       "      <td>32.0</td>\n",
       "    </tr>\n",
       "    <tr>\n",
       "      <th>54980</th>\n",
       "      <td>5L5akv</td>\n",
       "      <td>Secundario</td>\n",
       "      <td>En Curso</td>\n",
       "      <td>5</td>\n",
       "      <td>1985-10-12</td>\n",
       "      <td>MASC</td>\n",
       "      <td>32.0</td>\n",
       "    </tr>\n",
       "    <tr>\n",
       "      <th>54981</th>\n",
       "      <td>6ZkmJR</td>\n",
       "      <td>Secundario</td>\n",
       "      <td>En Curso</td>\n",
       "      <td>5</td>\n",
       "      <td>1984-01-08</td>\n",
       "      <td>MASC</td>\n",
       "      <td>34.0</td>\n",
       "    </tr>\n",
       "  </tbody>\n",
       "</table>\n",
       "</div>"
      ],
      "text/plain": [
       "      idpostulante      nombre    estado  valor_educacion fechanacimiento  \\\n",
       "54977       1qkm9z  Secundario  En Curso                5      1976-09-18   \n",
       "54978       YvjkMV  Secundario  En Curso                5      1975-06-18   \n",
       "54979       Y4oJ9w  Secundario  En Curso                5      1985-09-24   \n",
       "54980       5L5akv  Secundario  En Curso                5      1985-10-12   \n",
       "54981       6ZkmJR  Secundario  En Curso                5      1984-01-08   \n",
       "\n",
       "       sexo  edad  \n",
       "54977  MASC  41.0  \n",
       "54978   FEM  42.0  \n",
       "54979  MASC  32.0  \n",
       "54980  MASC  32.0  \n",
       "54981  MASC  34.0  "
      ]
     },
     "execution_count": 41,
     "metadata": {},
     "output_type": "execute_result"
    }
   ],
   "source": [
    "postulantes_sec = postulantes.loc[(postulantes['nombre'] == 'Secundario') & (postulantes['estado'] == 'En Curso')]\n",
    "postulantes_sec.head()"
   ]
  },
  {
   "cell_type": "code",
   "execution_count": 42,
   "metadata": {},
   "outputs": [],
   "source": [
    "#postulantes_1 = postulantes_sec[postulantes_sec.isna().any(axis=1)]\n",
    "#null_columns=postulantes_sec.columns[postulantes_sec.isnull().any()]\n",
    "#print(postulantes_sec[postulantes_sec.isnull().any(axis=1)][null_columns].head())\n",
    "#aa = postulantes_sec.dropna(axis=0)"
   ]
  },
  {
   "cell_type": "code",
   "execution_count": null,
   "metadata": {},
   "outputs": [],
   "source": [
    "#pd.to_datetime(postulantes_sec['fechapostulacion'])\n",
    "#postulantes_sec['edad'] = (now - pd.to_datetime(postulantes_sec['fechanacimiento'])).astype('<m8[Y]')\n",
    "#dejo solo los mayores de edad y menores a la edad de jubilacion\n",
    "postulantes_sec = postulantes_sec.loc[(postulantes_sec['edad'] >= 18) & (postulantes_sec['edad'] <= 65)]\n",
    "#postulantes_sec.sort_values('age')\n",
    "#veo el promedio de edad que utilizan la pagina y poseen secundario en curso\n",
    "pd.to_numeric(postulantes_sec['edad'])"
   ]
  },
  {
   "cell_type": "code",
   "execution_count": 53,
   "metadata": {},
   "outputs": [
    {
     "data": {
      "text/html": [
       "<div>\n",
       "<style scoped>\n",
       "    .dataframe tbody tr th:only-of-type {\n",
       "        vertical-align: middle;\n",
       "    }\n",
       "\n",
       "    .dataframe tbody tr th {\n",
       "        vertical-align: top;\n",
       "    }\n",
       "\n",
       "    .dataframe thead th {\n",
       "        text-align: right;\n",
       "    }\n",
       "</style>\n",
       "<table border=\"1\" class=\"dataframe\">\n",
       "  <thead>\n",
       "    <tr style=\"text-align: right;\">\n",
       "      <th></th>\n",
       "      <th>idpostulante</th>\n",
       "      <th>nombre</th>\n",
       "      <th>estado</th>\n",
       "      <th>valor_educacion</th>\n",
       "      <th>fechanacimiento</th>\n",
       "      <th>sexo</th>\n",
       "      <th>edad</th>\n",
       "      <th>decil</th>\n",
       "    </tr>\n",
       "  </thead>\n",
       "  <tbody>\n",
       "    <tr>\n",
       "      <th>54977</th>\n",
       "      <td>1qkm9z</td>\n",
       "      <td>Secundario</td>\n",
       "      <td>En Curso</td>\n",
       "      <td>5</td>\n",
       "      <td>1976-09-18</td>\n",
       "      <td>MASC</td>\n",
       "      <td>41.0</td>\n",
       "      <td>40.0</td>\n",
       "    </tr>\n",
       "    <tr>\n",
       "      <th>54978</th>\n",
       "      <td>YvjkMV</td>\n",
       "      <td>Secundario</td>\n",
       "      <td>En Curso</td>\n",
       "      <td>5</td>\n",
       "      <td>1975-06-18</td>\n",
       "      <td>FEM</td>\n",
       "      <td>42.0</td>\n",
       "      <td>40.0</td>\n",
       "    </tr>\n",
       "    <tr>\n",
       "      <th>54979</th>\n",
       "      <td>Y4oJ9w</td>\n",
       "      <td>Secundario</td>\n",
       "      <td>En Curso</td>\n",
       "      <td>5</td>\n",
       "      <td>1985-09-24</td>\n",
       "      <td>MASC</td>\n",
       "      <td>32.0</td>\n",
       "      <td>30.0</td>\n",
       "    </tr>\n",
       "    <tr>\n",
       "      <th>54980</th>\n",
       "      <td>5L5akv</td>\n",
       "      <td>Secundario</td>\n",
       "      <td>En Curso</td>\n",
       "      <td>5</td>\n",
       "      <td>1985-10-12</td>\n",
       "      <td>MASC</td>\n",
       "      <td>32.0</td>\n",
       "      <td>30.0</td>\n",
       "    </tr>\n",
       "    <tr>\n",
       "      <th>54981</th>\n",
       "      <td>6ZkmJR</td>\n",
       "      <td>Secundario</td>\n",
       "      <td>En Curso</td>\n",
       "      <td>5</td>\n",
       "      <td>1984-01-08</td>\n",
       "      <td>MASC</td>\n",
       "      <td>34.0</td>\n",
       "      <td>30.0</td>\n",
       "    </tr>\n",
       "  </tbody>\n",
       "</table>\n",
       "</div>"
      ],
      "text/plain": [
       "      idpostulante      nombre    estado  valor_educacion fechanacimiento  \\\n",
       "54977       1qkm9z  Secundario  En Curso                5      1976-09-18   \n",
       "54978       YvjkMV  Secundario  En Curso                5      1975-06-18   \n",
       "54979       Y4oJ9w  Secundario  En Curso                5      1985-09-24   \n",
       "54980       5L5akv  Secundario  En Curso                5      1985-10-12   \n",
       "54981       6ZkmJR  Secundario  En Curso                5      1984-01-08   \n",
       "\n",
       "       sexo  edad  decil  \n",
       "54977  MASC  41.0   40.0  \n",
       "54978   FEM  42.0   40.0  \n",
       "54979  MASC  32.0   30.0  \n",
       "54980  MASC  32.0   30.0  \n",
       "54981  MASC  34.0   30.0  "
      ]
     },
     "execution_count": 53,
     "metadata": {},
     "output_type": "execute_result"
    }
   ],
   "source": [
    "#obtengo las decadas correspondientes para agrupar\n",
    "postulantes_sec['decil'] = np.floor( postulantes_sec['edad'].apply(lambda x: x /10) )\n",
    "postulantes_sec['decil'] = postulantes_sec['decil'].apply(lambda x: x*10)\n",
    "postulantes_sec.head()"
   ]
  },
  {
   "cell_type": "code",
   "execution_count": 103,
   "metadata": {},
   "outputs": [
    {
     "data": {
      "text/plain": [
       "<matplotlib.legend.Legend at 0x7fdbc53dd518>"
      ]
     },
     "execution_count": 103,
     "metadata": {},
     "output_type": "execute_result"
    },
    {
     "data": {
      "image/png": "[encoded data removed]",
      "text/plain": [
       "<matplotlib.figure.Figure at 0x7fdbc506d080>"
      ]
     },
     "metadata": {},
     "output_type": "display_data"
    }
   ],
   "source": [
    "#diferencio entre mujeres y hombres\n",
    "sec_fem = postulantes_sec.loc[postulantes_sec['sexo'] == 'FEM']\n",
    "sec_masc = postulantes_sec.loc[postulantes_sec['sexo'] == 'MASC']\n",
    "#hist_sec = postulantes_sec['decil'].hist(bins=5,grid=False,color='g')\n",
    "#hist_sec = plt.hist([sec_fem['decil'],sec_masc['decil']], bins=5, color=['red', 'blue'], set_title='AAA')\n",
    "#hist_sec.set_title('Edades Secundario En Curso')\n",
    "#hist_sec.set_xlabel('Edades en Decadas')\n",
    "#hist_sec.set_ylabel('Cantidad de postulantes')\n",
    "plt.hist([sec_fem['decil'],sec_masc['decil']], bins=5, color=['red', 'blue'], label=['fem','masc'])\n",
    "plt.legend()\n"
   ]
  },
  {
   "cell_type": "code",
   "execution_count": 60,
   "metadata": {},
   "outputs": [
    {
     "data": {
      "text/plain": [
       "<matplotlib.text.Text at 0x7fdbc819eda0>"
      ]
     },
     "execution_count": 60,
     "metadata": {},
     "output_type": "execute_result"
    },
    {
     "data": {
      "image/png": "[encoded data removed]",
      "text/plain": [
       "<matplotlib.figure.Figure at 0x7fdbc8104ef0>"
      ]
     },
     "metadata": {},
     "output_type": "display_data"
    }
   ],
   "source": []
  },
  {
   "cell_type": "code",
   "execution_count": null,
   "metadata": {
    "collapsed": true
   },
   "outputs": [],
   "source": []
  }
 ],
 "metadata": {
  "kernelspec": {
   "display_name": "Python 3",
   "language": "python",
   "name": "python3"
  },
  "language_info": {
   "codemirror_mode": {
    "name": "ipython",
    "version": 3
   },
   "file_extension": ".py",
   "mimetype": "text/x-python",
   "name": "python",
   "nbconvert_exporter": "python",
   "pygments_lexer": "ipython3",
   "version": "3.5.2"
  }
 },
 "nbformat": 4,
 "nbformat_minor": 2
}
