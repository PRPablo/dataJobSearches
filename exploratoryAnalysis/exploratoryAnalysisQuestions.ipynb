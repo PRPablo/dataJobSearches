{
 "cells": [
  {
   "cell_type": "markdown",
   "metadata": {},
   "source": [
    "# PREGUNTAS"
   ]
  },
  {
   "cell_type": "raw",
   "metadata": {},
   "source": [
    "1- Los avisos que tienen mas vistas son las que tienen más postulantes? (Relación que hay entre vistas y postulacines.)\n"
   ]
  },
  {
   "cell_type": "raw",
   "metadata": {},
   "source": [
    "2- Efectividad del sitio (vistas en contraste de las postulaciones en promedio de todos los postulantes) para rango de edades, área de trabajo?\n"
   ]
  },
  {
   "cell_type": "raw",
   "metadata": {},
   "source": [
    "3- Quiénes buscan más trabajo y según la edad? (Postulaciones Vs Género)\n"
   ]
  },
  {
   "cell_type": "raw",
   "metadata": {},
   "source": [
    "4- Como es la evolución de la búsqueda laboral en general, desde el inicio, ver si se va refinando el espectro, o se va ampliando, y analizar el índice de vistas/postulaciones para saber si alguien se pone más “exquisito”, o bien, también chequear si la oferta laboral es la que se vuelve menor, y por eso hay menos postulaciones? (Edad vs Postulación)\n"
   ]
  },
  {
   "cell_type": "raw",
   "metadata": {},
   "source": [
    "5- Como son las relaciones de las postulaciones al nivel de educación y área de trabajo/nivel_laboral?\n"
   ]
  },
  {
   "cell_type": "raw",
   "metadata": {},
   "source": [
    "6- Definir momento y tipo de empleo publicado en las fechas dadas\n"
   ]
  },
  {
   "cell_type": "raw",
   "metadata": {},
   "source": [
    "7- Cual es la relación de edad con los avisos con mayor cantidad de postulaciones?\n"
   ]
  },
  {
   "cell_type": "raw",
   "metadata": {},
   "source": [
    "8- Buscar palabras clave para aumentar las postulaciones (buscando a ojo esas palabras claves) --> Ariel\n"
   ]
  },
  {
   "cell_type": "raw",
   "metadata": {},
   "source": [
    "9- Comparar estudiantes en curso en búsqueda (universitario, terciario) y los ya recibidos (vistas, postulaciones, área de trabajo, full/part). --> Ariel\n"
   ]
  },
  {
   "cell_type": "raw",
   "metadata": {},
   "source": [
    "10- Ver postulaciones de secundario en curso y vistas hechas al respecto (vistas, postulaciones, área de trabajo).     --> Ariel\n"
   ]
  },
  {
   "cell_type": "code",
   "execution_count": null,
   "metadata": {
    "collapsed": true
   },
   "outputs": [],
   "source": []
  }
 ],
 "metadata": {
  "kernelspec": {
   "display_name": "Python 3",
   "language": "python",
   "name": "python3"
  },
  "language_info": {
   "codemirror_mode": {
    "name": "ipython",
    "version": 3
   },
   "file_extension": ".py",
   "mimetype": "text/x-python",
   "name": "python",
   "nbconvert_exporter": "python",
   "pygments_lexer": "ipython3",
   "version": "3.6.0"
  }
 },
 "nbformat": 4,
 "nbformat_minor": 2
}
