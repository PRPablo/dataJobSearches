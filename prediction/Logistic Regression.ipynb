{
 "cells": [
  {
   "cell_type": "code",
   "execution_count": 1,
   "metadata": {
    "collapsed": true
   },
   "outputs": [],
   "source": [
    "import pandas as pd\n",
    "import numpy as np\n",
    "from sklearn import linear_model\n",
    "from sklearn import model_selection\n",
    "from sklearn.metrics import classification_report\n",
    "from sklearn.metrics import confusion_matrix\n",
    "from sklearn.metrics import accuracy_score\n",
    "import matplotlib.pyplot as plt\n",
    "import seaborn as sb\n",
    "from sklearn.preprocessing import LabelEncoder\n",
    "from sklearn.linear_model import LogisticRegression\n",
    "from sklearn import metrics\n",
    "%matplotlib inline"
   ]
  },
  {
   "cell_type": "code",
   "execution_count": 5,
   "metadata": {
    "collapsed": true
   },
   "outputs": [],
   "source": [
    "from sklearn.model_selection import train_test_split"
   ]
  },
  {
   "cell_type": "code",
   "execution_count": 37,
   "metadata": {
    "collapsed": true
   },
   "outputs": [],
   "source": [
    "full_data = pd.read_csv('../data/final_data/full_data_postulaciones.csv')"
   ]
  },
  {
   "cell_type": "code",
   "execution_count": 38,
   "metadata": {},
   "outputs": [
    {
     "data": {
      "text/html": [
       "<div>\n",
       "<style scoped>\n",
       "    .dataframe tbody tr th:only-of-type {\n",
       "        vertical-align: middle;\n",
       "    }\n",
       "\n",
       "    .dataframe tbody tr th {\n",
       "        vertical-align: top;\n",
       "    }\n",
       "\n",
       "    .dataframe thead th {\n",
       "        text-align: right;\n",
       "    }\n",
       "</style>\n",
       "<table border=\"1\" class=\"dataframe\">\n",
       "  <thead>\n",
       "    <tr style=\"text-align: right;\">\n",
       "      <th></th>\n",
       "      <th>idpostulante</th>\n",
       "      <th>valor_educacion</th>\n",
       "      <th>sexo</th>\n",
       "      <th>edad</th>\n",
       "      <th>idaviso</th>\n",
       "      <th>fechapostulacion</th>\n",
       "      <th>tipo_de_trabajo</th>\n",
       "      <th>nivel_laboral</th>\n",
       "      <th>denominacion_empresa</th>\n",
       "    </tr>\n",
       "  </thead>\n",
       "  <tbody>\n",
       "    <tr>\n",
       "      <th>0</th>\n",
       "      <td>NdJl</td>\n",
       "      <td>15</td>\n",
       "      <td>1</td>\n",
       "      <td>51.0</td>\n",
       "      <td>1112260409</td>\n",
       "      <td>2018-01-24 05:17:29</td>\n",
       "      <td>1</td>\n",
       "      <td>4</td>\n",
       "      <td>NEW TALENT</td>\n",
       "    </tr>\n",
       "    <tr>\n",
       "      <th>1</th>\n",
       "      <td>66XQMv</td>\n",
       "      <td>15</td>\n",
       "      <td>1</td>\n",
       "      <td>38.0</td>\n",
       "      <td>1112260409</td>\n",
       "      <td>2018-01-18 14:34:47</td>\n",
       "      <td>1</td>\n",
       "      <td>4</td>\n",
       "      <td>NEW TALENT</td>\n",
       "    </tr>\n",
       "    <tr>\n",
       "      <th>2</th>\n",
       "      <td>ZlXp1Y</td>\n",
       "      <td>15</td>\n",
       "      <td>1</td>\n",
       "      <td>39.0</td>\n",
       "      <td>1112260409</td>\n",
       "      <td>2018-01-17 08:02:27</td>\n",
       "      <td>1</td>\n",
       "      <td>4</td>\n",
       "      <td>NEW TALENT</td>\n",
       "    </tr>\n",
       "    <tr>\n",
       "      <th>3</th>\n",
       "      <td>6oYpOv</td>\n",
       "      <td>15</td>\n",
       "      <td>0</td>\n",
       "      <td>48.0</td>\n",
       "      <td>1112260409</td>\n",
       "      <td>2018-01-16 15:22:42</td>\n",
       "      <td>1</td>\n",
       "      <td>4</td>\n",
       "      <td>NEW TALENT</td>\n",
       "    </tr>\n",
       "    <tr>\n",
       "      <th>4</th>\n",
       "      <td>ewQq5r</td>\n",
       "      <td>15</td>\n",
       "      <td>0</td>\n",
       "      <td>48.0</td>\n",
       "      <td>1112260409</td>\n",
       "      <td>2018-01-22 02:34:02</td>\n",
       "      <td>1</td>\n",
       "      <td>4</td>\n",
       "      <td>NEW TALENT</td>\n",
       "    </tr>\n",
       "  </tbody>\n",
       "</table>\n",
       "</div>"
      ],
      "text/plain": [
       "  idpostulante  valor_educacion  sexo  edad     idaviso     fechapostulacion  \\\n",
       "0         NdJl               15     1  51.0  1112260409  2018-01-24 05:17:29   \n",
       "1       66XQMv               15     1  38.0  1112260409  2018-01-18 14:34:47   \n",
       "2       ZlXp1Y               15     1  39.0  1112260409  2018-01-17 08:02:27   \n",
       "3       6oYpOv               15     0  48.0  1112260409  2018-01-16 15:22:42   \n",
       "4       ewQq5r               15     0  48.0  1112260409  2018-01-22 02:34:02   \n",
       "\n",
       "   tipo_de_trabajo  nivel_laboral denominacion_empresa  \n",
       "0                1              4           NEW TALENT  \n",
       "1                1              4           NEW TALENT  \n",
       "2                1              4           NEW TALENT  \n",
       "3                1              4           NEW TALENT  \n",
       "4                1              4           NEW TALENT  "
      ]
     },
     "execution_count": 38,
     "metadata": {},
     "output_type": "execute_result"
    }
   ],
   "source": [
    "full_data.head()"
   ]
  },
  {
   "cell_type": "code",
   "execution_count": 39,
   "metadata": {
    "collapsed": true
   },
   "outputs": [],
   "source": [
    "full_data.drop('denominacion_empresa', axis=1, inplace=True)"
   ]
  },
  {
   "cell_type": "code",
   "execution_count": 40,
   "metadata": {},
   "outputs": [
    {
     "data": {
      "text/html": [
       "<div>\n",
       "<style scoped>\n",
       "    .dataframe tbody tr th:only-of-type {\n",
       "        vertical-align: middle;\n",
       "    }\n",
       "\n",
       "    .dataframe tbody tr th {\n",
       "        vertical-align: top;\n",
       "    }\n",
       "\n",
       "    .dataframe thead th {\n",
       "        text-align: right;\n",
       "    }\n",
       "</style>\n",
       "<table border=\"1\" class=\"dataframe\">\n",
       "  <thead>\n",
       "    <tr style=\"text-align: right;\">\n",
       "      <th></th>\n",
       "      <th>idpostulante</th>\n",
       "      <th>valor_educacion</th>\n",
       "      <th>sexo</th>\n",
       "      <th>edad</th>\n",
       "      <th>idaviso</th>\n",
       "      <th>fechapostulacion</th>\n",
       "      <th>tipo_de_trabajo</th>\n",
       "      <th>nivel_laboral</th>\n",
       "    </tr>\n",
       "  </thead>\n",
       "  <tbody>\n",
       "    <tr>\n",
       "      <th>0</th>\n",
       "      <td>NdJl</td>\n",
       "      <td>15</td>\n",
       "      <td>1</td>\n",
       "      <td>51.0</td>\n",
       "      <td>1112260409</td>\n",
       "      <td>2018-01-24 05:17:29</td>\n",
       "      <td>1</td>\n",
       "      <td>4</td>\n",
       "    </tr>\n",
       "    <tr>\n",
       "      <th>1</th>\n",
       "      <td>66XQMv</td>\n",
       "      <td>15</td>\n",
       "      <td>1</td>\n",
       "      <td>38.0</td>\n",
       "      <td>1112260409</td>\n",
       "      <td>2018-01-18 14:34:47</td>\n",
       "      <td>1</td>\n",
       "      <td>4</td>\n",
       "    </tr>\n",
       "    <tr>\n",
       "      <th>2</th>\n",
       "      <td>ZlXp1Y</td>\n",
       "      <td>15</td>\n",
       "      <td>1</td>\n",
       "      <td>39.0</td>\n",
       "      <td>1112260409</td>\n",
       "      <td>2018-01-17 08:02:27</td>\n",
       "      <td>1</td>\n",
       "      <td>4</td>\n",
       "    </tr>\n",
       "    <tr>\n",
       "      <th>3</th>\n",
       "      <td>6oYpOv</td>\n",
       "      <td>15</td>\n",
       "      <td>0</td>\n",
       "      <td>48.0</td>\n",
       "      <td>1112260409</td>\n",
       "      <td>2018-01-16 15:22:42</td>\n",
       "      <td>1</td>\n",
       "      <td>4</td>\n",
       "    </tr>\n",
       "    <tr>\n",
       "      <th>4</th>\n",
       "      <td>ewQq5r</td>\n",
       "      <td>15</td>\n",
       "      <td>0</td>\n",
       "      <td>48.0</td>\n",
       "      <td>1112260409</td>\n",
       "      <td>2018-01-22 02:34:02</td>\n",
       "      <td>1</td>\n",
       "      <td>4</td>\n",
       "    </tr>\n",
       "  </tbody>\n",
       "</table>\n",
       "</div>"
      ],
      "text/plain": [
       "  idpostulante  valor_educacion  sexo  edad     idaviso     fechapostulacion  \\\n",
       "0         NdJl               15     1  51.0  1112260409  2018-01-24 05:17:29   \n",
       "1       66XQMv               15     1  38.0  1112260409  2018-01-18 14:34:47   \n",
       "2       ZlXp1Y               15     1  39.0  1112260409  2018-01-17 08:02:27   \n",
       "3       6oYpOv               15     0  48.0  1112260409  2018-01-16 15:22:42   \n",
       "4       ewQq5r               15     0  48.0  1112260409  2018-01-22 02:34:02   \n",
       "\n",
       "   tipo_de_trabajo  nivel_laboral  \n",
       "0                1              4  \n",
       "1                1              4  \n",
       "2                1              4  \n",
       "3                1              4  \n",
       "4                1              4  "
      ]
     },
     "execution_count": 40,
     "metadata": {},
     "output_type": "execute_result"
    }
   ],
   "source": [
    "full_data.head()"
   ]
  },
  {
   "cell_type": "code",
   "execution_count": 41,
   "metadata": {},
   "outputs": [
    {
     "data": {
      "text/html": [
       "<div>\n",
       "<style scoped>\n",
       "    .dataframe tbody tr th:only-of-type {\n",
       "        vertical-align: middle;\n",
       "    }\n",
       "\n",
       "    .dataframe tbody tr th {\n",
       "        vertical-align: top;\n",
       "    }\n",
       "\n",
       "    .dataframe thead th {\n",
       "        text-align: right;\n",
       "    }\n",
       "</style>\n",
       "<table border=\"1\" class=\"dataframe\">\n",
       "  <thead>\n",
       "    <tr style=\"text-align: right;\">\n",
       "      <th></th>\n",
       "      <th>idpostulante</th>\n",
       "      <th>valor_educacion</th>\n",
       "      <th>sexo</th>\n",
       "      <th>edad</th>\n",
       "      <th>idaviso</th>\n",
       "      <th>fechapostulacion</th>\n",
       "      <th>tipo_de_trabajo</th>\n",
       "      <th>nivel_laboral</th>\n",
       "      <th>se_postulo</th>\n",
       "    </tr>\n",
       "  </thead>\n",
       "  <tbody>\n",
       "    <tr>\n",
       "      <th>0</th>\n",
       "      <td>NdJl</td>\n",
       "      <td>15</td>\n",
       "      <td>1</td>\n",
       "      <td>51.0</td>\n",
       "      <td>1112260409</td>\n",
       "      <td>2018-01-24 05:17:29</td>\n",
       "      <td>1</td>\n",
       "      <td>4</td>\n",
       "      <td>1</td>\n",
       "    </tr>\n",
       "    <tr>\n",
       "      <th>1</th>\n",
       "      <td>66XQMv</td>\n",
       "      <td>15</td>\n",
       "      <td>1</td>\n",
       "      <td>38.0</td>\n",
       "      <td>1112260409</td>\n",
       "      <td>2018-01-18 14:34:47</td>\n",
       "      <td>1</td>\n",
       "      <td>4</td>\n",
       "      <td>1</td>\n",
       "    </tr>\n",
       "    <tr>\n",
       "      <th>2</th>\n",
       "      <td>ZlXp1Y</td>\n",
       "      <td>15</td>\n",
       "      <td>1</td>\n",
       "      <td>39.0</td>\n",
       "      <td>1112260409</td>\n",
       "      <td>2018-01-17 08:02:27</td>\n",
       "      <td>1</td>\n",
       "      <td>4</td>\n",
       "      <td>1</td>\n",
       "    </tr>\n",
       "    <tr>\n",
       "      <th>3</th>\n",
       "      <td>6oYpOv</td>\n",
       "      <td>15</td>\n",
       "      <td>0</td>\n",
       "      <td>48.0</td>\n",
       "      <td>1112260409</td>\n",
       "      <td>2018-01-16 15:22:42</td>\n",
       "      <td>1</td>\n",
       "      <td>4</td>\n",
       "      <td>1</td>\n",
       "    </tr>\n",
       "    <tr>\n",
       "      <th>4</th>\n",
       "      <td>ewQq5r</td>\n",
       "      <td>15</td>\n",
       "      <td>0</td>\n",
       "      <td>48.0</td>\n",
       "      <td>1112260409</td>\n",
       "      <td>2018-01-22 02:34:02</td>\n",
       "      <td>1</td>\n",
       "      <td>4</td>\n",
       "      <td>1</td>\n",
       "    </tr>\n",
       "  </tbody>\n",
       "</table>\n",
       "</div>"
      ],
      "text/plain": [
       "  idpostulante  valor_educacion  sexo  edad     idaviso     fechapostulacion  \\\n",
       "0         NdJl               15     1  51.0  1112260409  2018-01-24 05:17:29   \n",
       "1       66XQMv               15     1  38.0  1112260409  2018-01-18 14:34:47   \n",
       "2       ZlXp1Y               15     1  39.0  1112260409  2018-01-17 08:02:27   \n",
       "3       6oYpOv               15     0  48.0  1112260409  2018-01-16 15:22:42   \n",
       "4       ewQq5r               15     0  48.0  1112260409  2018-01-22 02:34:02   \n",
       "\n",
       "   tipo_de_trabajo  nivel_laboral  se_postulo  \n",
       "0                1              4           1  \n",
       "1                1              4           1  \n",
       "2                1              4           1  \n",
       "3                1              4           1  \n",
       "4                1              4           1  "
      ]
     },
     "execution_count": 41,
     "metadata": {},
     "output_type": "execute_result"
    }
   ],
   "source": [
    "full_data['se_postulo'] = 1\n",
    "full_data.head()"
   ]
  },
  {
   "cell_type": "code",
   "execution_count": 43,
   "metadata": {
    "collapsed": true
   },
   "outputs": [],
   "source": [
    "full_data.drop(['fechapostulacion', 'idaviso'],axis=1,inplace=True)"
   ]
  },
  {
   "cell_type": "code",
   "execution_count": 44,
   "metadata": {
    "collapsed": true
   },
   "outputs": [],
   "source": [
    "y = np.array(full_data['se_postulo'])"
   ]
  },
  {
   "cell_type": "code",
   "execution_count": 45,
   "metadata": {
    "collapsed": true
   },
   "outputs": [],
   "source": [
    "#cat_columns = full_data.select_dtypes(['idpostulante']).columns\n",
    "#full_data[cat_columns] = full_data[cat_columns].apply(lambda x: x.cat.codes)\n",
    "# Convierto el nombre del area a category.\n",
    "full_data['idpostulante'] = full_data['idpostulante'].astype('category')"
   ]
  },
  {
   "cell_type": "code",
   "execution_count": 46,
   "metadata": {},
   "outputs": [
    {
     "data": {
      "text/html": [
       "<div>\n",
       "<style scoped>\n",
       "    .dataframe tbody tr th:only-of-type {\n",
       "        vertical-align: middle;\n",
       "    }\n",
       "\n",
       "    .dataframe tbody tr th {\n",
       "        vertical-align: top;\n",
       "    }\n",
       "\n",
       "    .dataframe thead th {\n",
       "        text-align: right;\n",
       "    }\n",
       "</style>\n",
       "<table border=\"1\" class=\"dataframe\">\n",
       "  <thead>\n",
       "    <tr style=\"text-align: right;\">\n",
       "      <th></th>\n",
       "      <th>idpostulante</th>\n",
       "      <th>idpostulante2</th>\n",
       "    </tr>\n",
       "  </thead>\n",
       "  <tbody>\n",
       "    <tr>\n",
       "      <th>0</th>\n",
       "      <td>NdJl</td>\n",
       "      <td>116209</td>\n",
       "    </tr>\n",
       "    <tr>\n",
       "      <th>1</th>\n",
       "      <td>66XQMv</td>\n",
       "      <td>38071</td>\n",
       "    </tr>\n",
       "    <tr>\n",
       "      <th>2</th>\n",
       "      <td>ZlXp1Y</td>\n",
       "      <td>166635</td>\n",
       "    </tr>\n",
       "    <tr>\n",
       "      <th>3</th>\n",
       "      <td>6oYpOv</td>\n",
       "      <td>41817</td>\n",
       "    </tr>\n",
       "    <tr>\n",
       "      <th>4</th>\n",
       "      <td>ewQq5r</td>\n",
       "      <td>198682</td>\n",
       "    </tr>\n",
       "  </tbody>\n",
       "</table>\n",
       "</div>"
      ],
      "text/plain": [
       "  idpostulante  idpostulante2\n",
       "0         NdJl         116209\n",
       "1       66XQMv          38071\n",
       "2       ZlXp1Y         166635\n",
       "3       6oYpOv          41817\n",
       "4       ewQq5r         198682"
      ]
     },
     "execution_count": 46,
     "metadata": {},
     "output_type": "execute_result"
    }
   ],
   "source": [
    "#cat_columns = full_data.select_dtypes(['idpostulante']).columns\n",
    "lb_make = LabelEncoder()\n",
    "full_data[\"idpostulante2\"] = lb_make.fit_transform(full_data[\"idpostulante\"])\n",
    "full_data[[\"idpostulante\", \"idpostulante2\"]].head()\n",
    "#full_data[cat_columns] = full_data[cat_columns].apply(lambda x: x.cat.codes)\n"
   ]
  },
  {
   "cell_type": "code",
   "execution_count": 28,
   "metadata": {},
   "outputs": [
    {
     "data": {
      "text/plain": [
       "(4855432, 7)"
      ]
     },
     "execution_count": 28,
     "metadata": {},
     "output_type": "execute_result"
    }
   ],
   "source": [
    "X = np.array(full_data.drop(['fechapostulacion','idaviso','idpostulante'],1))\n",
    "X.shape"
   ]
  },
  {
   "cell_type": "code",
   "execution_count": 51,
   "metadata": {
    "collapsed": true
   },
   "outputs": [],
   "source": [
    "full_data.drop('idpostulante', axis=1, inplace=True)"
   ]
  },
  {
   "cell_type": "code",
   "execution_count": 52,
   "metadata": {
    "collapsed": true
   },
   "outputs": [],
   "source": [
    "full_data_m = full_data.as_matrix()\n",
    "full_data_m = np.matrix(full_data_m)"
   ]
  },
  {
   "cell_type": "code",
   "execution_count": 53,
   "metadata": {
    "collapsed": true
   },
   "outputs": [],
   "source": [
    "# CREA dataset TRAIN y TEST\n",
    "#---------------------------------------------------------------------------------------------\n",
    "np.random.seed(123)\n",
    "m_train    = np.random.rand(len(full_data_m)) < 0.5\n",
    "data_train = full_data_m[m_train,]\n",
    "data_test  = full_data_m[~m_train,]\n"
   ]
  },
  {
   "cell_type": "code",
   "execution_count": 54,
   "metadata": {
    "collapsed": true
   },
   "outputs": [],
   "source": [
    "# CLASE\n",
    "#---------------------------------------------------------------------------------------------\n",
    "clase_train = data_train[:,-1]\n",
    "clase_train = clase_train.A1 #convierte de matriz a vector \n",
    "clase_test  = data_test[:,-1]\n",
    "clase_test  = clase_test.A1 #convierte de matriz a vector "
   ]
  },
  {
   "cell_type": "code",
   "execution_count": null,
   "metadata": {
    "collapsed": true
   },
   "outputs": [],
   "source": [
    "# MODELO\n",
    "#---------------------------------------------------------------------------------------------\n",
    "modelo_lr = LogisticRegression()\n",
    "modelo_lr.fit(X=data_train[:,:-1],y=clase_train)"
   ]
  },
  {
   "cell_type": "code",
   "execution_count": null,
   "metadata": {
    "collapsed": true
   },
   "outputs": [],
   "source": [
    "\n",
    "# PREDICCION\n",
    "#---------------------------------------------------------------------------------------------\n",
    "predicion = modelo_lr.predict(data_test[:,:-1])\n",
    "\n",
    "\n",
    "# METRICAS\n",
    "#---------------------------------------------------------------------------------------------\n",
    "print(metrics.classification_report(y_true=clase_test, y_pred=predicion))\n",
    "print(pd.crosstab(data_test[:,-1].A1, predicion, rownames=['REAL'], colnames=['PREDICCION']))"
   ]
  },
  {
   "cell_type": "code",
   "execution_count": 2,
   "metadata": {},
   "outputs": [
    {
     "data": {
      "text/html": [
       "<div>\n",
       "<style scoped>\n",
       "    .dataframe tbody tr th:only-of-type {\n",
       "        vertical-align: middle;\n",
       "    }\n",
       "\n",
       "    .dataframe tbody tr th {\n",
       "        vertical-align: top;\n",
       "    }\n",
       "\n",
       "    .dataframe thead th {\n",
       "        text-align: right;\n",
       "    }\n",
       "</style>\n",
       "<table border=\"1\" class=\"dataframe\">\n",
       "  <thead>\n",
       "    <tr style=\"text-align: right;\">\n",
       "      <th></th>\n",
       "      <th>idaviso</th>\n",
       "      <th>idpostulante</th>\n",
       "      <th>timestamp</th>\n",
       "      <th>valor_educacion</th>\n",
       "      <th>sexo</th>\n",
       "      <th>idtitulo</th>\n",
       "      <th>idzona</th>\n",
       "      <th>idciudad</th>\n",
       "      <th>idmapacalle</th>\n",
       "      <th>idtipo_de_trabajo</th>\n",
       "      <th>idnivel_laboral</th>\n",
       "      <th>idnombre_area</th>\n",
       "      <th>iddenominacion_empresa</th>\n",
       "      <th>se_postulo</th>\n",
       "    </tr>\n",
       "  </thead>\n",
       "  <tbody>\n",
       "    <tr>\n",
       "      <th>0</th>\n",
       "      <td>1111556097</td>\n",
       "      <td>365446</td>\n",
       "      <td>7.038007e+06</td>\n",
       "      <td>17</td>\n",
       "      <td>1</td>\n",
       "      <td>0</td>\n",
       "      <td>0</td>\n",
       "      <td>0</td>\n",
       "      <td>0</td>\n",
       "      <td>0</td>\n",
       "      <td>0</td>\n",
       "      <td>0</td>\n",
       "      <td>0</td>\n",
       "      <td>1</td>\n",
       "    </tr>\n",
       "    <tr>\n",
       "      <th>1</th>\n",
       "      <td>1112370711</td>\n",
       "      <td>365446</td>\n",
       "      <td>7.476885e+06</td>\n",
       "      <td>17</td>\n",
       "      <td>1</td>\n",
       "      <td>6996</td>\n",
       "      <td>0</td>\n",
       "      <td>0</td>\n",
       "      <td>0</td>\n",
       "      <td>0</td>\n",
       "      <td>0</td>\n",
       "      <td>45</td>\n",
       "      <td>14</td>\n",
       "      <td>1</td>\n",
       "    </tr>\n",
       "    <tr>\n",
       "      <th>2</th>\n",
       "      <td>1112326655</td>\n",
       "      <td>365446</td>\n",
       "      <td>9.809277e+06</td>\n",
       "      <td>17</td>\n",
       "      <td>1</td>\n",
       "      <td>11827</td>\n",
       "      <td>0</td>\n",
       "      <td>0</td>\n",
       "      <td>0</td>\n",
       "      <td>0</td>\n",
       "      <td>0</td>\n",
       "      <td>4</td>\n",
       "      <td>33</td>\n",
       "      <td>1</td>\n",
       "    </tr>\n",
       "    <tr>\n",
       "      <th>3</th>\n",
       "      <td>1112350182</td>\n",
       "      <td>365446</td>\n",
       "      <td>8.856385e+06</td>\n",
       "      <td>17</td>\n",
       "      <td>1</td>\n",
       "      <td>2141</td>\n",
       "      <td>0</td>\n",
       "      <td>0</td>\n",
       "      <td>0</td>\n",
       "      <td>0</td>\n",
       "      <td>0</td>\n",
       "      <td>31</td>\n",
       "      <td>38</td>\n",
       "      <td>1</td>\n",
       "    </tr>\n",
       "    <tr>\n",
       "      <th>4</th>\n",
       "      <td>1112383837</td>\n",
       "      <td>365446</td>\n",
       "      <td>7.563903e+06</td>\n",
       "      <td>17</td>\n",
       "      <td>1</td>\n",
       "      <td>6942</td>\n",
       "      <td>0</td>\n",
       "      <td>0</td>\n",
       "      <td>0</td>\n",
       "      <td>0</td>\n",
       "      <td>0</td>\n",
       "      <td>75</td>\n",
       "      <td>46</td>\n",
       "      <td>1</td>\n",
       "    </tr>\n",
       "  </tbody>\n",
       "</table>\n",
       "</div>"
      ],
      "text/plain": [
       "      idaviso  idpostulante     timestamp  valor_educacion  sexo  idtitulo  \\\n",
       "0  1111556097        365446  7.038007e+06               17     1         0   \n",
       "1  1112370711        365446  7.476885e+06               17     1      6996   \n",
       "2  1112326655        365446  9.809277e+06               17     1     11827   \n",
       "3  1112350182        365446  8.856385e+06               17     1      2141   \n",
       "4  1112383837        365446  7.563903e+06               17     1      6942   \n",
       "\n",
       "   idzona  idciudad  idmapacalle  idtipo_de_trabajo  idnivel_laboral  \\\n",
       "0       0         0            0                  0                0   \n",
       "1       0         0            0                  0                0   \n",
       "2       0         0            0                  0                0   \n",
       "3       0         0            0                  0                0   \n",
       "4       0         0            0                  0                0   \n",
       "\n",
       "   idnombre_area  iddenominacion_empresa  se_postulo  \n",
       "0              0                       0           1  \n",
       "1             45                      14           1  \n",
       "2              4                      33           1  \n",
       "3             31                      38           1  \n",
       "4             75                      46           1  "
      ]
     },
     "execution_count": 2,
     "metadata": {},
     "output_type": "execute_result"
    }
   ],
   "source": [
    "df = pd.read_csv('../data/final_data/entrenamiento_postulaciones_vistas4.csv', encoding='utf-8')\n",
    "df.head()"
   ]
  },
  {
   "cell_type": "code",
   "execution_count": 3,
   "metadata": {},
   "outputs": [
    {
     "name": "stderr",
     "output_type": "stream",
     "text": [
      "/usr/local/lib/python3.5/dist-packages/ipykernel_launcher.py:2: DeprecationWarning: \n",
      ".ix is deprecated. Please use\n",
      ".loc for label based indexing or\n",
      ".iloc for positional indexing\n",
      "\n",
      "See the documentation here:\n",
      "http://pandas.pydata.org/pandas-docs/stable/indexing.html#ix-indexer-is-deprecated\n",
      "  \n"
     ]
    }
   ],
   "source": [
    "# X will have the numeric data, Y will have the target class\n",
    "dfix = df.ix[:, 0:13];\n",
    "X = np.array(dfix)\n",
    "y = np.array(df['se_postulo'])"
   ]
  },
  {
   "cell_type": "code",
   "execution_count": 6,
   "metadata": {},
   "outputs": [
    {
     "data": {
      "text/plain": [
       "array([[  1.11241876e+09,   2.56340000e+04,   4.17343225e+06, ...,\n",
       "          0.00000000e+00,   7.60000000e+01,   1.00000000e+01],\n",
       "       [  1.11234254e+09,   1.24354000e+05,   8.95024431e+06, ...,\n",
       "          0.00000000e+00,   1.30000000e+01,   1.79200000e+03],\n",
       "       [  1.11227764e+09,   2.26590000e+05,   1.04896253e+07, ...,\n",
       "          2.00000000e+00,   4.70000000e+01,   4.38000000e+02],\n",
       "       ..., \n",
       "       [  1.11239744e+09,   1.78446000e+05,   4.74903463e+06, ...,\n",
       "          1.00000000e+00,   5.30000000e+01,   3.65500000e+03],\n",
       "       [  1.11166223e+09,   2.86619000e+05,   1.12488263e+07, ...,\n",
       "          1.00000000e+00,   1.90000000e+01,   1.13000000e+03],\n",
       "       [  1.11235984e+09,   1.52316000e+05,   8.57449731e+06, ...,\n",
       "          0.00000000e+00,   1.12000000e+02,   5.77000000e+02]])"
      ]
     },
     "execution_count": 6,
     "metadata": {},
     "output_type": "execute_result"
    }
   ],
   "source": [
    "# Split into train and test, use only 10% as test (15 flowers)\n",
    "X_train, X_test, y_train, y_test = train_test_split(X, y, random_state=7506)\n",
    "X_test"
   ]
  },
  {
   "cell_type": "code",
   "execution_count": 7,
   "metadata": {
    "collapsed": true
   },
   "outputs": [],
   "source": [
    "modelo_lr = LogisticRegression()"
   ]
  },
  {
   "cell_type": "code",
   "execution_count": 8,
   "metadata": {},
   "outputs": [
    {
     "data": {
      "text/plain": [
       "LogisticRegression(C=1.0, class_weight=None, dual=False, fit_intercept=True,\n",
       "          intercept_scaling=1, max_iter=100, multi_class='ovr', n_jobs=1,\n",
       "          penalty='l2', random_state=None, solver='liblinear', tol=0.0001,\n",
       "          verbose=0, warm_start=False)"
      ]
     },
     "execution_count": 8,
     "metadata": {},
     "output_type": "execute_result"
    }
   ],
   "source": [
    "modelo_lr.fit(X_train,y_train)"
   ]
  },
  {
   "cell_type": "code",
   "execution_count": 9,
   "metadata": {
    "collapsed": true
   },
   "outputs": [],
   "source": [
    "pred = modelo_lr.predict(X_test)"
   ]
  },
  {
   "cell_type": "code",
   "execution_count": 10,
   "metadata": {},
   "outputs": [
    {
     "name": "stdout",
     "output_type": "stream",
     "text": [
      "0.800666154562\n"
     ]
    }
   ],
   "source": [
    "print (accuracy_score(y_test, pred))"
   ]
  },
  {
   "cell_type": "code",
   "execution_count": 11,
   "metadata": {},
   "outputs": [
    {
     "data": {
      "text/plain": [
       "array([[  1.11155610e+09,   3.65446000e+05,   7.03800731e+06, ...,\n",
       "          0.00000000e+00,   0.00000000e+00,   0.00000000e+00],\n",
       "       [  1.11237071e+09,   3.65446000e+05,   7.47688531e+06, ...,\n",
       "          0.00000000e+00,   4.50000000e+01,   1.40000000e+01],\n",
       "       [  1.11232666e+09,   3.65446000e+05,   9.80927731e+06, ...,\n",
       "          0.00000000e+00,   4.00000000e+00,   3.30000000e+01],\n",
       "       ..., \n",
       "       [  1.11160188e+09,   3.23892000e+05,   8.13147410e+06, ...,\n",
       "          0.00000000e+00,   6.00000000e+00,   7.10000000e+01],\n",
       "       [  1.11131998e+09,   3.99727000e+05,   8.12986248e+06, ...,\n",
       "          0.00000000e+00,   3.00000000e+00,   3.29000000e+02],\n",
       "       [  1.11208492e+09,   1.20330000e+05,   8.12629305e+06, ...,\n",
       "          0.00000000e+00,   1.40000000e+01,   1.85000000e+03]])"
      ]
     },
     "execution_count": 11,
     "metadata": {},
     "output_type": "execute_result"
    }
   ],
   "source": [
    "X_full_data = np.array(dfix)\n",
    "X_full_data"
   ]
  },
  {
   "cell_type": "code",
   "execution_count": 13,
   "metadata": {},
   "outputs": [],
   "source": [
    "pred_full_data = modelo_lr.predict(X_full_data)"
   ]
  },
  {
   "cell_type": "code",
   "execution_count": 14,
   "metadata": {
    "collapsed": true
   },
   "outputs": [],
   "source": [
    "df['sepostulo'] = pred_full_data"
   ]
  },
  {
   "cell_type": "code",
   "execution_count": null,
   "metadata": {
    "collapsed": true
   },
   "outputs": [],
   "source": []
  },
  {
   "cell_type": "markdown",
   "metadata": {},
   "source": [
    "# Subida"
   ]
  },
  {
   "cell_type": "code",
   "execution_count": 15,
   "metadata": {
    "collapsed": true
   },
   "outputs": [],
   "source": [
    "top100 = pd.read_csv(\"../test_final_100k.csv\", encoding='utf-8')"
   ]
  },
  {
   "cell_type": "code",
   "execution_count": 16,
   "metadata": {},
   "outputs": [
    {
     "data": {
      "text/html": [
       "<div>\n",
       "<style scoped>\n",
       "    .dataframe tbody tr th:only-of-type {\n",
       "        vertical-align: middle;\n",
       "    }\n",
       "\n",
       "    .dataframe tbody tr th {\n",
       "        vertical-align: top;\n",
       "    }\n",
       "\n",
       "    .dataframe thead th {\n",
       "        text-align: right;\n",
       "    }\n",
       "</style>\n",
       "<table border=\"1\" class=\"dataframe\">\n",
       "  <thead>\n",
       "    <tr style=\"text-align: right;\">\n",
       "      <th></th>\n",
       "      <th>idpostulante</th>\n",
       "      <th>idpostulante2</th>\n",
       "    </tr>\n",
       "  </thead>\n",
       "  <tbody>\n",
       "    <tr>\n",
       "      <th>0</th>\n",
       "      <td>pzeVW63</td>\n",
       "      <td>365446</td>\n",
       "    </tr>\n",
       "    <tr>\n",
       "      <th>1</th>\n",
       "      <td>PmVbBWY</td>\n",
       "      <td>209736</td>\n",
       "    </tr>\n",
       "    <tr>\n",
       "      <th>2</th>\n",
       "      <td>zvPMxvJ</td>\n",
       "      <td>409297</td>\n",
       "    </tr>\n",
       "    <tr>\n",
       "      <th>3</th>\n",
       "      <td>YYwJKq</td>\n",
       "      <td>250105</td>\n",
       "    </tr>\n",
       "    <tr>\n",
       "      <th>4</th>\n",
       "      <td>3NkMAVq</td>\n",
       "      <td>37024</td>\n",
       "    </tr>\n",
       "  </tbody>\n",
       "</table>\n",
       "</div>"
      ],
      "text/plain": [
       "  idpostulante  idpostulante2\n",
       "0      pzeVW63         365446\n",
       "1      PmVbBWY         209736\n",
       "2      zvPMxvJ         409297\n",
       "3       YYwJKq         250105\n",
       "4      3NkMAVq          37024"
      ]
     },
     "execution_count": 16,
     "metadata": {},
     "output_type": "execute_result"
    }
   ],
   "source": [
    "id_postulantes = pd.read_csv('../data/final_data/entrenamiento_id_postulantes.csv', encoding='utf-8')\n",
    "id_postulantes.drop('Unnamed: 0', axis=1, inplace=True)\n",
    "id_postulantes.shape\n",
    "id_postulantes.head()"
   ]
  },
  {
   "cell_type": "code",
   "execution_count": 17,
   "metadata": {},
   "outputs": [
    {
     "data": {
      "text/plain": [
       "(100000, 4)"
      ]
     },
     "execution_count": 17,
     "metadata": {},
     "output_type": "execute_result"
    }
   ],
   "source": [
    "top100_full = pd.merge(top100, id_postulantes, how='left', on='idpostulante')\n",
    "top100_full.shape"
   ]
  },
  {
   "cell_type": "code",
   "execution_count": 18,
   "metadata": {},
   "outputs": [
    {
     "data": {
      "text/html": [
       "<div>\n",
       "<style scoped>\n",
       "    .dataframe tbody tr th:only-of-type {\n",
       "        vertical-align: middle;\n",
       "    }\n",
       "\n",
       "    .dataframe tbody tr th {\n",
       "        vertical-align: top;\n",
       "    }\n",
       "\n",
       "    .dataframe thead th {\n",
       "        text-align: right;\n",
       "    }\n",
       "</style>\n",
       "<table border=\"1\" class=\"dataframe\">\n",
       "  <thead>\n",
       "    <tr style=\"text-align: right;\">\n",
       "      <th></th>\n",
       "      <th>id</th>\n",
       "      <th>idaviso</th>\n",
       "      <th>idpostulante</th>\n",
       "    </tr>\n",
       "  </thead>\n",
       "  <tbody>\n",
       "    <tr>\n",
       "      <th>0</th>\n",
       "      <td>0</td>\n",
       "      <td>739260</td>\n",
       "      <td>63651.0</td>\n",
       "    </tr>\n",
       "    <tr>\n",
       "      <th>1</th>\n",
       "      <td>1</td>\n",
       "      <td>739260</td>\n",
       "      <td>76877.0</td>\n",
       "    </tr>\n",
       "    <tr>\n",
       "      <th>2</th>\n",
       "      <td>2</td>\n",
       "      <td>739260</td>\n",
       "      <td>323397.0</td>\n",
       "    </tr>\n",
       "    <tr>\n",
       "      <th>3</th>\n",
       "      <td>3</td>\n",
       "      <td>758580</td>\n",
       "      <td>NaN</td>\n",
       "    </tr>\n",
       "    <tr>\n",
       "      <th>4</th>\n",
       "      <td>4</td>\n",
       "      <td>758580</td>\n",
       "      <td>127342.0</td>\n",
       "    </tr>\n",
       "  </tbody>\n",
       "</table>\n",
       "</div>"
      ],
      "text/plain": [
       "   id  idaviso  idpostulante\n",
       "0   0   739260       63651.0\n",
       "1   1   739260       76877.0\n",
       "2   2   739260      323397.0\n",
       "3   3   758580           NaN\n",
       "4   4   758580      127342.0"
      ]
     },
     "execution_count": 18,
     "metadata": {},
     "output_type": "execute_result"
    }
   ],
   "source": [
    "top100_full.drop('idpostulante', inplace=True, axis=1)\n",
    "top100_full.rename({'idpostulante2':'idpostulante'}, inplace=True, axis=1)\n",
    "top100_full.head()"
   ]
  },
  {
   "cell_type": "code",
   "execution_count": 19,
   "metadata": {},
   "outputs": [
    {
     "data": {
      "text/plain": [
       "(100000, 16)"
      ]
     },
     "execution_count": 19,
     "metadata": {},
     "output_type": "execute_result"
    }
   ],
   "source": [
    "top100_full = pd.merge(top100_full, df, how='left', on=['idaviso','idpostulante'])\n",
    "top100_full.shape"
   ]
  },
  {
   "cell_type": "code",
   "execution_count": 20,
   "metadata": {},
   "outputs": [
    {
     "data": {
      "text/html": [
       "<div>\n",
       "<style scoped>\n",
       "    .dataframe tbody tr th:only-of-type {\n",
       "        vertical-align: middle;\n",
       "    }\n",
       "\n",
       "    .dataframe tbody tr th {\n",
       "        vertical-align: top;\n",
       "    }\n",
       "\n",
       "    .dataframe thead th {\n",
       "        text-align: right;\n",
       "    }\n",
       "</style>\n",
       "<table border=\"1\" class=\"dataframe\">\n",
       "  <thead>\n",
       "    <tr style=\"text-align: right;\">\n",
       "      <th></th>\n",
       "      <th>id</th>\n",
       "      <th>se_postulo</th>\n",
       "      <th>sepostulo</th>\n",
       "    </tr>\n",
       "  </thead>\n",
       "  <tbody>\n",
       "    <tr>\n",
       "      <th>0</th>\n",
       "      <td>0</td>\n",
       "      <td>NaN</td>\n",
       "      <td>NaN</td>\n",
       "    </tr>\n",
       "    <tr>\n",
       "      <th>1</th>\n",
       "      <td>1</td>\n",
       "      <td>NaN</td>\n",
       "      <td>NaN</td>\n",
       "    </tr>\n",
       "    <tr>\n",
       "      <th>2</th>\n",
       "      <td>2</td>\n",
       "      <td>NaN</td>\n",
       "      <td>NaN</td>\n",
       "    </tr>\n",
       "    <tr>\n",
       "      <th>3</th>\n",
       "      <td>3</td>\n",
       "      <td>NaN</td>\n",
       "      <td>NaN</td>\n",
       "    </tr>\n",
       "    <tr>\n",
       "      <th>4</th>\n",
       "      <td>4</td>\n",
       "      <td>NaN</td>\n",
       "      <td>NaN</td>\n",
       "    </tr>\n",
       "  </tbody>\n",
       "</table>\n",
       "</div>"
      ],
      "text/plain": [
       "   id  se_postulo  sepostulo\n",
       "0   0         NaN        NaN\n",
       "1   1         NaN        NaN\n",
       "2   2         NaN        NaN\n",
       "3   3         NaN        NaN\n",
       "4   4         NaN        NaN"
      ]
     },
     "execution_count": 20,
     "metadata": {},
     "output_type": "execute_result"
    }
   ],
   "source": [
    "top100_full = top100_full[['id', 'se_postulo', 'sepostulo']]\n",
    "top100_full.head()"
   ]
  },
  {
   "cell_type": "code",
   "execution_count": 21,
   "metadata": {
    "collapsed": true
   },
   "outputs": [],
   "source": [
    "top100_full.fillna(0, inplace=True)"
   ]
  },
  {
   "cell_type": "code",
   "execution_count": 22,
   "metadata": {},
   "outputs": [
    {
     "data": {
      "text/html": [
       "<div>\n",
       "<style scoped>\n",
       "    .dataframe tbody tr th:only-of-type {\n",
       "        vertical-align: middle;\n",
       "    }\n",
       "\n",
       "    .dataframe tbody tr th {\n",
       "        vertical-align: top;\n",
       "    }\n",
       "\n",
       "    .dataframe thead th {\n",
       "        text-align: right;\n",
       "    }\n",
       "</style>\n",
       "<table border=\"1\" class=\"dataframe\">\n",
       "  <thead>\n",
       "    <tr style=\"text-align: right;\">\n",
       "      <th></th>\n",
       "      <th>id</th>\n",
       "      <th>se_postulo</th>\n",
       "      <th>sepostulo</th>\n",
       "    </tr>\n",
       "  </thead>\n",
       "  <tbody>\n",
       "    <tr>\n",
       "      <th>0</th>\n",
       "      <td>0</td>\n",
       "      <td>0</td>\n",
       "      <td>0</td>\n",
       "    </tr>\n",
       "    <tr>\n",
       "      <th>1</th>\n",
       "      <td>1</td>\n",
       "      <td>0</td>\n",
       "      <td>0</td>\n",
       "    </tr>\n",
       "    <tr>\n",
       "      <th>2</th>\n",
       "      <td>2</td>\n",
       "      <td>0</td>\n",
       "      <td>0</td>\n",
       "    </tr>\n",
       "    <tr>\n",
       "      <th>3</th>\n",
       "      <td>3</td>\n",
       "      <td>0</td>\n",
       "      <td>0</td>\n",
       "    </tr>\n",
       "    <tr>\n",
       "      <th>4</th>\n",
       "      <td>4</td>\n",
       "      <td>0</td>\n",
       "      <td>0</td>\n",
       "    </tr>\n",
       "  </tbody>\n",
       "</table>\n",
       "</div>"
      ],
      "text/plain": [
       "   id  se_postulo  sepostulo\n",
       "0   0           0          0\n",
       "1   1           0          0\n",
       "2   2           0          0\n",
       "3   3           0          0\n",
       "4   4           0          0"
      ]
     },
     "execution_count": 22,
     "metadata": {},
     "output_type": "execute_result"
    }
   ],
   "source": [
    "top100_full['se_postulo'] = top100_full['se_postulo'].astype('int')\n",
    "top100_full['sepostulo'] = top100_full['sepostulo'].astype('int')\n",
    "top100_full.head()"
   ]
  },
  {
   "cell_type": "code",
   "execution_count": 23,
   "metadata": {},
   "outputs": [
    {
     "data": {
      "text/plain": [
       "Series([], Name: sepostulo, dtype: int64)"
      ]
     },
     "execution_count": 23,
     "metadata": {},
     "output_type": "execute_result"
    }
   ],
   "source": [
    "top100_full.loc[(top100_full['sepostulo'] == 0) & (top100_full['se_postulo'] == 1), 'sepostulo'] = 1\n",
    "top100_full[(top100_full['sepostulo'] == 0) & (top100_full['se_postulo'] == 1)]['sepostulo']"
   ]
  },
  {
   "cell_type": "code",
   "execution_count": 24,
   "metadata": {
    "collapsed": true
   },
   "outputs": [],
   "source": [
    "top100_full.drop('se_postulo', axis=1, inplace=True)"
   ]
  },
  {
   "cell_type": "code",
   "execution_count": 25,
   "metadata": {},
   "outputs": [
    {
     "data": {
      "text/plain": [
       "(33553, 2)"
      ]
     },
     "execution_count": 25,
     "metadata": {},
     "output_type": "execute_result"
    }
   ],
   "source": [
    "top100_full[top100_full['sepostulo'] == 1].shape"
   ]
  },
  {
   "cell_type": "code",
   "execution_count": 26,
   "metadata": {
    "collapsed": true
   },
   "outputs": [],
   "source": [
    "# top100_full.rename({'se_postulo' : 'sepostulo'}, inplace=True, axis=1)\n",
    "top100_full.to_csv('../data/entrega/top100k_logreg100l2.csv', encoding='utf-8', index=False)"
   ]
  },
  {
   "cell_type": "code",
   "execution_count": null,
   "metadata": {
    "collapsed": true
   },
   "outputs": [],
   "source": []
  },
  {
   "cell_type": "code",
   "execution_count": null,
   "metadata": {
    "collapsed": true
   },
   "outputs": [],
   "source": []
  }
 ],
 "metadata": {
  "kernelspec": {
   "display_name": "Python 3",
   "language": "python",
   "name": "python3"
  },
  "language_info": {
   "codemirror_mode": {
    "name": "ipython",
    "version": 3
   },
   "file_extension": ".py",
   "mimetype": "text/x-python",
   "name": "python",
   "nbconvert_exporter": "python",
   "pygments_lexer": "ipython3",
   "version": "3.5.2"
  }
 },
 "nbformat": 4,
 "nbformat_minor": 2
}
