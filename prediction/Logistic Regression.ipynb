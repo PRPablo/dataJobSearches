{
 "cells": [
  {
   "cell_type": "code",
   "execution_count": 30,
   "metadata": {
    "collapsed": true
   },
   "outputs": [],
   "source": [
    "import pandas as pd\n",
    "import numpy as np\n",
    "from sklearn import linear_model\n",
    "from sklearn import model_selection\n",
    "from sklearn.metrics import classification_report\n",
    "from sklearn.metrics import confusion_matrix\n",
    "from sklearn.metrics import accuracy_score\n",
    "import matplotlib.pyplot as plt\n",
    "import seaborn as sb\n",
    "from sklearn.preprocessing import LabelEncoder\n",
    "from sklearn.linear_model import LogisticRegression\n",
    "from sklearn import metrics\n",
    "%matplotlib inline"
   ]
  },
  {
   "cell_type": "code",
   "execution_count": 37,
   "metadata": {
    "collapsed": true
   },
   "outputs": [],
   "source": [
    "full_data = pd.read_csv('../data/final_data/full_data_postulaciones.csv')"
   ]
  },
  {
   "cell_type": "code",
   "execution_count": 38,
   "metadata": {},
   "outputs": [
    {
     "data": {
      "text/html": [
       "<div>\n",
       "<style scoped>\n",
       "    .dataframe tbody tr th:only-of-type {\n",
       "        vertical-align: middle;\n",
       "    }\n",
       "\n",
       "    .dataframe tbody tr th {\n",
       "        vertical-align: top;\n",
       "    }\n",
       "\n",
       "    .dataframe thead th {\n",
       "        text-align: right;\n",
       "    }\n",
       "</style>\n",
       "<table border=\"1\" class=\"dataframe\">\n",
       "  <thead>\n",
       "    <tr style=\"text-align: right;\">\n",
       "      <th></th>\n",
       "      <th>idpostulante</th>\n",
       "      <th>valor_educacion</th>\n",
       "      <th>sexo</th>\n",
       "      <th>edad</th>\n",
       "      <th>idaviso</th>\n",
       "      <th>fechapostulacion</th>\n",
       "      <th>tipo_de_trabajo</th>\n",
       "      <th>nivel_laboral</th>\n",
       "      <th>denominacion_empresa</th>\n",
       "    </tr>\n",
       "  </thead>\n",
       "  <tbody>\n",
       "    <tr>\n",
       "      <th>0</th>\n",
       "      <td>NdJl</td>\n",
       "      <td>15</td>\n",
       "      <td>1</td>\n",
       "      <td>51.0</td>\n",
       "      <td>1112260409</td>\n",
       "      <td>2018-01-24 05:17:29</td>\n",
       "      <td>1</td>\n",
       "      <td>4</td>\n",
       "      <td>NEW TALENT</td>\n",
       "    </tr>\n",
       "    <tr>\n",
       "      <th>1</th>\n",
       "      <td>66XQMv</td>\n",
       "      <td>15</td>\n",
       "      <td>1</td>\n",
       "      <td>38.0</td>\n",
       "      <td>1112260409</td>\n",
       "      <td>2018-01-18 14:34:47</td>\n",
       "      <td>1</td>\n",
       "      <td>4</td>\n",
       "      <td>NEW TALENT</td>\n",
       "    </tr>\n",
       "    <tr>\n",
       "      <th>2</th>\n",
       "      <td>ZlXp1Y</td>\n",
       "      <td>15</td>\n",
       "      <td>1</td>\n",
       "      <td>39.0</td>\n",
       "      <td>1112260409</td>\n",
       "      <td>2018-01-17 08:02:27</td>\n",
       "      <td>1</td>\n",
       "      <td>4</td>\n",
       "      <td>NEW TALENT</td>\n",
       "    </tr>\n",
       "    <tr>\n",
       "      <th>3</th>\n",
       "      <td>6oYpOv</td>\n",
       "      <td>15</td>\n",
       "      <td>0</td>\n",
       "      <td>48.0</td>\n",
       "      <td>1112260409</td>\n",
       "      <td>2018-01-16 15:22:42</td>\n",
       "      <td>1</td>\n",
       "      <td>4</td>\n",
       "      <td>NEW TALENT</td>\n",
       "    </tr>\n",
       "    <tr>\n",
       "      <th>4</th>\n",
       "      <td>ewQq5r</td>\n",
       "      <td>15</td>\n",
       "      <td>0</td>\n",
       "      <td>48.0</td>\n",
       "      <td>1112260409</td>\n",
       "      <td>2018-01-22 02:34:02</td>\n",
       "      <td>1</td>\n",
       "      <td>4</td>\n",
       "      <td>NEW TALENT</td>\n",
       "    </tr>\n",
       "  </tbody>\n",
       "</table>\n",
       "</div>"
      ],
      "text/plain": [
       "  idpostulante  valor_educacion  sexo  edad     idaviso     fechapostulacion  \\\n",
       "0         NdJl               15     1  51.0  1112260409  2018-01-24 05:17:29   \n",
       "1       66XQMv               15     1  38.0  1112260409  2018-01-18 14:34:47   \n",
       "2       ZlXp1Y               15     1  39.0  1112260409  2018-01-17 08:02:27   \n",
       "3       6oYpOv               15     0  48.0  1112260409  2018-01-16 15:22:42   \n",
       "4       ewQq5r               15     0  48.0  1112260409  2018-01-22 02:34:02   \n",
       "\n",
       "   tipo_de_trabajo  nivel_laboral denominacion_empresa  \n",
       "0                1              4           NEW TALENT  \n",
       "1                1              4           NEW TALENT  \n",
       "2                1              4           NEW TALENT  \n",
       "3                1              4           NEW TALENT  \n",
       "4                1              4           NEW TALENT  "
      ]
     },
     "execution_count": 38,
     "metadata": {},
     "output_type": "execute_result"
    }
   ],
   "source": [
    "full_data.head()"
   ]
  },
  {
   "cell_type": "code",
   "execution_count": 39,
   "metadata": {
    "collapsed": true
   },
   "outputs": [],
   "source": [
    "full_data.drop('denominacion_empresa', axis=1, inplace=True)"
   ]
  },
  {
   "cell_type": "code",
   "execution_count": 40,
   "metadata": {},
   "outputs": [
    {
     "data": {
      "text/html": [
       "<div>\n",
       "<style scoped>\n",
       "    .dataframe tbody tr th:only-of-type {\n",
       "        vertical-align: middle;\n",
       "    }\n",
       "\n",
       "    .dataframe tbody tr th {\n",
       "        vertical-align: top;\n",
       "    }\n",
       "\n",
       "    .dataframe thead th {\n",
       "        text-align: right;\n",
       "    }\n",
       "</style>\n",
       "<table border=\"1\" class=\"dataframe\">\n",
       "  <thead>\n",
       "    <tr style=\"text-align: right;\">\n",
       "      <th></th>\n",
       "      <th>idpostulante</th>\n",
       "      <th>valor_educacion</th>\n",
       "      <th>sexo</th>\n",
       "      <th>edad</th>\n",
       "      <th>idaviso</th>\n",
       "      <th>fechapostulacion</th>\n",
       "      <th>tipo_de_trabajo</th>\n",
       "      <th>nivel_laboral</th>\n",
       "    </tr>\n",
       "  </thead>\n",
       "  <tbody>\n",
       "    <tr>\n",
       "      <th>0</th>\n",
       "      <td>NdJl</td>\n",
       "      <td>15</td>\n",
       "      <td>1</td>\n",
       "      <td>51.0</td>\n",
       "      <td>1112260409</td>\n",
       "      <td>2018-01-24 05:17:29</td>\n",
       "      <td>1</td>\n",
       "      <td>4</td>\n",
       "    </tr>\n",
       "    <tr>\n",
       "      <th>1</th>\n",
       "      <td>66XQMv</td>\n",
       "      <td>15</td>\n",
       "      <td>1</td>\n",
       "      <td>38.0</td>\n",
       "      <td>1112260409</td>\n",
       "      <td>2018-01-18 14:34:47</td>\n",
       "      <td>1</td>\n",
       "      <td>4</td>\n",
       "    </tr>\n",
       "    <tr>\n",
       "      <th>2</th>\n",
       "      <td>ZlXp1Y</td>\n",
       "      <td>15</td>\n",
       "      <td>1</td>\n",
       "      <td>39.0</td>\n",
       "      <td>1112260409</td>\n",
       "      <td>2018-01-17 08:02:27</td>\n",
       "      <td>1</td>\n",
       "      <td>4</td>\n",
       "    </tr>\n",
       "    <tr>\n",
       "      <th>3</th>\n",
       "      <td>6oYpOv</td>\n",
       "      <td>15</td>\n",
       "      <td>0</td>\n",
       "      <td>48.0</td>\n",
       "      <td>1112260409</td>\n",
       "      <td>2018-01-16 15:22:42</td>\n",
       "      <td>1</td>\n",
       "      <td>4</td>\n",
       "    </tr>\n",
       "    <tr>\n",
       "      <th>4</th>\n",
       "      <td>ewQq5r</td>\n",
       "      <td>15</td>\n",
       "      <td>0</td>\n",
       "      <td>48.0</td>\n",
       "      <td>1112260409</td>\n",
       "      <td>2018-01-22 02:34:02</td>\n",
       "      <td>1</td>\n",
       "      <td>4</td>\n",
       "    </tr>\n",
       "  </tbody>\n",
       "</table>\n",
       "</div>"
      ],
      "text/plain": [
       "  idpostulante  valor_educacion  sexo  edad     idaviso     fechapostulacion  \\\n",
       "0         NdJl               15     1  51.0  1112260409  2018-01-24 05:17:29   \n",
       "1       66XQMv               15     1  38.0  1112260409  2018-01-18 14:34:47   \n",
       "2       ZlXp1Y               15     1  39.0  1112260409  2018-01-17 08:02:27   \n",
       "3       6oYpOv               15     0  48.0  1112260409  2018-01-16 15:22:42   \n",
       "4       ewQq5r               15     0  48.0  1112260409  2018-01-22 02:34:02   \n",
       "\n",
       "   tipo_de_trabajo  nivel_laboral  \n",
       "0                1              4  \n",
       "1                1              4  \n",
       "2                1              4  \n",
       "3                1              4  \n",
       "4                1              4  "
      ]
     },
     "execution_count": 40,
     "metadata": {},
     "output_type": "execute_result"
    }
   ],
   "source": [
    "full_data.head()"
   ]
  },
  {
   "cell_type": "code",
   "execution_count": 41,
   "metadata": {},
   "outputs": [
    {
     "data": {
      "text/html": [
       "<div>\n",
       "<style scoped>\n",
       "    .dataframe tbody tr th:only-of-type {\n",
       "        vertical-align: middle;\n",
       "    }\n",
       "\n",
       "    .dataframe tbody tr th {\n",
       "        vertical-align: top;\n",
       "    }\n",
       "\n",
       "    .dataframe thead th {\n",
       "        text-align: right;\n",
       "    }\n",
       "</style>\n",
       "<table border=\"1\" class=\"dataframe\">\n",
       "  <thead>\n",
       "    <tr style=\"text-align: right;\">\n",
       "      <th></th>\n",
       "      <th>idpostulante</th>\n",
       "      <th>valor_educacion</th>\n",
       "      <th>sexo</th>\n",
       "      <th>edad</th>\n",
       "      <th>idaviso</th>\n",
       "      <th>fechapostulacion</th>\n",
       "      <th>tipo_de_trabajo</th>\n",
       "      <th>nivel_laboral</th>\n",
       "      <th>se_postulo</th>\n",
       "    </tr>\n",
       "  </thead>\n",
       "  <tbody>\n",
       "    <tr>\n",
       "      <th>0</th>\n",
       "      <td>NdJl</td>\n",
       "      <td>15</td>\n",
       "      <td>1</td>\n",
       "      <td>51.0</td>\n",
       "      <td>1112260409</td>\n",
       "      <td>2018-01-24 05:17:29</td>\n",
       "      <td>1</td>\n",
       "      <td>4</td>\n",
       "      <td>1</td>\n",
       "    </tr>\n",
       "    <tr>\n",
       "      <th>1</th>\n",
       "      <td>66XQMv</td>\n",
       "      <td>15</td>\n",
       "      <td>1</td>\n",
       "      <td>38.0</td>\n",
       "      <td>1112260409</td>\n",
       "      <td>2018-01-18 14:34:47</td>\n",
       "      <td>1</td>\n",
       "      <td>4</td>\n",
       "      <td>1</td>\n",
       "    </tr>\n",
       "    <tr>\n",
       "      <th>2</th>\n",
       "      <td>ZlXp1Y</td>\n",
       "      <td>15</td>\n",
       "      <td>1</td>\n",
       "      <td>39.0</td>\n",
       "      <td>1112260409</td>\n",
       "      <td>2018-01-17 08:02:27</td>\n",
       "      <td>1</td>\n",
       "      <td>4</td>\n",
       "      <td>1</td>\n",
       "    </tr>\n",
       "    <tr>\n",
       "      <th>3</th>\n",
       "      <td>6oYpOv</td>\n",
       "      <td>15</td>\n",
       "      <td>0</td>\n",
       "      <td>48.0</td>\n",
       "      <td>1112260409</td>\n",
       "      <td>2018-01-16 15:22:42</td>\n",
       "      <td>1</td>\n",
       "      <td>4</td>\n",
       "      <td>1</td>\n",
       "    </tr>\n",
       "    <tr>\n",
       "      <th>4</th>\n",
       "      <td>ewQq5r</td>\n",
       "      <td>15</td>\n",
       "      <td>0</td>\n",
       "      <td>48.0</td>\n",
       "      <td>1112260409</td>\n",
       "      <td>2018-01-22 02:34:02</td>\n",
       "      <td>1</td>\n",
       "      <td>4</td>\n",
       "      <td>1</td>\n",
       "    </tr>\n",
       "  </tbody>\n",
       "</table>\n",
       "</div>"
      ],
      "text/plain": [
       "  idpostulante  valor_educacion  sexo  edad     idaviso     fechapostulacion  \\\n",
       "0         NdJl               15     1  51.0  1112260409  2018-01-24 05:17:29   \n",
       "1       66XQMv               15     1  38.0  1112260409  2018-01-18 14:34:47   \n",
       "2       ZlXp1Y               15     1  39.0  1112260409  2018-01-17 08:02:27   \n",
       "3       6oYpOv               15     0  48.0  1112260409  2018-01-16 15:22:42   \n",
       "4       ewQq5r               15     0  48.0  1112260409  2018-01-22 02:34:02   \n",
       "\n",
       "   tipo_de_trabajo  nivel_laboral  se_postulo  \n",
       "0                1              4           1  \n",
       "1                1              4           1  \n",
       "2                1              4           1  \n",
       "3                1              4           1  \n",
       "4                1              4           1  "
      ]
     },
     "execution_count": 41,
     "metadata": {},
     "output_type": "execute_result"
    }
   ],
   "source": [
    "full_data['se_postulo'] = 1\n",
    "full_data.head()"
   ]
  },
  {
   "cell_type": "code",
   "execution_count": 43,
   "metadata": {},
   "outputs": [],
   "source": [
    "full_data.drop(['fechapostulacion', 'idaviso'],axis=1,inplace=True)"
   ]
  },
  {
   "cell_type": "code",
   "execution_count": 44,
   "metadata": {},
   "outputs": [],
   "source": [
    "y = np.array(full_data['se_postulo'])"
   ]
  },
  {
   "cell_type": "code",
   "execution_count": 45,
   "metadata": {},
   "outputs": [],
   "source": [
    "#cat_columns = full_data.select_dtypes(['idpostulante']).columns\n",
    "#full_data[cat_columns] = full_data[cat_columns].apply(lambda x: x.cat.codes)\n",
    "# Convierto el nombre del area a category.\n",
    "full_data['idpostulante'] = full_data['idpostulante'].astype('category')"
   ]
  },
  {
   "cell_type": "code",
   "execution_count": 46,
   "metadata": {},
   "outputs": [
    {
     "data": {
      "text/html": [
       "<div>\n",
       "<style scoped>\n",
       "    .dataframe tbody tr th:only-of-type {\n",
       "        vertical-align: middle;\n",
       "    }\n",
       "\n",
       "    .dataframe tbody tr th {\n",
       "        vertical-align: top;\n",
       "    }\n",
       "\n",
       "    .dataframe thead th {\n",
       "        text-align: right;\n",
       "    }\n",
       "</style>\n",
       "<table border=\"1\" class=\"dataframe\">\n",
       "  <thead>\n",
       "    <tr style=\"text-align: right;\">\n",
       "      <th></th>\n",
       "      <th>idpostulante</th>\n",
       "      <th>idpostulante2</th>\n",
       "    </tr>\n",
       "  </thead>\n",
       "  <tbody>\n",
       "    <tr>\n",
       "      <th>0</th>\n",
       "      <td>NdJl</td>\n",
       "      <td>116209</td>\n",
       "    </tr>\n",
       "    <tr>\n",
       "      <th>1</th>\n",
       "      <td>66XQMv</td>\n",
       "      <td>38071</td>\n",
       "    </tr>\n",
       "    <tr>\n",
       "      <th>2</th>\n",
       "      <td>ZlXp1Y</td>\n",
       "      <td>166635</td>\n",
       "    </tr>\n",
       "    <tr>\n",
       "      <th>3</th>\n",
       "      <td>6oYpOv</td>\n",
       "      <td>41817</td>\n",
       "    </tr>\n",
       "    <tr>\n",
       "      <th>4</th>\n",
       "      <td>ewQq5r</td>\n",
       "      <td>198682</td>\n",
       "    </tr>\n",
       "  </tbody>\n",
       "</table>\n",
       "</div>"
      ],
      "text/plain": [
       "  idpostulante  idpostulante2\n",
       "0         NdJl         116209\n",
       "1       66XQMv          38071\n",
       "2       ZlXp1Y         166635\n",
       "3       6oYpOv          41817\n",
       "4       ewQq5r         198682"
      ]
     },
     "execution_count": 46,
     "metadata": {},
     "output_type": "execute_result"
    }
   ],
   "source": [
    "#cat_columns = full_data.select_dtypes(['idpostulante']).columns\n",
    "lb_make = LabelEncoder()\n",
    "full_data[\"idpostulante2\"] = lb_make.fit_transform(full_data[\"idpostulante\"])\n",
    "full_data[[\"idpostulante\", \"idpostulante2\"]].head()\n",
    "#full_data[cat_columns] = full_data[cat_columns].apply(lambda x: x.cat.codes)\n"
   ]
  },
  {
   "cell_type": "code",
   "execution_count": 28,
   "metadata": {},
   "outputs": [
    {
     "data": {
      "text/plain": [
       "(4855432, 7)"
      ]
     },
     "execution_count": 28,
     "metadata": {},
     "output_type": "execute_result"
    }
   ],
   "source": [
    "X = np.array(full_data.drop(['fechapostulacion','idaviso','idpostulante'],1))\n",
    "X.shape"
   ]
  },
  {
   "cell_type": "code",
   "execution_count": 51,
   "metadata": {},
   "outputs": [],
   "source": [
    "full_data.drop('idpostulante', axis=1, inplace=True)"
   ]
  },
  {
   "cell_type": "code",
   "execution_count": 52,
   "metadata": {},
   "outputs": [],
   "source": [
    "full_data_m = full_data.as_matrix()\n",
    "full_data_m = np.matrix(full_data_m)"
   ]
  },
  {
   "cell_type": "code",
   "execution_count": 53,
   "metadata": {},
   "outputs": [],
   "source": [
    "# CREA dataset TRAIN y TEST\n",
    "#---------------------------------------------------------------------------------------------\n",
    "np.random.seed(123)\n",
    "m_train    = np.random.rand(len(full_data_m)) < 0.5\n",
    "data_train = full_data_m[m_train,]\n",
    "data_test  = full_data_m[~m_train,]\n"
   ]
  },
  {
   "cell_type": "code",
   "execution_count": 54,
   "metadata": {
    "collapsed": true
   },
   "outputs": [],
   "source": [
    "# CLASE\n",
    "#---------------------------------------------------------------------------------------------\n",
    "clase_train = data_train[:,-1]\n",
    "clase_train = clase_train.A1 #convierte de matriz a vector \n",
    "clase_test  = data_test[:,-1]\n",
    "clase_test  = clase_test.A1 #convierte de matriz a vector "
   ]
  },
  {
   "cell_type": "code",
   "execution_count": null,
   "metadata": {},
   "outputs": [],
   "source": [
    "# MODELO\n",
    "#---------------------------------------------------------------------------------------------\n",
    "modelo_lr = LogisticRegression()\n",
    "modelo_lr.fit(X=data_train[:,:-1],y=clase_train)"
   ]
  },
  {
   "cell_type": "code",
   "execution_count": null,
   "metadata": {
    "collapsed": true
   },
   "outputs": [],
   "source": [
    "\n",
    "# PREDICCION\n",
    "#---------------------------------------------------------------------------------------------\n",
    "predicion = modelo_lr.predict(data_test[:,:-1])\n",
    "\n",
    "\n",
    "# METRICAS\n",
    "#---------------------------------------------------------------------------------------------\n",
    "print(metrics.classification_report(y_true=clase_test, y_pred=predicion))\n",
    "print(pd.crosstab(data_test[:,-1].A1, predicion, rownames=['REAL'], colnames=['PREDICCION']))"
   ]
  }
 ],
 "metadata": {
  "kernelspec": {
   "display_name": "Python 3",
   "language": "python",
   "name": "python3"
  },
  "language_info": {
   "codemirror_mode": {
    "name": "ipython",
    "version": 3
   },
   "file_extension": ".py",
   "mimetype": "text/x-python",
   "name": "python",
   "nbconvert_exporter": "python",
   "pygments_lexer": "ipython3",
   "version": "3.5.2"
  }
 },
 "nbformat": 4,
 "nbformat_minor": 2
}
