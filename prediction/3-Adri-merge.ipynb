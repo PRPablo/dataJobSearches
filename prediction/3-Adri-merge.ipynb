{
 "cells": [
  {
   "cell_type": "code",
   "execution_count": 1,
   "metadata": {},
   "outputs": [],
   "source": [
    "import matplotlib.pyplot as plt\n",
    "from matplotlib.colors import LogNorm\n",
    "from matplotlib.mlab import bivariate_normal\n",
    "import pandas as pd\n",
    "from dateutil.parser import parse\n",
    "import numpy as np\n",
    "import warnings\n",
    "import datetime as dt\n",
    "import seaborn as sns\n",
    "warnings.filterwarnings('ignore')\n",
    "\n",
    "from sklearn.preprocessing import LabelEncoder\n",
    "from sklearn.linear_model import LogisticRegression\n",
    "from sklearn import metrics"
   ]
  },
  {
   "cell_type": "code",
   "execution_count": 2,
   "metadata": {},
   "outputs": [
    {
     "data": {
      "text/html": [
       "<div>\n",
       "<style scoped>\n",
       "    .dataframe tbody tr th:only-of-type {\n",
       "        vertical-align: middle;\n",
       "    }\n",
       "\n",
       "    .dataframe tbody tr th {\n",
       "        vertical-align: top;\n",
       "    }\n",
       "\n",
       "    .dataframe thead th {\n",
       "        text-align: right;\n",
       "    }\n",
       "</style>\n",
       "<table border=\"1\" class=\"dataframe\">\n",
       "  <thead>\n",
       "    <tr style=\"text-align: right;\">\n",
       "      <th></th>\n",
       "      <th>idaviso</th>\n",
       "      <th>timestamp</th>\n",
       "      <th>idpostulante</th>\n",
       "      <th>valor_educacion</th>\n",
       "      <th>sexo</th>\n",
       "      <th>edad</th>\n",
       "      <th>idnombre_area_pref</th>\n",
       "      <th>idnivel_laboral_pref</th>\n",
       "      <th>idtipo_de_trabajo_pref</th>\n",
       "      <th>esta_online</th>\n",
       "      <th>contenido</th>\n",
       "      <th>idzona</th>\n",
       "      <th>idciudad</th>\n",
       "      <th>idmapacalle</th>\n",
       "      <th>idtipo_de_trabajo</th>\n",
       "      <th>idnivel_laboral</th>\n",
       "      <th>idnombre_area</th>\n",
       "      <th>iddenominacion_empresa</th>\n",
       "    </tr>\n",
       "  </thead>\n",
       "  <tbody>\n",
       "    <tr>\n",
       "      <th>0</th>\n",
       "      <td>1112400775</td>\n",
       "      <td>5.944092e+06</td>\n",
       "      <td>kPjr2K0</td>\n",
       "      <td>9</td>\n",
       "      <td>1</td>\n",
       "      <td>20</td>\n",
       "      <td>182</td>\n",
       "      <td>0</td>\n",
       "      <td>0</td>\n",
       "      <td>0</td>\n",
       "      <td>7597924801920901552</td>\n",
       "      <td>0</td>\n",
       "      <td>0</td>\n",
       "      <td>0</td>\n",
       "      <td>0</td>\n",
       "      <td>0</td>\n",
       "      <td>182</td>\n",
       "      <td>489</td>\n",
       "    </tr>\n",
       "    <tr>\n",
       "      <th>1</th>\n",
       "      <td>1112400775</td>\n",
       "      <td>5.944091e+06</td>\n",
       "      <td>kPjr2K0</td>\n",
       "      <td>9</td>\n",
       "      <td>1</td>\n",
       "      <td>20</td>\n",
       "      <td>182</td>\n",
       "      <td>0</td>\n",
       "      <td>0</td>\n",
       "      <td>0</td>\n",
       "      <td>7597924801920901552</td>\n",
       "      <td>0</td>\n",
       "      <td>0</td>\n",
       "      <td>0</td>\n",
       "      <td>0</td>\n",
       "      <td>0</td>\n",
       "      <td>182</td>\n",
       "      <td>489</td>\n",
       "    </tr>\n",
       "    <tr>\n",
       "      <th>2</th>\n",
       "      <td>1112400775</td>\n",
       "      <td>5.944343e+06</td>\n",
       "      <td>kPjr2K0</td>\n",
       "      <td>9</td>\n",
       "      <td>1</td>\n",
       "      <td>20</td>\n",
       "      <td>182</td>\n",
       "      <td>0</td>\n",
       "      <td>0</td>\n",
       "      <td>0</td>\n",
       "      <td>7597924801920901552</td>\n",
       "      <td>0</td>\n",
       "      <td>0</td>\n",
       "      <td>0</td>\n",
       "      <td>0</td>\n",
       "      <td>0</td>\n",
       "      <td>182</td>\n",
       "      <td>489</td>\n",
       "    </tr>\n",
       "    <tr>\n",
       "      <th>3</th>\n",
       "      <td>1112400775</td>\n",
       "      <td>6.127809e+06</td>\n",
       "      <td>rmRpqEA</td>\n",
       "      <td>12</td>\n",
       "      <td>1</td>\n",
       "      <td>33</td>\n",
       "      <td>2</td>\n",
       "      <td>0</td>\n",
       "      <td>0</td>\n",
       "      <td>0</td>\n",
       "      <td>7597924801920901552</td>\n",
       "      <td>0</td>\n",
       "      <td>0</td>\n",
       "      <td>0</td>\n",
       "      <td>0</td>\n",
       "      <td>0</td>\n",
       "      <td>182</td>\n",
       "      <td>489</td>\n",
       "    </tr>\n",
       "    <tr>\n",
       "      <th>4</th>\n",
       "      <td>1112400775</td>\n",
       "      <td>5.943569e+06</td>\n",
       "      <td>EzEovD2</td>\n",
       "      <td>4</td>\n",
       "      <td>1</td>\n",
       "      <td>22</td>\n",
       "      <td>182</td>\n",
       "      <td>0</td>\n",
       "      <td>0</td>\n",
       "      <td>0</td>\n",
       "      <td>7597924801920901552</td>\n",
       "      <td>0</td>\n",
       "      <td>0</td>\n",
       "      <td>0</td>\n",
       "      <td>0</td>\n",
       "      <td>0</td>\n",
       "      <td>182</td>\n",
       "      <td>489</td>\n",
       "    </tr>\n",
       "  </tbody>\n",
       "</table>\n",
       "</div>"
      ],
      "text/plain": [
       "      idaviso     timestamp idpostulante  valor_educacion  sexo  edad  \\\n",
       "0  1112400775  5.944092e+06      kPjr2K0                9     1    20   \n",
       "1  1112400775  5.944091e+06      kPjr2K0                9     1    20   \n",
       "2  1112400775  5.944343e+06      kPjr2K0                9     1    20   \n",
       "3  1112400775  6.127809e+06      rmRpqEA               12     1    33   \n",
       "4  1112400775  5.943569e+06      EzEovD2                4     1    22   \n",
       "\n",
       "   idnombre_area_pref  idnivel_laboral_pref  idtipo_de_trabajo_pref  \\\n",
       "0                 182                     0                       0   \n",
       "1                 182                     0                       0   \n",
       "2                 182                     0                       0   \n",
       "3                   2                     0                       0   \n",
       "4                 182                     0                       0   \n",
       "\n",
       "   esta_online            contenido  idzona  idciudad  idmapacalle  \\\n",
       "0            0  7597924801920901552       0         0            0   \n",
       "1            0  7597924801920901552       0         0            0   \n",
       "2            0  7597924801920901552       0         0            0   \n",
       "3            0  7597924801920901552       0         0            0   \n",
       "4            0  7597924801920901552       0         0            0   \n",
       "\n",
       "   idtipo_de_trabajo  idnivel_laboral  idnombre_area  iddenominacion_empresa  \n",
       "0                  0                0            182                     489  \n",
       "1                  0                0            182                     489  \n",
       "2                  0                0            182                     489  \n",
       "3                  0                0            182                     489  \n",
       "4                  0                0            182                     489  "
      ]
     },
     "execution_count": 2,
     "metadata": {},
     "output_type": "execute_result"
    }
   ],
   "source": [
    "vistas = pd.read_csv('../data/adri_data/entrenamiento_vistas.csv');\n",
    "vistas.head()"
   ]
  },
  {
   "cell_type": "code",
   "execution_count": 3,
   "metadata": {},
   "outputs": [
    {
     "data": {
      "text/html": [
       "<div>\n",
       "<style scoped>\n",
       "    .dataframe tbody tr th:only-of-type {\n",
       "        vertical-align: middle;\n",
       "    }\n",
       "\n",
       "    .dataframe tbody tr th {\n",
       "        vertical-align: top;\n",
       "    }\n",
       "\n",
       "    .dataframe thead th {\n",
       "        text-align: right;\n",
       "    }\n",
       "</style>\n",
       "<table border=\"1\" class=\"dataframe\">\n",
       "  <thead>\n",
       "    <tr style=\"text-align: right;\">\n",
       "      <th></th>\n",
       "      <th>idaviso</th>\n",
       "      <th>esta_online</th>\n",
       "      <th>contenido</th>\n",
       "      <th>idzona</th>\n",
       "      <th>idciudad</th>\n",
       "      <th>idmapacalle</th>\n",
       "      <th>idtipo_de_trabajo</th>\n",
       "      <th>idnivel_laboral</th>\n",
       "      <th>idnombre_area</th>\n",
       "      <th>iddenominacion_empresa</th>\n",
       "      <th>idpostulante</th>\n",
       "      <th>timestamp</th>\n",
       "      <th>valor_educacion</th>\n",
       "      <th>sexo</th>\n",
       "      <th>edad</th>\n",
       "      <th>idnombre_area_pref</th>\n",
       "      <th>idnivel_laboral_pref</th>\n",
       "      <th>idtipo_de_trabajo_pref</th>\n",
       "    </tr>\n",
       "  </thead>\n",
       "  <tbody>\n",
       "    <tr>\n",
       "      <th>0</th>\n",
       "      <td>1111556097</td>\n",
       "      <td>0</td>\n",
       "      <td>8159438729029635585</td>\n",
       "      <td>0</td>\n",
       "      <td>0</td>\n",
       "      <td>0</td>\n",
       "      <td>0</td>\n",
       "      <td>0</td>\n",
       "      <td>50</td>\n",
       "      <td>0</td>\n",
       "      <td>pzeVW63</td>\n",
       "      <td>7.979326e+06</td>\n",
       "      <td>17</td>\n",
       "      <td>1</td>\n",
       "      <td>44</td>\n",
       "      <td>119</td>\n",
       "      <td>0</td>\n",
       "      <td>0</td>\n",
       "    </tr>\n",
       "    <tr>\n",
       "      <th>1</th>\n",
       "      <td>1112370711</td>\n",
       "      <td>1</td>\n",
       "      <td>4306765247469621377</td>\n",
       "      <td>0</td>\n",
       "      <td>0</td>\n",
       "      <td>0</td>\n",
       "      <td>0</td>\n",
       "      <td>0</td>\n",
       "      <td>143</td>\n",
       "      <td>11</td>\n",
       "      <td>pzeVW63</td>\n",
       "      <td>8.418204e+06</td>\n",
       "      <td>17</td>\n",
       "      <td>1</td>\n",
       "      <td>44</td>\n",
       "      <td>119</td>\n",
       "      <td>0</td>\n",
       "      <td>0</td>\n",
       "    </tr>\n",
       "    <tr>\n",
       "      <th>2</th>\n",
       "      <td>1112326655</td>\n",
       "      <td>1</td>\n",
       "      <td>7959338346396781218</td>\n",
       "      <td>0</td>\n",
       "      <td>0</td>\n",
       "      <td>0</td>\n",
       "      <td>0</td>\n",
       "      <td>0</td>\n",
       "      <td>29</td>\n",
       "      <td>28</td>\n",
       "      <td>pzeVW63</td>\n",
       "      <td>1.075060e+07</td>\n",
       "      <td>17</td>\n",
       "      <td>1</td>\n",
       "      <td>44</td>\n",
       "      <td>119</td>\n",
       "      <td>0</td>\n",
       "      <td>0</td>\n",
       "    </tr>\n",
       "    <tr>\n",
       "      <th>3</th>\n",
       "      <td>1112350182</td>\n",
       "      <td>1</td>\n",
       "      <td>8789020298799968481</td>\n",
       "      <td>0</td>\n",
       "      <td>0</td>\n",
       "      <td>0</td>\n",
       "      <td>0</td>\n",
       "      <td>0</td>\n",
       "      <td>119</td>\n",
       "      <td>33</td>\n",
       "      <td>pzeVW63</td>\n",
       "      <td>9.797704e+06</td>\n",
       "      <td>17</td>\n",
       "      <td>1</td>\n",
       "      <td>44</td>\n",
       "      <td>119</td>\n",
       "      <td>0</td>\n",
       "      <td>0</td>\n",
       "    </tr>\n",
       "    <tr>\n",
       "      <th>4</th>\n",
       "      <td>1112383837</td>\n",
       "      <td>1</td>\n",
       "      <td>6513419378897462402</td>\n",
       "      <td>0</td>\n",
       "      <td>0</td>\n",
       "      <td>0</td>\n",
       "      <td>0</td>\n",
       "      <td>0</td>\n",
       "      <td>115</td>\n",
       "      <td>41</td>\n",
       "      <td>pzeVW63</td>\n",
       "      <td>8.505222e+06</td>\n",
       "      <td>17</td>\n",
       "      <td>1</td>\n",
       "      <td>44</td>\n",
       "      <td>119</td>\n",
       "      <td>0</td>\n",
       "      <td>0</td>\n",
       "    </tr>\n",
       "  </tbody>\n",
       "</table>\n",
       "</div>"
      ],
      "text/plain": [
       "      idaviso  esta_online            contenido  idzona  idciudad  \\\n",
       "0  1111556097            0  8159438729029635585       0         0   \n",
       "1  1112370711            1  4306765247469621377       0         0   \n",
       "2  1112326655            1  7959338346396781218       0         0   \n",
       "3  1112350182            1  8789020298799968481       0         0   \n",
       "4  1112383837            1  6513419378897462402       0         0   \n",
       "\n",
       "   idmapacalle  idtipo_de_trabajo  idnivel_laboral  idnombre_area  \\\n",
       "0            0                  0                0             50   \n",
       "1            0                  0                0            143   \n",
       "2            0                  0                0             29   \n",
       "3            0                  0                0            119   \n",
       "4            0                  0                0            115   \n",
       "\n",
       "   iddenominacion_empresa idpostulante     timestamp  valor_educacion  sexo  \\\n",
       "0                       0      pzeVW63  7.979326e+06               17     1   \n",
       "1                      11      pzeVW63  8.418204e+06               17     1   \n",
       "2                      28      pzeVW63  1.075060e+07               17     1   \n",
       "3                      33      pzeVW63  9.797704e+06               17     1   \n",
       "4                      41      pzeVW63  8.505222e+06               17     1   \n",
       "\n",
       "   edad  idnombre_area_pref  idnivel_laboral_pref  idtipo_de_trabajo_pref  \n",
       "0    44                 119                     0                       0  \n",
       "1    44                 119                     0                       0  \n",
       "2    44                 119                     0                       0  \n",
       "3    44                 119                     0                       0  \n",
       "4    44                 119                     0                       0  "
      ]
     },
     "execution_count": 3,
     "metadata": {},
     "output_type": "execute_result"
    }
   ],
   "source": [
    "postulaciones = pd.read_csv('../data/adri_data/entrenamiento_postulaciones.csv');\n",
    "postulaciones.head()"
   ]
  },
  {
   "cell_type": "code",
   "execution_count": 4,
   "metadata": {},
   "outputs": [
    {
     "data": {
      "text/plain": [
       "Index(['idaviso', 'esta_online', 'contenido', 'idzona', 'idciudad',\n",
       "       'idmapacalle', 'idtipo_de_trabajo', 'idnivel_laboral', 'idnombre_area',\n",
       "       'iddenominacion_empresa', 'idpostulante', 'timestamp',\n",
       "       'valor_educacion', 'sexo', 'edad', 'idnombre_area_pref',\n",
       "       'idnivel_laboral_pref', 'idtipo_de_trabajo_pref'],\n",
       "      dtype='object')"
      ]
     },
     "execution_count": 4,
     "metadata": {},
     "output_type": "execute_result"
    }
   ],
   "source": [
    "postulaciones.columns"
   ]
  },
  {
   "cell_type": "code",
   "execution_count": 5,
   "metadata": {},
   "outputs": [],
   "source": [
    "vistas = vistas[postulaciones.columns]"
   ]
  },
  {
   "cell_type": "code",
   "execution_count": 6,
   "metadata": {},
   "outputs": [],
   "source": [
    "postulaciones = postulaciones[postulaciones.columns]"
   ]
  },
  {
   "cell_type": "code",
   "execution_count": 7,
   "metadata": {},
   "outputs": [],
   "source": [
    "vistas['se_postulo'] = 0\n",
    "postulaciones['se_postulo'] = 1"
   ]
  },
  {
   "cell_type": "code",
   "execution_count": 8,
   "metadata": {},
   "outputs": [
    {
     "data": {
      "text/plain": [
       "(10471713, 19)"
      ]
     },
     "execution_count": 8,
     "metadata": {},
     "output_type": "execute_result"
    }
   ],
   "source": [
    "vistas.shape"
   ]
  },
  {
   "cell_type": "code",
   "execution_count": 9,
   "metadata": {},
   "outputs": [
    {
     "data": {
      "text/plain": [
       "(6188634, 19)"
      ]
     },
     "execution_count": 9,
     "metadata": {},
     "output_type": "execute_result"
    }
   ],
   "source": [
    "postulaciones.shape"
   ]
  },
  {
   "cell_type": "code",
   "execution_count": 10,
   "metadata": {},
   "outputs": [
    {
     "data": {
      "text/plain": [
       "(16660347, 19)"
      ]
     },
     "execution_count": 10,
     "metadata": {},
     "output_type": "execute_result"
    }
   ],
   "source": [
    "vistas_y_postulaciones = pd.concat([postulaciones, vistas], axis=0)\n",
    "vistas_y_postulaciones.shape"
   ]
  },
  {
   "cell_type": "code",
   "execution_count": 11,
   "metadata": {},
   "outputs": [
    {
     "data": {
      "text/html": [
       "<div>\n",
       "<style scoped>\n",
       "    .dataframe tbody tr th:only-of-type {\n",
       "        vertical-align: middle;\n",
       "    }\n",
       "\n",
       "    .dataframe tbody tr th {\n",
       "        vertical-align: top;\n",
       "    }\n",
       "\n",
       "    .dataframe thead th {\n",
       "        text-align: right;\n",
       "    }\n",
       "</style>\n",
       "<table border=\"1\" class=\"dataframe\">\n",
       "  <thead>\n",
       "    <tr style=\"text-align: right;\">\n",
       "      <th></th>\n",
       "      <th>idaviso</th>\n",
       "      <th>esta_online</th>\n",
       "      <th>contenido</th>\n",
       "      <th>idzona</th>\n",
       "      <th>idciudad</th>\n",
       "      <th>idmapacalle</th>\n",
       "      <th>idtipo_de_trabajo</th>\n",
       "      <th>idnivel_laboral</th>\n",
       "      <th>idnombre_area</th>\n",
       "      <th>iddenominacion_empresa</th>\n",
       "      <th>idpostulante</th>\n",
       "      <th>timestamp</th>\n",
       "      <th>valor_educacion</th>\n",
       "      <th>sexo</th>\n",
       "      <th>edad</th>\n",
       "      <th>idnombre_area_pref</th>\n",
       "      <th>idnivel_laboral_pref</th>\n",
       "      <th>idtipo_de_trabajo_pref</th>\n",
       "      <th>se_postulo</th>\n",
       "    </tr>\n",
       "  </thead>\n",
       "  <tbody>\n",
       "    <tr>\n",
       "      <th>0</th>\n",
       "      <td>1111556097</td>\n",
       "      <td>0</td>\n",
       "      <td>8159438729029635585</td>\n",
       "      <td>0</td>\n",
       "      <td>0</td>\n",
       "      <td>0</td>\n",
       "      <td>0</td>\n",
       "      <td>0</td>\n",
       "      <td>50</td>\n",
       "      <td>0</td>\n",
       "      <td>pzeVW63</td>\n",
       "      <td>7.979326e+06</td>\n",
       "      <td>17</td>\n",
       "      <td>1</td>\n",
       "      <td>44</td>\n",
       "      <td>119</td>\n",
       "      <td>0</td>\n",
       "      <td>0</td>\n",
       "      <td>1</td>\n",
       "    </tr>\n",
       "    <tr>\n",
       "      <th>1</th>\n",
       "      <td>1112370711</td>\n",
       "      <td>1</td>\n",
       "      <td>4306765247469621377</td>\n",
       "      <td>0</td>\n",
       "      <td>0</td>\n",
       "      <td>0</td>\n",
       "      <td>0</td>\n",
       "      <td>0</td>\n",
       "      <td>143</td>\n",
       "      <td>11</td>\n",
       "      <td>pzeVW63</td>\n",
       "      <td>8.418204e+06</td>\n",
       "      <td>17</td>\n",
       "      <td>1</td>\n",
       "      <td>44</td>\n",
       "      <td>119</td>\n",
       "      <td>0</td>\n",
       "      <td>0</td>\n",
       "      <td>1</td>\n",
       "    </tr>\n",
       "    <tr>\n",
       "      <th>2</th>\n",
       "      <td>1112326655</td>\n",
       "      <td>1</td>\n",
       "      <td>7959338346396781218</td>\n",
       "      <td>0</td>\n",
       "      <td>0</td>\n",
       "      <td>0</td>\n",
       "      <td>0</td>\n",
       "      <td>0</td>\n",
       "      <td>29</td>\n",
       "      <td>28</td>\n",
       "      <td>pzeVW63</td>\n",
       "      <td>1.075060e+07</td>\n",
       "      <td>17</td>\n",
       "      <td>1</td>\n",
       "      <td>44</td>\n",
       "      <td>119</td>\n",
       "      <td>0</td>\n",
       "      <td>0</td>\n",
       "      <td>1</td>\n",
       "    </tr>\n",
       "    <tr>\n",
       "      <th>3</th>\n",
       "      <td>1112350182</td>\n",
       "      <td>1</td>\n",
       "      <td>8789020298799968481</td>\n",
       "      <td>0</td>\n",
       "      <td>0</td>\n",
       "      <td>0</td>\n",
       "      <td>0</td>\n",
       "      <td>0</td>\n",
       "      <td>119</td>\n",
       "      <td>33</td>\n",
       "      <td>pzeVW63</td>\n",
       "      <td>9.797704e+06</td>\n",
       "      <td>17</td>\n",
       "      <td>1</td>\n",
       "      <td>44</td>\n",
       "      <td>119</td>\n",
       "      <td>0</td>\n",
       "      <td>0</td>\n",
       "      <td>1</td>\n",
       "    </tr>\n",
       "    <tr>\n",
       "      <th>4</th>\n",
       "      <td>1112383837</td>\n",
       "      <td>1</td>\n",
       "      <td>6513419378897462402</td>\n",
       "      <td>0</td>\n",
       "      <td>0</td>\n",
       "      <td>0</td>\n",
       "      <td>0</td>\n",
       "      <td>0</td>\n",
       "      <td>115</td>\n",
       "      <td>41</td>\n",
       "      <td>pzeVW63</td>\n",
       "      <td>8.505222e+06</td>\n",
       "      <td>17</td>\n",
       "      <td>1</td>\n",
       "      <td>44</td>\n",
       "      <td>119</td>\n",
       "      <td>0</td>\n",
       "      <td>0</td>\n",
       "      <td>1</td>\n",
       "    </tr>\n",
       "  </tbody>\n",
       "</table>\n",
       "</div>"
      ],
      "text/plain": [
       "      idaviso  esta_online            contenido  idzona  idciudad  \\\n",
       "0  1111556097            0  8159438729029635585       0         0   \n",
       "1  1112370711            1  4306765247469621377       0         0   \n",
       "2  1112326655            1  7959338346396781218       0         0   \n",
       "3  1112350182            1  8789020298799968481       0         0   \n",
       "4  1112383837            1  6513419378897462402       0         0   \n",
       "\n",
       "   idmapacalle  idtipo_de_trabajo  idnivel_laboral  idnombre_area  \\\n",
       "0            0                  0                0             50   \n",
       "1            0                  0                0            143   \n",
       "2            0                  0                0             29   \n",
       "3            0                  0                0            119   \n",
       "4            0                  0                0            115   \n",
       "\n",
       "   iddenominacion_empresa idpostulante     timestamp  valor_educacion  sexo  \\\n",
       "0                       0      pzeVW63  7.979326e+06               17     1   \n",
       "1                      11      pzeVW63  8.418204e+06               17     1   \n",
       "2                      28      pzeVW63  1.075060e+07               17     1   \n",
       "3                      33      pzeVW63  9.797704e+06               17     1   \n",
       "4                      41      pzeVW63  8.505222e+06               17     1   \n",
       "\n",
       "   edad  idnombre_area_pref  idnivel_laboral_pref  idtipo_de_trabajo_pref  \\\n",
       "0    44                 119                     0                       0   \n",
       "1    44                 119                     0                       0   \n",
       "2    44                 119                     0                       0   \n",
       "3    44                 119                     0                       0   \n",
       "4    44                 119                     0                       0   \n",
       "\n",
       "   se_postulo  \n",
       "0           1  \n",
       "1           1  \n",
       "2           1  \n",
       "3           1  \n",
       "4           1  "
      ]
     },
     "execution_count": 11,
     "metadata": {},
     "output_type": "execute_result"
    }
   ],
   "source": [
    "vistas_y_postulaciones.head()"
   ]
  },
  {
   "cell_type": "markdown",
   "metadata": {},
   "source": [
    "# Agrego la tercer clase"
   ]
  },
  {
   "cell_type": "code",
   "execution_count": null,
   "metadata": {
    "scrolled": true
   },
   "outputs": [],
   "source": [
    "top100 = pd.read_csv(\"../test_final_100k.csv\", encoding='utf-8')\n",
    "top100.head()"
   ]
  },
  {
   "cell_type": "code",
   "execution_count": null,
   "metadata": {
    "scrolled": true
   },
   "outputs": [],
   "source": [
    "top100_full = pd.merge(top100, vistas_y_postulaciones, how='left', on=['idaviso', 'idpostulante'])\n",
    "top100_full.head()"
   ]
  },
  {
   "cell_type": "code",
   "execution_count": null,
   "metadata": {},
   "outputs": [],
   "source": [
    "excluded = top100_full[top100_full['esta_online'].isnull()]\n",
    "excluded.shape"
   ]
  },
  {
   "cell_type": "code",
   "execution_count": null,
   "metadata": {},
   "outputs": [],
   "source": [
    "excluded = excluded[['id', 'idaviso', 'idpostulante']]\n",
    "excluded.head()"
   ]
  },
  {
   "cell_type": "code",
   "execution_count": null,
   "metadata": {
    "scrolled": true
   },
   "outputs": [],
   "source": [
    "avisos_detalles = pd.read_csv('../data/adri_data/avisos_detalles.csv', encoding='utf-8')\n",
    "avisos_detalles.head()"
   ]
  },
  {
   "cell_type": "code",
   "execution_count": null,
   "metadata": {},
   "outputs": [],
   "source": [
    "excluded = pd.merge(excluded, avisos_detalles, how='inner', on='idaviso')\n",
    "excluded.shape"
   ]
  },
  {
   "cell_type": "code",
   "execution_count": null,
   "metadata": {},
   "outputs": [],
   "source": [
    "postulantes = pd.read_csv('../data/adri_data/postulantes2.csv', encoding='utf-8')\n",
    "postulantes.shape"
   ]
  },
  {
   "cell_type": "code",
   "execution_count": null,
   "metadata": {},
   "outputs": [],
   "source": [
    "excluded = pd.merge(excluded, postulantes, how='inner', on='idpostulante')\n",
    "excluded.shape"
   ]
  },
  {
   "cell_type": "code",
   "execution_count": null,
   "metadata": {},
   "outputs": [],
   "source": [
    "excluded['se_postulo'] = -1"
   ]
  },
  {
   "cell_type": "code",
   "execution_count": null,
   "metadata": {},
   "outputs": [],
   "source": [
    "excluded.shape"
   ]
  },
  {
   "cell_type": "code",
   "execution_count": null,
   "metadata": {},
   "outputs": [],
   "source": [
    "timestamps = pd.DataFrame(vistas_y_postulaciones.groupby('idaviso')['timestamp'].mean()).reset_index()\n",
    "timestamps.head()"
   ]
  },
  {
   "cell_type": "code",
   "execution_count": null,
   "metadata": {},
   "outputs": [],
   "source": [
    "excluded = pd.merge(excluded, timestamps, on='idaviso', how='left')\n",
    "excluded.head()"
   ]
  },
  {
   "cell_type": "code",
   "execution_count": null,
   "metadata": {
    "scrolled": true
   },
   "outputs": [],
   "source": [
    "excluded = excluded[vistas_y_postulaciones.columns]\n",
    "excluded.head()"
   ]
  },
  {
   "cell_type": "code",
   "execution_count": null,
   "metadata": {},
   "outputs": [],
   "source": [
    "timestampmean = vistas_y_postulaciones['timestamp'].mean()\n",
    "timestampmean"
   ]
  },
  {
   "cell_type": "code",
   "execution_count": null,
   "metadata": {},
   "outputs": [],
   "source": [
    "excluded.loc[excluded['timestamp'].isnull(), 'timestamp'] = timestampmean\n",
    "excluded.head()"
   ]
  },
  {
   "cell_type": "code",
   "execution_count": null,
   "metadata": {},
   "outputs": [],
   "source": [
    "excluded[excluded['timestamp'].isnull()].head()"
   ]
  },
  {
   "cell_type": "code",
   "execution_count": null,
   "metadata": {},
   "outputs": [],
   "source": [
    "excluded.loc[excluded['timestamp'].isnull(), 'timestamp'] = timestampmean\n",
    "excluded.head()"
   ]
  },
  {
   "cell_type": "markdown",
   "metadata": {},
   "source": [
    "# Mergeo con la tercer clase"
   ]
  },
  {
   "cell_type": "code",
   "execution_count": null,
   "metadata": {},
   "outputs": [],
   "source": [
    "# vistas_y_postulaciones = pd.concat([vistas_y_postulaciones, excluded], axis=0)\n",
    "# vistas_y_postulaciones.head()"
   ]
  },
  {
   "cell_type": "code",
   "execution_count": null,
   "metadata": {},
   "outputs": [],
   "source": [
    "# vistas_y_postulaciones.shape"
   ]
  },
  {
   "cell_type": "markdown",
   "metadata": {},
   "source": [
    "# Creo la lista de Ids numericos para los postulantes"
   ]
  },
  {
   "cell_type": "code",
   "execution_count": 12,
   "metadata": {},
   "outputs": [
    {
     "data": {
      "text/html": [
       "<div>\n",
       "<style scoped>\n",
       "    .dataframe tbody tr th:only-of-type {\n",
       "        vertical-align: middle;\n",
       "    }\n",
       "\n",
       "    .dataframe tbody tr th {\n",
       "        vertical-align: top;\n",
       "    }\n",
       "\n",
       "    .dataframe thead th {\n",
       "        text-align: right;\n",
       "    }\n",
       "</style>\n",
       "<table border=\"1\" class=\"dataframe\">\n",
       "  <thead>\n",
       "    <tr style=\"text-align: right;\">\n",
       "      <th></th>\n",
       "      <th>idpostulante</th>\n",
       "      <th>idpostulante_int</th>\n",
       "    </tr>\n",
       "  </thead>\n",
       "  <tbody>\n",
       "    <tr>\n",
       "      <th>0</th>\n",
       "      <td>pzeVW63</td>\n",
       "      <td>408101</td>\n",
       "    </tr>\n",
       "    <tr>\n",
       "      <th>1</th>\n",
       "      <td>pzeVW63</td>\n",
       "      <td>408101</td>\n",
       "    </tr>\n",
       "    <tr>\n",
       "      <th>2</th>\n",
       "      <td>pzeVW63</td>\n",
       "      <td>408101</td>\n",
       "    </tr>\n",
       "    <tr>\n",
       "      <th>3</th>\n",
       "      <td>pzeVW63</td>\n",
       "      <td>408101</td>\n",
       "    </tr>\n",
       "    <tr>\n",
       "      <th>4</th>\n",
       "      <td>pzeVW63</td>\n",
       "      <td>408101</td>\n",
       "    </tr>\n",
       "  </tbody>\n",
       "</table>\n",
       "</div>"
      ],
      "text/plain": [
       "  idpostulante  idpostulante_int\n",
       "0      pzeVW63            408101\n",
       "1      pzeVW63            408101\n",
       "2      pzeVW63            408101\n",
       "3      pzeVW63            408101\n",
       "4      pzeVW63            408101"
      ]
     },
     "execution_count": 12,
     "metadata": {},
     "output_type": "execute_result"
    }
   ],
   "source": [
    "# Convierto a numerico el id postulante\n",
    "lb_make = LabelEncoder()\n",
    "vistas_y_postulaciones[\"idpostulante_int\"] = lb_make.fit_transform(vistas_y_postulaciones[\"idpostulante\"])\n",
    "vistas_y_postulaciones[[\"idpostulante\", \"idpostulante_int\"]].head()"
   ]
  },
  {
   "cell_type": "code",
   "execution_count": 13,
   "metadata": {},
   "outputs": [],
   "source": [
    "# postulantes_ids = vistas_y_postulaciones[[\"idpostulante\", \"idpostulante2\"]].drop_duplicates()\n",
    "# postulantes_ids.to_csv('../data/adri_data/entrenamiento_id_postulantes.csv', encoding='utf-8', index=False)"
   ]
  },
  {
   "cell_type": "code",
   "execution_count": 14,
   "metadata": {},
   "outputs": [],
   "source": [
    "# vistas_y_postulaciones.drop('idpostulante', axis=1, inplace=True)\n",
    "# vistas_y_postulaciones.rename({'idpostulante_int': 'idpostulante'}, inplace=True, axis=1)\n",
    "# vistas_y_postulaciones.head()"
   ]
  },
  {
   "cell_type": "code",
   "execution_count": 15,
   "metadata": {},
   "outputs": [],
   "source": [
    "# vistas_y_postulaciones.to_csv('../data/adri_data/entrenamiento_postulaciones_vistas2.csv', encoding='utf-8', index=False)"
   ]
  },
  {
   "cell_type": "markdown",
   "metadata": {},
   "source": [
    "# Luego de mergear"
   ]
  },
  {
   "cell_type": "code",
   "execution_count": 16,
   "metadata": {},
   "outputs": [],
   "source": [
    "# vistas_y_postulaciones = pd.read_csv('../data/adri_data/entrenamiento_postulaciones_vistas2.csv', encoding='utf-8')"
   ]
  },
  {
   "cell_type": "code",
   "execution_count": 17,
   "metadata": {},
   "outputs": [
    {
     "data": {
      "text/plain": [
       "(16660347, 20)"
      ]
     },
     "execution_count": 17,
     "metadata": {},
     "output_type": "execute_result"
    }
   ],
   "source": [
    "vistas_y_postulaciones.shape"
   ]
  },
  {
   "cell_type": "code",
   "execution_count": 18,
   "metadata": {},
   "outputs": [
    {
     "data": {
      "text/html": [
       "<div>\n",
       "<style scoped>\n",
       "    .dataframe tbody tr th:only-of-type {\n",
       "        vertical-align: middle;\n",
       "    }\n",
       "\n",
       "    .dataframe tbody tr th {\n",
       "        vertical-align: top;\n",
       "    }\n",
       "\n",
       "    .dataframe thead th {\n",
       "        text-align: right;\n",
       "    }\n",
       "</style>\n",
       "<table border=\"1\" class=\"dataframe\">\n",
       "  <thead>\n",
       "    <tr style=\"text-align: right;\">\n",
       "      <th></th>\n",
       "      <th>idaviso</th>\n",
       "      <th>esta_online</th>\n",
       "      <th>contenido</th>\n",
       "      <th>idzona</th>\n",
       "      <th>idciudad</th>\n",
       "      <th>idmapacalle</th>\n",
       "      <th>idtipo_de_trabajo</th>\n",
       "      <th>idnivel_laboral</th>\n",
       "      <th>idnombre_area</th>\n",
       "      <th>iddenominacion_empresa</th>\n",
       "      <th>idpostulante</th>\n",
       "      <th>timestamp</th>\n",
       "      <th>valor_educacion</th>\n",
       "      <th>sexo</th>\n",
       "      <th>edad</th>\n",
       "      <th>idnombre_area_pref</th>\n",
       "      <th>idnivel_laboral_pref</th>\n",
       "      <th>idtipo_de_trabajo_pref</th>\n",
       "      <th>se_postulo</th>\n",
       "      <th>idpostulante_int</th>\n",
       "    </tr>\n",
       "  </thead>\n",
       "  <tbody>\n",
       "    <tr>\n",
       "      <th>0</th>\n",
       "      <td>1111556097</td>\n",
       "      <td>0</td>\n",
       "      <td>8159438729029635585</td>\n",
       "      <td>0</td>\n",
       "      <td>0</td>\n",
       "      <td>0</td>\n",
       "      <td>0</td>\n",
       "      <td>0</td>\n",
       "      <td>50</td>\n",
       "      <td>0</td>\n",
       "      <td>pzeVW63</td>\n",
       "      <td>7.979326e+06</td>\n",
       "      <td>17</td>\n",
       "      <td>1</td>\n",
       "      <td>44</td>\n",
       "      <td>119</td>\n",
       "      <td>0</td>\n",
       "      <td>0</td>\n",
       "      <td>1</td>\n",
       "      <td>408101</td>\n",
       "    </tr>\n",
       "    <tr>\n",
       "      <th>1</th>\n",
       "      <td>1112370711</td>\n",
       "      <td>1</td>\n",
       "      <td>4306765247469621377</td>\n",
       "      <td>0</td>\n",
       "      <td>0</td>\n",
       "      <td>0</td>\n",
       "      <td>0</td>\n",
       "      <td>0</td>\n",
       "      <td>143</td>\n",
       "      <td>11</td>\n",
       "      <td>pzeVW63</td>\n",
       "      <td>8.418204e+06</td>\n",
       "      <td>17</td>\n",
       "      <td>1</td>\n",
       "      <td>44</td>\n",
       "      <td>119</td>\n",
       "      <td>0</td>\n",
       "      <td>0</td>\n",
       "      <td>1</td>\n",
       "      <td>408101</td>\n",
       "    </tr>\n",
       "    <tr>\n",
       "      <th>2</th>\n",
       "      <td>1112326655</td>\n",
       "      <td>1</td>\n",
       "      <td>7959338346396781218</td>\n",
       "      <td>0</td>\n",
       "      <td>0</td>\n",
       "      <td>0</td>\n",
       "      <td>0</td>\n",
       "      <td>0</td>\n",
       "      <td>29</td>\n",
       "      <td>28</td>\n",
       "      <td>pzeVW63</td>\n",
       "      <td>1.075060e+07</td>\n",
       "      <td>17</td>\n",
       "      <td>1</td>\n",
       "      <td>44</td>\n",
       "      <td>119</td>\n",
       "      <td>0</td>\n",
       "      <td>0</td>\n",
       "      <td>1</td>\n",
       "      <td>408101</td>\n",
       "    </tr>\n",
       "    <tr>\n",
       "      <th>3</th>\n",
       "      <td>1112350182</td>\n",
       "      <td>1</td>\n",
       "      <td>8789020298799968481</td>\n",
       "      <td>0</td>\n",
       "      <td>0</td>\n",
       "      <td>0</td>\n",
       "      <td>0</td>\n",
       "      <td>0</td>\n",
       "      <td>119</td>\n",
       "      <td>33</td>\n",
       "      <td>pzeVW63</td>\n",
       "      <td>9.797704e+06</td>\n",
       "      <td>17</td>\n",
       "      <td>1</td>\n",
       "      <td>44</td>\n",
       "      <td>119</td>\n",
       "      <td>0</td>\n",
       "      <td>0</td>\n",
       "      <td>1</td>\n",
       "      <td>408101</td>\n",
       "    </tr>\n",
       "    <tr>\n",
       "      <th>4</th>\n",
       "      <td>1112383837</td>\n",
       "      <td>1</td>\n",
       "      <td>6513419378897462402</td>\n",
       "      <td>0</td>\n",
       "      <td>0</td>\n",
       "      <td>0</td>\n",
       "      <td>0</td>\n",
       "      <td>0</td>\n",
       "      <td>115</td>\n",
       "      <td>41</td>\n",
       "      <td>pzeVW63</td>\n",
       "      <td>8.505222e+06</td>\n",
       "      <td>17</td>\n",
       "      <td>1</td>\n",
       "      <td>44</td>\n",
       "      <td>119</td>\n",
       "      <td>0</td>\n",
       "      <td>0</td>\n",
       "      <td>1</td>\n",
       "      <td>408101</td>\n",
       "    </tr>\n",
       "  </tbody>\n",
       "</table>\n",
       "</div>"
      ],
      "text/plain": [
       "      idaviso  esta_online            contenido  idzona  idciudad  \\\n",
       "0  1111556097            0  8159438729029635585       0         0   \n",
       "1  1112370711            1  4306765247469621377       0         0   \n",
       "2  1112326655            1  7959338346396781218       0         0   \n",
       "3  1112350182            1  8789020298799968481       0         0   \n",
       "4  1112383837            1  6513419378897462402       0         0   \n",
       "\n",
       "   idmapacalle  idtipo_de_trabajo  idnivel_laboral  idnombre_area  \\\n",
       "0            0                  0                0             50   \n",
       "1            0                  0                0            143   \n",
       "2            0                  0                0             29   \n",
       "3            0                  0                0            119   \n",
       "4            0                  0                0            115   \n",
       "\n",
       "   iddenominacion_empresa idpostulante     timestamp  valor_educacion  sexo  \\\n",
       "0                       0      pzeVW63  7.979326e+06               17     1   \n",
       "1                      11      pzeVW63  8.418204e+06               17     1   \n",
       "2                      28      pzeVW63  1.075060e+07               17     1   \n",
       "3                      33      pzeVW63  9.797704e+06               17     1   \n",
       "4                      41      pzeVW63  8.505222e+06               17     1   \n",
       "\n",
       "   edad  idnombre_area_pref  idnivel_laboral_pref  idtipo_de_trabajo_pref  \\\n",
       "0    44                 119                     0                       0   \n",
       "1    44                 119                     0                       0   \n",
       "2    44                 119                     0                       0   \n",
       "3    44                 119                     0                       0   \n",
       "4    44                 119                     0                       0   \n",
       "\n",
       "   se_postulo  idpostulante_int  \n",
       "0           1            408101  \n",
       "1           1            408101  \n",
       "2           1            408101  \n",
       "3           1            408101  \n",
       "4           1            408101  "
      ]
     },
     "execution_count": 18,
     "metadata": {},
     "output_type": "execute_result"
    }
   ],
   "source": [
    "vistas_y_postulaciones.head()"
   ]
  },
  {
   "cell_type": "code",
   "execution_count": 19,
   "metadata": {},
   "outputs": [
    {
     "data": {
      "text/plain": [
       "(6720239, 20)"
      ]
     },
     "execution_count": 19,
     "metadata": {},
     "output_type": "execute_result"
    }
   ],
   "source": [
    "dup = vistas_y_postulaciones.duplicated(['idaviso', 'idpostulante'])\n",
    "vistas_y_postulaciones[dup].shape"
   ]
  },
  {
   "cell_type": "code",
   "execution_count": 20,
   "metadata": {},
   "outputs": [
    {
     "data": {
      "text/plain": [
       "(9940108, 20)"
      ]
     },
     "execution_count": 20,
     "metadata": {},
     "output_type": "execute_result"
    }
   ],
   "source": [
    "vistas_y_postulaciones.drop_duplicates(['idaviso', 'idpostulante'], inplace=True)\n",
    "vistas_y_postulaciones.shape"
   ]
  },
  {
   "cell_type": "code",
   "execution_count": 21,
   "metadata": {},
   "outputs": [],
   "source": [
    "vistas_y_postulaciones = vistas_y_postulaciones.sample(frac=1).reset_index(drop=True)"
   ]
  },
  {
   "cell_type": "code",
   "execution_count": 22,
   "metadata": {},
   "outputs": [
    {
     "data": {
      "text/plain": [
       "(9940108, 20)"
      ]
     },
     "execution_count": 22,
     "metadata": {},
     "output_type": "execute_result"
    }
   ],
   "source": [
    "vistas_y_postulaciones.shape"
   ]
  },
  {
   "cell_type": "code",
   "execution_count": 23,
   "metadata": {},
   "outputs": [
    {
     "data": {
      "text/html": [
       "<div>\n",
       "<style scoped>\n",
       "    .dataframe tbody tr th:only-of-type {\n",
       "        vertical-align: middle;\n",
       "    }\n",
       "\n",
       "    .dataframe tbody tr th {\n",
       "        vertical-align: top;\n",
       "    }\n",
       "\n",
       "    .dataframe thead th {\n",
       "        text-align: right;\n",
       "    }\n",
       "</style>\n",
       "<table border=\"1\" class=\"dataframe\">\n",
       "  <thead>\n",
       "    <tr style=\"text-align: right;\">\n",
       "      <th></th>\n",
       "      <th>idaviso</th>\n",
       "      <th>esta_online</th>\n",
       "      <th>contenido</th>\n",
       "      <th>idzona</th>\n",
       "      <th>idciudad</th>\n",
       "      <th>idmapacalle</th>\n",
       "      <th>idtipo_de_trabajo</th>\n",
       "      <th>idnivel_laboral</th>\n",
       "      <th>idnombre_area</th>\n",
       "      <th>iddenominacion_empresa</th>\n",
       "      <th>idpostulante</th>\n",
       "      <th>timestamp</th>\n",
       "      <th>valor_educacion</th>\n",
       "      <th>sexo</th>\n",
       "      <th>edad</th>\n",
       "      <th>idnombre_area_pref</th>\n",
       "      <th>idnivel_laboral_pref</th>\n",
       "      <th>idtipo_de_trabajo_pref</th>\n",
       "      <th>se_postulo</th>\n",
       "      <th>idpostulante_int</th>\n",
       "    </tr>\n",
       "  </thead>\n",
       "  <tbody>\n",
       "    <tr>\n",
       "      <th>0</th>\n",
       "      <td>1112447947</td>\n",
       "      <td>1</td>\n",
       "      <td>5728580103100973137</td>\n",
       "      <td>0</td>\n",
       "      <td>0</td>\n",
       "      <td>0</td>\n",
       "      <td>0</td>\n",
       "      <td>0</td>\n",
       "      <td>33</td>\n",
       "      <td>3053</td>\n",
       "      <td>ZD8eJmV</td>\n",
       "      <td>5.758042e+06</td>\n",
       "      <td>12</td>\n",
       "      <td>1</td>\n",
       "      <td>26</td>\n",
       "      <td>151</td>\n",
       "      <td>0</td>\n",
       "      <td>0</td>\n",
       "      <td>1</td>\n",
       "      <td>292866</td>\n",
       "    </tr>\n",
       "    <tr>\n",
       "      <th>1</th>\n",
       "      <td>1112463782</td>\n",
       "      <td>1</td>\n",
       "      <td>9144784603792882177</td>\n",
       "      <td>0</td>\n",
       "      <td>0</td>\n",
       "      <td>0</td>\n",
       "      <td>0</td>\n",
       "      <td>0</td>\n",
       "      <td>111</td>\n",
       "      <td>33</td>\n",
       "      <td>Oqmlb0W</td>\n",
       "      <td>4.273506e+06</td>\n",
       "      <td>12</td>\n",
       "      <td>1</td>\n",
       "      <td>51</td>\n",
       "      <td>9</td>\n",
       "      <td>0</td>\n",
       "      <td>0</td>\n",
       "      <td>0</td>\n",
       "      <td>225419</td>\n",
       "    </tr>\n",
       "    <tr>\n",
       "      <th>2</th>\n",
       "      <td>1111413600</td>\n",
       "      <td>1</td>\n",
       "      <td>10135298285895688</td>\n",
       "      <td>1</td>\n",
       "      <td>0</td>\n",
       "      <td>38</td>\n",
       "      <td>1</td>\n",
       "      <td>3</td>\n",
       "      <td>14</td>\n",
       "      <td>1625</td>\n",
       "      <td>1QdPNo3</td>\n",
       "      <td>6.065104e+06</td>\n",
       "      <td>8</td>\n",
       "      <td>2</td>\n",
       "      <td>24</td>\n",
       "      <td>14</td>\n",
       "      <td>0</td>\n",
       "      <td>1</td>\n",
       "      <td>1</td>\n",
       "      <td>20212</td>\n",
       "    </tr>\n",
       "    <tr>\n",
       "      <th>3</th>\n",
       "      <td>1112269993</td>\n",
       "      <td>1</td>\n",
       "      <td>5657086555870726152</td>\n",
       "      <td>0</td>\n",
       "      <td>0</td>\n",
       "      <td>0</td>\n",
       "      <td>0</td>\n",
       "      <td>0</td>\n",
       "      <td>2</td>\n",
       "      <td>166</td>\n",
       "      <td>2zLV8ox</td>\n",
       "      <td>7.390404e+06</td>\n",
       "      <td>6</td>\n",
       "      <td>2</td>\n",
       "      <td>26</td>\n",
       "      <td>2</td>\n",
       "      <td>0</td>\n",
       "      <td>0</td>\n",
       "      <td>1</td>\n",
       "      <td>27990</td>\n",
       "    </tr>\n",
       "    <tr>\n",
       "      <th>4</th>\n",
       "      <td>1112376834</td>\n",
       "      <td>1</td>\n",
       "      <td>1206969553452548160</td>\n",
       "      <td>0</td>\n",
       "      <td>0</td>\n",
       "      <td>0</td>\n",
       "      <td>0</td>\n",
       "      <td>0</td>\n",
       "      <td>33</td>\n",
       "      <td>509</td>\n",
       "      <td>Ezldm18</td>\n",
       "      <td>8.339190e+06</td>\n",
       "      <td>12</td>\n",
       "      <td>1</td>\n",
       "      <td>23</td>\n",
       "      <td>34</td>\n",
       "      <td>0</td>\n",
       "      <td>0</td>\n",
       "      <td>1</td>\n",
       "      <td>158227</td>\n",
       "    </tr>\n",
       "  </tbody>\n",
       "</table>\n",
       "</div>"
      ],
      "text/plain": [
       "      idaviso  esta_online            contenido  idzona  idciudad  \\\n",
       "0  1112447947            1  5728580103100973137       0         0   \n",
       "1  1112463782            1  9144784603792882177       0         0   \n",
       "2  1111413600            1    10135298285895688       1         0   \n",
       "3  1112269993            1  5657086555870726152       0         0   \n",
       "4  1112376834            1  1206969553452548160       0         0   \n",
       "\n",
       "   idmapacalle  idtipo_de_trabajo  idnivel_laboral  idnombre_area  \\\n",
       "0            0                  0                0             33   \n",
       "1            0                  0                0            111   \n",
       "2           38                  1                3             14   \n",
       "3            0                  0                0              2   \n",
       "4            0                  0                0             33   \n",
       "\n",
       "   iddenominacion_empresa idpostulante     timestamp  valor_educacion  sexo  \\\n",
       "0                    3053      ZD8eJmV  5.758042e+06               12     1   \n",
       "1                      33      Oqmlb0W  4.273506e+06               12     1   \n",
       "2                    1625      1QdPNo3  6.065104e+06                8     2   \n",
       "3                     166      2zLV8ox  7.390404e+06                6     2   \n",
       "4                     509      Ezldm18  8.339190e+06               12     1   \n",
       "\n",
       "   edad  idnombre_area_pref  idnivel_laboral_pref  idtipo_de_trabajo_pref  \\\n",
       "0    26                 151                     0                       0   \n",
       "1    51                   9                     0                       0   \n",
       "2    24                  14                     0                       1   \n",
       "3    26                   2                     0                       0   \n",
       "4    23                  34                     0                       0   \n",
       "\n",
       "   se_postulo  idpostulante_int  \n",
       "0           1            292866  \n",
       "1           0            225419  \n",
       "2           1             20212  \n",
       "3           1             27990  \n",
       "4           1            158227  "
      ]
     },
     "execution_count": 23,
     "metadata": {},
     "output_type": "execute_result"
    }
   ],
   "source": [
    "vistas_y_postulaciones.head()"
   ]
  },
  {
   "cell_type": "code",
   "execution_count": 24,
   "metadata": {},
   "outputs": [],
   "source": [
    "vistas_y_postulaciones.to_csv('../data/adri_data/entrenamiento_postulaciones_vistas_contenido.csv', encoding='utf-8', index=False)"
   ]
  },
  {
   "cell_type": "code",
   "execution_count": 25,
   "metadata": {},
   "outputs": [
    {
     "name": "stdout",
     "output_type": "stream",
     "text": [
      "<class 'pandas.core.frame.DataFrame'>\n",
      "RangeIndex: 9940108 entries, 0 to 9940107\n",
      "Data columns (total 20 columns):\n",
      "idaviso                   int64\n",
      "esta_online               int64\n",
      "contenido                 int64\n",
      "idzona                    int64\n",
      "idciudad                  int64\n",
      "idmapacalle               int64\n",
      "idtipo_de_trabajo         int64\n",
      "idnivel_laboral           int64\n",
      "idnombre_area             int64\n",
      "iddenominacion_empresa    int64\n",
      "idpostulante              object\n",
      "timestamp                 float64\n",
      "valor_educacion           int64\n",
      "sexo                      int64\n",
      "edad                      int64\n",
      "idnombre_area_pref        int64\n",
      "idnivel_laboral_pref      int64\n",
      "idtipo_de_trabajo_pref    int64\n",
      "se_postulo                int64\n",
      "idpostulante_int          int64\n",
      "dtypes: float64(1), int64(18), object(1)\n",
      "memory usage: 2.0 GB\n"
     ]
    }
   ],
   "source": [
    "vistas_y_postulaciones.info(memory_usage='deep')"
   ]
  },
  {
   "cell_type": "code",
   "execution_count": null,
   "metadata": {},
   "outputs": [],
   "source": []
  },
  {
   "cell_type": "code",
   "execution_count": null,
   "metadata": {},
   "outputs": [],
   "source": []
  },
  {
   "cell_type": "code",
   "execution_count": null,
   "metadata": {},
   "outputs": [],
   "source": []
  },
  {
   "cell_type": "code",
   "execution_count": null,
   "metadata": {},
   "outputs": [],
   "source": []
  },
  {
   "cell_type": "code",
   "execution_count": null,
   "metadata": {},
   "outputs": [],
   "source": []
  },
  {
   "cell_type": "code",
   "execution_count": null,
   "metadata": {},
   "outputs": [],
   "source": []
  },
  {
   "cell_type": "code",
   "execution_count": null,
   "metadata": {},
   "outputs": [],
   "source": []
  },
  {
   "cell_type": "code",
   "execution_count": null,
   "metadata": {},
   "outputs": [],
   "source": []
  },
  {
   "cell_type": "code",
   "execution_count": null,
   "metadata": {},
   "outputs": [],
   "source": []
  },
  {
   "cell_type": "code",
   "execution_count": null,
   "metadata": {},
   "outputs": [],
   "source": []
  }
 ],
 "metadata": {
  "kernelspec": {
   "display_name": "Python 3",
   "language": "python",
   "name": "python3"
  },
  "language_info": {
   "codemirror_mode": {
    "name": "ipython",
    "version": 3
   },
   "file_extension": ".py",
   "mimetype": "text/x-python",
   "name": "python",
   "nbconvert_exporter": "python",
   "pygments_lexer": "ipython3",
   "version": "3.6.4"
  }
 },
 "nbformat": 4,
 "nbformat_minor": 2
}
