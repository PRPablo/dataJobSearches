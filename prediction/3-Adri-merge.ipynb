{
 "cells": [
  {
   "cell_type": "code",
   "execution_count": 1,
   "metadata": {},
   "outputs": [],
   "source": [
    "import matplotlib.pyplot as plt\n",
    "from matplotlib.colors import LogNorm\n",
    "from matplotlib.mlab import bivariate_normal\n",
    "%matplotlib inline\n",
    "import pandas as pd\n",
    "from dateutil.parser import parse\n",
    "import numpy as np\n",
    "import warnings\n",
    "import datetime as dt\n",
    "import seaborn as sns\n",
    "warnings.filterwarnings('ignore')\n",
    "\n",
    "from sklearn.preprocessing import LabelEncoder\n",
    "from sklearn.linear_model import LogisticRegression\n",
    "from sklearn import metrics"
   ]
  },
  {
   "cell_type": "code",
   "execution_count": 2,
   "metadata": {},
   "outputs": [
    {
     "data": {
      "text/html": [
       "<div>\n",
       "<style scoped>\n",
       "    .dataframe tbody tr th:only-of-type {\n",
       "        vertical-align: middle;\n",
       "    }\n",
       "\n",
       "    .dataframe tbody tr th {\n",
       "        vertical-align: top;\n",
       "    }\n",
       "\n",
       "    .dataframe thead th {\n",
       "        text-align: right;\n",
       "    }\n",
       "</style>\n",
       "<table border=\"1\" class=\"dataframe\">\n",
       "  <thead>\n",
       "    <tr style=\"text-align: right;\">\n",
       "      <th></th>\n",
       "      <th>idaviso</th>\n",
       "      <th>timestamp</th>\n",
       "      <th>idpostulante</th>\n",
       "      <th>valor_educacion</th>\n",
       "      <th>sexo</th>\n",
       "      <th>edad</th>\n",
       "      <th>idtitulo</th>\n",
       "      <th>idzona</th>\n",
       "      <th>idciudad</th>\n",
       "      <th>idmapacalle</th>\n",
       "      <th>idtipo_de_trabajo</th>\n",
       "      <th>idnivel_laboral</th>\n",
       "      <th>idnombre_area</th>\n",
       "      <th>iddenominacion_empresa</th>\n",
       "    </tr>\n",
       "  </thead>\n",
       "  <tbody>\n",
       "    <tr>\n",
       "      <th>0</th>\n",
       "      <td>1112400775</td>\n",
       "      <td>2018-04-06T01:43:47.445-0400</td>\n",
       "      <td>kPjr2K0</td>\n",
       "      <td>9</td>\n",
       "      <td>1</td>\n",
       "      <td>20.0</td>\n",
       "      <td>4430</td>\n",
       "      <td>0</td>\n",
       "      <td>0</td>\n",
       "      <td>0</td>\n",
       "      <td>0</td>\n",
       "      <td>0</td>\n",
       "      <td>14</td>\n",
       "      <td>513</td>\n",
       "    </tr>\n",
       "    <tr>\n",
       "      <th>1</th>\n",
       "      <td>1112400775</td>\n",
       "      <td>2018-04-06T01:43:48.330-0400</td>\n",
       "      <td>kPjr2K0</td>\n",
       "      <td>9</td>\n",
       "      <td>1</td>\n",
       "      <td>20.0</td>\n",
       "      <td>4430</td>\n",
       "      <td>0</td>\n",
       "      <td>0</td>\n",
       "      <td>0</td>\n",
       "      <td>0</td>\n",
       "      <td>0</td>\n",
       "      <td>14</td>\n",
       "      <td>513</td>\n",
       "    </tr>\n",
       "    <tr>\n",
       "      <th>2</th>\n",
       "      <td>1112400775</td>\n",
       "      <td>2018-04-06T01:39:36.249-0400</td>\n",
       "      <td>kPjr2K0</td>\n",
       "      <td>9</td>\n",
       "      <td>1</td>\n",
       "      <td>20.0</td>\n",
       "      <td>4430</td>\n",
       "      <td>0</td>\n",
       "      <td>0</td>\n",
       "      <td>0</td>\n",
       "      <td>0</td>\n",
       "      <td>0</td>\n",
       "      <td>14</td>\n",
       "      <td>513</td>\n",
       "    </tr>\n",
       "    <tr>\n",
       "      <th>3</th>\n",
       "      <td>1112400775</td>\n",
       "      <td>2018-04-03T22:41:50.496-0400</td>\n",
       "      <td>rmRpqEA</td>\n",
       "      <td>12</td>\n",
       "      <td>1</td>\n",
       "      <td>32.0</td>\n",
       "      <td>4430</td>\n",
       "      <td>0</td>\n",
       "      <td>0</td>\n",
       "      <td>0</td>\n",
       "      <td>0</td>\n",
       "      <td>0</td>\n",
       "      <td>14</td>\n",
       "      <td>513</td>\n",
       "    </tr>\n",
       "    <tr>\n",
       "      <th>4</th>\n",
       "      <td>1112400775</td>\n",
       "      <td>2018-04-06T01:52:30.411-0400</td>\n",
       "      <td>EzEovD2</td>\n",
       "      <td>4</td>\n",
       "      <td>1</td>\n",
       "      <td>22.0</td>\n",
       "      <td>4430</td>\n",
       "      <td>0</td>\n",
       "      <td>0</td>\n",
       "      <td>0</td>\n",
       "      <td>0</td>\n",
       "      <td>0</td>\n",
       "      <td>14</td>\n",
       "      <td>513</td>\n",
       "    </tr>\n",
       "  </tbody>\n",
       "</table>\n",
       "</div>"
      ],
      "text/plain": [
       "      idaviso                     timestamp idpostulante  valor_educacion  \\\n",
       "0  1112400775  2018-04-06T01:43:47.445-0400      kPjr2K0                9   \n",
       "1  1112400775  2018-04-06T01:43:48.330-0400      kPjr2K0                9   \n",
       "2  1112400775  2018-04-06T01:39:36.249-0400      kPjr2K0                9   \n",
       "3  1112400775  2018-04-03T22:41:50.496-0400      rmRpqEA               12   \n",
       "4  1112400775  2018-04-06T01:52:30.411-0400      EzEovD2                4   \n",
       "\n",
       "   sexo  edad  idtitulo  idzona  idciudad  idmapacalle  idtipo_de_trabajo  \\\n",
       "0     1  20.0      4430       0         0            0                  0   \n",
       "1     1  20.0      4430       0         0            0                  0   \n",
       "2     1  20.0      4430       0         0            0                  0   \n",
       "3     1  32.0      4430       0         0            0                  0   \n",
       "4     1  22.0      4430       0         0            0                  0   \n",
       "\n",
       "   idnivel_laboral  idnombre_area  iddenominacion_empresa  \n",
       "0                0             14                     513  \n",
       "1                0             14                     513  \n",
       "2                0             14                     513  \n",
       "3                0             14                     513  \n",
       "4                0             14                     513  "
      ]
     },
     "execution_count": 2,
     "metadata": {},
     "output_type": "execute_result"
    }
   ],
   "source": [
    "vistas = pd.read_csv('../data/adri_data/entrenamiento_vistas.csv');\n",
    "vistas.head()"
   ]
  },
  {
   "cell_type": "code",
   "execution_count": 3,
   "metadata": {},
   "outputs": [
    {
     "data": {
      "text/html": [
       "<div>\n",
       "<style scoped>\n",
       "    .dataframe tbody tr th:only-of-type {\n",
       "        vertical-align: middle;\n",
       "    }\n",
       "\n",
       "    .dataframe tbody tr th {\n",
       "        vertical-align: top;\n",
       "    }\n",
       "\n",
       "    .dataframe thead th {\n",
       "        text-align: right;\n",
       "    }\n",
       "</style>\n",
       "<table border=\"1\" class=\"dataframe\">\n",
       "  <thead>\n",
       "    <tr style=\"text-align: right;\">\n",
       "      <th></th>\n",
       "      <th>idaviso</th>\n",
       "      <th>idtitulo</th>\n",
       "      <th>idzona</th>\n",
       "      <th>idciudad</th>\n",
       "      <th>idmapacalle</th>\n",
       "      <th>idtipo_de_trabajo</th>\n",
       "      <th>idnivel_laboral</th>\n",
       "      <th>idnombre_area</th>\n",
       "      <th>iddenominacion_empresa</th>\n",
       "      <th>idpostulante</th>\n",
       "      <th>fechapostulacion</th>\n",
       "      <th>valor_educacion</th>\n",
       "      <th>sexo</th>\n",
       "      <th>edad</th>\n",
       "    </tr>\n",
       "  </thead>\n",
       "  <tbody>\n",
       "    <tr>\n",
       "      <th>0</th>\n",
       "      <td>1111556097</td>\n",
       "      <td>0</td>\n",
       "      <td>0</td>\n",
       "      <td>0</td>\n",
       "      <td>0</td>\n",
       "      <td>0</td>\n",
       "      <td>0</td>\n",
       "      <td>0</td>\n",
       "      <td>0</td>\n",
       "      <td>pzeVW63</td>\n",
       "      <td>2018-03-13 16:23:14</td>\n",
       "      <td>17</td>\n",
       "      <td>1</td>\n",
       "      <td>44.0</td>\n",
       "    </tr>\n",
       "    <tr>\n",
       "      <th>1</th>\n",
       "      <td>1112370711</td>\n",
       "      <td>6996</td>\n",
       "      <td>0</td>\n",
       "      <td>0</td>\n",
       "      <td>0</td>\n",
       "      <td>0</td>\n",
       "      <td>0</td>\n",
       "      <td>45</td>\n",
       "      <td>14</td>\n",
       "      <td>pzeVW63</td>\n",
       "      <td>2018-03-08 14:28:36</td>\n",
       "      <td>17</td>\n",
       "      <td>1</td>\n",
       "      <td>44.0</td>\n",
       "    </tr>\n",
       "    <tr>\n",
       "      <th>2</th>\n",
       "      <td>1112326655</td>\n",
       "      <td>11827</td>\n",
       "      <td>0</td>\n",
       "      <td>0</td>\n",
       "      <td>0</td>\n",
       "      <td>0</td>\n",
       "      <td>0</td>\n",
       "      <td>4</td>\n",
       "      <td>33</td>\n",
       "      <td>pzeVW63</td>\n",
       "      <td>2018-02-09 14:35:24</td>\n",
       "      <td>17</td>\n",
       "      <td>1</td>\n",
       "      <td>44.0</td>\n",
       "    </tr>\n",
       "    <tr>\n",
       "      <th>3</th>\n",
       "      <td>1112350182</td>\n",
       "      <td>2141</td>\n",
       "      <td>0</td>\n",
       "      <td>0</td>\n",
       "      <td>0</td>\n",
       "      <td>0</td>\n",
       "      <td>0</td>\n",
       "      <td>31</td>\n",
       "      <td>38</td>\n",
       "      <td>pzeVW63</td>\n",
       "      <td>2018-02-20 15:16:56</td>\n",
       "      <td>17</td>\n",
       "      <td>1</td>\n",
       "      <td>44.0</td>\n",
       "    </tr>\n",
       "    <tr>\n",
       "      <th>4</th>\n",
       "      <td>1112383837</td>\n",
       "      <td>6942</td>\n",
       "      <td>0</td>\n",
       "      <td>0</td>\n",
       "      <td>0</td>\n",
       "      <td>0</td>\n",
       "      <td>0</td>\n",
       "      <td>75</td>\n",
       "      <td>46</td>\n",
       "      <td>pzeVW63</td>\n",
       "      <td>2018-03-07 14:18:18</td>\n",
       "      <td>17</td>\n",
       "      <td>1</td>\n",
       "      <td>44.0</td>\n",
       "    </tr>\n",
       "  </tbody>\n",
       "</table>\n",
       "</div>"
      ],
      "text/plain": [
       "      idaviso  idtitulo  idzona  idciudad  idmapacalle  idtipo_de_trabajo  \\\n",
       "0  1111556097         0       0         0            0                  0   \n",
       "1  1112370711      6996       0         0            0                  0   \n",
       "2  1112326655     11827       0         0            0                  0   \n",
       "3  1112350182      2141       0         0            0                  0   \n",
       "4  1112383837      6942       0         0            0                  0   \n",
       "\n",
       "   idnivel_laboral  idnombre_area  iddenominacion_empresa idpostulante  \\\n",
       "0                0              0                       0      pzeVW63   \n",
       "1                0             45                      14      pzeVW63   \n",
       "2                0              4                      33      pzeVW63   \n",
       "3                0             31                      38      pzeVW63   \n",
       "4                0             75                      46      pzeVW63   \n",
       "\n",
       "      fechapostulacion  valor_educacion  sexo  edad  \n",
       "0  2018-03-13 16:23:14               17     1  44.0  \n",
       "1  2018-03-08 14:28:36               17     1  44.0  \n",
       "2  2018-02-09 14:35:24               17     1  44.0  \n",
       "3  2018-02-20 15:16:56               17     1  44.0  \n",
       "4  2018-03-07 14:18:18               17     1  44.0  "
      ]
     },
     "execution_count": 3,
     "metadata": {},
     "output_type": "execute_result"
    }
   ],
   "source": [
    "postulaciones = pd.read_csv('../data/adri_data/entrenamiento_postulaciones.csv');\n",
    "postulaciones.head()"
   ]
  },
  {
   "cell_type": "code",
   "execution_count": 4,
   "metadata": {},
   "outputs": [],
   "source": [
    "vistas = vistas[['idaviso',\n",
    "'idpostulante',\n",
    "'timestamp',\n",
    "'valor_educacion',\n",
    "'sexo',\n",
    "'edad',\n",
    "'idtitulo',\n",
    "'idzona',\n",
    "'idciudad',\n",
    "'idmapacalle',\n",
    "'idtipo_de_trabajo',\n",
    "'idnivel_laboral',\n",
    "'idnombre_area',\n",
    "'iddenominacion_empresa']]"
   ]
  },
  {
   "cell_type": "code",
   "execution_count": 5,
   "metadata": {},
   "outputs": [
    {
     "name": "stderr",
     "output_type": "stream",
     "text": [
      "ERROR:root:Internal Python error in the inspect module.\n",
      "Below is the traceback from this internal error.\n",
      "\n"
     ]
    },
    {
     "name": "stdout",
     "output_type": "stream",
     "text": [
      "Traceback (most recent call last):\n",
      "  File \"C:\\ProgramData\\Anaconda3\\lib\\site-packages\\IPython\\core\\interactiveshell.py\", line 2910, in run_code\n",
      "    exec(code_obj, self.user_global_ns, self.user_ns)\n",
      "  File \"<ipython-input-5-e9e2de9e09eb>\", line 14, in <module>\n",
      "    'iddenominacion_empresa']]\n",
      "  File \"C:\\ProgramData\\Anaconda3\\lib\\site-packages\\pandas\\core\\frame.py\", line 2133, in __getitem__\n",
      "    return self._getitem_array(key)\n",
      "  File \"C:\\ProgramData\\Anaconda3\\lib\\site-packages\\pandas\\core\\frame.py\", line 2178, in _getitem_array\n",
      "    return self._take(indexer, axis=1, convert=True)\n",
      "  File \"C:\\ProgramData\\Anaconda3\\lib\\site-packages\\pandas\\core\\generic.py\", line 2150, in _take\n",
      "    verify=True)\n",
      "  File \"C:\\ProgramData\\Anaconda3\\lib\\site-packages\\pandas\\core\\internals.py\", line 4264, in take\n",
      "    axis=axis, allow_dups=True)\n",
      "  File \"C:\\ProgramData\\Anaconda3\\lib\\site-packages\\pandas\\core\\internals.py\", line 4146, in reindex_indexer\n",
      "    fill_tuple=(fill_value,))\n",
      "  File \"C:\\ProgramData\\Anaconda3\\lib\\site-packages\\pandas\\core\\internals.py\", line 4226, in _slice_take_blocks_ax0\n",
      "    fill_tuple=None))\n",
      "  File \"C:\\ProgramData\\Anaconda3\\lib\\site-packages\\pandas\\core\\internals.py\", line 1217, in take_nd\n",
      "    allow_fill=False)\n",
      "  File \"C:\\ProgramData\\Anaconda3\\lib\\site-packages\\pandas\\core\\algorithms.py\", line 1386, in take_nd\n",
      "    out = out.T\n",
      "KeyboardInterrupt\n",
      "\n",
      "During handling of the above exception, another exception occurred:\n",
      "\n",
      "Traceback (most recent call last):\n",
      "  File \"C:\\ProgramData\\Anaconda3\\lib\\site-packages\\IPython\\core\\interactiveshell.py\", line 1828, in showtraceback\n",
      "    stb = value._render_traceback_()\n",
      "AttributeError: 'KeyboardInterrupt' object has no attribute '_render_traceback_'\n",
      "\n",
      "During handling of the above exception, another exception occurred:\n",
      "\n",
      "Traceback (most recent call last):\n",
      "  File \"C:\\ProgramData\\Anaconda3\\lib\\site-packages\\IPython\\core\\ultratb.py\", line 1090, in get_records\n",
      "    return _fixed_getinnerframes(etb, number_of_lines_of_context, tb_offset)\n",
      "  File \"C:\\ProgramData\\Anaconda3\\lib\\site-packages\\IPython\\core\\ultratb.py\", line 311, in wrapped\n",
      "    return f(*args, **kwargs)\n",
      "  File \"C:\\ProgramData\\Anaconda3\\lib\\site-packages\\IPython\\core\\ultratb.py\", line 345, in _fixed_getinnerframes\n",
      "    records = fix_frame_records_filenames(inspect.getinnerframes(etb, context))\n",
      "  File \"C:\\ProgramData\\Anaconda3\\lib\\inspect.py\", line 1483, in getinnerframes\n",
      "    frameinfo = (tb.tb_frame,) + getframeinfo(tb, context)\n",
      "  File \"C:\\ProgramData\\Anaconda3\\lib\\inspect.py\", line 1441, in getframeinfo\n",
      "    filename = getsourcefile(frame) or getfile(frame)\n",
      "  File \"C:\\ProgramData\\Anaconda3\\lib\\inspect.py\", line 696, in getsourcefile\n",
      "    if getattr(getmodule(object, filename), '__loader__', None) is not None:\n",
      "  File \"C:\\ProgramData\\Anaconda3\\lib\\inspect.py\", line 733, in getmodule\n",
      "    if ismodule(module) and hasattr(module, '__file__'):\n",
      "  File \"C:\\ProgramData\\Anaconda3\\lib\\site-packages\\py\\_vendored_packages\\apipkg.py\", line 195, in __getattribute__\n",
      "    return getattr(getmod(), name)\n",
      "  File \"C:\\ProgramData\\Anaconda3\\lib\\site-packages\\py\\_vendored_packages\\apipkg.py\", line 179, in getmod\n",
      "    x = importobj(modpath, None)\n",
      "  File \"C:\\ProgramData\\Anaconda3\\lib\\site-packages\\py\\_vendored_packages\\apipkg.py\", line 69, in importobj\n",
      "    module = __import__(modpath, None, None, ['__doc__'])\n",
      "  File \"C:\\ProgramData\\Anaconda3\\lib\\site-packages\\pytest.py\", line 9, in <module>\n",
      "    from _pytest.config import (\n",
      "  File \"C:\\ProgramData\\Anaconda3\\lib\\site-packages\\_pytest\\__init__.py\", line 4, in <module>\n",
      "    from ._version import version as __version__\n",
      "  File \"<frozen importlib._bootstrap>\", line 971, in _find_and_load\n",
      "  File \"<frozen importlib._bootstrap>\", line 955, in _find_and_load_unlocked\n",
      "  File \"<frozen importlib._bootstrap>\", line 665, in _load_unlocked\n",
      "  File \"<frozen importlib._bootstrap_external>\", line 674, in exec_module\n",
      "  File \"<frozen importlib._bootstrap_external>\", line 764, in get_code\n",
      "  File \"<frozen importlib._bootstrap_external>\", line 832, in get_data\n",
      "KeyboardInterrupt\n"
     ]
    },
    {
     "ename": "KeyboardInterrupt",
     "evalue": "",
     "output_type": "error",
     "traceback": [
      "\u001b[1;31m---------------------------------------------------------------------------\u001b[0m"
     ]
    }
   ],
   "source": [
    "postulaciones = postulaciones[['idaviso',\n",
    "'idpostulante',\n",
    "'fechapostulacion',\n",
    "'valor_educacion',\n",
    "'sexo',\n",
    "'edad',\n",
    "'idtitulo',\n",
    "'idzona',\n",
    "'idciudad',\n",
    "'idmapacalle',\n",
    "'idtipo_de_trabajo',\n",
    "'idnivel_laboral',\n",
    "'idnombre_area',\n",
    "'iddenominacion_empresa']]"
   ]
  },
  {
   "cell_type": "code",
   "execution_count": null,
   "metadata": {},
   "outputs": [],
   "source": [
    "postulaciones.rename({'fechapostulacion': 'timestamp'}, axis=1, inplace=True)\n",
    "postulaciones.head()"
   ]
  },
  {
   "cell_type": "code",
   "execution_count": null,
   "metadata": {},
   "outputs": [],
   "source": [
    "vistas['se_postulo'] = 0"
   ]
  },
  {
   "cell_type": "code",
   "execution_count": null,
   "metadata": {},
   "outputs": [],
   "source": [
    "postulaciones['se_postulo'] = 1"
   ]
  },
  {
   "cell_type": "code",
   "execution_count": null,
   "metadata": {},
   "outputs": [],
   "source": [
    "vistas.shape"
   ]
  },
  {
   "cell_type": "code",
   "execution_count": null,
   "metadata": {},
   "outputs": [],
   "source": [
    "postulaciones.shape"
   ]
  },
  {
   "cell_type": "code",
   "execution_count": null,
   "metadata": {},
   "outputs": [],
   "source": [
    "vistas_y_postulaciones = pd.concat([postulaciones, vistas], axis=0)\n",
    "vistas_y_postulaciones.shape"
   ]
  },
  {
   "cell_type": "code",
   "execution_count": null,
   "metadata": {},
   "outputs": [],
   "source": [
    "vistas_y_postulaciones.to_csv('../data/adri_data/entrenamiento_postulaciones_vistas.csv', encoding='utf-8')"
   ]
  },
  {
   "cell_type": "code",
   "execution_count": null,
   "metadata": {},
   "outputs": [],
   "source": [
    "# Convierto a numerico el id postulante\n",
    "lb_make = LabelEncoder()\n",
    "vistas_y_postulaciones[\"idpostulante2\"] = lb_make.fit_transform(vistas_y_postulaciones[\"idpostulante\"])\n",
    "vistas_y_postulaciones[[\"idpostulante\", \"idpostulante2\"]].head()"
   ]
  },
  {
   "cell_type": "code",
   "execution_count": null,
   "metadata": {},
   "outputs": [],
   "source": [
    "postulantes_ids = vistas_y_postulaciones[[\"idpostulante\", \"idpostulante2\"]].drop_duplicates()\n",
    "postulantes_ids.to_csv('../data/adri_data/entrenamiento_id_postulantes.csv', encoding='utf-8', index=False)"
   ]
  },
  {
   "cell_type": "code",
   "execution_count": null,
   "metadata": {},
   "outputs": [],
   "source": [
    "vistas_y_postulaciones.drop('idpostulante', axis=1, inplace=True)\n",
    "vistas_y_postulaciones.rename({'idpostulante2': 'idpostulante'}, inplace=True, axis=1)\n",
    "vistas_y_postulaciones.head()"
   ]
  },
  {
   "cell_type": "code",
   "execution_count": null,
   "metadata": {},
   "outputs": [],
   "source": [
    "vistas_y_postulaciones.to_csv('../data/adri_data/entrenamiento_postulaciones_vistas2.csv', encoding='utf-8', index=False)"
   ]
  },
  {
   "cell_type": "code",
   "execution_count": 6,
   "metadata": {},
   "outputs": [],
   "source": [
    "vistas_y_postulaciones = pd.read_csv('../data/adri_data/entrenamiento_postulaciones_vistas2.csv', encoding='utf-8')"
   ]
  },
  {
   "cell_type": "code",
   "execution_count": 7,
   "metadata": {},
   "outputs": [
    {
     "data": {
      "text/plain": [
       "(15849097, 15)"
      ]
     },
     "execution_count": 7,
     "metadata": {},
     "output_type": "execute_result"
    }
   ],
   "source": [
    "vistas_y_postulaciones.shape"
   ]
  },
  {
   "cell_type": "code",
   "execution_count": 8,
   "metadata": {},
   "outputs": [
    {
     "data": {
      "text/html": [
       "<div>\n",
       "<style scoped>\n",
       "    .dataframe tbody tr th:only-of-type {\n",
       "        vertical-align: middle;\n",
       "    }\n",
       "\n",
       "    .dataframe tbody tr th {\n",
       "        vertical-align: top;\n",
       "    }\n",
       "\n",
       "    .dataframe thead th {\n",
       "        text-align: right;\n",
       "    }\n",
       "</style>\n",
       "<table border=\"1\" class=\"dataframe\">\n",
       "  <thead>\n",
       "    <tr style=\"text-align: right;\">\n",
       "      <th></th>\n",
       "      <th>idaviso</th>\n",
       "      <th>timestamp</th>\n",
       "      <th>valor_educacion</th>\n",
       "      <th>sexo</th>\n",
       "      <th>edad</th>\n",
       "      <th>idtitulo</th>\n",
       "      <th>idzona</th>\n",
       "      <th>idciudad</th>\n",
       "      <th>idmapacalle</th>\n",
       "      <th>idtipo_de_trabajo</th>\n",
       "      <th>idnivel_laboral</th>\n",
       "      <th>idnombre_area</th>\n",
       "      <th>iddenominacion_empresa</th>\n",
       "      <th>se_postulo</th>\n",
       "      <th>idpostulante</th>\n",
       "    </tr>\n",
       "  </thead>\n",
       "  <tbody>\n",
       "    <tr>\n",
       "      <th>0</th>\n",
       "      <td>1111556097</td>\n",
       "      <td>2018-03-13 16:23:14</td>\n",
       "      <td>17</td>\n",
       "      <td>1</td>\n",
       "      <td>44.0</td>\n",
       "      <td>0</td>\n",
       "      <td>0</td>\n",
       "      <td>0</td>\n",
       "      <td>0</td>\n",
       "      <td>0</td>\n",
       "      <td>0</td>\n",
       "      <td>0</td>\n",
       "      <td>0</td>\n",
       "      <td>1</td>\n",
       "      <td>365446</td>\n",
       "    </tr>\n",
       "    <tr>\n",
       "      <th>1</th>\n",
       "      <td>1112370711</td>\n",
       "      <td>2018-03-08 14:28:36</td>\n",
       "      <td>17</td>\n",
       "      <td>1</td>\n",
       "      <td>44.0</td>\n",
       "      <td>6996</td>\n",
       "      <td>0</td>\n",
       "      <td>0</td>\n",
       "      <td>0</td>\n",
       "      <td>0</td>\n",
       "      <td>0</td>\n",
       "      <td>45</td>\n",
       "      <td>14</td>\n",
       "      <td>1</td>\n",
       "      <td>365446</td>\n",
       "    </tr>\n",
       "    <tr>\n",
       "      <th>2</th>\n",
       "      <td>1112326655</td>\n",
       "      <td>2018-02-09 14:35:24</td>\n",
       "      <td>17</td>\n",
       "      <td>1</td>\n",
       "      <td>44.0</td>\n",
       "      <td>11827</td>\n",
       "      <td>0</td>\n",
       "      <td>0</td>\n",
       "      <td>0</td>\n",
       "      <td>0</td>\n",
       "      <td>0</td>\n",
       "      <td>4</td>\n",
       "      <td>33</td>\n",
       "      <td>1</td>\n",
       "      <td>365446</td>\n",
       "    </tr>\n",
       "    <tr>\n",
       "      <th>3</th>\n",
       "      <td>1112350182</td>\n",
       "      <td>2018-02-20 15:16:56</td>\n",
       "      <td>17</td>\n",
       "      <td>1</td>\n",
       "      <td>44.0</td>\n",
       "      <td>2141</td>\n",
       "      <td>0</td>\n",
       "      <td>0</td>\n",
       "      <td>0</td>\n",
       "      <td>0</td>\n",
       "      <td>0</td>\n",
       "      <td>31</td>\n",
       "      <td>38</td>\n",
       "      <td>1</td>\n",
       "      <td>365446</td>\n",
       "    </tr>\n",
       "    <tr>\n",
       "      <th>4</th>\n",
       "      <td>1112383837</td>\n",
       "      <td>2018-03-07 14:18:18</td>\n",
       "      <td>17</td>\n",
       "      <td>1</td>\n",
       "      <td>44.0</td>\n",
       "      <td>6942</td>\n",
       "      <td>0</td>\n",
       "      <td>0</td>\n",
       "      <td>0</td>\n",
       "      <td>0</td>\n",
       "      <td>0</td>\n",
       "      <td>75</td>\n",
       "      <td>46</td>\n",
       "      <td>1</td>\n",
       "      <td>365446</td>\n",
       "    </tr>\n",
       "  </tbody>\n",
       "</table>\n",
       "</div>"
      ],
      "text/plain": [
       "      idaviso            timestamp  valor_educacion  sexo  edad  idtitulo  \\\n",
       "0  1111556097  2018-03-13 16:23:14               17     1  44.0         0   \n",
       "1  1112370711  2018-03-08 14:28:36               17     1  44.0      6996   \n",
       "2  1112326655  2018-02-09 14:35:24               17     1  44.0     11827   \n",
       "3  1112350182  2018-02-20 15:16:56               17     1  44.0      2141   \n",
       "4  1112383837  2018-03-07 14:18:18               17     1  44.0      6942   \n",
       "\n",
       "   idzona  idciudad  idmapacalle  idtipo_de_trabajo  idnivel_laboral  \\\n",
       "0       0         0            0                  0                0   \n",
       "1       0         0            0                  0                0   \n",
       "2       0         0            0                  0                0   \n",
       "3       0         0            0                  0                0   \n",
       "4       0         0            0                  0                0   \n",
       "\n",
       "   idnombre_area  iddenominacion_empresa  se_postulo  idpostulante  \n",
       "0              0                       0           1        365446  \n",
       "1             45                      14           1        365446  \n",
       "2              4                      33           1        365446  \n",
       "3             31                      38           1        365446  \n",
       "4             75                      46           1        365446  "
      ]
     },
     "execution_count": 8,
     "metadata": {},
     "output_type": "execute_result"
    }
   ],
   "source": [
    "vistas_y_postulaciones.head()"
   ]
  },
  {
   "cell_type": "code",
   "execution_count": 13,
   "metadata": {},
   "outputs": [
    {
     "data": {
      "text/plain": [
       "(6288554, 15)"
      ]
     },
     "execution_count": 13,
     "metadata": {},
     "output_type": "execute_result"
    }
   ],
   "source": [
    "dup = vistas_y_postulaciones.duplicated(['idaviso', 'idpostulante'])\n",
    "vistas_y_postulaciones[dup].shape"
   ]
  },
  {
   "cell_type": "code",
   "execution_count": 15,
   "metadata": {},
   "outputs": [
    {
     "data": {
      "text/plain": [
       "(9560543, 15)"
      ]
     },
     "execution_count": 15,
     "metadata": {},
     "output_type": "execute_result"
    }
   ],
   "source": [
    "vistas_y_postulaciones.drop_duplicates(['idaviso', 'idpostulante'], inplace=True)\n",
    "vistas_y_postulaciones.shape"
   ]
  },
  {
   "cell_type": "code",
   "execution_count": 16,
   "metadata": {},
   "outputs": [],
   "source": [
    "vistas_y_postulaciones.to_csv('../data/adri_data/entrenamiento_postulaciones_vistas3.csv', encoding='utf-8', index=False)"
   ]
  },
  {
   "cell_type": "code",
   "execution_count": null,
   "metadata": {},
   "outputs": [],
   "source": [
    "vistas_y_postulaciones = pd.read_csv('../data/adri_data/entrenamiento_postulaciones_vistas3.csv', encoding='utf-8')"
   ]
  },
  {
   "cell_type": "code",
   "execution_count": null,
   "metadata": {},
   "outputs": [],
   "source": []
  },
  {
   "cell_type": "code",
   "execution_count": null,
   "metadata": {},
   "outputs": [],
   "source": []
  },
  {
   "cell_type": "code",
   "execution_count": null,
   "metadata": {},
   "outputs": [],
   "source": []
  },
  {
   "cell_type": "code",
   "execution_count": null,
   "metadata": {},
   "outputs": [],
   "source": []
  }
 ],
 "metadata": {
  "kernelspec": {
   "display_name": "Python 3",
   "language": "python",
   "name": "python3"
  },
  "language_info": {
   "codemirror_mode": {
    "name": "ipython",
    "version": 3
   },
   "file_extension": ".py",
   "mimetype": "text/x-python",
   "name": "python",
   "nbconvert_exporter": "python",
   "pygments_lexer": "ipython3",
   "version": "3.6.4"
  }
 },
 "nbformat": 4,
 "nbformat_minor": 2
}
