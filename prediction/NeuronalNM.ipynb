{
 "cells": [
  {
   "cell_type": "code",
   "execution_count": 1,
   "metadata": {
    "collapsed": true
   },
   "outputs": [],
   "source": [
    "import pandas as pd\n",
    "import numpy as np\n",
    "from sklearn import metrics\n",
    "from ipykernel import kernelapp as app"
   ]
  },
  {
   "cell_type": "code",
   "execution_count": 2,
   "metadata": {
    "collapsed": true
   },
   "outputs": [],
   "source": [
    "from sklearn.neural_network import MLPClassifier"
   ]
  },
  {
   "cell_type": "code",
   "execution_count": 3,
   "metadata": {
    "collapsed": true
   },
   "outputs": [],
   "source": [
    "from sklearn.model_selection import train_test_split\n",
    "from sklearn.metrics import accuracy_score"
   ]
  },
  {
   "cell_type": "code",
   "execution_count": 4,
   "metadata": {
    "collapsed": false
   },
   "outputs": [
    {
     "data": {
      "text/html": [
       "<div>\n",
       "<style scoped>\n",
       "    .dataframe tbody tr th:only-of-type {\n",
       "        vertical-align: middle;\n",
       "    }\n",
       "\n",
       "    .dataframe tbody tr th {\n",
       "        vertical-align: top;\n",
       "    }\n",
       "\n",
       "    .dataframe thead th {\n",
       "        text-align: right;\n",
       "    }\n",
       "</style>\n",
       "<table border=\"1\" class=\"dataframe\">\n",
       "  <thead>\n",
       "    <tr style=\"text-align: right;\">\n",
       "      <th></th>\n",
       "      <th>idaviso</th>\n",
       "      <th>idpostulante</th>\n",
       "      <th>timestamp</th>\n",
       "      <th>valor_educacion</th>\n",
       "      <th>sexo</th>\n",
       "      <th>idtitulo</th>\n",
       "      <th>idzona</th>\n",
       "      <th>idciudad</th>\n",
       "      <th>idmapacalle</th>\n",
       "      <th>idtipo_de_trabajo</th>\n",
       "      <th>idnivel_laboral</th>\n",
       "      <th>idnombre_area</th>\n",
       "      <th>iddenominacion_empresa</th>\n",
       "      <th>se_postulo</th>\n",
       "    </tr>\n",
       "  </thead>\n",
       "  <tbody>\n",
       "    <tr>\n",
       "      <th>0</th>\n",
       "      <td>1111556097</td>\n",
       "      <td>365446</td>\n",
       "      <td>7.038007e+06</td>\n",
       "      <td>17</td>\n",
       "      <td>1</td>\n",
       "      <td>0</td>\n",
       "      <td>0</td>\n",
       "      <td>0</td>\n",
       "      <td>0</td>\n",
       "      <td>0</td>\n",
       "      <td>0</td>\n",
       "      <td>0</td>\n",
       "      <td>0</td>\n",
       "      <td>1</td>\n",
       "    </tr>\n",
       "    <tr>\n",
       "      <th>1</th>\n",
       "      <td>1112370711</td>\n",
       "      <td>365446</td>\n",
       "      <td>7.476885e+06</td>\n",
       "      <td>17</td>\n",
       "      <td>1</td>\n",
       "      <td>6996</td>\n",
       "      <td>0</td>\n",
       "      <td>0</td>\n",
       "      <td>0</td>\n",
       "      <td>0</td>\n",
       "      <td>0</td>\n",
       "      <td>45</td>\n",
       "      <td>14</td>\n",
       "      <td>1</td>\n",
       "    </tr>\n",
       "    <tr>\n",
       "      <th>2</th>\n",
       "      <td>1112326655</td>\n",
       "      <td>365446</td>\n",
       "      <td>9.809277e+06</td>\n",
       "      <td>17</td>\n",
       "      <td>1</td>\n",
       "      <td>11827</td>\n",
       "      <td>0</td>\n",
       "      <td>0</td>\n",
       "      <td>0</td>\n",
       "      <td>0</td>\n",
       "      <td>0</td>\n",
       "      <td>4</td>\n",
       "      <td>33</td>\n",
       "      <td>1</td>\n",
       "    </tr>\n",
       "    <tr>\n",
       "      <th>3</th>\n",
       "      <td>1112350182</td>\n",
       "      <td>365446</td>\n",
       "      <td>8.856385e+06</td>\n",
       "      <td>17</td>\n",
       "      <td>1</td>\n",
       "      <td>2141</td>\n",
       "      <td>0</td>\n",
       "      <td>0</td>\n",
       "      <td>0</td>\n",
       "      <td>0</td>\n",
       "      <td>0</td>\n",
       "      <td>31</td>\n",
       "      <td>38</td>\n",
       "      <td>1</td>\n",
       "    </tr>\n",
       "    <tr>\n",
       "      <th>4</th>\n",
       "      <td>1112383837</td>\n",
       "      <td>365446</td>\n",
       "      <td>7.563903e+06</td>\n",
       "      <td>17</td>\n",
       "      <td>1</td>\n",
       "      <td>6942</td>\n",
       "      <td>0</td>\n",
       "      <td>0</td>\n",
       "      <td>0</td>\n",
       "      <td>0</td>\n",
       "      <td>0</td>\n",
       "      <td>75</td>\n",
       "      <td>46</td>\n",
       "      <td>1</td>\n",
       "    </tr>\n",
       "  </tbody>\n",
       "</table>\n",
       "</div>"
      ],
      "text/plain": [
       "      idaviso  idpostulante     timestamp  valor_educacion  sexo  idtitulo  \\\n",
       "0  1111556097        365446  7.038007e+06               17     1         0   \n",
       "1  1112370711        365446  7.476885e+06               17     1      6996   \n",
       "2  1112326655        365446  9.809277e+06               17     1     11827   \n",
       "3  1112350182        365446  8.856385e+06               17     1      2141   \n",
       "4  1112383837        365446  7.563903e+06               17     1      6942   \n",
       "\n",
       "   idzona  idciudad  idmapacalle  idtipo_de_trabajo  idnivel_laboral  \\\n",
       "0       0         0            0                  0                0   \n",
       "1       0         0            0                  0                0   \n",
       "2       0         0            0                  0                0   \n",
       "3       0         0            0                  0                0   \n",
       "4       0         0            0                  0                0   \n",
       "\n",
       "   idnombre_area  iddenominacion_empresa  se_postulo  \n",
       "0              0                       0           1  \n",
       "1             45                      14           1  \n",
       "2              4                      33           1  \n",
       "3             31                      38           1  \n",
       "4             75                      46           1  "
      ]
     },
     "execution_count": 4,
     "metadata": {},
     "output_type": "execute_result"
    }
   ],
   "source": [
    "df = pd.read_csv('../data/final_data/entrenamiento_postulaciones_vistas4.csv', encoding='utf-8')\n",
    "df.head()"
   ]
  },
  {
   "cell_type": "code",
   "execution_count": 5,
   "metadata": {
    "collapsed": false
   },
   "outputs": [
    {
     "name": "stderr",
     "output_type": "stream",
     "text": [
      "/home/prp-admin/anaconda3/lib/python3.6/site-packages/ipykernel/__main__.py:2: DeprecationWarning: \n",
      ".ix is deprecated. Please use\n",
      ".loc for label based indexing or\n",
      ".iloc for positional indexing\n",
      "\n",
      "See the documentation here:\n",
      "http://pandas.pydata.org/pandas-docs/stable/indexing.html#ix-indexer-is-deprecated\n",
      "  from ipykernel import kernelapp as app\n"
     ]
    }
   ],
   "source": [
    "# X will have the numeric data, Y will have the target class\n",
    "dfix = df.ix[:, 0:13];\n",
    "X = np.array(dfix)\n",
    "y = np.array(df['se_postulo']) "
   ]
  },
  {
   "cell_type": "code",
   "execution_count": 6,
   "metadata": {
    "collapsed": false
   },
   "outputs": [
    {
     "data": {
      "text/plain": [
       "array([[1.11241876e+09, 2.56340000e+04, 4.17343225e+06, ...,\n",
       "        0.00000000e+00, 7.60000000e+01, 1.00000000e+01],\n",
       "       [1.11234254e+09, 1.24354000e+05, 8.95024431e+06, ...,\n",
       "        0.00000000e+00, 1.30000000e+01, 1.79200000e+03],\n",
       "       [1.11227764e+09, 2.26590000e+05, 1.04896253e+07, ...,\n",
       "        2.00000000e+00, 4.70000000e+01, 4.38000000e+02],\n",
       "       ...,\n",
       "       [1.11237865e+09, 1.52443000e+05, 7.56528031e+06, ...,\n",
       "        0.00000000e+00, 4.00000000e+00, 6.14000000e+02],\n",
       "       [1.11219014e+09, 1.04065000e+05, 1.13564083e+07, ...,\n",
       "        0.00000000e+00, 6.00000000e+00, 2.10000000e+01],\n",
       "       [1.11231222e+09, 2.06854000e+05, 1.00026573e+07, ...,\n",
       "        0.00000000e+00, 0.00000000e+00, 4.60000000e+01]])"
      ]
     },
     "execution_count": 6,
     "metadata": {},
     "output_type": "execute_result"
    }
   ],
   "source": [
    "# Split into train and test, use only 10% as test (15 flowers)\n",
    "X_train, X_test, y_train, y_test = train_test_split(X, y, test_size=0.10, random_state=7506)\n",
    "X_test"
   ]
  },
  {
   "cell_type": "code",
   "execution_count": 19,
   "metadata": {
    "collapsed": false
   },
   "outputs": [
    {
     "data": {
      "text/plain": [
       "MLPClassifier(activation='relu', alpha=0.0001, batch_size='auto', beta_1=0.9,\n",
       "       beta_2=0.999, early_stopping=False, epsilon=1e-08,\n",
       "       hidden_layer_sizes=(100,), learning_rate='constant',\n",
       "       learning_rate_init=0.001, max_iter=200, momentum=0.9,\n",
       "       nesterovs_momentum=True, power_t=0.5, random_state=None,\n",
       "       shuffle=True, solver='adam', tol=0.0001, validation_fraction=0.1,\n",
       "       verbose=False, warm_start=False)"
      ]
     },
     "execution_count": 19,
     "metadata": {},
     "output_type": "execute_result"
    }
   ],
   "source": [
    "clf = MLPClassifier()\n",
    "clf.fit(X_train, y_train)"
   ]
  },
  {
   "cell_type": "code",
   "execution_count": 20,
   "metadata": {
    "collapsed": true
   },
   "outputs": [],
   "source": [
    "pred = clf.predict(X_test)"
   ]
  },
  {
   "cell_type": "code",
   "execution_count": 21,
   "metadata": {
    "collapsed": false
   },
   "outputs": [
    {
     "name": "stdout",
     "output_type": "stream",
     "text": [
      "0.8080340566180816\n"
     ]
    }
   ],
   "source": [
    "print (accuracy_score(y_test, pred))"
   ]
  },
  {
   "cell_type": "code",
   "execution_count": 22,
   "metadata": {
    "collapsed": false
   },
   "outputs": [
    {
     "data": {
      "text/plain": [
       "(956055,)"
      ]
     },
     "execution_count": 22,
     "metadata": {},
     "output_type": "execute_result"
    }
   ],
   "source": [
    "pred.shape"
   ]
  },
  {
   "cell_type": "code",
   "execution_count": 23,
   "metadata": {
    "collapsed": false
   },
   "outputs": [
    {
     "data": {
      "text/plain": [
       "array([[1.11155610e+09, 3.65446000e+05, 7.03800731e+06, ...,\n",
       "        0.00000000e+00, 0.00000000e+00, 0.00000000e+00],\n",
       "       [1.11237071e+09, 3.65446000e+05, 7.47688531e+06, ...,\n",
       "        0.00000000e+00, 4.50000000e+01, 1.40000000e+01],\n",
       "       [1.11232666e+09, 3.65446000e+05, 9.80927731e+06, ...,\n",
       "        0.00000000e+00, 4.00000000e+00, 3.30000000e+01],\n",
       "       ...,\n",
       "       [1.11160188e+09, 3.23892000e+05, 8.13147410e+06, ...,\n",
       "        0.00000000e+00, 6.00000000e+00, 7.10000000e+01],\n",
       "       [1.11131998e+09, 3.99727000e+05, 8.12986248e+06, ...,\n",
       "        0.00000000e+00, 3.00000000e+00, 3.29000000e+02],\n",
       "       [1.11208492e+09, 1.20330000e+05, 8.12629305e+06, ...,\n",
       "        0.00000000e+00, 1.40000000e+01, 1.85000000e+03]])"
      ]
     },
     "execution_count": 23,
     "metadata": {},
     "output_type": "execute_result"
    }
   ],
   "source": [
    "X_full_data = np.array(dfix)\n",
    "X_full_data"
   ]
  },
  {
   "cell_type": "code",
   "execution_count": 24,
   "metadata": {
    "collapsed": true
   },
   "outputs": [],
   "source": [
    "pred_full_data = clf.predict(X_full_data)"
   ]
  },
  {
   "cell_type": "code",
   "execution_count": 25,
   "metadata": {
    "collapsed": false
   },
   "outputs": [
    {
     "data": {
      "text/html": [
       "<div>\n",
       "<style scoped>\n",
       "    .dataframe tbody tr th:only-of-type {\n",
       "        vertical-align: middle;\n",
       "    }\n",
       "\n",
       "    .dataframe tbody tr th {\n",
       "        vertical-align: top;\n",
       "    }\n",
       "\n",
       "    .dataframe thead th {\n",
       "        text-align: right;\n",
       "    }\n",
       "</style>\n",
       "<table border=\"1\" class=\"dataframe\">\n",
       "  <thead>\n",
       "    <tr style=\"text-align: right;\">\n",
       "      <th></th>\n",
       "      <th>idaviso</th>\n",
       "      <th>idpostulante</th>\n",
       "      <th>timestamp</th>\n",
       "      <th>valor_educacion</th>\n",
       "      <th>sexo</th>\n",
       "      <th>idtitulo</th>\n",
       "      <th>idzona</th>\n",
       "      <th>idciudad</th>\n",
       "      <th>idmapacalle</th>\n",
       "      <th>idtipo_de_trabajo</th>\n",
       "      <th>idnivel_laboral</th>\n",
       "      <th>idnombre_area</th>\n",
       "      <th>iddenominacion_empresa</th>\n",
       "      <th>se_postulo</th>\n",
       "      <th>sepostulo</th>\n",
       "    </tr>\n",
       "  </thead>\n",
       "  <tbody>\n",
       "    <tr>\n",
       "      <th>0</th>\n",
       "      <td>1111556097</td>\n",
       "      <td>365446</td>\n",
       "      <td>7.038007e+06</td>\n",
       "      <td>17</td>\n",
       "      <td>1</td>\n",
       "      <td>0</td>\n",
       "      <td>0</td>\n",
       "      <td>0</td>\n",
       "      <td>0</td>\n",
       "      <td>0</td>\n",
       "      <td>0</td>\n",
       "      <td>0</td>\n",
       "      <td>0</td>\n",
       "      <td>1</td>\n",
       "      <td>1</td>\n",
       "    </tr>\n",
       "    <tr>\n",
       "      <th>1</th>\n",
       "      <td>1112370711</td>\n",
       "      <td>365446</td>\n",
       "      <td>7.476885e+06</td>\n",
       "      <td>17</td>\n",
       "      <td>1</td>\n",
       "      <td>6996</td>\n",
       "      <td>0</td>\n",
       "      <td>0</td>\n",
       "      <td>0</td>\n",
       "      <td>0</td>\n",
       "      <td>0</td>\n",
       "      <td>45</td>\n",
       "      <td>14</td>\n",
       "      <td>1</td>\n",
       "      <td>1</td>\n",
       "    </tr>\n",
       "    <tr>\n",
       "      <th>2</th>\n",
       "      <td>1112326655</td>\n",
       "      <td>365446</td>\n",
       "      <td>9.809277e+06</td>\n",
       "      <td>17</td>\n",
       "      <td>1</td>\n",
       "      <td>11827</td>\n",
       "      <td>0</td>\n",
       "      <td>0</td>\n",
       "      <td>0</td>\n",
       "      <td>0</td>\n",
       "      <td>0</td>\n",
       "      <td>4</td>\n",
       "      <td>33</td>\n",
       "      <td>1</td>\n",
       "      <td>1</td>\n",
       "    </tr>\n",
       "    <tr>\n",
       "      <th>3</th>\n",
       "      <td>1112350182</td>\n",
       "      <td>365446</td>\n",
       "      <td>8.856385e+06</td>\n",
       "      <td>17</td>\n",
       "      <td>1</td>\n",
       "      <td>2141</td>\n",
       "      <td>0</td>\n",
       "      <td>0</td>\n",
       "      <td>0</td>\n",
       "      <td>0</td>\n",
       "      <td>0</td>\n",
       "      <td>31</td>\n",
       "      <td>38</td>\n",
       "      <td>1</td>\n",
       "      <td>1</td>\n",
       "    </tr>\n",
       "    <tr>\n",
       "      <th>4</th>\n",
       "      <td>1112383837</td>\n",
       "      <td>365446</td>\n",
       "      <td>7.563903e+06</td>\n",
       "      <td>17</td>\n",
       "      <td>1</td>\n",
       "      <td>6942</td>\n",
       "      <td>0</td>\n",
       "      <td>0</td>\n",
       "      <td>0</td>\n",
       "      <td>0</td>\n",
       "      <td>0</td>\n",
       "      <td>75</td>\n",
       "      <td>46</td>\n",
       "      <td>1</td>\n",
       "      <td>1</td>\n",
       "    </tr>\n",
       "  </tbody>\n",
       "</table>\n",
       "</div>"
      ],
      "text/plain": [
       "      idaviso  idpostulante     timestamp  valor_educacion  sexo  idtitulo  \\\n",
       "0  1111556097        365446  7.038007e+06               17     1         0   \n",
       "1  1112370711        365446  7.476885e+06               17     1      6996   \n",
       "2  1112326655        365446  9.809277e+06               17     1     11827   \n",
       "3  1112350182        365446  8.856385e+06               17     1      2141   \n",
       "4  1112383837        365446  7.563903e+06               17     1      6942   \n",
       "\n",
       "   idzona  idciudad  idmapacalle  idtipo_de_trabajo  idnivel_laboral  \\\n",
       "0       0         0            0                  0                0   \n",
       "1       0         0            0                  0                0   \n",
       "2       0         0            0                  0                0   \n",
       "3       0         0            0                  0                0   \n",
       "4       0         0            0                  0                0   \n",
       "\n",
       "   idnombre_area  iddenominacion_empresa  se_postulo  sepostulo  \n",
       "0              0                       0           1          1  \n",
       "1             45                      14           1          1  \n",
       "2              4                      33           1          1  \n",
       "3             31                      38           1          1  \n",
       "4             75                      46           1          1  "
      ]
     },
     "execution_count": 25,
     "metadata": {},
     "output_type": "execute_result"
    }
   ],
   "source": [
    "df['sepostulo'] = pred_full_data\n",
    "df.head()"
   ]
  },
  {
   "cell_type": "markdown",
   "metadata": {},
   "source": [
    "## Subida "
   ]
  },
  {
   "cell_type": "code",
   "execution_count": 26,
   "metadata": {
    "collapsed": true
   },
   "outputs": [],
   "source": [
    "top100 = pd.read_csv(\"../test_final_100k.csv\", encoding='utf-8')"
   ]
  },
  {
   "cell_type": "code",
   "execution_count": 27,
   "metadata": {
    "collapsed": false
   },
   "outputs": [
    {
     "data": {
      "text/html": [
       "<div>\n",
       "<style scoped>\n",
       "    .dataframe tbody tr th:only-of-type {\n",
       "        vertical-align: middle;\n",
       "    }\n",
       "\n",
       "    .dataframe tbody tr th {\n",
       "        vertical-align: top;\n",
       "    }\n",
       "\n",
       "    .dataframe thead th {\n",
       "        text-align: right;\n",
       "    }\n",
       "</style>\n",
       "<table border=\"1\" class=\"dataframe\">\n",
       "  <thead>\n",
       "    <tr style=\"text-align: right;\">\n",
       "      <th></th>\n",
       "      <th>idpostulante</th>\n",
       "      <th>idpostulante2</th>\n",
       "    </tr>\n",
       "  </thead>\n",
       "  <tbody>\n",
       "    <tr>\n",
       "      <th>0</th>\n",
       "      <td>pzeVW63</td>\n",
       "      <td>365446</td>\n",
       "    </tr>\n",
       "    <tr>\n",
       "      <th>1</th>\n",
       "      <td>PmVbBWY</td>\n",
       "      <td>209736</td>\n",
       "    </tr>\n",
       "    <tr>\n",
       "      <th>2</th>\n",
       "      <td>zvPMxvJ</td>\n",
       "      <td>409297</td>\n",
       "    </tr>\n",
       "    <tr>\n",
       "      <th>3</th>\n",
       "      <td>YYwJKq</td>\n",
       "      <td>250105</td>\n",
       "    </tr>\n",
       "    <tr>\n",
       "      <th>4</th>\n",
       "      <td>3NkMAVq</td>\n",
       "      <td>37024</td>\n",
       "    </tr>\n",
       "  </tbody>\n",
       "</table>\n",
       "</div>"
      ],
      "text/plain": [
       "  idpostulante  idpostulante2\n",
       "0      pzeVW63         365446\n",
       "1      PmVbBWY         209736\n",
       "2      zvPMxvJ         409297\n",
       "3       YYwJKq         250105\n",
       "4      3NkMAVq          37024"
      ]
     },
     "execution_count": 27,
     "metadata": {},
     "output_type": "execute_result"
    }
   ],
   "source": [
    "id_postulantes = pd.read_csv('../data/final_data/entrenamiento_id_postulantes.csv', encoding='utf-8')\n",
    "id_postulantes.drop('Unnamed: 0', axis=1, inplace=True)\n",
    "id_postulantes.shape\n",
    "id_postulantes.head()"
   ]
  },
  {
   "cell_type": "code",
   "execution_count": 28,
   "metadata": {
    "collapsed": false
   },
   "outputs": [
    {
     "data": {
      "text/plain": [
       "(100000, 4)"
      ]
     },
     "execution_count": 28,
     "metadata": {},
     "output_type": "execute_result"
    }
   ],
   "source": [
    "top100_full = pd.merge(top100, id_postulantes, how='left', on='idpostulante')\n",
    "top100_full.shape"
   ]
  },
  {
   "cell_type": "code",
   "execution_count": 29,
   "metadata": {
    "collapsed": false
   },
   "outputs": [
    {
     "data": {
      "text/html": [
       "<div>\n",
       "<style scoped>\n",
       "    .dataframe tbody tr th:only-of-type {\n",
       "        vertical-align: middle;\n",
       "    }\n",
       "\n",
       "    .dataframe tbody tr th {\n",
       "        vertical-align: top;\n",
       "    }\n",
       "\n",
       "    .dataframe thead th {\n",
       "        text-align: right;\n",
       "    }\n",
       "</style>\n",
       "<table border=\"1\" class=\"dataframe\">\n",
       "  <thead>\n",
       "    <tr style=\"text-align: right;\">\n",
       "      <th></th>\n",
       "      <th>id</th>\n",
       "      <th>idaviso</th>\n",
       "      <th>idpostulante</th>\n",
       "    </tr>\n",
       "  </thead>\n",
       "  <tbody>\n",
       "    <tr>\n",
       "      <th>0</th>\n",
       "      <td>0</td>\n",
       "      <td>739260</td>\n",
       "      <td>63651.0</td>\n",
       "    </tr>\n",
       "    <tr>\n",
       "      <th>1</th>\n",
       "      <td>1</td>\n",
       "      <td>739260</td>\n",
       "      <td>76877.0</td>\n",
       "    </tr>\n",
       "    <tr>\n",
       "      <th>2</th>\n",
       "      <td>2</td>\n",
       "      <td>739260</td>\n",
       "      <td>323397.0</td>\n",
       "    </tr>\n",
       "    <tr>\n",
       "      <th>3</th>\n",
       "      <td>3</td>\n",
       "      <td>758580</td>\n",
       "      <td>NaN</td>\n",
       "    </tr>\n",
       "    <tr>\n",
       "      <th>4</th>\n",
       "      <td>4</td>\n",
       "      <td>758580</td>\n",
       "      <td>127342.0</td>\n",
       "    </tr>\n",
       "  </tbody>\n",
       "</table>\n",
       "</div>"
      ],
      "text/plain": [
       "   id  idaviso  idpostulante\n",
       "0   0   739260       63651.0\n",
       "1   1   739260       76877.0\n",
       "2   2   739260      323397.0\n",
       "3   3   758580           NaN\n",
       "4   4   758580      127342.0"
      ]
     },
     "execution_count": 29,
     "metadata": {},
     "output_type": "execute_result"
    }
   ],
   "source": [
    "top100_full.drop('idpostulante', inplace=True, axis=1)\n",
    "top100_full.rename({'idpostulante2':'idpostulante'}, inplace=True, axis=1)\n",
    "top100_full.head()"
   ]
  },
  {
   "cell_type": "code",
   "execution_count": 30,
   "metadata": {
    "collapsed": false
   },
   "outputs": [
    {
     "data": {
      "text/plain": [
       "(100000, 16)"
      ]
     },
     "execution_count": 30,
     "metadata": {},
     "output_type": "execute_result"
    }
   ],
   "source": [
    "top100_full = pd.merge(top100_full, df, how='left', on=['idaviso','idpostulante'])\n",
    "top100_full.shape"
   ]
  },
  {
   "cell_type": "code",
   "execution_count": 31,
   "metadata": {
    "collapsed": false
   },
   "outputs": [
    {
     "data": {
      "text/html": [
       "<div>\n",
       "<style scoped>\n",
       "    .dataframe tbody tr th:only-of-type {\n",
       "        vertical-align: middle;\n",
       "    }\n",
       "\n",
       "    .dataframe tbody tr th {\n",
       "        vertical-align: top;\n",
       "    }\n",
       "\n",
       "    .dataframe thead th {\n",
       "        text-align: right;\n",
       "    }\n",
       "</style>\n",
       "<table border=\"1\" class=\"dataframe\">\n",
       "  <thead>\n",
       "    <tr style=\"text-align: right;\">\n",
       "      <th></th>\n",
       "      <th>id</th>\n",
       "      <th>se_postulo</th>\n",
       "      <th>sepostulo</th>\n",
       "    </tr>\n",
       "  </thead>\n",
       "  <tbody>\n",
       "    <tr>\n",
       "      <th>0</th>\n",
       "      <td>0</td>\n",
       "      <td>NaN</td>\n",
       "      <td>NaN</td>\n",
       "    </tr>\n",
       "    <tr>\n",
       "      <th>1</th>\n",
       "      <td>1</td>\n",
       "      <td>NaN</td>\n",
       "      <td>NaN</td>\n",
       "    </tr>\n",
       "    <tr>\n",
       "      <th>2</th>\n",
       "      <td>2</td>\n",
       "      <td>NaN</td>\n",
       "      <td>NaN</td>\n",
       "    </tr>\n",
       "    <tr>\n",
       "      <th>3</th>\n",
       "      <td>3</td>\n",
       "      <td>NaN</td>\n",
       "      <td>NaN</td>\n",
       "    </tr>\n",
       "    <tr>\n",
       "      <th>4</th>\n",
       "      <td>4</td>\n",
       "      <td>NaN</td>\n",
       "      <td>NaN</td>\n",
       "    </tr>\n",
       "  </tbody>\n",
       "</table>\n",
       "</div>"
      ],
      "text/plain": [
       "   id  se_postulo  sepostulo\n",
       "0   0         NaN        NaN\n",
       "1   1         NaN        NaN\n",
       "2   2         NaN        NaN\n",
       "3   3         NaN        NaN\n",
       "4   4         NaN        NaN"
      ]
     },
     "execution_count": 31,
     "metadata": {},
     "output_type": "execute_result"
    }
   ],
   "source": [
    "top100_full = top100_full[['id', 'se_postulo', 'sepostulo']]\n",
    "top100_full.head()"
   ]
  },
  {
   "cell_type": "code",
   "execution_count": 32,
   "metadata": {
    "collapsed": true
   },
   "outputs": [],
   "source": [
    "top100_full.fillna(0, inplace=True)"
   ]
  },
  {
   "cell_type": "code",
   "execution_count": 33,
   "metadata": {
    "collapsed": false
   },
   "outputs": [
    {
     "data": {
      "text/html": [
       "<div>\n",
       "<style scoped>\n",
       "    .dataframe tbody tr th:only-of-type {\n",
       "        vertical-align: middle;\n",
       "    }\n",
       "\n",
       "    .dataframe tbody tr th {\n",
       "        vertical-align: top;\n",
       "    }\n",
       "\n",
       "    .dataframe thead th {\n",
       "        text-align: right;\n",
       "    }\n",
       "</style>\n",
       "<table border=\"1\" class=\"dataframe\">\n",
       "  <thead>\n",
       "    <tr style=\"text-align: right;\">\n",
       "      <th></th>\n",
       "      <th>id</th>\n",
       "      <th>se_postulo</th>\n",
       "      <th>sepostulo</th>\n",
       "    </tr>\n",
       "  </thead>\n",
       "  <tbody>\n",
       "    <tr>\n",
       "      <th>0</th>\n",
       "      <td>0</td>\n",
       "      <td>0</td>\n",
       "      <td>0</td>\n",
       "    </tr>\n",
       "    <tr>\n",
       "      <th>1</th>\n",
       "      <td>1</td>\n",
       "      <td>0</td>\n",
       "      <td>0</td>\n",
       "    </tr>\n",
       "    <tr>\n",
       "      <th>2</th>\n",
       "      <td>2</td>\n",
       "      <td>0</td>\n",
       "      <td>0</td>\n",
       "    </tr>\n",
       "    <tr>\n",
       "      <th>3</th>\n",
       "      <td>3</td>\n",
       "      <td>0</td>\n",
       "      <td>0</td>\n",
       "    </tr>\n",
       "    <tr>\n",
       "      <th>4</th>\n",
       "      <td>4</td>\n",
       "      <td>0</td>\n",
       "      <td>0</td>\n",
       "    </tr>\n",
       "  </tbody>\n",
       "</table>\n",
       "</div>"
      ],
      "text/plain": [
       "   id  se_postulo  sepostulo\n",
       "0   0           0          0\n",
       "1   1           0          0\n",
       "2   2           0          0\n",
       "3   3           0          0\n",
       "4   4           0          0"
      ]
     },
     "execution_count": 33,
     "metadata": {},
     "output_type": "execute_result"
    }
   ],
   "source": [
    "top100_full['se_postulo'] = top100_full['se_postulo'].astype('int')\n",
    "top100_full['sepostulo'] = top100_full['sepostulo'].astype('int')\n",
    "top100_full.head()"
   ]
  },
  {
   "cell_type": "code",
   "execution_count": 34,
   "metadata": {
    "collapsed": false
   },
   "outputs": [
    {
     "data": {
      "text/plain": [
       "Series([], Name: sepostulo, dtype: int64)"
      ]
     },
     "execution_count": 34,
     "metadata": {},
     "output_type": "execute_result"
    }
   ],
   "source": [
    "top100_full.loc[(top100_full['sepostulo'] == 0) & (top100_full['se_postulo'] == 1), 'sepostulo'] = 1\n",
    "top100_full[(top100_full['sepostulo'] == 0) & (top100_full['se_postulo'] == 1)]['sepostulo']"
   ]
  },
  {
   "cell_type": "code",
   "execution_count": 35,
   "metadata": {
    "collapsed": true
   },
   "outputs": [],
   "source": [
    "top100_full.drop('se_postulo', axis=1, inplace=True)"
   ]
  },
  {
   "cell_type": "code",
   "execution_count": 36,
   "metadata": {
    "collapsed": false
   },
   "outputs": [
    {
     "data": {
      "text/plain": [
       "(36174, 2)"
      ]
     },
     "execution_count": 36,
     "metadata": {},
     "output_type": "execute_result"
    }
   ],
   "source": [
    "top100_full[top100_full['sepostulo'] == 1].shape"
   ]
  },
  {
   "cell_type": "code",
   "execution_count": 37,
   "metadata": {
    "collapsed": true
   },
   "outputs": [],
   "source": [
    "# top100_full.rename({'se_postulo' : 'sepostulo'}, inplace=True, axis=1)\n",
    "top100_full.to_csv('../data/entrega/top100k_neuronalnm.csv', encoding='utf-8', index=False)"
   ]
  },
  {
   "cell_type": "code",
   "execution_count": null,
   "metadata": {
    "collapsed": true
   },
   "outputs": [],
   "source": []
  }
 ],
 "metadata": {
  "kernelspec": {
   "display_name": "Python 3",
   "language": "python",
   "name": "python3"
  },
  "language_info": {
   "codemirror_mode": {
    "name": "ipython",
    "version": 3
   },
   "file_extension": ".py",
   "mimetype": "text/x-python",
   "name": "python",
   "nbconvert_exporter": "python",
   "pygments_lexer": "ipython3",
   "version": "3.6.3"
  }
 },
 "nbformat": 4,
 "nbformat_minor": 2
}
