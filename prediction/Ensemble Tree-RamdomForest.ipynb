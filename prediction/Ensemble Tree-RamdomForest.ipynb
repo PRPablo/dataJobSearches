{
 "cells": [
  {
   "cell_type": "code",
   "execution_count": 1,
   "metadata": {
    "collapsed": true
   },
   "outputs": [],
   "source": [
    "import pandas as pd\n",
    "import numpy as np\n",
    "from sklearn import linear_model\n",
    "from sklearn import model_selection\n",
    "from sklearn import metrics\n",
    "from sklearn.model_selection import train_test_split\n",
    "from sklearn.decomposition import PCA\n",
    "from sklearn.ensemble import VotingClassifier\n",
    "from sklearn.metrics import accuracy_score\n",
    "from sklearn import preprocessing\n",
    "from sklearn import tree\n",
    "from sklearn.ensemble import RandomForestClassifier"
   ]
  },
  {
   "cell_type": "code",
   "execution_count": 2,
   "metadata": {
    "collapsed": false
   },
   "outputs": [
    {
     "data": {
      "text/html": [
       "<div>\n",
       "<style scoped>\n",
       "    .dataframe tbody tr th:only-of-type {\n",
       "        vertical-align: middle;\n",
       "    }\n",
       "\n",
       "    .dataframe tbody tr th {\n",
       "        vertical-align: top;\n",
       "    }\n",
       "\n",
       "    .dataframe thead th {\n",
       "        text-align: right;\n",
       "    }\n",
       "</style>\n",
       "<table border=\"1\" class=\"dataframe\">\n",
       "  <thead>\n",
       "    <tr style=\"text-align: right;\">\n",
       "      <th></th>\n",
       "      <th>idaviso</th>\n",
       "      <th>esta_online</th>\n",
       "      <th>titulo</th>\n",
       "      <th>descripcion</th>\n",
       "      <th>idzona</th>\n",
       "      <th>idciudad</th>\n",
       "      <th>idmapacalle</th>\n",
       "      <th>idtipo_de_trabajo</th>\n",
       "      <th>idnivel_laboral</th>\n",
       "      <th>idnombre_area</th>\n",
       "      <th>...</th>\n",
       "      <th>idpostulante</th>\n",
       "      <th>timestamp</th>\n",
       "      <th>valor_educacion</th>\n",
       "      <th>sexo</th>\n",
       "      <th>edad</th>\n",
       "      <th>idnombre_area_pref</th>\n",
       "      <th>idnivel_laboral_pref</th>\n",
       "      <th>idtipo_de_trabajo_pref</th>\n",
       "      <th>se_postulo</th>\n",
       "      <th>idpostulante_int</th>\n",
       "    </tr>\n",
       "  </thead>\n",
       "  <tbody>\n",
       "    <tr>\n",
       "      <th>0</th>\n",
       "      <td>1112243448</td>\n",
       "      <td>1</td>\n",
       "      <td>8589934592</td>\n",
       "      <td>4120231825783194672</td>\n",
       "      <td>0</td>\n",
       "      <td>0</td>\n",
       "      <td>0</td>\n",
       "      <td>1</td>\n",
       "      <td>1</td>\n",
       "      <td>182</td>\n",
       "      <td>...</td>\n",
       "      <td>VNk0vZl</td>\n",
       "      <td>5.568174e+06</td>\n",
       "      <td>6</td>\n",
       "      <td>2</td>\n",
       "      <td>37</td>\n",
       "      <td>5</td>\n",
       "      <td>0</td>\n",
       "      <td>0</td>\n",
       "      <td>0</td>\n",
       "      <td>253283</td>\n",
       "    </tr>\n",
       "    <tr>\n",
       "      <th>1</th>\n",
       "      <td>1112394752</td>\n",
       "      <td>0</td>\n",
       "      <td>1297036692686962688</td>\n",
       "      <td>4697431300652990536</td>\n",
       "      <td>0</td>\n",
       "      <td>0</td>\n",
       "      <td>0</td>\n",
       "      <td>0</td>\n",
       "      <td>0</td>\n",
       "      <td>2</td>\n",
       "      <td>...</td>\n",
       "      <td>4rdpPbz</td>\n",
       "      <td>6.248119e+06</td>\n",
       "      <td>10</td>\n",
       "      <td>2</td>\n",
       "      <td>27</td>\n",
       "      <td>2</td>\n",
       "      <td>0</td>\n",
       "      <td>0</td>\n",
       "      <td>1</td>\n",
       "      <td>48538</td>\n",
       "    </tr>\n",
       "    <tr>\n",
       "      <th>2</th>\n",
       "      <td>1112272845</td>\n",
       "      <td>0</td>\n",
       "      <td>8796160131072</td>\n",
       "      <td>8070459336931147904</td>\n",
       "      <td>0</td>\n",
       "      <td>0</td>\n",
       "      <td>0</td>\n",
       "      <td>0</td>\n",
       "      <td>0</td>\n",
       "      <td>142</td>\n",
       "      <td>...</td>\n",
       "      <td>3NPVp2X</td>\n",
       "      <td>1.180622e+07</td>\n",
       "      <td>9</td>\n",
       "      <td>1</td>\n",
       "      <td>25</td>\n",
       "      <td>142</td>\n",
       "      <td>0</td>\n",
       "      <td>0</td>\n",
       "      <td>1</td>\n",
       "      <td>38241</td>\n",
       "    </tr>\n",
       "    <tr>\n",
       "      <th>3</th>\n",
       "      <td>1112247744</td>\n",
       "      <td>0</td>\n",
       "      <td>9086368454017024</td>\n",
       "      <td>8576121502083057184</td>\n",
       "      <td>0</td>\n",
       "      <td>0</td>\n",
       "      <td>0</td>\n",
       "      <td>0</td>\n",
       "      <td>3</td>\n",
       "      <td>142</td>\n",
       "      <td>...</td>\n",
       "      <td>VNJr1DD</td>\n",
       "      <td>1.229320e+07</td>\n",
       "      <td>6</td>\n",
       "      <td>2</td>\n",
       "      <td>26</td>\n",
       "      <td>142</td>\n",
       "      <td>0</td>\n",
       "      <td>0</td>\n",
       "      <td>1</td>\n",
       "      <td>251692</td>\n",
       "    </tr>\n",
       "    <tr>\n",
       "      <th>4</th>\n",
       "      <td>1112335465</td>\n",
       "      <td>1</td>\n",
       "      <td>8388608</td>\n",
       "      <td>8322943493810029184</td>\n",
       "      <td>0</td>\n",
       "      <td>0</td>\n",
       "      <td>0</td>\n",
       "      <td>0</td>\n",
       "      <td>0</td>\n",
       "      <td>4</td>\n",
       "      <td>...</td>\n",
       "      <td>MVODZbr</td>\n",
       "      <td>1.023259e+07</td>\n",
       "      <td>6</td>\n",
       "      <td>2</td>\n",
       "      <td>26</td>\n",
       "      <td>2</td>\n",
       "      <td>0</td>\n",
       "      <td>0</td>\n",
       "      <td>1</td>\n",
       "      <td>195525</td>\n",
       "    </tr>\n",
       "  </tbody>\n",
       "</table>\n",
       "<p>5 rows × 21 columns</p>\n",
       "</div>"
      ],
      "text/plain": [
       "      idaviso  esta_online               titulo          descripcion  idzona  \\\n",
       "0  1112243448            1           8589934592  4120231825783194672       0   \n",
       "1  1112394752            0  1297036692686962688  4697431300652990536       0   \n",
       "2  1112272845            0        8796160131072  8070459336931147904       0   \n",
       "3  1112247744            0     9086368454017024  8576121502083057184       0   \n",
       "4  1112335465            1              8388608  8322943493810029184       0   \n",
       "\n",
       "   idciudad  idmapacalle  idtipo_de_trabajo  idnivel_laboral  idnombre_area  \\\n",
       "0         0            0                  1                1            182   \n",
       "1         0            0                  0                0              2   \n",
       "2         0            0                  0                0            142   \n",
       "3         0            0                  0                3            142   \n",
       "4         0            0                  0                0              4   \n",
       "\n",
       "         ...         idpostulante     timestamp  valor_educacion  sexo  edad  \\\n",
       "0        ...              VNk0vZl  5.568174e+06                6     2    37   \n",
       "1        ...              4rdpPbz  6.248119e+06               10     2    27   \n",
       "2        ...              3NPVp2X  1.180622e+07                9     1    25   \n",
       "3        ...              VNJr1DD  1.229320e+07                6     2    26   \n",
       "4        ...              MVODZbr  1.023259e+07                6     2    26   \n",
       "\n",
       "   idnombre_area_pref  idnivel_laboral_pref  idtipo_de_trabajo_pref  \\\n",
       "0                   5                     0                       0   \n",
       "1                   2                     0                       0   \n",
       "2                 142                     0                       0   \n",
       "3                 142                     0                       0   \n",
       "4                   2                     0                       0   \n",
       "\n",
       "   se_postulo  idpostulante_int  \n",
       "0           0            253283  \n",
       "1           1             48538  \n",
       "2           1             38241  \n",
       "3           1            251692  \n",
       "4           1            195525  \n",
       "\n",
       "[5 rows x 21 columns]"
      ]
     },
     "execution_count": 2,
     "metadata": {},
     "output_type": "execute_result"
    }
   ],
   "source": [
    "df = pd.read_csv('../data/final_data/entrenamiento_postulaciones_vistas9.csv', encoding='utf-8')\n",
    "df.head()"
   ]
  },
  {
   "cell_type": "code",
   "execution_count": 3,
   "metadata": {
    "collapsed": false
   },
   "outputs": [
    {
     "data": {
      "text/plain": [
       "Index(['idaviso', 'esta_online', 'titulo', 'descripcion', 'idzona', 'idciudad',\n",
       "       'idmapacalle', 'idtipo_de_trabajo', 'idnivel_laboral', 'idnombre_area',\n",
       "       'iddenominacion_empresa', 'idpostulante', 'timestamp',\n",
       "       'valor_educacion', 'sexo', 'edad', 'idnombre_area_pref',\n",
       "       'idnivel_laboral_pref', 'idtipo_de_trabajo_pref', 'se_postulo',\n",
       "       'idpostulante_int'],\n",
       "      dtype='object')"
      ]
     },
     "execution_count": 3,
     "metadata": {},
     "output_type": "execute_result"
    }
   ],
   "source": [
    "df.columns"
   ]
  },
  {
   "cell_type": "code",
   "execution_count": 4,
   "metadata": {
    "collapsed": false
   },
   "outputs": [
    {
     "name": "stderr",
     "output_type": "stream",
     "text": [
      "/home/prp-admin/anaconda3/lib/python3.6/site-packages/ipykernel/__main__.py:2: SettingWithCopyWarning: \n",
      "A value is trying to be set on a copy of a slice from a DataFrame\n",
      "\n",
      "See the caveats in the documentation: http://pandas.pydata.org/pandas-docs/stable/indexing.html#indexing-view-versus-copy\n",
      "  from ipykernel import kernelapp as app\n"
     ]
    },
    {
     "data": {
      "text/plain": [
       "Index(['esta_online', 'titulo', 'descripcion', 'idzona', 'idciudad',\n",
       "       'idmapacalle', 'idtipo_de_trabajo', 'idnivel_laboral', 'idnombre_area',\n",
       "       'iddenominacion_empresa', 'timestamp', 'valor_educacion', 'sexo',\n",
       "       'edad', 'idnombre_area_pref', 'idnivel_laboral_pref',\n",
       "       'idtipo_de_trabajo_pref', 'idpostulante_int'],\n",
       "      dtype='object')"
      ]
     },
     "execution_count": 4,
     "metadata": {},
     "output_type": "execute_result"
    }
   ],
   "source": [
    "cols = df.head(0)\n",
    "cols.drop(['se_postulo', 'idaviso', 'idpostulante'],inplace=True, axis=1)\n",
    "cols = cols.columns\n",
    "cols"
   ]
  },
  {
   "cell_type": "code",
   "execution_count": 5,
   "metadata": {
    "collapsed": false
   },
   "outputs": [],
   "source": [
    "mintimestamp = df['timestamp'].min()\n",
    "df['timestamp'] = df['timestamp']-mintimestamp\n",
    "mintimestamp = df['idpostulante_int'].min()\n",
    "df['idpostulante_int'] = df['idpostulante_int']-mintimestamp"
   ]
  },
  {
   "cell_type": "code",
   "execution_count": 6,
   "metadata": {
    "collapsed": false
   },
   "outputs": [
    {
     "data": {
      "text/html": [
       "<div>\n",
       "<style scoped>\n",
       "    .dataframe tbody tr th:only-of-type {\n",
       "        vertical-align: middle;\n",
       "    }\n",
       "\n",
       "    .dataframe tbody tr th {\n",
       "        vertical-align: top;\n",
       "    }\n",
       "\n",
       "    .dataframe thead th {\n",
       "        text-align: right;\n",
       "    }\n",
       "</style>\n",
       "<table border=\"1\" class=\"dataframe\">\n",
       "  <thead>\n",
       "    <tr style=\"text-align: right;\">\n",
       "      <th></th>\n",
       "      <th>0</th>\n",
       "      <th>1</th>\n",
       "      <th>2</th>\n",
       "      <th>3</th>\n",
       "      <th>4</th>\n",
       "      <th>5</th>\n",
       "      <th>6</th>\n",
       "      <th>7</th>\n",
       "      <th>8</th>\n",
       "      <th>9</th>\n",
       "      <th>10</th>\n",
       "      <th>11</th>\n",
       "      <th>12</th>\n",
       "      <th>13</th>\n",
       "      <th>14</th>\n",
       "      <th>15</th>\n",
       "      <th>16</th>\n",
       "      <th>17</th>\n",
       "    </tr>\n",
       "  </thead>\n",
       "  <tbody>\n",
       "    <tr>\n",
       "      <th>0</th>\n",
       "      <td>1.0</td>\n",
       "      <td>1.180279e-09</td>\n",
       "      <td>0.446726</td>\n",
       "      <td>0.0</td>\n",
       "      <td>0.0</td>\n",
       "      <td>0.0</td>\n",
       "      <td>0.111111</td>\n",
       "      <td>0.2</td>\n",
       "      <td>0.989130</td>\n",
       "      <td>0.191514</td>\n",
       "      <td>0.193818</td>\n",
       "      <td>0.318182</td>\n",
       "      <td>1.000000</td>\n",
       "      <td>0.152893</td>\n",
       "      <td>0.032432</td>\n",
       "      <td>0.166667</td>\n",
       "      <td>0.111111</td>\n",
       "      <td>0.548328</td>\n",
       "    </tr>\n",
       "    <tr>\n",
       "      <th>1</th>\n",
       "      <td>0.0</td>\n",
       "      <td>1.782161e-01</td>\n",
       "      <td>0.509307</td>\n",
       "      <td>0.0</td>\n",
       "      <td>0.0</td>\n",
       "      <td>0.0</td>\n",
       "      <td>0.000000</td>\n",
       "      <td>0.0</td>\n",
       "      <td>0.010870</td>\n",
       "      <td>0.257361</td>\n",
       "      <td>0.267944</td>\n",
       "      <td>0.500000</td>\n",
       "      <td>1.000000</td>\n",
       "      <td>0.111570</td>\n",
       "      <td>0.016216</td>\n",
       "      <td>0.166667</td>\n",
       "      <td>0.111111</td>\n",
       "      <td>0.105079</td>\n",
       "    </tr>\n",
       "    <tr>\n",
       "      <th>2</th>\n",
       "      <td>0.0</td>\n",
       "      <td>1.208614e-06</td>\n",
       "      <td>0.875020</td>\n",
       "      <td>0.0</td>\n",
       "      <td>0.0</td>\n",
       "      <td>0.0</td>\n",
       "      <td>0.000000</td>\n",
       "      <td>0.0</td>\n",
       "      <td>0.771739</td>\n",
       "      <td>0.072339</td>\n",
       "      <td>0.873877</td>\n",
       "      <td>0.454545</td>\n",
       "      <td>0.666667</td>\n",
       "      <td>0.103306</td>\n",
       "      <td>0.772973</td>\n",
       "      <td>0.166667</td>\n",
       "      <td>0.111111</td>\n",
       "      <td>0.082787</td>\n",
       "    </tr>\n",
       "    <tr>\n",
       "      <th>3</th>\n",
       "      <td>0.0</td>\n",
       "      <td>1.248490e-03</td>\n",
       "      <td>0.929845</td>\n",
       "      <td>0.0</td>\n",
       "      <td>0.0</td>\n",
       "      <td>0.0</td>\n",
       "      <td>0.000000</td>\n",
       "      <td>0.6</td>\n",
       "      <td>0.771739</td>\n",
       "      <td>0.002550</td>\n",
       "      <td>0.926967</td>\n",
       "      <td>0.318182</td>\n",
       "      <td>1.000000</td>\n",
       "      <td>0.107438</td>\n",
       "      <td>0.772973</td>\n",
       "      <td>0.166667</td>\n",
       "      <td>0.111111</td>\n",
       "      <td>0.544883</td>\n",
       "    </tr>\n",
       "    <tr>\n",
       "      <th>4</th>\n",
       "      <td>1.0</td>\n",
       "      <td>1.152616e-12</td>\n",
       "      <td>0.902395</td>\n",
       "      <td>0.0</td>\n",
       "      <td>0.0</td>\n",
       "      <td>0.0</td>\n",
       "      <td>0.000000</td>\n",
       "      <td>0.0</td>\n",
       "      <td>0.021739</td>\n",
       "      <td>0.004173</td>\n",
       "      <td>0.702324</td>\n",
       "      <td>0.318182</td>\n",
       "      <td>1.000000</td>\n",
       "      <td>0.107438</td>\n",
       "      <td>0.016216</td>\n",
       "      <td>0.166667</td>\n",
       "      <td>0.111111</td>\n",
       "      <td>0.423288</td>\n",
       "    </tr>\n",
       "  </tbody>\n",
       "</table>\n",
       "</div>"
      ],
      "text/plain": [
       "    0             1         2    3    4    5         6    7         8   \\\n",
       "0  1.0  1.180279e-09  0.446726  0.0  0.0  0.0  0.111111  0.2  0.989130   \n",
       "1  0.0  1.782161e-01  0.509307  0.0  0.0  0.0  0.000000  0.0  0.010870   \n",
       "2  0.0  1.208614e-06  0.875020  0.0  0.0  0.0  0.000000  0.0  0.771739   \n",
       "3  0.0  1.248490e-03  0.929845  0.0  0.0  0.0  0.000000  0.6  0.771739   \n",
       "4  1.0  1.152616e-12  0.902395  0.0  0.0  0.0  0.000000  0.0  0.021739   \n",
       "\n",
       "         9         10        11        12        13        14        15  \\\n",
       "0  0.191514  0.193818  0.318182  1.000000  0.152893  0.032432  0.166667   \n",
       "1  0.257361  0.267944  0.500000  1.000000  0.111570  0.016216  0.166667   \n",
       "2  0.072339  0.873877  0.454545  0.666667  0.103306  0.772973  0.166667   \n",
       "3  0.002550  0.926967  0.318182  1.000000  0.107438  0.772973  0.166667   \n",
       "4  0.004173  0.702324  0.318182  1.000000  0.107438  0.016216  0.166667   \n",
       "\n",
       "         16        17  \n",
       "0  0.111111  0.548328  \n",
       "1  0.111111  0.105079  \n",
       "2  0.111111  0.082787  \n",
       "3  0.111111  0.544883  \n",
       "4  0.111111  0.423288  "
      ]
     },
     "execution_count": 6,
     "metadata": {},
     "output_type": "execute_result"
    }
   ],
   "source": [
    "dfix = df.loc[:,cols];\n",
    "min_max_scaler = preprocessing.MinMaxScaler()\n",
    "x_scaled = min_max_scaler.fit_transform(dfix.values)\n",
    "dfix = pd.DataFrame(x_scaled)\n",
    "dfix.head()"
   ]
  },
  {
   "cell_type": "code",
   "execution_count": 7,
   "metadata": {
    "collapsed": true
   },
   "outputs": [],
   "source": [
    "X = np.array(dfix)\n",
    "y = np.array(df['se_postulo']) "
   ]
  },
  {
   "cell_type": "code",
   "execution_count": 8,
   "metadata": {
    "collapsed": true
   },
   "outputs": [],
   "source": [
    "X_train, X_test, y_train, y_test = train_test_split(X, y, test_size=0.10, random_state=7506)"
   ]
  },
  {
   "cell_type": "code",
   "execution_count": 23,
   "metadata": {
    "collapsed": false
   },
   "outputs": [],
   "source": [
    "clf1 = tree.DecisionTreeClassifier()\n",
    "clf2 = RandomForestClassifier()\n",
    "clf = VotingClassifier(estimators=[('tree', clf1), ('rf', clf2)])"
   ]
  },
  {
   "cell_type": "code",
   "execution_count": 24,
   "metadata": {
    "collapsed": false
   },
   "outputs": [
    {
     "data": {
      "text/plain": [
       "VotingClassifier(estimators=[('tree', DecisionTreeClassifier(class_weight=None, criterion='gini', max_depth=None,\n",
       "            max_features=None, max_leaf_nodes=None,\n",
       "            min_impurity_decrease=0.0, min_impurity_split=None,\n",
       "            min_samples_leaf=1, min_samples_split=2,\n",
       "            min_weight_fraction_le...n_jobs=1,\n",
       "            oob_score=False, random_state=None, verbose=0,\n",
       "            warm_start=False))],\n",
       "         flatten_transform=None, n_jobs=1, voting='hard', weights=None)"
      ]
     },
     "execution_count": 24,
     "metadata": {},
     "output_type": "execute_result"
    }
   ],
   "source": [
    "clf.fit(X_train, y_train)"
   ]
  },
  {
   "cell_type": "code",
   "execution_count": 25,
   "metadata": {
    "collapsed": false
   },
   "outputs": [
    {
     "name": "stderr",
     "output_type": "stream",
     "text": [
      "/home/prp-admin/anaconda3/lib/python3.6/site-packages/sklearn/preprocessing/label.py:151: DeprecationWarning: The truth value of an empty array is ambiguous. Returning False, but in future this will result in an error. Use `array.size > 0` to check that an array is not empty.\n",
      "  if diff:\n"
     ]
    }
   ],
   "source": [
    "pred = clf.predict(X_test)"
   ]
  },
  {
   "cell_type": "code",
   "execution_count": 26,
   "metadata": {
    "collapsed": false
   },
   "outputs": [
    {
     "name": "stdout",
     "output_type": "stream",
     "text": [
      "0.8705487162616913\n"
     ]
    }
   ],
   "source": [
    "print (accuracy_score(y_test, pred))"
   ]
  },
  {
   "cell_type": "code",
   "execution_count": 27,
   "metadata": {
    "collapsed": false
   },
   "outputs": [
    {
     "data": {
      "text/plain": [
       "(994011,)"
      ]
     },
     "execution_count": 27,
     "metadata": {},
     "output_type": "execute_result"
    }
   ],
   "source": [
    "pred.shape"
   ]
  },
  {
   "cell_type": "code",
   "execution_count": 28,
   "metadata": {
    "collapsed": false
   },
   "outputs": [
    {
     "name": "stderr",
     "output_type": "stream",
     "text": [
      "/home/prp-admin/anaconda3/lib/python3.6/site-packages/sklearn/preprocessing/label.py:151: DeprecationWarning: The truth value of an empty array is ambiguous. Returning False, but in future this will result in an error. Use `array.size > 0` to check that an array is not empty.\n",
      "  if diff:\n"
     ]
    },
    {
     "data": {
      "text/html": [
       "<div>\n",
       "<style scoped>\n",
       "    .dataframe tbody tr th:only-of-type {\n",
       "        vertical-align: middle;\n",
       "    }\n",
       "\n",
       "    .dataframe tbody tr th {\n",
       "        vertical-align: top;\n",
       "    }\n",
       "\n",
       "    .dataframe thead th {\n",
       "        text-align: right;\n",
       "    }\n",
       "</style>\n",
       "<table border=\"1\" class=\"dataframe\">\n",
       "  <thead>\n",
       "    <tr style=\"text-align: right;\">\n",
       "      <th></th>\n",
       "      <th>idaviso</th>\n",
       "      <th>esta_online</th>\n",
       "      <th>titulo</th>\n",
       "      <th>descripcion</th>\n",
       "      <th>idzona</th>\n",
       "      <th>idciudad</th>\n",
       "      <th>idmapacalle</th>\n",
       "      <th>idtipo_de_trabajo</th>\n",
       "      <th>idnivel_laboral</th>\n",
       "      <th>idnombre_area</th>\n",
       "      <th>...</th>\n",
       "      <th>timestamp</th>\n",
       "      <th>valor_educacion</th>\n",
       "      <th>sexo</th>\n",
       "      <th>edad</th>\n",
       "      <th>idnombre_area_pref</th>\n",
       "      <th>idnivel_laboral_pref</th>\n",
       "      <th>idtipo_de_trabajo_pref</th>\n",
       "      <th>se_postulo</th>\n",
       "      <th>idpostulante_int</th>\n",
       "      <th>sepostulo</th>\n",
       "    </tr>\n",
       "  </thead>\n",
       "  <tbody>\n",
       "    <tr>\n",
       "      <th>0</th>\n",
       "      <td>1112243448</td>\n",
       "      <td>1</td>\n",
       "      <td>8589934592</td>\n",
       "      <td>4120231825783194672</td>\n",
       "      <td>0</td>\n",
       "      <td>0</td>\n",
       "      <td>0</td>\n",
       "      <td>1</td>\n",
       "      <td>1</td>\n",
       "      <td>182</td>\n",
       "      <td>...</td>\n",
       "      <td>1777853.520</td>\n",
       "      <td>6</td>\n",
       "      <td>2</td>\n",
       "      <td>37</td>\n",
       "      <td>5</td>\n",
       "      <td>0</td>\n",
       "      <td>0</td>\n",
       "      <td>0</td>\n",
       "      <td>253283</td>\n",
       "      <td>0</td>\n",
       "    </tr>\n",
       "    <tr>\n",
       "      <th>1</th>\n",
       "      <td>1112394752</td>\n",
       "      <td>0</td>\n",
       "      <td>1297036692686962688</td>\n",
       "      <td>4697431300652990536</td>\n",
       "      <td>0</td>\n",
       "      <td>0</td>\n",
       "      <td>0</td>\n",
       "      <td>0</td>\n",
       "      <td>0</td>\n",
       "      <td>2</td>\n",
       "      <td>...</td>\n",
       "      <td>2457798.612</td>\n",
       "      <td>10</td>\n",
       "      <td>2</td>\n",
       "      <td>27</td>\n",
       "      <td>2</td>\n",
       "      <td>0</td>\n",
       "      <td>0</td>\n",
       "      <td>1</td>\n",
       "      <td>48538</td>\n",
       "      <td>1</td>\n",
       "    </tr>\n",
       "    <tr>\n",
       "      <th>2</th>\n",
       "      <td>1112272845</td>\n",
       "      <td>0</td>\n",
       "      <td>8796160131072</td>\n",
       "      <td>8070459336931147904</td>\n",
       "      <td>0</td>\n",
       "      <td>0</td>\n",
       "      <td>0</td>\n",
       "      <td>0</td>\n",
       "      <td>0</td>\n",
       "      <td>142</td>\n",
       "      <td>...</td>\n",
       "      <td>8015897.612</td>\n",
       "      <td>9</td>\n",
       "      <td>1</td>\n",
       "      <td>25</td>\n",
       "      <td>142</td>\n",
       "      <td>0</td>\n",
       "      <td>0</td>\n",
       "      <td>1</td>\n",
       "      <td>38241</td>\n",
       "      <td>1</td>\n",
       "    </tr>\n",
       "    <tr>\n",
       "      <th>3</th>\n",
       "      <td>1112247744</td>\n",
       "      <td>0</td>\n",
       "      <td>9086368454017024</td>\n",
       "      <td>8576121502083057184</td>\n",
       "      <td>0</td>\n",
       "      <td>0</td>\n",
       "      <td>0</td>\n",
       "      <td>0</td>\n",
       "      <td>3</td>\n",
       "      <td>142</td>\n",
       "      <td>...</td>\n",
       "      <td>8502880.612</td>\n",
       "      <td>6</td>\n",
       "      <td>2</td>\n",
       "      <td>26</td>\n",
       "      <td>142</td>\n",
       "      <td>0</td>\n",
       "      <td>0</td>\n",
       "      <td>1</td>\n",
       "      <td>251692</td>\n",
       "      <td>1</td>\n",
       "    </tr>\n",
       "    <tr>\n",
       "      <th>4</th>\n",
       "      <td>1112335465</td>\n",
       "      <td>1</td>\n",
       "      <td>8388608</td>\n",
       "      <td>8322943493810029184</td>\n",
       "      <td>0</td>\n",
       "      <td>0</td>\n",
       "      <td>0</td>\n",
       "      <td>0</td>\n",
       "      <td>0</td>\n",
       "      <td>4</td>\n",
       "      <td>...</td>\n",
       "      <td>6442273.612</td>\n",
       "      <td>6</td>\n",
       "      <td>2</td>\n",
       "      <td>26</td>\n",
       "      <td>2</td>\n",
       "      <td>0</td>\n",
       "      <td>0</td>\n",
       "      <td>1</td>\n",
       "      <td>195525</td>\n",
       "      <td>1</td>\n",
       "    </tr>\n",
       "  </tbody>\n",
       "</table>\n",
       "<p>5 rows × 22 columns</p>\n",
       "</div>"
      ],
      "text/plain": [
       "      idaviso  esta_online               titulo          descripcion  idzona  \\\n",
       "0  1112243448            1           8589934592  4120231825783194672       0   \n",
       "1  1112394752            0  1297036692686962688  4697431300652990536       0   \n",
       "2  1112272845            0        8796160131072  8070459336931147904       0   \n",
       "3  1112247744            0     9086368454017024  8576121502083057184       0   \n",
       "4  1112335465            1              8388608  8322943493810029184       0   \n",
       "\n",
       "   idciudad  idmapacalle  idtipo_de_trabajo  idnivel_laboral  idnombre_area  \\\n",
       "0         0            0                  1                1            182   \n",
       "1         0            0                  0                0              2   \n",
       "2         0            0                  0                0            142   \n",
       "3         0            0                  0                3            142   \n",
       "4         0            0                  0                0              4   \n",
       "\n",
       "     ...        timestamp valor_educacion  sexo  edad  idnombre_area_pref  \\\n",
       "0    ...      1777853.520               6     2    37                   5   \n",
       "1    ...      2457798.612              10     2    27                   2   \n",
       "2    ...      8015897.612               9     1    25                 142   \n",
       "3    ...      8502880.612               6     2    26                 142   \n",
       "4    ...      6442273.612               6     2    26                   2   \n",
       "\n",
       "   idnivel_laboral_pref  idtipo_de_trabajo_pref  se_postulo  idpostulante_int  \\\n",
       "0                     0                       0           0            253283   \n",
       "1                     0                       0           1             48538   \n",
       "2                     0                       0           1             38241   \n",
       "3                     0                       0           1            251692   \n",
       "4                     0                       0           1            195525   \n",
       "\n",
       "   sepostulo  \n",
       "0          0  \n",
       "1          1  \n",
       "2          1  \n",
       "3          1  \n",
       "4          1  \n",
       "\n",
       "[5 rows x 22 columns]"
      ]
     },
     "execution_count": 28,
     "metadata": {},
     "output_type": "execute_result"
    }
   ],
   "source": [
    "X_full_data = np.array(dfix)\n",
    "pred_full_data = clf.predict(X_full_data)\n",
    "df['sepostulo'] = pred_full_data\n",
    "df.head()"
   ]
  },
  {
   "cell_type": "markdown",
   "metadata": {},
   "source": [
    "## Subida "
   ]
  },
  {
   "cell_type": "code",
   "execution_count": 29,
   "metadata": {
    "collapsed": false
   },
   "outputs": [
    {
     "data": {
      "text/plain": [
       "(34526, 2)"
      ]
     },
     "execution_count": 29,
     "metadata": {},
     "output_type": "execute_result"
    }
   ],
   "source": [
    "top100_full = pd.read_csv(\"../test_final_100k.csv\", encoding='utf-8')\n",
    "top100_full = pd.merge(top100_full, df, how='left', on=['idaviso','idpostulante'])\n",
    "top100_full = top100_full[['id', 'se_postulo', 'sepostulo']]\n",
    "top100_full.fillna(0, inplace=True)\n",
    "top100_full['se_postulo'] = top100_full['se_postulo'].astype('int')\n",
    "top100_full['sepostulo'] = top100_full['sepostulo'].astype('int')\n",
    "top100_full.loc[(top100_full['sepostulo'] == 0) & (top100_full['se_postulo'] == 1), 'sepostulo'] = 1\n",
    "top100_full[(top100_full['sepostulo'] == 0) & (top100_full['se_postulo'] == 1)]['sepostulo']\n",
    "top100_full.drop('se_postulo', axis=1, inplace=True)\n",
    "top100_full[top100_full['sepostulo'] == 1].shape"
   ]
  },
  {
   "cell_type": "code",
   "execution_count": 30,
   "metadata": {
    "collapsed": true
   },
   "outputs": [],
   "source": [
    "top100_full.to_csv('../data/entrega/top100k_ensemble_tree_rf_scaler.csv', encoding='utf-8', index=False)"
   ]
  },
  {
   "cell_type": "code",
   "execution_count": null,
   "metadata": {
    "collapsed": true
   },
   "outputs": [],
   "source": []
  }
 ],
 "metadata": {
  "kernelspec": {
   "display_name": "Python 3",
   "language": "python",
   "name": "python3"
  },
  "language_info": {
   "codemirror_mode": {
    "name": "ipython",
    "version": 3
   },
   "file_extension": ".py",
   "mimetype": "text/x-python",
   "name": "python",
   "nbconvert_exporter": "python",
   "pygments_lexer": "ipython3",
   "version": "3.6.3"
  }
 },
 "nbformat": 4,
 "nbformat_minor": 2
}
