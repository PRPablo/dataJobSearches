{
 "cells": [
  {
   "cell_type": "code",
   "execution_count": 8,
   "metadata": {
    "collapsed": true
   },
   "outputs": [],
   "source": [
    "from sklearn.linear_model import Perceptron\n",
    "from sklearn.preprocessing import PolynomialFeatures\n",
    "import numpy as np\n",
    "import pandas as pd\n",
    "from sklearn import metrics\n",
    "from sklearn.model_selection import train_test_split\n",
    "%matplotlib inline\n"
   ]
  },
  {
   "cell_type": "code",
   "execution_count": null,
   "metadata": {
    "collapsed": true
   },
   "outputs": [],
   "source": [
    "X = np.array([[0, 0], [0, 1], [1, 0], [1, 1]])\n",
    "y = X[:, 0] ^ X[:, 1]\n",
    "y\n",
    "\n",
    "X = PolynomialFeatures(interaction_only=True).fit_transform(X).astype(int)\n",
    "X\n",
    "\n",
    "\n",
    "\n",
    "\n",
    "clf = Perceptron(fit_intercept=False, max_iter=10, tol=None,\n",
    "                 shuffle=False).fit(X, y)"
   ]
  },
  {
   "cell_type": "code",
   "execution_count": 4,
   "metadata": {},
   "outputs": [
    {
     "data": {
      "text/html": [
       "<div>\n",
       "<style scoped>\n",
       "    .dataframe tbody tr th:only-of-type {\n",
       "        vertical-align: middle;\n",
       "    }\n",
       "\n",
       "    .dataframe tbody tr th {\n",
       "        vertical-align: top;\n",
       "    }\n",
       "\n",
       "    .dataframe thead th {\n",
       "        text-align: right;\n",
       "    }\n",
       "</style>\n",
       "<table border=\"1\" class=\"dataframe\">\n",
       "  <thead>\n",
       "    <tr style=\"text-align: right;\">\n",
       "      <th></th>\n",
       "      <th>idaviso</th>\n",
       "      <th>idpostulante</th>\n",
       "      <th>timestamp</th>\n",
       "      <th>valor_educacion</th>\n",
       "      <th>sexo</th>\n",
       "      <th>idtitulo</th>\n",
       "      <th>idzona</th>\n",
       "      <th>idciudad</th>\n",
       "      <th>idmapacalle</th>\n",
       "      <th>idtipo_de_trabajo</th>\n",
       "      <th>idnivel_laboral</th>\n",
       "      <th>idnombre_area</th>\n",
       "      <th>iddenominacion_empresa</th>\n",
       "      <th>se_postulo</th>\n",
       "    </tr>\n",
       "  </thead>\n",
       "  <tbody>\n",
       "    <tr>\n",
       "      <th>0</th>\n",
       "      <td>1111556097</td>\n",
       "      <td>365446</td>\n",
       "      <td>7.038007e+06</td>\n",
       "      <td>17</td>\n",
       "      <td>1</td>\n",
       "      <td>0</td>\n",
       "      <td>0</td>\n",
       "      <td>0</td>\n",
       "      <td>0</td>\n",
       "      <td>0</td>\n",
       "      <td>0</td>\n",
       "      <td>0</td>\n",
       "      <td>0</td>\n",
       "      <td>1</td>\n",
       "    </tr>\n",
       "    <tr>\n",
       "      <th>1</th>\n",
       "      <td>1112370711</td>\n",
       "      <td>365446</td>\n",
       "      <td>7.476885e+06</td>\n",
       "      <td>17</td>\n",
       "      <td>1</td>\n",
       "      <td>6996</td>\n",
       "      <td>0</td>\n",
       "      <td>0</td>\n",
       "      <td>0</td>\n",
       "      <td>0</td>\n",
       "      <td>0</td>\n",
       "      <td>45</td>\n",
       "      <td>14</td>\n",
       "      <td>1</td>\n",
       "    </tr>\n",
       "    <tr>\n",
       "      <th>2</th>\n",
       "      <td>1112326655</td>\n",
       "      <td>365446</td>\n",
       "      <td>9.809277e+06</td>\n",
       "      <td>17</td>\n",
       "      <td>1</td>\n",
       "      <td>11827</td>\n",
       "      <td>0</td>\n",
       "      <td>0</td>\n",
       "      <td>0</td>\n",
       "      <td>0</td>\n",
       "      <td>0</td>\n",
       "      <td>4</td>\n",
       "      <td>33</td>\n",
       "      <td>1</td>\n",
       "    </tr>\n",
       "    <tr>\n",
       "      <th>3</th>\n",
       "      <td>1112350182</td>\n",
       "      <td>365446</td>\n",
       "      <td>8.856385e+06</td>\n",
       "      <td>17</td>\n",
       "      <td>1</td>\n",
       "      <td>2141</td>\n",
       "      <td>0</td>\n",
       "      <td>0</td>\n",
       "      <td>0</td>\n",
       "      <td>0</td>\n",
       "      <td>0</td>\n",
       "      <td>31</td>\n",
       "      <td>38</td>\n",
       "      <td>1</td>\n",
       "    </tr>\n",
       "    <tr>\n",
       "      <th>4</th>\n",
       "      <td>1112383837</td>\n",
       "      <td>365446</td>\n",
       "      <td>7.563903e+06</td>\n",
       "      <td>17</td>\n",
       "      <td>1</td>\n",
       "      <td>6942</td>\n",
       "      <td>0</td>\n",
       "      <td>0</td>\n",
       "      <td>0</td>\n",
       "      <td>0</td>\n",
       "      <td>0</td>\n",
       "      <td>75</td>\n",
       "      <td>46</td>\n",
       "      <td>1</td>\n",
       "    </tr>\n",
       "  </tbody>\n",
       "</table>\n",
       "</div>"
      ],
      "text/plain": [
       "      idaviso  idpostulante     timestamp  valor_educacion  sexo  idtitulo  \\\n",
       "0  1111556097        365446  7.038007e+06               17     1         0   \n",
       "1  1112370711        365446  7.476885e+06               17     1      6996   \n",
       "2  1112326655        365446  9.809277e+06               17     1     11827   \n",
       "3  1112350182        365446  8.856385e+06               17     1      2141   \n",
       "4  1112383837        365446  7.563903e+06               17     1      6942   \n",
       "\n",
       "   idzona  idciudad  idmapacalle  idtipo_de_trabajo  idnivel_laboral  \\\n",
       "0       0         0            0                  0                0   \n",
       "1       0         0            0                  0                0   \n",
       "2       0         0            0                  0                0   \n",
       "3       0         0            0                  0                0   \n",
       "4       0         0            0                  0                0   \n",
       "\n",
       "   idnombre_area  iddenominacion_empresa  se_postulo  \n",
       "0              0                       0           1  \n",
       "1             45                      14           1  \n",
       "2              4                      33           1  \n",
       "3             31                      38           1  \n",
       "4             75                      46           1  "
      ]
     },
     "execution_count": 4,
     "metadata": {},
     "output_type": "execute_result"
    }
   ],
   "source": [
    "df = pd.read_csv('../data/final_data/entrenamiento_postulaciones_vistas4.csv', encoding='utf-8')\n",
    "df.head()"
   ]
  },
  {
   "cell_type": "code",
   "execution_count": 6,
   "metadata": {},
   "outputs": [],
   "source": [
    "# X will have the numeric data, Y will have the target class\n",
    "dfix = df.iloc[:, 0:13];\n",
    "X = np.array(dfix)\n",
    "y = np.array(df['se_postulo']) "
   ]
  },
  {
   "cell_type": "code",
   "execution_count": 9,
   "metadata": {},
   "outputs": [
    {
     "data": {
      "text/plain": [
       "array([[  1.11241876e+09,   2.56340000e+04,   4.17343225e+06, ...,\n",
       "          0.00000000e+00,   7.60000000e+01,   1.00000000e+01],\n",
       "       [  1.11234254e+09,   1.24354000e+05,   8.95024431e+06, ...,\n",
       "          0.00000000e+00,   1.30000000e+01,   1.79200000e+03],\n",
       "       [  1.11227764e+09,   2.26590000e+05,   1.04896253e+07, ...,\n",
       "          2.00000000e+00,   4.70000000e+01,   4.38000000e+02],\n",
       "       ..., \n",
       "       [  1.11237865e+09,   1.52443000e+05,   7.56528031e+06, ...,\n",
       "          0.00000000e+00,   4.00000000e+00,   6.14000000e+02],\n",
       "       [  1.11219014e+09,   1.04065000e+05,   1.13564083e+07, ...,\n",
       "          0.00000000e+00,   6.00000000e+00,   2.10000000e+01],\n",
       "       [  1.11231222e+09,   2.06854000e+05,   1.00026573e+07, ...,\n",
       "          0.00000000e+00,   0.00000000e+00,   4.60000000e+01]])"
      ]
     },
     "execution_count": 9,
     "metadata": {},
     "output_type": "execute_result"
    }
   ],
   "source": [
    "# Split into train and test, use only 10% as test (15 flowers)\n",
    "X_train, X_test, y_train, y_test = train_test_split(X, y, test_size=0.10, random_state=7506)\n",
    "X_test"
   ]
  },
  {
   "cell_type": "code",
   "execution_count": 14,
   "metadata": {},
   "outputs": [
    {
     "ename": "MemoryError",
     "evalue": "",
     "output_type": "error",
     "traceback": [
      "\u001b[0;31m---------------------------------------------------------------------------\u001b[0m",
      "\u001b[0;31mMemoryError\u001b[0m                               Traceback (most recent call last)",
      "\u001b[0;32m<ipython-input-14-39f063c38767>\u001b[0m in \u001b[0;36m<module>\u001b[0;34m()\u001b[0m\n\u001b[0;32m----> 1\u001b[0;31m \u001b[0mX\u001b[0m \u001b[0;34m=\u001b[0m \u001b[0mPolynomialFeatures\u001b[0m\u001b[0;34m(\u001b[0m\u001b[0minteraction_only\u001b[0m\u001b[0;34m=\u001b[0m\u001b[0;32mTrue\u001b[0m\u001b[0;34m)\u001b[0m\u001b[0;34m.\u001b[0m\u001b[0mfit_transform\u001b[0m\u001b[0;34m(\u001b[0m\u001b[0mX_train\u001b[0m\u001b[0;34m)\u001b[0m\u001b[0;34m.\u001b[0m\u001b[0mastype\u001b[0m\u001b[0;34m(\u001b[0m\u001b[0mint\u001b[0m\u001b[0;34m)\u001b[0m\u001b[0;34m\u001b[0m\u001b[0m\n\u001b[0m\u001b[1;32m      2\u001b[0m \u001b[0mX\u001b[0m\u001b[0;34m\u001b[0m\u001b[0m\n",
      "\u001b[0;31mMemoryError\u001b[0m: "
     ]
    }
   ],
   "source": [
    "X = PolynomialFeatures(interaction_only=True).fit_transform(X_train).astype(int)\n",
    "X"
   ]
  },
  {
   "cell_type": "code",
   "execution_count": null,
   "metadata": {
    "collapsed": true
   },
   "outputs": [],
   "source": []
  }
 ],
 "metadata": {
  "kernelspec": {
   "display_name": "Python 3",
   "language": "python",
   "name": "python3"
  },
  "language_info": {
   "codemirror_mode": {
    "name": "ipython",
    "version": 3
   },
   "file_extension": ".py",
   "mimetype": "text/x-python",
   "name": "python",
   "nbconvert_exporter": "python",
   "pygments_lexer": "ipython3",
   "version": "3.5.2"
  }
 },
 "nbformat": 4,
 "nbformat_minor": 2
}
