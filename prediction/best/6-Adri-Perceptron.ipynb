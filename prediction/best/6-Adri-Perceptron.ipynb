{
 "cells": [
  {
   "cell_type": "markdown",
   "metadata": {},
   "source": [
    "# Realizo la clasificacion usando Neural Network: Multi-layer Perceptron"
   ]
  },
  {
   "cell_type": "markdown",
   "metadata": {},
   "source": [
    "## Tabla de resultados "
   ]
  },
  {
   "cell_type": "code",
   "execution_count": 1,
   "metadata": {},
   "outputs": [],
   "source": [
    "# Aplicando Scaler:                           en Jupyter 0.8105548320964798, en Kaggle 0.83976\n",
    "\n",
    "# Aplicando Scaler y luego PCA(1 Componente): en Jupyter 0.6473592000460224, en Kaggle 0.86418\n",
    "# Aplicando Scaler y luego PCA(2 Componente): en Jupyter 0.6878966168264378, en Kaggle 0.86645\n",
    "# Aplicando Scaler y luego PCA(3 Componente): en Jupyter 0.7500436690357772, en Kaggle 0.84915\n",
    "\n",
    "# Aplicando PCA(1 Componente) y luego Scaler: en Jupyter 0.7652969755924084, en Kaggle 0.84879\n",
    "# Aplicando PCA(2 Componente) y luego Scaler: en Jupyter [Probar]          , en Kaggle [Probar]\n",
    "# Aplicando PCA(3 Componente) y luego Scaler: en Jupyter [Probar]          , en Kaggle [Probar]"
   ]
  },
  {
   "cell_type": "markdown",
   "metadata": {},
   "source": [
    "## Importo librerias necesarias"
   ]
  },
  {
   "cell_type": "code",
   "execution_count": 2,
   "metadata": {},
   "outputs": [],
   "source": [
    "import pandas as pd\n",
    "import numpy as np\n",
    "from sklearn.model_selection import train_test_split\n",
    "#Standard Scaler\n",
    "from  sklearn.preprocessing  import StandardScaler\n",
    "#Multi-layer Perceptron\n",
    "from sklearn.neural_network import MLPClassifier\n",
    "#PCA\n",
    "from sklearn.decomposition import PCA"
   ]
  },
  {
   "cell_type": "markdown",
   "metadata": {},
   "source": [
    "## Leo todos los datos"
   ]
  },
  {
   "cell_type": "code",
   "execution_count": 3,
   "metadata": {},
   "outputs": [
    {
     "data": {
      "text/html": [
       "<div>\n",
       "<style scoped>\n",
       "    .dataframe tbody tr th:only-of-type {\n",
       "        vertical-align: middle;\n",
       "    }\n",
       "\n",
       "    .dataframe tbody tr th {\n",
       "        vertical-align: top;\n",
       "    }\n",
       "\n",
       "    .dataframe thead th {\n",
       "        text-align: right;\n",
       "    }\n",
       "</style>\n",
       "<table border=\"1\" class=\"dataframe\">\n",
       "  <thead>\n",
       "    <tr style=\"text-align: right;\">\n",
       "      <th></th>\n",
       "      <th>idaviso</th>\n",
       "      <th>esta_online</th>\n",
       "      <th>titulo</th>\n",
       "      <th>descripcion</th>\n",
       "      <th>idzona</th>\n",
       "      <th>idciudad</th>\n",
       "      <th>idmapacalle</th>\n",
       "      <th>idtipo_de_trabajo</th>\n",
       "      <th>idnivel_laboral</th>\n",
       "      <th>idnombre_area</th>\n",
       "      <th>...</th>\n",
       "      <th>idpostulante</th>\n",
       "      <th>timestamp</th>\n",
       "      <th>valor_educacion</th>\n",
       "      <th>sexo</th>\n",
       "      <th>edad</th>\n",
       "      <th>idnombre_area_pref</th>\n",
       "      <th>idnivel_laboral_pref</th>\n",
       "      <th>idtipo_de_trabajo_pref</th>\n",
       "      <th>se_postulo</th>\n",
       "      <th>idpostulante_int</th>\n",
       "    </tr>\n",
       "  </thead>\n",
       "  <tbody>\n",
       "    <tr>\n",
       "      <th>0</th>\n",
       "      <td>1112243448</td>\n",
       "      <td>1</td>\n",
       "      <td>8589934592</td>\n",
       "      <td>4120231825783194672</td>\n",
       "      <td>0</td>\n",
       "      <td>0</td>\n",
       "      <td>0</td>\n",
       "      <td>1</td>\n",
       "      <td>1</td>\n",
       "      <td>182</td>\n",
       "      <td>...</td>\n",
       "      <td>VNk0vZl</td>\n",
       "      <td>5.568174e+06</td>\n",
       "      <td>6</td>\n",
       "      <td>2</td>\n",
       "      <td>37</td>\n",
       "      <td>5</td>\n",
       "      <td>0</td>\n",
       "      <td>0</td>\n",
       "      <td>0</td>\n",
       "      <td>253283</td>\n",
       "    </tr>\n",
       "    <tr>\n",
       "      <th>1</th>\n",
       "      <td>1112394752</td>\n",
       "      <td>0</td>\n",
       "      <td>1297036692686962688</td>\n",
       "      <td>4697431300652990536</td>\n",
       "      <td>0</td>\n",
       "      <td>0</td>\n",
       "      <td>0</td>\n",
       "      <td>0</td>\n",
       "      <td>0</td>\n",
       "      <td>2</td>\n",
       "      <td>...</td>\n",
       "      <td>4rdpPbz</td>\n",
       "      <td>6.248119e+06</td>\n",
       "      <td>10</td>\n",
       "      <td>2</td>\n",
       "      <td>27</td>\n",
       "      <td>2</td>\n",
       "      <td>0</td>\n",
       "      <td>0</td>\n",
       "      <td>1</td>\n",
       "      <td>48538</td>\n",
       "    </tr>\n",
       "    <tr>\n",
       "      <th>2</th>\n",
       "      <td>1112272845</td>\n",
       "      <td>0</td>\n",
       "      <td>8796160131072</td>\n",
       "      <td>8070459336931147904</td>\n",
       "      <td>0</td>\n",
       "      <td>0</td>\n",
       "      <td>0</td>\n",
       "      <td>0</td>\n",
       "      <td>0</td>\n",
       "      <td>142</td>\n",
       "      <td>...</td>\n",
       "      <td>3NPVp2X</td>\n",
       "      <td>1.180622e+07</td>\n",
       "      <td>9</td>\n",
       "      <td>1</td>\n",
       "      <td>25</td>\n",
       "      <td>142</td>\n",
       "      <td>0</td>\n",
       "      <td>0</td>\n",
       "      <td>1</td>\n",
       "      <td>38241</td>\n",
       "    </tr>\n",
       "    <tr>\n",
       "      <th>3</th>\n",
       "      <td>1112247744</td>\n",
       "      <td>0</td>\n",
       "      <td>9086368454017024</td>\n",
       "      <td>8576121502083057184</td>\n",
       "      <td>0</td>\n",
       "      <td>0</td>\n",
       "      <td>0</td>\n",
       "      <td>0</td>\n",
       "      <td>3</td>\n",
       "      <td>142</td>\n",
       "      <td>...</td>\n",
       "      <td>VNJr1DD</td>\n",
       "      <td>1.229320e+07</td>\n",
       "      <td>6</td>\n",
       "      <td>2</td>\n",
       "      <td>26</td>\n",
       "      <td>142</td>\n",
       "      <td>0</td>\n",
       "      <td>0</td>\n",
       "      <td>1</td>\n",
       "      <td>251692</td>\n",
       "    </tr>\n",
       "    <tr>\n",
       "      <th>4</th>\n",
       "      <td>1112335465</td>\n",
       "      <td>1</td>\n",
       "      <td>8388608</td>\n",
       "      <td>8322943493810029184</td>\n",
       "      <td>0</td>\n",
       "      <td>0</td>\n",
       "      <td>0</td>\n",
       "      <td>0</td>\n",
       "      <td>0</td>\n",
       "      <td>4</td>\n",
       "      <td>...</td>\n",
       "      <td>MVODZbr</td>\n",
       "      <td>1.023259e+07</td>\n",
       "      <td>6</td>\n",
       "      <td>2</td>\n",
       "      <td>26</td>\n",
       "      <td>2</td>\n",
       "      <td>0</td>\n",
       "      <td>0</td>\n",
       "      <td>1</td>\n",
       "      <td>195525</td>\n",
       "    </tr>\n",
       "  </tbody>\n",
       "</table>\n",
       "<p>5 rows × 21 columns</p>\n",
       "</div>"
      ],
      "text/plain": [
       "      idaviso  esta_online               titulo          descripcion  idzona  \\\n",
       "0  1112243448            1           8589934592  4120231825783194672       0   \n",
       "1  1112394752            0  1297036692686962688  4697431300652990536       0   \n",
       "2  1112272845            0        8796160131072  8070459336931147904       0   \n",
       "3  1112247744            0     9086368454017024  8576121502083057184       0   \n",
       "4  1112335465            1              8388608  8322943493810029184       0   \n",
       "\n",
       "   idciudad  idmapacalle  idtipo_de_trabajo  idnivel_laboral  idnombre_area  \\\n",
       "0         0            0                  1                1            182   \n",
       "1         0            0                  0                0              2   \n",
       "2         0            0                  0                0            142   \n",
       "3         0            0                  0                3            142   \n",
       "4         0            0                  0                0              4   \n",
       "\n",
       "         ...         idpostulante     timestamp  valor_educacion  sexo  edad  \\\n",
       "0        ...              VNk0vZl  5.568174e+06                6     2    37   \n",
       "1        ...              4rdpPbz  6.248119e+06               10     2    27   \n",
       "2        ...              3NPVp2X  1.180622e+07                9     1    25   \n",
       "3        ...              VNJr1DD  1.229320e+07                6     2    26   \n",
       "4        ...              MVODZbr  1.023259e+07                6     2    26   \n",
       "\n",
       "   idnombre_area_pref  idnivel_laboral_pref  idtipo_de_trabajo_pref  \\\n",
       "0                   5                     0                       0   \n",
       "1                   2                     0                       0   \n",
       "2                 142                     0                       0   \n",
       "3                 142                     0                       0   \n",
       "4                   2                     0                       0   \n",
       "\n",
       "   se_postulo  idpostulante_int  \n",
       "0           0            253283  \n",
       "1           1             48538  \n",
       "2           1             38241  \n",
       "3           1            251692  \n",
       "4           1            195525  \n",
       "\n",
       "[5 rows x 21 columns]"
      ]
     },
     "execution_count": 3,
     "metadata": {},
     "output_type": "execute_result"
    }
   ],
   "source": [
    "df = pd.read_csv('entrenamiento_postulaciones_vistas9.csv', encoding='utf-8')\n",
    "df.head()"
   ]
  },
  {
   "cell_type": "code",
   "execution_count": 4,
   "metadata": {},
   "outputs": [
    {
     "data": {
      "text/plain": [
       "Index(['idaviso', 'esta_online', 'titulo', 'descripcion', 'idzona', 'idciudad',\n",
       "       'idmapacalle', 'idtipo_de_trabajo', 'idnivel_laboral', 'idnombre_area',\n",
       "       'iddenominacion_empresa', 'idpostulante', 'timestamp',\n",
       "       'valor_educacion', 'sexo', 'edad', 'idnombre_area_pref',\n",
       "       'idnivel_laboral_pref', 'idtipo_de_trabajo_pref', 'se_postulo',\n",
       "       'idpostulante_int'],\n",
       "      dtype='object')"
      ]
     },
     "execution_count": 4,
     "metadata": {},
     "output_type": "execute_result"
    }
   ],
   "source": [
    "df.columns"
   ]
  },
  {
   "cell_type": "code",
   "execution_count": 5,
   "metadata": {},
   "outputs": [],
   "source": [
    "# df.drop(['idzona', 'idciudad', 'idmapacalle'], inplace=True, axis=1)\n",
    "# df = df[['idaviso', 'idpostulante', \n",
    "#          'idnombre_area_pref', 'idnivel_laboral_pref', 'idtipo_de_trabajo_pref',\n",
    "#          'idnombre_area_pref', 'idnivel_laboral_pref', 'idtipo_de_trabajo_pref', \n",
    "#          'valor_educacion','sexo','edad',         \n",
    "#          'se_postulo']]"
   ]
  },
  {
   "cell_type": "code",
   "execution_count": 6,
   "metadata": {},
   "outputs": [
    {
     "name": "stderr",
     "output_type": "stream",
     "text": [
      "C:\\ProgramData\\Anaconda3\\lib\\site-packages\\ipykernel_launcher.py:2: SettingWithCopyWarning: \n",
      "A value is trying to be set on a copy of a slice from a DataFrame\n",
      "\n",
      "See the caveats in the documentation: http://pandas.pydata.org/pandas-docs/stable/indexing.html#indexing-view-versus-copy\n",
      "  \n"
     ]
    },
    {
     "data": {
      "text/plain": [
       "Index(['idaviso', 'esta_online', 'titulo', 'descripcion', 'idzona', 'idciudad',\n",
       "       'idmapacalle', 'idtipo_de_trabajo', 'idnivel_laboral', 'idnombre_area',\n",
       "       'iddenominacion_empresa', 'timestamp', 'valor_educacion', 'sexo',\n",
       "       'edad', 'idnombre_area_pref', 'idnivel_laboral_pref',\n",
       "       'idtipo_de_trabajo_pref', 'idpostulante_int'],\n",
       "      dtype='object')"
      ]
     },
     "execution_count": 6,
     "metadata": {},
     "output_type": "execute_result"
    }
   ],
   "source": [
    "cols = df.head(0)\n",
    "cols.drop(['se_postulo', 'idpostulante'],inplace=True, axis=1)\n",
    "cols = cols.columns\n",
    "cols"
   ]
  },
  {
   "cell_type": "code",
   "execution_count": 7,
   "metadata": {},
   "outputs": [],
   "source": [
    "# mintimestamp = df['timestamp'].min()\n",
    "# df['timestamp'] = df['timestamp']-mintimestamp\n",
    "# mintimestamp = df['idpostulante_int'].min()\n",
    "# df['idpostulante_int'] = df['idpostulante_int']-mintimestamp"
   ]
  },
  {
   "cell_type": "code",
   "execution_count": 8,
   "metadata": {},
   "outputs": [],
   "source": [
    "X = np.array(df.loc[:,cols])\n",
    "y = np.array(df['se_postulo']) "
   ]
  },
  {
   "cell_type": "markdown",
   "metadata": {},
   "source": [
    "## Aplico el Scaler"
   ]
  },
  {
   "cell_type": "code",
   "execution_count": 9,
   "metadata": {},
   "outputs": [],
   "source": [
    "# scaler = StandardScaler() \n",
    "# scaler.fit(X)\n",
    "# X = scaler.transform(X) "
   ]
  },
  {
   "cell_type": "markdown",
   "metadata": {},
   "source": [
    "## Aplico PCA"
   ]
  },
  {
   "cell_type": "code",
   "execution_count": 10,
   "metadata": {},
   "outputs": [],
   "source": [
    "pca = PCA(n_components=3)\n",
    "pca.fit(X)\n",
    "X = pca.transform(X)"
   ]
  },
  {
   "cell_type": "markdown",
   "metadata": {},
   "source": [
    "## Realizo el Train Test Split"
   ]
  },
  {
   "cell_type": "code",
   "execution_count": 11,
   "metadata": {},
   "outputs": [],
   "source": [
    "X_train, X_test, y_train, y_test = train_test_split(X, y, test_size=0.1, random_state=7506)"
   ]
  },
  {
   "cell_type": "markdown",
   "metadata": {},
   "source": [
    "## Defino el clasificador"
   ]
  },
  {
   "cell_type": "code",
   "execution_count": 12,
   "metadata": {},
   "outputs": [],
   "source": [
    "# clf = MLPClassifier(solver='lbfgs', alpha=1,hidden_layer_sizes=(7, 4), random_state=7506)\n",
    "clf = MLPClassifier(solver='lbfgs', alpha=1e-5,hidden_layer_sizes=(5, 2), random_state=1)"
   ]
  },
  {
   "cell_type": "markdown",
   "metadata": {},
   "source": [
    "## Entreno el clasificador"
   ]
  },
  {
   "cell_type": "code",
   "execution_count": 13,
   "metadata": {},
   "outputs": [
    {
     "data": {
      "text/plain": [
       "MLPClassifier(activation='relu', alpha=1e-05, batch_size='auto', beta_1=0.9,\n",
       "       beta_2=0.999, early_stopping=False, epsilon=1e-08,\n",
       "       hidden_layer_sizes=(5, 2), learning_rate='constant',\n",
       "       learning_rate_init=0.001, max_iter=200, momentum=0.9,\n",
       "       nesterovs_momentum=True, power_t=0.5, random_state=1, shuffle=True,\n",
       "       solver='lbfgs', tol=0.0001, validation_fraction=0.1, verbose=False,\n",
       "       warm_start=False)"
      ]
     },
     "execution_count": 13,
     "metadata": {},
     "output_type": "execute_result"
    }
   ],
   "source": [
    "clf.fit(X_train, y_train)"
   ]
  },
  {
   "cell_type": "markdown",
   "metadata": {},
   "source": [
    "## Reviso el score"
   ]
  },
  {
   "cell_type": "code",
   "execution_count": 14,
   "metadata": {},
   "outputs": [],
   "source": [
    "# df = df[['idaviso', 'idpostulante', \n",
    "#          'idnombre_area_pref', 'idnivel_laboral_pref', 'idtipo_de_trabajo_pref',\n",
    "#          'idnombre_area_pref', 'idnivel_laboral_pref', 'idtipo_de_trabajo_pref', \n",
    "#          'valor_educacion','sexo','edad',         \n",
    "#          'se_postulo']]\n",
    "# clf.score(X_test, y_test) # 0.6870638252494188"
   ]
  },
  {
   "cell_type": "code",
   "execution_count": 15,
   "metadata": {},
   "outputs": [
    {
     "data": {
      "text/plain": [
       "0.6221470386142608"
      ]
     },
     "execution_count": 15,
     "metadata": {},
     "output_type": "execute_result"
    }
   ],
   "source": [
    "clf.score(X_test, y_test) # 0.6870638252494188"
   ]
  },
  {
   "cell_type": "markdown",
   "metadata": {},
   "source": [
    "## Predigo con todos los datos"
   ]
  },
  {
   "cell_type": "code",
   "execution_count": 16,
   "metadata": {},
   "outputs": [],
   "source": [
    "X_full_data = X\n",
    "pred_full_data = clf.predict(X_full_data)\n",
    "df['sepostulo'] = pred_full_data"
   ]
  },
  {
   "cell_type": "markdown",
   "metadata": {},
   "source": [
    "## Armo .csv para subir a Kaggle"
   ]
  },
  {
   "cell_type": "code",
   "execution_count": 18,
   "metadata": {},
   "outputs": [
    {
     "data": {
      "text/html": [
       "<div>\n",
       "<style scoped>\n",
       "    .dataframe tbody tr th:only-of-type {\n",
       "        vertical-align: middle;\n",
       "    }\n",
       "\n",
       "    .dataframe tbody tr th {\n",
       "        vertical-align: top;\n",
       "    }\n",
       "\n",
       "    .dataframe thead th {\n",
       "        text-align: right;\n",
       "    }\n",
       "</style>\n",
       "<table border=\"1\" class=\"dataframe\">\n",
       "  <thead>\n",
       "    <tr style=\"text-align: right;\">\n",
       "      <th></th>\n",
       "      <th>id</th>\n",
       "      <th>idaviso</th>\n",
       "      <th>idpostulante</th>\n",
       "    </tr>\n",
       "  </thead>\n",
       "  <tbody>\n",
       "    <tr>\n",
       "      <th>0</th>\n",
       "      <td>0</td>\n",
       "      <td>739260</td>\n",
       "      <td>6M9ZQR</td>\n",
       "    </tr>\n",
       "    <tr>\n",
       "      <th>1</th>\n",
       "      <td>1</td>\n",
       "      <td>739260</td>\n",
       "      <td>6v1xdL</td>\n",
       "    </tr>\n",
       "    <tr>\n",
       "      <th>2</th>\n",
       "      <td>2</td>\n",
       "      <td>739260</td>\n",
       "      <td>ezRKm9</td>\n",
       "    </tr>\n",
       "    <tr>\n",
       "      <th>3</th>\n",
       "      <td>3</td>\n",
       "      <td>758580</td>\n",
       "      <td>1Q35ej</td>\n",
       "    </tr>\n",
       "    <tr>\n",
       "      <th>4</th>\n",
       "      <td>4</td>\n",
       "      <td>758580</td>\n",
       "      <td>EAN4J6</td>\n",
       "    </tr>\n",
       "  </tbody>\n",
       "</table>\n",
       "</div>"
      ],
      "text/plain": [
       "   id  idaviso idpostulante\n",
       "0   0   739260       6M9ZQR\n",
       "1   1   739260       6v1xdL\n",
       "2   2   739260       ezRKm9\n",
       "3   3   758580       1Q35ej\n",
       "4   4   758580       EAN4J6"
      ]
     },
     "execution_count": 18,
     "metadata": {},
     "output_type": "execute_result"
    }
   ],
   "source": [
    "top100_full = pd.read_csv(\"test_final_100k.csv\", encoding='utf-8')\n",
    "top100_full.head()"
   ]
  },
  {
   "cell_type": "code",
   "execution_count": 19,
   "metadata": {},
   "outputs": [],
   "source": [
    "top100_full = pd.merge(top100_full, df, how='left', on=['idaviso','idpostulante'])\n",
    "top100_full = top100_full[['id', 'se_postulo', 'sepostulo']]\n",
    "top100_full.fillna(0, inplace=True)\n",
    "top100_full['se_postulo'] = top100_full['se_postulo'].astype('int')\n",
    "top100_full['sepostulo'] = top100_full['sepostulo'].astype('int')\n",
    "top100_full.loc[(top100_full['sepostulo'] == 0) & (top100_full['se_postulo'] == 1), 'sepostulo'] = 1\n",
    "top100_full[(top100_full['sepostulo'] == 0) & (top100_full['se_postulo'] == 1)]['sepostulo']\n",
    "top100_full.drop('se_postulo', axis=1, inplace=True)"
   ]
  },
  {
   "cell_type": "code",
   "execution_count": 20,
   "metadata": {},
   "outputs": [],
   "source": [
    "top100_full.to_csv('top100k_perc_12.csv', encoding='utf-8', index=False)"
   ]
  },
  {
   "cell_type": "code",
   "execution_count": null,
   "metadata": {},
   "outputs": [],
   "source": []
  },
  {
   "cell_type": "code",
   "execution_count": null,
   "metadata": {},
   "outputs": [],
   "source": []
  },
  {
   "cell_type": "code",
   "execution_count": null,
   "metadata": {},
   "outputs": [],
   "source": []
  },
  {
   "cell_type": "code",
   "execution_count": null,
   "metadata": {},
   "outputs": [],
   "source": []
  }
 ],
 "metadata": {
  "kernelspec": {
   "display_name": "Python 3",
   "language": "python",
   "name": "python3"
  },
  "language_info": {
   "codemirror_mode": {
    "name": "ipython",
    "version": 3
   },
   "file_extension": ".py",
   "mimetype": "text/x-python",
   "name": "python",
   "nbconvert_exporter": "python",
   "pygments_lexer": "ipython3",
   "version": "3.6.4"
  }
 },
 "nbformat": 4,
 "nbformat_minor": 2
}
