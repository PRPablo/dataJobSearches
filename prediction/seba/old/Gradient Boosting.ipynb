{
 "cells": [
  {
   "cell_type": "markdown",
   "metadata": {},
   "source": [
    "# Realizo la clasificacion usando Gradient Boosting"
   ]
  },
  {
   "cell_type": "markdown",
   "metadata": {},
   "source": [
    "## Importo librerias necesarias"
   ]
  },
  {
   "cell_type": "code",
   "execution_count": 2,
   "metadata": {},
   "outputs": [],
   "source": [
    "import pandas as pd\n",
    "import numpy as np\n",
    "from sklearn.model_selection import train_test_split\n",
    "#Gradient Boosting\n",
    "from sklearn.ensemble import GradientBoostingClassifier\n",
    "#PCA\n",
    "from sklearn.decomposition import PCA\n",
    "#Standard Scaler\n",
    "from  sklearn.preprocessing  import StandardScaler"
   ]
  },
  {
   "cell_type": "markdown",
   "metadata": {},
   "source": [
    "## Leo todos los datos"
   ]
  },
  {
   "cell_type": "code",
   "execution_count": 3,
   "metadata": {},
   "outputs": [
    {
     "data": {
      "text/html": [
       "<div>\n",
       "<style scoped>\n",
       "    .dataframe tbody tr th:only-of-type {\n",
       "        vertical-align: middle;\n",
       "    }\n",
       "\n",
       "    .dataframe tbody tr th {\n",
       "        vertical-align: top;\n",
       "    }\n",
       "\n",
       "    .dataframe thead th {\n",
       "        text-align: right;\n",
       "    }\n",
       "</style>\n",
       "<table border=\"1\" class=\"dataframe\">\n",
       "  <thead>\n",
       "    <tr style=\"text-align: right;\">\n",
       "      <th></th>\n",
       "      <th>idaviso</th>\n",
       "      <th>esta_online</th>\n",
       "      <th>titulo</th>\n",
       "      <th>descripcion</th>\n",
       "      <th>idzona</th>\n",
       "      <th>idciudad</th>\n",
       "      <th>idmapacalle</th>\n",
       "      <th>idtipo_de_trabajo</th>\n",
       "      <th>idnivel_laboral</th>\n",
       "      <th>idnombre_area</th>\n",
       "      <th>iddenominacion_empresa</th>\n",
       "      <th>idpostulante</th>\n",
       "      <th>timestamp</th>\n",
       "      <th>valor_educacion</th>\n",
       "      <th>sexo</th>\n",
       "      <th>edad</th>\n",
       "      <th>se_postulo</th>\n",
       "      <th>idpostulante_int</th>\n",
       "    </tr>\n",
       "  </thead>\n",
       "  <tbody>\n",
       "    <tr>\n",
       "      <th>0</th>\n",
       "      <td>1112356526</td>\n",
       "      <td>1</td>\n",
       "      <td>576460752303423488</td>\n",
       "      <td>5850181757109797004</td>\n",
       "      <td>0</td>\n",
       "      <td>0</td>\n",
       "      <td>0</td>\n",
       "      <td>0</td>\n",
       "      <td>0</td>\n",
       "      <td>182</td>\n",
       "      <td>6</td>\n",
       "      <td>qekedek</td>\n",
       "      <td>9.202352e+06</td>\n",
       "      <td>9.0</td>\n",
       "      <td>1</td>\n",
       "      <td>24</td>\n",
       "      <td>0</td>\n",
       "      <td>414724</td>\n",
       "    </tr>\n",
       "    <tr>\n",
       "      <th>1</th>\n",
       "      <td>1112346262</td>\n",
       "      <td>1</td>\n",
       "      <td>1154047404513689600</td>\n",
       "      <td>9200867796308722401</td>\n",
       "      <td>0</td>\n",
       "      <td>0</td>\n",
       "      <td>0</td>\n",
       "      <td>0</td>\n",
       "      <td>1</td>\n",
       "      <td>73</td>\n",
       "      <td>480</td>\n",
       "      <td>83zk2R</td>\n",
       "      <td>7.817715e+06</td>\n",
       "      <td>10.0</td>\n",
       "      <td>2</td>\n",
       "      <td>26</td>\n",
       "      <td>1</td>\n",
       "      <td>87038</td>\n",
       "    </tr>\n",
       "    <tr>\n",
       "      <th>2</th>\n",
       "      <td>1112397910</td>\n",
       "      <td>0</td>\n",
       "      <td>40532396646334464</td>\n",
       "      <td>5161232066131706144</td>\n",
       "      <td>0</td>\n",
       "      <td>0</td>\n",
       "      <td>0</td>\n",
       "      <td>0</td>\n",
       "      <td>1</td>\n",
       "      <td>152</td>\n",
       "      <td>26</td>\n",
       "      <td>KBaGp2p</td>\n",
       "      <td>6.759920e+06</td>\n",
       "      <td>10.0</td>\n",
       "      <td>1</td>\n",
       "      <td>27</td>\n",
       "      <td>1</td>\n",
       "      <td>180061</td>\n",
       "    </tr>\n",
       "    <tr>\n",
       "      <th>3</th>\n",
       "      <td>1112452139</td>\n",
       "      <td>1</td>\n",
       "      <td>9007199254773760</td>\n",
       "      <td>6820714967321280568</td>\n",
       "      <td>0</td>\n",
       "      <td>0</td>\n",
       "      <td>0</td>\n",
       "      <td>0</td>\n",
       "      <td>0</td>\n",
       "      <td>5</td>\n",
       "      <td>17</td>\n",
       "      <td>QNE8J24</td>\n",
       "      <td>4.683675e+06</td>\n",
       "      <td>6.0</td>\n",
       "      <td>2</td>\n",
       "      <td>20</td>\n",
       "      <td>0</td>\n",
       "      <td>236192</td>\n",
       "    </tr>\n",
       "    <tr>\n",
       "      <th>4</th>\n",
       "      <td>1112249678</td>\n",
       "      <td>0</td>\n",
       "      <td>576460752303423488</td>\n",
       "      <td>8098035492326473800</td>\n",
       "      <td>1</td>\n",
       "      <td>0</td>\n",
       "      <td>10</td>\n",
       "      <td>0</td>\n",
       "      <td>0</td>\n",
       "      <td>182</td>\n",
       "      <td>2082</td>\n",
       "      <td>JBrpa35</td>\n",
       "      <td>1.290450e+07</td>\n",
       "      <td>10.0</td>\n",
       "      <td>1</td>\n",
       "      <td>26</td>\n",
       "      <td>1</td>\n",
       "      <td>176876</td>\n",
       "    </tr>\n",
       "  </tbody>\n",
       "</table>\n",
       "</div>"
      ],
      "text/plain": [
       "      idaviso  esta_online               titulo          descripcion  idzona  \\\n",
       "0  1112356526            1   576460752303423488  5850181757109797004       0   \n",
       "1  1112346262            1  1154047404513689600  9200867796308722401       0   \n",
       "2  1112397910            0    40532396646334464  5161232066131706144       0   \n",
       "3  1112452139            1     9007199254773760  6820714967321280568       0   \n",
       "4  1112249678            0   576460752303423488  8098035492326473800       1   \n",
       "\n",
       "   idciudad  idmapacalle  idtipo_de_trabajo  idnivel_laboral  idnombre_area  \\\n",
       "0         0            0                  0                0            182   \n",
       "1         0            0                  0                1             73   \n",
       "2         0            0                  0                1            152   \n",
       "3         0            0                  0                0              5   \n",
       "4         0           10                  0                0            182   \n",
       "\n",
       "   iddenominacion_empresa idpostulante     timestamp  valor_educacion  sexo  \\\n",
       "0                       6      qekedek  9.202352e+06              9.0     1   \n",
       "1                     480       83zk2R  7.817715e+06             10.0     2   \n",
       "2                      26      KBaGp2p  6.759920e+06             10.0     1   \n",
       "3                      17      QNE8J24  4.683675e+06              6.0     2   \n",
       "4                    2082      JBrpa35  1.290450e+07             10.0     1   \n",
       "\n",
       "   edad  se_postulo  idpostulante_int  \n",
       "0    24           0            414724  \n",
       "1    26           1             87038  \n",
       "2    27           1            180061  \n",
       "3    20           0            236192  \n",
       "4    26           1            176876  "
      ]
     },
     "execution_count": 3,
     "metadata": {},
     "output_type": "execute_result"
    }
   ],
   "source": [
    "df = pd.read_csv('../../data/final_data/entrenamiento_postulaciones_vistas4.csv', encoding='utf-8', dtype={\n",
    "    'titulo_analista': np.int8,\n",
    "    'titulo_tecnico': np.int8,\n",
    "    'titulo_administrativo': np.int8,    \n",
    "    'titulo_vendedor': np.int8,          \n",
    "    'titulo_comercial': np.int8,        \n",
    "    'titulo_ventas': np.int8,            \n",
    "    'titulo_sr': np.int8,                \n",
    "    'titulo_importante': np.int8,        \n",
    "    'titulo_jefe': np.int8,              \n",
    "    'titulo_empresa': np.int8,           \n",
    "    'titulo_asistente': np.int8,         \n",
    "    'titulo_supervisor': np.int8,         \n",
    "    'titulo_jr': np.int8,                \n",
    "    'titulo_contable': np.int8,          \n",
    "    'desc_experiencia': np.int8,         \n",
    "    'desc_empresa': np.int8,             \n",
    "    'desc_trabajo': np.int8,             \n",
    "    'desc_excluyente': np.int8,          \n",
    "    'desc_manejo': np.int8,          \n",
    "    'desc_importante': np.int8,          \n",
    "    'desc_equipo': np.int8,              \n",
    "    'desc_tareas': np.int8,              \n",
    "    'desc_cliente': np.int8,            \n",
    "    'desc_clientes': np.int8,            \n",
    "    'desc_conocimientos': np.int8 \n",
    "})\n",
    "    \n",
    "df.head()"
   ]
  },
  {
   "cell_type": "code",
   "execution_count": 4,
   "metadata": {},
   "outputs": [
    {
     "name": "stderr",
     "output_type": "stream",
     "text": [
      "/home/sebastian/anaconda3/lib/python3.6/site-packages/ipykernel_launcher.py:2: SettingWithCopyWarning: \n",
      "A value is trying to be set on a copy of a slice from a DataFrame\n",
      "\n",
      "See the caveats in the documentation: http://pandas.pydata.org/pandas-docs/stable/indexing.html#indexing-view-versus-copy\n",
      "  \n"
     ]
    }
   ],
   "source": [
    "cols = df.head(0)\n",
    "cols.drop(['se_postulo', 'idaviso', 'idpostulante'],inplace=True, axis=1)\n",
    "cols = cols.columns"
   ]
  },
  {
   "cell_type": "code",
   "execution_count": 5,
   "metadata": {},
   "outputs": [],
   "source": [
    "mintimestamp = df['timestamp'].min()\n",
    "df['timestamp'] = df['timestamp']-mintimestamp\n",
    "mintimestamp = df['idpostulante_int'].min()\n",
    "df['idpostulante_int'] = df['idpostulante_int']-mintimestamp"
   ]
  },
  {
   "cell_type": "code",
   "execution_count": 6,
   "metadata": {},
   "outputs": [],
   "source": [
    "X = np.array(df.loc[:,cols])\n",
    "y = np.array(df['se_postulo']) "
   ]
  },
  {
   "cell_type": "markdown",
   "metadata": {},
   "source": [
    "## Aplico Scaler"
   ]
  },
  {
   "cell_type": "code",
   "execution_count": 7,
   "metadata": {},
   "outputs": [],
   "source": [
    "scaler = StandardScaler() \n",
    "scaler.fit(X)\n",
    "X = scaler.transform(X) "
   ]
  },
  {
   "cell_type": "markdown",
   "metadata": {},
   "source": [
    "## Aplico PCA"
   ]
  },
  {
   "cell_type": "code",
   "execution_count": 8,
   "metadata": {},
   "outputs": [],
   "source": [
    "pca = PCA(n_components=2)\n",
    "pca.fit(X)\n",
    "X = pca.transform(X)"
   ]
  },
  {
   "cell_type": "markdown",
   "metadata": {},
   "source": [
    "## Realizo el Train Test Split"
   ]
  },
  {
   "cell_type": "code",
   "execution_count": 9,
   "metadata": {},
   "outputs": [],
   "source": [
    "X_train, X_test, y_train, y_test = train_test_split(X, y, test_size=0.10, random_state=7506)"
   ]
  },
  {
   "cell_type": "markdown",
   "metadata": {},
   "source": [
    "## Defino el clasificador"
   ]
  },
  {
   "cell_type": "code",
   "execution_count": 10,
   "metadata": {},
   "outputs": [],
   "source": [
    "clf = GradientBoostingClassifier(n_estimators=100, learning_rate=1.0, max_depth=1, random_state=0)"
   ]
  },
  {
   "cell_type": "markdown",
   "metadata": {},
   "source": [
    "## Entreno el clasificador"
   ]
  },
  {
   "cell_type": "code",
   "execution_count": 11,
   "metadata": {},
   "outputs": [],
   "source": [
    "clf.fit(X_train, y_train);\n",
    "#Set3. Scaler. PCA 1. Gradient Boosting 0.6236741846921211 0.89506\n",
    "#Set3. Scaler. PCA 2. Gradient Boosting 0.6163573642545204 0.89034"
   ]
  },
  {
   "cell_type": "markdown",
   "metadata": {},
   "source": [
    "## Reviso el score"
   ]
  },
  {
   "cell_type": "code",
   "execution_count": 12,
   "metadata": {},
   "outputs": [
    {
     "data": {
      "text/plain": [
       "0.6163573642545204"
      ]
     },
     "execution_count": 12,
     "metadata": {},
     "output_type": "execute_result"
    }
   ],
   "source": [
    "clf.score(X_test, y_test)"
   ]
  },
  {
   "cell_type": "markdown",
   "metadata": {},
   "source": [
    "## Predigo con todos los datos"
   ]
  },
  {
   "cell_type": "code",
   "execution_count": 13,
   "metadata": {},
   "outputs": [],
   "source": [
    "X_full_data = X\n",
    "pred_full_data = clf.predict(X_full_data)\n",
    "df['sepostulo'] = pred_full_data"
   ]
  },
  {
   "cell_type": "markdown",
   "metadata": {},
   "source": [
    "## Armo .csv para subir a Kaggle"
   ]
  },
  {
   "cell_type": "code",
   "execution_count": 14,
   "metadata": {},
   "outputs": [],
   "source": [
    "top100_full = pd.read_csv(\"../../test_final_100k.csv\", encoding='utf-8')\n",
    "top100_full = pd.merge(top100_full, df, how='left', on=['idaviso','idpostulante'])\n",
    "top100_full = top100_full[['id', 'se_postulo', 'sepostulo']]\n",
    "top100_full.fillna(0, inplace=True)\n",
    "top100_full['se_postulo'] = top100_full['se_postulo'].astype('int')\n",
    "top100_full['sepostulo'] = top100_full['sepostulo'].astype('int')\n",
    "top100_full.loc[(top100_full['sepostulo'] == 0) & (top100_full['se_postulo'] == 1), 'sepostulo'] = 1\n",
    "top100_full[(top100_full['sepostulo'] == 0) & (top100_full['se_postulo'] == 1)]['sepostulo']\n",
    "top100_full.drop('se_postulo', axis=1, inplace=True)\n",
    "top100_full.to_csv('../../data/final_data/top100k.csv', encoding='utf-8', index=False)"
   ]
  }
 ],
 "metadata": {
  "kernelspec": {
   "display_name": "Python 3",
   "language": "python",
   "name": "python3"
  },
  "language_info": {
   "codemirror_mode": {
    "name": "ipython",
    "version": 3
   },
   "file_extension": ".py",
   "mimetype": "text/x-python",
   "name": "python",
   "nbconvert_exporter": "python",
   "pygments_lexer": "ipython3",
   "version": "3.6.4"
  }
 },
 "nbformat": 4,
 "nbformat_minor": 2
}
