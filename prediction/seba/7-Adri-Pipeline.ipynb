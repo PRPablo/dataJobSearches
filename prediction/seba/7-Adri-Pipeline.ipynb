{
 "cells": [
  {
   "cell_type": "markdown",
   "metadata": {},
   "source": [
    "# Realizo la clasificacion usando Bernoulli Naive Bayes"
   ]
  },
  {
   "cell_type": "markdown",
   "metadata": {},
   "source": [
    "## Tabla de resultados"
   ]
  },
  {
   "cell_type": "markdown",
   "metadata": {},
   "source": [
    "## Importo librerias necesarias"
   ]
  },
  {
   "cell_type": "code",
   "execution_count": 1,
   "metadata": {},
   "outputs": [
    {
     "name": "stderr",
     "output_type": "stream",
     "text": [
      "C:\\ProgramData\\Anaconda3\\lib\\site-packages\\sklearn\\cross_validation.py:41: DeprecationWarning: This module was deprecated in version 0.18 in favor of the model_selection module into which all the refactored classes and functions are moved. Also note that the interface of the new CV iterators are different from that of this module. This module will be removed in 0.20.\n",
      "  \"This module will be removed in 0.20.\", DeprecationWarning)\n"
     ]
    }
   ],
   "source": [
    "import pandas as pd\n",
    "import numpy as np\n",
    "from sklearn.model_selection import train_test_split\n",
    "#Gradient Boosting\n",
    "from sklearn.ensemble import GradientBoostingClassifier\n",
    "#Bernoulli Naive Bayes\n",
    "from sklearn.naive_bayes import BernoulliNB\n",
    "#Standard Scaler\n",
    "from  sklearn.preprocessing  import StandardScaler\n",
    "#PCA\n",
    "from sklearn.decomposition import PCA\n",
    "\n",
    "from sklearn.cross_validation import train_test_split\n",
    "from sklearn.neighbors import KNeighborsClassifier\n",
    "from sklearn.metrics import accuracy_score\n",
    "from sklearn.decomposition import PCA\n",
    "from sklearn import preprocessing\n",
    "\n",
    "from sklearn.model_selection import train_test_split\n",
    "from sklearn.preprocessing import StandardScaler\n",
    "from sklearn.decomposition import PCA\n",
    "from sklearn.naive_bayes import GaussianNB\n",
    "from sklearn import metrics\n",
    "import matplotlib.pyplot as plt\n",
    "from sklearn.datasets import load_wine\n",
    "from sklearn.pipeline import make_pipeline"
   ]
  },
  {
   "cell_type": "markdown",
   "metadata": {},
   "source": [
    "## Leo todos los datos"
   ]
  },
  {
   "cell_type": "code",
   "execution_count": 2,
   "metadata": {},
   "outputs": [
    {
     "data": {
      "text/html": [
       "<div>\n",
       "<style scoped>\n",
       "    .dataframe tbody tr th:only-of-type {\n",
       "        vertical-align: middle;\n",
       "    }\n",
       "\n",
       "    .dataframe tbody tr th {\n",
       "        vertical-align: top;\n",
       "    }\n",
       "\n",
       "    .dataframe thead th {\n",
       "        text-align: right;\n",
       "    }\n",
       "</style>\n",
       "<table border=\"1\" class=\"dataframe\">\n",
       "  <thead>\n",
       "    <tr style=\"text-align: right;\">\n",
       "      <th></th>\n",
       "      <th>idaviso</th>\n",
       "      <th>esta_online</th>\n",
       "      <th>idtipo_de_trabajo</th>\n",
       "      <th>idnivel_laboral</th>\n",
       "      <th>idnombre_area</th>\n",
       "      <th>idpostulante</th>\n",
       "      <th>month</th>\n",
       "      <th>day</th>\n",
       "      <th>dayofweek</th>\n",
       "      <th>hour</th>\n",
       "      <th>valor_educacion</th>\n",
       "      <th>sexo</th>\n",
       "      <th>edad</th>\n",
       "      <th>idnombre_area_pref</th>\n",
       "      <th>idnivel_laboral_pref</th>\n",
       "      <th>idtipo_de_trabajo_pref</th>\n",
       "      <th>idpostulante_int</th>\n",
       "      <th>se_postulo</th>\n",
       "    </tr>\n",
       "  </thead>\n",
       "  <tbody>\n",
       "    <tr>\n",
       "      <th>0</th>\n",
       "      <td>1112463331</td>\n",
       "      <td>1</td>\n",
       "      <td>0</td>\n",
       "      <td>0</td>\n",
       "      <td>182</td>\n",
       "      <td>lD29ko8</td>\n",
       "      <td>4</td>\n",
       "      <td>23</td>\n",
       "      <td>0</td>\n",
       "      <td>12</td>\n",
       "      <td>10</td>\n",
       "      <td>1</td>\n",
       "      <td>39</td>\n",
       "      <td>182</td>\n",
       "      <td>0</td>\n",
       "      <td>0</td>\n",
       "      <td>411659</td>\n",
       "      <td>0</td>\n",
       "    </tr>\n",
       "    <tr>\n",
       "      <th>1</th>\n",
       "      <td>1111117368</td>\n",
       "      <td>1</td>\n",
       "      <td>0</td>\n",
       "      <td>0</td>\n",
       "      <td>182</td>\n",
       "      <td>kPjlzkW</td>\n",
       "      <td>4</td>\n",
       "      <td>14</td>\n",
       "      <td>5</td>\n",
       "      <td>4</td>\n",
       "      <td>7</td>\n",
       "      <td>-1</td>\n",
       "      <td>22</td>\n",
       "      <td>182</td>\n",
       "      <td>0</td>\n",
       "      <td>0</td>\n",
       "      <td>410684</td>\n",
       "      <td>0</td>\n",
       "    </tr>\n",
       "    <tr>\n",
       "      <th>2</th>\n",
       "      <td>1112375007</td>\n",
       "      <td>1</td>\n",
       "      <td>0</td>\n",
       "      <td>2</td>\n",
       "      <td>102</td>\n",
       "      <td>vVYMDXX</td>\n",
       "      <td>3</td>\n",
       "      <td>31</td>\n",
       "      <td>5</td>\n",
       "      <td>3</td>\n",
       "      <td>12</td>\n",
       "      <td>1</td>\n",
       "      <td>25</td>\n",
       "      <td>142</td>\n",
       "      <td>0</td>\n",
       "      <td>0</td>\n",
       "      <td>468623</td>\n",
       "      <td>0</td>\n",
       "    </tr>\n",
       "    <tr>\n",
       "      <th>3</th>\n",
       "      <td>1112440654</td>\n",
       "      <td>1</td>\n",
       "      <td>0</td>\n",
       "      <td>0</td>\n",
       "      <td>182</td>\n",
       "      <td>8MBLq9D</td>\n",
       "      <td>4</td>\n",
       "      <td>4</td>\n",
       "      <td>2</td>\n",
       "      <td>10</td>\n",
       "      <td>11</td>\n",
       "      <td>1</td>\n",
       "      <td>24</td>\n",
       "      <td>182</td>\n",
       "      <td>0</td>\n",
       "      <td>0</td>\n",
       "      <td>100860</td>\n",
       "      <td>1</td>\n",
       "    </tr>\n",
       "    <tr>\n",
       "      <th>4</th>\n",
       "      <td>1112484998</td>\n",
       "      <td>0</td>\n",
       "      <td>0</td>\n",
       "      <td>0</td>\n",
       "      <td>2</td>\n",
       "      <td>A39MmJm</td>\n",
       "      <td>4</td>\n",
       "      <td>24</td>\n",
       "      <td>1</td>\n",
       "      <td>16</td>\n",
       "      <td>9</td>\n",
       "      <td>1</td>\n",
       "      <td>26</td>\n",
       "      <td>-1</td>\n",
       "      <td>-1</td>\n",
       "      <td>-1</td>\n",
       "      <td>130301</td>\n",
       "      <td>0</td>\n",
       "    </tr>\n",
       "  </tbody>\n",
       "</table>\n",
       "</div>"
      ],
      "text/plain": [
       "      idaviso  esta_online  idtipo_de_trabajo  idnivel_laboral  idnombre_area  \\\n",
       "0  1112463331            1                  0                0            182   \n",
       "1  1111117368            1                  0                0            182   \n",
       "2  1112375007            1                  0                2            102   \n",
       "3  1112440654            1                  0                0            182   \n",
       "4  1112484998            0                  0                0              2   \n",
       "\n",
       "  idpostulante  month  day  dayofweek  hour  valor_educacion  sexo  edad  \\\n",
       "0      lD29ko8      4   23          0    12               10     1    39   \n",
       "1      kPjlzkW      4   14          5     4                7    -1    22   \n",
       "2      vVYMDXX      3   31          5     3               12     1    25   \n",
       "3      8MBLq9D      4    4          2    10               11     1    24   \n",
       "4      A39MmJm      4   24          1    16                9     1    26   \n",
       "\n",
       "   idnombre_area_pref  idnivel_laboral_pref  idtipo_de_trabajo_pref  \\\n",
       "0                 182                     0                       0   \n",
       "1                 182                     0                       0   \n",
       "2                 142                     0                       0   \n",
       "3                 182                     0                       0   \n",
       "4                  -1                    -1                      -1   \n",
       "\n",
       "   idpostulante_int  se_postulo  \n",
       "0            411659           0  \n",
       "1            410684           0  \n",
       "2            468623           0  \n",
       "3            100860           1  \n",
       "4            130301           0  "
      ]
     },
     "execution_count": 2,
     "metadata": {},
     "output_type": "execute_result"
    }
   ],
   "source": [
    "df = pd.read_csv('../../data/adri_data/entrenamiento_postulaciones_vistas17_full.csv', encoding='utf-8')\n",
    "df.head()"
   ]
  },
  {
   "cell_type": "code",
   "execution_count": 3,
   "metadata": {},
   "outputs": [],
   "source": [
    "# df['sexo'] = df['sexo'] * 100\n",
    "# df['valor_educacion'] = df['valor_educacion'].apply(lambda x: x*10)\n",
    "# vistas_y_postulaciones['month'] = vistas_y_postulaciones['month'].apply(lambda x: 2**x)\n",
    "# vistas_y_postulaciones['day'] = vistas_y_postulaciones['day'].apply(lambda x: 2**x)\n",
    "# vistas_y_postulaciones['dayofweek'] = vistas_y_postulaciones['dayofweek'].apply(lambda x: 2**x)\n",
    "# vistas_y_postulaciones['hour'] = vistas_y_postulaciones['hour'].apply(lambda x: 2**x)\n",
    "\n",
    "# df['pref1'] = df['idnombre_area_pref'] == df['idnombre_area']\n",
    "# df['pref2'] = df['idnivel_laboral_pref'] == df['idnivel_laboral']\n",
    "# df['pref3'] = df['idtipo_de_trabajo_pref'] == df['idtipo_de_trabajo']"
   ]
  },
  {
   "cell_type": "code",
   "execution_count": 4,
   "metadata": {},
   "outputs": [],
   "source": [
    "# monthMean = df[df['month'] != 0]['month'].mean()\n",
    "# dayMean = df[df['day'] != 0]['day'].mean()\n",
    "# hourMean = df[df['hour'] != 0]['hour'].mean()\n",
    "# dayofweekMean = df[df['dayofweek'] != 0]['dayofweek'].mean()\n",
    "# df['month'] = df['month'].apply(lambda x: monthMean if x == 0 else x)\n",
    "# df['day'] = df['day'].apply(lambda x: dayMean if x == 0 else x)\n",
    "# df['hour'] = df['hour'].apply(lambda x: hourMean if x == 0 else x)\n",
    "# df['dayofweek'] = df['dayofweek'].apply(lambda x: dayofweekMean if x == 0 else x)"
   ]
  },
  {
   "cell_type": "code",
   "execution_count": null,
   "metadata": {},
   "outputs": [],
   "source": []
  },
  {
   "cell_type": "code",
   "execution_count": 5,
   "metadata": {},
   "outputs": [],
   "source": [
    "df['se_postulo'] = df['se_postulo'].apply(lambda x: 1 if x == 1 else 0)"
   ]
  },
  {
   "cell_type": "code",
   "execution_count": 6,
   "metadata": {},
   "outputs": [],
   "source": [
    "def dropCols(df):\n",
    "    cols = df.head(0)\n",
    "    \n",
    "    cols = cols[[\n",
    "        'idaviso', \n",
    "        'esta_online',         \n",
    "        'idtipo_de_trabajo', \n",
    "        'idnombre_area', \n",
    "        'idnivel_laboral',        \n",
    "        'month',\n",
    "        'day', \n",
    "        'dayofweek', \n",
    "        'hour', \n",
    "        'sexo', \n",
    "        'edad', \n",
    "        'idpostulante_int',        \n",
    "        'valor_educacion',        \n",
    "\n",
    "        #'pref1',\n",
    "        #'pref2',\n",
    "        #'pref3'\n",
    "\n",
    "        \n",
    "        #'idnombre_area_pref',             \n",
    "        #'idnivel_laboral_pref',    \n",
    "        #'idtipo_de_trabajo_pref',           \n",
    "    ]]\n",
    "    \n",
    "    ##cols.drop([\n",
    "    ##    # 'sexo',\n",
    "    ##    # 'edad',\n",
    "    ##    # 'month', 'day', 'dayofweek', 'hour', \n",
    "    ##    # 'esta_online',    \n",
    "    ##    # 'idpostulante_int',    \n",
    "    ##    # 'idaviso',        \n",
    "    ##    #'idnombre_area',        \n",
    "    ##    #'idtipo_de_trabajo',     \n",
    "##\n",
    "    ##    'idnivel_laboral',  \n",
    "    ##    'idnombre_area_pref',             \n",
    "    ##    'idnivel_laboral_pref',    \n",
    "    ##    'idtipo_de_trabajo_pref',        \n",
    "    ##    'valor_educacion',\n",
    "##\n",
    "    ##    'se_postulo',    \n",
    "    ##    'idpostulante',    \n",
    "    ##    'sepostulo'\n",
    "    ##],inplace=True, axis=1)\n",
    "    return cols.columns\n",
    "\n",
    "cols = dropCols(df)"
   ]
  },
  {
   "cell_type": "code",
   "execution_count": 7,
   "metadata": {},
   "outputs": [
    {
     "data": {
      "text/plain": [
       "Index(['idaviso', 'esta_online', 'idtipo_de_trabajo', 'idnombre_area',\n",
       "       'idnivel_laboral', 'month', 'day', 'dayofweek', 'hour', 'sexo', 'edad',\n",
       "       'idpostulante_int', 'valor_educacion'],\n",
       "      dtype='object')"
      ]
     },
     "execution_count": 7,
     "metadata": {},
     "output_type": "execute_result"
    }
   ],
   "source": [
    "cols"
   ]
  },
  {
   "cell_type": "code",
   "execution_count": 8,
   "metadata": {},
   "outputs": [],
   "source": [
    "dfix = df.loc[:,cols]"
   ]
  },
  {
   "cell_type": "code",
   "execution_count": 9,
   "metadata": {},
   "outputs": [],
   "source": [
    "X = np.array(dfix)\n",
    "y = np.array(df['se_postulo']) "
   ]
  },
  {
   "cell_type": "code",
   "execution_count": 10,
   "metadata": {},
   "outputs": [],
   "source": [
    "clf = make_pipeline(preprocessing.QuantileTransformer(), GaussianNB())"
   ]
  },
  {
   "cell_type": "code",
   "execution_count": 11,
   "metadata": {},
   "outputs": [
    {
     "data": {
      "text/plain": [
       "Pipeline(memory=None,\n",
       "     steps=[('quantiletransformer', QuantileTransformer(copy=True, ignore_implicit_zeros=False, n_quantiles=1000,\n",
       "          output_distribution='uniform', random_state=None,\n",
       "          subsample=100000)), ('gaussiannb', GaussianNB(priors=None))])"
      ]
     },
     "execution_count": 11,
     "metadata": {},
     "output_type": "execute_result"
    }
   ],
   "source": [
    "#for i in range(0, 4):\n",
    "#    X_train, X_test, y_train, y_test = train_test_split(X, y, test_size=(0.99 - i * 0.25), random_state=7506)\n",
    "#     clf.fit(X_train, y_train)\n",
    "X_train, X_test, y_train, y_test = train_test_split(X, y, test_size=0.25, random_state=7506)\n",
    "clf.fit(X_train, y_train)    "
   ]
  },
  {
   "cell_type": "code",
   "execution_count": 12,
   "metadata": {},
   "outputs": [
    {
     "data": {
      "text/plain": [
       "0.8001382262259503"
      ]
     },
     "execution_count": 12,
     "metadata": {},
     "output_type": "execute_result"
    }
   ],
   "source": [
    "clf.score(X_test, y_test) # 0.8001382262259503"
   ]
  },
  {
   "cell_type": "code",
   "execution_count": null,
   "metadata": {},
   "outputs": [],
   "source": []
  },
  {
   "cell_type": "code",
   "execution_count": null,
   "metadata": {},
   "outputs": [],
   "source": []
  },
  {
   "cell_type": "markdown",
   "metadata": {},
   "source": [
    "## Predigo con todos los datos"
   ]
  },
  {
   "cell_type": "code",
   "execution_count": 13,
   "metadata": {},
   "outputs": [],
   "source": [
    "X_full_data = X\n",
    "pred_full_data = clf.predict(X_full_data)\n",
    "df['sepostulo'] = pred_full_data"
   ]
  },
  {
   "cell_type": "markdown",
   "metadata": {},
   "source": [
    "## Armo .csv para subir a Kaggle"
   ]
  },
  {
   "cell_type": "code",
   "execution_count": 14,
   "metadata": {},
   "outputs": [],
   "source": [
    "top100_full = pd.read_csv(\"../../test_final_100k.csv\", encoding='utf-8')\n",
    "top100_full = pd.merge(top100_full, df, how='left', on=['idaviso','idpostulante'])\n",
    "top100_full = top100_full[['id', 'se_postulo', 'sepostulo']]"
   ]
  },
  {
   "cell_type": "code",
   "execution_count": 15,
   "metadata": {},
   "outputs": [],
   "source": [
    "top100_full.sort_values('sepostulo', ascending=False)\n",
    "top100_full.drop_duplicates('id', inplace=True)"
   ]
  },
  {
   "cell_type": "code",
   "execution_count": 16,
   "metadata": {},
   "outputs": [],
   "source": [
    "top100_full.fillna(0, inplace=True)\n",
    "top100_full['se_postulo'] = top100_full['se_postulo'].astype('int')\n",
    "top100_full['sepostulo'] = top100_full['sepostulo'].astype('int')"
   ]
  },
  {
   "cell_type": "code",
   "execution_count": 17,
   "metadata": {
    "scrolled": true
   },
   "outputs": [
    {
     "data": {
      "text/plain": [
       "(39903, 3)"
      ]
     },
     "execution_count": 17,
     "metadata": {},
     "output_type": "execute_result"
    }
   ],
   "source": [
    "top100_full[top100_full['sepostulo'] == 0].shape"
   ]
  },
  {
   "cell_type": "code",
   "execution_count": 18,
   "metadata": {
    "scrolled": true
   },
   "outputs": [
    {
     "data": {
      "text/plain": [
       "(60097, 3)"
      ]
     },
     "execution_count": 18,
     "metadata": {},
     "output_type": "execute_result"
    }
   ],
   "source": [
    "top100_full[top100_full['sepostulo'] == 1].shape # 59427"
   ]
  },
  {
   "cell_type": "code",
   "execution_count": 19,
   "metadata": {},
   "outputs": [
    {
     "data": {
      "text/plain": [
       "(0, 3)"
      ]
     },
     "execution_count": 19,
     "metadata": {},
     "output_type": "execute_result"
    }
   ],
   "source": [
    "top100_full[top100_full['sepostulo'] == -1].shape"
   ]
  },
  {
   "cell_type": "code",
   "execution_count": 20,
   "metadata": {},
   "outputs": [
    {
     "data": {
      "text/plain": [
       "594       0\n",
       "648       0\n",
       "736       0\n",
       "749       0\n",
       "754       0\n",
       "755       0\n",
       "761       0\n",
       "767       0\n",
       "775       0\n",
       "852       0\n",
       "859       0\n",
       "903       0\n",
       "904       0\n",
       "909       0\n",
       "924       0\n",
       "929       0\n",
       "939       0\n",
       "941       0\n",
       "943       0\n",
       "947       0\n",
       "949       0\n",
       "955       0\n",
       "979       0\n",
       "983       0\n",
       "989       0\n",
       "993       0\n",
       "999       0\n",
       "1004      0\n",
       "1005      0\n",
       "1022      0\n",
       "         ..\n",
       "152372    0\n",
       "152374    0\n",
       "152383    0\n",
       "152397    0\n",
       "152421    0\n",
       "152424    0\n",
       "152429    0\n",
       "152440    0\n",
       "152442    0\n",
       "152459    0\n",
       "152466    0\n",
       "152468    0\n",
       "152476    0\n",
       "152478    0\n",
       "152481    0\n",
       "152484    0\n",
       "152487    0\n",
       "152498    0\n",
       "152499    0\n",
       "152504    0\n",
       "152513    0\n",
       "152515    0\n",
       "152519    0\n",
       "152522    0\n",
       "152527    0\n",
       "152529    0\n",
       "152543    0\n",
       "152554    0\n",
       "152571    0\n",
       "152573    0\n",
       "Name: sepostulo, Length: 17014, dtype: int32"
      ]
     },
     "execution_count": 20,
     "metadata": {},
     "output_type": "execute_result"
    }
   ],
   "source": [
    "top100_full[(top100_full['sepostulo'] == 0) & (top100_full['se_postulo'] == 1)]['sepostulo']"
   ]
  },
  {
   "cell_type": "code",
   "execution_count": 21,
   "metadata": {},
   "outputs": [],
   "source": [
    "top100_full.drop('se_postulo', axis=1, inplace=True)"
   ]
  },
  {
   "cell_type": "code",
   "execution_count": 23,
   "metadata": {},
   "outputs": [],
   "source": [
    "top100_full.to_csv('top100k_KNN_QuantileTransformer_PCA_Set17_full_GNB.csv', encoding='utf-8', index=False)"
   ]
  },
  {
   "cell_type": "code",
   "execution_count": 26,
   "metadata": {},
   "outputs": [],
   "source": [
    "# top100_full.loc[(top100_full['sepostulo'] == 0) & (top100_full['se_postulo'] == 1), 'sepostulo'] = 1\n",
    "# top100_full[(top100_full['sepostulo'] == 0) & (top100_full['se_postulo'] == 1)]['sepostulo']"
   ]
  },
  {
   "cell_type": "code",
   "execution_count": 53,
   "metadata": {},
   "outputs": [
    {
     "data": {
      "text/plain": [
       "(100000, 3)"
      ]
     },
     "execution_count": 53,
     "metadata": {},
     "output_type": "execute_result"
    }
   ],
   "source": [
    "top100_full.shape"
   ]
  },
  {
   "cell_type": "code",
   "execution_count": null,
   "metadata": {},
   "outputs": [],
   "source": []
  }
 ],
 "metadata": {
  "kernelspec": {
   "display_name": "Python 3",
   "language": "python",
   "name": "python3"
  },
  "language_info": {
   "codemirror_mode": {
    "name": "ipython",
    "version": 3
   },
   "file_extension": ".py",
   "mimetype": "text/x-python",
   "name": "python",
   "nbconvert_exporter": "python",
   "pygments_lexer": "ipython3",
   "version": "3.6.4"
  }
 },
 "nbformat": 4,
 "nbformat_minor": 2
}
