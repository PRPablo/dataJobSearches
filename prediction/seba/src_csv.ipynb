{
 "cells": [
  {
   "cell_type": "markdown",
   "metadata": {},
   "source": [
    "# CSV Builder"
   ]
  },
  {
   "cell_type": "markdown",
   "metadata": {},
   "source": [
    "## Importo librerias necesarias"
   ]
  },
  {
   "cell_type": "code",
   "execution_count": 1,
   "metadata": {},
   "outputs": [],
   "source": [
    "#Pandas\n",
    "import pandas as pd\n",
    "#Numpy\n",
    "import numpy as np\n",
    "#Datetime\n",
    "import datetime as dt\n",
    "#Pendulum\n",
    "import pendulum"
   ]
  },
  {
   "cell_type": "markdown",
   "metadata": {},
   "source": [
    "## Files necesarios"
   ]
  },
  {
   "cell_type": "code",
   "execution_count": 2,
   "metadata": {},
   "outputs": [],
   "source": [
    "# Nota: Colocarlos en la carpeta src.\n",
    "# valor_educacion.csv\n",
    "# fiuba_1_postulantes_educacion.csv\n",
    "# fiuba_1_postulantes_educacion_2.csv\n",
    "# fiuba_1_postulantes_educacion_3.csv\n",
    "# fiuba_2_postulantes_genero_y_edad.csv\n",
    "# fiuba_2_postulantes_genero_y_edad_2.csv\n",
    "# fiuba_2_postulantes_genero_y_edad_3.csv\n",
    "# fiuba_3_vistas.csv\n",
    "# fiuba_3_vistas_2.csv\n",
    "# fiuba_3_vistas_3.csv\n",
    "# fiuba_4_postulaciones.csv\n",
    "# fiuba_4_postulaciones_2.csv\n",
    "# fiuba_5_avisos_online.csv\n",
    "# fiuba_5_avisos_online_2.csv\n",
    "# fiuba_6_avisos_detalle.csv\n",
    "# fiuba_6_avisos_detalle_2.csv\n",
    "# fiuba_6_avisos_detalle_3.csv\n",
    "# fiuba_6_avisos_detalle_4.csv"
   ]
  },
  {
   "cell_type": "markdown",
   "metadata": {},
   "source": [
    "## Proceso a los postulantes"
   ]
  },
  {
   "cell_type": "markdown",
   "metadata": {},
   "source": [
    "## Proceso informacion academica de los postulantes"
   ]
  },
  {
   "cell_type": "code",
   "execution_count": 3,
   "metadata": {},
   "outputs": [],
   "source": [
    "#Informacion de nivel educativo de los postulantes\n",
    "post_educacion = pd.concat([\n",
    "    pd.read_csv('src/fiuba_1_postulantes_educacion.csv'), \n",
    "    pd.read_csv('src/fiuba_1_postulantes_educacion_2.csv'),\n",
    "    pd.read_csv('src/fiuba_1_postulantes_educacion_3.csv')], axis=0)"
   ]
  },
  {
   "cell_type": "code",
   "execution_count": 4,
   "metadata": {},
   "outputs": [],
   "source": [
    "#Mapeo de puntaje del nivel educativo\n",
    "post_educacion = pd.merge(\n",
    "    post_educacion,\n",
    "    pd.read_csv('src/valor_educacion.csv', encoding='utf-8'),\n",
    "    how='inner', left_on=['nombre','estado'], right_on = ['nombre','estado'])"
   ]
  },
  {
   "cell_type": "code",
   "execution_count": 5,
   "metadata": {},
   "outputs": [],
   "source": [
    "# Busco la maxima educacion que tiene cada postulante.\n",
    "max_post_educacion = post_educacion.groupby(['idpostulante'])['valor_educacion'].max().reset_index()\n",
    "# Hago el join para filtrar todas las educaciones que no me interesan, dejando solo la maxima educacion.\n",
    "post_educacion = pd.merge(post_educacion, max_post_educacion,  how='inner',left_on=['idpostulante','valor_educacion'],right_on = ['idpostulante','valor_educacion'])\n",
    "post_educacion.drop(['nombre', 'estado'], inplace = True, axis=1)\n",
    "post_educacion.drop_duplicates(inplace=True)"
   ]
  },
  {
   "cell_type": "markdown",
   "metadata": {},
   "source": [
    "## Proceso informacion de genero y edad de los postulantes"
   ]
  },
  {
   "cell_type": "code",
   "execution_count": 6,
   "metadata": {},
   "outputs": [],
   "source": [
    "#Informacion de genero y edad de los postulantes\n",
    "post_gen_edad = pd.concat([\n",
    "    pd.read_csv('src/fiuba_2_postulantes_genero_y_edad.csv'),\n",
    "    pd.read_csv('src/fiuba_2_postulantes_genero_y_edad_2.csv'),\n",
    "    pd.read_csv('src/fiuba_2_postulantes_genero_y_edad_3.csv')], axis=0)"
   ]
  },
  {
   "cell_type": "code",
   "execution_count": 7,
   "metadata": {},
   "outputs": [],
   "source": [
    "post_gen_edad['sexo'] = post_gen_edad['sexo'].astype('category')"
   ]
  },
  {
   "cell_type": "code",
   "execution_count": 8,
   "metadata": {},
   "outputs": [],
   "source": [
    "post_gen_edad.drop_duplicates(inplace=True)"
   ]
  },
  {
   "cell_type": "code",
   "execution_count": 9,
   "metadata": {},
   "outputs": [],
   "source": [
    "post_gen_edad.loc[post_gen_edad['sexo'] == '0.0','sexo'] = np.nan\n",
    "post_gen_edad.loc[post_gen_edad['sexo'] == 'NO_DECLARA','sexo'] = np.nan\n",
    "\n",
    "cols = post_gen_edad.select_dtypes(['category']).columns\n",
    "post_gen_edad[cols] = post_gen_edad[cols].apply(lambda x: x.cat.codes)"
   ]
  },
  {
   "cell_type": "code",
   "execution_count": 10,
   "metadata": {},
   "outputs": [],
   "source": [
    "# Modifico el tipo de dato de la fecha.\n",
    "post_gen_edad.fechanacimiento = post_gen_edad.fechanacimiento.apply(pd.to_datetime, errors='coerce')\n",
    "\n",
    "now = pd.Timestamp(dt.datetime.now())\n",
    "pd.to_datetime(now)\n",
    "post_gen_edad['edad'] = (now - pd.to_datetime(post_gen_edad['fechanacimiento'])).astype('<m8[Y]')\n",
    "post_gen_edad.drop('fechanacimiento', inplace=True, axis=1)"
   ]
  },
  {
   "cell_type": "code",
   "execution_count": 11,
   "metadata": {},
   "outputs": [],
   "source": [
    "post_gen_edad.drop_duplicates('idpostulante', inplace=True) "
   ]
  },
  {
   "cell_type": "code",
   "execution_count": 12,
   "metadata": {},
   "outputs": [],
   "source": [
    "post_gen_edad.fillna(0, inplace=True)"
   ]
  },
  {
   "cell_type": "code",
   "execution_count": 13,
   "metadata": {},
   "outputs": [],
   "source": [
    "post_gen_edad['edad'] = post_gen_edad['edad'].astype(int)"
   ]
  },
  {
   "cell_type": "code",
   "execution_count": 14,
   "metadata": {},
   "outputs": [],
   "source": [
    "post_gen_edad['sexo'] = post_gen_edad['sexo'].apply(lambda x: 0 if x == -1 else (-1 if x == 2 else 1))"
   ]
  },
  {
   "cell_type": "code",
   "execution_count": 15,
   "metadata": {},
   "outputs": [],
   "source": [
    "#Mergeo la nueva informacion\n",
    "postulantes = pd.merge(post_educacion, post_gen_edad, how='outer', on='idpostulante')"
   ]
  },
  {
   "cell_type": "code",
   "execution_count": 16,
   "metadata": {},
   "outputs": [],
   "source": [
    "postulantes.fillna(-1, inplace=True)"
   ]
  },
  {
   "cell_type": "markdown",
   "metadata": {},
   "source": [
    "## Proceso a las vistas"
   ]
  },
  {
   "cell_type": "code",
   "execution_count": 17,
   "metadata": {},
   "outputs": [],
   "source": [
    "vistas = pd.concat([\n",
    "    pd.read_csv('src/fiuba_3_vistas.csv'),\n",
    "    pd.read_csv('src/fiuba_3_vistas_2.csv'),\n",
    "    pd.read_csv('src/fiuba_3_vistas_3.csv')], axis=0)"
   ]
  },
  {
   "cell_type": "code",
   "execution_count": 18,
   "metadata": {},
   "outputs": [],
   "source": [
    "vistas = vistas.drop_duplicates()\n",
    "vistas = vistas.rename({'idAviso': 'idaviso'}, axis=1)"
   ]
  },
  {
   "cell_type": "code",
   "execution_count": 19,
   "metadata": {},
   "outputs": [],
   "source": [
    "vistas['timestamp'] = vistas['timestamp'].apply(lambda x: pendulum.parse(x))"
   ]
  },
  {
   "cell_type": "code",
   "execution_count": 20,
   "metadata": {},
   "outputs": [],
   "source": [
    "vistas['month']     = vistas['timestamp'].apply(lambda x: x.month).astype(int) \n",
    "vistas['day']       = vistas['timestamp'].apply(lambda x: x.day).astype(int) \n",
    "vistas['dayofweek'] = vistas['timestamp'].apply(lambda x: x.day_of_week).astype(int) \n",
    "vistas['hour']      = vistas['timestamp'].apply(lambda x: x.hour).astype(int) "
   ]
  },
  {
   "cell_type": "code",
   "execution_count": 21,
   "metadata": {},
   "outputs": [],
   "source": [
    "vistas = vistas.drop('timestamp', axis=1)"
   ]
  },
  {
   "cell_type": "code",
   "execution_count": 22,
   "metadata": {},
   "outputs": [],
   "source": [
    "vistas = vistas.fillna(-1)"
   ]
  },
  {
   "cell_type": "markdown",
   "metadata": {},
   "source": [
    "## Proceso mas postulaciones"
   ]
  },
  {
   "cell_type": "code",
   "execution_count": 23,
   "metadata": {},
   "outputs": [],
   "source": [
    "postulaciones = pd.concat([\n",
    "    pd.read_csv('src/fiuba_4_postulaciones.csv'),\n",
    "    pd.read_csv('src/fiuba_4_postulaciones_2.csv')], axis=0)"
   ]
  },
  {
   "cell_type": "code",
   "execution_count": 24,
   "metadata": {},
   "outputs": [],
   "source": [
    "postulaciones.drop_duplicates(inplace=True)"
   ]
  },
  {
   "cell_type": "code",
   "execution_count": 25,
   "metadata": {},
   "outputs": [],
   "source": [
    "postulaciones.rename({'fechapostulacion': 'timestamp'}, axis=1, inplace=True)"
   ]
  },
  {
   "cell_type": "code",
   "execution_count": 26,
   "metadata": {},
   "outputs": [],
   "source": [
    "postulaciones['timestamp'] = postulaciones['timestamp'].apply(lambda x: pendulum.parse(x))"
   ]
  },
  {
   "cell_type": "code",
   "execution_count": 27,
   "metadata": {},
   "outputs": [],
   "source": [
    "postulaciones['month']     = postulaciones['timestamp'].apply(lambda x: x.month).astype(int) \n",
    "postulaciones['day']       = postulaciones['timestamp'].apply(lambda x: x.day).astype(int) \n",
    "postulaciones['dayofweek'] = postulaciones['timestamp'].apply(lambda x: x.dayofweek).astype(int) \n",
    "postulaciones['hour']      = postulaciones['timestamp'].apply(lambda x: x.hour).astype(int) "
   ]
  },
  {
   "cell_type": "code",
   "execution_count": 28,
   "metadata": {},
   "outputs": [],
   "source": [
    "postulaciones.drop('timestamp', axis=1, inplace=True)"
   ]
  },
  {
   "cell_type": "markdown",
   "metadata": {},
   "source": [
    "## Proceso Avisos Online"
   ]
  },
  {
   "cell_type": "code",
   "execution_count": 29,
   "metadata": {},
   "outputs": [],
   "source": [
    "avisos_online = pd.concat([\n",
    "    pd.read_csv('src/fiuba_5_avisos_online.csv'),\n",
    "    pd.read_csv('src/fiuba_5_avisos_online_2.csv')], axis=0)"
   ]
  },
  {
   "cell_type": "code",
   "execution_count": 30,
   "metadata": {},
   "outputs": [],
   "source": [
    "avisos_online.drop_duplicates(inplace=True)"
   ]
  },
  {
   "cell_type": "markdown",
   "metadata": {},
   "source": [
    "## Proceso el detalle de los avisos"
   ]
  },
  {
   "cell_type": "code",
   "execution_count": 31,
   "metadata": {},
   "outputs": [],
   "source": [
    "avisos_detalles = pd.concat([\n",
    "    pd.read_csv('src/fiuba_6_avisos_detalle.csv'),\n",
    "    pd.read_csv('src/fiuba_6_avisos_detalle_2.csv'),\n",
    "    pd.read_csv('src/fiuba_6_avisos_detalle_3.csv'),\n",
    "    pd.read_csv('src/fiuba_6_avisos_detalle_4.csv')], axis=0)"
   ]
  },
  {
   "cell_type": "code",
   "execution_count": 32,
   "metadata": {},
   "outputs": [],
   "source": [
    "avisos_detalles = avisos_detalles.drop('idpais', axis=1)\n",
    "avisos_detalles = avisos_detalles.drop_duplicates('idaviso')"
   ]
  },
  {
   "cell_type": "code",
   "execution_count": 33,
   "metadata": {},
   "outputs": [],
   "source": [
    "avisos_detalles.loc[avisos_detalles['nombre_area'] == 'Bioquímica','nombre_area'] = 'Bioquimica'\n",
    "avisos_detalles.loc[avisos_detalles['nombre_area'] == 'Química','nombre_area'] = 'Quimica'\n",
    "avisos_detalles.loc[avisos_detalles['nombre_area'] == 'Trabajo social','nombre_area'] = 'Trabajo Social'"
   ]
  },
  {
   "cell_type": "code",
   "execution_count": 34,
   "metadata": {},
   "outputs": [
    {
     "data": {
      "text/html": [
       "<div>\n",
       "<style scoped>\n",
       "    .dataframe tbody tr th:only-of-type {\n",
       "        vertical-align: middle;\n",
       "    }\n",
       "\n",
       "    .dataframe tbody tr th {\n",
       "        vertical-align: top;\n",
       "    }\n",
       "\n",
       "    .dataframe thead th {\n",
       "        text-align: right;\n",
       "    }\n",
       "</style>\n",
       "<table border=\"1\" class=\"dataframe\">\n",
       "  <thead>\n",
       "    <tr style=\"text-align: right;\">\n",
       "      <th></th>\n",
       "      <th>idaviso</th>\n",
       "      <th>titulo</th>\n",
       "      <th>descripcion</th>\n",
       "      <th>nombre_zona</th>\n",
       "      <th>ciudad</th>\n",
       "      <th>mapacalle</th>\n",
       "      <th>tipo_de_trabajo</th>\n",
       "      <th>nivel_laboral</th>\n",
       "      <th>nombre_area</th>\n",
       "      <th>denominacion_empresa</th>\n",
       "    </tr>\n",
       "  </thead>\n",
       "  <tbody>\n",
       "    <tr>\n",
       "      <th>0</th>\n",
       "      <td>1111556097</td>\n",
       "      <td>Responsable de Marketing-Producto Div. Constru...</td>\n",
       "      <td>&lt;p&gt;Buscamos un &lt;strong&gt;Responsable de Producto...</td>\n",
       "      <td>Gran Buenos Aires</td>\n",
       "      <td>NaN</td>\n",
       "      <td>NaN</td>\n",
       "      <td>Full-time</td>\n",
       "      <td>Senior / Semi-Senior</td>\n",
       "      <td>Desarrollo de Negocios</td>\n",
       "      <td>Sinteplast S.A.</td>\n",
       "    </tr>\n",
       "    <tr>\n",
       "      <th>1</th>\n",
       "      <td>1111949392</td>\n",
       "      <td>Asesor de Servicios - Postventa Chevrolet</td>\n",
       "      <td>&lt;p&gt;&lt;span style=\"\"&gt;Para nuestro cliente, conces...</td>\n",
       "      <td>Gran Buenos Aires</td>\n",
       "      <td>NaN</td>\n",
       "      <td>NaN</td>\n",
       "      <td>Full-time</td>\n",
       "      <td>Senior / Semi-Senior</td>\n",
       "      <td>Ingeniería  Eléctrica y Electrónica</td>\n",
       "      <td>Roycan</td>\n",
       "    </tr>\n",
       "    <tr>\n",
       "      <th>2</th>\n",
       "      <td>1112145935</td>\n",
       "      <td>Analistas de Impuestos Sr Ssr y Jr</td>\n",
       "      <td>&lt;p&gt;Importante Estudio de Auditoria y Consultor...</td>\n",
       "      <td>Gran Buenos Aires</td>\n",
       "      <td>NaN</td>\n",
       "      <td>NaN</td>\n",
       "      <td>Full-time</td>\n",
       "      <td>Senior / Semi-Senior</td>\n",
       "      <td>Impuestos</td>\n",
       "      <td>Lighthouse Smart</td>\n",
       "    </tr>\n",
       "    <tr>\n",
       "      <th>3</th>\n",
       "      <td>1112146010</td>\n",
       "      <td>Software Engineer</td>\n",
       "      <td>&lt;p&gt; &lt;/p&gt;&lt;p&gt;Chevron is a multinational company ...</td>\n",
       "      <td>Gran Buenos Aires</td>\n",
       "      <td>NaN</td>\n",
       "      <td>NaN</td>\n",
       "      <td>Full-time</td>\n",
       "      <td>Senior / Semi-Senior</td>\n",
       "      <td>Programación</td>\n",
       "      <td>Chevron Buenos Aires Shared Services Center</td>\n",
       "    </tr>\n",
       "    <tr>\n",
       "      <th>4</th>\n",
       "      <td>1112211475</td>\n",
       "      <td>Business Developer Manager</td>\n",
       "      <td>&lt;p&gt;Importante empresa de energías renovables, ...</td>\n",
       "      <td>Gran Buenos Aires</td>\n",
       "      <td>NaN</td>\n",
       "      <td>NaN</td>\n",
       "      <td>Full-time</td>\n",
       "      <td>Senior / Semi-Senior</td>\n",
       "      <td>Comercial</td>\n",
       "      <td>RANDSTAD</td>\n",
       "    </tr>\n",
       "  </tbody>\n",
       "</table>\n",
       "</div>"
      ],
      "text/plain": [
       "      idaviso                                             titulo  \\\n",
       "0  1111556097  Responsable de Marketing-Producto Div. Constru...   \n",
       "1  1111949392          Asesor de Servicios - Postventa Chevrolet   \n",
       "2  1112145935                 Analistas de Impuestos Sr Ssr y Jr   \n",
       "3  1112146010                                  Software Engineer   \n",
       "4  1112211475                         Business Developer Manager   \n",
       "\n",
       "                                         descripcion        nombre_zona  \\\n",
       "0  <p>Buscamos un <strong>Responsable de Producto...  Gran Buenos Aires   \n",
       "1  <p><span style=\"\">Para nuestro cliente, conces...  Gran Buenos Aires   \n",
       "2  <p>Importante Estudio de Auditoria y Consultor...  Gran Buenos Aires   \n",
       "3  <p> </p><p>Chevron is a multinational company ...  Gran Buenos Aires   \n",
       "4  <p>Importante empresa de energías renovables, ...  Gran Buenos Aires   \n",
       "\n",
       "  ciudad mapacalle tipo_de_trabajo         nivel_laboral  \\\n",
       "0    NaN       NaN       Full-time  Senior / Semi-Senior   \n",
       "1    NaN       NaN       Full-time  Senior / Semi-Senior   \n",
       "2    NaN       NaN       Full-time  Senior / Semi-Senior   \n",
       "3    NaN       NaN       Full-time  Senior / Semi-Senior   \n",
       "4    NaN       NaN       Full-time  Senior / Semi-Senior   \n",
       "\n",
       "                           nombre_area  \\\n",
       "0               Desarrollo de Negocios   \n",
       "1  Ingeniería  Eléctrica y Electrónica   \n",
       "2                            Impuestos   \n",
       "3                         Programación   \n",
       "4                            Comercial   \n",
       "\n",
       "                          denominacion_empresa  \n",
       "0                              Sinteplast S.A.  \n",
       "1                                       Roycan  \n",
       "2                             Lighthouse Smart  \n",
       "3  Chevron Buenos Aires Shared Services Center  \n",
       "4                                     RANDSTAD  "
      ]
     },
     "execution_count": 34,
     "metadata": {},
     "output_type": "execute_result"
    }
   ],
   "source": [
    "avisos_detalles.head()"
   ]
  },
  {
   "cell_type": "markdown",
   "metadata": {},
   "source": [
    "## Borro el titulo, descripcion, mapacalle y ciudad"
   ]
  },
  {
   "cell_type": "code",
   "execution_count": 35,
   "metadata": {},
   "outputs": [],
   "source": [
    "avisos_detalles = avisos_detalles.drop(['titulo','descripcion','denominacion_empresa','mapacalle','ciudad'],axis=1)"
   ]
  },
  {
   "cell_type": "markdown",
   "metadata": {},
   "source": [
    "## Realizo un mapeo categorico hacia numerico"
   ]
  },
  {
   "cell_type": "code",
   "execution_count": 58,
   "metadata": {},
   "outputs": [],
   "source": [
    "avisos_detalles['nombre_zona']     = avisos_detalles['nombre_zona']    .astype(\"category\").cat.codes\n",
    "avisos_detalles['tipo_de_trabajo'] = avisos_detalles['tipo_de_trabajo'].astype(\"category\").cat.codes\n",
    "avisos_detalles['nivel_laboral']   = avisos_detalles['nivel_laboral']  .astype(\"category\").cat.codes\n",
    "avisos_detalles['nombre_area']     = avisos_detalles['nombre_area']    .astype(\"category\").cat.codes"
   ]
  },
  {
   "cell_type": "code",
   "execution_count": 37,
   "metadata": {},
   "outputs": [
    {
     "data": {
      "text/html": [
       "<div>\n",
       "<style scoped>\n",
       "    .dataframe tbody tr th:only-of-type {\n",
       "        vertical-align: middle;\n",
       "    }\n",
       "\n",
       "    .dataframe tbody tr th {\n",
       "        vertical-align: top;\n",
       "    }\n",
       "\n",
       "    .dataframe thead th {\n",
       "        text-align: right;\n",
       "    }\n",
       "</style>\n",
       "<table border=\"1\" class=\"dataframe\">\n",
       "  <thead>\n",
       "    <tr style=\"text-align: right;\">\n",
       "      <th></th>\n",
       "      <th>idaviso</th>\n",
       "      <th>nombre_zona</th>\n",
       "      <th>tipo_de_trabajo</th>\n",
       "      <th>nivel_laboral</th>\n",
       "      <th>nombre_area</th>\n",
       "    </tr>\n",
       "  </thead>\n",
       "  <tbody>\n",
       "    <tr>\n",
       "      <th>0</th>\n",
       "      <td>1111556097</td>\n",
       "      <td>7</td>\n",
       "      <td>1</td>\n",
       "      <td>4</td>\n",
       "      <td>50</td>\n",
       "    </tr>\n",
       "    <tr>\n",
       "      <th>1</th>\n",
       "      <td>1111949392</td>\n",
       "      <td>7</td>\n",
       "      <td>1</td>\n",
       "      <td>4</td>\n",
       "      <td>89</td>\n",
       "    </tr>\n",
       "    <tr>\n",
       "      <th>2</th>\n",
       "      <td>1112145935</td>\n",
       "      <td>7</td>\n",
       "      <td>1</td>\n",
       "      <td>4</td>\n",
       "      <td>85</td>\n",
       "    </tr>\n",
       "    <tr>\n",
       "      <th>3</th>\n",
       "      <td>1112146010</td>\n",
       "      <td>7</td>\n",
       "      <td>1</td>\n",
       "      <td>4</td>\n",
       "      <td>144</td>\n",
       "    </tr>\n",
       "    <tr>\n",
       "      <th>4</th>\n",
       "      <td>1112211475</td>\n",
       "      <td>7</td>\n",
       "      <td>1</td>\n",
       "      <td>4</td>\n",
       "      <td>29</td>\n",
       "    </tr>\n",
       "  </tbody>\n",
       "</table>\n",
       "</div>"
      ],
      "text/plain": [
       "      idaviso  nombre_zona  tipo_de_trabajo  nivel_laboral  nombre_area\n",
       "0  1111556097            7                1              4           50\n",
       "1  1111949392            7                1              4           89\n",
       "2  1112145935            7                1              4           85\n",
       "3  1112146010            7                1              4          144\n",
       "4  1112211475            7                1              4           29"
      ]
     },
     "execution_count": 37,
     "metadata": {},
     "output_type": "execute_result"
    }
   ],
   "source": [
    "avisos_detalles.head()"
   ]
  },
  {
   "cell_type": "markdown",
   "metadata": {},
   "source": [
    "## Agrego informacion del postulante a la postulacion"
   ]
  },
  {
   "cell_type": "code",
   "execution_count": 38,
   "metadata": {},
   "outputs": [],
   "source": [
    "postulaciones = pd.merge(postulaciones, postulantes, how='inner', on='idpostulante')"
   ]
  },
  {
   "cell_type": "markdown",
   "metadata": {},
   "source": [
    "## Agrego la informacion del postulante a la vista"
   ]
  },
  {
   "cell_type": "code",
   "execution_count": 39,
   "metadata": {
    "scrolled": true
   },
   "outputs": [],
   "source": [
    "vistas = pd.merge(vistas, postulantes, how='inner', on='idpostulante')"
   ]
  },
  {
   "cell_type": "markdown",
   "metadata": {},
   "source": [
    "## Columna \"se_postulo\""
   ]
  },
  {
   "cell_type": "markdown",
   "metadata": {},
   "source": [
    "### Si es una vista todabia no se postulo..."
   ]
  },
  {
   "cell_type": "code",
   "execution_count": 40,
   "metadata": {},
   "outputs": [],
   "source": [
    "vistas['se_postulo'] = 0"
   ]
  },
  {
   "cell_type": "markdown",
   "metadata": {},
   "source": [
    "### Si es una postulacion ya se postulo..."
   ]
  },
  {
   "cell_type": "code",
   "execution_count": 42,
   "metadata": {},
   "outputs": [],
   "source": [
    "postulaciones['se_postulo'] = 1"
   ]
  },
  {
   "cell_type": "markdown",
   "metadata": {},
   "source": [
    "### Si hay mas de una vista de una misma persona en un mismo aviso lo borro dejando solo una"
   ]
  },
  {
   "cell_type": "code",
   "execution_count": 43,
   "metadata": {},
   "outputs": [],
   "source": [
    "vistas = vistas.drop_duplicates(subset=['idaviso','idpostulante'], keep='first')"
   ]
  },
  {
   "cell_type": "markdown",
   "metadata": {},
   "source": [
    "## Hago el concat de las Vistas con las Postulaciones"
   ]
  },
  {
   "cell_type": "code",
   "execution_count": 44,
   "metadata": {},
   "outputs": [],
   "source": [
    "vistas_postulaciones = pd.concat([postulaciones, vistas], axis=0)"
   ]
  },
  {
   "cell_type": "markdown",
   "metadata": {},
   "source": [
    "## Agrego la informacion del aviso a vistas_postulaciones"
   ]
  },
  {
   "cell_type": "code",
   "execution_count": 45,
   "metadata": {},
   "outputs": [],
   "source": [
    "vistas_postulaciones = pd.merge(vistas_postulaciones, avisos_detalles, how='inner', on='idaviso')"
   ]
  },
  {
   "cell_type": "markdown",
   "metadata": {},
   "source": [
    "### Si hay una vista y una postulacion de una misma persona en un mismo aviso dejo solo la postulacion"
   ]
  },
  {
   "cell_type": "code",
   "execution_count": 46,
   "metadata": {},
   "outputs": [],
   "source": [
    "vistas_postulaciones = vistas_postulaciones.drop_duplicates(subset=['idaviso','idpostulante'], keep='first')"
   ]
  },
  {
   "cell_type": "code",
   "execution_count": 47,
   "metadata": {},
   "outputs": [],
   "source": [
    "vistas_postulaciones = vistas_postulaciones.fillna(-1)"
   ]
  },
  {
   "cell_type": "code",
   "execution_count": 48,
   "metadata": {},
   "outputs": [],
   "source": [
    "vistas_postulaciones['valor_educacion'] = vistas_postulaciones['valor_educacion'].astype(int)"
   ]
  },
  {
   "cell_type": "code",
   "execution_count": 49,
   "metadata": {},
   "outputs": [
    {
     "data": {
      "text/html": [
       "<div>\n",
       "<style scoped>\n",
       "    .dataframe tbody tr th:only-of-type {\n",
       "        vertical-align: middle;\n",
       "    }\n",
       "\n",
       "    .dataframe tbody tr th {\n",
       "        vertical-align: top;\n",
       "    }\n",
       "\n",
       "    .dataframe thead th {\n",
       "        text-align: right;\n",
       "    }\n",
       "</style>\n",
       "<table border=\"1\" class=\"dataframe\">\n",
       "  <thead>\n",
       "    <tr style=\"text-align: right;\">\n",
       "      <th></th>\n",
       "      <th>idaviso</th>\n",
       "      <th>idpostulante</th>\n",
       "      <th>month</th>\n",
       "      <th>day</th>\n",
       "      <th>dayofweek</th>\n",
       "      <th>hour</th>\n",
       "      <th>valor_educacion</th>\n",
       "      <th>sexo</th>\n",
       "      <th>edad</th>\n",
       "      <th>se_postulo</th>\n",
       "      <th>nombre_zona</th>\n",
       "      <th>tipo_de_trabajo</th>\n",
       "      <th>nivel_laboral</th>\n",
       "      <th>nombre_area</th>\n",
       "    </tr>\n",
       "  </thead>\n",
       "  <tbody>\n",
       "    <tr>\n",
       "      <th>0</th>\n",
       "      <td>1112248724</td>\n",
       "      <td>NjlD</td>\n",
       "      <td>1</td>\n",
       "      <td>19</td>\n",
       "      <td>4</td>\n",
       "      <td>7</td>\n",
       "      <td>12</td>\n",
       "      <td>1</td>\n",
       "      <td>37</td>\n",
       "      <td>1</td>\n",
       "      <td>7</td>\n",
       "      <td>1</td>\n",
       "      <td>4</td>\n",
       "      <td>119</td>\n",
       "    </tr>\n",
       "    <tr>\n",
       "      <th>1</th>\n",
       "      <td>1112248724</td>\n",
       "      <td>MV6eM8N</td>\n",
       "      <td>1</td>\n",
       "      <td>30</td>\n",
       "      <td>1</td>\n",
       "      <td>23</td>\n",
       "      <td>11</td>\n",
       "      <td>-1</td>\n",
       "      <td>26</td>\n",
       "      <td>1</td>\n",
       "      <td>7</td>\n",
       "      <td>1</td>\n",
       "      <td>4</td>\n",
       "      <td>119</td>\n",
       "    </tr>\n",
       "    <tr>\n",
       "      <th>2</th>\n",
       "      <td>1112248724</td>\n",
       "      <td>5LzQkN</td>\n",
       "      <td>1</td>\n",
       "      <td>15</td>\n",
       "      <td>0</td>\n",
       "      <td>7</td>\n",
       "      <td>12</td>\n",
       "      <td>1</td>\n",
       "      <td>32</td>\n",
       "      <td>1</td>\n",
       "      <td>7</td>\n",
       "      <td>1</td>\n",
       "      <td>4</td>\n",
       "      <td>119</td>\n",
       "    </tr>\n",
       "    <tr>\n",
       "      <th>3</th>\n",
       "      <td>1112248724</td>\n",
       "      <td>8M2rOBz</td>\n",
       "      <td>1</td>\n",
       "      <td>30</td>\n",
       "      <td>1</td>\n",
       "      <td>22</td>\n",
       "      <td>12</td>\n",
       "      <td>1</td>\n",
       "      <td>26</td>\n",
       "      <td>1</td>\n",
       "      <td>7</td>\n",
       "      <td>1</td>\n",
       "      <td>4</td>\n",
       "      <td>119</td>\n",
       "    </tr>\n",
       "    <tr>\n",
       "      <th>4</th>\n",
       "      <td>1112248724</td>\n",
       "      <td>Dr6V3Da</td>\n",
       "      <td>1</td>\n",
       "      <td>23</td>\n",
       "      <td>1</td>\n",
       "      <td>15</td>\n",
       "      <td>12</td>\n",
       "      <td>-1</td>\n",
       "      <td>27</td>\n",
       "      <td>1</td>\n",
       "      <td>7</td>\n",
       "      <td>1</td>\n",
       "      <td>4</td>\n",
       "      <td>119</td>\n",
       "    </tr>\n",
       "  </tbody>\n",
       "</table>\n",
       "</div>"
      ],
      "text/plain": [
       "      idaviso idpostulante  month  day  dayofweek  hour  valor_educacion  \\\n",
       "0  1112248724         NjlD      1   19          4     7               12   \n",
       "1  1112248724      MV6eM8N      1   30          1    23               11   \n",
       "2  1112248724       5LzQkN      1   15          0     7               12   \n",
       "3  1112248724      8M2rOBz      1   30          1    22               12   \n",
       "4  1112248724      Dr6V3Da      1   23          1    15               12   \n",
       "\n",
       "   sexo  edad  se_postulo  nombre_zona  tipo_de_trabajo  nivel_laboral  \\\n",
       "0     1    37           1            7                1              4   \n",
       "1    -1    26           1            7                1              4   \n",
       "2     1    32           1            7                1              4   \n",
       "3     1    26           1            7                1              4   \n",
       "4    -1    27           1            7                1              4   \n",
       "\n",
       "   nombre_area  \n",
       "0          119  \n",
       "1          119  \n",
       "2          119  \n",
       "3          119  \n",
       "4          119  "
      ]
     },
     "execution_count": 49,
     "metadata": {},
     "output_type": "execute_result"
    }
   ],
   "source": [
    "vistas_postulaciones.head()"
   ]
  },
  {
   "cell_type": "markdown",
   "metadata": {},
   "source": [
    "## Balanceo los -1"
   ]
  },
  {
   "cell_type": "code",
   "execution_count": 50,
   "metadata": {},
   "outputs": [],
   "source": [
    "vistas_postulaciones['sexo'] = vistas_postulaciones['sexo'].apply(lambda x: np.random.choice([0, 1]) if(x==-1) else x)"
   ]
  },
  {
   "cell_type": "code",
   "execution_count": 51,
   "metadata": {},
   "outputs": [],
   "source": [
    "vistas_postulaciones['valor_educacion'] = vistas_postulaciones['valor_educacion'].apply(lambda x: np.random.choice([1,2,3,4,5,6,7,8,9,10,11,12,13,14,15,16,17,18,19,20,21]) if(x==-1) else x)"
   ]
  },
  {
   "cell_type": "markdown",
   "metadata": {},
   "source": [
    "## Hacer algo con esta online"
   ]
  },
  {
   "cell_type": "code",
   "execution_count": 52,
   "metadata": {},
   "outputs": [],
   "source": [
    "### "
   ]
  },
  {
   "cell_type": "markdown",
   "metadata": {},
   "source": [
    "## Exporto finalmente el .CSV"
   ]
  },
  {
   "cell_type": "code",
   "execution_count": 53,
   "metadata": {},
   "outputs": [],
   "source": [
    "vistas_postulaciones.to_csv('src.csv', encoding='utf-8', index=False)"
   ]
  },
  {
   "cell_type": "code",
   "execution_count": 54,
   "metadata": {},
   "outputs": [
    {
     "data": {
      "text/plain": [
       "(9940108, 14)"
      ]
     },
     "execution_count": 54,
     "metadata": {},
     "output_type": "execute_result"
    }
   ],
   "source": [
    "vistas_postulaciones.shape"
   ]
  },
  {
   "cell_type": "code",
   "execution_count": 55,
   "metadata": {},
   "outputs": [
    {
     "data": {
      "text/plain": [
       "se_postulo\n",
       "0    3752179\n",
       "1    6187929\n",
       "Name: se_postulo, dtype: int64"
      ]
     },
     "execution_count": 55,
     "metadata": {},
     "output_type": "execute_result"
    }
   ],
   "source": [
    "vistas_postulaciones.groupby('se_postulo')['se_postulo'].count()"
   ]
  }
 ],
 "metadata": {
  "kernelspec": {
   "display_name": "Python 3",
   "language": "python",
   "name": "python3"
  },
  "language_info": {
   "codemirror_mode": {
    "name": "ipython",
    "version": 3
   },
   "file_extension": ".py",
   "mimetype": "text/x-python",
   "name": "python",
   "nbconvert_exporter": "python",
   "pygments_lexer": "ipython3",
   "version": "3.6.4"
  }
 },
 "nbformat": 4,
 "nbformat_minor": 2
}
