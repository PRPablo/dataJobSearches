{
 "cells": [
  {
   "cell_type": "markdown",
   "metadata": {},
   "source": [
    "# CSV Builder"
   ]
  },
  {
   "cell_type": "markdown",
   "metadata": {},
   "source": [
    "## Importo librerias necesarias"
   ]
  },
  {
   "cell_type": "code",
   "execution_count": 1,
   "metadata": {},
   "outputs": [],
   "source": [
    "#Pandas\n",
    "import pandas as pd\n",
    "#Numpy\n",
    "import numpy as np\n",
    "#Datetime\n",
    "import datetime as dt\n",
    "#Pendulum\n",
    "import pendulum"
   ]
  },
  {
   "cell_type": "markdown",
   "metadata": {},
   "source": [
    "## Files necesarios"
   ]
  },
  {
   "cell_type": "code",
   "execution_count": 2,
   "metadata": {},
   "outputs": [],
   "source": [
    "# Nota: Colocarlos en la carpeta src.\n",
    "# valor_educacion.csv\n",
    "# fiuba_1_postulantes_educacion.csv\n",
    "# fiuba_1_postulantes_educacion_2.csv\n",
    "# fiuba_1_postulantes_educacion_3.csv\n",
    "# fiuba_2_postulantes_genero_y_edad.csv\n",
    "# fiuba_2_postulantes_genero_y_edad_2.csv\n",
    "# fiuba_2_postulantes_genero_y_edad_3.csv\n",
    "# fiuba_3_vistas.csv\n",
    "# fiuba_3_vistas_2.csv\n",
    "# fiuba_3_vistas_3.csv\n",
    "# fiuba_4_postulaciones.csv\n",
    "# fiuba_4_postulaciones_2.csv\n",
    "# fiuba_5_avisos_online.csv\n",
    "# fiuba_5_avisos_online_2.csv\n",
    "# fiuba_6_avisos_detalle.csv\n",
    "# fiuba_6_avisos_detalle_2.csv\n",
    "# fiuba_6_avisos_detalle_3.csv\n",
    "# fiuba_6_avisos_detalle_4.csv"
   ]
  },
  {
   "cell_type": "markdown",
   "metadata": {},
   "source": [
    "## Proceso a los postulantes"
   ]
  },
  {
   "cell_type": "markdown",
   "metadata": {},
   "source": [
    "## Proceso informacion academica de los postulantes"
   ]
  },
  {
   "cell_type": "code",
   "execution_count": 3,
   "metadata": {},
   "outputs": [],
   "source": [
    "#Informacion de nivel educativo de los postulantes\n",
    "post_educacion = pd.concat([\n",
    "    pd.read_csv('src/fiuba_1_postulantes_educacion.csv'), \n",
    "    pd.read_csv('src/fiuba_1_postulantes_educacion_2.csv'),\n",
    "    pd.read_csv('src/fiuba_1_postulantes_educacion_3.csv')], axis=0)"
   ]
  },
  {
   "cell_type": "code",
   "execution_count": 4,
   "metadata": {},
   "outputs": [],
   "source": [
    "#Mapeo de puntaje del nivel educativo\n",
    "post_educacion = pd.merge(\n",
    "    post_educacion,\n",
    "    pd.read_csv('src/valor_educacion.csv', encoding='utf-8'),\n",
    "    how='inner', left_on=['nombre','estado'], right_on = ['nombre','estado'])"
   ]
  },
  {
   "cell_type": "code",
   "execution_count": 5,
   "metadata": {},
   "outputs": [],
   "source": [
    "# Busco la maxima educacion que tiene cada postulante.\n",
    "max_post_educacion = post_educacion.groupby(['idpostulante'])['valor_educacion'].max().reset_index()\n",
    "# Hago el join para filtrar todas las educaciones que no me interesan, dejando solo la maxima educacion.\n",
    "post_educacion = pd.merge(post_educacion, max_post_educacion,  how='inner',left_on=['idpostulante','valor_educacion'],right_on = ['idpostulante','valor_educacion'])\n",
    "post_educacion.drop(['nombre', 'estado'], inplace = True, axis=1)\n",
    "post_educacion.drop_duplicates(inplace=True)"
   ]
  },
  {
   "cell_type": "markdown",
   "metadata": {},
   "source": [
    "## Proceso informacion de genero y edad de los postulantes"
   ]
  },
  {
   "cell_type": "code",
   "execution_count": 6,
   "metadata": {},
   "outputs": [],
   "source": [
    "#Informacion de genero y edad de los postulantes\n",
    "post_gen_edad = pd.concat([\n",
    "    pd.read_csv('src/fiuba_2_postulantes_genero_y_edad.csv'),\n",
    "    pd.read_csv('src/fiuba_2_postulantes_genero_y_edad_2.csv'),\n",
    "    pd.read_csv('src/fiuba_2_postulantes_genero_y_edad_3.csv')], axis=0)"
   ]
  },
  {
   "cell_type": "code",
   "execution_count": 7,
   "metadata": {},
   "outputs": [],
   "source": [
    "post_gen_edad['sexo'] = post_gen_edad['sexo'].astype('category')"
   ]
  },
  {
   "cell_type": "code",
   "execution_count": 8,
   "metadata": {},
   "outputs": [],
   "source": [
    "post_gen_edad.drop_duplicates(inplace=True)"
   ]
  },
  {
   "cell_type": "code",
   "execution_count": 9,
   "metadata": {},
   "outputs": [],
   "source": [
    "post_gen_edad.loc[post_gen_edad['sexo'] == '0.0','sexo'] = np.nan\n",
    "post_gen_edad.loc[post_gen_edad['sexo'] == 'NO_DECLARA','sexo'] = np.nan\n",
    "\n",
    "cols = post_gen_edad.select_dtypes(['category']).columns\n",
    "post_gen_edad[cols] = post_gen_edad[cols].apply(lambda x: x.cat.codes)"
   ]
  },
  {
   "cell_type": "code",
   "execution_count": 10,
   "metadata": {},
   "outputs": [],
   "source": [
    "# Modifico el tipo de dato de la fecha.\n",
    "post_gen_edad.fechanacimiento = post_gen_edad.fechanacimiento.apply(pd.to_datetime, errors='coerce')\n",
    "\n",
    "now = pd.Timestamp(dt.datetime.now())\n",
    "pd.to_datetime(now)\n",
    "post_gen_edad['edad'] = (now - pd.to_datetime(post_gen_edad['fechanacimiento'])).astype('<m8[Y]')\n",
    "post_gen_edad.drop('fechanacimiento', inplace=True, axis=1)"
   ]
  },
  {
   "cell_type": "code",
   "execution_count": 11,
   "metadata": {},
   "outputs": [],
   "source": [
    "post_gen_edad.drop_duplicates('idpostulante', inplace=True) "
   ]
  },
  {
   "cell_type": "code",
   "execution_count": 12,
   "metadata": {},
   "outputs": [],
   "source": [
    "post_gen_edad.fillna(0, inplace=True)"
   ]
  },
  {
   "cell_type": "code",
   "execution_count": 13,
   "metadata": {},
   "outputs": [],
   "source": [
    "post_gen_edad['edad'] = post_gen_edad['edad'].astype(int)"
   ]
  },
  {
   "cell_type": "code",
   "execution_count": 14,
   "metadata": {},
   "outputs": [],
   "source": [
    "post_gen_edad['sexo'] = post_gen_edad['sexo'].apply(lambda x: 0 if x == -1 else (-1 if x == 2 else 1))"
   ]
  },
  {
   "cell_type": "code",
   "execution_count": 15,
   "metadata": {},
   "outputs": [],
   "source": [
    "#Mergeo la nueva informacion\n",
    "postulantes = pd.merge(post_educacion, post_gen_edad, how='outer', on='idpostulante')"
   ]
  },
  {
   "cell_type": "code",
   "execution_count": 16,
   "metadata": {},
   "outputs": [],
   "source": [
    "postulantes.fillna(-1, inplace=True)"
   ]
  },
  {
   "cell_type": "markdown",
   "metadata": {},
   "source": [
    "## Proceso a las vistas"
   ]
  },
  {
   "cell_type": "code",
   "execution_count": 17,
   "metadata": {},
   "outputs": [],
   "source": [
    "vistas = pd.concat([\n",
    "    pd.read_csv('src/fiuba_3_vistas.csv'),\n",
    "    pd.read_csv('src/fiuba_3_vistas_2.csv'),\n",
    "    pd.read_csv('src/fiuba_3_vistas_3.csv')], axis=0)"
   ]
  },
  {
   "cell_type": "code",
   "execution_count": 18,
   "metadata": {},
   "outputs": [],
   "source": [
    "vistas = vistas.drop_duplicates()\n",
    "vistas = vistas.rename({'idAviso': 'idaviso'}, axis=1)"
   ]
  },
  {
   "cell_type": "code",
   "execution_count": 19,
   "metadata": {},
   "outputs": [],
   "source": [
    "vistas['timestamp'] = vistas['timestamp'].apply(lambda x: pendulum.parse(x))"
   ]
  },
  {
   "cell_type": "code",
   "execution_count": 20,
   "metadata": {},
   "outputs": [],
   "source": [
    "vistas['month']     = vistas['timestamp'].apply(lambda x: x.month).astype(int) \n",
    "vistas['day']       = vistas['timestamp'].apply(lambda x: x.day).astype(int) \n",
    "vistas['dayofweek'] = vistas['timestamp'].apply(lambda x: x.day_of_week).astype(int) \n",
    "vistas['hour']      = vistas['timestamp'].apply(lambda x: x.hour).astype(int) "
   ]
  },
  {
   "cell_type": "code",
   "execution_count": 21,
   "metadata": {},
   "outputs": [],
   "source": [
    "vistas = vistas.drop('timestamp', axis=1)"
   ]
  },
  {
   "cell_type": "code",
   "execution_count": 22,
   "metadata": {},
   "outputs": [],
   "source": [
    "vistas = vistas.fillna(-1)"
   ]
  },
  {
   "cell_type": "markdown",
   "metadata": {},
   "source": [
    "## Proceso mas postulaciones"
   ]
  },
  {
   "cell_type": "code",
   "execution_count": 23,
   "metadata": {},
   "outputs": [],
   "source": [
    "postulaciones = pd.concat([\n",
    "    pd.read_csv('src/fiuba_4_postulaciones.csv'),\n",
    "    pd.read_csv('src/fiuba_4_postulaciones_2.csv')], axis=0)"
   ]
  },
  {
   "cell_type": "code",
   "execution_count": 24,
   "metadata": {},
   "outputs": [],
   "source": [
    "postulaciones.drop_duplicates(inplace=True)"
   ]
  },
  {
   "cell_type": "code",
   "execution_count": 25,
   "metadata": {},
   "outputs": [],
   "source": [
    "postulaciones.rename({'fechapostulacion': 'timestamp'}, axis=1, inplace=True)"
   ]
  },
  {
   "cell_type": "code",
   "execution_count": 26,
   "metadata": {},
   "outputs": [],
   "source": [
    "postulaciones['timestamp'] = postulaciones['timestamp'].apply(lambda x: pendulum.parse(x))"
   ]
  },
  {
   "cell_type": "code",
   "execution_count": 27,
   "metadata": {},
   "outputs": [],
   "source": [
    "postulaciones['month']     = postulaciones['timestamp'].apply(lambda x: x.month).astype(int) \n",
    "postulaciones['day']       = postulaciones['timestamp'].apply(lambda x: x.day).astype(int) \n",
    "postulaciones['dayofweek'] = postulaciones['timestamp'].apply(lambda x: x.dayofweek).astype(int) \n",
    "postulaciones['hour']      = postulaciones['timestamp'].apply(lambda x: x.hour).astype(int) "
   ]
  },
  {
   "cell_type": "code",
   "execution_count": 28,
   "metadata": {},
   "outputs": [],
   "source": [
    "postulaciones.drop('timestamp', axis=1, inplace=True)"
   ]
  },
  {
   "cell_type": "markdown",
   "metadata": {},
   "source": [
    "## Proceso Avisos Online"
   ]
  },
  {
   "cell_type": "code",
   "execution_count": 29,
   "metadata": {},
   "outputs": [],
   "source": [
    "avisos_online = pd.concat([\n",
    "    pd.read_csv('src/fiuba_5_avisos_online.csv'),\n",
    "    pd.read_csv('src/fiuba_5_avisos_online_2.csv')], axis=0)"
   ]
  },
  {
   "cell_type": "code",
   "execution_count": 30,
   "metadata": {},
   "outputs": [],
   "source": [
    "avisos_online.drop_duplicates(inplace=True)"
   ]
  },
  {
   "cell_type": "markdown",
   "metadata": {},
   "source": [
    "## Proceso el detalle de los avisos"
   ]
  },
  {
   "cell_type": "code",
   "execution_count": 31,
   "metadata": {},
   "outputs": [],
   "source": [
    "avisos_detalles = pd.concat([\n",
    "    pd.read_csv('src/fiuba_6_avisos_detalle.csv'),\n",
    "    pd.read_csv('src/fiuba_6_avisos_detalle_2.csv'),\n",
    "    pd.read_csv('src/fiuba_6_avisos_detalle_3.csv'),\n",
    "    pd.read_csv('src/fiuba_6_avisos_detalle_4.csv')], axis=0)"
   ]
  },
  {
   "cell_type": "code",
   "execution_count": 32,
   "metadata": {},
   "outputs": [],
   "source": [
    "avisos_detalles.drop('idpais', axis=1, inplace=True)\n",
    "avisos_detalles.drop_duplicates('idaviso', inplace=True)"
   ]
  },
  {
   "cell_type": "code",
   "execution_count": 33,
   "metadata": {},
   "outputs": [],
   "source": [
    "avisos_detalles.loc[avisos_detalles['nombre_area'] == 'Bioquímica','nombre_area'] = 'Bioquimica'\n",
    "avisos_detalles.loc[avisos_detalles['nombre_area'] == 'Química','nombre_area'] = 'Quimica'\n",
    "avisos_detalles.loc[avisos_detalles['nombre_area'] == 'Trabajo social','nombre_area'] = 'Trabajo Social'"
   ]
  },
  {
   "cell_type": "markdown",
   "metadata": {},
   "source": [
    "## Detalle Avisos (Nombre Zona)"
   ]
  },
  {
   "cell_type": "code",
   "execution_count": 34,
   "metadata": {},
   "outputs": [],
   "source": [
    "avisos_detalles_zona = pd.DataFrame(avisos_detalles['nombre_zona'].unique(), columns=['nombre_zona'])\n",
    "avisos_detalles_zona.index.name = 'idzona'\n",
    "avisos_detalles = pd.merge(avisos_detalles, avisos_detalles_zona, how='inner', on='nombre_zona')\n",
    "avisos_detalles.drop('nombre_zona', inplace=True, axis=1)"
   ]
  },
  {
   "cell_type": "markdown",
   "metadata": {},
   "source": [
    "## Detalle Avisos (Nombre Ciudad)"
   ]
  },
  {
   "cell_type": "code",
   "execution_count": 35,
   "metadata": {},
   "outputs": [],
   "source": [
    "avisos_detalles_ciudad = pd.DataFrame(avisos_detalles['ciudad'].unique(), columns=['ciudad'])\n",
    "avisos_detalles_ciudad.index.name = 'idciudad'\n",
    "avisos_detalles = pd.merge(avisos_detalles, avisos_detalles_ciudad, how='inner', on='ciudad')\n",
    "avisos_detalles.drop('ciudad', inplace=True, axis=1)"
   ]
  },
  {
   "cell_type": "markdown",
   "metadata": {},
   "source": [
    "## Detalle Avisos (Mapa Calle)"
   ]
  },
  {
   "cell_type": "code",
   "execution_count": 36,
   "metadata": {},
   "outputs": [],
   "source": [
    "avisos_detalles_mapacalle = pd.DataFrame(avisos_detalles['mapacalle'].unique(), columns=['mapacalle'])\n",
    "avisos_detalles_mapacalle.index.name = 'idmapacalle'\n",
    "avisos_detalles = pd.merge(avisos_detalles, avisos_detalles_mapacalle, how='inner', on='mapacalle')\n",
    "avisos_detalles.drop('mapacalle', inplace=True, axis=1)"
   ]
  },
  {
   "cell_type": "markdown",
   "metadata": {},
   "source": [
    "## Detalle Avisos (Tipo de Trabajo)"
   ]
  },
  {
   "cell_type": "code",
   "execution_count": 37,
   "metadata": {},
   "outputs": [],
   "source": [
    "avisos_detalles_tipo_de_trabajo = pd.DataFrame(avisos_detalles['tipo_de_trabajo'].unique(), columns=['tipo_de_trabajo'])\n",
    "avisos_detalles_tipo_de_trabajo.index.name = 'idtipo_de_trabajo'\n",
    "avisos_detalles = pd.merge(avisos_detalles, avisos_detalles_tipo_de_trabajo, how='inner', on='tipo_de_trabajo')\n",
    "avisos_detalles.drop('tipo_de_trabajo', inplace=True, axis=1)"
   ]
  },
  {
   "cell_type": "markdown",
   "metadata": {},
   "source": [
    "## Detalle Avisos (Nivel Laboral)"
   ]
  },
  {
   "cell_type": "code",
   "execution_count": 38,
   "metadata": {},
   "outputs": [],
   "source": [
    "avisos_detalles_nivel_laboral = pd.DataFrame(avisos_detalles['nivel_laboral'].unique(), columns=['nivel_laboral'])\n",
    "avisos_detalles_nivel_laboral.index.name = 'idnivel_laboral'\n",
    "avisos_detalles = pd.merge(avisos_detalles, avisos_detalles_nivel_laboral, how='inner', on='nivel_laboral')\n",
    "avisos_detalles.drop('nivel_laboral', inplace=True, axis=1)"
   ]
  },
  {
   "cell_type": "markdown",
   "metadata": {},
   "source": [
    "## Detalle Avisos (Nombre Area)"
   ]
  },
  {
   "cell_type": "code",
   "execution_count": 39,
   "metadata": {},
   "outputs": [],
   "source": [
    "avisos_detalles_nombre_area = pd.DataFrame(avisos_detalles['nombre_area'].unique(), columns=['nombre_area'])\n",
    "avisos_detalles_nombre_area.sort_values('nombre_area', inplace=True)\n",
    "avisos_detalles_nombre_area.reset_index(inplace=True)\n",
    "avisos_detalles_nombre_area.drop('index', axis=1, inplace=True)\n",
    "avisos_detalles_nombre_area.index.name = 'idnombre_area'\n",
    "avisos_detalles = pd.merge(avisos_detalles, avisos_detalles_nombre_area, how='inner', on='nombre_area')\n",
    "avisos_detalles.drop('nombre_area', inplace=True, axis=1)"
   ]
  },
  {
   "cell_type": "markdown",
   "metadata": {},
   "source": [
    "## Detalle Avisos (Denominacion Empresa)"
   ]
  },
  {
   "cell_type": "code",
   "execution_count": 40,
   "metadata": {
    "scrolled": true
   },
   "outputs": [],
   "source": [
    "#avisos_detalles_denominacion_empresa = pd.DataFrame(avisos_detalles['denominacion_empresa'].unique(), columns=['denominacion_empresa'])\n",
    "#avisos_detalles_denominacion_empresa.index.name = 'iddenominacion_empresa'\n",
    "#avisos_detalles = pd.merge(avisos_detalles, avisos_detalles_denominacion_empresa, how='inner', on='denominacion_empresa')\n",
    "#avisos_detalles.drop('denominacion_empresa', inplace=True, axis=1)"
   ]
  },
  {
   "cell_type": "markdown",
   "metadata": {},
   "source": [
    "## Agrego informacion de la publicacion y del postulante"
   ]
  },
  {
   "cell_type": "code",
   "execution_count": 41,
   "metadata": {},
   "outputs": [],
   "source": [
    "#No realizo el merge de titulo y descripcion del aviso. Asi que no tendre esta informacion del aviso en le futuro.\n",
    "#pd.merge(avisos_detalles, postulaciones, how='inner', on='idaviso')"
   ]
  },
  {
   "cell_type": "code",
   "execution_count": 42,
   "metadata": {},
   "outputs": [],
   "source": [
    "#Agrego la informacion del postulante a dicha postulacion\n",
    "postulaciones = pd.merge(postulaciones, postulantes, how='inner', on='idpostulante')"
   ]
  },
  {
   "cell_type": "markdown",
   "metadata": {},
   "source": [
    "## Columna \"se_postulo\""
   ]
  },
  {
   "cell_type": "markdown",
   "metadata": {},
   "source": [
    "### Si es una vista todabia no se postulo..."
   ]
  },
  {
   "cell_type": "code",
   "execution_count": 43,
   "metadata": {},
   "outputs": [],
   "source": [
    "vistas['se_postulo'] = 0"
   ]
  },
  {
   "cell_type": "markdown",
   "metadata": {},
   "source": [
    "### Si es una postulacion ya se postulo..."
   ]
  },
  {
   "cell_type": "code",
   "execution_count": 44,
   "metadata": {},
   "outputs": [],
   "source": [
    "postulaciones['se_postulo'] = 1"
   ]
  },
  {
   "cell_type": "markdown",
   "metadata": {},
   "source": [
    "## Hago el concat de las Vistas con las Postulaciones"
   ]
  },
  {
   "cell_type": "code",
   "execution_count": 45,
   "metadata": {},
   "outputs": [],
   "source": [
    "vistas_postulaciones = pd.concat([postulaciones, vistas], axis=0)"
   ]
  },
  {
   "cell_type": "code",
   "execution_count": 46,
   "metadata": {},
   "outputs": [],
   "source": [
    "vistas_postulaciones = vistas_postulaciones.fillna(-1)"
   ]
  },
  {
   "cell_type": "code",
   "execution_count": 47,
   "metadata": {},
   "outputs": [],
   "source": [
    "vistas_postulaciones['valor_educacion'] = vistas_postulaciones['valor_educacion'].astype(int)"
   ]
  },
  {
   "cell_type": "code",
   "execution_count": 48,
   "metadata": {},
   "outputs": [
    {
     "data": {
      "text/html": [
       "<div>\n",
       "<style scoped>\n",
       "    .dataframe tbody tr th:only-of-type {\n",
       "        vertical-align: middle;\n",
       "    }\n",
       "\n",
       "    .dataframe tbody tr th {\n",
       "        vertical-align: top;\n",
       "    }\n",
       "\n",
       "    .dataframe thead th {\n",
       "        text-align: right;\n",
       "    }\n",
       "</style>\n",
       "<table border=\"1\" class=\"dataframe\">\n",
       "  <thead>\n",
       "    <tr style=\"text-align: right;\">\n",
       "      <th></th>\n",
       "      <th>day</th>\n",
       "      <th>dayofweek</th>\n",
       "      <th>edad</th>\n",
       "      <th>hour</th>\n",
       "      <th>idaviso</th>\n",
       "      <th>idpostulante</th>\n",
       "      <th>month</th>\n",
       "      <th>se_postulo</th>\n",
       "      <th>sexo</th>\n",
       "      <th>valor_educacion</th>\n",
       "    </tr>\n",
       "  </thead>\n",
       "  <tbody>\n",
       "    <tr>\n",
       "      <th>0</th>\n",
       "      <td>19</td>\n",
       "      <td>4</td>\n",
       "      <td>37.0</td>\n",
       "      <td>7</td>\n",
       "      <td>1112248724</td>\n",
       "      <td>NjlD</td>\n",
       "      <td>1</td>\n",
       "      <td>1</td>\n",
       "      <td>1.0</td>\n",
       "      <td>12</td>\n",
       "    </tr>\n",
       "    <tr>\n",
       "      <th>1</th>\n",
       "      <td>24</td>\n",
       "      <td>2</td>\n",
       "      <td>39.0</td>\n",
       "      <td>15</td>\n",
       "      <td>1112286523</td>\n",
       "      <td>ZaO5</td>\n",
       "      <td>1</td>\n",
       "      <td>1</td>\n",
       "      <td>1.0</td>\n",
       "      <td>11</td>\n",
       "    </tr>\n",
       "    <tr>\n",
       "      <th>2</th>\n",
       "      <td>24</td>\n",
       "      <td>2</td>\n",
       "      <td>39.0</td>\n",
       "      <td>15</td>\n",
       "      <td>1112272060</td>\n",
       "      <td>ZaO5</td>\n",
       "      <td>1</td>\n",
       "      <td>1</td>\n",
       "      <td>1.0</td>\n",
       "      <td>11</td>\n",
       "    </tr>\n",
       "    <tr>\n",
       "      <th>3</th>\n",
       "      <td>26</td>\n",
       "      <td>4</td>\n",
       "      <td>39.0</td>\n",
       "      <td>8</td>\n",
       "      <td>1112288401</td>\n",
       "      <td>ZaO5</td>\n",
       "      <td>1</td>\n",
       "      <td>1</td>\n",
       "      <td>1.0</td>\n",
       "      <td>11</td>\n",
       "    </tr>\n",
       "    <tr>\n",
       "      <th>4</th>\n",
       "      <td>30</td>\n",
       "      <td>1</td>\n",
       "      <td>39.0</td>\n",
       "      <td>13</td>\n",
       "      <td>1112300563</td>\n",
       "      <td>ZaO5</td>\n",
       "      <td>1</td>\n",
       "      <td>1</td>\n",
       "      <td>1.0</td>\n",
       "      <td>11</td>\n",
       "    </tr>\n",
       "  </tbody>\n",
       "</table>\n",
       "</div>"
      ],
      "text/plain": [
       "   day  dayofweek  edad  hour     idaviso idpostulante  month  se_postulo  \\\n",
       "0   19          4  37.0     7  1112248724         NjlD      1           1   \n",
       "1   24          2  39.0    15  1112286523         ZaO5      1           1   \n",
       "2   24          2  39.0    15  1112272060         ZaO5      1           1   \n",
       "3   26          4  39.0     8  1112288401         ZaO5      1           1   \n",
       "4   30          1  39.0    13  1112300563         ZaO5      1           1   \n",
       "\n",
       "   sexo  valor_educacion  \n",
       "0   1.0               12  \n",
       "1   1.0               11  \n",
       "2   1.0               11  \n",
       "3   1.0               11  \n",
       "4   1.0               11  "
      ]
     },
     "execution_count": 48,
     "metadata": {},
     "output_type": "execute_result"
    }
   ],
   "source": [
    "vistas_postulaciones.head()"
   ]
  },
  {
   "cell_type": "markdown",
   "metadata": {},
   "source": [
    "## Exporto finalmente el .CSV"
   ]
  },
  {
   "cell_type": "code",
   "execution_count": 49,
   "metadata": {},
   "outputs": [],
   "source": [
    "vistas_postulaciones.to_csv('src.csv', encoding='utf-8', index=False)"
   ]
  }
 ],
 "metadata": {
  "kernelspec": {
   "display_name": "Python 3",
   "language": "python",
   "name": "python3"
  },
  "language_info": {
   "codemirror_mode": {
    "name": "ipython",
    "version": 3
   },
   "file_extension": ".py",
   "mimetype": "text/x-python",
   "name": "python",
   "nbconvert_exporter": "python",
   "pygments_lexer": "ipython3",
   "version": "3.6.4"
  }
 },
 "nbformat": 4,
 "nbformat_minor": 2
}
