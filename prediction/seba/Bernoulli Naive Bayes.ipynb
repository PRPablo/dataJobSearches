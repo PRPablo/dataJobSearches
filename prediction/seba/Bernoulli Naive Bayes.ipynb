{
 "cells": [
  {
   "cell_type": "markdown",
   "metadata": {},
   "source": [
    "# Realizo la clasificacion usando Bernoulli Naive Bayes"
   ]
  },
  {
   "cell_type": "markdown",
   "metadata": {},
   "source": [
    "## Tabla de resultados"
   ]
  },
  {
   "cell_type": "code",
   "execution_count": null,
   "metadata": {},
   "outputs": [],
   "source": [
    "#PCA(n)   test_size(n)         Jupyter            Kaggle\n",
    "# 13        0.1            0.7581070126718651\n",
    "# 12        0.1            0.7571897014293111\n",
    "# 11        0.1            0.7567211091412105\n",
    "# 10        0.1            0.7567148333516377\n",
    "# 9         0.1            0.7595316169048851\n",
    "# 8         0.1            0.7595316169048851\n",
    "# 7         0.1            0.7591184607580108\n",
    "# 6         0.1            0.7604531120071544\n",
    "# 5         0.1            0.7599803358593387\n",
    "# 4         0.1            0.7599803358593387\n",
    "# 3         0.1            0.7599803358593387   \n",
    "# 2         0.1            0.7599803358593387   \n",
    "# 1         0.1            0.6271752148150472    0.88335\n",
    "#Sin PCA    0.1            0.6272316969212023    0.88327"
   ]
  },
  {
   "cell_type": "code",
   "execution_count": 1,
   "metadata": {},
   "outputs": [],
   "source": [
    "#PCA(n)   test_size(n)         Jupyter            Kaggle\n",
    "# 13        0.2   \n",
    "# 12        0.2\n",
    "# 11        0.2  \n",
    "# 10        0.2\n",
    "# 9         0.2\n",
    "# 8         0.2\n",
    "# 7         0.2\n",
    "# 6         0.2            \n",
    "# 5         0.2            \n",
    "# 4         0.2            \n",
    "# 3         0.2               \n",
    "# 2         0.2             0.7602668048735716 \n",
    "# 1         0.2             0.6271295203359223 \n",
    "#Sin PCA    0.2             0.6271786807132856"
   ]
  },
  {
   "cell_type": "code",
   "execution_count": 2,
   "metadata": {},
   "outputs": [],
   "source": [
    "#PCA(n)   test_size(n)         Jupyter            Kaggle\n",
    "# 13        0.3   \n",
    "# 12        0.3\n",
    "# 11        0.3  \n",
    "# 10        0.3\n",
    "# 9         0.3\n",
    "# 8         0.3\n",
    "# 7         0.3\n",
    "# 6         0.3            \n",
    "# 5         0.3            \n",
    "# 4         0.3            \n",
    "# 3         0.3               \n",
    "# 2         0.3              \n",
    "# 1         0.3             0.6272108663280295\n",
    "#Sin PCA    0.3             0.6272269044681212"
   ]
  },
  {
   "cell_type": "markdown",
   "metadata": {},
   "source": [
    "## Importo librerias necesarias"
   ]
  },
  {
   "cell_type": "code",
   "execution_count": 3,
   "metadata": {},
   "outputs": [],
   "source": [
    "import pandas as pd\n",
    "import numpy as np\n",
    "from sklearn.model_selection import train_test_split\n",
    "#Bernoulli Naive Bayes\n",
    "from sklearn.naive_bayes import BernoulliNB\n",
    "#PCA\n",
    "from sklearn.decomposition import PCA"
   ]
  },
  {
   "cell_type": "markdown",
   "metadata": {},
   "source": [
    "## Leo todos los datos"
   ]
  },
  {
   "cell_type": "code",
   "execution_count": 4,
   "metadata": {},
   "outputs": [
    {
     "data": {
      "text/html": [
       "<div>\n",
       "<style scoped>\n",
       "    .dataframe tbody tr th:only-of-type {\n",
       "        vertical-align: middle;\n",
       "    }\n",
       "\n",
       "    .dataframe tbody tr th {\n",
       "        vertical-align: top;\n",
       "    }\n",
       "\n",
       "    .dataframe thead th {\n",
       "        text-align: right;\n",
       "    }\n",
       "</style>\n",
       "<table border=\"1\" class=\"dataframe\">\n",
       "  <thead>\n",
       "    <tr style=\"text-align: right;\">\n",
       "      <th></th>\n",
       "      <th>idaviso</th>\n",
       "      <th>esta_online</th>\n",
       "      <th>titulo_analista</th>\n",
       "      <th>titulo_tecnico</th>\n",
       "      <th>titulo_administrativo</th>\n",
       "      <th>titulo_vendedor</th>\n",
       "      <th>titulo_comercial</th>\n",
       "      <th>titulo_ventas</th>\n",
       "      <th>titulo_sr</th>\n",
       "      <th>titulo_importante</th>\n",
       "      <th>...</th>\n",
       "      <th>idnivel_laboral</th>\n",
       "      <th>idnombre_area</th>\n",
       "      <th>iddenominacion_empresa</th>\n",
       "      <th>idpostulante</th>\n",
       "      <th>timestamp</th>\n",
       "      <th>valor_educacion</th>\n",
       "      <th>sexo</th>\n",
       "      <th>edad</th>\n",
       "      <th>se_postulo</th>\n",
       "      <th>idpostulante_int</th>\n",
       "    </tr>\n",
       "  </thead>\n",
       "  <tbody>\n",
       "    <tr>\n",
       "      <th>0</th>\n",
       "      <td>1112448580</td>\n",
       "      <td>1</td>\n",
       "      <td>0</td>\n",
       "      <td>1</td>\n",
       "      <td>0</td>\n",
       "      <td>0</td>\n",
       "      <td>0</td>\n",
       "      <td>0</td>\n",
       "      <td>0</td>\n",
       "      <td>0</td>\n",
       "      <td>...</td>\n",
       "      <td>5</td>\n",
       "      <td>136</td>\n",
       "      <td>439</td>\n",
       "      <td>rmRqLJA</td>\n",
       "      <td>5.414380e+06</td>\n",
       "      <td>10.0</td>\n",
       "      <td>2</td>\n",
       "      <td>25</td>\n",
       "      <td>1</td>\n",
       "      <td>419937</td>\n",
       "    </tr>\n",
       "    <tr>\n",
       "      <th>1</th>\n",
       "      <td>1112288191</td>\n",
       "      <td>0</td>\n",
       "      <td>0</td>\n",
       "      <td>0</td>\n",
       "      <td>0</td>\n",
       "      <td>0</td>\n",
       "      <td>0</td>\n",
       "      <td>0</td>\n",
       "      <td>0</td>\n",
       "      <td>0</td>\n",
       "      <td>...</td>\n",
       "      <td>3</td>\n",
       "      <td>118</td>\n",
       "      <td>1546</td>\n",
       "      <td>96XeeQ8</td>\n",
       "      <td>1.196588e+07</td>\n",
       "      <td>-1.0</td>\n",
       "      <td>-1</td>\n",
       "      <td>-1</td>\n",
       "      <td>1</td>\n",
       "      <td>112588</td>\n",
       "    </tr>\n",
       "    <tr>\n",
       "      <th>2</th>\n",
       "      <td>1112339031</td>\n",
       "      <td>1</td>\n",
       "      <td>0</td>\n",
       "      <td>0</td>\n",
       "      <td>0</td>\n",
       "      <td>0</td>\n",
       "      <td>0</td>\n",
       "      <td>0</td>\n",
       "      <td>0</td>\n",
       "      <td>0</td>\n",
       "      <td>...</td>\n",
       "      <td>0</td>\n",
       "      <td>24</td>\n",
       "      <td>160</td>\n",
       "      <td>N5lJLJ</td>\n",
       "      <td>1.014115e+07</td>\n",
       "      <td>11.0</td>\n",
       "      <td>2</td>\n",
       "      <td>30</td>\n",
       "      <td>1</td>\n",
       "      <td>205868</td>\n",
       "    </tr>\n",
       "    <tr>\n",
       "      <th>3</th>\n",
       "      <td>1112198634</td>\n",
       "      <td>0</td>\n",
       "      <td>0</td>\n",
       "      <td>0</td>\n",
       "      <td>0</td>\n",
       "      <td>0</td>\n",
       "      <td>0</td>\n",
       "      <td>0</td>\n",
       "      <td>0</td>\n",
       "      <td>0</td>\n",
       "      <td>...</td>\n",
       "      <td>0</td>\n",
       "      <td>116</td>\n",
       "      <td>202</td>\n",
       "      <td>RzrrPbY</td>\n",
       "      <td>1.057532e+07</td>\n",
       "      <td>12.0</td>\n",
       "      <td>2</td>\n",
       "      <td>27</td>\n",
       "      <td>1</td>\n",
       "      <td>250580</td>\n",
       "    </tr>\n",
       "    <tr>\n",
       "      <th>4</th>\n",
       "      <td>1112453169</td>\n",
       "      <td>1</td>\n",
       "      <td>0</td>\n",
       "      <td>0</td>\n",
       "      <td>0</td>\n",
       "      <td>1</td>\n",
       "      <td>0</td>\n",
       "      <td>0</td>\n",
       "      <td>0</td>\n",
       "      <td>0</td>\n",
       "      <td>...</td>\n",
       "      <td>0</td>\n",
       "      <td>182</td>\n",
       "      <td>1131</td>\n",
       "      <td>lDLQ6W8</td>\n",
       "      <td>5.387287e+06</td>\n",
       "      <td>6.0</td>\n",
       "      <td>1</td>\n",
       "      <td>33</td>\n",
       "      <td>1</td>\n",
       "      <td>378841</td>\n",
       "    </tr>\n",
       "  </tbody>\n",
       "</table>\n",
       "<p>5 rows × 41 columns</p>\n",
       "</div>"
      ],
      "text/plain": [
       "      idaviso  esta_online  titulo_analista  titulo_tecnico  \\\n",
       "0  1112448580            1                0               1   \n",
       "1  1112288191            0                0               0   \n",
       "2  1112339031            1                0               0   \n",
       "3  1112198634            0                0               0   \n",
       "4  1112453169            1                0               0   \n",
       "\n",
       "   titulo_administrativo  titulo_vendedor  titulo_comercial  titulo_ventas  \\\n",
       "0                      0                0                 0              0   \n",
       "1                      0                0                 0              0   \n",
       "2                      0                0                 0              0   \n",
       "3                      0                0                 0              0   \n",
       "4                      0                1                 0              0   \n",
       "\n",
       "   titulo_sr  titulo_importante        ...         idnivel_laboral  \\\n",
       "0          0                  0        ...                       5   \n",
       "1          0                  0        ...                       3   \n",
       "2          0                  0        ...                       0   \n",
       "3          0                  0        ...                       0   \n",
       "4          0                  0        ...                       0   \n",
       "\n",
       "   idnombre_area  iddenominacion_empresa  idpostulante     timestamp  \\\n",
       "0            136                     439       rmRqLJA  5.414380e+06   \n",
       "1            118                    1546       96XeeQ8  1.196588e+07   \n",
       "2             24                     160        N5lJLJ  1.014115e+07   \n",
       "3            116                     202       RzrrPbY  1.057532e+07   \n",
       "4            182                    1131       lDLQ6W8  5.387287e+06   \n",
       "\n",
       "   valor_educacion  sexo  edad  se_postulo  idpostulante_int  \n",
       "0             10.0     2    25           1            419937  \n",
       "1             -1.0    -1    -1           1            112588  \n",
       "2             11.0     2    30           1            205868  \n",
       "3             12.0     2    27           1            250580  \n",
       "4              6.0     1    33           1            378841  \n",
       "\n",
       "[5 rows x 41 columns]"
      ]
     },
     "execution_count": 4,
     "metadata": {},
     "output_type": "execute_result"
    }
   ],
   "source": [
    "df = pd.read_csv('../../data/final_data/entrenamiento_postulaciones_vistas4.csv', encoding='utf-8', dtype={\n",
    "    'titulo_analista': np.int8,\n",
    "    'titulo_tecnico': np.int8,\n",
    "    'titulo_administrativo': np.int8,    \n",
    "    'titulo_vendedor': np.int8,          \n",
    "    'titulo_comercial': np.int8,        \n",
    "    'titulo_ventas': np.int8,            \n",
    "    'titulo_sr': np.int8,                \n",
    "    'titulo_importante': np.int8,        \n",
    "    'titulo_jefe': np.int8,              \n",
    "    'titulo_empresa': np.int8,           \n",
    "    'titulo_asistente': np.int8,         \n",
    "    'titulo_supervisor': np.int8,         \n",
    "    'titulo_jr': np.int8,                \n",
    "    'titulo_contable': np.int8,          \n",
    "    'desc_experiencia': np.int8,         \n",
    "    'desc_empresa': np.int8,             \n",
    "    'desc_trabajo': np.int8,             \n",
    "    'desc_excluyente': np.int8,          \n",
    "    'desc_manejo': np.int8,          \n",
    "    'desc_importante': np.int8,          \n",
    "    'desc_equipo': np.int8,              \n",
    "    'desc_tareas': np.int8,              \n",
    "    'desc_cliente': np.int8,            \n",
    "    'desc_clientes': np.int8,            \n",
    "    'desc_conocimientos': np.int8 \n",
    "})\n",
    "    \n",
    "df.head()"
   ]
  },
  {
   "cell_type": "code",
   "execution_count": 5,
   "metadata": {},
   "outputs": [
    {
     "name": "stderr",
     "output_type": "stream",
     "text": [
      "/home/sebastian/anaconda3/lib/python3.6/site-packages/ipykernel_launcher.py:2: SettingWithCopyWarning: \n",
      "A value is trying to be set on a copy of a slice from a DataFrame\n",
      "\n",
      "See the caveats in the documentation: http://pandas.pydata.org/pandas-docs/stable/indexing.html#indexing-view-versus-copy\n",
      "  \n"
     ]
    }
   ],
   "source": [
    "cols = df.head(0)\n",
    "cols.drop(['se_postulo', 'idaviso', 'idpostulante'],inplace=True, axis=1)\n",
    "cols = cols.columns"
   ]
  },
  {
   "cell_type": "code",
   "execution_count": 6,
   "metadata": {},
   "outputs": [],
   "source": [
    "mintimestamp = df['timestamp'].min()\n",
    "df['timestamp'] = df['timestamp']-mintimestamp\n",
    "mintimestamp = df['idpostulante_int'].min()\n",
    "df['idpostulante_int'] = df['idpostulante_int']-mintimestamp"
   ]
  },
  {
   "cell_type": "code",
   "execution_count": 7,
   "metadata": {},
   "outputs": [],
   "source": [
    "X = np.array(df.loc[:,cols])\n",
    "y = np.array(df['se_postulo']) "
   ]
  },
  {
   "cell_type": "markdown",
   "metadata": {},
   "source": [
    "## Aplico PCA"
   ]
  },
  {
   "cell_type": "code",
   "execution_count": 8,
   "metadata": {},
   "outputs": [],
   "source": [
    "#pca = PCA(n_components=1)\n",
    "#pca.fit(X)\n",
    "#X = pca.transform(X)"
   ]
  },
  {
   "cell_type": "markdown",
   "metadata": {},
   "source": [
    "## Realizo el Train Test Split"
   ]
  },
  {
   "cell_type": "code",
   "execution_count": 9,
   "metadata": {},
   "outputs": [],
   "source": [
    "X_train, X_test, y_train, y_test = train_test_split(X, y, test_size=0.10, random_state=7506)"
   ]
  },
  {
   "cell_type": "markdown",
   "metadata": {},
   "source": [
    "## Defino el clasificador"
   ]
  },
  {
   "cell_type": "code",
   "execution_count": 10,
   "metadata": {},
   "outputs": [],
   "source": [
    "clf = BernoulliNB()"
   ]
  },
  {
   "cell_type": "markdown",
   "metadata": {},
   "source": [
    "## Entreno el clasificador"
   ]
  },
  {
   "cell_type": "code",
   "execution_count": 11,
   "metadata": {},
   "outputs": [],
   "source": [
    "clf.fit(X_train, y_train);"
   ]
  },
  {
   "cell_type": "markdown",
   "metadata": {},
   "source": [
    "## Reviso el score"
   ]
  },
  {
   "cell_type": "code",
   "execution_count": 12,
   "metadata": {},
   "outputs": [
    {
     "data": {
      "text/plain": [
       "0.7612028438317081"
      ]
     },
     "execution_count": 12,
     "metadata": {},
     "output_type": "execute_result"
    }
   ],
   "source": [
    "clf.score(X_test, y_test)"
   ]
  },
  {
   "cell_type": "markdown",
   "metadata": {},
   "source": [
    "## Predigo con todos los datos"
   ]
  },
  {
   "cell_type": "code",
   "execution_count": 13,
   "metadata": {},
   "outputs": [],
   "source": [
    "X_full_data = X\n",
    "pred_full_data = clf.predict(X_full_data)\n",
    "df['sepostulo'] = pred_full_data"
   ]
  },
  {
   "cell_type": "markdown",
   "metadata": {},
   "source": [
    "## Armo .csv para subir a Kaggle"
   ]
  },
  {
   "cell_type": "code",
   "execution_count": 14,
   "metadata": {},
   "outputs": [],
   "source": [
    "top100_full = pd.read_csv(\"../../test_final_100k.csv\", encoding='utf-8')\n",
    "top100_full = pd.merge(top100_full, df, how='left', on=['idaviso','idpostulante'])\n",
    "top100_full = top100_full[['id', 'se_postulo', 'sepostulo']]\n",
    "top100_full.fillna(0, inplace=True)\n",
    "top100_full['se_postulo'] = top100_full['se_postulo'].astype('int')\n",
    "top100_full['sepostulo'] = top100_full['sepostulo'].astype('int')\n",
    "top100_full.loc[(top100_full['sepostulo'] == 0) & (top100_full['se_postulo'] == 1), 'sepostulo'] = 1\n",
    "top100_full[(top100_full['sepostulo'] == 0) & (top100_full['se_postulo'] == 1)]['sepostulo']\n",
    "top100_full.drop('se_postulo', axis=1, inplace=True)\n",
    "top100_full.to_csv('../../data/final_data/top100k.csv', encoding='utf-8', index=False)"
   ]
  },
  {
   "cell_type": "code",
   "execution_count": null,
   "metadata": {},
   "outputs": [],
   "source": []
  }
 ],
 "metadata": {
  "kernelspec": {
   "display_name": "Python 3",
   "language": "python",
   "name": "python3"
  },
  "language_info": {
   "codemirror_mode": {
    "name": "ipython",
    "version": 3
   },
   "file_extension": ".py",
   "mimetype": "text/x-python",
   "name": "python",
   "nbconvert_exporter": "python",
   "pygments_lexer": "ipython3",
   "version": "3.6.4"
  }
 },
 "nbformat": 4,
 "nbformat_minor": 2
}
