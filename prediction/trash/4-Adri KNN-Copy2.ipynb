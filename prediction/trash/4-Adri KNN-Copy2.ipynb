{
 "cells": [
  {
   "cell_type": "code",
   "execution_count": 2,
   "metadata": {},
   "outputs": [
    {
     "name": "stderr",
     "output_type": "stream",
     "text": [
      "C:\\ProgramData\\Anaconda3\\lib\\site-packages\\sklearn\\cross_validation.py:41: DeprecationWarning: This module was deprecated in version 0.18 in favor of the model_selection module into which all the refactored classes and functions are moved. Also note that the interface of the new CV iterators are different from that of this module. This module will be removed in 0.20.\n",
      "  \"This module will be removed in 0.20.\", DeprecationWarning)\n"
     ]
    }
   ],
   "source": [
    "import pandas as pd\n",
    "import numpy as np\n",
    "import datetime as dt\n",
    "from sklearn import linear_model\n",
    "from sklearn import model_selection\n",
    "from sklearn.metrics import classification_report\n",
    "from sklearn.metrics import confusion_matrix\n",
    "from sklearn.metrics import accuracy_score\n",
    "import matplotlib.pyplot as plt\n",
    "import seaborn as sb\n",
    "from sklearn.preprocessing import LabelEncoder\n",
    "from sklearn.linear_model import LogisticRegression\n",
    "from sklearn import metrics\n",
    "\n",
    "from sklearn.cross_validation import train_test_split\n",
    "from sklearn.neighbors import KNeighborsClassifier\n",
    "from sklearn.metrics import accuracy_score"
   ]
  },
  {
   "cell_type": "code",
   "execution_count": 3,
   "metadata": {},
   "outputs": [
    {
     "data": {
      "text/plain": [
       "(10000174, 18)"
      ]
     },
     "execution_count": 3,
     "metadata": {},
     "output_type": "execute_result"
    }
   ],
   "source": [
    "df = pd.read_csv('../data/adri_data/entrenamiento_postulaciones_vistas6.csv', encoding='utf-8')\n",
    "# df.drop(['idzona', 'idciudad','idmapacalle'], axis=1, inplace=True)\n",
    "df.shape"
   ]
  },
  {
   "cell_type": "code",
   "execution_count": 4,
   "metadata": {},
   "outputs": [],
   "source": [
    "mintimestamp = df['timestamp'].min()\n",
    "df['timestamp'] = df['timestamp']-mintimestamp"
   ]
  },
  {
   "cell_type": "code",
   "execution_count": 5,
   "metadata": {},
   "outputs": [],
   "source": [
    "mintimestamp = df['idpostulante_int'].min()\n",
    "df['idpostulante_int'] = df['idpostulante_int']-mintimestamp"
   ]
  },
  {
   "cell_type": "code",
   "execution_count": 6,
   "metadata": {},
   "outputs": [
    {
     "name": "stdout",
     "output_type": "stream",
     "text": [
      "<class 'pandas.core.frame.DataFrame'>\n",
      "RangeIndex: 10000174 entries, 0 to 10000173\n",
      "Data columns (total 18 columns):\n",
      "idaviso                   int64\n",
      "esta_online               int64\n",
      "titulo                    int64\n",
      "descripcion               int64\n",
      "idzona                    int64\n",
      "idciudad                  int64\n",
      "idmapacalle               int64\n",
      "idtipo_de_trabajo         int64\n",
      "idnivel_laboral           int64\n",
      "idnombre_area             int64\n",
      "iddenominacion_empresa    int64\n",
      "idpostulante              object\n",
      "timestamp                 float64\n",
      "valor_educacion           float64\n",
      "sexo                      int64\n",
      "edad                      int64\n",
      "se_postulo                int64\n",
      "idpostulante_int          int64\n",
      "dtypes: float64(2), int64(15), object(1)\n",
      "memory usage: 1.9 GB\n"
     ]
    }
   ],
   "source": [
    "df.info(memory_usage='deep')"
   ]
  },
  {
   "cell_type": "code",
   "execution_count": null,
   "metadata": {},
   "outputs": [],
   "source": [
    "cols = df.head(0)\n",
    "cols.drop(['se_postulo', 'idpostulante'], inplace=True, axis=1)\n",
    "cols = cols.columns\n",
    "cols\n",
    "cols2 = cols.drop(['idaviso', 'timestamp', 'valor_educacion', 'idpostulante_int'])\n",
    "cols2"
   ]
  },
  {
   "cell_type": "code",
   "execution_count": 7,
   "metadata": {},
   "outputs": [],
   "source": [
    "# X will have the numeric data, Y will have the target class\n",
    "dfix = df.loc[:,cols]"
   ]
  },
  {
   "cell_type": "code",
   "execution_count": 8,
   "metadata": {},
   "outputs": [
    {
     "name": "stdout",
     "output_type": "stream",
     "text": [
      "<class 'pandas.core.frame.DataFrame'>\n",
      "RangeIndex: 10000174 entries, 0 to 10000173\n",
      "Data columns (total 39 columns):\n",
      "idaviso                   int64\n",
      "esta_online               int64\n",
      "titulo_analista           int64\n",
      "titulo_tecnico            int64\n",
      "titulo_administrativo     int64\n",
      "titulo_vendedor           int64\n",
      "titulo_comercial          int64\n",
      "titulo_ventas             int64\n",
      "titulo_sr                 int64\n",
      "titulo_importante         int64\n",
      "titulo_jefe               int64\n",
      "titulo_empresa            int64\n",
      "titulo_asistente          int64\n",
      "titulo_supervisor         int64\n",
      "titulo_jr                 int64\n",
      "titulo_contable           int64\n",
      "desc_experiencia          int64\n",
      "desc_empresa              int64\n",
      "desc_trabajo              int64\n",
      "desc_excluyente           int64\n",
      "desc_manejo               int64\n",
      "desc_importante           int64\n",
      "desc_equipo               int64\n",
      "desc_tareas               int64\n",
      "desc_cliente              int64\n",
      "desc_clientes             int64\n",
      "desc_conocimientos        int64\n",
      "idzona                    int64\n",
      "idciudad                  int64\n",
      "idmapacalle               int64\n",
      "idtipo_de_trabajo         int64\n",
      "idnivel_laboral           int64\n",
      "idnombre_area             int64\n",
      "iddenominacion_empresa    int64\n",
      "timestamp                 float64\n",
      "valor_educacion           float64\n",
      "sexo                      int64\n",
      "edad                      int64\n",
      "idpostulante_int          int64\n",
      "dtypes: float64(2), int64(37)\n",
      "memory usage: 2.9 GB\n"
     ]
    }
   ],
   "source": [
    "dfix.info(memory_usage='deep')"
   ]
  },
  {
   "cell_type": "code",
   "execution_count": 9,
   "metadata": {},
   "outputs": [
    {
     "data": {
      "text/plain": [
       "Index(['esta_online', 'titulo_analista', 'titulo_tecnico',\n",
       "       'titulo_administrativo', 'titulo_vendedor', 'titulo_comercial',\n",
       "       'titulo_ventas', 'titulo_sr', 'titulo_importante', 'titulo_jefe',\n",
       "       'titulo_empresa', 'titulo_asistente', 'titulo_supervisor', 'titulo_jr',\n",
       "       'titulo_contable', 'desc_experiencia', 'desc_empresa', 'desc_trabajo',\n",
       "       'desc_excluyente', 'desc_manejo', 'desc_importante', 'desc_equipo',\n",
       "       'desc_tareas', 'desc_cliente', 'desc_clientes', 'desc_conocimientos',\n",
       "       'idzona', 'idciudad', 'idmapacalle', 'idtipo_de_trabajo',\n",
       "       'idnivel_laboral', 'idnombre_area', 'iddenominacion_empresa', 'sexo',\n",
       "       'edad'],\n",
       "      dtype='object')"
      ]
     },
     "execution_count": 9,
     "metadata": {},
     "output_type": "execute_result"
    }
   ],
   "source": []
  },
  {
   "cell_type": "code",
   "execution_count": 10,
   "metadata": {},
   "outputs": [],
   "source": [
    "df[cols2] = df[cols2].astype('uint8')"
   ]
  },
  {
   "cell_type": "code",
   "execution_count": 11,
   "metadata": {},
   "outputs": [
    {
     "data": {
      "text/html": [
       "<div>\n",
       "<style scoped>\n",
       "    .dataframe tbody tr th:only-of-type {\n",
       "        vertical-align: middle;\n",
       "    }\n",
       "\n",
       "    .dataframe tbody tr th {\n",
       "        vertical-align: top;\n",
       "    }\n",
       "\n",
       "    .dataframe thead th {\n",
       "        text-align: right;\n",
       "    }\n",
       "</style>\n",
       "<table border=\"1\" class=\"dataframe\">\n",
       "  <thead>\n",
       "    <tr style=\"text-align: right;\">\n",
       "      <th></th>\n",
       "      <th>idaviso</th>\n",
       "      <th>esta_online</th>\n",
       "      <th>titulo_analista</th>\n",
       "      <th>titulo_tecnico</th>\n",
       "      <th>titulo_administrativo</th>\n",
       "      <th>titulo_vendedor</th>\n",
       "      <th>titulo_comercial</th>\n",
       "      <th>titulo_ventas</th>\n",
       "      <th>titulo_sr</th>\n",
       "      <th>titulo_importante</th>\n",
       "      <th>...</th>\n",
       "      <th>idnivel_laboral</th>\n",
       "      <th>idnombre_area</th>\n",
       "      <th>iddenominacion_empresa</th>\n",
       "      <th>idpostulante</th>\n",
       "      <th>timestamp</th>\n",
       "      <th>valor_educacion</th>\n",
       "      <th>sexo</th>\n",
       "      <th>edad</th>\n",
       "      <th>se_postulo</th>\n",
       "      <th>idpostulante_int</th>\n",
       "    </tr>\n",
       "  </thead>\n",
       "  <tbody>\n",
       "    <tr>\n",
       "      <th>0</th>\n",
       "      <td>1112448280</td>\n",
       "      <td>1</td>\n",
       "      <td>0</td>\n",
       "      <td>0</td>\n",
       "      <td>0</td>\n",
       "      <td>1</td>\n",
       "      <td>0</td>\n",
       "      <td>0</td>\n",
       "      <td>1</td>\n",
       "      <td>0</td>\n",
       "      <td>...</td>\n",
       "      <td>5</td>\n",
       "      <td>179</td>\n",
       "      <td>54</td>\n",
       "      <td>bOj3qG4</td>\n",
       "      <td>1035900.313</td>\n",
       "      <td>-1.0</td>\n",
       "      <td>1</td>\n",
       "      <td>32</td>\n",
       "      <td>0</td>\n",
       "      <td>339741</td>\n",
       "    </tr>\n",
       "    <tr>\n",
       "      <th>1</th>\n",
       "      <td>1112319885</td>\n",
       "      <td>1</td>\n",
       "      <td>0</td>\n",
       "      <td>0</td>\n",
       "      <td>0</td>\n",
       "      <td>0</td>\n",
       "      <td>0</td>\n",
       "      <td>0</td>\n",
       "      <td>0</td>\n",
       "      <td>0</td>\n",
       "      <td>...</td>\n",
       "      <td>0</td>\n",
       "      <td>142</td>\n",
       "      <td>18</td>\n",
       "      <td>pz9d5Ew</td>\n",
       "      <td>7133273.612</td>\n",
       "      <td>6.0</td>\n",
       "      <td>2</td>\n",
       "      <td>26</td>\n",
       "      <td>1</td>\n",
       "      <td>411417</td>\n",
       "    </tr>\n",
       "    <tr>\n",
       "      <th>2</th>\n",
       "      <td>1112408821</td>\n",
       "      <td>1</td>\n",
       "      <td>0</td>\n",
       "      <td>0</td>\n",
       "      <td>0</td>\n",
       "      <td>1</td>\n",
       "      <td>0</td>\n",
       "      <td>0</td>\n",
       "      <td>0</td>\n",
       "      <td>0</td>\n",
       "      <td>...</td>\n",
       "      <td>0</td>\n",
       "      <td>182</td>\n",
       "      <td>193</td>\n",
       "      <td>BmZrEJa</td>\n",
       "      <td>3432144.612</td>\n",
       "      <td>10.0</td>\n",
       "      <td>1</td>\n",
       "      <td>21</td>\n",
       "      <td>1</td>\n",
       "      <td>134550</td>\n",
       "    </tr>\n",
       "    <tr>\n",
       "      <th>3</th>\n",
       "      <td>1112094756</td>\n",
       "      <td>1</td>\n",
       "      <td>0</td>\n",
       "      <td>0</td>\n",
       "      <td>0</td>\n",
       "      <td>0</td>\n",
       "      <td>0</td>\n",
       "      <td>0</td>\n",
       "      <td>0</td>\n",
       "      <td>0</td>\n",
       "      <td>...</td>\n",
       "      <td>0</td>\n",
       "      <td>25</td>\n",
       "      <td>6</td>\n",
       "      <td>EzpMQdb</td>\n",
       "      <td>8792572.612</td>\n",
       "      <td>11.0</td>\n",
       "      <td>2</td>\n",
       "      <td>27</td>\n",
       "      <td>1</td>\n",
       "      <td>163553</td>\n",
       "    </tr>\n",
       "    <tr>\n",
       "      <th>4</th>\n",
       "      <td>1112465432</td>\n",
       "      <td>1</td>\n",
       "      <td>0</td>\n",
       "      <td>0</td>\n",
       "      <td>0</td>\n",
       "      <td>0</td>\n",
       "      <td>0</td>\n",
       "      <td>0</td>\n",
       "      <td>1</td>\n",
       "      <td>0</td>\n",
       "      <td>...</td>\n",
       "      <td>0</td>\n",
       "      <td>15</td>\n",
       "      <td>41</td>\n",
       "      <td>96Xo6wa</td>\n",
       "      <td>488126.839</td>\n",
       "      <td>12.0</td>\n",
       "      <td>1</td>\n",
       "      <td>38</td>\n",
       "      <td>0</td>\n",
       "      <td>116653</td>\n",
       "    </tr>\n",
       "  </tbody>\n",
       "</table>\n",
       "<p>5 rows × 41 columns</p>\n",
       "</div>"
      ],
      "text/plain": [
       "      idaviso  esta_online  titulo_analista  titulo_tecnico  \\\n",
       "0  1112448280            1                0               0   \n",
       "1  1112319885            1                0               0   \n",
       "2  1112408821            1                0               0   \n",
       "3  1112094756            1                0               0   \n",
       "4  1112465432            1                0               0   \n",
       "\n",
       "   titulo_administrativo  titulo_vendedor  titulo_comercial  titulo_ventas  \\\n",
       "0                      0                1                 0              0   \n",
       "1                      0                0                 0              0   \n",
       "2                      0                1                 0              0   \n",
       "3                      0                0                 0              0   \n",
       "4                      0                0                 0              0   \n",
       "\n",
       "   titulo_sr  titulo_importante        ...         idnivel_laboral  \\\n",
       "0          1                  0        ...                       5   \n",
       "1          0                  0        ...                       0   \n",
       "2          0                  0        ...                       0   \n",
       "3          0                  0        ...                       0   \n",
       "4          1                  0        ...                       0   \n",
       "\n",
       "   idnombre_area  iddenominacion_empresa  idpostulante    timestamp  \\\n",
       "0            179                      54       bOj3qG4  1035900.313   \n",
       "1            142                      18       pz9d5Ew  7133273.612   \n",
       "2            182                     193       BmZrEJa  3432144.612   \n",
       "3             25                       6       EzpMQdb  8792572.612   \n",
       "4             15                      41       96Xo6wa   488126.839   \n",
       "\n",
       "   valor_educacion  sexo  edad  se_postulo  idpostulante_int  \n",
       "0             -1.0     1    32           0            339741  \n",
       "1              6.0     2    26           1            411417  \n",
       "2             10.0     1    21           1            134550  \n",
       "3             11.0     2    27           1            163553  \n",
       "4             12.0     1    38           0            116653  \n",
       "\n",
       "[5 rows x 41 columns]"
      ]
     },
     "execution_count": 11,
     "metadata": {},
     "output_type": "execute_result"
    }
   ],
   "source": [
    "df.head()"
   ]
  },
  {
   "cell_type": "code",
   "execution_count": 12,
   "metadata": {},
   "outputs": [],
   "source": [
    "X = np.array(dfix)\n",
    "y = np.array(df['se_postulo']) "
   ]
  },
  {
   "cell_type": "code",
   "execution_count": 13,
   "metadata": {},
   "outputs": [
    {
     "data": {
      "text/plain": [
       "(10000174, 39)"
      ]
     },
     "execution_count": 13,
     "metadata": {},
     "output_type": "execute_result"
    }
   ],
   "source": [
    "X.shape"
   ]
  },
  {
   "cell_type": "code",
   "execution_count": 14,
   "metadata": {},
   "outputs": [
    {
     "data": {
      "text/plain": [
       "(100000, 42)"
      ]
     },
     "execution_count": 14,
     "metadata": {},
     "output_type": "execute_result"
    }
   ],
   "source": [
    "# Despues de generar el array, ya libero memoria haciendo el join entre los resultados que tengo que predecir, y el df.\n",
    "top100_full = pd.read_csv(\"../test_final_100k.csv\", encoding='utf-8')\n",
    "top100_full.head()\n",
    "df = pd.merge(top100_full, df, how='inner', on=['idaviso','idpostulante'])\n",
    "df.shape"
   ]
  },
  {
   "cell_type": "code",
   "execution_count": 15,
   "metadata": {},
   "outputs": [
    {
     "data": {
      "text/plain": [
       "(10000174, 39)"
      ]
     },
     "execution_count": 15,
     "metadata": {},
     "output_type": "execute_result"
    }
   ],
   "source": [
    "X.shape"
   ]
  },
  {
   "cell_type": "code",
   "execution_count": 16,
   "metadata": {},
   "outputs": [
    {
     "data": {
      "text/plain": [
       "array([[1.11000748e+09, 1.00000000e+00, 0.00000000e+00, ...,\n",
       "        1.00000000e+00, 4.00000000e+01, 5.54750000e+04],\n",
       "       [1.11173851e+09, 1.00000000e+00, 0.00000000e+00, ...,\n",
       "        2.00000000e+00, 2.00000000e+01, 6.08100000e+03],\n",
       "       [1.11231947e+09, 1.00000000e+00, 0.00000000e+00, ...,\n",
       "        1.00000000e+00, 2.80000000e+01, 7.01070000e+04],\n",
       "       ...,\n",
       "       [1.11228447e+09, 0.00000000e+00, 0.00000000e+00, ...,\n",
       "        2.00000000e+00, 3.40000000e+01, 3.94918000e+05],\n",
       "       [1.11247693e+09, 0.00000000e+00, 0.00000000e+00, ...,\n",
       "        1.00000000e+00, 3.80000000e+01, 2.45679000e+05],\n",
       "       [1.11246524e+09, 1.00000000e+00, 0.00000000e+00, ...,\n",
       "        2.00000000e+00, 2.40000000e+01, 1.35387000e+05]])"
      ]
     },
     "execution_count": 16,
     "metadata": {},
     "output_type": "execute_result"
    }
   ],
   "source": [
    "# Split into train and test, use only 10% as test (15 flowers)\n",
    "X_train, X_test, y_train, y_test = train_test_split(X, y, test_size=0.1, random_state=7506)\n",
    "X_test"
   ]
  },
  {
   "cell_type": "code",
   "execution_count": 17,
   "metadata": {},
   "outputs": [
    {
     "data": {
      "text/plain": [
       "array([0, 0, 1, ..., 1, 0, 0], dtype=int64)"
      ]
     },
     "execution_count": 17,
     "metadata": {},
     "output_type": "execute_result"
    }
   ],
   "source": [
    "y_test"
   ]
  },
  {
   "cell_type": "code",
   "execution_count": 18,
   "metadata": {},
   "outputs": [
    {
     "name": "stdout",
     "output_type": "stream",
     "text": [
      "1: 0.8728222891987945\n"
     ]
    }
   ],
   "source": [
    "for i in range(1, 2):    \n",
    "    knn = KNeighborsClassifier(n_neighbors=i)                 # Create KNN classifier\n",
    "    knn.fit(X_train, y_train)                                 # FIT (this does nothing in normal KNN)\n",
    "    pred = knn.predict(X_test)                                # predict the response\n",
    "    print (str(i) + \": \" + str(accuracy_score(y_test, pred))) # evaluate accuracy\n",
    "\n",
    "# 1: 0.9169948823503965\n",
    "# 2: 0.903654989733514\n",
    "# 3: 0.9077424696507382\n",
    "# 4: 0.9014487767237989    "
   ]
  },
  {
   "cell_type": "markdown",
   "metadata": {},
   "source": [
    "# Predigo con todos los datos"
   ]
  },
  {
   "cell_type": "code",
   "execution_count": 19,
   "metadata": {},
   "outputs": [
    {
     "data": {
      "text/html": [
       "<div>\n",
       "<style scoped>\n",
       "    .dataframe tbody tr th:only-of-type {\n",
       "        vertical-align: middle;\n",
       "    }\n",
       "\n",
       "    .dataframe tbody tr th {\n",
       "        vertical-align: top;\n",
       "    }\n",
       "\n",
       "    .dataframe thead th {\n",
       "        text-align: right;\n",
       "    }\n",
       "</style>\n",
       "<table border=\"1\" class=\"dataframe\">\n",
       "  <thead>\n",
       "    <tr style=\"text-align: right;\">\n",
       "      <th></th>\n",
       "      <th>idaviso</th>\n",
       "      <th>esta_online</th>\n",
       "      <th>titulo_analista</th>\n",
       "      <th>titulo_tecnico</th>\n",
       "      <th>titulo_administrativo</th>\n",
       "      <th>titulo_vendedor</th>\n",
       "      <th>titulo_comercial</th>\n",
       "      <th>titulo_ventas</th>\n",
       "      <th>titulo_sr</th>\n",
       "      <th>titulo_importante</th>\n",
       "      <th>...</th>\n",
       "      <th>idmapacalle</th>\n",
       "      <th>idtipo_de_trabajo</th>\n",
       "      <th>idnivel_laboral</th>\n",
       "      <th>idnombre_area</th>\n",
       "      <th>iddenominacion_empresa</th>\n",
       "      <th>timestamp</th>\n",
       "      <th>valor_educacion</th>\n",
       "      <th>sexo</th>\n",
       "      <th>edad</th>\n",
       "      <th>idpostulante_int</th>\n",
       "    </tr>\n",
       "  </thead>\n",
       "  <tbody>\n",
       "    <tr>\n",
       "      <th>0</th>\n",
       "      <td>739260</td>\n",
       "      <td>0</td>\n",
       "      <td>0</td>\n",
       "      <td>0</td>\n",
       "      <td>0</td>\n",
       "      <td>0</td>\n",
       "      <td>1</td>\n",
       "      <td>0</td>\n",
       "      <td>0</td>\n",
       "      <td>0</td>\n",
       "      <td>...</td>\n",
       "      <td>0</td>\n",
       "      <td>0</td>\n",
       "      <td>2</td>\n",
       "      <td>29</td>\n",
       "      <td>86</td>\n",
       "      <td>3.177005e+06</td>\n",
       "      <td>21.0</td>\n",
       "      <td>1</td>\n",
       "      <td>42</td>\n",
       "      <td>72459</td>\n",
       "    </tr>\n",
       "    <tr>\n",
       "      <th>1</th>\n",
       "      <td>739260</td>\n",
       "      <td>0</td>\n",
       "      <td>0</td>\n",
       "      <td>0</td>\n",
       "      <td>0</td>\n",
       "      <td>0</td>\n",
       "      <td>1</td>\n",
       "      <td>0</td>\n",
       "      <td>0</td>\n",
       "      <td>0</td>\n",
       "      <td>...</td>\n",
       "      <td>0</td>\n",
       "      <td>0</td>\n",
       "      <td>2</td>\n",
       "      <td>29</td>\n",
       "      <td>86</td>\n",
       "      <td>3.177005e+06</td>\n",
       "      <td>11.0</td>\n",
       "      <td>2</td>\n",
       "      <td>30</td>\n",
       "      <td>87850</td>\n",
       "    </tr>\n",
       "    <tr>\n",
       "      <th>2</th>\n",
       "      <td>739260</td>\n",
       "      <td>0</td>\n",
       "      <td>0</td>\n",
       "      <td>0</td>\n",
       "      <td>0</td>\n",
       "      <td>0</td>\n",
       "      <td>1</td>\n",
       "      <td>0</td>\n",
       "      <td>0</td>\n",
       "      <td>0</td>\n",
       "      <td>...</td>\n",
       "      <td>0</td>\n",
       "      <td>0</td>\n",
       "      <td>2</td>\n",
       "      <td>29</td>\n",
       "      <td>86</td>\n",
       "      <td>3.177005e+06</td>\n",
       "      <td>12.0</td>\n",
       "      <td>1</td>\n",
       "      <td>36</td>\n",
       "      <td>369423</td>\n",
       "    </tr>\n",
       "    <tr>\n",
       "      <th>3</th>\n",
       "      <td>758580</td>\n",
       "      <td>0</td>\n",
       "      <td>0</td>\n",
       "      <td>0</td>\n",
       "      <td>0</td>\n",
       "      <td>0</td>\n",
       "      <td>0</td>\n",
       "      <td>0</td>\n",
       "      <td>1</td>\n",
       "      <td>0</td>\n",
       "      <td>...</td>\n",
       "      <td>0</td>\n",
       "      <td>0</td>\n",
       "      <td>3</td>\n",
       "      <td>168</td>\n",
       "      <td>200</td>\n",
       "      <td>3.177005e+06</td>\n",
       "      <td>17.0</td>\n",
       "      <td>2</td>\n",
       "      <td>68</td>\n",
       "      <td>16092</td>\n",
       "    </tr>\n",
       "    <tr>\n",
       "      <th>4</th>\n",
       "      <td>758580</td>\n",
       "      <td>0</td>\n",
       "      <td>0</td>\n",
       "      <td>0</td>\n",
       "      <td>0</td>\n",
       "      <td>0</td>\n",
       "      <td>0</td>\n",
       "      <td>0</td>\n",
       "      <td>1</td>\n",
       "      <td>0</td>\n",
       "      <td>...</td>\n",
       "      <td>0</td>\n",
       "      <td>0</td>\n",
       "      <td>3</td>\n",
       "      <td>168</td>\n",
       "      <td>200</td>\n",
       "      <td>3.177005e+06</td>\n",
       "      <td>10.0</td>\n",
       "      <td>1</td>\n",
       "      <td>32</td>\n",
       "      <td>145452</td>\n",
       "    </tr>\n",
       "  </tbody>\n",
       "</table>\n",
       "<p>5 rows × 39 columns</p>\n",
       "</div>"
      ],
      "text/plain": [
       "   idaviso  esta_online  titulo_analista  titulo_tecnico  \\\n",
       "0   739260            0                0               0   \n",
       "1   739260            0                0               0   \n",
       "2   739260            0                0               0   \n",
       "3   758580            0                0               0   \n",
       "4   758580            0                0               0   \n",
       "\n",
       "   titulo_administrativo  titulo_vendedor  titulo_comercial  titulo_ventas  \\\n",
       "0                      0                0                 1              0   \n",
       "1                      0                0                 1              0   \n",
       "2                      0                0                 1              0   \n",
       "3                      0                0                 0              0   \n",
       "4                      0                0                 0              0   \n",
       "\n",
       "   titulo_sr  titulo_importante        ...         idmapacalle  \\\n",
       "0          0                  0        ...                   0   \n",
       "1          0                  0        ...                   0   \n",
       "2          0                  0        ...                   0   \n",
       "3          1                  0        ...                   0   \n",
       "4          1                  0        ...                   0   \n",
       "\n",
       "   idtipo_de_trabajo  idnivel_laboral  idnombre_area  iddenominacion_empresa  \\\n",
       "0                  0                2             29                      86   \n",
       "1                  0                2             29                      86   \n",
       "2                  0                2             29                      86   \n",
       "3                  0                3            168                     200   \n",
       "4                  0                3            168                     200   \n",
       "\n",
       "      timestamp  valor_educacion  sexo  edad  idpostulante_int  \n",
       "0  3.177005e+06             21.0     1    42             72459  \n",
       "1  3.177005e+06             11.0     2    30             87850  \n",
       "2  3.177005e+06             12.0     1    36            369423  \n",
       "3  3.177005e+06             17.0     2    68             16092  \n",
       "4  3.177005e+06             10.0     1    32            145452  \n",
       "\n",
       "[5 rows x 39 columns]"
      ]
     },
     "execution_count": 19,
     "metadata": {},
     "output_type": "execute_result"
    }
   ],
   "source": [
    "dfix3 = df[cols]\n",
    "dfix3.head()"
   ]
  },
  {
   "cell_type": "code",
   "execution_count": 20,
   "metadata": {},
   "outputs": [],
   "source": [
    "# dfix3.fillna(0, inplace=True)"
   ]
  },
  {
   "cell_type": "code",
   "execution_count": 21,
   "metadata": {},
   "outputs": [
    {
     "data": {
      "text/plain": [
       "array([[7.39260000e+05, 0.00000000e+00, 0.00000000e+00, ...,\n",
       "        1.00000000e+00, 4.20000000e+01, 7.24590000e+04],\n",
       "       [7.39260000e+05, 0.00000000e+00, 0.00000000e+00, ...,\n",
       "        2.00000000e+00, 3.00000000e+01, 8.78500000e+04],\n",
       "       [7.39260000e+05, 0.00000000e+00, 0.00000000e+00, ...,\n",
       "        1.00000000e+00, 3.60000000e+01, 3.69423000e+05],\n",
       "       ...,\n",
       "       [1.11251512e+09, 0.00000000e+00, 0.00000000e+00, ...,\n",
       "        1.00000000e+00, 4.00000000e+01, 2.17359000e+05],\n",
       "       [1.11251512e+09, 0.00000000e+00, 0.00000000e+00, ...,\n",
       "        1.00000000e+00, 3.10000000e+01, 3.19904000e+05],\n",
       "       [1.11251512e+09, 0.00000000e+00, 0.00000000e+00, ...,\n",
       "        2.00000000e+00, 4.40000000e+01, 1.04242000e+05]])"
      ]
     },
     "execution_count": 21,
     "metadata": {},
     "output_type": "execute_result"
    }
   ],
   "source": [
    "X_full_data = np.array(dfix3)\n",
    "X_full_data"
   ]
  },
  {
   "cell_type": "code",
   "execution_count": 22,
   "metadata": {},
   "outputs": [
    {
     "data": {
      "text/plain": [
       "(100000, 39)"
      ]
     },
     "execution_count": 22,
     "metadata": {},
     "output_type": "execute_result"
    }
   ],
   "source": [
    "X_full_data.shape"
   ]
  },
  {
   "cell_type": "code",
   "execution_count": 23,
   "metadata": {},
   "outputs": [],
   "source": [
    "pred_full_data = knn.predict(X_full_data)"
   ]
  },
  {
   "cell_type": "code",
   "execution_count": 24,
   "metadata": {},
   "outputs": [],
   "source": [
    "df['sepostulo'] = pred_full_data"
   ]
  },
  {
   "cell_type": "code",
   "execution_count": 25,
   "metadata": {},
   "outputs": [],
   "source": [
    "df2 = df[['id', 'idaviso', 'idpostulante', 'se_postulo', 'sepostulo']]"
   ]
  },
  {
   "cell_type": "code",
   "execution_count": 26,
   "metadata": {},
   "outputs": [
    {
     "data": {
      "text/plain": [
       "(0, 5)"
      ]
     },
     "execution_count": 26,
     "metadata": {},
     "output_type": "execute_result"
    }
   ],
   "source": [
    "# dfix2.drop(['valor_educacion', 'timestamp', 'sexo','edad','idtitulo','idzona','idciudad','idmapacalle',\n",
    "#             'idtipo_de_trabajo','idnivel_laboral','idnombre_area','iddenominacion_empresa'], inplace=True, axis=1)\n",
    "df2[df2['se_postulo'].isnull()].shape"
   ]
  },
  {
   "cell_type": "code",
   "execution_count": 27,
   "metadata": {},
   "outputs": [
    {
     "data": {
      "text/html": [
       "<div>\n",
       "<style scoped>\n",
       "    .dataframe tbody tr th:only-of-type {\n",
       "        vertical-align: middle;\n",
       "    }\n",
       "\n",
       "    .dataframe tbody tr th {\n",
       "        vertical-align: top;\n",
       "    }\n",
       "\n",
       "    .dataframe thead th {\n",
       "        text-align: right;\n",
       "    }\n",
       "</style>\n",
       "<table border=\"1\" class=\"dataframe\">\n",
       "  <thead>\n",
       "    <tr style=\"text-align: right;\">\n",
       "      <th></th>\n",
       "      <th>id</th>\n",
       "      <th>idaviso</th>\n",
       "      <th>idpostulante</th>\n",
       "      <th>se_postulo</th>\n",
       "      <th>sepostulo</th>\n",
       "    </tr>\n",
       "  </thead>\n",
       "  <tbody>\n",
       "    <tr>\n",
       "      <th>594</th>\n",
       "      <td>594</td>\n",
       "      <td>17903700</td>\n",
       "      <td>Yj5q3xX</td>\n",
       "      <td>1</td>\n",
       "      <td>0</td>\n",
       "    </tr>\n",
       "  </tbody>\n",
       "</table>\n",
       "</div>"
      ],
      "text/plain": [
       "      id   idaviso idpostulante  se_postulo  sepostulo\n",
       "594  594  17903700      Yj5q3xX           1          0"
      ]
     },
     "execution_count": 27,
     "metadata": {},
     "output_type": "execute_result"
    }
   ],
   "source": [
    "df2[df2['id'] == 594]"
   ]
  },
  {
   "cell_type": "code",
   "execution_count": 28,
   "metadata": {},
   "outputs": [],
   "source": [
    "# dfix2.fillna(0, inplace=True)"
   ]
  },
  {
   "cell_type": "code",
   "execution_count": 29,
   "metadata": {},
   "outputs": [
    {
     "data": {
      "text/html": [
       "<div>\n",
       "<style scoped>\n",
       "    .dataframe tbody tr th:only-of-type {\n",
       "        vertical-align: middle;\n",
       "    }\n",
       "\n",
       "    .dataframe tbody tr th {\n",
       "        vertical-align: top;\n",
       "    }\n",
       "\n",
       "    .dataframe thead th {\n",
       "        text-align: right;\n",
       "    }\n",
       "</style>\n",
       "<table border=\"1\" class=\"dataframe\">\n",
       "  <thead>\n",
       "    <tr style=\"text-align: right;\">\n",
       "      <th></th>\n",
       "      <th>id</th>\n",
       "      <th>se_postulo</th>\n",
       "      <th>sepostulo</th>\n",
       "    </tr>\n",
       "  </thead>\n",
       "  <tbody>\n",
       "    <tr>\n",
       "      <th>0</th>\n",
       "      <td>0</td>\n",
       "      <td>0</td>\n",
       "      <td>0</td>\n",
       "    </tr>\n",
       "    <tr>\n",
       "      <th>1</th>\n",
       "      <td>1</td>\n",
       "      <td>0</td>\n",
       "      <td>0</td>\n",
       "    </tr>\n",
       "    <tr>\n",
       "      <th>2</th>\n",
       "      <td>2</td>\n",
       "      <td>0</td>\n",
       "      <td>0</td>\n",
       "    </tr>\n",
       "    <tr>\n",
       "      <th>3</th>\n",
       "      <td>3</td>\n",
       "      <td>0</td>\n",
       "      <td>0</td>\n",
       "    </tr>\n",
       "    <tr>\n",
       "      <th>4</th>\n",
       "      <td>4</td>\n",
       "      <td>0</td>\n",
       "      <td>0</td>\n",
       "    </tr>\n",
       "  </tbody>\n",
       "</table>\n",
       "</div>"
      ],
      "text/plain": [
       "   id  se_postulo  sepostulo\n",
       "0   0           0          0\n",
       "1   1           0          0\n",
       "2   2           0          0\n",
       "3   3           0          0\n",
       "4   4           0          0"
      ]
     },
     "execution_count": 29,
     "metadata": {},
     "output_type": "execute_result"
    }
   ],
   "source": [
    "top100_full = df2[['id', 'se_postulo', 'sepostulo']]\n",
    "top100_full.head()"
   ]
  },
  {
   "cell_type": "code",
   "execution_count": 30,
   "metadata": {},
   "outputs": [
    {
     "name": "stderr",
     "output_type": "stream",
     "text": [
      "C:\\ProgramData\\Anaconda3\\lib\\site-packages\\ipykernel_launcher.py:1: SettingWithCopyWarning: \n",
      "A value is trying to be set on a copy of a slice from a DataFrame.\n",
      "Try using .loc[row_indexer,col_indexer] = value instead\n",
      "\n",
      "See the caveats in the documentation: http://pandas.pydata.org/pandas-docs/stable/indexing.html#indexing-view-versus-copy\n",
      "  \"\"\"Entry point for launching an IPython kernel.\n",
      "C:\\ProgramData\\Anaconda3\\lib\\site-packages\\ipykernel_launcher.py:2: SettingWithCopyWarning: \n",
      "A value is trying to be set on a copy of a slice from a DataFrame.\n",
      "Try using .loc[row_indexer,col_indexer] = value instead\n",
      "\n",
      "See the caveats in the documentation: http://pandas.pydata.org/pandas-docs/stable/indexing.html#indexing-view-versus-copy\n",
      "  \n"
     ]
    },
    {
     "data": {
      "text/plain": [
       "(100000, 3)"
      ]
     },
     "execution_count": 30,
     "metadata": {},
     "output_type": "execute_result"
    }
   ],
   "source": [
    "top100_full['se_postulo'] = top100_full['se_postulo'].astype('int')\n",
    "top100_full['sepostulo'] = top100_full['sepostulo'].astype('int')\n",
    "top100_full.shape"
   ]
  },
  {
   "cell_type": "code",
   "execution_count": 31,
   "metadata": {},
   "outputs": [
    {
     "data": {
      "text/plain": [
       "(1661,)"
      ]
     },
     "execution_count": 31,
     "metadata": {},
     "output_type": "execute_result"
    }
   ],
   "source": [
    "top100_full[(top100_full['sepostulo'] == 0) & (top100_full['se_postulo'] == 1)]['sepostulo'].shape"
   ]
  },
  {
   "cell_type": "code",
   "execution_count": 32,
   "metadata": {},
   "outputs": [
    {
     "name": "stderr",
     "output_type": "stream",
     "text": [
      "C:\\ProgramData\\Anaconda3\\lib\\site-packages\\pandas\\core\\indexing.py:537: SettingWithCopyWarning: \n",
      "A value is trying to be set on a copy of a slice from a DataFrame.\n",
      "Try using .loc[row_indexer,col_indexer] = value instead\n",
      "\n",
      "See the caveats in the documentation: http://pandas.pydata.org/pandas-docs/stable/indexing.html#indexing-view-versus-copy\n",
      "  self.obj[item] = s\n"
     ]
    },
    {
     "data": {
      "text/plain": [
       "Series([], Name: sepostulo, dtype: int32)"
      ]
     },
     "execution_count": 32,
     "metadata": {},
     "output_type": "execute_result"
    }
   ],
   "source": [
    "# Aca modifico lo de siempre, la linea de abajo es sólo para comprobar que quedo bien, no tiene que traer registros.\n",
    "top100_full.loc[(top100_full['sepostulo'] == 0) & (top100_full['se_postulo'] == 1), 'sepostulo'] = 1\n",
    "top100_full[(top100_full['sepostulo'] == 0) & (top100_full['se_postulo'] == 1)]['sepostulo']"
   ]
  },
  {
   "cell_type": "code",
   "execution_count": 33,
   "metadata": {},
   "outputs": [
    {
     "name": "stderr",
     "output_type": "stream",
     "text": [
      "C:\\ProgramData\\Anaconda3\\lib\\site-packages\\ipykernel_launcher.py:1: SettingWithCopyWarning: \n",
      "A value is trying to be set on a copy of a slice from a DataFrame\n",
      "\n",
      "See the caveats in the documentation: http://pandas.pydata.org/pandas-docs/stable/indexing.html#indexing-view-versus-copy\n",
      "  \"\"\"Entry point for launching an IPython kernel.\n"
     ]
    }
   ],
   "source": [
    "top100_full.drop('se_postulo', axis=1, inplace=True)"
   ]
  },
  {
   "cell_type": "code",
   "execution_count": 34,
   "metadata": {},
   "outputs": [
    {
     "data": {
      "text/plain": [
       "(38174, 2)"
      ]
     },
     "execution_count": 34,
     "metadata": {},
     "output_type": "execute_result"
    }
   ],
   "source": [
    "top100_full[top100_full['sepostulo'] == 1].shape"
   ]
  },
  {
   "cell_type": "code",
   "execution_count": 35,
   "metadata": {},
   "outputs": [],
   "source": [
    "top100_full.to_csv('../data/adri_data/top100k_knn.csv', encoding='utf-8', index=False)"
   ]
  },
  {
   "cell_type": "code",
   "execution_count": null,
   "metadata": {},
   "outputs": [],
   "source": []
  },
  {
   "cell_type": "code",
   "execution_count": null,
   "metadata": {},
   "outputs": [],
   "source": []
  },
  {
   "cell_type": "code",
   "execution_count": null,
   "metadata": {},
   "outputs": [],
   "source": []
  },
  {
   "cell_type": "code",
   "execution_count": null,
   "metadata": {},
   "outputs": [],
   "source": []
  }
 ],
 "metadata": {
  "kernelspec": {
   "display_name": "Python 3",
   "language": "python",
   "name": "python3"
  }
 },
 "nbformat": 4,
 "nbformat_minor": 2
}
