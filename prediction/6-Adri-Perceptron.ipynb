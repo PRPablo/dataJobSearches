{
 "cells": [
  {
   "cell_type": "markdown",
   "metadata": {},
   "source": [
    "# Realizo la clasificacion usando Neural Network: Multi-layer Perceptron"
   ]
  },
  {
   "cell_type": "markdown",
   "metadata": {},
   "source": [
    "## Tabla de resultados "
   ]
  },
  {
   "cell_type": "code",
   "execution_count": 1,
   "metadata": {},
   "outputs": [],
   "source": [
    "# Aplicando Scaler:                           en Jupyter 0.8105548320964798, en Kaggle 0.83976\n",
    "\n",
    "# Aplicando Scaler y luego PCA(1 Componente): en Jupyter 0.6473592000460224, en Kaggle 0.86418\n",
    "# Aplicando Scaler y luego PCA(2 Componente): en Jupyter 0.6878966168264378, en Kaggle 0.86645\n",
    "# Aplicando Scaler y luego PCA(3 Componente): en Jupyter 0.7500436690357772, en Kaggle 0.84915\n",
    "\n",
    "# Aplicando PCA(1 Componente) y luego Scaler: en Jupyter 0.7652969755924084, en Kaggle 0.84879\n",
    "# Aplicando PCA(2 Componente) y luego Scaler: en Jupyter [Probar]          , en Kaggle [Probar]\n",
    "# Aplicando PCA(3 Componente) y luego Scaler: en Jupyter [Probar]          , en Kaggle [Probar]"
   ]
  },
  {
   "cell_type": "markdown",
   "metadata": {},
   "source": [
    "## Importo librerias necesarias"
   ]
  },
  {
   "cell_type": "code",
   "execution_count": 1,
   "metadata": {},
   "outputs": [],
   "source": [
    "import pandas as pd\n",
    "import numpy as np\n",
    "from sklearn.model_selection import train_test_split\n",
    "#Standard Scaler\n",
    "from  sklearn.preprocessing  import StandardScaler\n",
    "#Multi-layer Perceptron\n",
    "from sklearn.neural_network import MLPClassifier\n",
    "#PCA\n",
    "from sklearn.decomposition import PCA\n",
    "from sklearn import preprocessing\n",
    "\n",
    "import warnings\n",
    "from math import log\n",
    "import datetime as dt\n",
    "import seaborn as sns\n",
    "warnings.filterwarnings('ignore')\n",
    "\n",
    "\n",
    "from sklearn.model_selection import train_test_split\n",
    "from sklearn.preprocessing import StandardScaler\n",
    "from sklearn.decomposition import PCA\n",
    "from sklearn.naive_bayes import GaussianNB\n",
    "from sklearn import metrics\n",
    "import matplotlib.pyplot as plt\n",
    "from sklearn.datasets import load_wine\n",
    "from sklearn.pipeline import make_pipeline\n"
   ]
  },
  {
   "cell_type": "markdown",
   "metadata": {},
   "source": [
    "## Leo todos los datos"
   ]
  },
  {
   "cell_type": "code",
   "execution_count": 2,
   "metadata": {},
   "outputs": [
    {
     "data": {
      "text/plain": [
       "(10000174, 27)"
      ]
     },
     "execution_count": 2,
     "metadata": {},
     "output_type": "execute_result"
    }
   ],
   "source": [
    "df = pd.read_csv('../data/adri_data/entrenamiento_postulaciones_vistas19_6_pp.csv', encoding='utf-8')\n",
    "df.shape"
   ]
  },
  {
   "cell_type": "code",
   "execution_count": 3,
   "metadata": {},
   "outputs": [],
   "source": [
    "df.drop(['idtipo_de_trabajo_int'], inplace=True, axis=1)\n",
    "df.drop(['idnivel_laboral_int'], inplace=True, axis=1)\n",
    "df.drop(['idnombre_area_int'], inplace=True, axis=1)\n",
    "df.drop(['month'], inplace=True, axis=1)\n",
    "df.drop(['day'], inplace=True, axis=1)\n",
    "df.drop(['dayofweek'], inplace=True, axis=1)\n",
    "df.drop(['hour'], inplace=True, axis=1)\n",
    "df.drop(['cantidad_postulaciones_y'], inplace=True, axis=1)\n",
    "df.drop(['cantidad_vistas_y'], inplace=True, axis=1)\n",
    "df.drop(['cantidad_interacciones_y'], inplace=True, axis=1)\n",
    "df.drop(['cantidad_postulaciones_x'], inplace=True, axis=1)\n",
    "df.drop(['cantidad_vistas_x'], inplace=True, axis=1)\n",
    "df.drop(['cantidad_interacciones_x'], inplace=True, axis=1)"
   ]
  },
  {
   "cell_type": "code",
   "execution_count": 4,
   "metadata": {},
   "outputs": [],
   "source": [
    "df['se_postulo'] = df['se_postulo'].apply(lambda x: 1 if x >= 1 else 0)"
   ]
  },
  {
   "cell_type": "code",
   "execution_count": 5,
   "metadata": {},
   "outputs": [],
   "source": [
    "df['sepostulo'] = 0"
   ]
  },
  {
   "cell_type": "code",
   "execution_count": 5,
   "metadata": {
    "scrolled": true
   },
   "outputs": [],
   "source": [
    "df = pd.concat([df, df[df['se_postulo'] == 0]], axis=0).sample(frac=1).reset_index(drop=True)"
   ]
  },
  {
   "cell_type": "code",
   "execution_count": 5,
   "metadata": {},
   "outputs": [],
   "source": [
    "# df['cantidad_interacciones_y'] = df['cantidad_interacciones_y'].apply(lambda x: 0 if x < 1 else log(x))\n",
    "# df['cantidad_interacciones_x'] = df['cantidad_interacciones_x'].apply(lambda x: 0 if x < 1 else log(x))\n",
    "df['cantidad_postulaciones_y'] = df['cantidad_postulaciones_y'].apply(lambda x: 0 if x < 1 else log(x))\n",
    "# df['cantidad_postulaciones_x'] = df['cantidad_postulaciones_x'].apply(lambda x: 0 if x < 1 else log(x))\n",
    "# df['cantidad_vistas_y'] = df['cantidad_vistas_y'].apply(lambda x: 0 if x < 1 else log(x))\n",
    "# df['cantidad_vistas_x'] = df['cantidad_vistas_x'].apply(lambda x: 0 if x < 1 else log(x))"
   ]
  },
  {
   "cell_type": "code",
   "execution_count": 19,
   "metadata": {},
   "outputs": [],
   "source": [
    "# df['cantidad_interacciones_y'] = df['cantidad_interacciones_y'].apply(lambda x: 0 if x <= 0 else 1)\n",
    "# df['cantidad_interacciones_x'] = df['cantidad_interacciones_x'].apply(lambda x: 0 if x <= 0 else 1)\n",
    "df['cantidad_postulaciones_y'] = df['cantidad_postulaciones_y'].apply(lambda x: 0 if x <= 0 else 1)\n",
    "df['cantidad_postulaciones_x'] = df['cantidad_postulaciones_x'].apply(lambda x: 0 if x <= 0 else 1)\n",
    "df['cantidad_vistas_y'] = df['cantidad_vistas_y'].apply(lambda x: x if x <= 0 else 1)\n",
    "df['cantidad_vistas_x'] = df['cantidad_vistas_x'].apply(lambda x: x if x <= 0 else 1)"
   ]
  },
  {
   "cell_type": "code",
   "execution_count": 35,
   "metadata": {},
   "outputs": [],
   "source": [
    "# df['post_tipo_de_trabajo'] = df['post_tipo_de_trabajo'].apply(lambda x: 0 if x <= 0 else log(x))\n",
    "# df['post_nivel_laboral'] = df['post_nivel_laboral'].apply(lambda x: 0 if x <= 0 else log(x))\n",
    "# df['post_nombre_area'] = df['post_nombre_area'].apply(lambda x: 0 if x <= 0 else log(x))\n",
    "df['vist_tipo_de_trabajo'] = df['vist_tipo_de_trabajo'].apply(lambda x: 0 if x <= 0 else log(x))\n",
    "df['vist_nivel_laboral'] = df['vist_nivel_laboral'].apply(lambda x: 0 if x <= 0 else log(x))\n",
    "df['vist_nombre_area'] = df['vist_nombre_area'].apply(lambda x: 0 if x <= 0 else log(x))"
   ]
  },
  {
   "cell_type": "code",
   "execution_count": 6,
   "metadata": {},
   "outputs": [
    {
     "data": {
      "text/html": [
       "<div>\n",
       "<style scoped>\n",
       "    .dataframe tbody tr th:only-of-type {\n",
       "        vertical-align: middle;\n",
       "    }\n",
       "\n",
       "    .dataframe tbody tr th {\n",
       "        vertical-align: top;\n",
       "    }\n",
       "\n",
       "    .dataframe thead th {\n",
       "        text-align: right;\n",
       "    }\n",
       "</style>\n",
       "<table border=\"1\" class=\"dataframe\">\n",
       "  <thead>\n",
       "    <tr style=\"text-align: right;\">\n",
       "      <th></th>\n",
       "      <th>idaviso</th>\n",
       "      <th>esta_online</th>\n",
       "      <th>idpostulante</th>\n",
       "      <th>valor_educacion</th>\n",
       "      <th>educacion_int</th>\n",
       "      <th>sexo</th>\n",
       "      <th>edad</th>\n",
       "      <th>se_postulo</th>\n",
       "      <th>vist_tipo_de_trabajo</th>\n",
       "      <th>vist_nivel_laboral</th>\n",
       "      <th>vist_nombre_area</th>\n",
       "      <th>post_tipo_de_trabajo</th>\n",
       "      <th>post_nivel_laboral</th>\n",
       "      <th>post_nombre_area</th>\n",
       "      <th>sepostulo</th>\n",
       "    </tr>\n",
       "  </thead>\n",
       "  <tbody>\n",
       "    <tr>\n",
       "      <th>0</th>\n",
       "      <td>1112424009</td>\n",
       "      <td>1</td>\n",
       "      <td>96Xdv15</td>\n",
       "      <td>12</td>\n",
       "      <td>20.0</td>\n",
       "      <td>1</td>\n",
       "      <td>28</td>\n",
       "      <td>0</td>\n",
       "      <td>70</td>\n",
       "      <td>3</td>\n",
       "      <td>15</td>\n",
       "      <td>70</td>\n",
       "      <td>3</td>\n",
       "      <td>15</td>\n",
       "      <td>0</td>\n",
       "    </tr>\n",
       "    <tr>\n",
       "      <th>1</th>\n",
       "      <td>1112444846</td>\n",
       "      <td>1</td>\n",
       "      <td>8MaMbax</td>\n",
       "      <td>12</td>\n",
       "      <td>20.0</td>\n",
       "      <td>1</td>\n",
       "      <td>28</td>\n",
       "      <td>0</td>\n",
       "      <td>49</td>\n",
       "      <td>39</td>\n",
       "      <td>13</td>\n",
       "      <td>49</td>\n",
       "      <td>39</td>\n",
       "      <td>13</td>\n",
       "      <td>0</td>\n",
       "    </tr>\n",
       "    <tr>\n",
       "      <th>2</th>\n",
       "      <td>1112393575</td>\n",
       "      <td>0</td>\n",
       "      <td>VNx0axE</td>\n",
       "      <td>12</td>\n",
       "      <td>20.0</td>\n",
       "      <td>-1</td>\n",
       "      <td>36</td>\n",
       "      <td>1</td>\n",
       "      <td>23</td>\n",
       "      <td>9</td>\n",
       "      <td>9</td>\n",
       "      <td>23</td>\n",
       "      <td>9</td>\n",
       "      <td>9</td>\n",
       "      <td>0</td>\n",
       "    </tr>\n",
       "    <tr>\n",
       "      <th>3</th>\n",
       "      <td>1112314018</td>\n",
       "      <td>0</td>\n",
       "      <td>6rZqo54</td>\n",
       "      <td>11</td>\n",
       "      <td>17.0</td>\n",
       "      <td>1</td>\n",
       "      <td>39</td>\n",
       "      <td>1</td>\n",
       "      <td>15</td>\n",
       "      <td>12</td>\n",
       "      <td>3</td>\n",
       "      <td>15</td>\n",
       "      <td>12</td>\n",
       "      <td>3</td>\n",
       "      <td>0</td>\n",
       "    </tr>\n",
       "    <tr>\n",
       "      <th>4</th>\n",
       "      <td>1112445282</td>\n",
       "      <td>1</td>\n",
       "      <td>ak4xVv0</td>\n",
       "      <td>10</td>\n",
       "      <td>19.0</td>\n",
       "      <td>-1</td>\n",
       "      <td>21</td>\n",
       "      <td>0</td>\n",
       "      <td>1</td>\n",
       "      <td>6</td>\n",
       "      <td>3</td>\n",
       "      <td>1</td>\n",
       "      <td>6</td>\n",
       "      <td>3</td>\n",
       "      <td>0</td>\n",
       "    </tr>\n",
       "  </tbody>\n",
       "</table>\n",
       "</div>"
      ],
      "text/plain": [
       "      idaviso  esta_online idpostulante  valor_educacion  educacion_int  sexo  \\\n",
       "0  1112424009            1      96Xdv15               12           20.0     1   \n",
       "1  1112444846            1      8MaMbax               12           20.0     1   \n",
       "2  1112393575            0      VNx0axE               12           20.0    -1   \n",
       "3  1112314018            0      6rZqo54               11           17.0     1   \n",
       "4  1112445282            1      ak4xVv0               10           19.0    -1   \n",
       "\n",
       "   edad  se_postulo  vist_tipo_de_trabajo  vist_nivel_laboral  \\\n",
       "0    28           0                    70                   3   \n",
       "1    28           0                    49                  39   \n",
       "2    36           1                    23                   9   \n",
       "3    39           1                    15                  12   \n",
       "4    21           0                     1                   6   \n",
       "\n",
       "   vist_nombre_area  post_tipo_de_trabajo  post_nivel_laboral  \\\n",
       "0                15                    70                   3   \n",
       "1                13                    49                  39   \n",
       "2                 9                    23                   9   \n",
       "3                 3                    15                  12   \n",
       "4                 3                     1                   6   \n",
       "\n",
       "   post_nombre_area  sepostulo  \n",
       "0                15          0  \n",
       "1                13          0  \n",
       "2                 9          0  \n",
       "3                 3          0  \n",
       "4                 3          0  "
      ]
     },
     "execution_count": 6,
     "metadata": {},
     "output_type": "execute_result"
    }
   ],
   "source": [
    "# df.drop(['idzona', 'idciudad','idmapacalle'], axis=1, inplace=True)\n",
    "df.head()"
   ]
  },
  {
   "cell_type": "code",
   "execution_count": 7,
   "metadata": {},
   "outputs": [],
   "source": [
    "df['valor_educacion'] = df['valor_educacion'].astype('int')\n",
    "df['educacion_int'] = df['educacion_int'].astype('int')\n",
    "df['esta_online'] = df['esta_online'].apply(lambda x: 1 if x == 1 else 0)\n",
    "# df['se_postulo'] = df['se_postulo'].apply(lambda x: 1 if x == 1 else -1)"
   ]
  },
  {
   "cell_type": "code",
   "execution_count": 8,
   "metadata": {},
   "outputs": [
    {
     "data": {
      "text/plain": [
       "Index(['valor_educacion', 'sexo', 'edad', 'vist_tipo_de_trabajo',\n",
       "       'vist_nivel_laboral', 'vist_nombre_area', 'post_tipo_de_trabajo',\n",
       "       'post_nivel_laboral', 'post_nombre_area'],\n",
       "      dtype='object')"
      ]
     },
     "execution_count": 8,
     "metadata": {},
     "output_type": "execute_result"
    }
   ],
   "source": [
    "cols = df.head(0)\n",
    "cols.drop(['se_postulo', 'idpostulante', 'sepostulo'], inplace=True, axis=1)\n",
    "\n",
    "cols.drop(['esta_online'], inplace=True, axis=1)\n",
    "# cols.drop(['valor_educacion'], inplace=True, axis=1)\n",
    "cols.drop(['educacion_int'], inplace=True, axis=1)\n",
    "\n",
    "cols.drop(['idaviso'], inplace=True, axis=1)\n",
    "# cols.drop(['idtipo_de_trabajo_int'], inplace=True, axis=1)\n",
    "# cols.drop(['idnivel_laboral_int'], inplace=True, axis=1)\n",
    "# cols.drop(['idnombre_area_int'], inplace=True, axis=1)\n",
    "# cols.drop(['month'], inplace=True, axis=1)\n",
    "# cols.drop(['day'], inplace=True, axis=1)\n",
    "# cols.drop(['dayofweek'], inplace=True, axis=1)\n",
    "# cols.drop(['hour'], inplace=True, axis=1)\n",
    "# # cols.drop(['educacion_int'], inplace=True, axis=1)\n",
    "# # cols.drop(['sexo'], inplace=True, axis=1)\n",
    "# # cols.drop(['edad'], inplace=True, axis=1)\n",
    "# cols.drop(['cantidad_postulaciones_y'], inplace=True, axis=1)\n",
    "# cols.drop(['cantidad_vistas_y'], inplace=True, axis=1)\n",
    "# cols.drop(['cantidad_interacciones_y'], inplace=True, axis=1)\n",
    "# cols.drop(['cantidad_postulaciones_x'], inplace=True, axis=1)\n",
    "# cols.drop(['cantidad_vistas_x'], inplace=True, axis=1)\n",
    "# cols.drop(['cantidad_interacciones_x'], inplace=True, axis=1)\n",
    "# # cols.drop(['post_tipo_de_trabajo'], inplace=True, axis=1)\n",
    "# # cols.drop(['post_nivel_laboral'], inplace=True, axis=1)\n",
    "# # cols.drop(['post_nombre_area'], inplace=True, axis=1)\n",
    "\n",
    "cols = cols.columns\n",
    "cols"
   ]
  },
  {
   "cell_type": "code",
   "execution_count": 51,
   "metadata": {},
   "outputs": [
    {
     "data": {
      "text/html": [
       "<div>\n",
       "<style scoped>\n",
       "    .dataframe tbody tr th:only-of-type {\n",
       "        vertical-align: middle;\n",
       "    }\n",
       "\n",
       "    .dataframe tbody tr th {\n",
       "        vertical-align: top;\n",
       "    }\n",
       "\n",
       "    .dataframe thead th {\n",
       "        text-align: right;\n",
       "    }\n",
       "</style>\n",
       "<table border=\"1\" class=\"dataframe\">\n",
       "  <thead>\n",
       "    <tr style=\"text-align: right;\">\n",
       "      <th></th>\n",
       "      <th>valor_educacion</th>\n",
       "      <th>sexo</th>\n",
       "      <th>edad</th>\n",
       "      <th>vist_tipo_de_trabajo</th>\n",
       "      <th>vist_nivel_laboral</th>\n",
       "      <th>vist_nombre_area</th>\n",
       "      <th>post_tipo_de_trabajo</th>\n",
       "      <th>post_nivel_laboral</th>\n",
       "      <th>post_nombre_area</th>\n",
       "    </tr>\n",
       "  </thead>\n",
       "  <tbody>\n",
       "    <tr>\n",
       "      <th>0</th>\n",
       "      <td>12</td>\n",
       "      <td>1</td>\n",
       "      <td>28</td>\n",
       "      <td>4.248495</td>\n",
       "      <td>1.098612</td>\n",
       "      <td>2.708050</td>\n",
       "      <td>4.248495</td>\n",
       "      <td>1.098612</td>\n",
       "      <td>2.708050</td>\n",
       "    </tr>\n",
       "    <tr>\n",
       "      <th>1</th>\n",
       "      <td>12</td>\n",
       "      <td>1</td>\n",
       "      <td>28</td>\n",
       "      <td>3.891820</td>\n",
       "      <td>3.663562</td>\n",
       "      <td>2.564949</td>\n",
       "      <td>3.891820</td>\n",
       "      <td>3.663562</td>\n",
       "      <td>2.564949</td>\n",
       "    </tr>\n",
       "    <tr>\n",
       "      <th>2</th>\n",
       "      <td>12</td>\n",
       "      <td>-1</td>\n",
       "      <td>36</td>\n",
       "      <td>3.135494</td>\n",
       "      <td>2.197225</td>\n",
       "      <td>2.197225</td>\n",
       "      <td>3.135494</td>\n",
       "      <td>2.197225</td>\n",
       "      <td>2.197225</td>\n",
       "    </tr>\n",
       "    <tr>\n",
       "      <th>3</th>\n",
       "      <td>11</td>\n",
       "      <td>1</td>\n",
       "      <td>39</td>\n",
       "      <td>2.708050</td>\n",
       "      <td>2.484907</td>\n",
       "      <td>1.098612</td>\n",
       "      <td>2.708050</td>\n",
       "      <td>2.484907</td>\n",
       "      <td>1.098612</td>\n",
       "    </tr>\n",
       "    <tr>\n",
       "      <th>4</th>\n",
       "      <td>10</td>\n",
       "      <td>-1</td>\n",
       "      <td>21</td>\n",
       "      <td>0.000000</td>\n",
       "      <td>1.791759</td>\n",
       "      <td>1.098612</td>\n",
       "      <td>0.000000</td>\n",
       "      <td>1.791759</td>\n",
       "      <td>1.098612</td>\n",
       "    </tr>\n",
       "  </tbody>\n",
       "</table>\n",
       "</div>"
      ],
      "text/plain": [
       "   valor_educacion  sexo  edad  vist_tipo_de_trabajo  vist_nivel_laboral  \\\n",
       "0               12     1    28              4.248495            1.098612   \n",
       "1               12     1    28              3.891820            3.663562   \n",
       "2               12    -1    36              3.135494            2.197225   \n",
       "3               11     1    39              2.708050            2.484907   \n",
       "4               10    -1    21              0.000000            1.791759   \n",
       "\n",
       "   vist_nombre_area  post_tipo_de_trabajo  post_nivel_laboral  \\\n",
       "0          2.708050              4.248495            1.098612   \n",
       "1          2.564949              3.891820            3.663562   \n",
       "2          2.197225              3.135494            2.197225   \n",
       "3          1.098612              2.708050            2.484907   \n",
       "4          1.098612              0.000000            1.791759   \n",
       "\n",
       "   post_nombre_area  \n",
       "0          2.708050  \n",
       "1          2.564949  \n",
       "2          2.197225  \n",
       "3          1.098612  \n",
       "4          1.098612  "
      ]
     },
     "execution_count": 51,
     "metadata": {},
     "output_type": "execute_result"
    }
   ],
   "source": [
    "dfix = df.loc[:,cols]\n",
    "dfix.head()"
   ]
  },
  {
   "cell_type": "code",
   "execution_count": 52,
   "metadata": {},
   "outputs": [
    {
     "name": "stdout",
     "output_type": "stream",
     "text": [
      "Index(['valor_educacion', 'sexo', 'edad', 'vist_tipo_de_trabajo',\n",
      "       'vist_nivel_laboral', 'vist_nombre_area', 'post_tipo_de_trabajo',\n",
      "       'post_nivel_laboral', 'post_nombre_area'],\n",
      "      dtype='object')\n",
      "0.7251719469049557\n"
     ]
    }
   ],
   "source": [
    "X = np.array(dfix)\n",
    "y = np.array(df['se_postulo']) \n",
    "\n",
    "clf = make_pipeline(preprocessing.QuantileTransformer(),  PCA(n_components=1), \n",
    "                    MLPClassifier(solver='lbfgs', alpha=1e-5,hidden_layer_sizes=(5, 2), random_state=1)\n",
    "                   )\n",
    "\n",
    "X_train, X_test, y_train, y_test = train_test_split(X, y, test_size=0.1, random_state=7506)\n",
    "clf.fit(X_train, y_train)   \n",
    "\n",
    "print (cols)\n",
    "print (clf.score(X_test, y_test))\n",
    "\n",
    "del y\n",
    "del X_train\n",
    "del X_test \n",
    "del y_train\n",
    "del y_test"
   ]
  },
  {
   "cell_type": "code",
   "execution_count": 53,
   "metadata": {},
   "outputs": [],
   "source": [
    "# Index(['valor_educacion', 'sexo', 'edad', 'vist_tipo_de_trabajo',\n",
    "#        'vist_nivel_laboral', 'vist_nombre_area', 'post_tipo_de_trabajo',\n",
    "#        'post_nivel_laboral', 'post_nombre_area'],\n",
    "#       dtype='object')\n",
    "# 0.7427826299126615"
   ]
  },
  {
   "cell_type": "code",
   "execution_count": 54,
   "metadata": {},
   "outputs": [],
   "source": [
    "# Index(['valor_educacion', 'sexo', 'edad', 'vist_tipo_de_trabajo',\n",
    "#        'vist_nivel_laboral', 'vist_nombre_area', 'post_tipo_de_trabajo',\n",
    "#        'post_nivel_laboral', 'post_nombre_area'],\n",
    "#       dtype='object')\n",
    "# 0.7423145352641793"
   ]
  },
  {
   "cell_type": "code",
   "execution_count": 55,
   "metadata": {},
   "outputs": [],
   "source": [
    "X_full_data = X\n",
    "pred_full_data = clf.predict(X_full_data)\n",
    "df['sepostulo'] = pred_full_data"
   ]
  },
  {
   "cell_type": "code",
   "execution_count": 56,
   "metadata": {},
   "outputs": [],
   "source": [
    "top100_full = pd.read_csv(\"../test_final_100k.csv\", encoding='utf-8')\n",
    "top100_full = pd.merge(top100_full, df[['idaviso', 'idpostulante', 'sepostulo']], how='left', on=['idaviso','idpostulante'])\n",
    "top100_full = top100_full[['id', 'sepostulo']]"
   ]
  },
  {
   "cell_type": "code",
   "execution_count": 57,
   "metadata": {},
   "outputs": [],
   "source": [
    "top100_full.drop_duplicates(inplace=True)"
   ]
  },
  {
   "cell_type": "code",
   "execution_count": 58,
   "metadata": {},
   "outputs": [
    {
     "data": {
      "text/plain": [
       "(46939, 2)"
      ]
     },
     "execution_count": 58,
     "metadata": {},
     "output_type": "execute_result"
    }
   ],
   "source": [
    "top100_full[top100_full['sepostulo'] == 1].shape"
   ]
  },
  {
   "cell_type": "code",
   "execution_count": 59,
   "metadata": {},
   "outputs": [
    {
     "data": {
      "text/plain": [
       "(53061, 2)"
      ]
     },
     "execution_count": 59,
     "metadata": {},
     "output_type": "execute_result"
    }
   ],
   "source": [
    "top100_full[top100_full['sepostulo'] == 0].shape"
   ]
  },
  {
   "cell_type": "code",
   "execution_count": 60,
   "metadata": {},
   "outputs": [
    {
     "data": {
      "text/plain": [
       "(0, 2)"
      ]
     },
     "execution_count": 60,
     "metadata": {},
     "output_type": "execute_result"
    }
   ],
   "source": [
    "top100_full[top100_full['sepostulo'] == -1].shape"
   ]
  },
  {
   "cell_type": "code",
   "execution_count": 61,
   "metadata": {},
   "outputs": [],
   "source": [
    "top100_full.to_csv('../data/adri_data/top100k_QuantileTransformer_PCA1_Perceptron_Set19_pp_2.csv', encoding='utf-8', index=False)"
   ]
  },
  {
   "cell_type": "code",
   "execution_count": null,
   "metadata": {},
   "outputs": [],
   "source": []
  },
  {
   "cell_type": "code",
   "execution_count": null,
   "metadata": {},
   "outputs": [],
   "source": [
    "df.loc[df['sepostulo']==0,cols ]"
   ]
  },
  {
   "cell_type": "code",
   "execution_count": null,
   "metadata": {},
   "outputs": [],
   "source": [
    "df.loc[df['sepostulo']==1,cols ]"
   ]
  }
 ],
 "metadata": {
  "kernelspec": {
   "display_name": "Python 3",
   "language": "python",
   "name": "python3"
  },
  "language_info": {
   "codemirror_mode": {
    "name": "ipython",
    "version": 3
   },
   "file_extension": ".py",
   "mimetype": "text/x-python",
   "name": "python",
   "nbconvert_exporter": "python",
   "pygments_lexer": "ipython3",
   "version": "3.6.4"
  }
 },
 "nbformat": 4,
 "nbformat_minor": 2
}
